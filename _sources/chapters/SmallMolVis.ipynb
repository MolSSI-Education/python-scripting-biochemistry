{
 "cells": [
  {
   "cell_type": "markdown",
   "id": "739f4a0d-a082-417a-a983-225798383b06",
   "metadata": {},
   "source": [
    "# Viewing Small Molecules in iCN3D\n",
    "\n",
    "While most people use iCN3D to view proteins and other macromolecular structures, it can also be used to explore small molecules of interest. The simplest way to do this is to find the small molecule on [PubChem](https://pubchem.ncbi.nlm.nih.gov/), capture its unique identifier and modify the iCN3D code we have used so far, replacing `mmdbid` or `pdbid` with `cid`.\n",
    "\n",
    "Here is the [PubChem Search Page for ATP](https://pubchem.ncbi.nlm.nih.gov/) page which contains 231 compounds. \n",
    "![ATP Search Results](images/PubChem_ATP_231.png \"ATP Search Results\")\n",
    "\n",
    "Explore the page to find the line that says, **Compound CID: 644208**. The number **644208** is the critical piece of information. If PubChem contains a 3D version of this molecule, you can view it in iCN3D.\n"
   ]
  },
  {
   "cell_type": "code",
   "execution_count": 1,
   "id": "ef33b2c7-1613-430f-8b75-b954186115c6",
   "metadata": {},
   "outputs": [
    {
     "data": {
      "text/plain": [
       "'/Users/pac8612/Desktop/python-scripting-biochemistry/biochemist-python/chapters'"
      ]
     },
     "execution_count": 1,
     "metadata": {},
     "output_type": "execute_result"
    }
   ],
   "source": [
    "import os\n",
    "os.getcwd()"
   ]
  },
  {
   "cell_type": "code",
   "execution_count": null,
   "id": "0f72f8f2-d478-4c46-a3cc-0a1508d310f1",
   "metadata": {},
   "outputs": [],
   "source": []
  }
 ],
 "metadata": {
  "kernelspec": {
   "display_name": "Python 3",
   "language": "python",
   "name": "python3"
  },
  "language_info": {
   "codemirror_mode": {
    "name": "ipython",
    "version": 3
   },
   "file_extension": ".py",
   "mimetype": "text/x-python",
   "name": "python",
   "nbconvert_exporter": "python",
   "pygments_lexer": "ipython3",
   "version": "3.8.8"
  }
 },
 "nbformat": 4,
 "nbformat_minor": 5
}
