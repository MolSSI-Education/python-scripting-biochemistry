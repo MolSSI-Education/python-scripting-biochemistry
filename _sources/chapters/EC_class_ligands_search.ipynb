{
 "cells": [
  {
   "cell_type": "markdown",
   "id": "366dc262-7b8c-4ffa-bf9b-d356a91a3694",
   "metadata": {},
   "source": [
    "# Enzyme Commission Class with Ligands\n",
    "\n",
    "\n",
    "`````{admonition} Overview\n",
    ":class: overview\n",
    "\n",
    "Questions\n",
    "\n",
    "* How are enzymes classified?\n",
    "\n",
    "* How can I search the PDB for ligands that bind to a specific enzyme class?\n",
    "\n",
    "\n",
    "Objectives\n",
    "\n",
    "* Understand the hierarchical classification of enzymes using the Enzyme Commission (EC) system.\n",
    "\n",
    "* Use the RCSB Search API to find ligands that bind to a specific enzyme class.\n",
    "\n",
    "`````\n",
    "\n",
    "Enzymes are biological catalysts and most enzymes are proteins (at least that's our current thinking). \n",
    "To systematize the study of enzymes, IUPAC (the International Union of Pure and Applied Chemistry) has organized enzymes in a hierarchical class structure, with 7 top level classes and a total of 4 levels in the hierarchy. \n",
    "\n",
    "These classes are called the Enzyme Commission (EC) classes, and the hierarchy is called the EC system.\n",
    "Each enzyme is assigned an EC number based on the type of reaction it catalyzes.\n",
    "In this notebook, we will use the RCSB Search API to find ligands that bind to a specific enzyme class.\n",
    "\n",
    "## The 7 Enzyme Classes\n",
    "\n",
    "The [BRENDA Enzyme Database](https://www.brenda-enzymes.org/) contains detailed information about enzymes and includes a [browser tree for enzyme classes](https://www.brenda-enzymes.org/ecexplorer.php?browser=1). The 7 major classes of enzymes on the top level of the tree are\n",
    "1. Oxidoreductases\n",
    "1. Transferases\n",
    "1. Hydrolases\n",
    "1. Lyases\n",
    "1. Isomerases\n",
    "1. Ligases\n",
    "1. Translocases\n",
    "\n",
    "On the [BRENDA Home Page](https://www.brenda-enzymes.org/index.php), you can search for an enzyme by name and find its Enzyme Commision (EC) number, and a lot more detail as well. \n",
    "The first image below is the search for the enzyme HMG CoA Reductase, the control point for cholesterol synthesis. \n",
    "The second image shows the initial results page, which includes the EC number. \n",
    "\n",
    "![The BRENDA Home Page](images/BRENDA_Home_Page_search_for_HMG-CoA_Reductase.png)\n",
    "\n",
    "![BRENDA Search Results](images/BRENDA_HMG-CoA_Reductase_search.png)\n",
    "\n",
    "In this notebook, we will focus on trypsin, an enzyme produced by your pancreas that helps to digest proteins in your small intestine. It is a member of family called serine hydrolases. Members of this family use water to break bonds in proteins, lipids and carbohydrates. They are involved in digestion, cell signalling and blood clotting. The EC# for trypsin is 3.4.21.4. Here is the meaning of each level of the hierarchy:\n",
    "\n",
    "* 3 - Hydrolase\n",
    "* 3.4 - acting on peptide bonds\n",
    "* 3.4.21 - serine endopeptidase\n",
    "* 3.4.21.4 - trypsin\n",
    "\n",
    "This notebook is intended to help users find ligands for use with docking studies. \n",
    "We are looking for ligands that will bind to trypsin, with the intention of seeing if they will bind to other serine hydrolases that might be interesting. Here are the steps we will follow in the process, all of which will employ the `rcsbsearchapi` package. \n",
    "\n",
    "1. Find PDB structures of a given Enzyme Commission class.\n",
    "2. Select those structures that contain bound small molecules with molecular weights between 300 and 600.\n",
    "3. Output a list of those ligands\n",
    "4. Save the ligand structures to the \"ligands_for_EC_class_#\" folder.\n",
    "\n",
    "Text (actually markdown) cells will be inserted to explain each step."
   ]
  },
  {
   "cell_type": "markdown",
   "id": "d56616c4",
   "metadata": {},
   "source": [
    "### Libraries for the IQB workshop\n",
    "\n",
    "| Library         | abbreviation | Purpose |\n",
    "|:-------------|:---------:|:------------|\n",
    "| rcsbsearchapi | N/A      | functions for searching the Protein Data Bank based on the mmCIF dictionary |\n",
    "| os           | N/A      | operating system functions - handling file paths and directories. |\n",
    "| requests     | N/A  | access APIs for databases |\n",
    "| rdkit | rdkit | an open source github repository of cheminformatics software|\n",
    "| rdkit.Chem | Chem | a subset of rdkit that supports file string to structure conversions |\n",
    "| rdkit.Chem.AllChem | AllChem | a subset of rdkit.Chem that supports energy optimization |\n",
    "| rdkit.Chem.Draw | Draw | a subset of rdkit that supports chemical drawing in Python |\n",
    "| vina | vina | AutoDock Vina software for Python and Jupyter notebooks |\n",
    "\n"
   ]
  },
  {
   "cell_type": "code",
   "execution_count": 1,
   "id": "7f7f7135",
   "metadata": {},
   "outputs": [],
   "source": [
    "# Import the components of rcsbsearchapi needed for this search\n",
    "from rcsbsearchapi import rcsb_attributes as attrs"
   ]
  },
  {
   "cell_type": "markdown",
   "id": "e82f729a",
   "metadata": {},
   "source": [
    "## Making queries\n",
    "To make a query with `rcsbsearchapi` you first must know what you are looking for. I find it helpful to actually write this out by hand sometimes. Here are the characteristics I am looking for in ligands that bind to a specific Enzyme Commission Class of a protein.\n",
    "- EC Class. I will focus on the EC class for trypsin, 3.4.21.4, but any class should work.\n",
    "- Ligands. I am looking for ligands that are larger than a single atom (e.g., potassium ion) or a buffer molecule (phosphate), but of a size that consists of 10-30 heavy atoms, so I will aim for a molecular weight between 300 and 800.\n",
    "\n",
    "Please note that you can use this interface to search for dozens of attributes associated with a PDB entry. The attribute that we will use to look for proteins that have the EC# = 3.4.21.4 is `rcsb_polymer_entity.rcsb_ec_lineage.id`. Other searchable attributes include the abbreviated journal title for the primary citation, `rcsb_primary_citation.rcsb_journal_abbrev`, the method used to determine the structure `exptl.method`, or specific molecules that are part of PDB entries `pdbx_reference_molecule.class'.  "
   ]
  },
  {
   "cell_type": "code",
   "execution_count": 2,
   "id": "e331ecd9",
   "metadata": {},
   "outputs": [
    {
     "name": "stdout",
     "output_type": "stream",
     "text": [
      "['1AQ7', '1AUJ', '1AZ8', '1BJV', '1BTW', '1BTX', '1BTZ', '1C1S', '1C1T', '1C2D']\n"
     ]
    },
    {
     "data": {
      "text/plain": [
       "180"
      ]
     },
     "execution_count": 2,
     "metadata": {},
     "output_type": "execute_result"
    }
   ],
   "source": [
    "# There will be three components to the query, which will be labeled q1, q2 and q3.\n",
    "\n",
    "ECnumber = \"3.4.21.4\"     # We will use this variable again later\n",
    "\n",
    "q1 = attrs.rcsb_polymer_entity.rcsb_ec_lineage.id == ECnumber  # looking for trypsins\n",
    "q2 = attrs.chem_comp.formula_weight >= 300                       # setting the lower limit for molecular weight\n",
    "q3 = attrs.chem_comp.formula_weight <= 800                       # setting the upper limit for molecular weight\n",
    "\n",
    "query = q1 & q2 & q3              # combining the three queries into one\n",
    "\n",
    "resultL = list(query())           # assign the results of the query to a list variable\n",
    "\n",
    "print(resultL[0:10])              # list the first 10 results\n",
    "\n",
    "len(resultL)"
   ]
  },
  {
   "cell_type": "markdown",
   "id": "0ed18350",
   "metadata": {},
   "source": [
    "### Finding the ligands\n",
    "\n",
    "This query provided the list of the PDB entries for trypsins (EC # 3.4.21.4) that contain ligands between 300 and 800 molecular weight.\n",
    "We printed the first 10 of these results using `print(resultL[0:10])`. \n",
    "\n",
    "Why would we choose to have ligands with molecular weights between 300 and 800? We are interested in molecules that are large enough to bind to and fill up the active site of trypsin. Small molecules with molecular weights less than 300 are likely to be individual ions (K<sup>+</sup> or Na<sup>+</sup>). Molecules with molecular weights greater than 800 will fill more than the active site of an enzyme. \n",
    "\n",
    "Here is an image of one of the ligands from the search that we're going to learn to download. It is identified in the Protein Data Bank as 13U. As a group we will look at some of the features that make this ligand interesting. \n",
    "\n",
    "![PDB Entry 13U](images/13U.svg)\n",
    "\n",
    "The last statement in the previous cell\n",
    "\n",
    "`len(resultL)`\n",
    "\n",
    "tells us how many PDB entries have ligands of that size. The default return item for the query is `structure`, which provides the four character alphanumeric entry for the full structure in the PDB. We want to identify and download the ligands that are bound to these PDB structures, so we need to switch return types. \n",
    "\n",
    "To get the ligand, instead of returning the `structure`, we will request a return type of `mol_definition` which will then return the three character alphanumeric entry for the ligand. Other possible return types are `polymer entities`, `assemblies`, and `non-polymer entities`.\n"
   ]
  },
  {
   "cell_type": "code",
   "execution_count": 3,
   "id": "b4d77b9e",
   "metadata": {},
   "outputs": [
    {
     "name": "stdout",
     "output_type": "stream",
     "text": [
      "There are 112 ligands for EC Number 3.4.21.4 in this list. Here is a list of the first 10 ligands.\n"
     ]
    },
    {
     "data": {
      "text/plain": [
       "['0CA', '0CB', '0KV', '0ZG', '0ZW', '0ZX', '0ZY', '10U', '11U', '12U']"
      ]
     },
     "execution_count": 3,
     "metadata": {},
     "output_type": "execute_result"
    }
   ],
   "source": [
    "molResultL = list(query(\"mol_definition\"))\n",
    "print(\"There are\",len(molResultL), \"ligands for EC Number\", ECnumber, \"in this list. Here is a list of the first 10 ligands.\")\n",
    "molResultL[0:10]"
   ]
  },
  {
   "cell_type": "markdown",
   "id": "574485df",
   "metadata": {},
   "source": [
    "### Where can we go to download the ligand files?\n",
    "\n",
    "To download the files for ligands bound to trypsin in the RCSB PDB, execute the two cells above for finding the trypsin ligands. This will reset the results to the ones we want.\n",
    "\n",
    "Once this is done, the next step is to determine exactly what we want to download. These ligand files in the PDB are avaiable for download in several formats. A full list and description can be found in the [Small Molecule File table](https://www.rcsb.org/docs/programmatic-access/file-download-services#small-molecule-files) on the [RCSB PDB File Download Services page](https://www.rcsb.org/docs/programmatic-access/file-download-services), which is pasted in here.\n",
    "\n",
    "![Small molecule file formats that can be downloaded from the RCSB PDB](images/SmallMoleculeFilesTable.png \"a title\")\n",
    "\n",
    "From this table, we want the ligand files in mol2 format, which we will later convert to another format called `pdbqt` for docking."
   ]
  },
  {
   "cell_type": "markdown",
   "id": "2bbcbf11",
   "metadata": {},
   "source": [
    "### How do we download the ligand files?\n",
    "\n",
    "There are several options for downloading files - we will use a Python libary called `requests`. In the following cells, we will import the library, `requests`, download a single file from the RCSB PDB using the `requests.get` function, and check to make sure the file downloaded properly to the ligands folder. If that is successful, we'll use a `for` loop to download all of the files from our `molResultL` list to the ligands folder."
   ]
  },
  {
   "cell_type": "code",
   "execution_count": 4,
   "id": "ffb3d082",
   "metadata": {},
   "outputs": [],
   "source": [
    "import requests  # to enable us to pull files from the PDB\n",
    "import os        # to enable us to create a directory to store the files"
   ]
  },
  {
   "cell_type": "code",
   "execution_count": 5,
   "id": "9cbf3513",
   "metadata": {},
   "outputs": [],
   "source": [
    "# Download one of the files from our list: 11U.mol2\n",
    "\n",
    "res11U_mol2 = requests.get('https://files.rcsb.org/ligands/download/11U_ideal.mol2')"
   ]
  },
  {
   "cell_type": "code",
   "execution_count": 6,
   "id": "b7043e37",
   "metadata": {},
   "outputs": [
    {
     "data": {
      "text/plain": [
       "200"
      ]
     },
     "execution_count": 6,
     "metadata": {},
     "output_type": "execute_result"
    }
   ],
   "source": [
    "# check to see that the file downloaded properly. A status code of 200 means everything is okay.\n",
    "\n",
    "res11U_mol2.status_code"
   ]
  },
  {
   "cell_type": "code",
   "execution_count": 7,
   "id": "096a56da",
   "metadata": {},
   "outputs": [],
   "source": [
    "# To really be sure, let's look at the file one line at a time. First we write the downloaded content to a file.\n",
    "\n",
    "# make a ligands folder for our results\n",
    "os.makedirs(\"ligands\", exist_ok=True)\n",
    "\n",
    "with open(\"ligands/res11U.mol2\", \"w+\") as file:\n",
    "    file.write(res11U_mol2.text)"
   ]
  },
  {
   "cell_type": "code",
   "execution_count": 8,
   "id": "c9d9c2e4",
   "metadata": {},
   "outputs": [
    {
     "name": "stdout",
     "output_type": "stream",
     "text": [
      "@<TRIPOS>MOLECULE\n",
      "11U\n",
      "   59    61     0     0     0\n",
      "SMALL\n",
      "NO_CHARGES\n",
      "\n",
      "@<TRIPOS>ATOM\n",
      "      1 C1          2.4220    0.4070    0.3360 C.2       1 11U_ideal         0.0000\n",
      "      2 O1          2.0060   -0.6420    0.7800 O.2       1 11U_ideal         0.0000\n",
      "      3 C2          3.8690    0.5350   -0.0630 C.3       1 11U_ideal         0.0000\n",
      "      4 N1          4.5590   -0.7380    0.1810 N.3       1 11U_ideal         0.0000\n",
      "      5 C3          5.9760   -0.6510   -0.1970 C.3       1 11U_ideal         0.0000\n",
      "      6 C4          6.7790   -0.0680    0.9670 C.3       1 11U_ideal         0.0000\n",
      "      7 C5          8.2550    0.0240    0.5730 C.3       1 11U_ideal         0.0000\n",
      "      8 C6          8.7810   -1.3740    0.2400 C.3       1 11U_ideal         0.0000\n",
      "      9 C7          7.9780   -1.9570   -0.9250 C.3       1 11U_ideal         0.0000\n",
      "     10 C8          6.5020   -2.0480   -0.5310 C.3       1 11U_ideal         0.0000\n",
      "     11 N2          1.5890    1.4580    0.1990 N.am      1 11U_ideal         0.0000\n",
      "     12 C9          0.1600    1.4690    0.5420 C.3       1 11U_ideal         0.0000\n",
      "     13 C10        -0.5770    0.4580   -0.2980 C.2       1 11U_ideal         0.0000\n",
      "     14 O2          0.0270   -0.2120   -1.1080 O.2       1 11U_ideal         0.0000\n",
      "     15 C11        -0.3710    2.8880    0.2460 C.3       1 11U_ideal         0.0000\n",
      "     16 C12         0.9140    3.7560    0.2780 C.3       1 11U_ideal         0.0000\n",
      "     17 C13         1.9600    2.7850   -0.3250 C.3       1 11U_ideal         0.0000\n",
      "     18 N3         -1.9070    0.2990   -0.1490 N.am      1 11U_ideal         0.0000\n",
      "     19 C14        -2.6230   -0.6850   -0.9660 C.3       1 11U_ideal         0.0000\n",
      "     20 C15        -4.0860   -0.6660   -0.6070 C.ar      1 11U_ideal         0.0000\n",
      "     21 C16        -4.5620   -1.4980    0.3910 C.ar      1 11U_ideal         0.0000\n",
      "     22 C17        -5.9000   -1.4810    0.7270 C.ar      1 11U_ideal         0.0000\n",
      "     23 C18        -6.7750   -0.6300    0.0520 C.ar      1 11U_ideal         0.0000\n",
      "     24 C19        -8.2130   -0.6110    0.4050 C.2       1 11U_ideal         0.0000\n",
      "     25 N4         -9.0280    0.1840   -0.2270 N.2       1 11U_ideal         0.0000\n",
      "     26 N5         -8.6890   -1.4350    1.4020 N.pl3     1 11U_ideal         0.0000\n",
      "     27 C20        -6.2910    0.2030   -0.9560 C.ar      1 11U_ideal         0.0000\n",
      "     28 C21        -4.9490    0.1800   -1.2800 C.ar      1 11U_ideal         0.0000\n",
      "     29 H1          3.9330    0.7860   -1.1220 H         1 11U_ideal         0.0000\n",
      "     30 H2          4.3400    1.3220    0.5260 H         1 11U_ideal         0.0000\n",
      "     31 H3          4.4590   -1.0250    1.1430 H         1 11U_ideal         0.0000\n",
      "     32 H4          6.0800   -0.0050   -1.0690 H         1 11U_ideal         0.0000\n",
      "     33 H5          6.4040    0.9280    1.2050 H         1 11U_ideal         0.0000\n",
      "     34 H6          6.6750   -0.7130    1.8390 H         1 11U_ideal         0.0000\n",
      "     35 H7          8.8270    0.4390    1.4030 H         1 11U_ideal         0.0000\n",
      "     36 H8          8.3590    0.6690   -0.2990 H         1 11U_ideal         0.0000\n",
      "     37 H9          8.6770   -2.0190    1.1120 H         1 11U_ideal         0.0000\n",
      "     38 H10         9.8320   -1.3090   -0.0410 H         1 11U_ideal         0.0000\n",
      "     39 H11         8.3530   -2.9520   -1.1620 H         1 11U_ideal         0.0000\n",
      "     40 H12         8.0820   -1.3110   -1.7970 H         1 11U_ideal         0.0000\n",
      "     41 H13         6.3980   -2.6930    0.3420 H         1 11U_ideal         0.0000\n",
      "     42 H14         5.9300   -2.4630   -1.3600 H         1 11U_ideal         0.0000\n",
      "     43 H15         0.0300    1.2400    1.6000 H         1 11U_ideal         0.0000\n",
      "     44 H16        -1.0720    3.2080    1.0170 H         1 11U_ideal         0.0000\n",
      "     45 H17        -0.8360    2.9240   -0.7390 H         1 11U_ideal         0.0000\n",
      "     46 H18         1.1770    4.0280    1.3010 H         1 11U_ideal         0.0000\n",
      "     47 H19         0.8020    4.6440   -0.3440 H         1 11U_ideal         0.0000\n",
      "     48 H20         2.9630    3.0560    0.0040 H         1 11U_ideal         0.0000\n",
      "     49 H21         1.9020    2.7930   -1.4130 H         1 11U_ideal         0.0000\n",
      "     50 H22        -2.3900    0.8350    0.4990 H         1 11U_ideal         0.0000\n",
      "     51 H23        -2.5040   -0.4370   -2.0200 H         1 11U_ideal         0.0000\n",
      "     52 H24        -2.2160   -1.6780   -0.7780 H         1 11U_ideal         0.0000\n",
      "     53 H25        -3.8840   -2.1590    0.9100 H         1 11U_ideal         0.0000\n",
      "     54 H26        -6.2690   -2.1270    1.5090 H         1 11U_ideal         0.0000\n",
      "     55 H27        -9.9700    0.1960    0.0040 H         1 11U_ideal         0.0000\n",
      "     56 H28        -8.0820   -2.0270    1.8720 H         1 11U_ideal         0.0000\n",
      "     57 H29        -9.6310   -1.4220    1.6330 H         1 11U_ideal         0.0000\n",
      "     58 H30        -6.9630    0.8640   -1.4820 H         1 11U_ideal         0.0000\n",
      "     59 H31        -4.5730    0.8240   -2.0610 H         1 11U_ideal         0.0000\n",
      "@<TRIPOS>BOND\n",
      "     1    1   11 am\n",
      "     2   11   17 1\n",
      "     3   11   12 1\n",
      "     4    1    2 2\n",
      "     5    1    3 1\n",
      "     6   16   17 1\n",
      "     7   15   16 1\n",
      "     8   12   15 1\n",
      "     9   12   13 1\n",
      "    10   13   18 am\n",
      "    11   13   14 2\n",
      "    12   18   19 1\n",
      "    13   19   20 1\n",
      "    14   20   28 ar\n",
      "    15   20   21 ar\n",
      "    16   27   28 ar\n",
      "    17   23   27 ar\n",
      "    18   23   24 1\n",
      "    19   22   23 ar\n",
      "    20   24   25 2\n",
      "    21   24   26 1\n",
      "    22   21   22 ar\n",
      "    23    3    4 1\n",
      "    24    4    5 1\n",
      "    25    5   10 1\n",
      "    26    5    6 1\n",
      "    27    9   10 1\n",
      "    28    8    9 1\n",
      "    29    7    8 1\n",
      "    30    6    7 1\n",
      "    31    3   29 1\n",
      "    32    3   30 1\n",
      "    33   17   48 1\n",
      "    34   17   49 1\n",
      "    35   16   46 1\n",
      "    36   16   47 1\n",
      "    37   15   44 1\n",
      "    38   15   45 1\n",
      "    39   12   43 1\n",
      "    40   18   50 1\n",
      "    41   19   51 1\n",
      "    42   19   52 1\n",
      "    43   28   59 1\n",
      "    44   27   58 1\n",
      "    45   25   55 1\n",
      "    46   26   56 1\n",
      "    47   26   57 1\n",
      "    48   22   54 1\n",
      "    49   21   53 1\n",
      "    50    4   31 1\n",
      "    51    5   32 1\n",
      "    52   10   41 1\n",
      "    53   10   42 1\n",
      "    54    9   39 1\n",
      "    55    9   40 1\n",
      "    56    8   37 1\n",
      "    57    8   38 1\n",
      "    58    7   35 1\n",
      "    59    7   36 1\n",
      "    60    6   33 1\n",
      "    61    6   34 1\n",
      "\n"
     ]
    }
   ],
   "source": [
    "# Now we use these commands to read the file and make sure it downloaded properly. As an alternative, we\n",
    "# could go to the ligands folder in our Jupyter desktop and click on res11U.mol2 to make sure it looks correct.\n",
    "\n",
    "file1 = open('ligands/res11U.mol2', 'r')\n",
    "file_text = file1.read() # This reads in the file as a string.\n",
    "\n",
    "print(file_text)"
   ]
  },
  {
   "cell_type": "markdown",
   "id": "35352b4b",
   "metadata": {},
   "source": [
    "### Downloading all of the ligands using a for loop\n",
    "\n",
    "Now that we know that our process functions, we will use a `for` loop to download the entire list of ligands (all 112) in a single cell. Here are the steps we will take:\n",
    "\n",
    "1. Define a variable, baseUrl, for the URL where the ligand files are located. The URL only lacks the specific name of the ligand file.\n",
    "2. Set up a `for` loop to go through each of the items (as ChemID) in the molResultL list that was generated above.\n",
    "3. Assign the filename based on a variable (the 3-letter name of the ligand as ChemID followed by \\_ideal.mol2) to the variable cFile.\n",
    "4. Assign the full URL (as cFileUrl) that we want to use to download the data from the RCSB PDB API. Notice that the URL will consist of the baseUrl (defined in the first line of the cell) followed by the name of the file we just defined, which is now assigned to the variable, cFile. \n",
    "5. Tell the notebook that we want the file (CFileLocal) to be written to the ligands folder, using the os.path command.\n",
    "6. Use the API call via `requests.get` to download the data from the RCSB PDB.\n",
    "7. Write the file using the `with open` function.\n",
    "\n",
    "If all goes according to plan, this should download all of the ligands on our list to the ligands folder.\n"
   ]
  },
  {
   "cell_type": "code",
   "execution_count": 9,
   "id": "b85d927b",
   "metadata": {},
   "outputs": [],
   "source": [
    "baseUrl = \"https://files.rcsb.org/ligands/download/\"\n",
    "\n",
    "for ChemID in molResultL:\n",
    "    cFile = f\"{ChemID}_ideal.mol2\"\n",
    "    cFileUrl = baseUrl + cFile\n",
    "    cFileLocal = \"ligands/\" + cFile\n",
    "    response = requests.get(cFileUrl)\n",
    "    with open(cFileLocal, \"w+\") as file:\n",
    "        file.write(response.text)"
   ]
  },
  {
   "cell_type": "markdown",
   "id": "4cd52fb0",
   "metadata": {},
   "source": [
    "### Selected ligands\n",
    "\n",
    "For our next notebook, we are going to select and modify one of the ligands from the list. Any of them could be used, but we will be using [13U: N-cyclooctylglycyl-N-(4-carbamimidoylbenzyl)-L-prolinamide](https://www.rcsb.org/ligand/13U)."
   ]
  },
  {
   "cell_type": "markdown",
   "id": "26026341",
   "metadata": {},
   "source": [
    "### Exercise\n",
    "\n",
    "To go a bit deeper with these tools, use the [BRENDA Enzyme Database](https://www.brenda-enzymes.org/) to find the EC# for alcohol dehydrogenase (or look for an enzyme that interests you). How many structures have ligands with molecular weights between 400 and 700? How many unique ligands are bound to these structures? \n",
    "\n",
    "Note: You can enter only the upper levels of an EC Class to identify more ligands. This exercise can be repeated with any EC#. If you have time, try a broader search where you use only 2 or 3 levels, e.g., 3.4 or 3.4.21, and see what you find."
   ]
  },
  {
   "cell_type": "code",
   "execution_count": 10,
   "id": "8b9106d8",
   "metadata": {},
   "outputs": [
    {
     "name": "stdout",
     "output_type": "stream",
     "text": [
      "There are 173 structures from EC Number 1.1.1.1 that have bound ligands with molecular weights between 400 and 700).\n",
      "There are 11 unique ligands for structures with EC Number 1.1.1.1 in this list. Here is a list of the 11 ligands.\n"
     ]
    },
    {
     "data": {
      "text/plain": [
       "['022', 'APR', 'CHD', 'CND', 'COD', 'NAD', 'NAI', 'NAJ', 'PAD', 'TAD', 'WKZ']"
      ]
     },
     "execution_count": 10,
     "metadata": {},
     "output_type": "execute_result"
    }
   ],
   "source": [
    "### Solution\n",
    "\n",
    "ECnumber = \"1.1.1.1\"     # We will use this variable again later\n",
    "\n",
    "q1 = attrs.rcsb_polymer_entity.rcsb_ec_lineage.id == ECnumber  # looking for trypsins\n",
    "q2 = attrs.chem_comp.formula_weight >= 400                      # setting the lower limit for molecular weight\n",
    "q3 = attrs.chem_comp.formula_weight <= 700                     # setting the upper limit for molecular weight\n",
    "\n",
    "query = q1 & q2 & q3              # combining the three queries into one\n",
    "\n",
    "ResultL = list(query(\"entry\"))\n",
    "molResultL = list(query(\"mol_definition\"))\n",
    "print(\"There are\",len(ResultL), \"structures from EC Number\", ECnumber, \"that have bound ligands with molecular weights between 400 and 700).\")\n",
    "print(\"There are\",len(molResultL), \"unique ligands for structures with EC Number\", ECnumber, \"in this list. Here is a list of the\", len(molResultL), \"ligands.\")\n",
    "molResultL"
   ]
  },
  {
   "cell_type": "code",
   "execution_count": null,
   "id": "d94c9067",
   "metadata": {},
   "outputs": [],
   "source": []
  }
 ],
 "metadata": {
  "kernelspec": {
   "display_name": "Python 3 (ipykernel)",
   "language": "python",
   "name": "python3"
  },
  "language_info": {
   "codemirror_mode": {
    "name": "ipython",
    "version": 3
   },
   "file_extension": ".py",
   "mimetype": "text/x-python",
   "name": "python",
   "nbconvert_exporter": "python",
   "pygments_lexer": "ipython3",
   "version": "3.11.9"
  }
 },
 "nbformat": 4,
 "nbformat_minor": 5
}
