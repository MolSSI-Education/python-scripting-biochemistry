{
 "cells": [
  {
   "cell_type": "markdown",
   "metadata": {},
   "source": [
    "Processing Multiple Files and Writing Files\n",
    "=================================="
   ]
  },
  {
   "attachments": {},
   "cell_type": "markdown",
   "metadata": {},
   "source": [
    "``````{admonition} Overview\n",
    ":class: overview\n",
    "\n",
    "Questions: \n",
    "\n",
    "* How do I analyze multiple files at once?\n",
    "\n",
    "Objectives:\n",
    "\n",
    "* Import a python library.\n",
    "\n",
    "* Use python library funtions.\n",
    "\n",
    "* Process multiple files using a `for` loop.\n",
    "\n",
    "* Print output to a new text file.\n",
    "\n",
    "``````"
   ]
  },
  {
   "cell_type": "markdown",
   "metadata": {},
   "source": [
    "## Processing multiple files\n",
    "\n",
    "In our previous lesson, we parsed values from output files.  While you might have seen the utility of doing such a thing, you might have also wondered why we didn't just search the file and cut and paste the values we wanted into a spreadsheet.  If you only have 1 or 2 files, this might be a very reasonable thing to do.  But what if you had 100 files to analyze?  What if you had 1000?  In such a case the cutting and pasting method would be very tedious and time consuming.  \n",
    "\n",
    "One of the real powers of writing a program to analyze your data is that you can just as easily analyze 100 files as 1 file.  In this example, we are going to parse the PDB files for a series of enzyme structures in the [Protein Data Bank](https://www.rcsb.org/) and extract resolution data and atom counts for each one.  The PDB files are all saved in a folder called PDB_files that you should have downloaded in the setup for this lesson.  Make sure the folder is in the same directory as the directory where you are writing and executing your code.\n",
    "\n",
    "To analyze multiple files, we will need to import a python **library**.  A **library** is a set of modules which contain functions. The functions within a library or module are usually related to one another. Using libraries in Python reduces the amount of code you have to write. In the last lesson, we imported `os.path`, which was a module that handled filepaths for us.\n",
    "\n",
    "In this lesson, we will be using the `glob` library, which will help us read in multiple files from our computer.  Within a library there are modules and functions which do a specific computational task.  Usually a function has some type of input and gives a particular output.  To use a function that is in a library, you often use the dot notation introduced earlier.\n",
    "\n",
    "```python\n",
    "import library_name\n",
    "output = library_name.function_name(input)\n",
    "```"
   ]
  },
  {
   "cell_type": "markdown",
   "metadata": {},
   "source": [
    "### Importing libraries\n",
    "\n",
    "We are going to import two libraries.  One is the `os` library which controls functions related to the operating system of your computer. We used this library in the last lesson to handle filepaths.  The other is the `glob` library which contains functions to help us analyze multiple files.  If we are going to analyze multiple files, we first need to specify where those files are located."
   ]
  },
  {
   "attachments": {},
   "cell_type": "markdown",
   "metadata": {},
   "source": [
    "\n",
    "``````{admonition} Check Your Understanding\n",
    ":class: exercise\n",
    "How would you use the `os.path` module to point to the directory where your PDB files are located?\n",
    "    \n",
    "```{admonition} Solution\n",
    ":class: solution dropdown\n",
    "\n",
    "```python\n",
    "    \n",
    "    outfile = os.path.join('data', 'PDB_files')    \n",
    "```\n",
    "`````` "
   ]
  },
  {
   "cell_type": "markdown",
   "metadata": {},
   "source": [
    "In order to get all of the files which match a specific pattern, we will use the wildcard character `*`."
   ]
  },
  {
   "cell_type": "code",
   "execution_count": null,
   "metadata": {},
   "outputs": [],
   "source": [
    "import os\n",
    "file_location = os.path.join('data', 'PDB_files', '*.pdb')\n",
    "print(file_location)"
   ]
  },
  {
   "cell_type": "markdown",
   "metadata": {},
   "source": [
    "This specifies that we want to look for all the files in a directory called `data/PDB_files` that end in \".pdb\".  The * is the wildcard character which matches any character or series of characters.  \n",
    "\n",
    "Next we are going to use a function called `glob` in the library called `glob`.  It is a little confusing since the function and the library have the same name, but we will see other examples where this is not the case later.  The output of the function `glob` is a list of all the filenames that fit the pattern specified in the input.   The input is the file location.\n"
   ]
  },
  {
   "cell_type": "code",
   "execution_count": null,
   "metadata": {},
   "outputs": [],
   "source": [
    "import glob\n",
    "filenames = glob.glob(file_location)\n",
    "print(filenames)"
   ]
  },
  {
   "cell_type": "markdown",
   "metadata": {},
   "source": [
    "### Reading multiple files with nested for loops\n",
    "\n",
    "Now you have a list of all the files which end in `*.pdb` in the `PDB_files` directory. To parse every file we just read in, we will use a `for` loop to go through each file."
   ]
  },
  {
   "cell_type": "code",
   "execution_count": null,
   "metadata": {},
   "outputs": [],
   "source": [
    "for f in filenames:\n",
    "    with open(f, 'r') as outfile:\n",
    "        data = outfile.readlines()\n",
    "        \n",
    "    for line in data:\n",
    "        if 'RESOLUTION.' in line:\n",
    "            res_line = line\n",
    "            words = res_line.split()\n",
    "            resolution = float(words[3])\n",
    "            print(resolution)"
   ]
  },
  {
   "cell_type": "markdown",
   "metadata": {},
   "source": [
    "Notice that in this code we actually used two `for` loops, one nested inside the other.  The outer `for` loop counts over the filenames we read in earlier.  The inner `for` loop counts over the lines in each file, just as we did in our previous file parsing lesson.  \n",
    "\n",
    "The output our code currently generates is not that useful.  It doesn't show us which file each resolution value came from.  \n",
    "\n",
    "We want to print the name of the molecule with the resolution. We can use `os.path.basename`, which is another function in `os.path` to get just the name of the file."
   ]
  },
  {
   "cell_type": "code",
   "execution_count": null,
   "metadata": {},
   "outputs": [],
   "source": [
    "first_file = filenames[0] # look above to recall the content of filenames\n",
    "print(first_file)\n",
    "\n",
    "file_name = os.path.basename(first_file)\n",
    "print(file_name) "
   ]
  },
  {
   "attachments": {},
   "cell_type": "markdown",
   "metadata": {},
   "source": [
    "``````{admonition} Check your understanding\n",
    ":class: exercise\n",
    "\n",
    "How would you extract the PDB ID from the example above?\n",
    "\n",
    "```{admonition} Solution\n",
    ":class: solution dropdown\n",
    "\n",
    "You can use the str.split function introduced in the last lesson, and split at the '.' character.\n",
    "\n",
    "split_filename = file_name.split('.')  \n",
    "molecule_name = split_filename[0]  \n",
    "print(molecule_name)  \n",
    "```\n",
    "``````"
   ]
  },
  {
   "cell_type": "markdown",
   "metadata": {},
   "source": [
    "Using the solution above, we can modify our loop so that it prints the file name along with each resolution value."
   ]
  },
  {
   "cell_type": "code",
   "execution_count": null,
   "metadata": {},
   "outputs": [],
   "source": [
    "for f in filenames:\n",
    "    # Get the PDB ID\n",
    "    file_name = os.path.basename(f)\n",
    "    split_filename = file_name.split('.')\n",
    "    molecule_name = split_filename[0]\n",
    "\n",
    "    # Read the data\n",
    "    with open(f,\"r\") as outfile:\n",
    "        data = outfile.readlines()\n",
    "\n",
    "    # Loop through the data\n",
    "    for line in data:\n",
    "        if 'RESOLUTION.' in line:\n",
    "            res_line = line\n",
    "            words = res_line.split()\n",
    "            resolution = float(words[3])\n",
    "            print(molecule_name, \": \", resolution, \" Angstroms\", sep = \"\")"
   ]
  },
  {
   "cell_type": "markdown",
   "metadata": {},
   "source": [
    "## Printing to a File\n",
    "Finally, it might be useful to print our results in a new file, such that we could share our results with colleagues or e-mail them to our advisors.  Much like when we read in a file, the first step to writing output to a file is opening that file for writing.  In general, to open a file for writing you have two options. The first is uses the `open` command.\n",
    "\n",
    "```python\n",
    "filehandle = open('file_name.txt', 'w+'):\n",
    "take some actions\n",
    "use filehandle.write('content') to the file\n",
    "filehandle.close()\n",
    "```\n",
    "\n",
    "The filehandle.close() command is very important here. Think about a computer as someone who has a very good memory, but is very slow at writing. Therefore, when you tell the computer to write a line, it remembers what you want it to write, but it doesn't actually write the new file until you tell it you are finished. The datafile.close() command tells the computer you are finished giving it lines to write and that it should go ahead and write the file now. If you are trying to write a file and the file keeps coming up empty, it is probably because you forgot to close the file."
   ]
  },
  {
   "cell_type": "markdown",
   "metadata": {},
   "source": [
    "The second (preferred) approach in python is to use the `with` context manager that we have already used for reading a file. The advantage to this approach is that all of the steps that generate input for the file are indented under the initial `with` statement and the file closes automatically when all of the actions indented beneath the `with` statement are completed.\n",
    "\n",
    "```python\n",
    "with open('file_name.txt', 'w') as filehandle:\n",
    "    take some actions\n",
    "    use filehandle.write('content') to add content to the file\n",
    "```\n",
    "\n",
    "Let's examine the syntax of the `with` statement.\n",
    "\n",
    "```python\n",
    "with open('file_name.txt', 'w') as filehandle:\n",
    "```\n",
    "The `w` instructs python to open the file for writing.  If you use `w+` that means open the file for writing and if the file does not exist, create it.  You can also use `a` for append to an existing file or `a+`.  The difference between `w+` and `a+` is that `w+` will overwrite the file if it already exists, whereas `a+` will keep what is already there and just add additional text to the file.  \n",
    "\n",
    "Python can only write strings to files.  In the next cell, we want to print the contents of two variables, `molecule_name` and `resolution`.  To convert what we have now to a string, you place a capital **F** in front of the line you want to print and enclose the content to be printed in single quotes.  Each python variable is placed in braces `{}`. Then you can either print the line (as we have done before) or you can use the `filehandle.write()` command to print it to a file.\n",
    "\n",
    "To make the printing neater, we will separate the PDB ID from the resolution using a tab. To insert a tab, we use the special character `\\t`."
   ]
  },
  {
   "cell_type": "code",
   "execution_count": null,
   "metadata": {},
   "outputs": [],
   "source": [
    "with open('resolutions.txt', 'w+') as datafile:\n",
    "    for f in filenames:\n",
    "        # Get the PDB ID\n",
    "        file_name = os.path.basename(f)\n",
    "        split_filename = file_name.split('.')\n",
    "        molecule_name = split_filename[0]\n",
    "        \n",
    "        # Read the data\n",
    "        with open(f,\"r\") as outfile:\n",
    "            data = outfile.readlines()  \n",
    "            \n",
    "        # Loop through the data\n",
    "        for line in data:\n",
    "            if 'RESOLUTION.' in line:\n",
    "                res_line = line\n",
    "                words = res_line.split()\n",
    "                resolution = float(words[3])\n",
    "                datafile.write(F'{molecule_name} \\t {resolution} \\n')"
   ]
  },
  {
   "cell_type": "markdown",
   "metadata": {},
   "source": [
    "After you run this command, look in the directory where you ran your code and find the \"resolutions.txt\" file.  Open it in a text editor and look at the file.\n",
    "\n",
    "In the file writing line, notice the `\\n` at the end of the line.  This is the newline character.  Without it, the text in our file would just be all smushed together on one line. "
   ]
  },
  {
   "cell_type": "markdown",
   "metadata": {},
   "source": [
    "## A final note about string formatting\n",
    "The F'string' notation that you can use with the print or the write command lets you format strings in many ways.  You could include other words or whole sentences.  For example, we could change the file writing line to\n",
    "\n",
    "`datafile.write(F'For the PDB ID {molecule_name} the resolution is {resolution} in Angstroms.')`\n",
    "\n",
    "where anything in the braces is a python variable and it will print the value of that variable. "
   ]
  },
  {
   "attachments": {},
   "cell_type": "markdown",
   "metadata": {},
   "source": [
    "``````{admonition} Project\n",
    ":class: exercise\n",
    "\n",
    "You can complete this project to test your skills. It should be completed when this material is used in a long workshop, or if you are working through this material independently.\n",
    "    \n",
    "The goal of this exercise is to extract the Enzyme Commission Class for a series of enzyme structures in PDB files and write them to a text file. The files are located in the `data/PDB_files` folder. If you open any of these files in a text editor and search for the term \"EC:\" you will find a listing that looks like this: \n",
    "    \n",
    "    COMPND   6 EC: 1.2.1.13;\n",
    "    \n",
    "You are probably familiar with these numbers, but just in case - the Enzyme Commission class tells you the function of an enzyme in a hierarchical format. You can learn more at the [BRENDA EC Explorer](https://www.brenda-enzymes.org/ecexplorer.php?browser=1&f[nodes]=21&f[action]=close&f[change]=21#21).  \n",
    "  \n",
    "**Your assignment** is to parse the files in the `data/PDB_files` folder and write a new file named `EC_class.txt` that contains the PDB ID and EC class for each of these enzymes. When you open the file in your text editor, it should look like this:\n",
    "\n",
    "7tim \t  5.3.1.1  \n",
    "6zt7 \t  3.2.1.55  \n",
    "5eu9 \t  4.2.1.11  \n",
    "3iva \t  2.1.1.13  \n",
    "2pkr \t  1.2.1.13  \n",
    "3vnd \t  4.2.1.20  \n",
    "5veu \t  1.14.14.1\n",
    "    \n",
    "```{admonition} Hint\n",
    ":class: solution dropdown\n",
    "It helps when you are writing code to break up what you have to do into steps. Overall, we want to get information from the file. How do we do that?\n",
    " \n",
    "If you think about the steps you will need to do this assignment you might come up with a list that is like this: \n",
    "\n",
    "1. Open the file for reading.\n",
    "1. Read the data in the file.\n",
    "1. Loop through the lines in the file.\n",
    "    1. Read the files to gain access to the information we want.\n",
    "    1. Extract the desired information and write it to a file.\n",
    "\n",
    "It can be helpful when you code to write out these steps and work on it in pieces. Try to write the code using these steps. Note that as you write the code, you may come up with other steps!  \n",
    "  \n",
    "First, think about what you have to do for step 1, and write the code for that. Next, think about how you would do step 2 and write the code for that. You can troubleshoot each step using print statments. \n",
    "  \n",
    "The steps build on each other, so you can work on getting each piece written before moving on to the next.  \n",
    "```\n",
    "\n",
    "```{admonition} Solution\n",
    ":class: solution dropdown\n",
    "\n",
    "```python\n",
    "with open ('EC_class.txt', 'w+') as datafile: #This opens the file for writing\n",
    "    for f in filenames:    # Get the PDB ID\n",
    "        file_name = os.path.basename(f)\n",
    "        split_filename = file_name.split('.')\n",
    "        molecule_name = split_filename[0]\n",
    "\n",
    "        # *Read the files to gain access to the information we want.*    \n",
    "        outfile = open(f,'r')\n",
    "        data = outfile.readlines()\n",
    "        outfile.close()\n",
    "\n",
    "        # *Extract the desired information and write it to a file.*\n",
    "\n",
    "        for line in data:\n",
    "            if 'EC:' in line:\n",
    "                ec_line = line\n",
    "                words1 = ec_line.split(';')    \n",
    "                # print(words1)\n",
    "                words2 = words1[0].split(':')\n",
    "                datafile.write(F'{molecule_name} \\t {words2[1]} \\n')\n",
    "```\n",
    "Notice that the datafile.close() command is not required because this solution employs the `with` context manager.\n",
    "``````"
   ]
  },
  {
   "attachments": {},
   "cell_type": "markdown",
   "metadata": {},
   "source": [
    "``````{admonition} Key Points\n",
    ":class: key\n",
    "\n",
    "* Use the glob function in the python library `glob` to find all the files you want to analyze.\n",
    "\n",
    "* You can have multiple `for` loops nested inside each other.\n",
    "\n",
    "* Python can only print strings to files.\n",
    "\n",
    "``````"
   ]
  },
  {
   "cell_type": "markdown",
   "metadata": {},
   "source": []
  }
 ],
 "metadata": {
  "kernelspec": {
   "display_name": "Python 3",
   "language": "python",
   "name": "python3"
  },
  "language_info": {
   "codemirror_mode": {
    "name": "ipython",
    "version": 3
   },
   "file_extension": ".py",
   "mimetype": "text/x-python",
   "name": "python",
   "nbconvert_exporter": "python",
   "pygments_lexer": "ipython3",
   "version": "3.8.8"
  }
 },
 "nbformat": 4,
 "nbformat_minor": 4
}
