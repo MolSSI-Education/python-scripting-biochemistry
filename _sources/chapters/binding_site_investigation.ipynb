{
 "cells": [
  {
   "cell_type": "markdown",
   "id": "224c908b-d8df-480f-8f50-351bb56df43b",
   "metadata": {},
   "source": [
    "# Visualizing the Binding Site of a Protein-Ligand Complex\n",
    "\n",
    "\n",
    "Learning Objectives\n",
    "\n",
    "* Use NGLView to view the 3D structure of our protein and ligand.\n",
    "* Prepare molecule structures using [PDQ2PQR](https://pdb2pqr.readthedocs.io/en/latest/) and [RDKit](https://www.rdkit.org/).\n",
    "* Analyze the interactions of the protein in the binding site using a 2D map and [ProLIF](https://prolif.readthedocs.io/en/stable/).\n",
    "\n",
    "Before we begin our docking calculations, we will likely want to investigate the binding site of our ligand of interest.\n",
    "We will want to look at the binding pocket and the interactions of the ligand with the protein residues.\n",
    "For the rest of our studies, we will choose the ligand [`13U`](https://www.rcsb.org/ligand/13U).\n",
    "A trypsin structure where this ligand is bound is 2ZQ2. \n",
    "\n",
    "## Downloading the Structure\n",
    "\n",
    "First we will need to download our protein structure. We will download [2ZQ2](https://www.rcsb.org/structure/2zq2), which is a trypsin structure with our ligand of interest bound.\n",
    "\n",
    "\n",
    "We will use a similar strategy to our last notebook for getting the file. \n",
    "We will use Python's request module and a URL from the Protein Data Bank."
   ]
  },
  {
   "cell_type": "code",
   "execution_count": 23,
   "id": "084d041c-6d26-4136-a3ff-2f5586c5ea26",
   "metadata": {},
   "outputs": [
    {
     "data": {
      "text/plain": [
       "200"
      ]
     },
     "execution_count": 23,
     "metadata": {},
     "output_type": "execute_result"
    }
   ],
   "source": [
    "import os # for making directories\n",
    "import requests\n",
    "\n",
    "# make a directory for pdb files\n",
    "os.makedirs(\"pdb\", exist_ok=True)\n",
    "\n",
    "pdb_id = \"2zq2\" # trypsin PDB file with ligand bound\n",
    "\n",
    "pdb_request = requests.get(f\"https://files.rcsb.org/download/{pdb_id}.pdb\")\n",
    "pdb_request.status_code"
   ]
  },
  {
   "cell_type": "markdown",
   "id": "7561518d-1b4d-4151-abf7-43dfe4293b3e",
   "metadata": {},
   "source": [
    "After downloading, we will write the text to a file."
   ]
  },
  {
   "cell_type": "code",
   "execution_count": 24,
   "id": "97d0596a-533f-4aa8-afb5-bb9d182788fd",
   "metadata": {},
   "outputs": [],
   "source": [
    "with open(f\"pdb/{pdb_id}.pdb\", \"w+\") as f:\n",
    "    f.write(pdb_request.text)"
   ]
  },
  {
   "cell_type": "markdown",
   "id": "b9aed828-500a-46bc-9a4e-9cd3b841c3f0",
   "metadata": {},
   "source": [
    "## View the structure\n",
    "\n",
    "Before we start to really work with our molecule, let's investigate the structure.\n",
    "We will use a library called MDAnalysis to first process our PDB, then visualize it with a library called NGLView.\n",
    "In the cell below, we define some convenience functions for NGLView.\n",
    "These are functions that the tutorial writers wrote for our protein ligand system.\n"
   ]
  },
  {
   "cell_type": "code",
   "execution_count": 25,
   "id": "1266c266-ab03-4aa9-b4b5-d097cbc9d5cf",
   "metadata": {},
   "outputs": [],
   "source": [
    "import math\n",
    "\n",
    "def rotate_view(view, x=0, y=0, z=0, degrees=True):\n",
    "    radians = 1\n",
    "    if degrees: radians = math.pi / 180\n",
    "    view.control.spin([1, 0, 0], x*radians)\n",
    "    view.control.spin([0, 1, 0], y*radians)\n",
    "    view.control.spin([0, 0, 1], z*radians)\n",
    "\n",
    "def view_binding_site(protein, ligand):\n",
    "    \"\"\"View binding site of 13U to trypsin.\n",
    "\n",
    "    Parameters\n",
    "    -----------\n",
    "    protein: mda.Universe\n",
    "        The protein as an MDAnalysis universe.\n",
    "\n",
    "    ligand: mda.Universe\n",
    "        The ligand as an MDAnalysis universe.\n",
    "    \"\"\"\n",
    "    view = nv.show_mdanalysis(protein)\n",
    "    view.clear_representations()\n",
    "    view.add_representation(\"surface\", colorScheme=\"hydrophobicity\")\n",
    "    lig_view = view.add_component(ligand)\n",
    "    lig_view.center()\n",
    "    rotate_view(view, y=180, x=20)\n",
    "    return view\n",
    "    "
   ]
  },
  {
   "cell_type": "markdown",
   "id": "ba9e6d36-8936-4af4-ad73-00271c75a17f",
   "metadata": {},
   "source": [
    "MDAnalysis is a popular tool for processing molecular dynamics trajectories and other molecular structures. \n",
    "The central object in MDAnalysis is called a \"Universe\". In MDAnalysis terms, a Universe represents a molecular\n",
    "system. We can load an MDAnalysis universe from a PDB file."
   ]
  },
  {
   "cell_type": "code",
   "execution_count": 26,
   "id": "30aa1905-a77c-4b67-aeef-bd22f6123af2",
   "metadata": {},
   "outputs": [],
   "source": [
    "import MDAnalysis as mda\n",
    "import nglview as nv\n",
    "\n",
    "u = mda.Universe(f\"pdb/{pdb_id}.pdb\")"
   ]
  },
  {
   "cell_type": "markdown",
   "id": "840353df-f2ba-45f2-8a7c-51e1e69f4693",
   "metadata": {},
   "source": [
    "Text here about NGLView"
   ]
  },
  {
   "cell_type": "code",
   "execution_count": 27,
   "id": "22eab29a-8893-40e1-9b7c-8c82410c6998",
   "metadata": {},
   "outputs": [
    {
     "data": {
      "application/vnd.jupyter.widget-view+json": {
       "model_id": "4ab1c88c8dbe485bbc54fde11da772dc",
       "version_major": 2,
       "version_minor": 0
      },
      "text/plain": [
       "NGLWidget()"
      ]
     },
     "metadata": {},
     "output_type": "display_data"
    }
   ],
   "source": [
    "view = nv.show_mdanalysis(u)\n",
    "view"
   ]
  },
  {
   "cell_type": "markdown",
   "id": "ade1d283-7dfd-4c10-b5df-b83e7671fe4b",
   "metadata": {},
   "source": [
    "This view looks a bit messy. MDAnalysis has a human readable [selection syntax](https://docs.mdanalysis.org/stable/documentation_pages/selections.html)\n",
    "that allows us to isolate parts of our structure. We will take our MDAnalysis Universe (the variable `u`) and use the `select_atoms` function.\n",
    "Inside this function, we will fill in what we want to select.\n",
    "\n",
    "We will create separate variables for the protein and ligand. We can select all protein residues in MDAnalysis using the word \"protein\" in the `select_atoms` function. Then, we will select our ligand using `resname 13U`. This corresponds to the residue name in the PDB we downloaded."
   ]
  },
  {
   "cell_type": "code",
   "execution_count": 28,
   "id": "59398872-79e2-4b19-a6a1-2a11305cb003",
   "metadata": {},
   "outputs": [],
   "source": [
    "protein = u.select_atoms(\"protein\")\n",
    "ligand = u.select_atoms(\"resname 13U\")"
   ]
  },
  {
   "cell_type": "markdown",
   "id": "4acda0da-e9f1-4c4c-807b-79ccb64ef6b9",
   "metadata": {},
   "source": [
    "We will use our helper function, defined above, to look at how the ligand is bound to the protein.\n",
    "This helper function will use NGLView, like we did previously, but adds coloring the surface by hydrophobicity.\n",
    "It also zooms in on the ligand."
   ]
  },
  {
   "cell_type": "code",
   "execution_count": 29,
   "id": "ec313913-e6a6-49de-99f5-88a8b2d5f029",
   "metadata": {},
   "outputs": [
    {
     "data": {
      "application/vnd.jupyter.widget-view+json": {
       "model_id": "1cb81a388c394b23aa00bd9b26735059",
       "version_major": 2,
       "version_minor": 0
      },
      "text/plain": [
       "NGLWidget()"
      ]
     },
     "metadata": {},
     "output_type": "display_data"
    }
   ],
   "source": [
    "view_binding_site(protein, ligand)"
   ]
  },
  {
   "cell_type": "markdown",
   "id": "8326903d-0e3e-4c53-bbb1-c1d6924e9aa2",
   "metadata": {},
   "source": [
    "Upon viewing this structure, you will notice that our ligand seems to appear twice. \n",
    "If you open the PDB file to investigate, you will see the following in the ligand section:\n",
    "\n",
    "```\n",
    "HETATM 1673  C14A13U A 501      18.144  -9.216  12.088  0.61 24.22           C  \n",
    "ANISOU 1673  C14A13U A 501     1755   4793   2654   1752    148   1233       C  \n",
    "HETATM 1674  C14B13U A 501      18.147  -8.840  11.672  0.39 24.46           C  \n",
    "ANISOU 1674  C14B13U A 501     2583   4283   2430   1765    353   1279       C  \n",
    "HETATM 1675  O32A13U A 501      18.209  -8.355  11.186  0.61 24.38           O  \n",
    "ANISOU 1675  O32A13U A 501     2354   5394   1514   2217    238    919       O\n",
    "```\n",
    "\n",
    "This PDB structure provides **alternate locations** for each ligand atom. In excerpt above, you will see C14A13U and C14B13U. These are alternate locations of the same atom. \n",
    "By checking the [documentation page](https://docs.mdanalysis.org/stable/documentation_pages/selections.html) for MDAnalysis selections, we can see that MDAnalysis is prepared for this scenario. We will want to use the `altloc` keyword. This keyword is described as:\n",
    "\n",
    "> altLoc alternative-location\n",
    "\n",
    "> a selection for atoms where alternative locations are available, which is often the case with high-resolution crystal structures e.g. resid 4 and resname ALA and altLoc B selects only the atoms of ALA-4 that have an altLoc B record.\n",
    "\n",
    "We can alter our MDAnalysis selection syntax to isolate our ligands of interest."
   ]
  },
  {
   "cell_type": "code",
   "execution_count": 30,
   "id": "16e2bad0-0fab-437c-8e6b-f66c1a622b3a",
   "metadata": {},
   "outputs": [],
   "source": [
    "protein = u.select_atoms(\"protein\")\n",
    "ligand_A = u.select_atoms(\"resname 13U and altLoc A\")\n",
    "ligand_B = u.select_atoms(\"resname 13U and altLoc B\")"
   ]
  },
  {
   "cell_type": "markdown",
   "id": "57451a96-f751-4d15-a7f0-44714bb551ee",
   "metadata": {},
   "source": [
    "Now, we can use our viewing function to see the location of each ligand."
   ]
  },
  {
   "cell_type": "code",
   "execution_count": 31,
   "id": "43598dd2-503b-47f3-816d-e20039ced662",
   "metadata": {},
   "outputs": [
    {
     "data": {
      "application/vnd.jupyter.widget-view+json": {
       "model_id": "5e36b064b16a443ba57fcb1ae58cb830",
       "version_major": 2,
       "version_minor": 0
      },
      "text/plain": [
       "NGLWidget()"
      ]
     },
     "metadata": {},
     "output_type": "display_data"
    }
   ],
   "source": [
    "view_binding_site(protein, ligand_A)"
   ]
  },
  {
   "cell_type": "code",
   "execution_count": 32,
   "id": "92c18c8c-a728-4d57-af48-b5551fab49f8",
   "metadata": {},
   "outputs": [
    {
     "data": {
      "application/vnd.jupyter.widget-view+json": {
       "model_id": "98b9ec951dd64e94a4b4d3a4e9b8a051",
       "version_major": 2,
       "version_minor": 0
      },
      "text/plain": [
       "NGLWidget()"
      ]
     },
     "metadata": {},
     "output_type": "display_data"
    }
   ],
   "source": [
    "view_binding_site(protein, ligand_B)"
   ]
  },
  {
   "cell_type": "markdown",
   "id": "9c9a7b1c-2a2b-44d1-9bec-073f39761fa4",
   "metadata": {},
   "source": [
    "When we inspect the ligand in the binding site, we notice a few things.\n",
    "First, the binding site has a large hydrophobic area on the surface.\n",
    "If you zoom in on the binding pocket, you'll also see that the benzene ring and amine groups are inside."
   ]
  },
  {
   "cell_type": "markdown",
   "id": "edde1a2f-ffe6-4076-9b4d-2217f63b8ecc",
   "metadata": {},
   "source": [
    "## Making a Map of Ligand Contacts\n",
    "\n",
    "To get an even better idea of how our ligand is binding to the protein, we might choose to make a 2D map of ligand contacts with protein residues.\n",
    "In this analysis, we'll want to know how the ligand is interacting with the protein residues including if it is making hydrogen bonds, Van Der Waals interactions, etc.\n",
    "\n",
    "We will use a library called [ProLIF](https://prolif.readthedocs.io/en/stable/) for this analysis. ProLIF is short for \"Protein-Ligand Interaction Fingerprints\" and it \" is a tool designed to generate interaction fingerprints for complexes made of ligands, protein, DNA or RNA molecules extracted from molecular dynamics trajectories, docking simulations and experimental structures.\" (quote taken from ProLIF docs).\n",
    "\n",
    "Before we use ProLIF, we first have to make sure our ligand and protein file are prepared properly.\n",
    "Hydrogens are absent in most PDB files because they are not well resolved by methods like X-Ray crystallography.\n",
    "We'll need to add them back in in order to complete our analysis of the binding site.\n",
    "\n",
    "This process can actually be quite involved, as we'll see below.\n",
    "\n",
    "We will start by saving new PDBs of our selections from MDAnalysis. \n",
    "Then, we will add hydrogens."
   ]
  },
  {
   "cell_type": "code",
   "execution_count": 11,
   "id": "d8f9ec87-1510-4e54-bdcb-9b53b689c9f6",
   "metadata": {},
   "outputs": [
    {
     "name": "stderr",
     "output_type": "stream",
     "text": [
      "/home/janash/miniconda3/envs/iqb-2024/lib/python3.11/site-packages/MDAnalysis/coordinates/PDB.py:1153: UserWarning: Found no information for attr: 'formalcharges' Using default value of '0'\n",
      "  warnings.warn(\"Found no information for attr: '{}'\"\n"
     ]
    }
   ],
   "source": [
    "protein.write(f\"pdb/protein_{pdb_id}.pdb\")\n",
    "ligand_A.write(f\"pdb/ligand_A.pdb\")"
   ]
  },
  {
   "cell_type": "markdown",
   "id": "e5e41979-a795-4d3e-b4ee-c64d70d80296",
   "metadata": {},
   "source": [
    "### Structure Preparation\n",
    "Before we run the analysis, we need to make sure our protein and ligand have hydrogen atoms. \n",
    "We will do this first for the protein. \n",
    "\n",
    "We will use a specialized program called PDB2PQR that is made for working with biomolecules like proteins.\n",
    "The advantage of using PDB2PQR is that it will check our protein for missing atoms and multiple occupancy in the protein.\n",
    "\n",
    "We will use the command-line interface of this program. This means that you would usually type the command below into your terminal\n",
    "You can run command line commands in the Jupyter notebook by putting a `!` in front of the command."
   ]
  },
  {
   "cell_type": "code",
   "execution_count": 12,
   "id": "e8ce5142-5c21-4fac-b0c8-656f848efad8",
   "metadata": {},
   "outputs": [
    {
     "name": "stdout",
     "output_type": "stream",
     "text": [
      "INFO:PDB2PQR v3.6.2: biomolecular structure conversion software.\n",
      "INFO:Please cite:  Jurrus E, et al.  Improvements to the APBS biomolecular solvation software suite.  Protein Sci 27 112-128 (2018).\n",
      "INFO:Please cite:  Dolinsky TJ, et al.  PDB2PQR: expanding and upgrading automated preparation of biomolecular structures for molecular simulations. Nucleic Acids Res 35 W522-W525 (2007).\n",
      "INFO:Checking and transforming input arguments.\n",
      "INFO:Loading topology files.\n",
      "INFO:Loading molecule: pdb/protein_2zq2.pdb\n",
      "ERROR:Error parsing line: invalid literal for int() with base 10: ''\n",
      "ERROR:<REMARK     2>\n",
      "ERROR:Truncating remaining errors for record type:REMARK\n",
      "WARNING:Warning: pdb/protein_2zq2.pdb is a non-standard PDB file.\n",
      "\n",
      "ERROR:['REMARK']\n",
      "INFO:Setting up molecule.\n",
      "INFO:Created biomolecule object with 223 residues and 1625 atoms.\n",
      "WARNING:Multiple occupancies found: N in SER A 61.\n",
      "WARNING:Multiple occupancies found: CA in SER A 61.\n",
      "WARNING:Multiple occupancies found: C in SER A 61.\n",
      "WARNING:Multiple occupancies found: O in SER A 61.\n",
      "WARNING:Multiple occupancies found: CB in SER A 61.\n",
      "WARNING:Multiple occupancies found: OG in SER A 61.\n",
      "WARNING:Multiple occupancies found in SER A 61. At least one of the instances is being ignored.\n",
      "WARNING:Multiple occupancies found: N in SER A 113.\n",
      "WARNING:Multiple occupancies found: CA in SER A 113.\n",
      "WARNING:Multiple occupancies found: C in SER A 113.\n",
      "WARNING:Multiple occupancies found: O in SER A 113.\n",
      "WARNING:Multiple occupancies found: CB in SER A 113.\n",
      "WARNING:Multiple occupancies found: OG in SER A 113.\n",
      "WARNING:Multiple occupancies found in SER A 113. At least one of the instances is being ignored.\n",
      "WARNING:Multiple occupancies found: N in SER A 122.\n",
      "WARNING:Multiple occupancies found: CA in SER A 122.\n",
      "WARNING:Multiple occupancies found: C in SER A 122.\n",
      "WARNING:Multiple occupancies found: O in SER A 122.\n",
      "WARNING:Multiple occupancies found: CB in SER A 122.\n",
      "WARNING:Multiple occupancies found: OG in SER A 122.\n",
      "WARNING:Multiple occupancies found in SER A 122. At least one of the instances is being ignored.\n",
      "WARNING:Multiple occupancies found: N in SER A 167.\n",
      "WARNING:Multiple occupancies found: CA in SER A 167.\n",
      "WARNING:Multiple occupancies found: C in SER A 167.\n",
      "WARNING:Multiple occupancies found: O in SER A 167.\n",
      "WARNING:Multiple occupancies found: CB in SER A 167.\n",
      "WARNING:Multiple occupancies found: OG in SER A 167.\n",
      "WARNING:Multiple occupancies found in SER A 167. At least one of the instances is being ignored.\n",
      "WARNING:Multiple occupancies found: N in SER A 170.\n",
      "WARNING:Multiple occupancies found: CA in SER A 170.\n",
      "WARNING:Multiple occupancies found: C in SER A 170.\n",
      "WARNING:Multiple occupancies found: O in SER A 170.\n",
      "WARNING:Multiple occupancies found: CB in SER A 170.\n",
      "WARNING:Multiple occupancies found: OG in SER A 170.\n",
      "WARNING:Multiple occupancies found in SER A 170. At least one of the instances is being ignored.\n",
      "WARNING:Multiple occupancies found: N in SER A 236.\n",
      "WARNING:Multiple occupancies found: CA in SER A 236.\n",
      "WARNING:Multiple occupancies found: C in SER A 236.\n",
      "WARNING:Multiple occupancies found: O in SER A 236.\n",
      "WARNING:Multiple occupancies found: CB in SER A 236.\n",
      "WARNING:Multiple occupancies found: OG in SER A 236.\n",
      "WARNING:Multiple occupancies found in SER A 236. At least one of the instances is being ignored.\n",
      "WARNING:Multiple occupancies found: N in GLN A 240.\n",
      "WARNING:Multiple occupancies found: CA in GLN A 240.\n",
      "WARNING:Multiple occupancies found: C in GLN A 240.\n",
      "WARNING:Multiple occupancies found: O in GLN A 240.\n",
      "WARNING:Multiple occupancies found: CB in GLN A 240.\n",
      "WARNING:Multiple occupancies found: CG in GLN A 240.\n",
      "WARNING:Multiple occupancies found: CD in GLN A 240.\n",
      "WARNING:Multiple occupancies found: OE1 in GLN A 240.\n",
      "WARNING:Multiple occupancies found: NE2 in GLN A 240.\n",
      "WARNING:Multiple occupancies found in GLN A 240. At least one of the instances is being ignored.\n",
      "INFO:Setting termini states for biomolecule chains.\n",
      "INFO:Loading forcefield.\n",
      "INFO:Loading hydrogen topology definitions.\n",
      "WARNING:Missing atom CG in residue LYS A 222\n",
      "WARNING:Missing atom CD in residue LYS A 222\n",
      "WARNING:Missing atom CE in residue LYS A 222\n",
      "WARNING:Missing atom NZ in residue LYS A 222\n",
      "WARNING:Missing atom CG in residue LYS A 222\n",
      "WARNING:Missing atom CD in residue LYS A 222\n",
      "WARNING:Missing atom CE in residue LYS A 222\n",
      "WARNING:Missing atom NZ in residue LYS A 222\n",
      "INFO:Attempting to repair 4 missing atoms in biomolecule.\n",
      "WARNING:Missing atom CG in residue LYS A 222\n",
      "WARNING:Missing atom CD in residue LYS A 222\n",
      "WARNING:Missing atom CE in residue LYS A 222\n",
      "WARNING:Missing atom NZ in residue LYS A 222\n",
      "INFO:Added atom CG to residue LYS A 222 at coordinates 30.628, -3.449, -0.010\n",
      "INFO:Added atom CD to residue LYS A 222 at coordinates 32.074, -3.541, -0.453\n",
      "INFO:Added atom CE to residue LYS A 222 at coordinates 32.755, -2.198, -0.512\n",
      "INFO:Added atom NZ to residue LYS A 222 at coordinates 34.167, -2.339, -0.950\n",
      "INFO:Updating disulfide bridges.\n",
      "INFO:Debumping biomolecule.\n",
      "INFO:Adding hydrogens to biomolecule.\n",
      "INFO:Debumping biomolecule (again).\n",
      "INFO:Optimizing hydrogen bonds\n",
      "INFO:Applying force field to biomolecule states.\n",
      "INFO:Regenerating headers.\n",
      "INFO:Regenerating PDB lines.\n",
      "WARNING:Ignoring 390 header lines in output.\n",
      "WARNING:Ignoring 390 header lines in output.\n"
     ]
    }
   ],
   "source": [
    "! pdb2pqr --pdb-output=pdb/protein_h.pdb --pH=7.4 pdb/protein_2zq2.pdb protein.pqr"
   ]
  },
  {
   "cell_type": "code",
   "execution_count": 13,
   "id": "bbd1951c-9d2e-4fff-a89d-3f1ccc39104f",
   "metadata": {},
   "outputs": [],
   "source": [
    "protein = mda.Universe(\"pdb/protein_h.pdb\")"
   ]
  },
  {
   "cell_type": "markdown",
   "id": "8e7f0681-c7d1-4f5d-8b1c-8e0228a0e86c",
   "metadata": {},
   "source": [
    "Adding hydrogens to our ligand is a little bit more difficult. \n",
    "We can't just use PDB2PQR in this case.\n",
    "Our ligand might not have bond lengths such that the proper bond orders are always recognized, so we will want to make sure that we have a proper reference.\n",
    "\n",
    "We will use the ideal ligand we downloaded as a reference and use a small molecule manipulation software called [RDKit]() to match bond orders and add hydrogens."
   ]
  },
  {
   "cell_type": "code",
   "execution_count": 14,
   "id": "3fe5109d-f0ef-446e-8caf-6f02aba50874",
   "metadata": {},
   "outputs": [],
   "source": [
    "from rdkit import Chem\n",
    "\n",
    "from rdkit.Chem.AllChem import AssignBondOrdersFromTemplate\n",
    "\n",
    "template = Chem.MolFromMol2File(\"ligands/13U_ideal.mol2\")\n",
    "pdb_ligand = Chem.MolFromPDBFile(f\"pdb/ligand_A.pdb\")\n",
    "\n",
    "template = Chem.RemoveAllHs(template)"
   ]
  },
  {
   "cell_type": "code",
   "execution_count": 15,
   "id": "fb118dba-cbf6-4fe1-96bf-a07b1e2cb141",
   "metadata": {},
   "outputs": [
    {
     "name": "stderr",
     "output_type": "stream",
     "text": [
      "[17:30:37] WARNING: More than one matching pattern found - picking one\n",
      "\n"
     ]
    }
   ],
   "source": [
    "ligand = AssignBondOrdersFromTemplate(template, pdb_ligand)\n",
    "\n",
    "# Write the ligand to an SDF file\n",
    "Chem.MolToMolFile(ligand, \"pdb/ligand.sdf\")"
   ]
  },
  {
   "cell_type": "markdown",
   "id": "e936422e-7265-4478-b6ce-240f99be8af8",
   "metadata": {},
   "source": [
    "Now, we need to make sure this structure has hydrogens for our analysis."
   ]
  },
  {
   "cell_type": "code",
   "execution_count": 16,
   "id": "f313c3f9-acc5-400b-af84-aafe86f33a57",
   "metadata": {},
   "outputs": [],
   "source": [
    "from openbabel import pybel\n",
    "\n",
    "# Use pybel to read the SDF, add hydrogens, and save as PDB\n",
    "mol = next(pybel.readfile(\"sdf\", \"pdb/ligand.sdf\"))\n",
    "mol.addh()  # Add hydrogens\n",
    "mol.write(\"pdb\", \"pdb/ligand_h.pdb\", overwrite=True)"
   ]
  },
  {
   "cell_type": "markdown",
   "id": "01bc7309-ea2b-4fb4-9ad4-07589abafa78",
   "metadata": {},
   "source": [
    "### Visualizing the Binding Site\n",
    "\n",
    "Now that we have our files with hydrogens prepared, we can make a map of the binding site."
   ]
  },
  {
   "cell_type": "code",
   "execution_count": 17,
   "id": "8942f955-25d9-4f1b-b384-40b1bcb8919b",
   "metadata": {},
   "outputs": [],
   "source": [
    "import prolif as plf\n",
    "\n",
    "protein_h = mda.Universe(f\"pdb/protein_h.pdb\")\n",
    "ligand_h = mda.Universe(f\"pdb/ligand_h.pdb\")"
   ]
  },
  {
   "cell_type": "code",
   "execution_count": 18,
   "id": "22e64eeb-0e80-405b-b7a4-2f7dca799219",
   "metadata": {},
   "outputs": [
    {
     "name": "stderr",
     "output_type": "stream",
     "text": [
      "/home/janash/miniconda3/envs/iqb-2024/lib/python3.11/site-packages/MDAnalysis/converters/RDKit.py:473: UserWarning: No `bonds` attribute in this AtomGroup. Guessing bonds based on atoms coordinates\n",
      "  warnings.warn(\n"
     ]
    }
   ],
   "source": [
    "protein_mol = plf.Molecule.from_mda(protein_h)"
   ]
  },
  {
   "cell_type": "code",
   "execution_count": 19,
   "id": "d6dacd2e-79b8-4ef5-988d-b3882cf09e0b",
   "metadata": {},
   "outputs": [],
   "source": [
    "ligand_mol = plf.Molecule.from_mda(ligand_h)"
   ]
  },
  {
   "cell_type": "code",
   "execution_count": 20,
   "id": "6bea506e-6ab5-40df-9858-30de794d3462",
   "metadata": {},
   "outputs": [],
   "source": [
    "fp = plf.Fingerprint()"
   ]
  },
  {
   "cell_type": "code",
   "execution_count": 21,
   "id": "49f738f2-0a32-42a9-9ffc-a6ee8a052065",
   "metadata": {},
   "outputs": [
    {
     "data": {
      "application/vnd.jupyter.widget-view+json": {
       "model_id": "dd2bb2945a984100ae6a949c99718578",
       "version_major": 2,
       "version_minor": 0
      },
      "text/plain": [
       "  0%|          | 0/1 [00:00<?, ?it/s]"
      ]
     },
     "metadata": {},
     "output_type": "display_data"
    }
   ],
   "source": [
    "lig_list = [ ligand_mol ] \n",
    "\n",
    "interactions = fp.run_from_iterable(lig_list, protein_mol)"
   ]
  },
  {
   "cell_type": "code",
   "execution_count": 22,
   "id": "9dc10fc4-2721-4a6a-98a4-350958a6b73e",
   "metadata": {},
   "outputs": [
    {
     "data": {
      "text/html": [
       "<iframe width=\"100%\" height=\"590px\" frameborder=\"0\" srcdoc=\"\n",
       "        &lt;html&gt;\n",
       "        &lt;head&gt;\n",
       "        &lt;script type=&quot;text/javascript&quot; src=&quot;https://unpkg.com/vis-network@9.0.4/dist/vis-network.min.js&quot;&gt;&lt;/script&gt;\n",
       "        &lt;link href=&quot;https://unpkg.com/vis-network@9.0.4/dist/dist/vis-network.min.css&quot; rel=&quot;stylesheet&quot; type=&quot;text/css&quot; /&gt;\n",
       "        &lt;style type=&quot;text/css&quot;&gt;\n",
       "            body {\n",
       "                padding: 0;\n",
       "                margin: 0;\n",
       "                background: #fff;\n",
       "            }\n",
       "            .legend-btn.residues.disabled {\n",
       "                background: #b4b4b4 !important;\n",
       "                color: #555 !important;\n",
       "            }\n",
       "            .legend-btn.interactions.disabled {\n",
       "                border-color: #b4b4b4 !important;\n",
       "                color: #555 !important;\n",
       "            }\n",
       "        &lt;/style&gt;\n",
       "        &lt;/head&gt;\n",
       "        &lt;body&gt;\n",
       "        &lt;div id=&quot;mynetwork&quot;&gt;&lt;/div&gt;\n",
       "        &lt;div id=&quot;networklegend&quot;&gt;&lt;/div&gt;\n",
       "        &lt;script type=&quot;text/javascript&quot;&gt;\n",
       "            \n",
       "        var ifp, legend, nodes, edges, legend_buttons;\n",
       "        function drawGraph(_id, nodes, edges, options) {\n",
       "            var container = document.getElementById(_id);\n",
       "            nodes = new vis.DataSet(nodes);\n",
       "            edges = new vis.DataSet(edges);\n",
       "            var data = {nodes: nodes, edges: edges};\n",
       "            var network = new vis.Network(container, data, options);\n",
       "            network.on(&quot;stabilizationIterationsDone&quot;, function () {\n",
       "                network.setOptions( { physics: false } );\n",
       "            });\n",
       "            return network;\n",
       "        }\n",
       "        nodes = [{&quot;id&quot;: &quot;ASN97.A&quot;, &quot;label&quot;: &quot;ASN97.A&quot;, &quot;color&quot;: &quot;#59bee3&quot;, &quot;shape&quot;: &quot;box&quot;, &quot;borderWidth&quot;: 0, &quot;physics&quot;: true, &quot;mass&quot;: 2, &quot;group&quot;: &quot;protein&quot;, &quot;residue_type&quot;: &quot;Polar&quot;}, {&quot;id&quot;: &quot;ASP189.A&quot;, &quot;label&quot;: &quot;ASP189.A&quot;, &quot;color&quot;: &quot;#e35959&quot;, &quot;shape&quot;: &quot;box&quot;, &quot;borderWidth&quot;: 0, &quot;physics&quot;: true, &quot;mass&quot;: 2, &quot;group&quot;: &quot;protein&quot;, &quot;residue_type&quot;: &quot;Acidic&quot;}, {&quot;id&quot;: &quot;GLN175.A&quot;, &quot;label&quot;: &quot;GLN175.A&quot;, &quot;color&quot;: &quot;#59bee3&quot;, &quot;shape&quot;: &quot;box&quot;, &quot;borderWidth&quot;: 0, &quot;physics&quot;: true, &quot;mass&quot;: 2, &quot;group&quot;: &quot;protein&quot;, &quot;residue_type&quot;: &quot;Polar&quot;}, {&quot;id&quot;: &quot;GLN192.A&quot;, &quot;label&quot;: &quot;GLN192.A&quot;, &quot;color&quot;: &quot;#59bee3&quot;, &quot;shape&quot;: &quot;box&quot;, &quot;borderWidth&quot;: 0, &quot;physics&quot;: true, &quot;mass&quot;: 2, &quot;group&quot;: &quot;protein&quot;, &quot;residue_type&quot;: &quot;Polar&quot;}, {&quot;id&quot;: &quot;GLY216.A&quot;, &quot;label&quot;: &quot;GLY216.A&quot;, &quot;color&quot;: &quot;#59e382&quot;, &quot;shape&quot;: &quot;box&quot;, &quot;borderWidth&quot;: 0, &quot;physics&quot;: true, &quot;mass&quot;: 2, &quot;group&quot;: &quot;protein&quot;, &quot;residue_type&quot;: &quot;Aliphatic&quot;}, {&quot;id&quot;: &quot;GLY219.A&quot;, &quot;label&quot;: &quot;GLY219.A&quot;, &quot;color&quot;: &quot;#59e382&quot;, &quot;shape&quot;: &quot;box&quot;, &quot;borderWidth&quot;: 0, &quot;physics&quot;: true, &quot;mass&quot;: 2, &quot;group&quot;: &quot;protein&quot;, &quot;residue_type&quot;: &quot;Aliphatic&quot;}, {&quot;id&quot;: &quot;HIS57.A&quot;, &quot;label&quot;: &quot;HIS57.A&quot;, &quot;color&quot;: &quot;#5979e3&quot;, &quot;shape&quot;: &quot;box&quot;, &quot;borderWidth&quot;: 0, &quot;physics&quot;: true, &quot;mass&quot;: 2, &quot;group&quot;: &quot;protein&quot;, &quot;residue_type&quot;: &quot;Basic&quot;}, {&quot;id&quot;: &quot;LEU99.A&quot;, &quot;label&quot;: &quot;LEU99.A&quot;, &quot;color&quot;: &quot;#59e382&quot;, &quot;shape&quot;: &quot;box&quot;, &quot;borderWidth&quot;: 0, &quot;physics&quot;: true, &quot;mass&quot;: 2, &quot;group&quot;: &quot;protein&quot;, &quot;residue_type&quot;: &quot;Aliphatic&quot;}, {&quot;id&quot;: &quot;SER190.A&quot;, &quot;label&quot;: &quot;SER190.A&quot;, &quot;color&quot;: &quot;#59bee3&quot;, &quot;shape&quot;: &quot;box&quot;, &quot;borderWidth&quot;: 0, &quot;physics&quot;: true, &quot;mass&quot;: 2, &quot;group&quot;: &quot;protein&quot;, &quot;residue_type&quot;: &quot;Polar&quot;}, {&quot;id&quot;: &quot;SER195.A&quot;, &quot;label&quot;: &quot;SER195.A&quot;, &quot;color&quot;: &quot;#59bee3&quot;, &quot;shape&quot;: &quot;box&quot;, &quot;borderWidth&quot;: 0, &quot;physics&quot;: true, &quot;mass&quot;: 2, &quot;group&quot;: &quot;protein&quot;, &quot;residue_type&quot;: &quot;Polar&quot;}, {&quot;id&quot;: &quot;SER214.A&quot;, &quot;label&quot;: &quot;SER214.A&quot;, &quot;color&quot;: &quot;#59bee3&quot;, &quot;shape&quot;: &quot;box&quot;, &quot;borderWidth&quot;: 0, &quot;physics&quot;: true, &quot;mass&quot;: 2, &quot;group&quot;: &quot;protein&quot;, &quot;residue_type&quot;: &quot;Polar&quot;}, {&quot;id&quot;: &quot;THR98.A&quot;, &quot;label&quot;: &quot;THR98.A&quot;, &quot;color&quot;: &quot;#59bee3&quot;, &quot;shape&quot;: &quot;box&quot;, &quot;borderWidth&quot;: 0, &quot;physics&quot;: true, &quot;mass&quot;: 2, &quot;group&quot;: &quot;protein&quot;, &quot;residue_type&quot;: &quot;Polar&quot;}, {&quot;id&quot;: &quot;TRP215.A&quot;, &quot;label&quot;: &quot;TRP215.A&quot;, &quot;color&quot;: &quot;#b559e3&quot;, &quot;shape&quot;: &quot;box&quot;, &quot;borderWidth&quot;: 0, &quot;physics&quot;: true, &quot;mass&quot;: 2, &quot;group&quot;: &quot;protein&quot;, &quot;residue_type&quot;: &quot;Aromatic&quot;}, {&quot;id&quot;: &quot;VAL213.A&quot;, &quot;label&quot;: &quot;VAL213.A&quot;, &quot;color&quot;: &quot;#59e382&quot;, &quot;shape&quot;: &quot;box&quot;, &quot;borderWidth&quot;: 0, &quot;physics&quot;: true, &quot;mass&quot;: 2, &quot;group&quot;: &quot;protein&quot;, &quot;residue_type&quot;: &quot;Aliphatic&quot;}, {&quot;label&quot;: &quot; &quot;, &quot;shape&quot;: &quot;dot&quot;, &quot;color&quot;: &quot;black&quot;, &quot;size&quot;: 5.6000000000000005, &quot;id&quot;: 0, &quot;x&quot;: 39.92991297446747, &quot;y&quot;: 21.840942607661304, &quot;fixed&quot;: true, &quot;group&quot;: &quot;ligand&quot;, &quot;borderWidth&quot;: 0}, {&quot;label&quot;: &quot;O&quot;, &quot;shape&quot;: &quot;circle&quot;, &quot;color&quot;: &quot;white&quot;, &quot;font&quot;: {&quot;color&quot;: &quot;red&quot;}, &quot;id&quot;: 1, &quot;x&quot;: 54.523563057506436, &quot;y&quot;: 72.27183965752364, &quot;fixed&quot;: true, &quot;group&quot;: &quot;ligand&quot;, &quot;borderWidth&quot;: 0}, {&quot;label&quot;: &quot; &quot;, &quot;shape&quot;: &quot;dot&quot;, &quot;color&quot;: &quot;black&quot;, &quot;size&quot;: 5.6000000000000005, &quot;id&quot;: 2, &quot;x&quot;: 76.30752591376651, &quot;y&quot;: -16.012977623122506, &quot;fixed&quot;: true, &quot;group&quot;: &quot;ligand&quot;, &quot;borderWidth&quot;: 0}, {&quot;label&quot;: &quot;NH&quot;, &quot;shape&quot;: &quot;ellipse&quot;, &quot;color&quot;: &quot;white&quot;, &quot;font&quot;: {&quot;color&quot;: &quot;blue&quot;}, &quot;id&quot;: 3, &quot;x&quot;: 112.68513885306558, &quot;y&quot;: -53.866897853906295, &quot;fixed&quot;: true, &quot;group&quot;: &quot;ligand&quot;, &quot;borderWidth&quot;: 0}, {&quot;label&quot;: &quot; &quot;, &quot;shape&quot;: &quot;dot&quot;, &quot;color&quot;: &quot;black&quot;, &quot;size&quot;: 5.6000000000000005, &quot;id&quot;: 4, &quot;x&quot;: 163.65640187540362, &quot;y&quot;: -41.28992103482769, &quot;fixed&quot;: true, &quot;group&quot;: &quot;ligand&quot;, &quot;borderWidth&quot;: 0}, {&quot;label&quot;: &quot; &quot;, &quot;shape&quot;: &quot;dot&quot;, &quot;color&quot;: &quot;black&quot;, &quot;size&quot;: 5.6000000000000005, &quot;id&quot;: 5, &quot;x&quot;: 214.087298925266, &quot;y&quot;: -55.88357111786665, &quot;fixed&quot;: true, &quot;group&quot;: &quot;ligand&quot;, &quot;borderWidth&quot;: 0}, {&quot;label&quot;: &quot; &quot;, &quot;shape&quot;: &quot;dot&quot;, &quot;color&quot;: &quot;black&quot;, &quot;size&quot;: 5.6000000000000005, &quot;id&quot;: 6, &quot;x&quot;: 260.06659714652477, &quot;y&quot;: -30.542810768568756, &quot;fixed&quot;: true, &quot;group&quot;: &quot;ligand&quot;, &quot;borderWidth&quot;: 0}, {&quot;label&quot;: &quot; &quot;, &quot;shape&quot;: &quot;dot&quot;, &quot;color&quot;: &quot;black&quot;, &quot;size&quot;: 5.6000000000000005, &quot;id&quot;: 7, &quot;x&quot;: 274.66024722956377, &quot;y&quot;: 19.888086281293624, &quot;fixed&quot;: true, &quot;group&quot;: &quot;ligand&quot;, &quot;borderWidth&quot;: 0}, {&quot;label&quot;: &quot; &quot;, &quot;shape&quot;: &quot;dot&quot;, &quot;color&quot;: &quot;black&quot;, &quot;size&quot;: 5.6000000000000005, &quot;id&quot;: 8, &quot;x&quot;: 249.31948688026586, &quot;y&quot;: 65.86738450255243, &quot;fixed&quot;: true, &quot;group&quot;: &quot;ligand&quot;, &quot;borderWidth&quot;: 0}, {&quot;label&quot;: &quot; &quot;, &quot;shape&quot;: &quot;dot&quot;, &quot;color&quot;: &quot;black&quot;, &quot;size&quot;: 5.6000000000000005, &quot;id&quot;: 9, &quot;x&quot;: 198.88858983040348, &quot;y&quot;: 80.46103458559136, &quot;fixed&quot;: true, &quot;group&quot;: &quot;ligand&quot;, &quot;borderWidth&quot;: 0}, {&quot;label&quot;: &quot; &quot;, &quot;shape&quot;: &quot;dot&quot;, &quot;color&quot;: &quot;black&quot;, &quot;size&quot;: 5.6000000000000005, &quot;id&quot;: 10, &quot;x&quot;: 152.9092916091447, &quot;y&quot;: 55.12027423629349, &quot;fixed&quot;: true, &quot;group&quot;: &quot;ligand&quot;, &quot;borderWidth&quot;: 0}, {&quot;label&quot;: &quot; &quot;, &quot;shape&quot;: &quot;dot&quot;, &quot;color&quot;: &quot;black&quot;, &quot;size&quot;: 5.6000000000000005, &quot;id&quot;: 11, &quot;x&quot;: 138.3156415261057, &quot;y&quot;: 4.689377186431113, &quot;fixed&quot;: true, &quot;group&quot;: &quot;ligand&quot;, &quot;borderWidth&quot;: 0}, {&quot;label&quot;: &quot;N&quot;, &quot;shape&quot;: &quot;circle&quot;, &quot;color&quot;: &quot;white&quot;, &quot;font&quot;: {&quot;color&quot;: &quot;blue&quot;}, &quot;id&quot;: 12, &quot;x&quot;: -11.041350047870512, &quot;y&quot;: 9.263965788582732, &quot;fixed&quot;: true, &quot;group&quot;: &quot;ligand&quot;, &quot;borderWidth&quot;: 0}, {&quot;label&quot;: &quot; &quot;, &quot;shape&quot;: &quot;dot&quot;, &quot;color&quot;: &quot;black&quot;, &quot;size&quot;: 5.6000000000000005, &quot;id&quot;: 13, &quot;x&quot;: -30.826518758627124, &quot;y&quot;: -39.36521371392273, &quot;fixed&quot;: true, &quot;group&quot;: &quot;ligand&quot;, &quot;borderWidth&quot;: 0}, {&quot;label&quot;: &quot; &quot;, &quot;shape&quot;: &quot;dot&quot;, &quot;color&quot;: &quot;black&quot;, &quot;size&quot;: 5.6000000000000005, &quot;id&quot;: 14, &quot;x&quot;: -40.06875912972104, &quot;y&quot;: -91.04529684972005, &quot;fixed&quot;: true, &quot;group&quot;: &quot;ligand&quot;, &quot;borderWidth&quot;: 0}, {&quot;label&quot;: &quot;O&quot;, &quot;shape&quot;: &quot;circle&quot;, &quot;color&quot;: &quot;white&quot;, &quot;font&quot;: {&quot;color&quot;: &quot;red&quot;}, &quot;id&quot;: 15, &quot;x&quot;: 0.0663855500242011, &quot;y&quot;: -124.88935336686808, &quot;fixed&quot;: true, &quot;group&quot;: &quot;ligand&quot;, &quot;borderWidth&quot;: 0}, {&quot;label&quot;: &quot; &quot;, &quot;shape&quot;: &quot;dot&quot;, &quot;color&quot;: &quot;black&quot;, &quot;size&quot;: 5.6000000000000005, &quot;id&quot;: 16, &quot;x&quot;: -83.18957017477092, &quot;y&quot;: -35.57564297434271, &quot;fixed&quot;: true, &quot;group&quot;: &quot;ligand&quot;, &quot;borderWidth&quot;: 0}, {&quot;label&quot;: &quot; &quot;, &quot;shape&quot;: &quot;dot&quot;, &quot;color&quot;: &quot;black&quot;, &quot;size&quot;: 5.6000000000000005, &quot;id&quot;: 17, &quot;x&quot;: -95.76654699384945, &quot;y&quot;: 15.395620047995283, &quot;fixed&quot;: true, &quot;group&quot;: &quot;ligand&quot;, &quot;borderWidth&quot;: 0}, {&quot;label&quot;: &quot; &quot;, &quot;shape&quot;: &quot;dot&quot;, &quot;color&quot;: &quot;black&quot;, &quot;size&quot;: 5.6000000000000005, &quot;id&quot;: 18, &quot;x&quot;: -51.17649472761578, &quot;y&quot;: 43.10802230573083, &quot;fixed&quot;: true, &quot;group&quot;: &quot;ligand&quot;, &quot;borderWidth&quot;: 0}, {&quot;label&quot;: &quot;N&quot;, &quot;shape&quot;: &quot;circle&quot;, &quot;color&quot;: &quot;white&quot;, &quot;font&quot;: {&quot;color&quot;: &quot;blue&quot;}, &quot;id&quot;: 19, &quot;x&quot;: -89.4461441805602, &quot;y&quot;: -108.88132346836925, &quot;fixed&quot;: true, &quot;group&quot;: &quot;ligand&quot;, &quot;borderWidth&quot;: 0}, {&quot;label&quot;: &quot; &quot;, &quot;shape&quot;: &quot;dot&quot;, &quot;color&quot;: &quot;black&quot;, &quot;size&quot;: 5.6000000000000005, &quot;id&quot;: 20, &quot;x&quot;: -129.58128886030542, &quot;y&quot;: -75.03726695122118, &quot;fixed&quot;: true, &quot;group&quot;: &quot;ligand&quot;, &quot;borderWidth&quot;: 0}, {&quot;label&quot;: &quot; &quot;, &quot;shape&quot;: &quot;dot&quot;, &quot;color&quot;: &quot;black&quot;, &quot;size&quot;: 5.6000000000000005, &quot;id&quot;: 21, &quot;x&quot;: -169.71643354005073, &quot;y&quot;: -41.193210434073116, &quot;fixed&quot;: true, &quot;group&quot;: &quot;ligand&quot;, &quot;borderWidth&quot;: 0}, {&quot;label&quot;: &quot; &quot;, &quot;shape&quot;: &quot;dot&quot;, &quot;color&quot;: &quot;black&quot;, &quot;size&quot;: 5.6000000000000005, &quot;id&quot;: 22, &quot;x&quot;: -160.47419316895687, &quot;y&quot;: 10.486872701724266, &quot;fixed&quot;: true, &quot;group&quot;: &quot;ligand&quot;, &quot;borderWidth&quot;: 0}, {&quot;label&quot;: &quot; &quot;, &quot;shape&quot;: &quot;dot&quot;, &quot;color&quot;: &quot;black&quot;, &quot;size&quot;: 5.6000000000000005, &quot;id&quot;: 23, &quot;x&quot;: -200.6093378487022, &quot;y&quot;: 44.330929218872335, &quot;fixed&quot;: true, &quot;group&quot;: &quot;ligand&quot;, &quot;borderWidth&quot;: 0}, {&quot;label&quot;: &quot; &quot;, &quot;shape&quot;: &quot;dot&quot;, &quot;color&quot;: &quot;black&quot;, &quot;size&quot;: 5.6000000000000005, &quot;id&quot;: 24, &quot;x&quot;: -249.98672289954132, &quot;y&quot;: 26.49490260022307, &quot;fixed&quot;: true, &quot;group&quot;: &quot;ligand&quot;, &quot;borderWidth&quot;: 0}, {&quot;label&quot;: &quot; &quot;, &quot;shape&quot;: &quot;dot&quot;, &quot;color&quot;: &quot;black&quot;, &quot;size&quot;: 5.6000000000000005, &quot;id&quot;: 25, &quot;x&quot;: -290.1218675792867, &quot;y&quot;: 60.33895911737116, &quot;fixed&quot;: true, &quot;group&quot;: &quot;ligand&quot;, &quot;borderWidth&quot;: 0}, {&quot;label&quot;: &quot;NH&quot;, &quot;shape&quot;: &quot;ellipse&quot;, &quot;color&quot;: &quot;white&quot;, &quot;font&quot;: {&quot;color&quot;: &quot;blue&quot;}, &quot;id&quot;: 26, &quot;x&quot;: -339.49925263012574, &quot;y&quot;: 42.50293249872184, &quot;fixed&quot;: true, &quot;group&quot;: &quot;ligand&quot;, &quot;borderWidth&quot;: 0}, {&quot;label&quot;: &quot;N&quot;, &quot;shape&quot;: &quot;circle&quot;, &quot;color&quot;: &quot;white&quot;, &quot;font&quot;: {&quot;color&quot;: &quot;blue&quot;}, &quot;id&quot;: 27, &quot;x&quot;: -280.87962720819286, &quot;y&quot;: 112.0190422531685, &quot;fixed&quot;: true, &quot;group&quot;: &quot;ligand&quot;, &quot;borderWidth&quot;: 0}, {&quot;label&quot;: &quot; &quot;, &quot;shape&quot;: &quot;dot&quot;, &quot;color&quot;: &quot;black&quot;, &quot;size&quot;: 5.6000000000000005, &quot;id&quot;: 28, &quot;x&quot;: -259.2289632706352, &quot;y&quot;: -25.18518053557425, &quot;fixed&quot;: true, &quot;group&quot;: &quot;ligand&quot;, &quot;borderWidth&quot;: 0}, {&quot;label&quot;: &quot; &quot;, &quot;shape&quot;: &quot;dot&quot;, &quot;color&quot;: &quot;black&quot;, &quot;size&quot;: 5.6000000000000005, &quot;id&quot;: 29, &quot;x&quot;: -219.09381859088995, &quot;y&quot;: -59.029237052722316, &quot;fixed&quot;: true, &quot;group&quot;: &quot;ligand&quot;, &quot;borderWidth&quot;: 0}, {&quot;label&quot;: &quot;H&quot;, &quot;shape&quot;: &quot;circle&quot;, &quot;color&quot;: &quot;white&quot;, &quot;font&quot;: {&quot;color&quot;: &quot;grey&quot;}, &quot;id&quot;: 39, &quot;x&quot;: 322.56988937616796, &quot;y&quot;: -1.5808724588111256, &quot;fixed&quot;: true, &quot;group&quot;: &quot;ligand&quot;, &quot;borderWidth&quot;: 0}, {&quot;label&quot;: &quot;H&quot;, &quot;shape&quot;: &quot;circle&quot;, &quot;color&quot;: &quot;white&quot;, &quot;font&quot;: {&quot;color&quot;: &quot;grey&quot;}, &quot;id&quot;: 55, &quot;x&quot;: -98.68838455165411, &quot;y&quot;: -160.56140660416656, &quot;fixed&quot;: true, &quot;group&quot;: &quot;ligand&quot;, &quot;borderWidth&quot;: 0}, {&quot;label&quot;: &quot;H&quot;, &quot;shape&quot;: &quot;circle&quot;, &quot;color&quot;: &quot;white&quot;, &quot;font&quot;: {&quot;color&quot;: &quot;grey&quot;}, &quot;id&quot;: 61, &quot;x&quot;: -321.0147718879382, &quot;y&quot;: 145.86309877031655, &quot;fixed&quot;: true, &quot;group&quot;: &quot;ligand&quot;, &quot;borderWidth&quot;: 0}, {&quot;label&quot;: &quot;H&quot;, &quot;shape&quot;: &quot;circle&quot;, &quot;color&quot;: &quot;white&quot;, &quot;font&quot;: {&quot;color&quot;: &quot;grey&quot;}, &quot;id&quot;: 62, &quot;x&quot;: -231.50224215735366, &quot;y&quot;: 129.8550688718179, &quot;fixed&quot;: true, &quot;group&quot;: &quot;ligand&quot;, &quot;borderWidth&quot;: 0}, {&quot;id&quot;: -5535647359809049556, &quot;x&quot;: 35.89544121047848, &quot;y&quot;: 23.008434614304424, &quot;shape&quot;: &quot;text&quot;, &quot;label&quot;: &quot; &quot;, &quot;fixed&quot;: true, &quot;physics&quot;: false}, {&quot;id&quot;: 6391740080644986832, &quot;x&quot;: 50.48909129351745, &quot;y&quot;: 73.43933166416676, &quot;shape&quot;: &quot;text&quot;, &quot;label&quot;: &quot; &quot;, &quot;fixed&quot;: true, &quot;physics&quot;: false}, {&quot;id&quot;: 2315293112383831390, &quot;x&quot;: 43.96438473845646, &quot;y&quot;: 20.673450601018185, &quot;shape&quot;: &quot;text&quot;, &quot;label&quot;: &quot; &quot;, &quot;fixed&quot;: true, &quot;physics&quot;: false}, {&quot;id&quot;: -8264080661533445904, &quot;x&quot;: 58.558034821495426, &quot;y&quot;: 71.10434765088053, &quot;shape&quot;: &quot;text&quot;, &quot;label&quot;: &quot; &quot;, &quot;fixed&quot;: true, &quot;physics&quot;: false}, {&quot;id&quot;: -3466872540174694247, &quot;x&quot;: -37.36123460834919, &quot;y&quot;: -87.83448527534043, &quot;shape&quot;: &quot;text&quot;, &quot;label&quot;: &quot; &quot;, &quot;fixed&quot;: true, &quot;physics&quot;: false}, {&quot;id&quot;: -2890844732736722684, &quot;x&quot;: 2.7739100713960476, &quot;y&quot;: -121.67854179248846, &quot;shape&quot;: &quot;text&quot;, &quot;label&quot;: &quot; &quot;, &quot;fixed&quot;: true, &quot;physics&quot;: false}, {&quot;id&quot;: 2296617213547448025, &quot;x&quot;: -42.77628365109288, &quot;y&quot;: -94.25610842409966, &quot;shape&quot;: &quot;text&quot;, &quot;label&quot;: &quot; &quot;, &quot;fixed&quot;: true, &quot;physics&quot;: false}, {&quot;id&quot;: 4413122294551891259, &quot;x&quot;: -2.641138971347645, &quot;y&quot;: -128.1001649412477, &quot;shape&quot;: &quot;text&quot;, &quot;label&quot;: &quot; &quot;, &quot;fixed&quot;: true, &quot;physics&quot;: false}, {&quot;id&quot;: 7776769002111559312, &quot;x&quot;: -173.8508401909145, &quot;y&quot;: -40.45383120438561, &quot;shape&quot;: &quot;text&quot;, &quot;label&quot;: &quot; &quot;, &quot;fixed&quot;: true, &quot;physics&quot;: false}, {&quot;id&quot;: -1264565713112470756, &quot;x&quot;: -164.60859981982065, &quot;y&quot;: 11.226251931411774, &quot;shape&quot;: &quot;text&quot;, &quot;label&quot;: &quot; &quot;, &quot;fixed&quot;: true, &quot;physics&quot;: false}, {&quot;id&quot;: 3673886289685184533, &quot;x&quot;: -165.58202688918695, &quot;y&quot;: -41.93258966376062, &quot;shape&quot;: &quot;text&quot;, &quot;label&quot;: &quot; &quot;, &quot;fixed&quot;: true, &quot;physics&quot;: false}, {&quot;id&quot;: -7518359010972987247, &quot;x&quot;: -156.3397865180931, &quot;y&quot;: 9.747493472036759, &quot;shape&quot;: &quot;text&quot;, &quot;label&quot;: &quot; &quot;, &quot;fixed&quot;: true, &quot;physics&quot;: false}, {&quot;id&quot;: -3188109844631951427, &quot;x&quot;: -168.2895514105588, &quot;y&quot;: -45.14340123814025, &quot;shape&quot;: &quot;text&quot;, &quot;label&quot;: &quot; &quot;, &quot;fixed&quot;: true, &quot;physics&quot;: false}, {&quot;id&quot;: -5563051835727099200, &quot;x&quot;: -217.66693646139802, &quot;y&quot;: -62.97942785678945, &quot;shape&quot;: &quot;text&quot;, &quot;label&quot;: &quot; &quot;, &quot;fixed&quot;: true, &quot;physics&quot;: false}, {&quot;id&quot;: 2217705376328464899, &quot;x&quot;: -171.14331566954266, &quot;y&quot;: -37.24301963000598, &quot;shape&quot;: &quot;text&quot;, &quot;label&quot;: &quot; &quot;, &quot;fixed&quot;: true, &quot;physics&quot;: false}, {&quot;id&quot;: 1581836982009448679, &quot;x&quot;: -220.52070072038188, &quot;y&quot;: -55.07904624865518, &quot;shape&quot;: &quot;text&quot;, &quot;label&quot;: &quot; &quot;, &quot;fixed&quot;: true, &quot;physics&quot;: false}, {&quot;id&quot;: -8083744273500865264, &quot;x&quot;: -163.18171769032872, &quot;y&quot;: 7.27606112734464, &quot;shape&quot;: &quot;text&quot;, &quot;label&quot;: &quot; &quot;, &quot;fixed&quot;: true, &quot;physics&quot;: false}, {&quot;id&quot;: 4106976607762279870, &quot;x&quot;: -203.31686237007406, &quot;y&quot;: 41.12011764449271, &quot;shape&quot;: &quot;text&quot;, &quot;label&quot;: &quot; &quot;, &quot;fixed&quot;: true, &quot;physics&quot;: false}, {&quot;id&quot;: -233933355908717070, &quot;x&quot;: -157.76666864758502, &quot;y&quot;: 13.697684276103892, &quot;shape&quot;: &quot;text&quot;, &quot;label&quot;: &quot; &quot;, &quot;fixed&quot;: true, &quot;physics&quot;: false}, {&quot;id&quot;: -3330621465142053513, &quot;x&quot;: -197.90181332733036, &quot;y&quot;: 47.54174079325196, &quot;shape&quot;: &quot;text&quot;, &quot;label&quot;: &quot; &quot;, &quot;fixed&quot;: true, &quot;physics&quot;: false}, {&quot;id&quot;: 4573701437802496251, &quot;x&quot;: -199.18245571921028, &quot;y&quot;: 40.3807384148052, &quot;shape&quot;: &quot;text&quot;, &quot;label&quot;: &quot; &quot;, &quot;fixed&quot;: true, &quot;physics&quot;: false}, {&quot;id&quot;: 2027812194790067323, &quot;x&quot;: -248.5598407700494, &quot;y&quot;: 22.544711796155937, &quot;shape&quot;: &quot;text&quot;, &quot;label&quot;: &quot; &quot;, &quot;fixed&quot;: true, &quot;physics&quot;: false}, {&quot;id&quot;: -43587748891064762, &quot;x&quot;: -202.03621997819414, &quot;y&quot;: 48.28112002293947, &quot;shape&quot;: &quot;text&quot;, &quot;label&quot;: &quot; &quot;, &quot;fixed&quot;: true, &quot;physics&quot;: false}, {&quot;id&quot;: 7349370941755286465, &quot;x&quot;: -251.41360502903325, &quot;y&quot;: 30.445093404290205, &quot;shape&quot;: &quot;text&quot;, &quot;label&quot;: &quot; &quot;, &quot;fixed&quot;: true, &quot;physics&quot;: false}, {&quot;id&quot;: 3794433979354703565, &quot;x&quot;: -245.85231624867754, &quot;y&quot;: 25.755523370535563, &quot;shape&quot;: &quot;text&quot;, &quot;label&quot;: &quot; &quot;, &quot;fixed&quot;: true, &quot;physics&quot;: false}, {&quot;id&quot;: 4348839722039258908, &quot;x&quot;: -255.0945566197714, &quot;y&quot;: -25.92455976526176, &quot;shape&quot;: &quot;text&quot;, &quot;label&quot;: &quot; &quot;, &quot;fixed&quot;: true, &quot;physics&quot;: false}, {&quot;id&quot;: 4525441825587320098, &quot;x&quot;: -254.1211295504051, &quot;y&quot;: 27.23428182991058, &quot;shape&quot;: &quot;text&quot;, &quot;label&quot;: &quot; &quot;, &quot;fixed&quot;: true, &quot;physics&quot;: false}, {&quot;id&quot;: 2480742604958622697, &quot;x&quot;: -263.363369921499, &quot;y&quot;: -24.445801305886743, &quot;shape&quot;: &quot;text&quot;, &quot;label&quot;: &quot; &quot;, &quot;fixed&quot;: true, &quot;physics&quot;: false}, {&quot;id&quot;: 676064199768288179, &quot;x&quot;: -288.69498544979473, &quot;y&quot;: 56.38876831330403, &quot;shape&quot;: &quot;text&quot;, &quot;label&quot;: &quot; &quot;, &quot;fixed&quot;: true, &quot;physics&quot;: false}, {&quot;id&quot;: 7616605487933146360, &quot;x&quot;: -338.0723705006338, &quot;y&quot;: 38.552741694654706, &quot;shape&quot;: &quot;text&quot;, &quot;label&quot;: &quot; &quot;, &quot;fixed&quot;: true, &quot;physics&quot;: false}, {&quot;id&quot;: 8205015407944528923, &quot;x&quot;: -291.54874970877864, &quot;y&quot;: 64.2891499214383, &quot;shape&quot;: &quot;text&quot;, &quot;label&quot;: &quot; &quot;, &quot;fixed&quot;: true, &quot;physics&quot;: false}, {&quot;id&quot;: -7596883567215709610, &quot;x&quot;: -340.9261347596177, &quot;y&quot;: 46.453123302788974, &quot;shape&quot;: &quot;text&quot;, &quot;label&quot;: &quot; &quot;, &quot;fixed&quot;: true, &quot;physics&quot;: false}, {&quot;id&quot;: 9109355908060369854, &quot;x&quot;: -256.5214387492633, &quot;y&quot;: -21.974368961194628, &quot;shape&quot;: &quot;text&quot;, &quot;label&quot;: &quot; &quot;, &quot;fixed&quot;: true, &quot;physics&quot;: false}, {&quot;id&quot;: 3609141865272994084, &quot;x&quot;: -216.3862940695181, &quot;y&quot;: -55.8184254783427, &quot;shape&quot;: &quot;text&quot;, &quot;label&quot;: &quot; &quot;, &quot;fixed&quot;: true, &quot;physics&quot;: false}, {&quot;id&quot;: 8627230411913182353, &quot;x&quot;: -261.93648779200703, &quot;y&quot;: -28.395992109953873, &quot;shape&quot;: &quot;text&quot;, &quot;label&quot;: &quot; &quot;, &quot;fixed&quot;: true, &quot;physics&quot;: false}, {&quot;id&quot;: 8183001495646378461, &quot;x&quot;: -221.8013431122618, &quot;y&quot;: -62.240048627101935, &quot;shape&quot;: &quot;text&quot;, &quot;label&quot;: &quot; &quot;, &quot;fixed&quot;: true, &quot;physics&quot;: false}];\n",
       "        edges = [{&quot;from&quot;: 39, &quot;to&quot;: &quot;ASN97.A&quot;, &quot;title&quot;: &quot;VdWContact: 2.48\\u00c5&quot;, &quot;interaction_type&quot;: &quot;VdWContact&quot;, &quot;color&quot;: &quot;#dfab43&quot;, &quot;smooth&quot;: {&quot;type&quot;: &quot;cubicBezier&quot;, &quot;roundness&quot;: 0.2}, &quot;dashes&quot;: [10], &quot;width&quot;: 6.0, &quot;group&quot;: &quot;interaction&quot;}, {&quot;from&quot;: 62, &quot;to&quot;: &quot;ASP189.A&quot;, &quot;title&quot;: &quot;HBDonor: 2.72\\u00c5&quot;, &quot;interaction_type&quot;: &quot;HBAcceptor/HBDonor&quot;, &quot;color&quot;: &quot;#59bee3&quot;, &quot;smooth&quot;: {&quot;type&quot;: &quot;cubicBezier&quot;, &quot;roundness&quot;: 0.2}, &quot;dashes&quot;: [10], &quot;width&quot;: 6.0, &quot;group&quot;: &quot;interaction&quot;}, {&quot;from&quot;: 26, &quot;to&quot;: &quot;ASP189.A&quot;, &quot;title&quot;: &quot;VdWContact: 2.87\\u00c5&quot;, &quot;interaction_type&quot;: &quot;VdWContact&quot;, &quot;color&quot;: &quot;#dfab43&quot;, &quot;smooth&quot;: {&quot;type&quot;: &quot;cubicBezier&quot;, &quot;roundness&quot;: 0.2}, &quot;dashes&quot;: [10], &quot;width&quot;: 6.0, &quot;group&quot;: &quot;interaction&quot;}, {&quot;from&quot;: 8, &quot;to&quot;: &quot;GLN175.A&quot;, &quot;title&quot;: &quot;Hydrophobic: 4.43\\u00c5&quot;, &quot;interaction_type&quot;: &quot;Hydrophobic&quot;, &quot;color&quot;: &quot;#59e382&quot;, &quot;smooth&quot;: {&quot;type&quot;: &quot;cubicBezier&quot;, &quot;roundness&quot;: 0.2}, &quot;dashes&quot;: [10], &quot;width&quot;: 6.0, &quot;group&quot;: &quot;interaction&quot;}, {&quot;from&quot;: 10, &quot;to&quot;: &quot;GLN175.A&quot;, &quot;title&quot;: &quot;VdWContact: 3.03\\u00c5&quot;, &quot;interaction_type&quot;: &quot;VdWContact&quot;, &quot;color&quot;: &quot;#dfab43&quot;, &quot;smooth&quot;: {&quot;type&quot;: &quot;cubicBezier&quot;, &quot;roundness&quot;: 0.2}, &quot;dashes&quot;: [10], &quot;width&quot;: 6.0, &quot;group&quot;: &quot;interaction&quot;}, {&quot;from&quot;: 15, &quot;to&quot;: &quot;GLN192.A&quot;, &quot;title&quot;: &quot;HBAcceptor: 3.12\\u00c5&quot;, &quot;interaction_type&quot;: &quot;HBAcceptor/HBDonor&quot;, &quot;color&quot;: &quot;#59bee3&quot;, &quot;smooth&quot;: {&quot;type&quot;: &quot;cubicBezier&quot;, &quot;roundness&quot;: 0.2}, &quot;dashes&quot;: [10], &quot;width&quot;: 6.0, &quot;group&quot;: &quot;interaction&quot;}, {&quot;from&quot;: 15, &quot;to&quot;: &quot;GLN192.A&quot;, &quot;title&quot;: &quot;VdWContact: 2.19\\u00c5&quot;, &quot;interaction_type&quot;: &quot;VdWContact&quot;, &quot;color&quot;: &quot;#dfab43&quot;, &quot;smooth&quot;: {&quot;type&quot;: &quot;cubicBezier&quot;, &quot;roundness&quot;: 0.2}, &quot;dashes&quot;: [10], &quot;width&quot;: 6.0, &quot;group&quot;: &quot;interaction&quot;}, {&quot;from&quot;: 1, &quot;to&quot;: &quot;GLY216.A&quot;, &quot;title&quot;: &quot;HBAcceptor: 3.47\\u00c5&quot;, &quot;interaction_type&quot;: &quot;HBAcceptor/HBDonor&quot;, &quot;color&quot;: &quot;#59bee3&quot;, &quot;smooth&quot;: {&quot;type&quot;: &quot;cubicBezier&quot;, &quot;roundness&quot;: 0.2}, &quot;dashes&quot;: [10], &quot;width&quot;: 6.0, &quot;group&quot;: &quot;interaction&quot;}, {&quot;from&quot;: 1, &quot;to&quot;: &quot;GLY216.A&quot;, &quot;title&quot;: &quot;VdWContact: 2.43\\u00c5&quot;, &quot;interaction_type&quot;: &quot;VdWContact&quot;, &quot;color&quot;: &quot;#dfab43&quot;, &quot;smooth&quot;: {&quot;type&quot;: &quot;cubicBezier&quot;, &quot;roundness&quot;: 0.2}, &quot;dashes&quot;: [10], &quot;width&quot;: 6.0, &quot;group&quot;: &quot;interaction&quot;}, {&quot;from&quot;: 61, &quot;to&quot;: &quot;GLY219.A&quot;, &quot;title&quot;: &quot;HBDonor: 2.95\\u00c5&quot;, &quot;interaction_type&quot;: &quot;HBAcceptor/HBDonor&quot;, &quot;color&quot;: &quot;#59bee3&quot;, &quot;smooth&quot;: {&quot;type&quot;: &quot;cubicBezier&quot;, &quot;roundness&quot;: 0.2}, &quot;dashes&quot;: [10], &quot;width&quot;: 6.0, &quot;group&quot;: &quot;interaction&quot;}, {&quot;from&quot;: 27, &quot;to&quot;: &quot;GLY219.A&quot;, &quot;title&quot;: &quot;VdWContact: 2.95\\u00c5&quot;, &quot;interaction_type&quot;: &quot;VdWContact&quot;, &quot;color&quot;: &quot;#dfab43&quot;, &quot;smooth&quot;: {&quot;type&quot;: &quot;cubicBezier&quot;, &quot;roundness&quot;: 0.2}, &quot;dashes&quot;: [10], &quot;width&quot;: 6.0, &quot;group&quot;: &quot;interaction&quot;}, {&quot;from&quot;: 16, &quot;to&quot;: &quot;HIS57.A&quot;, &quot;title&quot;: &quot;Hydrophobic: 4.06\\u00c5&quot;, &quot;interaction_type&quot;: &quot;Hydrophobic&quot;, &quot;color&quot;: &quot;#59e382&quot;, &quot;smooth&quot;: {&quot;type&quot;: &quot;cubicBezier&quot;, &quot;roundness&quot;: 0.2}, &quot;dashes&quot;: [10], &quot;width&quot;: 6.0, &quot;group&quot;: &quot;interaction&quot;}, {&quot;from&quot;: 5, &quot;to&quot;: &quot;LEU99.A&quot;, &quot;title&quot;: &quot;Hydrophobic: 4.47\\u00c5&quot;, &quot;interaction_type&quot;: &quot;Hydrophobic&quot;, &quot;color&quot;: &quot;#59e382&quot;, &quot;smooth&quot;: {&quot;type&quot;: &quot;cubicBezier&quot;, &quot;roundness&quot;: 0.2}, &quot;dashes&quot;: [10], &quot;width&quot;: 6.0, &quot;group&quot;: &quot;interaction&quot;}, {&quot;from&quot;: 6, &quot;to&quot;: &quot;LEU99.A&quot;, &quot;title&quot;: &quot;VdWContact: 3.30\\u00c5&quot;, &quot;interaction_type&quot;: &quot;VdWContact&quot;, &quot;color&quot;: &quot;#dfab43&quot;, &quot;smooth&quot;: {&quot;type&quot;: &quot;cubicBezier&quot;, &quot;roundness&quot;: 0.2}, &quot;dashes&quot;: [10], &quot;width&quot;: 6.0, &quot;group&quot;: &quot;interaction&quot;}, {&quot;from&quot;: 25, &quot;to&quot;: &quot;SER190.A&quot;, &quot;title&quot;: &quot;VdWContact: 3.19\\u00c5&quot;, &quot;interaction_type&quot;: &quot;VdWContact&quot;, &quot;color&quot;: &quot;#dfab43&quot;, &quot;smooth&quot;: {&quot;type&quot;: &quot;cubicBezier&quot;, &quot;roundness&quot;: 0.2}, &quot;dashes&quot;: [10], &quot;width&quot;: 6.0, &quot;group&quot;: &quot;interaction&quot;}, {&quot;from&quot;: 20, &quot;to&quot;: &quot;SER195.A&quot;, &quot;title&quot;: &quot;VdWContact: 3.20\\u00c5&quot;, &quot;interaction_type&quot;: &quot;VdWContact&quot;, &quot;color&quot;: &quot;#dfab43&quot;, &quot;smooth&quot;: {&quot;type&quot;: &quot;cubicBezier&quot;, &quot;roundness&quot;: 0.2}, &quot;dashes&quot;: [10], &quot;width&quot;: 6.0, &quot;group&quot;: &quot;interaction&quot;}, {&quot;from&quot;: 55, &quot;to&quot;: &quot;SER214.A&quot;, &quot;title&quot;: &quot;HBDonor: 2.96\\u00c5&quot;, &quot;interaction_type&quot;: &quot;HBAcceptor/HBDonor&quot;, &quot;color&quot;: &quot;#59bee3&quot;, &quot;smooth&quot;: {&quot;type&quot;: &quot;cubicBezier&quot;, &quot;roundness&quot;: 0.2}, &quot;dashes&quot;: [10], &quot;width&quot;: 6.0, &quot;group&quot;: &quot;interaction&quot;}, {&quot;from&quot;: 19, &quot;to&quot;: &quot;SER214.A&quot;, &quot;title&quot;: &quot;VdWContact: 2.96\\u00c5&quot;, &quot;interaction_type&quot;: &quot;VdWContact&quot;, &quot;color&quot;: &quot;#dfab43&quot;, &quot;smooth&quot;: {&quot;type&quot;: &quot;cubicBezier&quot;, &quot;roundness&quot;: 0.2}, &quot;dashes&quot;: [10], &quot;width&quot;: 6.0, &quot;group&quot;: &quot;interaction&quot;}, {&quot;from&quot;: 7, &quot;to&quot;: &quot;THR98.A&quot;, &quot;title&quot;: &quot;VdWContact: 3.21\\u00c5&quot;, &quot;interaction_type&quot;: &quot;VdWContact&quot;, &quot;color&quot;: &quot;#dfab43&quot;, &quot;smooth&quot;: {&quot;type&quot;: &quot;cubicBezier&quot;, &quot;roundness&quot;: 0.2}, &quot;dashes&quot;: [10], &quot;width&quot;: 6.0, &quot;group&quot;: &quot;interaction&quot;}, {&quot;from&quot;: 5, &quot;to&quot;: &quot;TRP215.A&quot;, &quot;title&quot;: &quot;Hydrophobic: 4.39\\u00c5&quot;, &quot;interaction_type&quot;: &quot;Hydrophobic&quot;, &quot;color&quot;: &quot;#59e382&quot;, &quot;smooth&quot;: {&quot;type&quot;: &quot;cubicBezier&quot;, &quot;roundness&quot;: 0.2}, &quot;dashes&quot;: [10], &quot;width&quot;: 6.0, &quot;group&quot;: &quot;interaction&quot;}, {&quot;from&quot;: 1, &quot;to&quot;: &quot;TRP215.A&quot;, &quot;title&quot;: &quot;VdWContact: 2.50\\u00c5&quot;, &quot;interaction_type&quot;: &quot;VdWContact&quot;, &quot;color&quot;: &quot;#dfab43&quot;, &quot;smooth&quot;: {&quot;type&quot;: &quot;cubicBezier&quot;, &quot;roundness&quot;: 0.2}, &quot;dashes&quot;: [10], &quot;width&quot;: 6.0, &quot;group&quot;: &quot;interaction&quot;}, {&quot;from&quot;: 28, &quot;to&quot;: &quot;VAL213.A&quot;, &quot;title&quot;: &quot;Hydrophobic: 3.89\\u00c5&quot;, &quot;interaction_type&quot;: &quot;Hydrophobic&quot;, &quot;color&quot;: &quot;#59e382&quot;, &quot;smooth&quot;: {&quot;type&quot;: &quot;cubicBezier&quot;, &quot;roundness&quot;: 0.2}, &quot;dashes&quot;: [10], &quot;width&quot;: 6.0, &quot;group&quot;: &quot;interaction&quot;}, {&quot;from&quot;: -5535647359809049556, &quot;to&quot;: 6391740080644986832, &quot;color&quot;: &quot;black&quot;, &quot;physics&quot;: false, &quot;dashes&quot;: false, &quot;group&quot;: &quot;ligand&quot;, &quot;width&quot;: 4}, {&quot;from&quot;: 2315293112383831390, &quot;to&quot;: -8264080661533445904, &quot;color&quot;: &quot;black&quot;, &quot;physics&quot;: false, &quot;dashes&quot;: false, &quot;group&quot;: &quot;ligand&quot;, &quot;width&quot;: 4}, {&quot;from&quot;: 0, &quot;to&quot;: 2, &quot;color&quot;: &quot;black&quot;, &quot;physics&quot;: false, &quot;group&quot;: &quot;ligand&quot;, &quot;width&quot;: 4}, {&quot;from&quot;: 0, &quot;to&quot;: 12, &quot;color&quot;: &quot;black&quot;, &quot;physics&quot;: false, &quot;group&quot;: &quot;ligand&quot;, &quot;width&quot;: 4}, {&quot;from&quot;: 2, &quot;to&quot;: 3, &quot;color&quot;: &quot;black&quot;, &quot;physics&quot;: false, &quot;group&quot;: &quot;ligand&quot;, &quot;width&quot;: 4}, {&quot;from&quot;: 3, &quot;to&quot;: 4, &quot;color&quot;: &quot;black&quot;, &quot;physics&quot;: false, &quot;group&quot;: &quot;ligand&quot;, &quot;width&quot;: 4}, {&quot;from&quot;: 4, &quot;to&quot;: 5, &quot;color&quot;: &quot;black&quot;, &quot;physics&quot;: false, &quot;group&quot;: &quot;ligand&quot;, &quot;width&quot;: 4}, {&quot;from&quot;: 4, &quot;to&quot;: 11, &quot;color&quot;: &quot;black&quot;, &quot;physics&quot;: false, &quot;group&quot;: &quot;ligand&quot;, &quot;width&quot;: 4}, {&quot;from&quot;: 5, &quot;to&quot;: 6, &quot;color&quot;: &quot;black&quot;, &quot;physics&quot;: false, &quot;group&quot;: &quot;ligand&quot;, &quot;width&quot;: 4}, {&quot;from&quot;: 6, &quot;to&quot;: 7, &quot;color&quot;: &quot;black&quot;, &quot;physics&quot;: false, &quot;group&quot;: &quot;ligand&quot;, &quot;width&quot;: 4}, {&quot;from&quot;: 7, &quot;to&quot;: 8, &quot;color&quot;: &quot;black&quot;, &quot;physics&quot;: false, &quot;group&quot;: &quot;ligand&quot;, &quot;width&quot;: 4}, {&quot;from&quot;: 7, &quot;to&quot;: 39, &quot;color&quot;: &quot;black&quot;, &quot;physics&quot;: false, &quot;group&quot;: &quot;ligand&quot;, &quot;width&quot;: 4}, {&quot;from&quot;: 8, &quot;to&quot;: 9, &quot;color&quot;: &quot;black&quot;, &quot;physics&quot;: false, &quot;group&quot;: &quot;ligand&quot;, &quot;width&quot;: 4}, {&quot;from&quot;: 9, &quot;to&quot;: 10, &quot;color&quot;: &quot;black&quot;, &quot;physics&quot;: false, &quot;group&quot;: &quot;ligand&quot;, &quot;width&quot;: 4}, {&quot;from&quot;: 10, &quot;to&quot;: 11, &quot;color&quot;: &quot;black&quot;, &quot;physics&quot;: false, &quot;group&quot;: &quot;ligand&quot;, &quot;width&quot;: 4}, {&quot;from&quot;: 12, &quot;to&quot;: 13, &quot;color&quot;: &quot;black&quot;, &quot;physics&quot;: false, &quot;group&quot;: &quot;ligand&quot;, &quot;width&quot;: 4}, {&quot;from&quot;: 12, &quot;to&quot;: 18, &quot;color&quot;: &quot;black&quot;, &quot;physics&quot;: false, &quot;group&quot;: &quot;ligand&quot;, &quot;width&quot;: 4}, {&quot;from&quot;: 13, &quot;to&quot;: 14, &quot;color&quot;: &quot;black&quot;, &quot;physics&quot;: false, &quot;group&quot;: &quot;ligand&quot;, &quot;width&quot;: 4}, {&quot;from&quot;: 13, &quot;to&quot;: 16, &quot;color&quot;: &quot;black&quot;, &quot;physics&quot;: false, &quot;group&quot;: &quot;ligand&quot;, &quot;width&quot;: 4}, {&quot;from&quot;: -3466872540174694247, &quot;to&quot;: -2890844732736722684, &quot;color&quot;: &quot;black&quot;, &quot;physics&quot;: false, &quot;dashes&quot;: false, &quot;group&quot;: &quot;ligand&quot;, &quot;width&quot;: 4}, {&quot;from&quot;: 2296617213547448025, &quot;to&quot;: 4413122294551891259, &quot;color&quot;: &quot;black&quot;, &quot;physics&quot;: false, &quot;dashes&quot;: false, &quot;group&quot;: &quot;ligand&quot;, &quot;width&quot;: 4}, {&quot;from&quot;: 14, &quot;to&quot;: 19, &quot;color&quot;: &quot;black&quot;, &quot;physics&quot;: false, &quot;group&quot;: &quot;ligand&quot;, &quot;width&quot;: 4}, {&quot;from&quot;: 16, &quot;to&quot;: 17, &quot;color&quot;: &quot;black&quot;, &quot;physics&quot;: false, &quot;group&quot;: &quot;ligand&quot;, &quot;width&quot;: 4}, {&quot;from&quot;: 17, &quot;to&quot;: 18, &quot;color&quot;: &quot;black&quot;, &quot;physics&quot;: false, &quot;group&quot;: &quot;ligand&quot;, &quot;width&quot;: 4}, {&quot;from&quot;: 19, &quot;to&quot;: 20, &quot;color&quot;: &quot;black&quot;, &quot;physics&quot;: false, &quot;group&quot;: &quot;ligand&quot;, &quot;width&quot;: 4}, {&quot;from&quot;: 19, &quot;to&quot;: 55, &quot;color&quot;: &quot;black&quot;, &quot;physics&quot;: false, &quot;group&quot;: &quot;ligand&quot;, &quot;width&quot;: 4}, {&quot;from&quot;: 20, &quot;to&quot;: 21, &quot;color&quot;: &quot;black&quot;, &quot;physics&quot;: false, &quot;group&quot;: &quot;ligand&quot;, &quot;width&quot;: 4}, {&quot;from&quot;: 7776769002111559312, &quot;to&quot;: -1264565713112470756, &quot;color&quot;: &quot;black&quot;, &quot;physics&quot;: false, &quot;dashes&quot;: [10], &quot;group&quot;: &quot;ligand&quot;, &quot;width&quot;: 4}, {&quot;from&quot;: 3673886289685184533, &quot;to&quot;: -7518359010972987247, &quot;color&quot;: &quot;black&quot;, &quot;physics&quot;: false, &quot;dashes&quot;: [10], &quot;group&quot;: &quot;ligand&quot;, &quot;width&quot;: 4}, {&quot;from&quot;: -3188109844631951427, &quot;to&quot;: -5563051835727099200, &quot;color&quot;: &quot;black&quot;, &quot;physics&quot;: false, &quot;dashes&quot;: [10], &quot;group&quot;: &quot;ligand&quot;, &quot;width&quot;: 4}, {&quot;from&quot;: 2217705376328464899, &quot;to&quot;: 1581836982009448679, &quot;color&quot;: &quot;black&quot;, &quot;physics&quot;: false, &quot;dashes&quot;: [10], &quot;group&quot;: &quot;ligand&quot;, &quot;width&quot;: 4}, {&quot;from&quot;: -8083744273500865264, &quot;to&quot;: 4106976607762279870, &quot;color&quot;: &quot;black&quot;, &quot;physics&quot;: false, &quot;dashes&quot;: [10], &quot;group&quot;: &quot;ligand&quot;, &quot;width&quot;: 4}, {&quot;from&quot;: -233933355908717070, &quot;to&quot;: -3330621465142053513, &quot;color&quot;: &quot;black&quot;, &quot;physics&quot;: false, &quot;dashes&quot;: [10], &quot;group&quot;: &quot;ligand&quot;, &quot;width&quot;: 4}, {&quot;from&quot;: 4573701437802496251, &quot;to&quot;: 2027812194790067323, &quot;color&quot;: &quot;black&quot;, &quot;physics&quot;: false, &quot;dashes&quot;: [10], &quot;group&quot;: &quot;ligand&quot;, &quot;width&quot;: 4}, {&quot;from&quot;: -43587748891064762, &quot;to&quot;: 7349370941755286465, &quot;color&quot;: &quot;black&quot;, &quot;physics&quot;: false, &quot;dashes&quot;: [10], &quot;group&quot;: &quot;ligand&quot;, &quot;width&quot;: 4}, {&quot;from&quot;: 24, &quot;to&quot;: 25, &quot;color&quot;: &quot;black&quot;, &quot;physics&quot;: false, &quot;group&quot;: &quot;ligand&quot;, &quot;width&quot;: 4}, {&quot;from&quot;: 3794433979354703565, &quot;to&quot;: 4348839722039258908, &quot;color&quot;: &quot;black&quot;, &quot;physics&quot;: false, &quot;dashes&quot;: [10], &quot;group&quot;: &quot;ligand&quot;, &quot;width&quot;: 4}, {&quot;from&quot;: 4525441825587320098, &quot;to&quot;: 2480742604958622697, &quot;color&quot;: &quot;black&quot;, &quot;physics&quot;: false, &quot;dashes&quot;: [10], &quot;group&quot;: &quot;ligand&quot;, &quot;width&quot;: 4}, {&quot;from&quot;: 676064199768288179, &quot;to&quot;: 7616605487933146360, &quot;color&quot;: &quot;black&quot;, &quot;physics&quot;: false, &quot;dashes&quot;: false, &quot;group&quot;: &quot;ligand&quot;, &quot;width&quot;: 4}, {&quot;from&quot;: 8205015407944528923, &quot;to&quot;: -7596883567215709610, &quot;color&quot;: &quot;black&quot;, &quot;physics&quot;: false, &quot;dashes&quot;: false, &quot;group&quot;: &quot;ligand&quot;, &quot;width&quot;: 4}, {&quot;from&quot;: 25, &quot;to&quot;: 27, &quot;color&quot;: &quot;black&quot;, &quot;physics&quot;: false, &quot;group&quot;: &quot;ligand&quot;, &quot;width&quot;: 4}, {&quot;from&quot;: 27, &quot;to&quot;: 61, &quot;color&quot;: &quot;black&quot;, &quot;physics&quot;: false, &quot;group&quot;: &quot;ligand&quot;, &quot;width&quot;: 4}, {&quot;from&quot;: 27, &quot;to&quot;: 62, &quot;color&quot;: &quot;black&quot;, &quot;physics&quot;: false, &quot;group&quot;: &quot;ligand&quot;, &quot;width&quot;: 4}, {&quot;from&quot;: 9109355908060369854, &quot;to&quot;: 3609141865272994084, &quot;color&quot;: &quot;black&quot;, &quot;physics&quot;: false, &quot;dashes&quot;: [10], &quot;group&quot;: &quot;ligand&quot;, &quot;width&quot;: 4}, {&quot;from&quot;: 8627230411913182353, &quot;to&quot;: 8183001495646378461, &quot;color&quot;: &quot;black&quot;, &quot;physics&quot;: false, &quot;dashes&quot;: [10], &quot;group&quot;: &quot;ligand&quot;, &quot;width&quot;: 4}];\n",
       "        ifp = drawGraph(&#x27;mynetwork&#x27;, nodes, edges, {&quot;width&quot;: &quot;100%&quot;, &quot;height&quot;: &quot;500px&quot;, &quot;nodes&quot;: {&quot;font&quot;: {&quot;size&quot;: 20}}, &quot;physics&quot;: {&quot;barnesHut&quot;: {&quot;avoidOverlap&quot;: 0.8, &quot;springConstant&quot;: 0.1}}});\n",
       "    \n",
       "        legend_buttons = [{&quot;index&quot;: 0, &quot;label&quot;: &quot;Acidic&quot;, &quot;color&quot;: &quot;#e35959&quot;, &quot;group&quot;: &quot;residues&quot;}, {&quot;index&quot;: 1, &quot;label&quot;: &quot;Aliphatic&quot;, &quot;color&quot;: &quot;#59e382&quot;, &quot;group&quot;: &quot;residues&quot;}, {&quot;index&quot;: 2, &quot;label&quot;: &quot;Aromatic&quot;, &quot;color&quot;: &quot;#b559e3&quot;, &quot;group&quot;: &quot;residues&quot;}, {&quot;index&quot;: 3, &quot;label&quot;: &quot;Basic&quot;, &quot;color&quot;: &quot;#5979e3&quot;, &quot;group&quot;: &quot;residues&quot;}, {&quot;index&quot;: 4, &quot;label&quot;: &quot;Polar&quot;, &quot;color&quot;: &quot;#59bee3&quot;, &quot;group&quot;: &quot;residues&quot;}, {&quot;index&quot;: 0, &quot;label&quot;: &quot;HBAcceptor/HBDonor&quot;, &quot;color&quot;: &quot;#59bee3&quot;, &quot;group&quot;: &quot;interactions&quot;}, {&quot;index&quot;: 1, &quot;label&quot;: &quot;Hydrophobic&quot;, &quot;color&quot;: &quot;#59e382&quot;, &quot;group&quot;: &quot;interactions&quot;}, {&quot;index&quot;: 2, &quot;label&quot;: &quot;VdWContact&quot;, &quot;color&quot;: &quot;#dfab43&quot;, &quot;group&quot;: &quot;interactions&quot;}];\n",
       "        legend = document.getElementById(&#x27;networklegend&#x27;);\n",
       "        var div_residues = document.createElement(&#x27;div&#x27;);\n",
       "        var div_interactions = document.createElement(&#x27;div&#x27;);\n",
       "        var disabled = [];\n",
       "        var legend_callback = function() {\n",
       "            this.classList.toggle(&quot;disabled&quot;);\n",
       "            var hide = this.classList.contains(&quot;disabled&quot;);\n",
       "            var show = !hide;\n",
       "            var btn_label = this.innerHTML;\n",
       "            if (hide) {\n",
       "                disabled.push(btn_label);\n",
       "            } else {\n",
       "                disabled = disabled.filter(x =&gt; x !== btn_label);\n",
       "            }\n",
       "            var node_update = [],\n",
       "                edge_update = [];\n",
       "            // click on residue type\n",
       "            if (this.classList.contains(&quot;residues&quot;)) {\n",
       "                nodes.forEach((node) =&gt; {\n",
       "                    // find nodes corresponding to this type\n",
       "                    if (node.residue_type === btn_label) {\n",
       "                        // if hiding this type and residue isn&#x27;t already hidden\n",
       "                        if (hide &amp;&amp; !node.hidden) {\n",
       "                            node.hidden = true;\n",
       "                            node_update.push(node);\n",
       "                        // if showing this type and residue isn&#x27;t already visible\n",
       "                        } else if (show &amp;&amp; node.hidden) {\n",
       "                            // display if there&#x27;s at least one of its edge that isn&#x27;t hidden\n",
       "                            num_edges_active = edges.filter(x =&gt; x.to === node.id)\n",
       "                                                    .map(x =&gt; Boolean(x.hidden))\n",
       "                                                    .filter(x =&gt; !x)\n",
       "                                                    .length;\n",
       "                            if (num_edges_active &gt; 0) {\n",
       "                                node.hidden = false;\n",
       "                                node_update.push(node);\n",
       "                            }\n",
       "                        }\n",
       "                    }\n",
       "                });\n",
       "                ifp.body.data.nodes.update(node_update);\n",
       "            // click on interaction type\n",
       "            } else {\n",
       "                edges.forEach((edge) =&gt; {\n",
       "                    // find edges corresponding to this type\n",
       "                    if (edge.interaction_type === btn_label) {\n",
       "                        edge.hidden = !edge.hidden;\n",
       "                        edge_update.push(edge);\n",
       "                        // number of active edges for the corresponding residue\n",
       "                        var num_edges_active = edges.filter(x =&gt; x.to === edge.to)\n",
       "                                               .map(x =&gt; Boolean(x.hidden))\n",
       "                                               .filter(x =&gt; !x)\n",
       "                                               .length;\n",
       "                        // find corresponding residue\n",
       "                        var ix = nodes.findIndex(x =&gt; x.id === edge.to);\n",
       "                        // only change visibility if residue_type not being hidden\n",
       "                        if (!(disabled.includes(nodes[ix].residue_type))) {\n",
       "                            // hide if no edge being shown for this residue\n",
       "                            if (hide &amp;&amp; (num_edges_active === 0)) {\n",
       "                                nodes[ix].hidden = true;\n",
       "                                node_update.push(nodes[ix]);\n",
       "                            // show if edges are being shown\n",
       "                            } else if (show &amp;&amp; (num_edges_active &gt; 0)) {\n",
       "                                nodes[ix].hidden = false;\n",
       "                                node_update.push(nodes[ix]);\n",
       "                            }\n",
       "                        }\n",
       "                    }\n",
       "                });\n",
       "                ifp.body.data.nodes.update(node_update);\n",
       "                ifp.body.data.edges.update(edge_update);\n",
       "            }\n",
       "        };\n",
       "        legend_buttons.forEach(function(v,i) {\n",
       "            if (v.group === &quot;residues&quot;) {\n",
       "                var div = div_residues;\n",
       "                var border = &quot;none&quot;;\n",
       "                var color = v.color;\n",
       "            } else {\n",
       "                var div = div_interactions;\n",
       "                var border = &quot;3px dashed &quot; + v.color;\n",
       "                var color = &quot;white&quot;;\n",
       "            }\n",
       "            var button = div.appendChild(document.createElement(&#x27;button&#x27;));\n",
       "            button.classList.add(&quot;legend-btn&quot;, v.group);\n",
       "            button.innerHTML = v.label;\n",
       "            Object.assign(button.style, {\n",
       "                &quot;cursor&quot;: &quot;pointer&quot;,\n",
       "                &quot;background-color&quot;: color,\n",
       "                &quot;border&quot;: border,\n",
       "                &quot;border-radius&quot;: &quot;5px&quot;,\n",
       "                &quot;padding&quot;: &quot;5px&quot;,\n",
       "                &quot;margin&quot;: &quot;5px&quot;,\n",
       "                &quot;font&quot;: &quot;14px &#x27;Arial&#x27;, sans-serif&quot;,\n",
       "            });\n",
       "            button.onclick = legend_callback;\n",
       "        });\n",
       "        legend.appendChild(div_residues);\n",
       "        legend.appendChild(div_interactions);\n",
       "        \n",
       "        &lt;/script&gt;\n",
       "        &lt;/body&gt;\n",
       "        &lt;/html&gt;\n",
       "    \"></iframe>"
      ],
      "text/plain": [
       "<IPython.core.display.HTML object>"
      ]
     },
     "execution_count": 22,
     "metadata": {},
     "output_type": "execute_result"
    }
   ],
   "source": [
    "view = fp.plot_lignetwork(lig_list[0])\n",
    "view"
   ]
  },
  {
   "cell_type": "code",
   "execution_count": null,
   "id": "e8217646-90f1-496b-b902-9f15663d4324",
   "metadata": {},
   "outputs": [],
   "source": []
  }
 ],
 "metadata": {
  "kernelspec": {
   "display_name": "Python 3 (ipykernel)",
   "language": "python",
   "name": "python3"
  },
  "language_info": {
   "codemirror_mode": {
    "name": "ipython",
    "version": 3
   },
   "file_extension": ".py",
   "mimetype": "text/x-python",
   "name": "python",
   "nbconvert_exporter": "python",
   "pygments_lexer": "ipython3",
   "version": "3.11.9"
  }
 },
 "nbformat": 4,
 "nbformat_minor": 5
}
