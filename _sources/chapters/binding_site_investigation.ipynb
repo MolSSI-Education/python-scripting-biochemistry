{
 "cells": [
  {
   "cell_type": "markdown",
   "id": "224c908b-d8df-480f-8f50-351bb56df43b",
   "metadata": {},
   "source": [
    "# Investigation the Binding Site\n",
    "\n",
    "\n",
    "Learning Objectives\n",
    "\n",
    "* Use NGLView to view the 3D structure of our protein and ligand.\n",
    "* Prepare molecule structures using [PDQ2PQR](https://pdb2pqr.readthedocs.io/en/latest/) and [RDKit](https://www.rdkit.org/).\n",
    "* Analyze the interactions of the protein in the binding site using a 2D map and [ProLIF](https://prolif.readthedocs.io/en/stable/).\n",
    "\n",
    "Before we begin our docking calculations, we will likely want to investigate the binding site of our ligand of interest.\n",
    "We will want to look at the binding pocket and the interactions of the ligand with the protein residues.\n",
    "For the rest of our studies, we will choose the ligand [`13U`](https://www.rcsb.org/ligand/13U).\n",
    "A trypsin structure where this ligand is bound is 2ZQ2. \n",
    "\n",
    "## Downloading the Structure\n",
    "\n",
    "First we will need to download our protein structure. We will download [2ZQ2](https://www.rcsb.org/structure/2zq2), which is a trypsin structure with our ligand of interest bound.\n",
    "\n",
    "\n",
    "We will use a similar strategy to our last notebook for getting the file. \n",
    "We will use Python's request module and a URL from the Protein Data Bank."
   ]
  },
  {
   "cell_type": "code",
   "execution_count": null,
   "id": "084d041c-6d26-4136-a3ff-2f5586c5ea26",
   "metadata": {},
   "outputs": [],
   "source": [
    "import os # for making directories\n",
    "import requests\n",
    "\n",
    "# make a directory for pdb files\n",
    "os.makedirs(\"pdb\", exist_ok=True)\n",
    "\n",
    "pdb_id = \"2zq2\" # trypsin PDB file with ligand bound\n",
    "\n",
    "pdb_request = requests.get(f\"https://files.rcsb.org/download/{pdb_id}.pdb\")\n",
    "pdb_request.status_code"
   ]
  },
  {
   "cell_type": "markdown",
   "id": "7561518d-1b4d-4151-abf7-43dfe4293b3e",
   "metadata": {},
   "source": [
    "After downloading, we will write the text to a file."
   ]
  },
  {
   "cell_type": "code",
   "execution_count": null,
   "id": "97d0596a-533f-4aa8-afb5-bb9d182788fd",
   "metadata": {},
   "outputs": [],
   "source": [
    "with open(f\"pdb/{pdb_id}.pdb\", \"w+\") as f:\n",
    "    f.write(pdb_request.text)"
   ]
  },
  {
   "cell_type": "markdown",
   "id": "b9aed828-500a-46bc-9a4e-9cd3b841c3f0",
   "metadata": {},
   "source": [
    "## View the structure\n",
    "\n",
    "Before we start to really work with our molecule, let's investigate the structure.\n",
    "We will use a library called MDAnalysis to first process our PDB, then visualize it with a library called NGLView.\n",
    "In the cell below, we define some convenience functions for NGLView.\n",
    "These are functions that the tutorial writers wrote for our protein ligand system.\n"
   ]
  },
  {
   "cell_type": "code",
   "execution_count": null,
   "id": "1266c266-ab03-4aa9-b4b5-d097cbc9d5cf",
   "metadata": {},
   "outputs": [],
   "source": [
    "import math\n",
    "\n",
    "def rotate_view(view, x=0, y=0, z=0, degrees=True):\n",
    "    radians = 1\n",
    "    if degrees: radians = math.pi / 180\n",
    "    view.control.spin([1, 0, 0], x*radians)\n",
    "    view.control.spin([0, 1, 0], y*radians)\n",
    "    view.control.spin([0, 0, 1], z*radians)\n",
    "\n",
    "def view_binding_site(protein, ligand):\n",
    "    \"\"\"View binding site of 13U to trypsin.\n",
    "\n",
    "    Parameters\n",
    "    -----------\n",
    "    protein: mda.Universe\n",
    "        The protein as an MDAnalysis universe.\n",
    "\n",
    "    ligand: mda.Universe\n",
    "        The ligand as an MDAnalysis universe.\n",
    "    \"\"\"\n",
    "    view = nv.show_mdanalysis(protein)\n",
    "    view.clear_representations()\n",
    "    view.add_representation(\"surface\", colorScheme=\"hydrophobicity\")\n",
    "    lig_view = view.add_component(ligand)\n",
    "    lig_view.center()\n",
    "    rotate_view(view, y=180, x=20)\n",
    "    return view\n",
    "    "
   ]
  },
  {
   "cell_type": "markdown",
   "id": "ba9e6d36-8936-4af4-ad73-00271c75a17f",
   "metadata": {},
   "source": [
    "MDAnalysis is a popular tool for processing molecular dynamics trajectories and other molecular structures. \n",
    "The central object in MDAnalysis is called a \"Universe\". In MDAnalysis terms, a Universe represents a molecular\n",
    "system. We can load an MDAnalysis universe from a PDB file."
   ]
  },
  {
   "cell_type": "code",
   "execution_count": null,
   "id": "30aa1905-a77c-4b67-aeef-bd22f6123af2",
   "metadata": {},
   "outputs": [],
   "source": [
    "import MDAnalysis as mda\n",
    "import nglview as nv\n",
    "\n",
    "u = mda.Universe(f\"pdb/{pdb_id}.pdb\")"
   ]
  },
  {
   "cell_type": "markdown",
   "id": "840353df-f2ba-45f2-8a7c-51e1e69f4693",
   "metadata": {},
   "source": [
    "Text here about NGLView"
   ]
  },
  {
   "cell_type": "code",
   "execution_count": null,
   "id": "22eab29a-8893-40e1-9b7c-8c82410c6998",
   "metadata": {},
   "outputs": [],
   "source": [
    "view = nv.show_mdanalysis(u)\n",
    "view"
   ]
  },
  {
   "cell_type": "markdown",
   "id": "ade1d283-7dfd-4c10-b5df-b83e7671fe4b",
   "metadata": {},
   "source": [
    "This view looks a bit messy. MDAnalysis has a human readable [selection syntax](https://docs.mdanalysis.org/stable/documentation_pages/selections.html)\n",
    "that allows us to isolate parts of our structure. We will take our MDAnalysis Universe (the variable `u`) and use the `select_atoms` function.\n",
    "Inside this function, we will fill in what we want to select.\n",
    "\n",
    "We will create separate variables for the protein and ligand. We can select all protein residues in MDAnalysis using the word \"protein\" in the `select_atoms` function. Then, we will select our ligand using `resname 13U`. This corresponds to the residue name in the PDB we downloaded."
   ]
  },
  {
   "cell_type": "code",
   "execution_count": null,
   "id": "59398872-79e2-4b19-a6a1-2a11305cb003",
   "metadata": {},
   "outputs": [],
   "source": [
    "protein = u.select_atoms(\"protein\")\n",
    "ligand = u.select_atoms(\"resname 13U\")"
   ]
  },
  {
   "cell_type": "markdown",
   "id": "4acda0da-e9f1-4c4c-807b-79ccb64ef6b9",
   "metadata": {},
   "source": [
    "We will use our helper function, defined above, to look at how the ligand is bound to the protein.\n",
    "This helper function will use NGLView, like we did previously, but adds coloring the surface by hydrophobicity.\n",
    "It also zooms in on the ligand."
   ]
  },
  {
   "cell_type": "code",
   "execution_count": null,
   "id": "ec313913-e6a6-49de-99f5-88a8b2d5f029",
   "metadata": {},
   "outputs": [],
   "source": [
    "view_binding_site(protein, ligand)"
   ]
  },
  {
   "cell_type": "markdown",
   "id": "8326903d-0e3e-4c53-bbb1-c1d6924e9aa2",
   "metadata": {},
   "source": [
    "Upon viewing this structure, you will notice that our ligand seems to appear twice. \n",
    "If you open the PDB file to investigate, you will see the following in the ligand section:\n",
    "\n",
    "```\n",
    "HETATM 1673  C14A13U A 501      18.144  -9.216  12.088  0.61 24.22           C  \n",
    "ANISOU 1673  C14A13U A 501     1755   4793   2654   1752    148   1233       C  \n",
    "HETATM 1674  C14B13U A 501      18.147  -8.840  11.672  0.39 24.46           C  \n",
    "ANISOU 1674  C14B13U A 501     2583   4283   2430   1765    353   1279       C  \n",
    "HETATM 1675  O32A13U A 501      18.209  -8.355  11.186  0.61 24.38           O  \n",
    "ANISOU 1675  O32A13U A 501     2354   5394   1514   2217    238    919       O\n",
    "```\n",
    "\n",
    "This PDB structure provides **alternate locations** for each ligand atom. In excerpt above, you will see C14A13U and C14B13U. These are alternate locations of the same atom. \n",
    "By checking the [documentation page](https://docs.mdanalysis.org/stable/documentation_pages/selections.html) for MDAnalysis selections, we can see that MDAnalysis is prepared for this scenario. We will want to use the `altloc` keyword. This keyword is described as:\n",
    "\n",
    "> altLoc alternative-location\n",
    "\n",
    "> a selection for atoms where alternative locations are available, which is often the case with high-resolution crystal structures e.g. resid 4 and resname ALA and altLoc B selects only the atoms of ALA-4 that have an altLoc B record.\n",
    "\n",
    "We can alter our MDAnalysis selection syntax to isolate our ligands of interest."
   ]
  },
  {
   "cell_type": "code",
   "execution_count": null,
   "id": "16e2bad0-0fab-437c-8e6b-f66c1a622b3a",
   "metadata": {},
   "outputs": [],
   "source": [
    "protein = u.select_atoms(\"protein\")\n",
    "ligand_A = u.select_atoms(\"resname 13U and altLoc A\")\n",
    "ligand_B = u.select_atoms(\"resname 13U and altLoc B\")"
   ]
  },
  {
   "cell_type": "markdown",
   "id": "57451a96-f751-4d15-a7f0-44714bb551ee",
   "metadata": {},
   "source": [
    "Now, we can use our viewing function to see the location of each ligand."
   ]
  },
  {
   "cell_type": "code",
   "execution_count": null,
   "id": "43598dd2-503b-47f3-816d-e20039ced662",
   "metadata": {},
   "outputs": [],
   "source": [
    "view_binding_site(protein, ligand_A)"
   ]
  },
  {
   "cell_type": "code",
   "execution_count": null,
   "id": "92c18c8c-a728-4d57-af48-b5551fab49f8",
   "metadata": {},
   "outputs": [],
   "source": [
    "view_binding_site(protein, ligand_B)"
   ]
  },
  {
   "cell_type": "markdown",
   "id": "9c9a7b1c-2a2b-44d1-9bec-073f39761fa4",
   "metadata": {},
   "source": [
    "When we inspect the ligand in the binding site, we notice a few things.\n",
    "First, the binding site has a large hydrophobic area on the surface.\n",
    "If you zoom in on the binding pocket, you'll also see that the benzene ring and amine groups are inside."
   ]
  },
  {
   "cell_type": "markdown",
   "id": "edde1a2f-ffe6-4076-9b4d-2217f63b8ecc",
   "metadata": {},
   "source": [
    "## Making a Map of Ligand Contacts\n",
    "\n",
    "To get an even better idea of how our ligand is binding to the protein, we might choose to make a 2D map of ligand contacts with protein residues.\n",
    "In this analysis, we'll want to know how the ligand is interacting with the protein residues including if it is making hydrogen bonds, Van Der Waals interactions, etc.\n",
    "\n",
    "We will use a library called [ProLIF](https://prolif.readthedocs.io/en/stable/) for this analysis. ProLIF is short for \"Protein-Ligand Interaction Fingerprints\" and it \" is a tool designed to generate interaction fingerprints for complexes made of ligands, protein, DNA or RNA molecules extracted from molecular dynamics trajectories, docking simulations and experimental structures.\" (quote taken from ProLIF docs).\n",
    "\n",
    "Before we use ProLIF, we first have to make sure our ligand and protein file are prepared properly.\n",
    "Hydrogens are absent in most PDB files because they are not well resolved by methods like X-Ray crystallography.\n",
    "We'll need to add them back in in order to complete our analysis of the binding site.\n",
    "\n",
    "This process can actually be quite involved, as we'll see below.\n",
    "\n",
    "We will start by saving new PDBs of our selections from MDAnalysis. \n",
    "Then, we will add hydrogens."
   ]
  },
  {
   "cell_type": "code",
   "execution_count": null,
   "id": "d8f9ec87-1510-4e54-bdcb-9b53b689c9f6",
   "metadata": {},
   "outputs": [],
   "source": [
    "protein.write(f\"pdb/protein_{pdb_id}.pdb\")\n",
    "ligand_A.write(f\"pdb/ligand_A.pdb\")"
   ]
  },
  {
   "cell_type": "markdown",
   "id": "e5e41979-a795-4d3e-b4ee-c64d70d80296",
   "metadata": {},
   "source": [
    "### Structure Preparation\n",
    "Before we run the analysis, we need to make sure our protein and ligand have hydrogen atoms. \n",
    "We will do this first for the protein. \n",
    "\n",
    "We will use a specialized program called PDB2PQR that is made for working with biomolecules like proteins.\n",
    "The advantage of using PDB2PQR is that it will check our protein for missing atoms and multiple occupancy in the protein.\n",
    "\n",
    "We will use the command-line interface of this program. This means that you would usually type the command below into your terminal\n",
    "You can run command line commands in the Jupyter notebook by putting a `!` in front of the command."
   ]
  },
  {
   "cell_type": "code",
   "execution_count": null,
   "id": "e8ce5142-5c21-4fac-b0c8-656f848efad8",
   "metadata": {},
   "outputs": [],
   "source": [
    "! pdb2pqr --pdb-output=pdb/protein_h.pdb --pH=7.4 pdb/protein_2zq2.pdb protein.pqr"
   ]
  },
  {
   "cell_type": "code",
   "execution_count": null,
   "id": "bbd1951c-9d2e-4fff-a89d-3f1ccc39104f",
   "metadata": {},
   "outputs": [],
   "source": [
    "protein = mda.Universe(\"pdb/protein_H.pdb\")"
   ]
  },
  {
   "cell_type": "markdown",
   "id": "8e7f0681-c7d1-4f5d-8b1c-8e0228a0e86c",
   "metadata": {},
   "source": [
    "Adding hydrogens to our ligand is a little bit more difficult. \n",
    "We can't just use PDB2PQR in this case.\n",
    "Our ligand might not have bond lengths such that the proper bond orders are always recognized, so we will want to make sure that we have a proper reference.\n",
    "\n",
    "We will use the ideal ligand we downloaded as a reference and use a small molecule manipulation software called [RDKit]() to match bond orders and add hydrogens."
   ]
  },
  {
   "cell_type": "code",
   "execution_count": null,
   "id": "3fe5109d-f0ef-446e-8caf-6f02aba50874",
   "metadata": {},
   "outputs": [],
   "source": [
    "from rdkit import Chem\n",
    "\n",
    "from rdkit.Chem.AllChem import AssignBondOrdersFromTemplate\n",
    "\n",
    "template = Chem.MolFromMol2File(\"ligands/13U_ideal.mol2\")\n",
    "pdb_ligand = Chem.MolFromPDBFile(f\"pdb/ligand_A.pdb\")\n",
    "\n",
    "template = Chem.RemoveAllHs(template)"
   ]
  },
  {
   "cell_type": "code",
   "execution_count": null,
   "id": "fb118dba-cbf6-4fe1-96bf-a07b1e2cb141",
   "metadata": {},
   "outputs": [],
   "source": [
    "ligand = AssignBondOrdersFromTemplate(template, pdb_ligand)\n",
    "\n",
    "# Write the ligand to an SDF file\n",
    "Chem.MolToMolFile(ligand, \"pdb/ligand.sdf\")"
   ]
  },
  {
   "cell_type": "markdown",
   "id": "e936422e-7265-4478-b6ce-240f99be8af8",
   "metadata": {},
   "source": [
    "Now, we need to make sure this structure has hydrogens for our analysis."
   ]
  },
  {
   "cell_type": "code",
   "execution_count": null,
   "id": "f313c3f9-acc5-400b-af84-aafe86f33a57",
   "metadata": {},
   "outputs": [],
   "source": [
    "from openbabel import pybel\n",
    "\n",
    "# Use pybel to read the SDF, add hydrogens, and save as PDB\n",
    "mol = next(pybel.readfile(\"sdf\", \"pdb/ligand.sdf\"))\n",
    "mol.addh()  # Add hydrogens\n",
    "mol.write(\"pdb\", \"pdb/ligand_h.pdb\", overwrite=True)"
   ]
  },
  {
   "cell_type": "markdown",
   "id": "01bc7309-ea2b-4fb4-9ad4-07589abafa78",
   "metadata": {},
   "source": [
    "### Visualizing the Binding Site\n",
    "\n",
    "Now that we have our files with hydrogens prepared, we can make a map of the binding site."
   ]
  },
  {
   "cell_type": "code",
   "execution_count": null,
   "id": "8942f955-25d9-4f1b-b384-40b1bcb8919b",
   "metadata": {},
   "outputs": [],
   "source": [
    "import prolif as plf\n",
    "\n",
    "protein_h = mda.Universe(f\"pdb/protein_h.pdb\")\n",
    "ligand_h = mda.Universe(f\"pdb/ligand_h.pdb\")"
   ]
  },
  {
   "cell_type": "code",
   "execution_count": null,
   "id": "22e64eeb-0e80-405b-b7a4-2f7dca799219",
   "metadata": {},
   "outputs": [],
   "source": [
    "protein_mol = plf.Molecule.from_mda(protein_h)"
   ]
  },
  {
   "cell_type": "code",
   "execution_count": null,
   "id": "d6dacd2e-79b8-4ef5-988d-b3882cf09e0b",
   "metadata": {},
   "outputs": [],
   "source": [
    "ligand_mol = plf.Molecule.from_mda(ligand_h)"
   ]
  },
  {
   "cell_type": "code",
   "execution_count": null,
   "id": "6bea506e-6ab5-40df-9858-30de794d3462",
   "metadata": {},
   "outputs": [],
   "source": [
    "fp = plf.Fingerprint()"
   ]
  },
  {
   "cell_type": "code",
   "execution_count": null,
   "id": "49f738f2-0a32-42a9-9ffc-a6ee8a052065",
   "metadata": {},
   "outputs": [],
   "source": [
    "lig_list = [ ligand_mol ] \n",
    "\n",
    "interactions = fp.run_from_iterable(lig_list, protein_mol)"
   ]
  },
  {
   "cell_type": "code",
   "execution_count": null,
   "id": "9dc10fc4-2721-4a6a-98a4-350958a6b73e",
   "metadata": {},
   "outputs": [],
   "source": [
    "view = fp.plot_lignetwork(lig_list[0])\n",
    "view"
   ]
  }
 ],
 "metadata": {
  "kernelspec": {
   "display_name": "Python 3 (ipykernel)",
   "language": "python",
   "name": "python3"
  },
  "language_info": {
   "codemirror_mode": {
    "name": "ipython",
    "version": 3
   },
   "file_extension": ".py",
   "mimetype": "text/x-python",
   "name": "python",
   "nbconvert_exporter": "python",
   "pygments_lexer": "ipython3",
   "version": "3.1.undefined"
  }
 },
 "nbformat": 4,
 "nbformat_minor": 5
}
