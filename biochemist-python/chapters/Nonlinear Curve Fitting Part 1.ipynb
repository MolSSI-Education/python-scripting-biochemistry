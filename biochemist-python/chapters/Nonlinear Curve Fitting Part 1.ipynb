{
 "cells": [
  {
   "cell_type": "markdown",
   "metadata": {},
   "source": [
    "Non-Linear Curve Fitting, Part 1\n",
    "========================="
   ]
  },
  {
   "cell_type": "markdown",
   "metadata": {},
   "source": [
    "<div class=\"overview-this-is-a-title overview\">\n",
    "<p class=\"overview-title\">Overview</p>\n",
    "<p>Questions</p>\n",
    "    <ul>\n",
    "        <li>How can I analyze enzyme kinetics data in Python?</li>\n",
    "        <li>What is the process for non-linear least squares curve fitting in Python?</li>\n",
    "    </ul>\n",
    "<p>Objectives:</p>\n",
    "    <ul>\n",
    "        <li> Create a pandas dataframe with enzyme kinetics data from a .csv file</li>\n",
    "        <li> Add velocity calculations to the dataframe</li>\n",
    "        <li> Perform the non-linear regression calculations</li>\n",
    "    </ul>\n",
    "</div>"
   ]
  },
  {
   "cell_type": "markdown",
   "metadata": {},
   "source": [
    "### Setting up the first dataframe\n",
    "In this module, we will start by importing a csv file with some initial rate data based on A_{450} vs. time into a pandas dataframe, as we did with the data for linear regression. These data are the rate of p-nitrophenol appearance for a series of p-nitrophenol phosphate concentrations in the presence of alkaline phosphatase, a common enzyme kinetics experiment in the biochemistry lab. We will import the libraries we need, import the data and set up the dataframe."
   ]
  },
  {
   "cell_type": "code",
   "execution_count": 1,
   "metadata": {},
   "outputs": [],
   "source": [
    "# import the libraries we need\n",
    "import os # to create a filehandle for the .csv file\n",
    "import pandas as pd # for importing the .csv file and creating a dataframe\n",
    "from scipy import stats # for performing non-linear regression"
   ]
  },
  {
   "cell_type": "code",
   "execution_count": 7,
   "metadata": {},
   "outputs": [
    {
     "data": {
      "text/plain": [
       "'/Users/pac8612/Desktop/python-scripting-biochemistry/biochemist-python'"
      ]
     },
     "execution_count": 7,
     "metadata": {},
     "output_type": "execute_result"
    }
   ],
   "source": [
    "pwd  ## make sure we are in '/Users/username/Desktop/python-scripting-biochemistry'"
   ]
  },
  {
   "cell_type": "code",
   "execution_count": 8,
   "metadata": {},
   "outputs": [],
   "source": [
    "# We are not. Let's move up one directory level"
   ]
  },
  {
   "cell_type": "code",
   "execution_count": 10,
   "metadata": {},
   "outputs": [
    {
     "name": "stdout",
     "output_type": "stream",
     "text": [
      "/Users/pac8612/Desktop/python-scripting-biochemistry\n"
     ]
    }
   ],
   "source": [
    "cd .."
   ]
  },
  {
   "cell_type": "code",
   "execution_count": null,
   "metadata": {},
   "outputs": [],
   "source": [
    "# Now we are in the right directory\n",
    "datafile = os.path.join('biochemist-python', 'chapters', 'data', 'AP_kinetics.csv') # filehandle created\n",
    "print(datafile)  # filehandle confirmed"
   ]
  },
  {
   "cell_type": "code",
   "execution_count": null,
   "metadata": {},
   "outputs": [],
   "source": [
    "AP_kinetics_df = pd.read_csv(datafile)  # Use pandas to create a dataframe of the alkaline phosphatase kinetics data\n",
    "AP_kinetics_df  # dataframe confirmed"
   ]
  },
  {
   "cell_type": "markdown",
   "metadata": {},
   "source": [
    "To simplify the analysis below, we need to do a bit of data processing. Right now the column headers are the time values and the indexes (row labels) are the concentrations. We are going to transpose the dataframe so that the column headers are the concentrations and the indexes are the time values."
   ]
  },
  {
   "cell_type": "markdown",
   "metadata": {},
   "source": [
    "### Datatype\n",
    "Now that we have imported our date, we need to check the datatypes for the numbers. We must ensure that the numbers are floats, rather than strings, so we can do calculations on them.\n",
    "\n",
    "Notice that the df.dtypes command gives the overall datatype for the dataframe as an `object`, but also lists the datatypes for each of the columns."
   ]
  },
  {
   "cell_type": "code",
   "execution_count": null,
   "metadata": {},
   "outputs": [],
   "source": [
    "AP_kinetics_df.dtypes # checking to see if the numbers are strings or floats"
   ]
  },
  {
   "cell_type": "code",
   "execution_count": null,
   "metadata": {
    "scrolled": true
   },
   "outputs": [],
   "source": [
    "AP_kinetics_df.columns # checking to see if the column labels are strings or floats"
   ]
  },
  {
   "cell_type": "markdown",
   "metadata": {},
   "source": [
    "We can see that the column headers (the kinetics time points) are strings. ***See below***"
   ]
  },
  {
   "cell_type": "markdown",
   "metadata": {},
   "source": [
    "### Calculating initial velocities\n",
    "\n",
    "The first column in our dataframe is the pNPP concentration in mM ('pNPP (mM)'). The other colulmn headers are the times in minutes for the kinetic data. Notice that these are listed as strings. To calculate initial velocities, these need to be changed to floats.\n",
    "\n",
    "We need to set up the column headers as our x values. For the y values, we need to skip the first value ('pNPP (mM)') and then use the remaining values (A-405 as a function of time) to calculate slopes and get our initial velocities. The extinction coefficient for p-nitrophenol under these buffer conditions is 15.0 mM<sup>-1</sup>cm<sup>-1</sup>."
   ]
  },
  {
   "cell_type": "markdown",
   "metadata": {},
   "source": [
    "Before transposing the dataframe, we will explicitly define the index as the concentrations, rather than as the row numbers (the default index)"
   ]
  },
  {
   "cell_type": "code",
   "execution_count": null,
   "metadata": {},
   "outputs": [],
   "source": [
    "# Set index to concentrations\n",
    "AP_kinetics_df.set_index('pNPP (mM)', inplace=True)"
   ]
  },
  {
   "cell_type": "code",
   "execution_count": null,
   "metadata": {},
   "outputs": [],
   "source": [
    "AP_kinetics_df.head()"
   ]
  },
  {
   "cell_type": "code",
   "execution_count": null,
   "metadata": {},
   "outputs": [],
   "source": [
    "# Transpose to get columns as rows\n",
    "AP_kinetics_df_transpose = AP_kinetics_df.T\n",
    "AP_kinetics_df_transpose.head()"
   ]
  },
  {
   "cell_type": "code",
   "execution_count": null,
   "metadata": {},
   "outputs": [],
   "source": [
    "AP_kinetics_df_transpose.tail()"
   ]
  },
  {
   "cell_type": "code",
   "execution_count": null,
   "metadata": {},
   "outputs": [],
   "source": [
    "# Make sure the index is a float\n",
    "AP_kinetics_df_transpose.index = AP_kinetics_df_transpose.index.astype('float64')"
   ]
  },
  {
   "cell_type": "code",
   "execution_count": null,
   "metadata": {},
   "outputs": [],
   "source": [
    "# Check to see how the data look\n",
    "# Using the plot command that is available with the dataframe\n",
    "AP_kinetics_df_transpose.plot(marker = 'o')"
   ]
  },
  {
   "cell_type": "markdown",
   "metadata": {},
   "source": [
    "The plot shows the time course for $\\Delta$A$_{405}$ over time in minutes"
   ]
  },
  {
   "cell_type": "code",
   "execution_count": null,
   "metadata": {},
   "outputs": [],
   "source": [
    "# Make sure the time values are floats, not strings\n",
    "AP_kinetics_df.columns.values[1:].astype('float64')"
   ]
  },
  {
   "cell_type": "markdown",
   "metadata": {},
   "source": [
    "We want to calculate the slope for each column. We can use \"apply\" to do this. Apply takes all of the row or column values and applies a function.\n",
    "\n",
    "We will define a function which returns the slope only. It will take in a pandas series. A pandas series always includes an index and a column. We have set the index to be the x-values, so we just need to give a series to this function.\n"
   ]
  },
  {
   "cell_type": "code",
   "execution_count": null,
   "metadata": {},
   "outputs": [],
   "source": [
    "def linregress_column(df_series):\n",
    "\n",
    "  # often times in python if you do not plan to use a variable, you can just\n",
    "  # name it with an underscore. This tells anyone reading your code and python\n",
    "  # that you don't intend to do anything with the values in the variable.\n",
    "\n",
    "  # Since we only want the slope, we'll just name the rest of the\n",
    "  # variables with underscores.\n",
    "  slope, _, _, _, _, = stats.linregress(df_series.index, df_series.values)\n",
    "  return slope"
   ]
  },
  {
   "cell_type": "code",
   "execution_count": null,
   "metadata": {},
   "outputs": [],
   "source": [
    "# Make an empty dataframe\n",
    "MM_df = pd.DataFrame()"
   ]
  },
  {
   "cell_type": "code",
   "execution_count": null,
   "metadata": {},
   "outputs": [],
   "source": [
    "# Apply function to get slopes and save in empty dataframe\n",
    "MM_df['slopes'] = AP_kinetics_df_transpose.apply(linregress_column)"
   ]
  },
  {
   "cell_type": "code",
   "execution_count": null,
   "metadata": {},
   "outputs": [],
   "source": [
    "MM_df"
   ]
  },
  {
   "cell_type": "code",
   "execution_count": null,
   "metadata": {},
   "outputs": [],
   "source": [
    "# Calculate initial velocities\n",
    "MM_df['initial velocities'] = MM_df['slopes'] / 0.015\n",
    "MM_df"
   ]
  },
  {
   "cell_type": "code",
   "execution_count": null,
   "metadata": {},
   "outputs": [],
   "source": [
    "MM_df.to_csv('MM_data.csv')"
   ]
  },
  {
   "cell_type": "markdown",
   "metadata": {},
   "source": [
    "We will use this dataframe now to perform the nonlinear regression fit using the SciPy library in part 2 of this lesson. To save this data for part 2, so we need to write it to a csv file in our data directory."
   ]
  },
  {
   "cell_type": "code",
   "execution_count": null,
   "metadata": {},
   "outputs": [],
   "source": [
    "MM_df.to_csv('biochemist-python/chapters/data/MM_data.csv')"
   ]
  },
  {
   "cell_type": "markdown",
   "metadata": {},
   "source": [
    "<div class=\"exercise-this-is-a-title exercise\">\n",
    "<p class=\"exercise-title\">Check your understanding</p>\n",
    "    <p>You will find an Excel file in your data folder, chymotrypsin_kinetics.xlsx, with some kinetic data from a chymotrypsin experiment. Apply the principles above to create dataframes and a .csv file for creating a Michaelis-Menten plot with these data. Under these assay conditions the extinction coefficient for p-nitrophenol is 18,320 M<sup>-1</sup>cm<sup>-1</sup>.</p>\n",
    "\n",
    "```{admonition} Hint\n",
    ":class: dropdown\n",
    "    You will need to get the data into a layout and file format that is easily read by pandas. \n",
    "    <ul>\n",
    "        <li>Delete the first seven lines of the Excel file.</li>\n",
    "        <li>Delete the first column of the Excel file.</li>\n",
    "        <li>Save the file as chymotrypsin_kinetics.csv.</li>\n",
    "        <li>Your data will should look something like this:</li>\n",
    "        <img src=\"biochemist-python/chapters/images/csv_image.png\" alt=\"csv image\">\n",
    "    \n",
    "```{admonition} Solution\n",
    ":class: dropdown\n",
    "    \n",
    "    \n",
    "    \n",
    "```\n",
    "    \n",
    "</div>\n"
   ]
  },
  {
   "cell_type": "code",
   "execution_count": null,
   "metadata": {},
   "outputs": [],
   "source": [
    "import os \n",
    "import pandas as pd \n",
    "import numpy as np \n",
    "from scipy import stats \n",
    "datafile = os.path.join('biochemist-python', 'chapters', 'data', 'chymotrypsin_kinetics.csv') # filehandle created\n",
    "chymo_rates_df = pd.read_csv(datafile)\n",
    "\n",
    "def slope_only(xdata, ydata):  # SciPy linregress has five outputs; I only want the slope\n",
    "    slope, intercept, rvalue, pvalue, stderr = stats.linregress(xdata, ydata)\n",
    "    return slope\n",
    "\n",
    "slope_list = []  # setting up a list to contain the slope values\n",
    "for i in range(0, len(chymo_rates_df)):  # looping through the pandas dataframe. Is there a better way to do this?\n",
    "    xdata = chymo_rates_df.columns.values[2:len(chymo_rates_df.columns)].astype('float64')\n",
    "    ydata = chymo_rates_df.iloc[i, 2:len(chymo_rates_df.columns)]\n",
    "    slope = slope_only(xdata, ydata)\n",
    "    slope_list.append(slope)\n",
    "\n",
    "chymo_MM_df = pd.DataFrame(chymo_rates_df, columns = ['[pNPA] (mM)'])      \n",
    "chymo_MM_df\n",
    "chymo_MM_df['slopes'] = slope_list \n",
    "chymo_MM_df['Initial Velocities'] = MM_df['slopes'] / 18.32 \n",
    "chymo_MM_df\n",
    "MM_df.to_csv('biochemist-python/chapters/data/chymo_MM_data.csv')\n"
   ]
  },
  {
   "cell_type": "code",
   "execution_count": null,
   "metadata": {},
   "outputs": [],
   "source": []
  }
 ],
 "metadata": {
  "kernelspec": {
   "display_name": "Python 3",
   "language": "python",
   "name": "python3"
  },
  "language_info": {
   "codemirror_mode": {
    "name": "ipython",
    "version": 3
   },
   "file_extension": ".py",
   "mimetype": "text/x-python",
   "name": "python",
   "nbconvert_exporter": "python",
   "pygments_lexer": "ipython3",
   "version": "3.7.6"
  }
 },
 "nbformat": 4,
 "nbformat_minor": 4
}
