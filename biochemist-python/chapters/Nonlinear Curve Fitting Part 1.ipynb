{
 "cells": [
  {
   "cell_type": "markdown",
   "metadata": {},
   "source": [
    "Non-Linear Curve Fitting, Part 1\n",
    "========================="
   ]
  },
  {
   "cell_type": "markdown",
   "metadata": {},
   "source": [
    "<div class=\"overview-this-is-a-title overview\">\n",
    "<p class=\"overview-title\">Overview</p>\n",
    "<p>Questions</p>\n",
    "    <ul>\n",
    "        <li>How can I analyze enzyme kinetics data in Python?</li>\n",
    "        <li>What is the process for non-linear least squares curve fitting in Python?</li>\n",
    "    </ul>\n",
    "<p>Objectives:</p>\n",
    "    <ul>\n",
    "        <li> Create a pandas dataframe with enzyme kinetics data from a .csv file</li>\n",
    "        <li> Add velocity calculations to the dataframe</li>\n",
    "        <li> Perform the non-linear regression calculations</li>\n",
    "    </ul>\n",
    "</div>"
   ]
  },
  {
   "cell_type": "code",
   "execution_count": 1,
   "metadata": {},
   "outputs": [],
   "source": [
    "# import the libraries we need\n",
    "import os # to create a filehandle for the .csv file\n",
    "import pandas as pd # for importing the .csv file and creating a dataframe\n",
    "import numpy as np # for calculations and datatyping. ***Jessica - is this necessary?***\n",
    "from scipy import stats # for performing non-linear regression"
   ]
  },
  {
   "cell_type": "code",
   "execution_count": 2,
   "metadata": {},
   "outputs": [
    {
     "name": "stdout",
     "output_type": "stream",
     "text": [
      "/Users/pac8612/Desktop/python-scripting-biochemistry\n"
     ]
    }
   ],
   "source": [
    "cd ../.."
   ]
  },
  {
   "cell_type": "code",
   "execution_count": 3,
   "metadata": {},
   "outputs": [
    {
     "name": "stdout",
     "output_type": "stream",
     "text": [
      "biochemist-python/chapters/data/AP_kinetics.csv\n"
     ]
    }
   ],
   "source": [
    "datafile = os.path.join('biochemist-python', 'chapters', 'data', 'AP_kinetics.csv') # filehandle created\n",
    "print(datafile)  # filehandle confirmed"
   ]
  },
  {
   "cell_type": "code",
   "execution_count": 4,
   "metadata": {},
   "outputs": [
    {
     "data": {
      "text/html": [
       "<div>\n",
       "<style scoped>\n",
       "    .dataframe tbody tr th:only-of-type {\n",
       "        vertical-align: middle;\n",
       "    }\n",
       "\n",
       "    .dataframe tbody tr th {\n",
       "        vertical-align: top;\n",
       "    }\n",
       "\n",
       "    .dataframe thead th {\n",
       "        text-align: right;\n",
       "    }\n",
       "</style>\n",
       "<table border=\"1\" class=\"dataframe\">\n",
       "  <thead>\n",
       "    <tr style=\"text-align: right;\">\n",
       "      <th></th>\n",
       "      <th>pNPP (mM)</th>\n",
       "      <th>0.25</th>\n",
       "      <th>0.5</th>\n",
       "      <th>0.75</th>\n",
       "      <th>1</th>\n",
       "      <th>1.25</th>\n",
       "      <th>1.5</th>\n",
       "      <th>1.75</th>\n",
       "      <th>2</th>\n",
       "      <th>2.25</th>\n",
       "      <th>...</th>\n",
       "      <th>2.75</th>\n",
       "      <th>3</th>\n",
       "      <th>3.25</th>\n",
       "      <th>3.5</th>\n",
       "      <th>3.75</th>\n",
       "      <th>4</th>\n",
       "      <th>4.25</th>\n",
       "      <th>4.5</th>\n",
       "      <th>4.75</th>\n",
       "      <th>5</th>\n",
       "    </tr>\n",
       "  </thead>\n",
       "  <tbody>\n",
       "    <tr>\n",
       "      <th>0</th>\n",
       "      <td>20.00</td>\n",
       "      <td>0.073923</td>\n",
       "      <td>0.139234</td>\n",
       "      <td>0.226077</td>\n",
       "      <td>0.287081</td>\n",
       "      <td>0.366029</td>\n",
       "      <td>0.434928</td>\n",
       "      <td>0.522488</td>\n",
       "      <td>0.574163</td>\n",
       "      <td>0.671770</td>\n",
       "      <td>...</td>\n",
       "      <td>0.828947</td>\n",
       "      <td>0.818182</td>\n",
       "      <td>0.933014</td>\n",
       "      <td>1.044976</td>\n",
       "      <td>1.098086</td>\n",
       "      <td>1.182775</td>\n",
       "      <td>1.256699</td>\n",
       "      <td>1.266029</td>\n",
       "      <td>1.431818</td>\n",
       "      <td>1.392344</td>\n",
       "    </tr>\n",
       "    <tr>\n",
       "      <th>1</th>\n",
       "      <td>10.00</td>\n",
       "      <td>0.066055</td>\n",
       "      <td>0.143119</td>\n",
       "      <td>0.208486</td>\n",
       "      <td>0.264220</td>\n",
       "      <td>0.330275</td>\n",
       "      <td>0.396330</td>\n",
       "      <td>0.481651</td>\n",
       "      <td>0.522936</td>\n",
       "      <td>0.606881</td>\n",
       "      <td>...</td>\n",
       "      <td>0.794725</td>\n",
       "      <td>0.784404</td>\n",
       "      <td>0.849771</td>\n",
       "      <td>0.915138</td>\n",
       "      <td>1.042431</td>\n",
       "      <td>1.067890</td>\n",
       "      <td>1.193119</td>\n",
       "      <td>1.250917</td>\n",
       "      <td>1.294266</td>\n",
       "      <td>1.444954</td>\n",
       "    </tr>\n",
       "    <tr>\n",
       "      <th>2</th>\n",
       "      <td>7.00</td>\n",
       "      <td>0.063797</td>\n",
       "      <td>0.130253</td>\n",
       "      <td>0.205348</td>\n",
       "      <td>0.255190</td>\n",
       "      <td>0.328956</td>\n",
       "      <td>0.394747</td>\n",
       "      <td>0.455886</td>\n",
       "      <td>0.515696</td>\n",
       "      <td>0.610063</td>\n",
       "      <td>...</td>\n",
       "      <td>0.738323</td>\n",
       "      <td>0.789494</td>\n",
       "      <td>0.889842</td>\n",
       "      <td>0.911772</td>\n",
       "      <td>0.986867</td>\n",
       "      <td>1.105823</td>\n",
       "      <td>1.095854</td>\n",
       "      <td>1.244051</td>\n",
       "      <td>1.325791</td>\n",
       "      <td>1.262658</td>\n",
       "    </tr>\n",
       "    <tr>\n",
       "      <th>3</th>\n",
       "      <td>4.00</td>\n",
       "      <td>0.060612</td>\n",
       "      <td>0.121224</td>\n",
       "      <td>0.192857</td>\n",
       "      <td>0.237551</td>\n",
       "      <td>0.303061</td>\n",
       "      <td>0.367347</td>\n",
       "      <td>0.441429</td>\n",
       "      <td>0.499592</td>\n",
       "      <td>0.567551</td>\n",
       "      <td>...</td>\n",
       "      <td>0.666735</td>\n",
       "      <td>0.720000</td>\n",
       "      <td>0.764082</td>\n",
       "      <td>0.848571</td>\n",
       "      <td>0.881633</td>\n",
       "      <td>0.950204</td>\n",
       "      <td>1.061633</td>\n",
       "      <td>1.113061</td>\n",
       "      <td>1.186531</td>\n",
       "      <td>1.175510</td>\n",
       "    </tr>\n",
       "    <tr>\n",
       "      <th>4</th>\n",
       "      <td>2.00</td>\n",
       "      <td>0.052759</td>\n",
       "      <td>0.104483</td>\n",
       "      <td>0.147414</td>\n",
       "      <td>0.215172</td>\n",
       "      <td>0.271552</td>\n",
       "      <td>0.322759</td>\n",
       "      <td>0.372931</td>\n",
       "      <td>0.409655</td>\n",
       "      <td>0.465517</td>\n",
       "      <td>...</td>\n",
       "      <td>0.568966</td>\n",
       "      <td>0.614483</td>\n",
       "      <td>0.652241</td>\n",
       "      <td>0.753103</td>\n",
       "      <td>0.744828</td>\n",
       "      <td>0.786207</td>\n",
       "      <td>0.861724</td>\n",
       "      <td>0.921724</td>\n",
       "      <td>1.012241</td>\n",
       "      <td>1.075862</td>\n",
       "    </tr>\n",
       "    <tr>\n",
       "      <th>5</th>\n",
       "      <td>1.00</td>\n",
       "      <td>0.037895</td>\n",
       "      <td>0.080526</td>\n",
       "      <td>0.112500</td>\n",
       "      <td>0.165789</td>\n",
       "      <td>0.187500</td>\n",
       "      <td>0.232105</td>\n",
       "      <td>0.273553</td>\n",
       "      <td>0.318947</td>\n",
       "      <td>0.348158</td>\n",
       "      <td>...</td>\n",
       "      <td>0.434211</td>\n",
       "      <td>0.454737</td>\n",
       "      <td>0.538816</td>\n",
       "      <td>0.574737</td>\n",
       "      <td>0.580263</td>\n",
       "      <td>0.663158</td>\n",
       "      <td>0.677763</td>\n",
       "      <td>0.703421</td>\n",
       "      <td>0.712500</td>\n",
       "      <td>0.821053</td>\n",
       "    </tr>\n",
       "    <tr>\n",
       "      <th>6</th>\n",
       "      <td>0.70</td>\n",
       "      <td>0.033797</td>\n",
       "      <td>0.067594</td>\n",
       "      <td>0.093516</td>\n",
       "      <td>0.127312</td>\n",
       "      <td>0.170625</td>\n",
       "      <td>0.206719</td>\n",
       "      <td>0.229687</td>\n",
       "      <td>0.257250</td>\n",
       "      <td>0.307125</td>\n",
       "      <td>...</td>\n",
       "      <td>0.364547</td>\n",
       "      <td>0.381937</td>\n",
       "      <td>0.426563</td>\n",
       "      <td>0.477750</td>\n",
       "      <td>0.516797</td>\n",
       "      <td>0.519750</td>\n",
       "      <td>0.541078</td>\n",
       "      <td>0.561094</td>\n",
       "      <td>0.592266</td>\n",
       "      <td>0.669375</td>\n",
       "    </tr>\n",
       "    <tr>\n",
       "      <th>7</th>\n",
       "      <td>0.40</td>\n",
       "      <td>0.023538</td>\n",
       "      <td>0.044308</td>\n",
       "      <td>0.068538</td>\n",
       "      <td>0.093231</td>\n",
       "      <td>0.116538</td>\n",
       "      <td>0.142615</td>\n",
       "      <td>0.159923</td>\n",
       "      <td>0.192000</td>\n",
       "      <td>0.209769</td>\n",
       "      <td>...</td>\n",
       "      <td>0.243692</td>\n",
       "      <td>0.279692</td>\n",
       "      <td>0.309000</td>\n",
       "      <td>0.329538</td>\n",
       "      <td>0.360000</td>\n",
       "      <td>0.358154</td>\n",
       "      <td>0.396231</td>\n",
       "      <td>0.402923</td>\n",
       "      <td>0.442846</td>\n",
       "      <td>0.443077</td>\n",
       "    </tr>\n",
       "    <tr>\n",
       "      <th>8</th>\n",
       "      <td>0.20</td>\n",
       "      <td>0.012955</td>\n",
       "      <td>0.027000</td>\n",
       "      <td>0.042955</td>\n",
       "      <td>0.055636</td>\n",
       "      <td>0.066136</td>\n",
       "      <td>0.077727</td>\n",
       "      <td>0.095455</td>\n",
       "      <td>0.108000</td>\n",
       "      <td>0.123955</td>\n",
       "      <td>...</td>\n",
       "      <td>0.157500</td>\n",
       "      <td>0.165273</td>\n",
       "      <td>0.179045</td>\n",
       "      <td>0.194727</td>\n",
       "      <td>0.196364</td>\n",
       "      <td>0.229091</td>\n",
       "      <td>0.241091</td>\n",
       "      <td>0.245455</td>\n",
       "      <td>0.269455</td>\n",
       "      <td>0.286364</td>\n",
       "    </tr>\n",
       "    <tr>\n",
       "      <th>9</th>\n",
       "      <td>0.10</td>\n",
       "      <td>0.007350</td>\n",
       "      <td>0.014700</td>\n",
       "      <td>0.022500</td>\n",
       "      <td>0.028800</td>\n",
       "      <td>0.036750</td>\n",
       "      <td>0.045450</td>\n",
       "      <td>0.050400</td>\n",
       "      <td>0.061800</td>\n",
       "      <td>0.066825</td>\n",
       "      <td>...</td>\n",
       "      <td>0.080850</td>\n",
       "      <td>0.085500</td>\n",
       "      <td>0.092625</td>\n",
       "      <td>0.100800</td>\n",
       "      <td>0.117000</td>\n",
       "      <td>0.122400</td>\n",
       "      <td>0.122400</td>\n",
       "      <td>0.135000</td>\n",
       "      <td>0.145350</td>\n",
       "      <td>0.142500</td>\n",
       "    </tr>\n",
       "    <tr>\n",
       "      <th>10</th>\n",
       "      <td>0.05</td>\n",
       "      <td>0.003868</td>\n",
       "      <td>0.007974</td>\n",
       "      <td>0.012079</td>\n",
       "      <td>0.016421</td>\n",
       "      <td>0.020329</td>\n",
       "      <td>0.022737</td>\n",
       "      <td>0.029013</td>\n",
       "      <td>0.031263</td>\n",
       "      <td>0.036237</td>\n",
       "      <td>...</td>\n",
       "      <td>0.042987</td>\n",
       "      <td>0.045474</td>\n",
       "      <td>0.053882</td>\n",
       "      <td>0.055816</td>\n",
       "      <td>0.058618</td>\n",
       "      <td>0.060632</td>\n",
       "      <td>0.067776</td>\n",
       "      <td>0.074605</td>\n",
       "      <td>0.075000</td>\n",
       "      <td>0.077368</td>\n",
       "    </tr>\n",
       "  </tbody>\n",
       "</table>\n",
       "<p>11 rows × 21 columns</p>\n",
       "</div>"
      ],
      "text/plain": [
       "    pNPP (mM)      0.25       0.5      0.75         1      1.25       1.5  \\\n",
       "0       20.00  0.073923  0.139234  0.226077  0.287081  0.366029  0.434928   \n",
       "1       10.00  0.066055  0.143119  0.208486  0.264220  0.330275  0.396330   \n",
       "2        7.00  0.063797  0.130253  0.205348  0.255190  0.328956  0.394747   \n",
       "3        4.00  0.060612  0.121224  0.192857  0.237551  0.303061  0.367347   \n",
       "4        2.00  0.052759  0.104483  0.147414  0.215172  0.271552  0.322759   \n",
       "5        1.00  0.037895  0.080526  0.112500  0.165789  0.187500  0.232105   \n",
       "6        0.70  0.033797  0.067594  0.093516  0.127312  0.170625  0.206719   \n",
       "7        0.40  0.023538  0.044308  0.068538  0.093231  0.116538  0.142615   \n",
       "8        0.20  0.012955  0.027000  0.042955  0.055636  0.066136  0.077727   \n",
       "9        0.10  0.007350  0.014700  0.022500  0.028800  0.036750  0.045450   \n",
       "10       0.05  0.003868  0.007974  0.012079  0.016421  0.020329  0.022737   \n",
       "\n",
       "        1.75         2      2.25  ...      2.75         3      3.25       3.5  \\\n",
       "0   0.522488  0.574163  0.671770  ...  0.828947  0.818182  0.933014  1.044976   \n",
       "1   0.481651  0.522936  0.606881  ...  0.794725  0.784404  0.849771  0.915138   \n",
       "2   0.455886  0.515696  0.610063  ...  0.738323  0.789494  0.889842  0.911772   \n",
       "3   0.441429  0.499592  0.567551  ...  0.666735  0.720000  0.764082  0.848571   \n",
       "4   0.372931  0.409655  0.465517  ...  0.568966  0.614483  0.652241  0.753103   \n",
       "5   0.273553  0.318947  0.348158  ...  0.434211  0.454737  0.538816  0.574737   \n",
       "6   0.229687  0.257250  0.307125  ...  0.364547  0.381937  0.426563  0.477750   \n",
       "7   0.159923  0.192000  0.209769  ...  0.243692  0.279692  0.309000  0.329538   \n",
       "8   0.095455  0.108000  0.123955  ...  0.157500  0.165273  0.179045  0.194727   \n",
       "9   0.050400  0.061800  0.066825  ...  0.080850  0.085500  0.092625  0.100800   \n",
       "10  0.029013  0.031263  0.036237  ...  0.042987  0.045474  0.053882  0.055816   \n",
       "\n",
       "        3.75         4      4.25       4.5      4.75         5  \n",
       "0   1.098086  1.182775  1.256699  1.266029  1.431818  1.392344  \n",
       "1   1.042431  1.067890  1.193119  1.250917  1.294266  1.444954  \n",
       "2   0.986867  1.105823  1.095854  1.244051  1.325791  1.262658  \n",
       "3   0.881633  0.950204  1.061633  1.113061  1.186531  1.175510  \n",
       "4   0.744828  0.786207  0.861724  0.921724  1.012241  1.075862  \n",
       "5   0.580263  0.663158  0.677763  0.703421  0.712500  0.821053  \n",
       "6   0.516797  0.519750  0.541078  0.561094  0.592266  0.669375  \n",
       "7   0.360000  0.358154  0.396231  0.402923  0.442846  0.443077  \n",
       "8   0.196364  0.229091  0.241091  0.245455  0.269455  0.286364  \n",
       "9   0.117000  0.122400  0.122400  0.135000  0.145350  0.142500  \n",
       "10  0.058618  0.060632  0.067776  0.074605  0.075000  0.077368  \n",
       "\n",
       "[11 rows x 21 columns]"
      ]
     },
     "execution_count": 4,
     "metadata": {},
     "output_type": "execute_result"
    }
   ],
   "source": [
    "AP_kinetics_df = pd.read_csv(datafile)  # Use pandas to create a dataframe of the alkaline phosphatase kinetics data\n",
    "AP_kinetics_df  # dataframe confirmed"
   ]
  },
  {
   "cell_type": "markdown",
   "metadata": {},
   "source": [
    "### Datatype\n",
    "Now that we have imported our date, we need to check the datatypes for the numbers. We must ensure that the numbers are floats, rather than strings, so we can do calculations on them.\n",
    "\n",
    "Notice that the df.dtypes command gives the overall datatype for the dataframe as an `object`, but also lists the datatypes for each of the columns."
   ]
  },
  {
   "cell_type": "code",
   "execution_count": 5,
   "metadata": {},
   "outputs": [
    {
     "data": {
      "text/plain": [
       "pNPP (mM)    float64\n",
       "0.25         float64\n",
       "0.5          float64\n",
       "0.75         float64\n",
       "1            float64\n",
       "1.25         float64\n",
       "1.5          float64\n",
       "1.75         float64\n",
       "2            float64\n",
       "2.25         float64\n",
       "2.5          float64\n",
       "2.75         float64\n",
       "3            float64\n",
       "3.25         float64\n",
       "3.5          float64\n",
       "3.75         float64\n",
       "4            float64\n",
       "4.25         float64\n",
       "4.5          float64\n",
       "4.75         float64\n",
       "5            float64\n",
       "dtype: object"
      ]
     },
     "execution_count": 5,
     "metadata": {},
     "output_type": "execute_result"
    }
   ],
   "source": [
    "AP_kinetics_df.dtypes # checking to see if the numbers are strings or floats"
   ]
  },
  {
   "cell_type": "code",
   "execution_count": 6,
   "metadata": {
    "scrolled": true
   },
   "outputs": [
    {
     "data": {
      "text/plain": [
       "['pNPP (mM)',\n",
       " '0.25',\n",
       " '0.5',\n",
       " '0.75',\n",
       " '1',\n",
       " '1.25',\n",
       " '1.5',\n",
       " '1.75',\n",
       " '2',\n",
       " '2.25',\n",
       " '2.5',\n",
       " '2.75',\n",
       " '3',\n",
       " '3.25',\n",
       " '3.5',\n",
       " '3.75',\n",
       " '4',\n",
       " '4.25',\n",
       " '4.5',\n",
       " '4.75',\n",
       " '5']"
      ]
     },
     "metadata": {},
     "output_type": "display_data"
    }
   ],
   "source": [
    "display(list(AP_kinetics_df.columns.values)) # checking to see if the column labels are strings or floats"
   ]
  },
  {
   "cell_type": "markdown",
   "metadata": {},
   "source": [
    "### Calculating initial velocities\n",
    "\n",
    "The first column in our dataframe is the pNPP concentration in mM ('pNPP (mM)'). The other colulmn headers are the times in minutes for the kinetic data. Notice that these are listed as strings. To calculate initial velocities, these need to be changed to floats.\n",
    "\n",
    "We need to set up the column headers as our x values. For the y values, we need to skip the first value ('pNPP (mM)') and then use the remaining values (A-405 as a function of time) to calculate slopes and get our initial velocities. The extinction coefficient for p-nitrophenol under these buffer conditions is 15.0 mM<sup>-1</sup>cm<sup>-1</sup>."
   ]
  },
  {
   "cell_type": "code",
   "execution_count": 7,
   "metadata": {},
   "outputs": [
    {
     "data": {
      "text/plain": [
       "array([0.25, 0.5 , 0.75, 1.  , 1.25, 1.5 , 1.75, 2.  , 2.25, 2.5 , 2.75,\n",
       "       3.  , 3.25, 3.5 , 3.75, 4.  , 4.25, 4.5 , 4.75, 5.  ])"
      ]
     },
     "execution_count": 7,
     "metadata": {},
     "output_type": "execute_result"
    }
   ],
   "source": [
    "AP_kinetics_df.columns.values[1:].astype('float64')"
   ]
  },
  {
   "cell_type": "code",
   "execution_count": 8,
   "metadata": {},
   "outputs": [
    {
     "name": "stdout",
     "output_type": "stream",
     "text": [
      "[0.25 0.5  0.75 1.   1.25 1.5  1.75 2.   2.25 2.5  2.75 3.   3.25 3.5\n",
      " 3.75 4.   4.25 4.5  4.75 5.  ]\n"
     ]
    }
   ],
   "source": [
    "xdata = AP_kinetics_df.columns.values[1:].astype('float64') # extracting the column headers as floats\n",
    "print(xdata)"
   ]
  },
  {
   "cell_type": "code",
   "execution_count": 9,
   "metadata": {},
   "outputs": [],
   "source": [
    "# AP_kinetics_df.drop(columns = 'pNPP (mM)', inplace=True) - syntax for dropping a column. Had to do this repeatedly\n",
    "# AP_kinetics_df"
   ]
  },
  {
   "cell_type": "code",
   "execution_count": 10,
   "metadata": {
    "scrolled": true
   },
   "outputs": [
    {
     "data": {
      "text/plain": [
       "0.25    0.073923\n",
       "0.5     0.139234\n",
       "0.75    0.226077\n",
       "1       0.287081\n",
       "1.25    0.366029\n",
       "1.5     0.434928\n",
       "1.75    0.522488\n",
       "2       0.574163\n",
       "2.25    0.671770\n",
       "2.5     0.724880\n",
       "2.75    0.828947\n",
       "3       0.818182\n",
       "3.25    0.933014\n",
       "3.5     1.044976\n",
       "3.75    1.098086\n",
       "4       1.182775\n",
       "4.25    1.256699\n",
       "4.5     1.266029\n",
       "4.75    1.431818\n",
       "5       1.392344\n",
       "Name: 0, dtype: float64"
      ]
     },
     "execution_count": 10,
     "metadata": {},
     "output_type": "execute_result"
    }
   ],
   "source": [
    "AP_kinetics_df.iloc[0,1:] # Learn to extract the A-405 values for the first concentration"
   ]
  },
  {
   "cell_type": "code",
   "execution_count": 11,
   "metadata": {},
   "outputs": [
    {
     "name": "stdout",
     "output_type": "stream",
     "text": [
      "0.25    0.073923\n",
      "0.5     0.139234\n",
      "0.75    0.226077\n",
      "1       0.287081\n",
      "1.25    0.366029\n",
      "1.5     0.434928\n",
      "1.75    0.522488\n",
      "2       0.574163\n",
      "2.25    0.671770\n",
      "2.5     0.724880\n",
      "2.75    0.828947\n",
      "3       0.818182\n",
      "3.25    0.933014\n",
      "3.5     1.044976\n",
      "3.75    1.098086\n",
      "4       1.182775\n",
      "4.25    1.256699\n",
      "4.5     1.266029\n",
      "4.75    1.431818\n",
      "5       1.392344\n",
      "Name: 0, dtype: float64\n"
     ]
    }
   ],
   "source": [
    "ydata = AP_kinetics_df.iloc[0, 1:]\n",
    "print(ydata)"
   ]
  },
  {
   "cell_type": "code",
   "execution_count": 12,
   "metadata": {},
   "outputs": [
    {
     "name": "stdout",
     "output_type": "stream",
     "text": [
      "0.2892506385894737\n"
     ]
    }
   ],
   "source": [
    "def slope_only(xdata, ydata):  # SciPy linregress has five outputs; I only want the slope\n",
    "    slope, intercept, rvalue, pvalue, stderr = stats.linregress(xdata, ydata)\n",
    "    return slope\n",
    "\n",
    "slope = slope_only(xdata,ydata)\n",
    "print(slope)"
   ]
  },
  {
   "cell_type": "code",
   "execution_count": 13,
   "metadata": {},
   "outputs": [
    {
     "name": "stdout",
     "output_type": "stream",
     "text": [
      "[0.2892506385894737, 0.27880733943157904, 0.26825116593082704, 0.24139941690526318, 0.20673321230977446, 0.1595900277142857, 0.12890131578947372, 0.09117987271278195, 0.05658209154887218, 0.02960706766917293, 0.015764305515789476]\n"
     ]
    }
   ],
   "source": [
    "slope_list = []  # setting up a list to contain the slope values\n",
    "for i in range(0, len(AP_kinetics_df)):  # looping through the pandas dataframe. Is there a better way to do this?\n",
    "    xdata = AP_kinetics_df.columns.values[1:21].astype('float64')\n",
    "    ydata = AP_kinetics_df.iloc[i, 1:]\n",
    "    slope = slope_only(xdata, ydata)\n",
    "    slope_list.append(slope)\n",
    "print(slope_list)"
   ]
  },
  {
   "cell_type": "markdown",
   "metadata": {},
   "source": [
    "These slope values are correct for each row in the dataframe. Now I will add them to a new dataframe. Next I'll use the extinction coefficient for p-nitrophenol (0.015/$\\mu$M/min) to create a second column where the initial velocity is given in mM/min."
   ]
  },
  {
   "cell_type": "code",
   "execution_count": 14,
   "metadata": {},
   "outputs": [],
   "source": [
    "MM_df = pd.DataFrame(AP_kinetics_df, columns = ['pNPP (mM)']) # creating a new dataframe with the first column of the old dataframe\n",
    "MM_df['slopes'] = slope_list  # adding slopes to the dataframe\n",
    "MM_df['Initial Velocities'] = MM_df['slopes'] / 0.015 # adding the initial velocities"
   ]
  },
  {
   "cell_type": "code",
   "execution_count": 15,
   "metadata": {},
   "outputs": [
    {
     "data": {
      "text/html": [
       "<div>\n",
       "<style scoped>\n",
       "    .dataframe tbody tr th:only-of-type {\n",
       "        vertical-align: middle;\n",
       "    }\n",
       "\n",
       "    .dataframe tbody tr th {\n",
       "        vertical-align: top;\n",
       "    }\n",
       "\n",
       "    .dataframe thead th {\n",
       "        text-align: right;\n",
       "    }\n",
       "</style>\n",
       "<table border=\"1\" class=\"dataframe\">\n",
       "  <thead>\n",
       "    <tr style=\"text-align: right;\">\n",
       "      <th></th>\n",
       "      <th>pNPP (mM)</th>\n",
       "      <th>slopes</th>\n",
       "      <th>Initial Velocities</th>\n",
       "    </tr>\n",
       "  </thead>\n",
       "  <tbody>\n",
       "    <tr>\n",
       "      <th>0</th>\n",
       "      <td>20.00</td>\n",
       "      <td>0.289251</td>\n",
       "      <td>19.283376</td>\n",
       "    </tr>\n",
       "    <tr>\n",
       "      <th>1</th>\n",
       "      <td>10.00</td>\n",
       "      <td>0.278807</td>\n",
       "      <td>18.587156</td>\n",
       "    </tr>\n",
       "    <tr>\n",
       "      <th>2</th>\n",
       "      <td>7.00</td>\n",
       "      <td>0.268251</td>\n",
       "      <td>17.883411</td>\n",
       "    </tr>\n",
       "    <tr>\n",
       "      <th>3</th>\n",
       "      <td>4.00</td>\n",
       "      <td>0.241399</td>\n",
       "      <td>16.093294</td>\n",
       "    </tr>\n",
       "    <tr>\n",
       "      <th>4</th>\n",
       "      <td>2.00</td>\n",
       "      <td>0.206733</td>\n",
       "      <td>13.782214</td>\n",
       "    </tr>\n",
       "    <tr>\n",
       "      <th>5</th>\n",
       "      <td>1.00</td>\n",
       "      <td>0.159590</td>\n",
       "      <td>10.639335</td>\n",
       "    </tr>\n",
       "    <tr>\n",
       "      <th>6</th>\n",
       "      <td>0.70</td>\n",
       "      <td>0.128901</td>\n",
       "      <td>8.593421</td>\n",
       "    </tr>\n",
       "    <tr>\n",
       "      <th>7</th>\n",
       "      <td>0.40</td>\n",
       "      <td>0.091180</td>\n",
       "      <td>6.078658</td>\n",
       "    </tr>\n",
       "    <tr>\n",
       "      <th>8</th>\n",
       "      <td>0.20</td>\n",
       "      <td>0.056582</td>\n",
       "      <td>3.772139</td>\n",
       "    </tr>\n",
       "    <tr>\n",
       "      <th>9</th>\n",
       "      <td>0.10</td>\n",
       "      <td>0.029607</td>\n",
       "      <td>1.973805</td>\n",
       "    </tr>\n",
       "    <tr>\n",
       "      <th>10</th>\n",
       "      <td>0.05</td>\n",
       "      <td>0.015764</td>\n",
       "      <td>1.050954</td>\n",
       "    </tr>\n",
       "  </tbody>\n",
       "</table>\n",
       "</div>"
      ],
      "text/plain": [
       "    pNPP (mM)    slopes  Initial Velocities\n",
       "0       20.00  0.289251           19.283376\n",
       "1       10.00  0.278807           18.587156\n",
       "2        7.00  0.268251           17.883411\n",
       "3        4.00  0.241399           16.093294\n",
       "4        2.00  0.206733           13.782214\n",
       "5        1.00  0.159590           10.639335\n",
       "6        0.70  0.128901            8.593421\n",
       "7        0.40  0.091180            6.078658\n",
       "8        0.20  0.056582            3.772139\n",
       "9        0.10  0.029607            1.973805\n",
       "10       0.05  0.015764            1.050954"
      ]
     },
     "execution_count": 15,
     "metadata": {},
     "output_type": "execute_result"
    }
   ],
   "source": [
    "MM_df"
   ]
  },
  {
   "cell_type": "markdown",
   "metadata": {},
   "source": [
    "We will use this dataframe now to perform the nonlinear regression fit using the SciPy library in part 2 of this lesson. To save this data for part 2, so we need to write it to a csv file in our data directory."
   ]
  },
  {
   "cell_type": "code",
   "execution_count": 16,
   "metadata": {},
   "outputs": [],
   "source": [
    "MM_df.to_csv('biochemist-python/chapters/data/MM_data.csv')"
   ]
  },
  {
   "cell_type": "markdown",
   "metadata": {},
   "source": [
    "<div class=\"exercise-this-is-a-title exercise\">\n",
    "<p class=\"exercise-title\">Check your understanding</p>\n",
    "    <p>You will find an Excel file in your data folder, chymotrypsin_kinetics.xlsx, with some kinetic data from a chymotrypsin experiment. Apply the principles above to create dataframes and a .csv file for creating a Michaelis-Menten plot with these data. Under these assay conditions the extinction coefficient for p-nitrophenol is 18,320 M<sup>-1</sup>cm<sup>-1</sup>.</p>\n",
    "\n",
    "```{admonition} Hint\n",
    ":class: dropdown\n",
    "    You will need to get the data into a layout and file format that is easily read by pandas. \n",
    "    <ul>\n",
    "        <li>Delete the first seven lines of the Excel file.</li>\n",
    "        <li>Delete the first column of the Excel file.</li>\n",
    "        <li>Save the file as chymotrypsin_kinetics.csv.</li>\n",
    "        <li>Your data will should look something like this:</li>\n",
    "        <img src=\"biochemist-python/chapters/images/csv_image.png\" alt=\"csv image\">\n",
    "```   \n",
    "```{admonition} Solution\n",
    ":class: dropdown\n",
    "    \n",
    "```python\n",
    "        import os \n",
    "        import pandas as pd \n",
    "        import numpy as np \n",
    "        from scipy import stats \n",
    "        datafile = os.path.join('biochemist-python', 'chapters', 'data', 'chymotrypsin_kinetics.csv')\n",
    "        chymo_rates_df = pd.read_csv(datafile)\n",
    "        \n",
    "        def slope_only(xdata, ydata): \n",
    "            slope, intercept, rvalue, pvalue, stderr = stats.linregress(xdata, ydata)\n",
    "            return slope\n",
    "        \n",
    "        slope_list = [] \n",
    "        for i in range(0, len(chymo_rates_df)):\n",
    "            xdata = chymo_rates_df.columns.values[2:len(chymo_rates_df.columns)].astype('float64')\n",
    "            ydata = chymo_rates_df.iloc[i, 2:len(chymo_rates_df.columns)]\n",
    "            slope = slope_only(xdata, ydata)\n",
    "            slope_list.append(slope)\n",
    "\n",
    "        chymo_MM_df = pd.DataFrame(chymo_rates_df, columns = ['[pNPA] (mM)'])      \n",
    "        chymo_MM_df['slopes'] = slope_list \n",
    "        chymo_MM_df['Initial Velocities'] = MM_df['slopes'] / 18.32 \n",
    "        MM_df.to_csv('biochemist-python/chapters/data/chymo_MM_data.csv')\n",
    "``` \n",
    "</div>\n"
   ]
  },
  {
   "cell_type": "code",
   "execution_count": 17,
   "metadata": {},
   "outputs": [],
   "source": [
    "import os \n",
    "import pandas as pd \n",
    "import numpy as np \n",
    "from scipy import stats \n",
    "datafile = os.path.join('biochemist-python', 'chapters', 'data', 'chymotrypsin_kinetics.csv') # filehandle created\n",
    "chymo_rates_df = pd.read_csv(datafile)\n",
    "\n",
    "def slope_only(xdata, ydata):  # SciPy linregress has five outputs; I only want the slope\n",
    "    slope, intercept, rvalue, pvalue, stderr = stats.linregress(xdata, ydata)\n",
    "    return slope\n",
    "\n",
    "slope_list = []  # setting up a list to contain the slope values\n",
    "for i in range(0, len(chymo_rates_df)):  # looping through the pandas dataframe. Is there a better way to do this?\n",
    "    xdata = chymo_rates_df.columns.values[2:len(chymo_rates_df.columns)].astype('float64')\n",
    "    ydata = chymo_rates_df.iloc[i, 2:len(chymo_rates_df.columns)]\n",
    "    slope = slope_only(xdata, ydata)\n",
    "    slope_list.append(slope)\n",
    "\n",
    "chymo_MM_df = pd.DataFrame(chymo_rates_df, columns = ['[pNPA] (mM)'])      \n",
    "chymo_MM_df\n",
    "chymo_MM_df['slopes'] = slope_list \n",
    "chymo_MM_df['Initial Velocities'] = MM_df['slopes'] / 18.32 \n",
    "chymo_MM_df\n",
    "MM_df.to_csv('biochemist-python/chapters/data/chymo_MM_data.csv')\n"
   ]
  },
  {
   "cell_type": "code",
   "execution_count": null,
   "metadata": {},
   "outputs": [],
   "source": []
  }
 ],
 "metadata": {
  "kernelspec": {
   "display_name": "Python 3",
   "language": "python",
   "name": "python3"
  },
  "language_info": {
   "codemirror_mode": {
    "name": "ipython",
    "version": 3
   },
   "file_extension": ".py",
   "mimetype": "text/x-python",
   "name": "python",
   "nbconvert_exporter": "python",
   "pygments_lexer": "ipython3",
   "version": "3.7.6"
  }
 },
 "nbformat": 4,
 "nbformat_minor": 4
}
