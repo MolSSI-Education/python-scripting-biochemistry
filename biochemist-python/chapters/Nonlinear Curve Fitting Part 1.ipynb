{
 "cells": [
  {
   "cell_type": "markdown",
   "metadata": {},
   "source": [
    "Non-Linear Curve Fitting, Part 1\n",
    "========================="
   ]
  },
  {
   "cell_type": "markdown",
   "metadata": {},
   "source": [
    "<div class=\"overview-this-is-a-title overview\">\n",
    "<p class=\"overview-title\">Overview</p>\n",
    "<p>Questions</p>\n",
    "    <ul>\n",
    "        <li>How can I analyze enzyme kinetics data in Python?</li>\n",
    "        <li>What is the process for non-linear least squares curve fitting in Python?</li>\n",
    "    </ul>\n",
    "<p>Objectives:</p>\n",
    "    <ul>\n",
    "        <li> Create a pandas dataframe with enzyme kinetics data from a .csv file</li>\n",
    "        <li> Add velocity calculations to the dataframe</li>\n",
    "        <li> Perform the non-linear regression calculations</li>\n",
    "    </ul>\n",
    "    \n",
    "<p>In this module, we will calculate initial rates from the raw data ($\\Delta$A$_{405}$) in an enzyme kinetics experiment with alkaline phosphatase. In the process, we will import the raw data into a pandas dataframe, use some pandas tools to reorganize the data, produce a second pandas dataframe that contains the substrate concentrations and initial rates at each concentration. Finally, we will export this information to a csv file to use in the next module, where you will explore nonlinear curve fitting in python.\n",
    "    </p>\n",
    "</div>"
   ]
  },
  {
   "cell_type": "markdown",
   "metadata": {},
   "source": [
    "### Setting up the first dataframe\n",
    "We start by importing data from a csv file as we did earlier with the data for linear regression. These data are the rate of p-nitrophenol appearance for a series of p-nitrophenol phosphate concentrations in the presence of alkaline phosphatase. We will import the libraries we need, import the data and set up the dataframe."
   ]
  },
  {
   "cell_type": "code",
   "execution_count": 1,
   "metadata": {},
   "outputs": [],
   "source": [
    "# import the libraries we need\n",
    "import os # to create a filehandle for the .csv file\n",
    "import pandas as pd # for importing the .csv file and creating a dataframe\n",
    "from scipy import stats # for performing non-linear regression"
   ]
  },
  {
   "cell_type": "code",
   "execution_count": 9,
   "metadata": {},
   "outputs": [
    {
     "data": {
      "text/plain": [
       "'/Users/pac8612/Desktop/python-scripting-biochemistry'"
      ]
     },
     "execution_count": 9,
     "metadata": {},
     "output_type": "execute_result"
    }
   ],
   "source": [
    "pwd  ## make sure we are in '/Users/username/Desktop/python-scripting-biochemistry'"
   ]
  },
  {
   "cell_type": "markdown",
   "metadata": {},
   "source": [
    "Your output here may be different. It's important to move to the correct directory level. You may need to move up or down the directory tree.\n"
   ]
  },
  {
   "cell_type": "code",
   "execution_count": 10,
   "metadata": {},
   "outputs": [
    {
     "name": "stdout",
     "output_type": "stream",
     "text": [
      "biochemist-python/chapters/data/AP_kinetics.csv\n"
     ]
    }
   ],
   "source": [
    "# You can create the filehandle once you are in the right directory\n",
    "datafile = os.path.join('biochemist-python', 'chapters', 'data', 'AP_kinetics.csv') # filehandle created\n",
    "print(datafile)  # filehandle confirmed"
   ]
  },
  {
   "cell_type": "code",
   "execution_count": 12,
   "metadata": {},
   "outputs": [
    {
     "data": {
      "text/html": [
       "<div>\n",
       "<style scoped>\n",
       "    .dataframe tbody tr th:only-of-type {\n",
       "        vertical-align: middle;\n",
       "    }\n",
       "\n",
       "    .dataframe tbody tr th {\n",
       "        vertical-align: top;\n",
       "    }\n",
       "\n",
       "    .dataframe thead th {\n",
       "        text-align: right;\n",
       "    }\n",
       "</style>\n",
       "<table border=\"1\" class=\"dataframe\">\n",
       "  <thead>\n",
       "    <tr style=\"text-align: right;\">\n",
       "      <th></th>\n",
       "      <th>pNPP (mM)</th>\n",
       "      <th>0.25</th>\n",
       "      <th>0.5</th>\n",
       "      <th>0.75</th>\n",
       "      <th>1</th>\n",
       "      <th>1.25</th>\n",
       "      <th>1.5</th>\n",
       "      <th>1.75</th>\n",
       "      <th>2</th>\n",
       "      <th>2.25</th>\n",
       "      <th>...</th>\n",
       "      <th>2.75</th>\n",
       "      <th>3</th>\n",
       "      <th>3.25</th>\n",
       "      <th>3.5</th>\n",
       "      <th>3.75</th>\n",
       "      <th>4</th>\n",
       "      <th>4.25</th>\n",
       "      <th>4.5</th>\n",
       "      <th>4.75</th>\n",
       "      <th>5</th>\n",
       "    </tr>\n",
       "  </thead>\n",
       "  <tbody>\n",
       "    <tr>\n",
       "      <th>0</th>\n",
       "      <td>20.0</td>\n",
       "      <td>0.073923</td>\n",
       "      <td>0.139234</td>\n",
       "      <td>0.226077</td>\n",
       "      <td>0.287081</td>\n",
       "      <td>0.366029</td>\n",
       "      <td>0.434928</td>\n",
       "      <td>0.522488</td>\n",
       "      <td>0.574163</td>\n",
       "      <td>0.671770</td>\n",
       "      <td>...</td>\n",
       "      <td>0.828947</td>\n",
       "      <td>0.818182</td>\n",
       "      <td>0.933014</td>\n",
       "      <td>1.044976</td>\n",
       "      <td>1.098086</td>\n",
       "      <td>1.182775</td>\n",
       "      <td>1.256699</td>\n",
       "      <td>1.266029</td>\n",
       "      <td>1.431818</td>\n",
       "      <td>1.392344</td>\n",
       "    </tr>\n",
       "    <tr>\n",
       "      <th>1</th>\n",
       "      <td>10.0</td>\n",
       "      <td>0.066055</td>\n",
       "      <td>0.143119</td>\n",
       "      <td>0.208486</td>\n",
       "      <td>0.264220</td>\n",
       "      <td>0.330275</td>\n",
       "      <td>0.396330</td>\n",
       "      <td>0.481651</td>\n",
       "      <td>0.522936</td>\n",
       "      <td>0.606881</td>\n",
       "      <td>...</td>\n",
       "      <td>0.794725</td>\n",
       "      <td>0.784404</td>\n",
       "      <td>0.849771</td>\n",
       "      <td>0.915138</td>\n",
       "      <td>1.042431</td>\n",
       "      <td>1.067890</td>\n",
       "      <td>1.193119</td>\n",
       "      <td>1.250917</td>\n",
       "      <td>1.294266</td>\n",
       "      <td>1.444954</td>\n",
       "    </tr>\n",
       "    <tr>\n",
       "      <th>2</th>\n",
       "      <td>7.0</td>\n",
       "      <td>0.063797</td>\n",
       "      <td>0.130253</td>\n",
       "      <td>0.205348</td>\n",
       "      <td>0.255190</td>\n",
       "      <td>0.328956</td>\n",
       "      <td>0.394747</td>\n",
       "      <td>0.455886</td>\n",
       "      <td>0.515696</td>\n",
       "      <td>0.610063</td>\n",
       "      <td>...</td>\n",
       "      <td>0.738323</td>\n",
       "      <td>0.789494</td>\n",
       "      <td>0.889842</td>\n",
       "      <td>0.911772</td>\n",
       "      <td>0.986867</td>\n",
       "      <td>1.105823</td>\n",
       "      <td>1.095854</td>\n",
       "      <td>1.244051</td>\n",
       "      <td>1.325791</td>\n",
       "      <td>1.262658</td>\n",
       "    </tr>\n",
       "    <tr>\n",
       "      <th>3</th>\n",
       "      <td>4.0</td>\n",
       "      <td>0.060612</td>\n",
       "      <td>0.121224</td>\n",
       "      <td>0.192857</td>\n",
       "      <td>0.237551</td>\n",
       "      <td>0.303061</td>\n",
       "      <td>0.367347</td>\n",
       "      <td>0.441429</td>\n",
       "      <td>0.499592</td>\n",
       "      <td>0.567551</td>\n",
       "      <td>...</td>\n",
       "      <td>0.666735</td>\n",
       "      <td>0.720000</td>\n",
       "      <td>0.764082</td>\n",
       "      <td>0.848571</td>\n",
       "      <td>0.881633</td>\n",
       "      <td>0.950204</td>\n",
       "      <td>1.061633</td>\n",
       "      <td>1.113061</td>\n",
       "      <td>1.186531</td>\n",
       "      <td>1.175510</td>\n",
       "    </tr>\n",
       "    <tr>\n",
       "      <th>4</th>\n",
       "      <td>2.0</td>\n",
       "      <td>0.052759</td>\n",
       "      <td>0.104483</td>\n",
       "      <td>0.147414</td>\n",
       "      <td>0.215172</td>\n",
       "      <td>0.271552</td>\n",
       "      <td>0.322759</td>\n",
       "      <td>0.372931</td>\n",
       "      <td>0.409655</td>\n",
       "      <td>0.465517</td>\n",
       "      <td>...</td>\n",
       "      <td>0.568966</td>\n",
       "      <td>0.614483</td>\n",
       "      <td>0.652241</td>\n",
       "      <td>0.753103</td>\n",
       "      <td>0.744828</td>\n",
       "      <td>0.786207</td>\n",
       "      <td>0.861724</td>\n",
       "      <td>0.921724</td>\n",
       "      <td>1.012241</td>\n",
       "      <td>1.075862</td>\n",
       "    </tr>\n",
       "  </tbody>\n",
       "</table>\n",
       "<p>5 rows × 21 columns</p>\n",
       "</div>"
      ],
      "text/plain": [
       "   pNPP (mM)      0.25       0.5      0.75         1      1.25       1.5  \\\n",
       "0       20.0  0.073923  0.139234  0.226077  0.287081  0.366029  0.434928   \n",
       "1       10.0  0.066055  0.143119  0.208486  0.264220  0.330275  0.396330   \n",
       "2        7.0  0.063797  0.130253  0.205348  0.255190  0.328956  0.394747   \n",
       "3        4.0  0.060612  0.121224  0.192857  0.237551  0.303061  0.367347   \n",
       "4        2.0  0.052759  0.104483  0.147414  0.215172  0.271552  0.322759   \n",
       "\n",
       "       1.75         2      2.25  ...      2.75         3      3.25       3.5  \\\n",
       "0  0.522488  0.574163  0.671770  ...  0.828947  0.818182  0.933014  1.044976   \n",
       "1  0.481651  0.522936  0.606881  ...  0.794725  0.784404  0.849771  0.915138   \n",
       "2  0.455886  0.515696  0.610063  ...  0.738323  0.789494  0.889842  0.911772   \n",
       "3  0.441429  0.499592  0.567551  ...  0.666735  0.720000  0.764082  0.848571   \n",
       "4  0.372931  0.409655  0.465517  ...  0.568966  0.614483  0.652241  0.753103   \n",
       "\n",
       "       3.75         4      4.25       4.5      4.75         5  \n",
       "0  1.098086  1.182775  1.256699  1.266029  1.431818  1.392344  \n",
       "1  1.042431  1.067890  1.193119  1.250917  1.294266  1.444954  \n",
       "2  0.986867  1.105823  1.095854  1.244051  1.325791  1.262658  \n",
       "3  0.881633  0.950204  1.061633  1.113061  1.186531  1.175510  \n",
       "4  0.744828  0.786207  0.861724  0.921724  1.012241  1.075862  \n",
       "\n",
       "[5 rows x 21 columns]"
      ]
     },
     "execution_count": 12,
     "metadata": {},
     "output_type": "execute_result"
    }
   ],
   "source": [
    "# Creating the pandas dataframe using read_csv\n",
    "AP_kinetics_df = pd.read_csv(datafile)  # Use pandas to create a dataframe of the alkaline phosphatase kinetics data\n",
    "AP_kinetics_df.head()  # dataframe confirmed"
   ]
  },
  {
   "cell_type": "markdown",
   "metadata": {},
   "source": [
    "### Datatype\n",
    "To simplify the analysis below, we will need to do a bit of data processing. Right now the column headers are the time values and the indexes (row labels) are the concentrations. We are going to transpose the dataframe so that the column headers are the concentrations and the indexes are the time values.\n",
    "\n",
    "Before doing that, we need to check the datatypes for the numbers. We must ensure that the numbers are floats, rather than strings, so we can do calculations on them.\n",
    "\n",
    "Notice that the df.dtypes command gives the overall datatype for the dataframe as an `object`, but also lists the datatypes for each of the columns."
   ]
  },
  {
   "cell_type": "code",
   "execution_count": 13,
   "metadata": {},
   "outputs": [
    {
     "data": {
      "text/plain": [
       "pNPP (mM)    float64\n",
       "0.25         float64\n",
       "0.5          float64\n",
       "0.75         float64\n",
       "1            float64\n",
       "1.25         float64\n",
       "1.5          float64\n",
       "1.75         float64\n",
       "2            float64\n",
       "2.25         float64\n",
       "2.5          float64\n",
       "2.75         float64\n",
       "3            float64\n",
       "3.25         float64\n",
       "3.5          float64\n",
       "3.75         float64\n",
       "4            float64\n",
       "4.25         float64\n",
       "4.5          float64\n",
       "4.75         float64\n",
       "5            float64\n",
       "dtype: object"
      ]
     },
     "execution_count": 13,
     "metadata": {},
     "output_type": "execute_result"
    }
   ],
   "source": [
    "AP_kinetics_df.dtypes # checking to see if the numbers are strings or floats"
   ]
  },
  {
   "cell_type": "markdown",
   "metadata": {},
   "source": [
    "### Calculating initial velocities\n",
    "\n",
    "The first column in our dataframe is the pNPP concentration in mM ('pNPP (mM)'). The other colulmn headers are the times in minutes for the kinetic data. Notice that these are listed as strings. To calculate initial velocities, these need to be changed to floats.\n",
    "\n",
    "We need to set up the column headers as our x values. For the y values, we need to skip the first value ('pNPP (mM)') and then use the remaining values (A-405 as a function of time) to calculate slopes and get our initial velocities. The extinction coefficient for p-nitrophenol under these buffer conditions is 15.0 mM<sup>-1</sup>cm<sup>-1</sup>."
   ]
  },
  {
   "cell_type": "markdown",
   "metadata": {},
   "source": [
    "Before transposing the dataframe, we will explicitly define the index as the concentrations, rather than as the row numbers (the default index)"
   ]
  },
  {
   "cell_type": "code",
   "execution_count": null,
   "metadata": {},
   "outputs": [],
   "source": [
    "# Set index to concentrations\n",
    "AP_kinetics_df.set_index('pNPP (mM)', inplace=True)"
   ]
  },
  {
   "cell_type": "code",
   "execution_count": null,
   "metadata": {},
   "outputs": [],
   "source": [
    "AP_kinetics_df.head()"
   ]
  },
  {
   "cell_type": "code",
   "execution_count": null,
   "metadata": {},
   "outputs": [],
   "source": [
    "# Transpose to get columns as rows\n",
    "AP_kinetics_df_transpose = AP_kinetics_df.T\n",
    "AP_kinetics_df_transpose.head()"
   ]
  },
  {
   "cell_type": "code",
   "execution_count": null,
   "metadata": {},
   "outputs": [],
   "source": [
    "AP_kinetics_df_transpose.tail()"
   ]
  },
  {
   "cell_type": "code",
   "execution_count": null,
   "metadata": {},
   "outputs": [],
   "source": [
    "# Make sure the index is a float\n",
    "AP_kinetics_df_transpose.index = AP_kinetics_df_transpose.index.astype('float64')"
   ]
  },
  {
   "cell_type": "markdown",
   "metadata": {},
   "source": [
    "We can see that the column headers (the kinetics time points) are strings. ***See below***"
   ]
  },
  {
   "cell_type": "code",
   "execution_count": null,
   "metadata": {},
   "outputs": [],
   "source": [
    "# Check to see how the data look\n",
    "# Using the plot command that is available with the dataframe\n",
    "AP_kinetics_df_transpose.plot(marker = 'o')"
   ]
  },
  {
   "cell_type": "code",
   "execution_count": null,
   "metadata": {
    "scrolled": true
   },
   "outputs": [],
   "source": [
    "AP_kinetics_df.columns # checking to see if the column labels are strings or floats"
   ]
  },
  {
   "cell_type": "markdown",
   "metadata": {},
   "source": [
    "The plot shows the time course for $\\Delta$A$_{405}$ over time in minutes"
   ]
  },
  {
   "cell_type": "code",
   "execution_count": null,
   "metadata": {},
   "outputs": [],
   "source": [
    "# Make sure the time values are floats, not strings\n",
    "AP_kinetics_df.columns.values[1:].astype('float64')"
   ]
  },
  {
   "cell_type": "markdown",
   "metadata": {},
   "source": [
    "We want to calculate the slope for each column. We can use \"apply\" to do this. Apply takes all of the row or column values and applies a function.\n",
    "\n",
    "We will define a function which returns the slope only. It will take in a pandas series. A pandas series always includes an index and a column. We have set the index to be the x-values, so we just need to give a series to this function.\n"
   ]
  },
  {
   "cell_type": "code",
   "execution_count": null,
   "metadata": {},
   "outputs": [],
   "source": [
    "def linregress_column(df_series):\n",
    "\n",
    "  # often times in python if you do not plan to use a variable, you can just\n",
    "  # name it with an underscore. This tells anyone reading your code and python\n",
    "  # that you don't intend to do anything with the values in the variable.\n",
    "\n",
    "  # Since we only want the slope, we'll just name the rest of the\n",
    "  # variables with underscores.\n",
    "  slope, _, _, _, _, = stats.linregress(df_series.index, df_series.values)\n",
    "  return slope"
   ]
  },
  {
   "cell_type": "code",
   "execution_count": null,
   "metadata": {},
   "outputs": [],
   "source": [
    "# Make an empty dataframe\n",
    "MM_df = pd.DataFrame()"
   ]
  },
  {
   "cell_type": "code",
   "execution_count": null,
   "metadata": {},
   "outputs": [],
   "source": [
    "# Apply function to get slopes and save in empty dataframe\n",
    "MM_df['slopes'] = AP_kinetics_df_transpose.apply(linregress_column)"
   ]
  },
  {
   "cell_type": "code",
   "execution_count": null,
   "metadata": {},
   "outputs": [],
   "source": [
    "MM_df"
   ]
  },
  {
   "cell_type": "code",
   "execution_count": null,
   "metadata": {},
   "outputs": [],
   "source": [
    "# Calculate initial velocities\n",
    "MM_df['initial velocities'] = MM_df['slopes'] / 0.015\n",
    "MM_df"
   ]
  },
  {
   "cell_type": "code",
   "execution_count": null,
   "metadata": {},
   "outputs": [],
   "source": [
    "MM_df.to_csv('MM_data.csv')"
   ]
  },
  {
   "cell_type": "markdown",
   "metadata": {},
   "source": [
    "We will use this dataframe now to perform the nonlinear regression fit using the SciPy library in part 2 of this lesson. To save this data for part 2, so we need to write it to a csv file in our data directory."
   ]
  },
  {
   "cell_type": "code",
   "execution_count": null,
   "metadata": {},
   "outputs": [],
   "source": [
    "MM_df.to_csv('biochemist-python/chapters/data/MM_data.csv')"
   ]
  },
  {
   "cell_type": "markdown",
   "metadata": {},
   "source": [
    "<div class=\"exercise-this-is-a-title exercise\">\n",
    "<p class=\"exercise-title\">Check your understanding</p>\n",
    "    <p>You will find an Excel file in your data folder, chymotrypsin_kinetics.xlsx, with some kinetic data from a chymotrypsin experiment. Apply the principles above to create dataframes and a .csv file for creating a Michaelis-Menten plot with these data. Under these assay conditions the extinction coefficient for p-nitrophenol is 18,320 M<sup>-1</sup>cm<sup>-1</sup>.</p>\n",
    "\n",
    "```{admonition} Hint\n",
    ":class: dropdown\n",
    "    You will need to get the data into a layout and file format that is easily read by pandas. \n",
    "    <ul>\n",
    "        <li>Delete the first seven lines of the Excel file.</li>\n",
    "        <li>Delete the first column of the Excel file.</li>\n",
    "        <li>Save the file as chymotrypsin_kinetics.csv.</li>\n",
    "        <li>Your data will should look something like this:</li>\n",
    "        <img src=\"biochemist-python/chapters/images/csv_image.png\" alt=\"csv image\">\n",
    "    \n",
    "```{admonition} Solution\n",
    ":class: dropdown\n",
    "    \n",
    "    \n",
    "    \n",
    "```\n",
    "    \n",
    "</div>\n"
   ]
  },
  {
   "cell_type": "code",
   "execution_count": null,
   "metadata": {},
   "outputs": [],
   "source": [
    "import os \n",
    "import pandas as pd \n",
    "import numpy as np \n",
    "from scipy import stats \n",
    "datafile = os.path.join('biochemist-python', 'chapters', 'data', 'chymotrypsin_kinetics.csv') # filehandle created\n",
    "chymo_rates_df = pd.read_csv(datafile)\n",
    "\n",
    "def slope_only(xdata, ydata):  # SciPy linregress has five outputs; I only want the slope\n",
    "    slope, intercept, rvalue, pvalue, stderr = stats.linregress(xdata, ydata)\n",
    "    return slope\n",
    "\n",
    "slope_list = []  # setting up a list to contain the slope values\n",
    "for i in range(0, len(chymo_rates_df)):  # looping through the pandas dataframe. Is there a better way to do this?\n",
    "    xdata = chymo_rates_df.columns.values[2:len(chymo_rates_df.columns)].astype('float64')\n",
    "    ydata = chymo_rates_df.iloc[i, 2:len(chymo_rates_df.columns)]\n",
    "    slope = slope_only(xdata, ydata)\n",
    "    slope_list.append(slope)\n",
    "\n",
    "chymo_MM_df = pd.DataFrame(chymo_rates_df, columns = ['[pNPA] (mM)'])      \n",
    "chymo_MM_df\n",
    "chymo_MM_df['slopes'] = slope_list \n",
    "chymo_MM_df['Initial Velocities'] = MM_df['slopes'] / 18.32 \n",
    "chymo_MM_df\n",
    "MM_df.to_csv('biochemist-python/chapters/data/chymo_MM_data.csv')\n"
   ]
  },
  {
   "cell_type": "code",
   "execution_count": null,
   "metadata": {},
   "outputs": [],
   "source": []
  }
 ],
 "metadata": {
  "kernelspec": {
   "display_name": "Python 3",
   "language": "python",
   "name": "python3"
  },
  "language_info": {
   "codemirror_mode": {
    "name": "ipython",
    "version": 3
   },
   "file_extension": ".py",
   "mimetype": "text/x-python",
   "name": "python",
   "nbconvert_exporter": "python",
   "pygments_lexer": "ipython3",
   "version": "3.7.6"
  }
 },
 "nbformat": 4,
 "nbformat_minor": 4
}
