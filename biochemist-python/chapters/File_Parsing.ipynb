{
 "cells": [
  {
   "cell_type": "markdown",
   "metadata": {},
   "source": [
    "File Parsing\n",
    "============"
   ]
  },
  {
   "cell_type": "markdown",
   "metadata": {},
   "source": [
    "<div class=\"overview-this-is-a-title overview\">\n",
    "<p class=\"overview-title\">Overview</p>\n",
    "<p>Questions</p>\n",
    "    <ul>\n",
    "        <li> How do I sort through all the information in a text file and extract particular pieces of information?\n",
    "    </ul>\n",
    "<p>Objectives:</p>\n",
    "    <ul>\n",
    "        <li> Open a file and read in its contents line by line.\n",
    "        <li> Search for a particular string in a file.\n",
    "        <li> Manipulate strings and change data types.\n",
    "        <li> Print to a new file.\n",
    "    </ul>\n",
    "<p>Key Points:</p>\n",
    "    <ul>\n",
    "        <li> You should use the os.path module to work with file paths.\n",
    "        <li> One of the most flexible ways to read in the lines of a file is the `readlines()` function.\n",
    "        <li> An <ital>if</ital> statement can be used to find a particular string within a file.\n",
    "        <li> The split() function can be used to seperate the elements of a string.\n",
    "        <li> You will often need to recast data into a different data type when it was read in as a string.\n",
    "    </ul>\n",
    "</div>"
   ]
  },
  {
   "cell_type": "markdown",
   "metadata": {},
   "source": [
    "## Working with files\n",
    "One of the most common tasks in research is analyzing data.  An enormous amount of data is currently being generated in biochemistry and molecular biology, much of it pertaining to sequence and structure. The PDB file format is commonly used to describe macromolecular structures that have been determined by experimental methods. You may be interested in exploring the text and/or the data in a PDB file.  While the [PDB web site](https://www.rcsb.org/) is very helpful, there are times when it would be handy to extract specific information about one protein (or 1,000) with a few keystrokes. For example, you might be interested in the resolution of a structure, or the small molecules that are bound to the macromolecule.  In general, this is called file parsing."
   ]
  },
  {
   "cell_type": "markdown",
   "metadata": {},
   "source": [
    "### Working with file paths - the `os.path` module\n",
    "For this section, we will be working with the file `4eyr` in the `PDB_files` directory.\n",
    "\n",
    "To see this, go to a new cell and type `ls`. `ls` stands for 'list', and will list all of the contents of the current directory. **This command is not a Python command, but will work in the Jupyter notebook**. To see everything in the `data` directory, type `ls data`. You should see something like this:"
   ]
  },
  {
   "cell_type": "code",
   "execution_count": 21,
   "metadata": {
    "scrolled": true
   },
   "outputs": [
    {
     "name": "stdout",
     "output_type": "stream",
     "text": [
      "\u001b[1m\u001b[36mPDB_files\u001b[m\u001b[m/\r\n"
     ]
    }
   ],
   "source": [
    "ls data"
   ]
  },
  {
   "cell_type": "markdown",
   "metadata": {},
   "source": [
    "You can tell that PDB_files is a directory (containing other files) because it is followed by a backslash (/). Now let's go one step deeper to ensure that the file is really in the PDB_files directory."
   ]
  },
  {
   "cell_type": "code",
   "execution_count": 47,
   "metadata": {},
   "outputs": [
    {
     "name": "stdout",
     "output_type": "stream",
     "text": [
      "4eyr.pdb\r\n"
     ]
    }
   ],
   "source": [
    "ls data/PDB_files"
   ]
  },
  {
   "cell_type": "markdown",
   "metadata": {},
   "source": [
    "In order to parse a file, you must tell Python the location of the file, or the \"file path\". For example, you can see what folder your Jupyter notebook is in by typing `pwd` into a cell in your notebook and evaluating it. `pwd` stands for 'print working directory', and can also be used in your terminal to see what directory you're in.\n",
    "\n",
    "After evaluating the cell with `pwd`, you should see an output similar to the following if you are on Mac or Linux:\n",
    "\n",
    "/Users/YOUR_USER_NAME/Desktop/python-scripting-biochemistry/biochemist-python/chapters"
   ]
  },
  {
   "cell_type": "code",
   "execution_count": 48,
   "metadata": {
    "scrolled": true
   },
   "outputs": [
    {
     "data": {
      "text/plain": [
       "'/Users/pac8612/Desktop/python-scripting-biochemistry/biochemist-python/chapters'"
      ]
     },
     "execution_count": 48,
     "metadata": {},
     "output_type": "execute_result"
    }
   ],
   "source": [
    "pwd"
   ]
  },
  {
   "cell_type": "markdown",
   "metadata": {},
   "source": [
    "Or something like this if you are in Windows:\n",
    "\n",
    "C:\\Users\\YOUR_USER_NAME\\Desktop\\python-scripting-biochemistry\\biochemist-python\\chapters\n",
    "\n",
    "Notice that the file paths are different for these two systems. The Windows system uses a forward slash ('\\\\'), while Mac and Linux use a backslash ('/') for filepaths."
   ]
  },
  {
   "cell_type": "markdown",
   "metadata": {},
   "source": [
    "When we write a script, we want it to be usable on any operating system, thus we will use a python module called `os.path` that will allow us to define file paths in a general way.\n",
    "\n",
    "In order to get the path to the `4eyr.pdb` file in a general way, type"
   ]
  },
  {
   "cell_type": "code",
   "execution_count": 49,
   "metadata": {},
   "outputs": [
    {
     "name": "stdout",
     "output_type": "stream",
     "text": [
      "data/PDB_files/4eyr.pdb\n"
     ]
    }
   ],
   "source": [
    "import os\n",
    "\n",
    "protein_file = os.path.join('data', 'PDB_files','4eyr.pdb')\n",
    "print(protein_file)"
   ]
  },
  {
   "cell_type": "markdown",
   "metadata": {},
   "source": [
    "```{Note}\n",
    "Here, we have specified that our filepath contains the 'data' and 'PDB_files' directory, and the `os.path` module has made this into a filepath that is usable by our system. If you are on Windows, you will instead see that a forward slash is used.\n",
    "```"
   ]
  },
  {
   "cell_type": "markdown",
   "metadata": {},
   "source": [
    "## Absolute and relative paths\n",
    "File paths can be *absolute*, or *relative*.\n",
    "\n",
    "A relative file path gives the location relative to the directory we are in. Thus, if we are in the `biochemist-python` directory, the relative filepath for the `4eyr.pdb` file would be `chapters/data/PDB_files/4eyr.pdb`\n",
    "\n",
    "An absolute filepath gives the complete path to a file. This could file path could be used from anywhere on a computer, and would access the same file. For example, the absolute filepath to the `4eyr.pdb` file on a Mac might be `/Users/YOUR_USER_NAME/Desktop/python-scripting-biochemistry/biochemist-python/chapters/data/PDB_files/4eyr.pdb`. You can get the absolute path of a file using `os.path.abspath(path)`, where path is the relative path of the file."
   ]
  },
  {
   "cell_type": "markdown",
   "metadata": {},
   "source": [
    "```{note}\n",
    "We are working with the `os.path` module here, and this is how you will see people handle file paths in most Python code. However, as of Python 3.6, there is also a `pathlib` module in the Python standard library that can be used to represent and manipulate filepaths. `os.path` works with filepaths as strings, while in the `pathlib` module, paths are objects. A good overview of the pathlib module can be found [here](https://realpython.com/python-pathlib/).\n",
    "```"
   ]
  },
  {
   "cell_type": "markdown",
   "metadata": {},
   "source": [
    "## Reading a file\n",
    "\n",
    "In Python, there are many ways to read in information from a text file.  The best method to use depends on the type of data and the type of analysis you are performing.  If you have a file with lots of different types of information, text and numbers, with different types of formatting, the most generic way to read in information is the `readlines()` function.  Reading in the file is a two-set process. First, you have to open the file using the file path we defined above. This creates a file object, or filehandle. Then you can read in information with the `readlines()` function. \n",
    "\n",
    "We could use the following code to accomplish this task:\n",
    "\n",
    "```python\n",
    "outfile = open(protein_file,\"r\")\n",
    "data = outfile.readlines()\n",
    "```\n",
    "After you open and read information from a file object, you must close the file. In this example, the command would be\n",
    "\n",
    "```python\n",
    "outfile.close()\n",
    "```\n",
    "\n",
    "There is a second option for opening files - to use a context manager(that is to say, using the word `with` from the beginning). This is actually the preferred way to open files, and prevents you from having to remember to close the file."
   ]
  },
  {
   "cell_type": "code",
   "execution_count": 26,
   "metadata": {},
   "outputs": [],
   "source": [
    "with open(protein_file,\"r\") as outfile:\n",
    "    data = outfile.readlines()"
   ]
  },
  {
   "cell_type": "markdown",
   "metadata": {},
   "source": [
    "This code opens a file for reading and assigns it to the filehandle  `outfile`. The `r` argument in the function stands for `read`. Other arguments might be `w` for `write` if we want to write new information to the file, or `a` for append if we want to add new information at the end of the file.\n",
    "\n",
    "In the next line, we use the `readlines()` function to get our file as a list of strings.  Notice the dot notation introduced last lesson; readlines acts on the file object given to the left of the dot.  The function creates a list called data where each element of the list is a string that is one line of the file.  This is always how the `readlines()` function works.\n",
    "\n",
    "The file we will be analyzing in this example is a [PDB web site](https://www.rcsb.org/structure/4EYR) file for an HIV protease complex with the inhibitor Ritonavir. "
   ]
  },
  {
   "cell_type": "markdown",
   "metadata": {},
   "source": [
    "## `readlines` function behavior\n",
    "Note that the `readlines` function can only be used on a file object one time. If you forget to set `outfile.readlines()` equal to a variable, you must `open` the file again in order to get the contents of the file."
   ]
  },
  {
   "cell_type": "markdown",
   "metadata": {},
   "source": [
    "<div class=\"exercise-this-is-a-title exercise\">\n",
    "<p class=\"exercise-title\">Check your understanding</p>\n",
    "    <p>Check that your file was read in correctly by determining how many lines are in the file.</p>\n",
    "    \n",
    "```{admonition} Answer\n",
    ":class: dropdown\n",
    "\n",
    "```python\n",
    "print(len(data)) \n",
    "    \n",
    "2232\n",
    "```\n",
    "</div>"
   ]
  },
  {
   "cell_type": "markdown",
   "metadata": {},
   "source": [
    "## Searching for a pattern in your file\n",
    "The file we opened is the complete PDB file for the [Crystal structure of multidrug-resistant clinical isolate 769 HIV-1 protease in complex with ritonavir](https://www.rcsb.org/structure/4EYR).  As stated previously, the `readlines()` function put the file contents into a list where each element is a line of the file. You may remember from lesson 1 that a `for` loop can be used to execute the same code repeatedly. As we learned in the previous lesson, we can use a for loop to iterate through elements in a list.\n",
    "\n",
    "Here's the code we could use to take a look at what's in the file.\n",
    "\n",
    "```python\n",
    "for line in data:\n",
    "    print(line)\n",
    "```\n",
    "Here are the first five lines that would result from running this code on 4eyr.pdb:\n",
    "\n",
    "HEADER    HYDROLASE/HYDROLASE INHIBITOR           01-MAY-12   4EYR              \n",
    "\n",
    "TITLE     CRYSTAL STRUCTURE OF MULTIDRUG-RESISTANT CLINICAL ISOLATE 769 HIV-1   \n",
    "\n",
    "TITLE    2 PROTEASE IN COMPLEX WITH RITONAVIR                                   \n",
    "\n",
    "CAVEAT     4EYR    LIGAND RIT HAS LOW CORRELATION AND HIGH REAL SPACE R VALUE.  \n",
    "\n",
    "COMPND    MOL_ID: 1;                                                            "
   ]
  },
  {
   "cell_type": "markdown",
   "metadata": {},
   "source": [
    "If you look through 4eyr.pdb in a text editor, you will find one line that starts with HETNAM. This line contains information about the ligand or small molecule that is bound to HIV protease in this structure, providing both the abbreviation (RIT) and the full name of the drug (RITONAVIR).  We want to search through this file and find that line, and print only that line. We can do this using an `if` statement.\n",
    "\n",
    "Returning to our file example,"
   ]
  },
  {
   "cell_type": "code",
   "execution_count": 52,
   "metadata": {},
   "outputs": [
    {
     "name": "stdout",
     "output_type": "stream",
     "text": [
      "HETNAM     RIT RITONAVIR                                                        \n",
      "\n"
     ]
    }
   ],
   "source": [
    "for line in data:\n",
    "    if 'HETNAM' in line:\n",
    "        HETNAM_line = line\n",
    "        print(HETNAM_line)"
   ]
  },
  {
   "cell_type": "markdown",
   "metadata": {},
   "source": [
    "Remember that `readlines()` saves each line of the file as a string, so `HETNAM_line` is a string that contains the whole line.  For our analysis, if we are most interested in the abbreviation for the drug, we need to split up the line so we can save just that abbreviation as a different variable name. To do this, we can use a function called `split`.  The `split` function takes a string and divides it into its components using a *delimiter*.\n",
    "\n",
    "The *delimiter* is specified as an argument to the function (put in the parenthesis `()`). If you do not specify a delimiter, a space is used by default. Let's try this out."
   ]
  },
  {
   "cell_type": "code",
   "execution_count": 53,
   "metadata": {},
   "outputs": [
    {
     "data": {
      "text/plain": [
       "['HETNAM', 'RIT', 'RITONAVIR']"
      ]
     },
     "execution_count": 53,
     "metadata": {},
     "output_type": "execute_result"
    }
   ],
   "source": [
    "HETNAM_line.split()"
   ]
  },
  {
   "cell_type": "markdown",
   "metadata": {},
   "source": [
    "We can save the output of this function to a variable as a new list. In the example below, we take the line we found in the `for` loop and split it up into its individual words."
   ]
  },
  {
   "cell_type": "code",
   "execution_count": 54,
   "metadata": {},
   "outputs": [
    {
     "name": "stdout",
     "output_type": "stream",
     "text": [
      "['HETNAM', 'RIT', 'RITONAVIR']\n"
     ]
    }
   ],
   "source": [
    "words = HETNAM_line.split()\n",
    "print(words)"
   ]
  },
  {
   "cell_type": "markdown",
   "metadata": {},
   "source": [
    "From this `print` statement, we now see that we have a list called words, where we have split `HETNAM_line`.  The abbreviation is actually the second element of this list, so we can now save it as a new variable."
   ]
  },
  {
   "cell_type": "code",
   "execution_count": 55,
   "metadata": {},
   "outputs": [
    {
     "name": "stdout",
     "output_type": "stream",
     "text": [
      "RIT\n"
     ]
    }
   ],
   "source": [
    "abbrev = words[1]\n",
    "print(abbrev)"
   ]
  },
  {
   "cell_type": "markdown",
   "metadata": {},
   "source": [
    "We might also want to extract the number of atoms in the protein in this file. We will modify the above steps to achieve the desired result. We will be looking for the line that contains the term `PROTEIN ATOMS`."
   ]
  },
  {
   "cell_type": "code",
   "execution_count": 10,
   "metadata": {},
   "outputs": [
    {
     "name": "stdout",
     "output_type": "stream",
     "text": [
      "REMARK   3   PROTEIN ATOMS            : 1514                                    \n",
      "\n"
     ]
    }
   ],
   "source": [
    "for line in data:\n",
    "    if 'PROTEIN ATOMS' in line:\n",
    "        PROTEIN_ATOM_line = line\n",
    "        words = PROTEIN_ATOM_line.split()\n",
    "        print(PROTEIN_ATOM_line)"
   ]
  },
  {
   "cell_type": "markdown",
   "metadata": {},
   "source": [
    "We can see that the fifth element in this list is a colon (:). It is possible to modify the split command to split lines using the colon as the delimiter (':')."
   ]
  },
  {
   "cell_type": "code",
   "execution_count": 11,
   "metadata": {},
   "outputs": [
    {
     "name": "stdout",
     "output_type": "stream",
     "text": [
      "['REMARK   3   PROTEIN ATOMS            ', ' 1514                                    \\n']\n"
     ]
    }
   ],
   "source": [
    "for line in data:\n",
    "    if 'PROTEIN ATOMS' in line:\n",
    "        PROTEIN_ATOM_line = line\n",
    "        words = PROTEIN_ATOM_line.split(':')\n",
    "        print(words)"
   ]
  },
  {
   "cell_type": "markdown",
   "metadata": {},
   "source": [
    "From this `print` statement, we now see that we have a list called words, where we have split `PROTEIN_ATOM_line`.  The number of atoms in the protein is actually the second element of this list, so we can now save it as a new variable."
   ]
  },
  {
   "cell_type": "code",
   "execution_count": 12,
   "metadata": {},
   "outputs": [
    {
     "name": "stdout",
     "output_type": "stream",
     "text": [
      " 1514                                    \n",
      "\n"
     ]
    }
   ],
   "source": [
    "atoms = words[1]\n",
    "print(atoms)"
   ]
  },
  {
   "cell_type": "markdown",
   "metadata": {},
   "source": [
    "The HIV protease structure in 4eyr.pdb is a dimer. Let's find the number of atoms in each monomer unit. If we now try to do a math operation on atoms, we get an error message.  Why do you think that is?"
   ]
  },
  {
   "cell_type": "code",
   "execution_count": 13,
   "metadata": {},
   "outputs": [
    {
     "ename": "TypeError",
     "evalue": "unsupported operand type(s) for /: 'str' and 'int'",
     "output_type": "error",
     "traceback": [
      "\u001b[0;31m---------------------------------------------------------------------------\u001b[0m",
      "\u001b[0;31mTypeError\u001b[0m                                 Traceback (most recent call last)",
      "\u001b[0;32m<ipython-input-13-5ff957608802>\u001b[0m in \u001b[0;36m<module>\u001b[0;34m\u001b[0m\n\u001b[0;32m----> 1\u001b[0;31m \u001b[0matoms\u001b[0m \u001b[0;34m/\u001b[0m \u001b[0;36m2\u001b[0m\u001b[0;34m\u001b[0m\u001b[0;34m\u001b[0m\u001b[0m\n\u001b[0m",
      "\u001b[0;31mTypeError\u001b[0m: unsupported operand type(s) for /: 'str' and 'int'"
     ]
    }
   ],
   "source": [
    "atoms / 2"
   ]
  },
  {
   "cell_type": "markdown",
   "metadata": {},
   "source": [
    "Even though `atoms` looks like a number to us, it is really a string, so we can use it for a math operation.  We need to change the data type of atoms to a float. This is called *casting*."
   ]
  },
  {
   "cell_type": "code",
   "execution_count": 56,
   "metadata": {},
   "outputs": [
    {
     "data": {
      "text/plain": [
       "757.0"
      ]
     },
     "execution_count": 56,
     "metadata": {},
     "output_type": "execute_result"
    }
   ],
   "source": [
    "atoms = float(atoms)\n",
    "atoms / 2"
   ]
  },
  {
   "cell_type": "markdown",
   "metadata": {},
   "source": [
    "Now it works.  If we thought ahead we could have changed the data type when we assigned the variable originally."
   ]
  },
  {
   "cell_type": "code",
   "execution_count": 15,
   "metadata": {},
   "outputs": [],
   "source": [
    "atoms = float(words[1])"
   ]
  },
  {
   "cell_type": "markdown",
   "metadata": {},
   "source": [
    "<div class=\"exercise-this-is-a-title exercise\">\n",
    "<p class=\"exercise-title\">Exercise on file parsing</p>\n",
    "<p>Use skills from this lesson and the previous lesson to extract the experimental method and temperature for determining the structure of 4eyr.pdb. Try to complete this exercise without opening and reading the PDB file in your text editor.</p>\n",
    "\n",
    "```python\n",
    "EXPERIMENT TYPE : X-RAY DIFFRACTION\n",
    "TEMPERATURE (KELVIN) : 298\n",
    "```\n",
    "    \n",
    "```{admonition} Hint\n",
    ":class: dropdown\n",
    "<ul>\n",
    "    <li>Remember that you can only use readlines once. You will need to reopen the file to read it again</li>\n",
    "    <li>To find the lines with the keywords, do a search and then print the lines to see their content. Then you can refine your search and split the lines as needed to get the desired output</li>\n",
    "</ul>\n",
    "```\n",
    "```{admonition} Solution\n",
    ":class: dropdown\n",
    "<p>This is one possible solution for the file parsing exercise.</p>\n",
    "    \n",
    "```python\n",
    "protein_file = os.path.join('data', 'PDB_files','4eyr.pdb')\n",
    "print(protein_file)\n",
    "with open(protein_file,\"r\") as outfile:\n",
    "    data = outfile.readlines()\n",
    "    for line in data:\n",
    "        if 'EXPERIMENT TYPE' in line:\n",
    "            exp_type_line = line\n",
    "            words = exp_type_line.split()\n",
    "            words[2] = words[2].rstrip('.')  # to remove the . from RESOLUTION.\n",
    "            words[-1] = words[-1].rstrip('.')\n",
    "            print(words[2], words[3], ':', words[5], words[6])\n",
    "        if 'KELVIN' in line:\n",
    "            temp_line = line\n",
    "            words = temp_line.split()\n",
    "            print(words[2], words[3], ':', words[5])\n",
    "```\n",
    "    \n",
    "</div>"
   ]
  },
  {
   "cell_type": "markdown",
   "metadata": {},
   "source": [
    "## Searching for a particular line number in your file\n",
    "There is a lot of other information in the PDB file we might be interested in.  For example, we might want to pull out the sequence of the protein.  If we look through the file, 4eyr.pdb, in a text editor, we notice that the sequence is given in a series of lines that begin with `SEQRES` \n",
    "\n",
    "SEQRES   1 A   99  PRO GLN ILE THR LEU TRP GLN ARG PRO ILE VAL THR ILE  \n",
    "\n",
    "followed by a series of lines that contain the full sequence using three letter abbreviations for the amino acids.  In this case, we don't want to pull something out of this line, as we did in our previous example, but we want to know which line of the file this is so that we can then pull the sequence from the next few lines.  \n",
    "\n",
    "When you use a `for` loop, it is easy to have python keep up with the line numbers using the `enumerate` command.  The general syntax is\n",
    "\n",
    "```python\n",
    "for linenum, line in enumerate(list_name):\n",
    "    do things in the loop\n",
    "```"
   ]
  },
  {
   "cell_type": "markdown",
   "metadata": {},
   "source": [
    "In this notation, there are now *two* variables you can use in your loop commands, `linenum` (which can be named something else) will keep up with what iteration you are on in the loop, in this case what line you are on in the file. The variable `line` (which could be named something else) functions exactly as it did before, holding the actual information from the list.  Finally, instead of just giving the list name you use `enumerate(list_name)`.  \n",
    "\n",
    "This block of code searches our file for the line that contains \"SEQRES\" and reports the line number."
   ]
  },
  {
   "cell_type": "code",
   "execution_count": 19,
   "metadata": {},
   "outputs": [
    {
     "name": "stdout",
     "output_type": "stream",
     "text": [
      "310:SEQRES   1 A   99  PRO GLN ILE THR LEU TRP GLN ARG PRO ILE VAL THR ILE          \n",
      "\n"
     ]
    }
   ],
   "source": [
    "with open(protein_file,\"r\") as outfile:\n",
    "    data = outfile.readlines()\n",
    "    for linenum, line in enumerate(data):\n",
    "        if 'SEQRES   1 A' in line:\n",
    "            print(linenum, ':', line, sep = '')"
   ]
  },
  {
   "cell_type": "markdown",
   "metadata": {},
   "source": [
    "Now we know that this is line 310 in our file (remember that you start counting at zero!).  "
   ]
  },
  {
   "cell_type": "markdown",
   "metadata": {},
   "source": [
    "<div class=\"exercise-this-is-a-title exercise\">\n",
    "    <p class=\"exercise-title\">Check Your Understanding</p>\n",
    "    <p>What would be printed if you entered the following?</p>\n",
    "\n",
    "    print(data[311])\n",
    "    print(data[312])\n",
    "    print(data[313])\n",
    "    print(data[314])\n",
    "    print(data[315])\n",
    "    \n",
    "```{admonition} Answer\n",
    ":class: dropdown\n",
    "\n",
    "<p> It prints line 311-315 of the list data which is the first line that contains \"SEQRES 1 A\" and then the sequence information for the next 5 lines from the PDB file for 7TIM.</p>\n",
    "    \n",
    "```python\n",
    "print(data[311])\n",
    "print(data[312])\n",
    "print(data[313])\n",
    "print(data[314])\n",
    "print(data[315])\n",
    "\n",
    "SEQRES   2 A   99  LYS ILE GLY GLY GLN LEU LYS GLU ALA LEU LEU ASN THR          \n",
    "\n",
    "SEQRES   3 A   99  GLY ALA ASP ASP THR VAL LEU GLU GLU VAL ASN LEU PRO          \n",
    "\n",
    "SEQRES   4 A   99  GLY ARG TRP LYS PRO LYS LEU ILE GLY GLY ILE GLY GLY          \n",
    "\n",
    "SEQRES   5 A   99  PHE VAL LYS VAL ARG GLN TYR ASP GLN VAL PRO ILE GLU          \n",
    "\n",
    "SEQRES   6 A   99  ILE CYS GLY HIS LYS VAL ILE GLY THR VAL LEU VAL GLY          \n",
    "```\n",
    "</div>\n",
    "    "
   ]
  },
  {
   "cell_type": "markdown",
   "metadata": {},
   "source": [
    "## A final note about regular expressions\n",
    "Sometimes you will need to match something more complex than just a particular word or phrase in your output file.  Sometimes you will need to match a particular word, but only if it is found at the beginning of a line.  Or perhaps you will need to match a particular pattern of data, like a capital letter followed by a number, but you won't know the exact letter and number you are looking for.  These types of matching situations are handled with something called *regular expressions* which is accessed through the python module `re`.  While using regular expressions is outside the scope of this tutorial, they are very useful and you might want to learn more about them in the future.  A tutorial can be found at [Automate the Boring Stuff with Python book](https://automatetheboringstuff.com/2e/chapter7/). A great test site for regex is [here](https://regex101.com/)."
   ]
  },
  {
   "cell_type": "code",
   "execution_count": null,
   "metadata": {},
   "outputs": [],
   "source": []
  }
 ],
 "metadata": {
  "kernelspec": {
   "display_name": "Python 3",
   "language": "python",
   "name": "python3"
  },
  "language_info": {
   "codemirror_mode": {
    "name": "ipython",
    "version": 3
   },
   "file_extension": ".py",
   "mimetype": "text/x-python",
   "name": "python",
   "nbconvert_exporter": "python",
   "pygments_lexer": "ipython3",
   "version": "3.7.6"
  }
 },
 "nbformat": 4,
 "nbformat_minor": 4
}
