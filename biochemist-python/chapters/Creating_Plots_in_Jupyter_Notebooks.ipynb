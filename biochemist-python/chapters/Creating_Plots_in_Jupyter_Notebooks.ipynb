{
 "cells": [
  {
   "cell_type": "markdown",
   "metadata": {},
   "source": [
    "Creating Plots in Jupyter Notebooks\n",
    "============================="
   ]
  },
  {
   "cell_type": "markdown",
   "metadata": {},
   "source": [
    "<div class=\"overview-this-is-a-title overview\">\n",
    "<p class=\"overview-title\">Overview</p>\n",
    "    \n",
    "<p>Questions</p>\n",
    "    <ul>\n",
    "        <li>How can I plot and annotate my data in Jupyter notebooks?\n",
    "    </ul>\n",
    "<p>Objectives:</p>\n",
    "    <ul>\n",
    "        <li>Repeat linear regression on the protein assay data to obtain best fit statistics.</li>\n",
    "        <li>Create a plot of the data with the best fit line.</li>\n",
    "        <li>Create a plot that includes confidence intervals.\n",
    "    </ul>\n",
    "<p>Keypoints:</p>\n",
    "    <ul>\n",
    "        <li>Use the matplotlib library to prepare a plot with data and a best fit line.</li>\n",
    "        <li>Use the seaborn library to create a plot that includes a confidence interval.</li>\n",
    "    </ul>\n",
    "</div>"
   ]
  },
  {
   "cell_type": "markdown",
   "metadata": {},
   "source": [
    "## Preparing to Plot\n",
    "\n",
    "In recent lessons, we have learned to use pandas to import csv data into a dataframe that is very easy to access and use for plotting our data. We have also learned to do linear regression analysis using scipy. In this lesson, we will create linear regression plots of our data using two different libraries, matplotlib.pyplot and seaborn. As we add more libraries to our repretoire, we are going to track them in a table.\n",
    "\n",
    "| Library | Uses | Abbreviation |\n",
    "| :------- | :----: | :------------: |\n",
    "| os | file management in operating systems | os |\n",
    "| numpy | calculations | np  | \n",
    "| pandas | data management | pd |\n",
    "| scipy | calculations and statistics | sc or sp | \n",
    "| matplotlib.pyplot | plotting data | plt |\n",
    "| seaborn | plotting data | sns |\n",
    "\n",
    "We will start by importing the data and linear regresson analysis from the last lesson."
   ]
  },
  {
   "cell_type": "code",
   "execution_count": 2,
   "metadata": {},
   "outputs": [
    {
     "name": "stdout",
     "output_type": "stream",
     "text": [
      "Slope = 0.0011136480176211455/mg/mL\n",
      "Intercept =  0.09153081057268722\n",
      "R-squared =  0.9715760228371997\n",
      "P value =  4.67252070582932e-05\n",
      "Standard error =  8.518575456701815e-05\n"
     ]
    }
   ],
   "source": [
    "import os\n",
    "import pandas as pd\n",
    "protein_file = os.path.join('data', 'protein_assay.csv')\n",
    "results_df = pd.read_csv(protein_file)\n",
    "xdata = results_df['mass (ug)']  # Setting the x values\n",
    "ydata = results_df['A-595']  # setting the y values\n",
    "from scipy import stats\n",
    "slope, intercept, r_value, p_value, std_err = stats.linregress(xdata, ydata)\n",
    "print(\"Slope = \", slope, \"/mg/mL\", sep = \"\")\n",
    "print(\"Intercept = \", intercept)\n",
    "print(\"R-squared = \", r_value**2)\n",
    "print(\"P value = \", p_value)\n",
    "print(\"Standard error = \", std_err)"
   ]
  },
  {
   "cell_type": "markdown",
   "metadata": {},
   "source": [
    "## Using Matplotlib.pyplot\n",
    "Matplotlib is a library that supports static, animated and interactive data visualization in Python ([Matplotlib: Visualization with Python](https://matplotlib.org/)). Matplotlib is used alongside numpy to provide for MATLAB-style plotting. You can use matplotlib to create and fully annotate high resolution, publication quality plots that can be easily exported for inclusion in reports and manuscripts. It is possible to create many graph formats in matplotlib, including \"picture within a picture graphs.\" Think of the chart options that are available in your spreadsheet program. These are all available with matplotlib, plus many more. \n",
    "\n",
    "We are going to use one subset of matplotlib's functions called pyplot. This approach is similar to using the stats subset of the functions found in scipy. This library contains tools for plotting and annotating the data. Let's start with a simple x-y scatter plot of the protein calibration curve data. First, we need to import the library, set the size of the figure and indicate the data for the plot."
   ]
  },
  {
   "cell_type": "code",
   "execution_count": 3,
   "metadata": {},
   "outputs": [
    {
     "data": {
      "text/plain": [
       "<matplotlib.collections.PathCollection at 0x7ff068762c50>"
      ]
     },
     "execution_count": 3,
     "metadata": {},
     "output_type": "execute_result"
    },
    {
     "data": {
      "image/png": "[encoded data removed]",
      "text/plain": [
       "<Figure size 720x360 with 1 Axes>"
      ]
     },
     "metadata": {
      "needs_background": "light"
     },
     "output_type": "display_data"
    }
   ],
   "source": [
    "import numpy as np\n",
    "import matplotlib.pyplot as plt\n",
    "plt.figure(figsize = (10,5)) # set the size of the figure\n",
    "plt.scatter(xdata, ydata) # scatter plot of the data"
   ]
  },
  {
   "cell_type": "markdown",
   "metadata": {},
   "source": [
    "Next we add the best fit line using the slope and intercept that were generated by the stats.linregress function from scipy. The first two lines in the next cell are identical to the cell above (no need to import the libraries again). The third line introduces the best fit curve. You may notice a delay of a few seconds as the notebook generates the figure. The more complex the figure and the larger the dataset, the longer it takes for the plot to appear."
   ]
  },
  {
   "cell_type": "code",
   "execution_count": 4,
   "metadata": {},
   "outputs": [
    {
     "data": {
      "text/plain": [
       "[<matplotlib.lines.Line2D at 0x7ff088b277d0>]"
      ]
     },
     "execution_count": 4,
     "metadata": {},
     "output_type": "execute_result"
    },
    {
     "data": {
      "image/png": "[encoded data removed]",
      "text/plain": [
       "<Figure size 720x432 with 1 Axes>"
      ]
     },
     "metadata": {
      "needs_background": "light"
     },
     "output_type": "display_data"
    }
   ],
   "source": [
    "plt.figure(figsize = (10,6))\n",
    "plt.scatter(xdata, ydata)\n",
    "plt.plot(xdata, slope * xdata + intercept) # introduce the best-fit line"
   ]
  },
  {
   "cell_type": "markdown",
   "metadata": {},
   "source": [
    "Next we will use functions for matplotlib.pyplot to add labels for each axis. It is possible to include subscripts and Greek letters in matplotlib figure labels using LaTeX. Here is a [link to a helpful site](https://towardsdatascience.com/write-markdown-latex-in-the-jupyter-notebook-10985edb91fd) about using markdown (used for the text cells in Jupyter notebook) and LaTeX in Jupyter notebooks by [Khelifi Ahmed Aziz](https://medium.com/@ahmedazizkhelifi).  \n",
    "\n",
    "*Greek letters using LaTeX*: You can use an inline LaTeX equation to print Greek letters in matplotlib figures, using this format:\n",
    "\n",
    "+ Start with a dollar sign:  \\$\n",
    "+ Type a backslash  \\$\\\n",
    "+ Type the English version of the Greek letter, \\$\\mu \n",
    "+ End with a dollar sign  \\\\$\\\\mu\\$\n",
    "+ Examples: \\\\$\\\\alpha\\\\$ display as  $\\alpha$;  \\\\$\\\\mu\\\\$ displays as  $\\mu$\n",
    "\n",
    "The command for printing the line equation includes `F`, which stands for `formatted string literal`. By using `F` it is possible to pull the values for slope and intercept that were generated with scipy.stats, by enclosing the variable names in braces, {}. It is also possible to set the precision by following the variable name with `:.4f` where 4 is the number of decimal places you want to appear and f represents the datatype, float."
   ]
  },
  {
   "cell_type": "code",
   "execution_count": 5,
   "metadata": {
    "scrolled": true
   },
   "outputs": [
    {
     "data": {
      "text/plain": [
       "Text(15, 0.19, 'y = 0.0011 * x + 0.0915')"
      ]
     },
     "execution_count": 5,
     "metadata": {},
     "output_type": "execute_result"
    },
    {
     "data": {
      "image/png": "[encoded data removed]",
      "text/plain": [
       "<Figure size 720x432 with 1 Axes>"
      ]
     },
     "metadata": {
      "needs_background": "light"
     },
     "output_type": "display_data"
    }
   ],
   "source": [
    "plt.figure(figsize = (10,6))\n",
    "plt.scatter(xdata, ydata)\n",
    "plt.plot(xdata, slope * xdata + intercept)\n",
    "plt.xlabel('Protein ($\\mu$g)')  # x-axis label\n",
    "plt.ylabel('$A_{595}$')  # y-axis label in LaTeX _{595} makes 595 the subscripts\n",
    "plt.annotate(F'y = {slope:.4f} * x + {intercept:.4f}', xy = (15, 0.19))"
   ]
  },
  {
   "cell_type": "markdown",
   "metadata": {},
   "source": [
    "<div class=\"exercise-this-is-a-title exercise\">\n",
    "<p class=\"exercise-title\">Check your understanding</p>\n",
    "    <p>Take some time to play with the code for the figure above. Can you move the equation to the lower right hand corner of the plot? </p>\n",
    "    \n",
    "```{admonition} Solution\n",
    ":class: dropdown\n",
    "\n",
    "You can simply change the xy pair in the last line of the code.\n",
    "\n",
    "```python\n",
    "    plt.annotate(F'y = {slope:.4f} * x + {intercept:.4f}', xy = (60, 0.09))    \n",
    "```   \n",
    "</div>"
   ]
  },
  {
   "cell_type": "markdown",
   "metadata": {},
   "source": [
    "You may be asking yourself, \"Why didn't we generate a title for the figure?\" That is certainly possible using the plt.title() function from matplotlib.pyplot. This was omitted because figures for publications and reports normally include separate text with a figure number, title and details as part of the text. To that end, we are going to learn to use the `savefig` command to produce a high resolution figure suitable for publication, which we will then learn to export to a file. Like many commands in python, it is simply a matter of getting the syntax right. We've added one line of code to save a high resolution image of our current figure."
   ]
  },
  {
   "cell_type": "code",
   "execution_count": null,
   "metadata": {
    "scrolled": false
   },
   "outputs": [],
   "source": [
    "plt.figure(figsize = (10,6))\n",
    "plt.scatter(xdata, ydata)\n",
    "plt.plot(xdata, slope * xdata + intercept)\n",
    "plt.xlabel('Protein ($\\mu$g)')\n",
    "plt.ylabel('$A_{595}$')\n",
    "plt.annotate(F'y = {slope:.4f} * x + {intercept:.4f}', xy = (15, 0.19))\n",
    "plt.savefig('Bradford_plot.png', dpi = 600, bbox_inches = 'tight')"
   ]
  },
  {
   "cell_type": "markdown",
   "metadata": {},
   "source": [
    "Let's explore the line of code we wrote to save the figure. Once you have executed this command, you should find the plot in the same folder as the current Jupyter notebook. \n",
    "```python\n",
    "plt.savefig('Bradford_plot.png', dpi = 600, bbox_inches = 'tight')\n",
    "```\n",
    "The arguments for plt.savefig are the filename (in single quotes because it is a string), the resolution (in dots per inch), the bounding box is 'tight', meaning that all the extra white space around the figure is removed.\n",
    "\n",
    "There are many more options for plotting with matplotlib.pyplot. For example, if you wanted to have a red line in the plot, you could modify one line of code.\n",
    "\n",
    "```python\n",
    "plt.plot(xdata, slope * xdata + intercept) # add the argument 'r-'\n",
    "plt.plot(xdata, slope * xdata + intercept, 'r-') # red line\n",
    "```"
   ]
  },
  {
   "cell_type": "markdown",
   "metadata": {},
   "source": [
    "## Scatter Plots with Seaborn\n",
    "\n",
    "[Seaborn](https://seaborn.pydata.org/) is a Python library for statistical data visualization that is based on matplotlib. That means you can use all the commands from Matplotlib with Seaborn, but it also has high-level functions that group many Matplotlib functions to produce sophisticated graphs easily. \n",
    "\n",
    "Here we will use the Seaborn library to create a scatter plot that includes a confidence interval. Please note that seaborn has dependencies on other libraries (numpy, scipy, pandas, and matplotlib), so these must be imported before you can use Seaborn. \n",
    "\n",
    "The following plot is based on resources at [Statology](https://www.statology.org/scatterplot-with-regression-line-python/). I prefer this plot to the simple linear regression above because it makes the reliable regions of the calibration curve more obvious by displaying the 95% confidence interval. It also emphasizes the valid range for calculations based on the plot - that we can't use this curve to analyze absorbance values below 0.10 or above 0.20."
   ]
  },
  {
   "cell_type": "code",
   "execution_count": null,
   "metadata": {
    "scrolled": true
   },
   "outputs": [],
   "source": [
    "import os\n",
    "import pandas as pd\n",
    "protein_file = os.path.join('data', 'protein_assay.csv')\n",
    "results_df = pd.read_csv(protein_file)\n",
    "xdata = results_df['mass (ug)']  \n",
    "ydata = results_df['A-595'] \n",
    "from scipy import stats\n",
    "slope, intercept, r_value, p_value, std_err = stats.linregress(xdata, ydata)\n",
    "\n",
    "import seaborn as sns\n",
    "sns.regplot(xdata, ydata)"
   ]
  },
  {
   "cell_type": "markdown",
   "metadata": {},
   "source": [
    "<div class=\"exercise-this-is-a-title exercise\">\n",
    "<p class=\"exercise-title\">Exercise</p>\n",
    "\n",
    "Use a similar approach to the one described above to create a linear regression plot with confidence intervals for data that are a bit more scattered. The data can be found in the folder `data/protein_assay2.csv`. Increase the size of the figure, change the default x-axis and y-axis labels (taken by pandas from the column headers) to be mass ($\\mu$g) and A$_{595}$ as before and insert the equation for the line within the plot. You final figure should look something like this:\n",
    "    \n",
    "![alt](Bradford_plot2.png \"Protein Assay Plot 2\")\n",
    "    \n",
    "```{admonition} Solution\n",
    ":class: dropdown\n",
    "    \n",
    "```python\n",
    "    protein_file2 = os.path.join('data', 'protein_assay2.csv')\n",
    "    results_df = pd.read_csv(protein_file2)\n",
    "    xdata = results_df['mass (ug)']\n",
    "    ydata = results_df['A-595']\n",
    "    slope, intercept, r_value, p_value, std_err = stats.linregress(xdata, ydata)\n",
    "    import seaborn as sns\n",
    "    sns.regplot(xdata, ydata)\n",
    "    plt.xlabel('Protein ($\\mu$g)')\n",
    "    plt.ylabel('$A_{595}$')\n",
    "    plt.annotate(F'y = {slope:.4f} * x + {intercept:.4f}', xy = (15, 0.22))\n",
    "    plt.savefig('Bradford_plot2.png', dpi = 600, bbox_inches = 'tight')\n",
    "\n",
    "```\n",
    "    \n",
    "</div>"
   ]
  },
  {
   "cell_type": "code",
   "execution_count": null,
   "metadata": {},
   "outputs": [],
   "source": [
    "# Once this lesson is finalized, I'll remove this block of code.\n",
    "protein_file2 = os.path.join('data', 'protein_assay2.csv')\n",
    "results_df = pd.read_csv(protein_file2)\n",
    "xdata = results_df['mass (ug)']\n",
    "ydata = results_df['A-595']\n",
    "slope, intercept, r_value, p_value, std_err = stats.linregress(xdata, ydata)\n",
    "import seaborn as sns\n",
    "sns.regplot(xdata, ydata)\n",
    "plt.xlabel('Protein ($\\mu$g)')\n",
    "plt.ylabel('$A_{595}$')\n",
    "plt.annotate(F'y = {slope:.4f} * x + {intercept:.4f}', xy = (15, 0.22))\n",
    "plt.savefig('Bradford_plot2.png', dpi = 600, bbox_inches = 'tight')"
   ]
  },
  {
   "cell_type": "code",
   "execution_count": null,
   "metadata": {},
   "outputs": [],
   "source": []
  }
 ],
 "metadata": {
  "kernelspec": {
   "display_name": "Python 3",
   "language": "python",
   "name": "python3"
  },
  "language_info": {
   "codemirror_mode": {
    "name": "ipython",
    "version": 3
   },
   "file_extension": ".py",
   "mimetype": "text/x-python",
   "name": "python",
   "nbconvert_exporter": "python",
   "pygments_lexer": "ipython3",
   "version": "3.8.6"
  }
 },
 "nbformat": 4,
 "nbformat_minor": 4
}
