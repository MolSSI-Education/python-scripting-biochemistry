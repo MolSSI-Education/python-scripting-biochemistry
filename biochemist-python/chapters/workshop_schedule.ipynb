{
 "cells": [
  {
   "cell_type": "markdown",
   "metadata": {},
   "source": [
    "Workshop Schedule\n",
    "================\n",
    "\n"
   ]
  },
  {
   "cell_type": "markdown",
   "metadata": {},
   "source": [
    "The Python Scripting Workshop for Biochemistry and Molecular Biology includes 12 hours of live-coding instruction, plus take-home assignments designed to reinforce the materials covered in each session and to prepare you for the next session. \n",
    "\n",
    "This workshop is being offered for the first time to a small group with the intention of introducing some of you to python coding in Jupyter notebooks and to get your feedback in the form of the answers to a few questions:\n",
    "\n",
    "* What should we keep doing?\n",
    "* What should we stop doing?\n",
    "* What should we add that does not already exist?\n",
    "\n",
    "Here is the workshop schedule:\n",
    "\n",
    "<br>\n",
    "\n",
    "| Day 1| |\n",
    "|:---- |:------ |\n",
    "| Time | Module |\n",
    "| 1:00 PM | Set-up help (optional) |\n",
    "| 2:00 PM | Introduction and Workshop Overview |\n",
    "| 3:20 PM | Break |\n",
    "| 3:30 PM | File Parsing|\n",
    "<br>\n",
    "\n",
    "| Day 2| |\n",
    "|:---- |:------ |\n",
    "| Time | Module |\n",
    "| 2:00 PM | Processing multiple files and writing files |\n",
    "| 3:20 PM | Break |\n",
    "| 3:30 PM | Working with pandas |\n",
    "<br>\n",
    "\n",
    "| Day 3| |\n",
    "|:---- |:------ |\n",
    "| Time | Module |\n",
    "| 2:00 PM | Linear Regression |\n",
    "| 3:20 PM | Break |\n",
    "| 3:30 PM | Creating plots in Jupyter notebooks |\n",
    "<br>\n",
    "\n",
    "| Day 4| |\n",
    "|:---- |:------ |\n",
    "| Time | Module |\n",
    "| 2:00 PM | Non-Linear Regression Part 1 |\n",
    "| 3:20 PM | Break |\n",
    "| 3:30 PM | Non-Linear Regression Part 2 |\n",
    "</left>\n"
   ]
  },
  {
   "cell_type": "code",
   "execution_count": null,
   "metadata": {},
   "outputs": [],
   "source": []
  }
 ],
 "metadata": {
  "kernelspec": {
   "display_name": "Python 3",
   "language": "python",
   "name": "python3"
  },
  "language_info": {
   "codemirror_mode": {
    "name": "ipython",
    "version": 3
   },
   "file_extension": ".py",
   "mimetype": "text/x-python",
   "name": "python",
   "nbconvert_exporter": "python",
   "pygments_lexer": "ipython3",
   "version": "3.8.8"
  }
 },
 "nbformat": 4,
 "nbformat_minor": 4
}
