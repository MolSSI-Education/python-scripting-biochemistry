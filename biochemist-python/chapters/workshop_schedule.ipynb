{
 "cells": [
  {
   "cell_type": "markdown",
   "metadata": {},
   "source": [
    "Workshop Schedule\n",
    "================\n",
    "\n"
   ]
  },
  {
   "cell_type": "markdown",
   "metadata": {},
   "source": [
    "The Python Scripting Workshop for Biochemistry and Molecular Biology includes 12 hours of live-coding instruction, plus take-home assignments designed to reinforce the materials covered in each session and to prepare you for the next session. \n",
    "\n",
    "This workshop is being offered for the first time to a small group with the intention of introducing some of you to python coding in Jupyter notebooks and to get your feedback in the form of the answers to a few questions:\n",
    "\n",
    "* What should we keep doing?\n",
    "* What should we stop doing?\n",
    "* What should we add that does not already exist?\n",
    "\n",
    "Here is the workshop schedule:\n",
    "\n",
    "<p style=\"text-align: center;\">Wednesday, June 2, 2021</p>\n",
    "\n",
    "\n",
    "| Time | Module |\n",
    "|:---- |:------ |\n",
    "| 8:00 AM | Set-up help (optional) |\n",
    "| 9:00 AM | Introduction and Workshop Overview |\n",
    "| 10:20 AM | Break |\n",
    "| 10:30 AM | File Parsing|\n",
    "\n",
    "<p style=\"text-align: center;\">Friday, June 4, 2021</p>\n",
    "\n",
    "| Time | Module |\n",
    "|:---- |:------ |\n",
    "| 9:00 AM | Processing multiple files and writing files |\n",
    "| 10:20 AM | Break |\n",
    "| 10:30 AM | Working with pandas |\n",
    "\n",
    "<p style=\"text-align: center;\">Monday, June 7, 2021</p>\n",
    "\n",
    "| Time | Module |\n",
    "|:---- |:------ |\n",
    "| 9:00 AM | Linear Regression |\n",
    "| 10:20 AM | Break |\n",
    "| 10:30 AM | Creating plots in Jupyter notebooks |\n",
    "\n",
    "<p style=\"text-align: center;\">Wednesday, June 9, 2021</p>\n",
    "\n",
    "| Time | Module |\n",
    "|:---- |:------ |\n",
    "| 9:00 AM | Non-Linear Regression Part 1 |\n",
    "| 10:20 AM | Break |\n",
    "| 10:30 AM | Non-Linear Regression Part 2 |\n",
    "\n"
   ]
  },
  {
   "cell_type": "code",
   "execution_count": null,
   "metadata": {},
   "outputs": [],
   "source": []
  }
 ],
 "metadata": {
  "kernelspec": {
   "display_name": "Python 3",
   "language": "python",
   "name": "python3"
  },
  "language_info": {
   "codemirror_mode": {
    "name": "ipython",
    "version": 3
   },
   "file_extension": ".py",
   "mimetype": "text/x-python",
   "name": "python",
   "nbconvert_exporter": "python",
   "pygments_lexer": "ipython3",
   "version": "3.7.6"
  }
 },
 "nbformat": 4,
 "nbformat_minor": 4
}
