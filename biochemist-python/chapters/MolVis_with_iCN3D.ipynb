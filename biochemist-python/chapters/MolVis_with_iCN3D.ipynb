{
 "cells": [
  {
   "cell_type": "markdown",
   "id": "667a2266-cb12-4121-a78a-1fb24721dea5",
   "metadata": {},
   "source": [
    "## Molecular Visualization with iCN3D\n",
    "\n",
    "``````{admonition} Overview\n",
    ":class: overview\n",
    "\n",
    "Questions:\n",
    "\n",
    "* How do you incorporate iCN3D into a Jupyter Notebook?\n",
    "\n",
    "* How do you view structures from PDB files in iCN3D?  \n",
    "\n",
    "* How do you superimpose structures in iCN3D in a Jupyter Notebook?\n",
    "\n",
    "* How can you control the renderings of features of a protein in iCN3D?\n",
    "\n",
    "Objectives:\n",
    "\n",
    "* Learn to load the iCN3D app\n",
    "\n",
    "* Identify controls that are available within the iCN3D window in a Jupyter Notebook\n",
    "\n",
    "* Implement commands captured from an iCN3D web page in a Jupyter notebook.\n",
    "\n",
    "``````"
   ]
  },
  {
   "cell_type": "markdown",
   "id": "5f44082a-4b81-4554-8178-113fecd73685",
   "metadata": {},
   "source": [
    "## iCN3D and Molecular Visualization\n",
    "iCN3D is a molecular viewer that is provided by the National Center for Biotechnology Information and integrated into many of their web pages. Here is a [link](https://www.ncbi.nlm.nih.gov/Structure/icn3d/full.html) that enables you to open an iCN3D web page and load a PDB structure of interest. In fact, Henry Jakubowski has created an extensive collection of [iCN3D web pages](https://bio.libretexts.org/Learning_Objects/Visualizations_and_Simulations/Biochemistry-iCn3D_Molecular_Models) to support his [Biochemistry textbook offered through Libretext](https://bio.libretexts.org/Bookshelves/Biochemistry). \n",
    "\n",
    "### Loading the iCN3D library\n",
    "As we have seen previously, the `import` command is used to load iCN3D into your Jupyter notebook. Be careful to use the exact name of the library, all in lower case letters."
   ]
  },
  {
   "cell_type": "code",
   "execution_count": 1,
   "id": "ecfadfa2-ed31-4876-bf60-750bcb95619d",
   "metadata": {},
   "outputs": [],
   "source": [
    "import icn3dpy"
   ]
  },
  {
   "cell_type": "markdown",
   "id": "856c9139-96dd-4c9f-ae57-db81d5578e50",
   "metadata": {},
   "source": [
    "### Viewing a PDB structure\n",
    "As a first step, we will simply load a PDB structure in the default representation provided when you use the icn3dpy.view command for Jupyter notebooks. Please note that you can substitute in any structure id of interest using the format 'pdbid = xxxx'. If you have a favorite structure, use that instead of 1a0j."
   ]
  },
  {
   "cell_type": "code",
   "execution_count": 2,
   "id": "ba4a7cad-be45-4200-b696-b129cee16335",
   "metadata": {},
   "outputs": [
    {
     "data": {
      "application/3dmoljs_load.v0": "<div id=\"icn3dviewer1682025549916966\" style=\"position: relative; width: 640px; min-height: 530px; height: auto\">\n        <p id=\"icn3dwarning1682025549916966\" style=\"background-color:#ffcccc;color:black\">You appear to be running in JupyterLab (or JavaScript failed to load for some other reason).  You need to install the extension: <br>\n        <tt>jupyter labextension install jupyterlab_3dmol</tt></p>\n        </div>\n<script>\n\nvar loadScriptAsync = function(uri){\n  return new Promise((resolve, reject) => {\n    var tag = document.createElement('script');\n    tag.src = uri;\n    //tag.async = true;\n    tag.onload = () => {\n      resolve();\n    };\n  var firstScriptTag = document.getElementsByTagName('link')[0];\n  firstScriptTag.parentNode.insertBefore(tag, firstScriptTag);\n  });\n};\n\nvar loadCssAsync = function(uri){\n  return new Promise((resolve, reject) => {\nvar tag = document.createElement('link');\ntag.rel = 'stylesheet';\ntag.href = uri;\n//tag.async = true;\ntag.onload = () => {\n  resolve();\n};\nvar firstScriptTag = document.getElementsByTagName('script')[0];\nfirstScriptTag.parentNode.insertBefore(tag, firstScriptTag);\n  });\n};\n\nif(typeof js === 'undefined') {\n  js = loadScriptAsync(\"https://www.ncbi.nlm.nih.gov/Structure/icn3d/es5/icn3d_all_full.min.js\");\n  \n  css1 = loadCssAsync(\"https://www.ncbi.nlm.nih.gov/Structure/icn3d/lib/jquery-ui-1.13.2.min.css\");\n  css2 = loadCssAsync(\"https://www.ncbi.nlm.nih.gov/Structure/icn3d/icn3d.css\");\n}\n\nvar viewer1682025549916966 = null;\nvar warn = document.getElementById(\"icn3dwarning1682025549916966\");\nif(warn) {\n    warn.parentNode.removeChild(warn);\n}\n\ncss1\n.then(function() { return css2; })\n.then(function() { return js; })\n.then(function() {\ncfg = {divid: \"icn3dviewer1682025549916966\", pdbid: \"1a0j\", width: \"640px\", height: \"480px\", mobilemenu: 1, notebook: 1, command: '', };\nviewer1682025549916966 = new icn3d.iCn3DUI(cfg);\nviewer1682025549916966.show3DStructure(cfg.pdb);\n});\n</script>",
      "text/html": [
       "<div id=\"icn3dviewer1682025549916966\" style=\"position: relative; width: 640px; min-height: 530px; height: auto\">\n",
       "        <p id=\"icn3dwarning1682025549916966\" style=\"background-color:#ffcccc;color:black\">You appear to be running in JupyterLab (or JavaScript failed to load for some other reason).  You need to install the extension: <br>\n",
       "        <tt>jupyter labextension install jupyterlab_3dmol</tt></p>\n",
       "        </div>\n",
       "<script>\n",
       "\n",
       "var loadScriptAsync = function(uri){\n",
       "  return new Promise((resolve, reject) => {\n",
       "    var tag = document.createElement('script');\n",
       "    tag.src = uri;\n",
       "    //tag.async = true;\n",
       "    tag.onload = () => {\n",
       "      resolve();\n",
       "    };\n",
       "  var firstScriptTag = document.getElementsByTagName('link')[0];\n",
       "  firstScriptTag.parentNode.insertBefore(tag, firstScriptTag);\n",
       "  });\n",
       "};\n",
       "\n",
       "var loadCssAsync = function(uri){\n",
       "  return new Promise((resolve, reject) => {\n",
       "var tag = document.createElement('link');\n",
       "tag.rel = 'stylesheet';\n",
       "tag.href = uri;\n",
       "//tag.async = true;\n",
       "tag.onload = () => {\n",
       "  resolve();\n",
       "};\n",
       "var firstScriptTag = document.getElementsByTagName('script')[0];\n",
       "firstScriptTag.parentNode.insertBefore(tag, firstScriptTag);\n",
       "  });\n",
       "};\n",
       "\n",
       "if(typeof js === 'undefined') {\n",
       "  js = loadScriptAsync(\"https://www.ncbi.nlm.nih.gov/Structure/icn3d/es5/icn3d_all_full.min.js\");\n",
       "  \n",
       "  css1 = loadCssAsync(\"https://www.ncbi.nlm.nih.gov/Structure/icn3d/lib/jquery-ui-1.13.2.min.css\");\n",
       "  css2 = loadCssAsync(\"https://www.ncbi.nlm.nih.gov/Structure/icn3d/icn3d.css\");\n",
       "}\n",
       "\n",
       "var viewer1682025549916966 = null;\n",
       "var warn = document.getElementById(\"icn3dwarning1682025549916966\");\n",
       "if(warn) {\n",
       "    warn.parentNode.removeChild(warn);\n",
       "}\n",
       "\n",
       "css1\n",
       ".then(function() { return css2; })\n",
       ".then(function() { return js; })\n",
       ".then(function() {\n",
       "cfg = {divid: \"icn3dviewer1682025549916966\", pdbid: \"1a0j\", width: \"640px\", height: \"480px\", mobilemenu: 1, notebook: 1, command: '', };\n",
       "viewer1682025549916966 = new icn3d.iCn3DUI(cfg);\n",
       "viewer1682025549916966.show3DStructure(cfg.pdb);\n",
       "});\n",
       "</script>"
      ]
     },
     "metadata": {},
     "output_type": "display_data"
    },
    {
     "data": {
      "text/plain": [
       "<icn3dpy.view at 0x107f80790>"
      ]
     },
     "execution_count": 2,
     "metadata": {},
     "output_type": "execute_result"
    }
   ],
   "source": [
    "scene = icn3dpy.view(q='pdbid=1a0j')\n",
    "scene"
   ]
  },
  {
   "cell_type": "markdown",
   "id": "968f3b42-de02-4d6e-81f1-4df474d8fc16",
   "metadata": {},
   "source": [
    "### Applying the power of python\n",
    "The above approach offers no real advantages over simply using an [iCN3D web page](https://www.ncbi.nlm.nih.gov/Structure/icn3d/full.html) to view your structure, so we are going to create some variables and functions that will enable you to quickly generate your desired views of many different PDB entries using simple commands. Let's start with variables. The icn3dpy.view() command requires the definition of a variable `q` in the statement. In this example, the string `pdbid=1a0j` is assigned to the variable q.\n",
    "\n",
    "```python\n",
    "view = icn3dpy.view(q='pdbid=1a0j')\n",
    "view\n",
    "```\n",
    "\n",
    "This can be replaced with another variable that contains the string. Let's try that."
   ]
  },
  {
   "cell_type": "code",
   "execution_count": 3,
   "id": "426a29f6-d21b-4369-ac89-c61fc15c4232",
   "metadata": {},
   "outputs": [
    {
     "data": {
      "application/3dmoljs_load.v0": "<div id=\"icn3dviewer1682025549924564\" style=\"position: relative; width: 640px; min-height: 530px; height: auto\">\n        <p id=\"icn3dwarning1682025549924564\" style=\"background-color:#ffcccc;color:black\">You appear to be running in JupyterLab (or JavaScript failed to load for some other reason).  You need to install the extension: <br>\n        <tt>jupyter labextension install jupyterlab_3dmol</tt></p>\n        </div>\n<script>\n\nvar loadScriptAsync = function(uri){\n  return new Promise((resolve, reject) => {\n    var tag = document.createElement('script');\n    tag.src = uri;\n    //tag.async = true;\n    tag.onload = () => {\n      resolve();\n    };\n  var firstScriptTag = document.getElementsByTagName('link')[0];\n  firstScriptTag.parentNode.insertBefore(tag, firstScriptTag);\n  });\n};\n\nvar loadCssAsync = function(uri){\n  return new Promise((resolve, reject) => {\nvar tag = document.createElement('link');\ntag.rel = 'stylesheet';\ntag.href = uri;\n//tag.async = true;\ntag.onload = () => {\n  resolve();\n};\nvar firstScriptTag = document.getElementsByTagName('script')[0];\nfirstScriptTag.parentNode.insertBefore(tag, firstScriptTag);\n  });\n};\n\nif(typeof js === 'undefined') {\n  js = loadScriptAsync(\"https://www.ncbi.nlm.nih.gov/Structure/icn3d/es5/icn3d_all_full.min.js\");\n  \n  css1 = loadCssAsync(\"https://www.ncbi.nlm.nih.gov/Structure/icn3d/lib/jquery-ui-1.13.2.min.css\");\n  css2 = loadCssAsync(\"https://www.ncbi.nlm.nih.gov/Structure/icn3d/icn3d.css\");\n}\n\nvar viewer1682025549924564 = null;\nvar warn = document.getElementById(\"icn3dwarning1682025549924564\");\nif(warn) {\n    warn.parentNode.removeChild(warn);\n}\n\ncss1\n.then(function() { return css2; })\n.then(function() { return js; })\n.then(function() {\ncfg = {divid: \"icn3dviewer1682025549924564\", pdbid: \"8gch\", width: \"640px\", height: \"480px\", mobilemenu: 1, notebook: 1, command: '', };\nviewer1682025549924564 = new icn3d.iCn3DUI(cfg);\nviewer1682025549924564.show3DStructure(cfg.pdb);\n});\n</script>",
      "text/html": [
       "<div id=\"icn3dviewer1682025549924564\" style=\"position: relative; width: 640px; min-height: 530px; height: auto\">\n",
       "        <p id=\"icn3dwarning1682025549924564\" style=\"background-color:#ffcccc;color:black\">You appear to be running in JupyterLab (or JavaScript failed to load for some other reason).  You need to install the extension: <br>\n",
       "        <tt>jupyter labextension install jupyterlab_3dmol</tt></p>\n",
       "        </div>\n",
       "<script>\n",
       "\n",
       "var loadScriptAsync = function(uri){\n",
       "  return new Promise((resolve, reject) => {\n",
       "    var tag = document.createElement('script');\n",
       "    tag.src = uri;\n",
       "    //tag.async = true;\n",
       "    tag.onload = () => {\n",
       "      resolve();\n",
       "    };\n",
       "  var firstScriptTag = document.getElementsByTagName('link')[0];\n",
       "  firstScriptTag.parentNode.insertBefore(tag, firstScriptTag);\n",
       "  });\n",
       "};\n",
       "\n",
       "var loadCssAsync = function(uri){\n",
       "  return new Promise((resolve, reject) => {\n",
       "var tag = document.createElement('link');\n",
       "tag.rel = 'stylesheet';\n",
       "tag.href = uri;\n",
       "//tag.async = true;\n",
       "tag.onload = () => {\n",
       "  resolve();\n",
       "};\n",
       "var firstScriptTag = document.getElementsByTagName('script')[0];\n",
       "firstScriptTag.parentNode.insertBefore(tag, firstScriptTag);\n",
       "  });\n",
       "};\n",
       "\n",
       "if(typeof js === 'undefined') {\n",
       "  js = loadScriptAsync(\"https://www.ncbi.nlm.nih.gov/Structure/icn3d/es5/icn3d_all_full.min.js\");\n",
       "  \n",
       "  css1 = loadCssAsync(\"https://www.ncbi.nlm.nih.gov/Structure/icn3d/lib/jquery-ui-1.13.2.min.css\");\n",
       "  css2 = loadCssAsync(\"https://www.ncbi.nlm.nih.gov/Structure/icn3d/icn3d.css\");\n",
       "}\n",
       "\n",
       "var viewer1682025549924564 = null;\n",
       "var warn = document.getElementById(\"icn3dwarning1682025549924564\");\n",
       "if(warn) {\n",
       "    warn.parentNode.removeChild(warn);\n",
       "}\n",
       "\n",
       "css1\n",
       ".then(function() { return css2; })\n",
       ".then(function() { return js; })\n",
       ".then(function() {\n",
       "cfg = {divid: \"icn3dviewer1682025549924564\", pdbid: \"8gch\", width: \"640px\", height: \"480px\", mobilemenu: 1, notebook: 1, command: '', };\n",
       "viewer1682025549924564 = new icn3d.iCn3DUI(cfg);\n",
       "viewer1682025549924564.show3DStructure(cfg.pdb);\n",
       "});\n",
       "</script>"
      ]
     },
     "metadata": {},
     "output_type": "display_data"
    },
    {
     "data": {
      "text/plain": [
       "<icn3dpy.view at 0x108015c40>"
      ]
     },
     "execution_count": 3,
     "metadata": {},
     "output_type": "execute_result"
    }
   ],
   "source": [
    "# Replacing the 'pdbid=1a0j' string with a variable\n",
    "ID = 'pdbid=8gch'\n",
    "scene = icn3dpy.view(q=ID)\n",
    "scene"
   ]
  },
  {
   "cell_type": "markdown",
   "id": "e6637c10-2136-4bfd-977f-335e5c395cb4",
   "metadata": {},
   "source": [
    "### Adding commands to the icn3dpy.view function\n",
    "It is possible to add commands to the icn3dpy.view function to create a different view. You can find a list of commands on the [iCN3D menuicon page](https://www.ncbi.nlm.nih.gov/Structure/icn3d/icn3d.html#commands). Let's consider a few examples and then explore additional ways to control them."
   ]
  },
  {
   "cell_type": "code",
   "execution_count": 4,
   "id": "c582fb0b-2554-47af-b1ce-97f2188f04fa",
   "metadata": {},
   "outputs": [],
   "source": [
    "# Adding this command string with the syntax shown to change the appearance\n",
    "# of the protein from strands to cylinder and plate"
   ]
  },
  {
   "cell_type": "code",
   "execution_count": 5,
   "id": "41c454bb-1484-43b7-be88-c6b645721ff7",
   "metadata": {},
   "outputs": [
    {
     "data": {
      "application/3dmoljs_load.v0": "<div id=\"icn3dviewer1682025549941708\" style=\"position: relative; width: 640px; min-height: 530px; height: auto\">\n        <p id=\"icn3dwarning1682025549941708\" style=\"background-color:#ffcccc;color:black\">You appear to be running in JupyterLab (or JavaScript failed to load for some other reason).  You need to install the extension: <br>\n        <tt>jupyter labextension install jupyterlab_3dmol</tt></p>\n        </div>\n<script>\n\nvar loadScriptAsync = function(uri){\n  return new Promise((resolve, reject) => {\n    var tag = document.createElement('script');\n    tag.src = uri;\n    //tag.async = true;\n    tag.onload = () => {\n      resolve();\n    };\n  var firstScriptTag = document.getElementsByTagName('link')[0];\n  firstScriptTag.parentNode.insertBefore(tag, firstScriptTag);\n  });\n};\n\nvar loadCssAsync = function(uri){\n  return new Promise((resolve, reject) => {\nvar tag = document.createElement('link');\ntag.rel = 'stylesheet';\ntag.href = uri;\n//tag.async = true;\ntag.onload = () => {\n  resolve();\n};\nvar firstScriptTag = document.getElementsByTagName('script')[0];\nfirstScriptTag.parentNode.insertBefore(tag, firstScriptTag);\n  });\n};\n\nif(typeof js === 'undefined') {\n  js = loadScriptAsync(\"https://www.ncbi.nlm.nih.gov/Structure/icn3d/es5/icn3d_all_full.min.js\");\n  \n  css1 = loadCssAsync(\"https://www.ncbi.nlm.nih.gov/Structure/icn3d/lib/jquery-ui-1.13.2.min.css\");\n  css2 = loadCssAsync(\"https://www.ncbi.nlm.nih.gov/Structure/icn3d/icn3d.css\");\n}\n\nvar viewer1682025549941708 = null;\nvar warn = document.getElementById(\"icn3dwarning1682025549941708\");\nif(warn) {\n    warn.parentNode.removeChild(warn);\n}\n\ncss1\n.then(function() { return css2; })\n.then(function() { return js; })\n.then(function() {\ncfg = {divid: \"icn3dviewer1682025549941708\", pdbid: \"1mbo\", width: \"640px\", height: \"480px\", mobilemenu: 1, notebook: 1, command: 'style proteins cylinder and plate', };\nviewer1682025549941708 = new icn3d.iCn3DUI(cfg);\nviewer1682025549941708.show3DStructure(cfg.pdb);\n});\n</script>",
      "text/html": [
       "<div id=\"icn3dviewer1682025549941708\" style=\"position: relative; width: 640px; min-height: 530px; height: auto\">\n",
       "        <p id=\"icn3dwarning1682025549941708\" style=\"background-color:#ffcccc;color:black\">You appear to be running in JupyterLab (or JavaScript failed to load for some other reason).  You need to install the extension: <br>\n",
       "        <tt>jupyter labextension install jupyterlab_3dmol</tt></p>\n",
       "        </div>\n",
       "<script>\n",
       "\n",
       "var loadScriptAsync = function(uri){\n",
       "  return new Promise((resolve, reject) => {\n",
       "    var tag = document.createElement('script');\n",
       "    tag.src = uri;\n",
       "    //tag.async = true;\n",
       "    tag.onload = () => {\n",
       "      resolve();\n",
       "    };\n",
       "  var firstScriptTag = document.getElementsByTagName('link')[0];\n",
       "  firstScriptTag.parentNode.insertBefore(tag, firstScriptTag);\n",
       "  });\n",
       "};\n",
       "\n",
       "var loadCssAsync = function(uri){\n",
       "  return new Promise((resolve, reject) => {\n",
       "var tag = document.createElement('link');\n",
       "tag.rel = 'stylesheet';\n",
       "tag.href = uri;\n",
       "//tag.async = true;\n",
       "tag.onload = () => {\n",
       "  resolve();\n",
       "};\n",
       "var firstScriptTag = document.getElementsByTagName('script')[0];\n",
       "firstScriptTag.parentNode.insertBefore(tag, firstScriptTag);\n",
       "  });\n",
       "};\n",
       "\n",
       "if(typeof js === 'undefined') {\n",
       "  js = loadScriptAsync(\"https://www.ncbi.nlm.nih.gov/Structure/icn3d/es5/icn3d_all_full.min.js\");\n",
       "  \n",
       "  css1 = loadCssAsync(\"https://www.ncbi.nlm.nih.gov/Structure/icn3d/lib/jquery-ui-1.13.2.min.css\");\n",
       "  css2 = loadCssAsync(\"https://www.ncbi.nlm.nih.gov/Structure/icn3d/icn3d.css\");\n",
       "}\n",
       "\n",
       "var viewer1682025549941708 = null;\n",
       "var warn = document.getElementById(\"icn3dwarning1682025549941708\");\n",
       "if(warn) {\n",
       "    warn.parentNode.removeChild(warn);\n",
       "}\n",
       "\n",
       "css1\n",
       ".then(function() { return css2; })\n",
       ".then(function() { return js; })\n",
       ".then(function() {\n",
       "cfg = {divid: \"icn3dviewer1682025549941708\", pdbid: \"1mbo\", width: \"640px\", height: \"480px\", mobilemenu: 1, notebook: 1, command: 'style proteins cylinder and plate', };\n",
       "viewer1682025549941708 = new icn3d.iCn3DUI(cfg);\n",
       "viewer1682025549941708.show3DStructure(cfg.pdb);\n",
       "});\n",
       "</script>"
      ]
     },
     "metadata": {},
     "output_type": "display_data"
    },
    {
     "data": {
      "text/plain": [
       "<icn3dpy.view at 0x108015e50>"
      ]
     },
     "execution_count": 5,
     "metadata": {},
     "output_type": "execute_result"
    }
   ],
   "source": [
    "scene = icn3dpy.view(q='pdbid=1mbo', command = 'style proteins cylinder and plate')\n",
    "scene\n",
    "\n"
   ]
  },
  {
   "cell_type": "code",
   "execution_count": 6,
   "id": "25a24105-092c-4693-a33b-fbfa699486e2",
   "metadata": {},
   "outputs": [
    {
     "data": {
      "application/3dmoljs_load.v0": "<div id=\"icn3dviewer1682025549951584\" style=\"position: relative; width: 640px; min-height: 530px; height: auto\">\n        <p id=\"icn3dwarning1682025549951584\" style=\"background-color:#ffcccc;color:black\">You appear to be running in JupyterLab (or JavaScript failed to load for some other reason).  You need to install the extension: <br>\n        <tt>jupyter labextension install jupyterlab_3dmol</tt></p>\n        </div>\n<script>\n\nvar loadScriptAsync = function(uri){\n  return new Promise((resolve, reject) => {\n    var tag = document.createElement('script');\n    tag.src = uri;\n    //tag.async = true;\n    tag.onload = () => {\n      resolve();\n    };\n  var firstScriptTag = document.getElementsByTagName('link')[0];\n  firstScriptTag.parentNode.insertBefore(tag, firstScriptTag);\n  });\n};\n\nvar loadCssAsync = function(uri){\n  return new Promise((resolve, reject) => {\nvar tag = document.createElement('link');\ntag.rel = 'stylesheet';\ntag.href = uri;\n//tag.async = true;\ntag.onload = () => {\n  resolve();\n};\nvar firstScriptTag = document.getElementsByTagName('script')[0];\nfirstScriptTag.parentNode.insertBefore(tag, firstScriptTag);\n  });\n};\n\nif(typeof js === 'undefined') {\n  js = loadScriptAsync(\"https://www.ncbi.nlm.nih.gov/Structure/icn3d/es5/icn3d_all_full.min.js\");\n  \n  css1 = loadCssAsync(\"https://www.ncbi.nlm.nih.gov/Structure/icn3d/lib/jquery-ui-1.13.2.min.css\");\n  css2 = loadCssAsync(\"https://www.ncbi.nlm.nih.gov/Structure/icn3d/icn3d.css\");\n}\n\nvar viewer1682025549951584 = null;\nvar warn = document.getElementById(\"icn3dwarning1682025549951584\");\nif(warn) {\n    warn.parentNode.removeChild(warn);\n}\n\ncss1\n.then(function() { return css2; })\n.then(function() { return js; })\n.then(function() {\ncfg = {divid: \"icn3dviewer1682025549951584\", pdbid: \"1mbo\", width: \"640px\", height: \"480px\", mobilemenu: 1, notebook: 1, command: 'style proteins cylinder and plate; style chemicals ball and stick', };\nviewer1682025549951584 = new icn3d.iCn3DUI(cfg);\nviewer1682025549951584.show3DStructure(cfg.pdb);\n});\n</script>",
      "text/html": [
       "<div id=\"icn3dviewer1682025549951584\" style=\"position: relative; width: 640px; min-height: 530px; height: auto\">\n",
       "        <p id=\"icn3dwarning1682025549951584\" style=\"background-color:#ffcccc;color:black\">You appear to be running in JupyterLab (or JavaScript failed to load for some other reason).  You need to install the extension: <br>\n",
       "        <tt>jupyter labextension install jupyterlab_3dmol</tt></p>\n",
       "        </div>\n",
       "<script>\n",
       "\n",
       "var loadScriptAsync = function(uri){\n",
       "  return new Promise((resolve, reject) => {\n",
       "    var tag = document.createElement('script');\n",
       "    tag.src = uri;\n",
       "    //tag.async = true;\n",
       "    tag.onload = () => {\n",
       "      resolve();\n",
       "    };\n",
       "  var firstScriptTag = document.getElementsByTagName('link')[0];\n",
       "  firstScriptTag.parentNode.insertBefore(tag, firstScriptTag);\n",
       "  });\n",
       "};\n",
       "\n",
       "var loadCssAsync = function(uri){\n",
       "  return new Promise((resolve, reject) => {\n",
       "var tag = document.createElement('link');\n",
       "tag.rel = 'stylesheet';\n",
       "tag.href = uri;\n",
       "//tag.async = true;\n",
       "tag.onload = () => {\n",
       "  resolve();\n",
       "};\n",
       "var firstScriptTag = document.getElementsByTagName('script')[0];\n",
       "firstScriptTag.parentNode.insertBefore(tag, firstScriptTag);\n",
       "  });\n",
       "};\n",
       "\n",
       "if(typeof js === 'undefined') {\n",
       "  js = loadScriptAsync(\"https://www.ncbi.nlm.nih.gov/Structure/icn3d/es5/icn3d_all_full.min.js\");\n",
       "  \n",
       "  css1 = loadCssAsync(\"https://www.ncbi.nlm.nih.gov/Structure/icn3d/lib/jquery-ui-1.13.2.min.css\");\n",
       "  css2 = loadCssAsync(\"https://www.ncbi.nlm.nih.gov/Structure/icn3d/icn3d.css\");\n",
       "}\n",
       "\n",
       "var viewer1682025549951584 = null;\n",
       "var warn = document.getElementById(\"icn3dwarning1682025549951584\");\n",
       "if(warn) {\n",
       "    warn.parentNode.removeChild(warn);\n",
       "}\n",
       "\n",
       "css1\n",
       ".then(function() { return css2; })\n",
       ".then(function() { return js; })\n",
       ".then(function() {\n",
       "cfg = {divid: \"icn3dviewer1682025549951584\", pdbid: \"1mbo\", width: \"640px\", height: \"480px\", mobilemenu: 1, notebook: 1, command: 'style proteins cylinder and plate; style chemicals ball and stick', };\n",
       "viewer1682025549951584 = new icn3d.iCn3DUI(cfg);\n",
       "viewer1682025549951584.show3DStructure(cfg.pdb);\n",
       "});\n",
       "</script>"
      ]
     },
     "metadata": {},
     "output_type": "display_data"
    },
    {
     "data": {
      "text/plain": [
       "<icn3dpy.view at 0x10804b100>"
      ]
     },
     "execution_count": 6,
     "metadata": {},
     "output_type": "execute_result"
    }
   ],
   "source": [
    "# Change the heme group to ball and stick\n",
    "scene = icn3dpy.view(q='pdbid=1mbo', command = 'style proteins cylinder and plate; style chemicals ball and stick')\n",
    "scene"
   ]
  },
  {
   "cell_type": "code",
   "execution_count": 7,
   "id": "9078d815-0f5b-48c7-857e-66306729bfbe",
   "metadata": {},
   "outputs": [
    {
     "data": {
      "application/3dmoljs_load.v0": "<div id=\"icn3dviewer1682025574790088\" style=\"position: relative; width: 640px; min-height: 530px; height: auto\">\n        <p id=\"icn3dwarning1682025574790088\" style=\"background-color:#ffcccc;color:black\">You appear to be running in JupyterLab (or JavaScript failed to load for some other reason).  You need to install the extension: <br>\n        <tt>jupyter labextension install jupyterlab_3dmol</tt></p>\n        </div>\n<script>\n\nvar loadScriptAsync = function(uri){\n  return new Promise((resolve, reject) => {\n    var tag = document.createElement('script');\n    tag.src = uri;\n    //tag.async = true;\n    tag.onload = () => {\n      resolve();\n    };\n  var firstScriptTag = document.getElementsByTagName('link')[0];\n  firstScriptTag.parentNode.insertBefore(tag, firstScriptTag);\n  });\n};\n\nvar loadCssAsync = function(uri){\n  return new Promise((resolve, reject) => {\nvar tag = document.createElement('link');\ntag.rel = 'stylesheet';\ntag.href = uri;\n//tag.async = true;\ntag.onload = () => {\n  resolve();\n};\nvar firstScriptTag = document.getElementsByTagName('script')[0];\nfirstScriptTag.parentNode.insertBefore(tag, firstScriptTag);\n  });\n};\n\nif(typeof js === 'undefined') {\n  js = loadScriptAsync(\"https://www.ncbi.nlm.nih.gov/Structure/icn3d/es5/icn3d_all_full.min.js\");\n  \n  css1 = loadCssAsync(\"https://www.ncbi.nlm.nih.gov/Structure/icn3d/lib/jquery-ui-1.13.2.min.css\");\n  css2 = loadCssAsync(\"https://www.ncbi.nlm.nih.gov/Structure/icn3d/icn3d.css\");\n}\n\nvar viewer1682025574790088 = null;\nvar warn = document.getElementById(\"icn3dwarning1682025574790088\");\nif(warn) {\n    warn.parentNode.removeChild(warn);\n}\n\ncss1\n.then(function() { return css2; })\n.then(function() { return js; })\n.then(function() {\ncfg = {divid: \"icn3dviewer1682025574790088\", pdbid: \"1mbo\", width: \"640px\", height: \"480px\", mobilemenu: 1, notebook: 1, command: '; style proteins cylinder and plate; style chemicals ball and stick', };\nviewer1682025574790088 = new icn3d.iCn3DUI(cfg);\nviewer1682025574790088.show3DStructure(cfg.pdb);\n});\n</script>",
      "text/html": [
       "<div id=\"icn3dviewer1682025574790088\" style=\"position: relative; width: 640px; min-height: 530px; height: auto\">\n",
       "        <p id=\"icn3dwarning1682025574790088\" style=\"background-color:#ffcccc;color:black\">You appear to be running in JupyterLab (or JavaScript failed to load for some other reason).  You need to install the extension: <br>\n",
       "        <tt>jupyter labextension install jupyterlab_3dmol</tt></p>\n",
       "        </div>\n",
       "<script>\n",
       "\n",
       "var loadScriptAsync = function(uri){\n",
       "  return new Promise((resolve, reject) => {\n",
       "    var tag = document.createElement('script');\n",
       "    tag.src = uri;\n",
       "    //tag.async = true;\n",
       "    tag.onload = () => {\n",
       "      resolve();\n",
       "    };\n",
       "  var firstScriptTag = document.getElementsByTagName('link')[0];\n",
       "  firstScriptTag.parentNode.insertBefore(tag, firstScriptTag);\n",
       "  });\n",
       "};\n",
       "\n",
       "var loadCssAsync = function(uri){\n",
       "  return new Promise((resolve, reject) => {\n",
       "var tag = document.createElement('link');\n",
       "tag.rel = 'stylesheet';\n",
       "tag.href = uri;\n",
       "//tag.async = true;\n",
       "tag.onload = () => {\n",
       "  resolve();\n",
       "};\n",
       "var firstScriptTag = document.getElementsByTagName('script')[0];\n",
       "firstScriptTag.parentNode.insertBefore(tag, firstScriptTag);\n",
       "  });\n",
       "};\n",
       "\n",
       "if(typeof js === 'undefined') {\n",
       "  js = loadScriptAsync(\"https://www.ncbi.nlm.nih.gov/Structure/icn3d/es5/icn3d_all_full.min.js\");\n",
       "  \n",
       "  css1 = loadCssAsync(\"https://www.ncbi.nlm.nih.gov/Structure/icn3d/lib/jquery-ui-1.13.2.min.css\");\n",
       "  css2 = loadCssAsync(\"https://www.ncbi.nlm.nih.gov/Structure/icn3d/icn3d.css\");\n",
       "}\n",
       "\n",
       "var viewer1682025574790088 = null;\n",
       "var warn = document.getElementById(\"icn3dwarning1682025574790088\");\n",
       "if(warn) {\n",
       "    warn.parentNode.removeChild(warn);\n",
       "}\n",
       "\n",
       "css1\n",
       ".then(function() { return css2; })\n",
       ".then(function() { return js; })\n",
       ".then(function() {\n",
       "cfg = {divid: \"icn3dviewer1682025574790088\", pdbid: \"1mbo\", width: \"640px\", height: \"480px\", mobilemenu: 1, notebook: 1, command: '; style proteins cylinder and plate; style chemicals ball and stick', };\n",
       "viewer1682025574790088 = new icn3d.iCn3DUI(cfg);\n",
       "viewer1682025574790088.show3DStructure(cfg.pdb);\n",
       "});\n",
       "</script>"
      ]
     },
     "metadata": {},
     "output_type": "display_data"
    },
    {
     "data": {
      "text/plain": [
       "<icn3dpy.view at 0x108015b20>"
      ]
     },
     "execution_count": 7,
     "metadata": {},
     "output_type": "execute_result"
    }
   ],
   "source": [
    "# Assigning command strings to variables\n",
    "ID = 'pdbid=1mbo'\n",
    "cpl = '; style proteins cylinder and plate'\n",
    "bns = '; style chemicals ball and stick'\n",
    "scene = icn3dpy.view(q=ID, command = cpl + bns)\n",
    "scene"
   ]
  },
  {
   "cell_type": "code",
   "execution_count": 8,
   "id": "fd64325e-c028-4668-8876-765ce3091d1e",
   "metadata": {},
   "outputs": [
    {
     "data": {
      "application/3dmoljs_load.v0": "<div id=\"icn3dviewer1682025575446503\" style=\"position: relative; width: 640px; min-height: 530px; height: auto\">\n        <p id=\"icn3dwarning1682025575446503\" style=\"background-color:#ffcccc;color:black\">You appear to be running in JupyterLab (or JavaScript failed to load for some other reason).  You need to install the extension: <br>\n        <tt>jupyter labextension install jupyterlab_3dmol</tt></p>\n        </div>\n<script>\n\nvar loadScriptAsync = function(uri){\n  return new Promise((resolve, reject) => {\n    var tag = document.createElement('script');\n    tag.src = uri;\n    //tag.async = true;\n    tag.onload = () => {\n      resolve();\n    };\n  var firstScriptTag = document.getElementsByTagName('link')[0];\n  firstScriptTag.parentNode.insertBefore(tag, firstScriptTag);\n  });\n};\n\nvar loadCssAsync = function(uri){\n  return new Promise((resolve, reject) => {\nvar tag = document.createElement('link');\ntag.rel = 'stylesheet';\ntag.href = uri;\n//tag.async = true;\ntag.onload = () => {\n  resolve();\n};\nvar firstScriptTag = document.getElementsByTagName('script')[0];\nfirstScriptTag.parentNode.insertBefore(tag, firstScriptTag);\n  });\n};\n\nif(typeof js === 'undefined') {\n  js = loadScriptAsync(\"https://www.ncbi.nlm.nih.gov/Structure/icn3d/es5/icn3d_all_full.min.js\");\n  \n  css1 = loadCssAsync(\"https://www.ncbi.nlm.nih.gov/Structure/icn3d/lib/jquery-ui-1.13.2.min.css\");\n  css2 = loadCssAsync(\"https://www.ncbi.nlm.nih.gov/Structure/icn3d/icn3d.css\");\n}\n\nvar viewer1682025575446503 = null;\nvar warn = document.getElementById(\"icn3dwarning1682025575446503\");\nif(warn) {\n    warn.parentNode.removeChild(warn);\n}\n\ncss1\n.then(function() { return css2; })\n.then(function() { return js; })\n.then(function() {\ncfg = {divid: \"icn3dviewer1682025575446503\", pdbid: \"4hhb\", width: \"640px\", height: \"480px\", mobilemenu: 1, notebook: 1, command: '; style proteins cylinder and plate; style chemicals ball and stick', };\nviewer1682025575446503 = new icn3d.iCn3DUI(cfg);\nviewer1682025575446503.show3DStructure(cfg.pdb);\n});\n</script>",
      "text/html": [
       "<div id=\"icn3dviewer1682025575446503\" style=\"position: relative; width: 640px; min-height: 530px; height: auto\">\n",
       "        <p id=\"icn3dwarning1682025575446503\" style=\"background-color:#ffcccc;color:black\">You appear to be running in JupyterLab (or JavaScript failed to load for some other reason).  You need to install the extension: <br>\n",
       "        <tt>jupyter labextension install jupyterlab_3dmol</tt></p>\n",
       "        </div>\n",
       "<script>\n",
       "\n",
       "var loadScriptAsync = function(uri){\n",
       "  return new Promise((resolve, reject) => {\n",
       "    var tag = document.createElement('script');\n",
       "    tag.src = uri;\n",
       "    //tag.async = true;\n",
       "    tag.onload = () => {\n",
       "      resolve();\n",
       "    };\n",
       "  var firstScriptTag = document.getElementsByTagName('link')[0];\n",
       "  firstScriptTag.parentNode.insertBefore(tag, firstScriptTag);\n",
       "  });\n",
       "};\n",
       "\n",
       "var loadCssAsync = function(uri){\n",
       "  return new Promise((resolve, reject) => {\n",
       "var tag = document.createElement('link');\n",
       "tag.rel = 'stylesheet';\n",
       "tag.href = uri;\n",
       "//tag.async = true;\n",
       "tag.onload = () => {\n",
       "  resolve();\n",
       "};\n",
       "var firstScriptTag = document.getElementsByTagName('script')[0];\n",
       "firstScriptTag.parentNode.insertBefore(tag, firstScriptTag);\n",
       "  });\n",
       "};\n",
       "\n",
       "if(typeof js === 'undefined') {\n",
       "  js = loadScriptAsync(\"https://www.ncbi.nlm.nih.gov/Structure/icn3d/es5/icn3d_all_full.min.js\");\n",
       "  \n",
       "  css1 = loadCssAsync(\"https://www.ncbi.nlm.nih.gov/Structure/icn3d/lib/jquery-ui-1.13.2.min.css\");\n",
       "  css2 = loadCssAsync(\"https://www.ncbi.nlm.nih.gov/Structure/icn3d/icn3d.css\");\n",
       "}\n",
       "\n",
       "var viewer1682025575446503 = null;\n",
       "var warn = document.getElementById(\"icn3dwarning1682025575446503\");\n",
       "if(warn) {\n",
       "    warn.parentNode.removeChild(warn);\n",
       "}\n",
       "\n",
       "css1\n",
       ".then(function() { return css2; })\n",
       ".then(function() { return js; })\n",
       ".then(function() {\n",
       "cfg = {divid: \"icn3dviewer1682025575446503\", pdbid: \"4hhb\", width: \"640px\", height: \"480px\", mobilemenu: 1, notebook: 1, command: '; style proteins cylinder and plate; style chemicals ball and stick', };\n",
       "viewer1682025575446503 = new icn3d.iCn3DUI(cfg);\n",
       "viewer1682025575446503.show3DStructure(cfg.pdb);\n",
       "});\n",
       "</script>"
      ]
     },
     "metadata": {},
     "output_type": "display_data"
    },
    {
     "data": {
      "text/plain": [
       "<icn3dpy.view at 0x107ffad00>"
      ]
     },
     "execution_count": 8,
     "metadata": {},
     "output_type": "execute_result"
    }
   ],
   "source": [
    "# Do the same thing with a different protein\n",
    "# Assigning command strings to variables\n",
    "ID = 'pdbid=4hhb'\n",
    "cpl = '; style proteins cylinder and plate'\n",
    "bns = '; style chemicals ball and stick'\n",
    "scene = icn3dpy.view(q=ID, command = cpl + bns)\n",
    "scene"
   ]
  },
  {
   "cell_type": "markdown",
   "id": "f1048b69-7c41-4d25-bdcd-29ad2f9550f4",
   "metadata": {},
   "source": [
    "# Pulling collections of commands from an iCN3D web page\n",
    "You can imagine that it might be quite time consuming to make 8 or 10 modifications to a visualization using commands like those seen above. One of the features of iCN3D web pages is that you can create a view there and import the commands into a Jupyter notebook. In this [iCN3D page for PDB ID 1ETS](https://structure.ncbi.nlm.nih.gov/icn3d/share.html?TmUEcZr72jbmKirq9), the following steps were taken: \n",
    "\n",
    "- the ligand was changed to ball and stick; \n",
    "- the protein was changed from ribbon to cylinder and plate; \n",
    "- the color was changed to represent secondary structures; \n",
    "- the background was changed to white. \n",
    "\n",
    "The resulting page looks like this:\n",
    "![modified image of 1ETS](images/1ets.png \"modified image of 1ETS\")\n",
    "\n",
    "There is a feature on an iCN3D web page that enables you to modify the structure on the page and reproduce the structure in a Jupyter notebook. Why would you want to do that? We'll get to that in a bit.\n",
    "\n",
    "On the [iCN3D page for PDB ID 1ETS](https://structure.ncbi.nlm.nih.gov/icn3d/share.html?TmUEcZr72jbmKirq9), select `File` from the dropdown menu, then choose `Share Link` and it will bring up a dialog box. \n",
    "\n",
    "![dialog box from modified 1ETS](images/dialog_box.png \"modified image of 1ETS\")\n",
    "\n",
    "Simply go to 2. `Commands Used in Jupyter Notebooks` and click on `Copy Commands`. Then paste those commands into a code cell on your Jupyter notebook."
   ]
  },
  {
   "cell_type": "code",
   "execution_count": 10,
   "id": "1e820e77-80a7-455f-aea3-14d978600f64",
   "metadata": {},
   "outputs": [
    {
     "data": {
      "application/3dmoljs_load.v0": "<div id=\"icn3dviewer1682025756412565\" style=\"position: relative; width: 640px; min-height: 530px; height: auto\">\n        <p id=\"icn3dwarning1682025756412565\" style=\"background-color:#ffcccc;color:black\">You appear to be running in JupyterLab (or JavaScript failed to load for some other reason).  You need to install the extension: <br>\n        <tt>jupyter labextension install jupyterlab_3dmol</tt></p>\n        </div>\n<script>\n\nvar loadScriptAsync = function(uri){\n  return new Promise((resolve, reject) => {\n    var tag = document.createElement('script');\n    tag.src = uri;\n    //tag.async = true;\n    tag.onload = () => {\n      resolve();\n    };\n  var firstScriptTag = document.getElementsByTagName('link')[0];\n  firstScriptTag.parentNode.insertBefore(tag, firstScriptTag);\n  });\n};\n\nvar loadCssAsync = function(uri){\n  return new Promise((resolve, reject) => {\nvar tag = document.createElement('link');\ntag.rel = 'stylesheet';\ntag.href = uri;\n//tag.async = true;\ntag.onload = () => {\n  resolve();\n};\nvar firstScriptTag = document.getElementsByTagName('script')[0];\nfirstScriptTag.parentNode.insertBefore(tag, firstScriptTag);\n  });\n};\n\nif(typeof js === 'undefined') {\n  js = loadScriptAsync(\"https://www.ncbi.nlm.nih.gov/Structure/icn3d/es5/icn3d_all_full.min.js\");\n  \n  css1 = loadCssAsync(\"https://www.ncbi.nlm.nih.gov/Structure/icn3d/lib/jquery-ui-1.13.2.min.css\");\n  css2 = loadCssAsync(\"https://www.ncbi.nlm.nih.gov/Structure/icn3d/icn3d.css\");\n}\n\nvar viewer1682025756412565 = null;\nvar warn = document.getElementById(\"icn3dwarning1682025756412565\");\nif(warn) {\n    warn.parentNode.removeChild(warn);\n}\n\ncss1\n.then(function() { return css2; })\n.then(function() { return js; })\n.then(function() {\ncfg = {divid: \"icn3dviewer1682025756412565\", mmdbafid: \"1ETS\", width: \"640px\", height: \"480px\", mobilemenu: 1, notebook: 1, command: 'load mmdb 1ets | parameters &mmdbid=1ets&bu=1; defined sets; select sets chemicals; set background white; style chemicals ball and stick; set surface wireframe on; set surface wireframe on; style proteins cylinder and plate; style proteins cylinder and plate; defined sets; select sets 1ETS; style proteins cylinder and plate; color secondary structure yellow|||{\"factor\":\"1.000\",\"mouseChange\":{\"x\":\"0.000\",\"y\":\"0.000\"},\"quaternion\":{\"_x\":\"0.000\",\"_y\":\"0.000\",\"_z\":\"0.000\",\"_w\":\"1.000\"}}', };\nviewer1682025756412565 = new icn3d.iCn3DUI(cfg);\nviewer1682025756412565.show3DStructure(cfg.pdb);\n});\n</script>",
      "text/html": [
       "<div id=\"icn3dviewer1682025756412565\" style=\"position: relative; width: 640px; min-height: 530px; height: auto\">\n",
       "        <p id=\"icn3dwarning1682025756412565\" style=\"background-color:#ffcccc;color:black\">You appear to be running in JupyterLab (or JavaScript failed to load for some other reason).  You need to install the extension: <br>\n",
       "        <tt>jupyter labextension install jupyterlab_3dmol</tt></p>\n",
       "        </div>\n",
       "<script>\n",
       "\n",
       "var loadScriptAsync = function(uri){\n",
       "  return new Promise((resolve, reject) => {\n",
       "    var tag = document.createElement('script');\n",
       "    tag.src = uri;\n",
       "    //tag.async = true;\n",
       "    tag.onload = () => {\n",
       "      resolve();\n",
       "    };\n",
       "  var firstScriptTag = document.getElementsByTagName('link')[0];\n",
       "  firstScriptTag.parentNode.insertBefore(tag, firstScriptTag);\n",
       "  });\n",
       "};\n",
       "\n",
       "var loadCssAsync = function(uri){\n",
       "  return new Promise((resolve, reject) => {\n",
       "var tag = document.createElement('link');\n",
       "tag.rel = 'stylesheet';\n",
       "tag.href = uri;\n",
       "//tag.async = true;\n",
       "tag.onload = () => {\n",
       "  resolve();\n",
       "};\n",
       "var firstScriptTag = document.getElementsByTagName('script')[0];\n",
       "firstScriptTag.parentNode.insertBefore(tag, firstScriptTag);\n",
       "  });\n",
       "};\n",
       "\n",
       "if(typeof js === 'undefined') {\n",
       "  js = loadScriptAsync(\"https://www.ncbi.nlm.nih.gov/Structure/icn3d/es5/icn3d_all_full.min.js\");\n",
       "  \n",
       "  css1 = loadCssAsync(\"https://www.ncbi.nlm.nih.gov/Structure/icn3d/lib/jquery-ui-1.13.2.min.css\");\n",
       "  css2 = loadCssAsync(\"https://www.ncbi.nlm.nih.gov/Structure/icn3d/icn3d.css\");\n",
       "}\n",
       "\n",
       "var viewer1682025756412565 = null;\n",
       "var warn = document.getElementById(\"icn3dwarning1682025756412565\");\n",
       "if(warn) {\n",
       "    warn.parentNode.removeChild(warn);\n",
       "}\n",
       "\n",
       "css1\n",
       ".then(function() { return css2; })\n",
       ".then(function() { return js; })\n",
       ".then(function() {\n",
       "cfg = {divid: \"icn3dviewer1682025756412565\", mmdbafid: \"1ETS\", width: \"640px\", height: \"480px\", mobilemenu: 1, notebook: 1, command: 'load mmdb 1ets | parameters &mmdbid=1ets&bu=1; defined sets; select sets chemicals; set background white; style chemicals ball and stick; set surface wireframe on; set surface wireframe on; style proteins cylinder and plate; style proteins cylinder and plate; defined sets; select sets 1ETS; style proteins cylinder and plate; color secondary structure yellow|||{\"factor\":\"1.000\",\"mouseChange\":{\"x\":\"0.000\",\"y\":\"0.000\"},\"quaternion\":{\"_x\":\"0.000\",\"_y\":\"0.000\",\"_z\":\"0.000\",\"_w\":\"1.000\"}}', };\n",
       "viewer1682025756412565 = new icn3d.iCn3DUI(cfg);\n",
       "viewer1682025756412565.show3DStructure(cfg.pdb);\n",
       "});\n",
       "</script>"
      ]
     },
     "metadata": {},
     "output_type": "display_data"
    },
    {
     "data": {
      "text/plain": [
       "<icn3dpy.view at 0x108015880>"
      ]
     },
     "execution_count": 10,
     "metadata": {},
     "output_type": "execute_result"
    }
   ],
   "source": [
    "scene = icn3dpy.view(q='mmdbafid=1ETS',command='load mmdb 1ets | parameters &mmdbid=1ets&bu=1; defined sets; select sets chemicals; set background white; style chemicals ball and stick; set surface wireframe on; set surface wireframe on; style proteins cylinder and plate; style proteins cylinder and plate; defined sets; select sets 1ETS; style proteins cylinder and plate; color secondary structure yellow|||{\"factor\":\"1.000\",\"mouseChange\":{\"x\":\"0.000\",\"y\":\"0.000\"},\"quaternion\":{\"_x\":\"0.000\",\"_y\":\"0.000\",\"_z\":\"0.000\",\"_w\":\"1.000\"}}')\n",
    "scene"
   ]
  },
  {
   "cell_type": "code",
   "execution_count": 9,
   "id": "f475074b",
   "metadata": {},
   "outputs": [
    {
     "data": {
      "application/3dmoljs_load.v0": "<div id=\"icn3dviewer16820257446101062\" style=\"position: relative; width: 640px; min-height: 530px; height: auto\">\n        <p id=\"icn3dwarning16820257446101062\" style=\"background-color:#ffcccc;color:black\">You appear to be running in JupyterLab (or JavaScript failed to load for some other reason).  You need to install the extension: <br>\n        <tt>jupyter labextension install jupyterlab_3dmol</tt></p>\n        </div>\n<script>\n\nvar loadScriptAsync = function(uri){\n  return new Promise((resolve, reject) => {\n    var tag = document.createElement('script');\n    tag.src = uri;\n    //tag.async = true;\n    tag.onload = () => {\n      resolve();\n    };\n  var firstScriptTag = document.getElementsByTagName('link')[0];\n  firstScriptTag.parentNode.insertBefore(tag, firstScriptTag);\n  });\n};\n\nvar loadCssAsync = function(uri){\n  return new Promise((resolve, reject) => {\nvar tag = document.createElement('link');\ntag.rel = 'stylesheet';\ntag.href = uri;\n//tag.async = true;\ntag.onload = () => {\n  resolve();\n};\nvar firstScriptTag = document.getElementsByTagName('script')[0];\nfirstScriptTag.parentNode.insertBefore(tag, firstScriptTag);\n  });\n};\n\nif(typeof js === 'undefined') {\n  js = loadScriptAsync(\"https://www.ncbi.nlm.nih.gov/Structure/icn3d/es5/icn3d_all_full.min.js\");\n  \n  css1 = loadCssAsync(\"https://www.ncbi.nlm.nih.gov/Structure/icn3d/lib/jquery-ui-1.13.2.min.css\");\n  css2 = loadCssAsync(\"https://www.ncbi.nlm.nih.gov/Structure/icn3d/icn3d.css\");\n}\n\nvar viewer16820257446101062 = null;\nvar warn = document.getElementById(\"icn3dwarning16820257446101062\");\nif(warn) {\n    warn.parentNode.removeChild(warn);\n}\n\ncss1\n.then(function() { return css2; })\n.then(function() { return js; })\n.then(function() {\ncfg = {divid: \"icn3dviewer16820257446101062\", mmdbid: \"1ets\", width: \"640px\", height: \"480px\", mobilemenu: 1, notebook: 1, command: 'defined sets; select sets chemicals; set background white; style chemicals ball and stick; set surface wireframe on; set surface wireframe on; style proteins cylinder and plate; style proteins cylinder and plate; defined sets; select sets 1ETS; style proteins cylinder and plate; color secondary structure yellow|||{\"factor\":\"1.000\",\"mouseChange\":{\"x\":\"0.000\",\"y\":\"0.000\"},\"quaternion\":{\"_x\":\"0.000\",\"_y\":\"0.000\",\"_z\":\"0.000\",\"_w\":\"1.000\"}}', };\nviewer16820257446101062 = new icn3d.iCn3DUI(cfg);\nviewer16820257446101062.show3DStructure(cfg.pdb);\n});\n</script>",
      "text/html": [
       "<div id=\"icn3dviewer16820257446101062\" style=\"position: relative; width: 640px; min-height: 530px; height: auto\">\n",
       "        <p id=\"icn3dwarning16820257446101062\" style=\"background-color:#ffcccc;color:black\">You appear to be running in JupyterLab (or JavaScript failed to load for some other reason).  You need to install the extension: <br>\n",
       "        <tt>jupyter labextension install jupyterlab_3dmol</tt></p>\n",
       "        </div>\n",
       "<script>\n",
       "\n",
       "var loadScriptAsync = function(uri){\n",
       "  return new Promise((resolve, reject) => {\n",
       "    var tag = document.createElement('script');\n",
       "    tag.src = uri;\n",
       "    //tag.async = true;\n",
       "    tag.onload = () => {\n",
       "      resolve();\n",
       "    };\n",
       "  var firstScriptTag = document.getElementsByTagName('link')[0];\n",
       "  firstScriptTag.parentNode.insertBefore(tag, firstScriptTag);\n",
       "  });\n",
       "};\n",
       "\n",
       "var loadCssAsync = function(uri){\n",
       "  return new Promise((resolve, reject) => {\n",
       "var tag = document.createElement('link');\n",
       "tag.rel = 'stylesheet';\n",
       "tag.href = uri;\n",
       "//tag.async = true;\n",
       "tag.onload = () => {\n",
       "  resolve();\n",
       "};\n",
       "var firstScriptTag = document.getElementsByTagName('script')[0];\n",
       "firstScriptTag.parentNode.insertBefore(tag, firstScriptTag);\n",
       "  });\n",
       "};\n",
       "\n",
       "if(typeof js === 'undefined') {\n",
       "  js = loadScriptAsync(\"https://www.ncbi.nlm.nih.gov/Structure/icn3d/es5/icn3d_all_full.min.js\");\n",
       "  \n",
       "  css1 = loadCssAsync(\"https://www.ncbi.nlm.nih.gov/Structure/icn3d/lib/jquery-ui-1.13.2.min.css\");\n",
       "  css2 = loadCssAsync(\"https://www.ncbi.nlm.nih.gov/Structure/icn3d/icn3d.css\");\n",
       "}\n",
       "\n",
       "var viewer16820257446101062 = null;\n",
       "var warn = document.getElementById(\"icn3dwarning16820257446101062\");\n",
       "if(warn) {\n",
       "    warn.parentNode.removeChild(warn);\n",
       "}\n",
       "\n",
       "css1\n",
       ".then(function() { return css2; })\n",
       ".then(function() { return js; })\n",
       ".then(function() {\n",
       "cfg = {divid: \"icn3dviewer16820257446101062\", mmdbid: \"1ets\", width: \"640px\", height: \"480px\", mobilemenu: 1, notebook: 1, command: 'defined sets; select sets chemicals; set background white; style chemicals ball and stick; set surface wireframe on; set surface wireframe on; style proteins cylinder and plate; style proteins cylinder and plate; defined sets; select sets 1ETS; style proteins cylinder and plate; color secondary structure yellow|||{\"factor\":\"1.000\",\"mouseChange\":{\"x\":\"0.000\",\"y\":\"0.000\"},\"quaternion\":{\"_x\":\"0.000\",\"_y\":\"0.000\",\"_z\":\"0.000\",\"_w\":\"1.000\"}}', };\n",
       "viewer16820257446101062 = new icn3d.iCn3DUI(cfg);\n",
       "viewer16820257446101062.show3DStructure(cfg.pdb);\n",
       "});\n",
       "</script>"
      ]
     },
     "metadata": {},
     "output_type": "display_data"
    },
    {
     "data": {
      "text/plain": [
       "<icn3dpy.view at 0x107f7bfd0>"
      ]
     },
     "execution_count": 9,
     "metadata": {},
     "output_type": "execute_result"
    }
   ],
   "source": [
    "view = icn3dpy.view(q='mmdbid=1ets',command='defined sets; select sets chemicals; set background white; style chemicals ball and stick; set surface wireframe on; set surface wireframe on; style proteins cylinder and plate; style proteins cylinder and plate; defined sets; select sets 1ETS; style proteins cylinder and plate; color secondary structure yellow|||{\"factor\":\"1.000\",\"mouseChange\":{\"x\":\"0.000\",\"y\":\"0.000\"},\"quaternion\":{\"_x\":\"0.000\",\"_y\":\"0.000\",\"_z\":\"0.000\",\"_w\":\"1.000\"}}')\n",
    "view"
   ]
  },
  {
   "cell_type": "markdown",
   "id": "5531d9c6-77ca-46c6-88f4-de4f76bd98bc",
   "metadata": {},
   "source": [
    "### Teasing apart the command set from the [iCN3D page for PDB ID 1ETS](https://structure.ncbi.nlm.nih.gov/icn3d/share.html?TmUEcZr72jbmKirq9)\n",
    "\n",
    "If you explore the collected list of commands we extracted from the iCN3D page, you can see that the PDB ID was used three times:\n",
    "\n",
    "1. in the form of mmdbafid=1ETS early in the line of code *icn3dpy.view(q = 'mmdbafid=1ETS')*\n",
    "2. in the form of 1ets in the phrase *load mmdb 1ets*\n",
    "3. in the form of 1ets in the phrase *&mmdbid=1ets&bu=1*\n",
    "\n",
    "We are going to substitute variables in this command set so that you could generate the same view for almost any PDB entry. Remember that this set of commands is a string, so we have to be careful with the syntax. "
   ]
  },
  {
   "cell_type": "code",
   "execution_count": 11,
   "id": "68f9d3a5-3774-42db-a43e-c16c77157253",
   "metadata": {},
   "outputs": [
    {
     "data": {
      "application/3dmoljs_load.v0": "<div id=\"icn3dviewer1682025769796489\" style=\"position: relative; width: 640px; min-height: 530px; height: auto\">\n        <p id=\"icn3dwarning1682025769796489\" style=\"background-color:#ffcccc;color:black\">You appear to be running in JupyterLab (or JavaScript failed to load for some other reason).  You need to install the extension: <br>\n        <tt>jupyter labextension install jupyterlab_3dmol</tt></p>\n        </div>\n<script>\n\nvar loadScriptAsync = function(uri){\n  return new Promise((resolve, reject) => {\n    var tag = document.createElement('script');\n    tag.src = uri;\n    //tag.async = true;\n    tag.onload = () => {\n      resolve();\n    };\n  var firstScriptTag = document.getElementsByTagName('link')[0];\n  firstScriptTag.parentNode.insertBefore(tag, firstScriptTag);\n  });\n};\n\nvar loadCssAsync = function(uri){\n  return new Promise((resolve, reject) => {\nvar tag = document.createElement('link');\ntag.rel = 'stylesheet';\ntag.href = uri;\n//tag.async = true;\ntag.onload = () => {\n  resolve();\n};\nvar firstScriptTag = document.getElementsByTagName('script')[0];\nfirstScriptTag.parentNode.insertBefore(tag, firstScriptTag);\n  });\n};\n\nif(typeof js === 'undefined') {\n  js = loadScriptAsync(\"https://www.ncbi.nlm.nih.gov/Structure/icn3d/es5/icn3d_all_full.min.js\");\n  \n  css1 = loadCssAsync(\"https://www.ncbi.nlm.nih.gov/Structure/icn3d/lib/jquery-ui-1.13.2.min.css\");\n  css2 = loadCssAsync(\"https://www.ncbi.nlm.nih.gov/Structure/icn3d/icn3d.css\");\n}\n\nvar viewer1682025769796489 = null;\nvar warn = document.getElementById(\"icn3dwarning1682025769796489\");\nif(warn) {\n    warn.parentNode.removeChild(warn);\n}\n\ncss1\n.then(function() { return css2; })\n.then(function() { return js; })\n.then(function() {\ncfg = {divid: \"icn3dviewer1682025769796489\", mmdbafid: \"8gch\", width: \"640px\", height: \"480px\", mobilemenu: 1, notebook: 1, command: 'load mmdb8gch| parameters &mmdbid=8gch&bu=1; defined sets; select sets chemicals; set background white; style chemicals ball and stick; set surface wireframe on; set surface wireframe on; style proteins cylinder and plate; style proteins cylinder and plate; defined sets; select sets 1ETS; style proteins cylinder and plate; color secondary structure yellow|||{\"factor\":\"1.000\",\"mouseChange\":{\"x\":\"0.000\",\"y\":\"0.000\"},\"quaternion\":{\"_x\":\"0.000\",\"_y\":\"0.000\",\"_z\":\"0.000\",\"_w\":\"1.000\"}}', };\nviewer1682025769796489 = new icn3d.iCn3DUI(cfg);\nviewer1682025769796489.show3DStructure(cfg.pdb);\n});\n</script>",
      "text/html": [
       "<div id=\"icn3dviewer1682025769796489\" style=\"position: relative; width: 640px; min-height: 530px; height: auto\">\n",
       "        <p id=\"icn3dwarning1682025769796489\" style=\"background-color:#ffcccc;color:black\">You appear to be running in JupyterLab (or JavaScript failed to load for some other reason).  You need to install the extension: <br>\n",
       "        <tt>jupyter labextension install jupyterlab_3dmol</tt></p>\n",
       "        </div>\n",
       "<script>\n",
       "\n",
       "var loadScriptAsync = function(uri){\n",
       "  return new Promise((resolve, reject) => {\n",
       "    var tag = document.createElement('script');\n",
       "    tag.src = uri;\n",
       "    //tag.async = true;\n",
       "    tag.onload = () => {\n",
       "      resolve();\n",
       "    };\n",
       "  var firstScriptTag = document.getElementsByTagName('link')[0];\n",
       "  firstScriptTag.parentNode.insertBefore(tag, firstScriptTag);\n",
       "  });\n",
       "};\n",
       "\n",
       "var loadCssAsync = function(uri){\n",
       "  return new Promise((resolve, reject) => {\n",
       "var tag = document.createElement('link');\n",
       "tag.rel = 'stylesheet';\n",
       "tag.href = uri;\n",
       "//tag.async = true;\n",
       "tag.onload = () => {\n",
       "  resolve();\n",
       "};\n",
       "var firstScriptTag = document.getElementsByTagName('script')[0];\n",
       "firstScriptTag.parentNode.insertBefore(tag, firstScriptTag);\n",
       "  });\n",
       "};\n",
       "\n",
       "if(typeof js === 'undefined') {\n",
       "  js = loadScriptAsync(\"https://www.ncbi.nlm.nih.gov/Structure/icn3d/es5/icn3d_all_full.min.js\");\n",
       "  \n",
       "  css1 = loadCssAsync(\"https://www.ncbi.nlm.nih.gov/Structure/icn3d/lib/jquery-ui-1.13.2.min.css\");\n",
       "  css2 = loadCssAsync(\"https://www.ncbi.nlm.nih.gov/Structure/icn3d/icn3d.css\");\n",
       "}\n",
       "\n",
       "var viewer1682025769796489 = null;\n",
       "var warn = document.getElementById(\"icn3dwarning1682025769796489\");\n",
       "if(warn) {\n",
       "    warn.parentNode.removeChild(warn);\n",
       "}\n",
       "\n",
       "css1\n",
       ".then(function() { return css2; })\n",
       ".then(function() { return js; })\n",
       ".then(function() {\n",
       "cfg = {divid: \"icn3dviewer1682025769796489\", mmdbafid: \"8gch\", width: \"640px\", height: \"480px\", mobilemenu: 1, notebook: 1, command: 'load mmdb8gch| parameters &mmdbid=8gch&bu=1; defined sets; select sets chemicals; set background white; style chemicals ball and stick; set surface wireframe on; set surface wireframe on; style proteins cylinder and plate; style proteins cylinder and plate; defined sets; select sets 1ETS; style proteins cylinder and plate; color secondary structure yellow|||{\"factor\":\"1.000\",\"mouseChange\":{\"x\":\"0.000\",\"y\":\"0.000\"},\"quaternion\":{\"_x\":\"0.000\",\"_y\":\"0.000\",\"_z\":\"0.000\",\"_w\":\"1.000\"}}', };\n",
       "viewer1682025769796489 = new icn3d.iCn3DUI(cfg);\n",
       "viewer1682025769796489.show3DStructure(cfg.pdb);\n",
       "});\n",
       "</script>"
      ]
     },
     "metadata": {},
     "output_type": "display_data"
    },
    {
     "data": {
      "text/plain": [
       "<icn3dpy.view at 0x107f80c10>"
      ]
     },
     "execution_count": 11,
     "metadata": {},
     "output_type": "execute_result"
    }
   ],
   "source": [
    "import icn3dpy\n",
    "\n",
    "ID = '8gch' # to be used each time you call a structure\n",
    "scene = icn3dpy.view(q='mmdbafid=' + ID ,command='load mmdb' + ID + '| parameters &mmdbid=' + ID + '&bu=1; defined sets; select sets chemicals; set background white; style chemicals ball and stick; set surface wireframe on; set surface wireframe on; style proteins cylinder and plate; style proteins cylinder and plate; defined sets; select sets 1ETS; style proteins cylinder and plate; color secondary structure yellow|||{\"factor\":\"1.000\",\"mouseChange\":{\"x\":\"0.000\",\"y\":\"0.000\"},\"quaternion\":{\"_x\":\"0.000\",\"_y\":\"0.000\",\"_z\":\"0.000\",\"_w\":\"1.000\"}}')\n",
    "scene"
   ]
  },
  {
   "cell_type": "markdown",
   "id": "f1c4b4ca-1fa1-46fc-9da9-407471047179",
   "metadata": {},
   "source": [
    "# Creating functions based on preferred command sets generated from iCN3D web pages\n",
    "\n",
    "The use of variables to control the appearance of any PDB entry is pretty cool. Wouldn't it be great if you could enter a simple command with a PDB ID and have it do this? We can if we define and use a `function`. Here is some text from nonlinear regression part 2 to remind us how to work with functions. \n",
    "\n",
    "In Python, the following syntax is used to declare a function:\n",
    "\n",
    "```python\n",
    "def function_name(independent_variable, parameter1, parameter2):\n",
    "    ** function body code **\n",
    "    return value_to_return\n",
    "```\n",
    "\n",
    "Functions are defined using the `def` keyword, followed by the name of the function. The function may have independent variable(s) and parameters which are passed to it; these are in parenthesis following the function name. You then add a colon after the parentheses. This causes the function body code to indent in a Jupyter notebook coding cell. In certain cases, a function may have no parameters as well. Most (though not all) functions return some type of information. It is important to note here that defining a function does not execute it.\n",
    "\n",
    "Now we will create a function for a predesigned view in an iCN3D cell in a Jupyter notebook, using the code from the [iCN3D page for PDB ID 1ETS](https://structure.ncbi.nlm.nih.gov/icn3d/share.html?TmUEcZr72jbmKirq9)."
   ]
  },
  {
   "cell_type": "code",
   "execution_count": 12,
   "id": "d004438f-3fc4-443f-b1da-3162d6780078",
   "metadata": {},
   "outputs": [],
   "source": [
    "def myview1(PDB_ID):\n",
    "    PDB_ID = str(PDB_ID)\n",
    "    scene = icn3dpy.view(q='mmdbafid=' + PDB_ID,command='load mmdb' + PDB_ID + '| parameters &mmdbid=' + PDB_ID + '&bu=1; defined sets; select sets chemicals; set background white; style chemicals ball and stick; set surface wireframe on; set surface wireframe on; style proteins cylinder and plate; style proteins cylinder and plate; defined sets; select sets 1ETS; style proteins cylinder and plate; color secondary structure yellow|||{\"factor\":\"1.000\",\"mouseChange\":{\"x\":\"0.000\",\"y\":\"0.000\"},\"quaternion\":{\"_x\":\"0.000\",\"_y\":\"0.000\",\"_z\":\"0.000\",\"_w\":\"1.000\"}}')\n",
    "    return scene"
   ]
  },
  {
   "cell_type": "code",
   "execution_count": 13,
   "id": "f05eba53-7dc4-428a-8908-8b94b10205a6",
   "metadata": {},
   "outputs": [
    {
     "data": {
      "application/3dmoljs_load.v0": "<div id=\"icn3dviewer1682025799426235\" style=\"position: relative; width: 640px; min-height: 530px; height: auto\">\n        <p id=\"icn3dwarning1682025799426235\" style=\"background-color:#ffcccc;color:black\">You appear to be running in JupyterLab (or JavaScript failed to load for some other reason).  You need to install the extension: <br>\n        <tt>jupyter labextension install jupyterlab_3dmol</tt></p>\n        </div>\n<script>\n\nvar loadScriptAsync = function(uri){\n  return new Promise((resolve, reject) => {\n    var tag = document.createElement('script');\n    tag.src = uri;\n    //tag.async = true;\n    tag.onload = () => {\n      resolve();\n    };\n  var firstScriptTag = document.getElementsByTagName('link')[0];\n  firstScriptTag.parentNode.insertBefore(tag, firstScriptTag);\n  });\n};\n\nvar loadCssAsync = function(uri){\n  return new Promise((resolve, reject) => {\nvar tag = document.createElement('link');\ntag.rel = 'stylesheet';\ntag.href = uri;\n//tag.async = true;\ntag.onload = () => {\n  resolve();\n};\nvar firstScriptTag = document.getElementsByTagName('script')[0];\nfirstScriptTag.parentNode.insertBefore(tag, firstScriptTag);\n  });\n};\n\nif(typeof js === 'undefined') {\n  js = loadScriptAsync(\"https://www.ncbi.nlm.nih.gov/Structure/icn3d/es5/icn3d_all_full.min.js\");\n  \n  css1 = loadCssAsync(\"https://www.ncbi.nlm.nih.gov/Structure/icn3d/lib/jquery-ui-1.13.2.min.css\");\n  css2 = loadCssAsync(\"https://www.ncbi.nlm.nih.gov/Structure/icn3d/icn3d.css\");\n}\n\nvar viewer1682025799426235 = null;\nvar warn = document.getElementById(\"icn3dwarning1682025799426235\");\nif(warn) {\n    warn.parentNode.removeChild(warn);\n}\n\ncss1\n.then(function() { return css2; })\n.then(function() { return js; })\n.then(function() {\ncfg = {divid: \"icn3dviewer1682025799426235\", mmdbafid: \"1ETS\", width: \"640px\", height: \"480px\", mobilemenu: 1, notebook: 1, command: 'load mmdb1ETS| parameters &mmdbid=1ETS&bu=1; defined sets; select sets chemicals; set background white; style chemicals ball and stick; set surface wireframe on; set surface wireframe on; style proteins cylinder and plate; style proteins cylinder and plate; defined sets; select sets 1ETS; style proteins cylinder and plate; color secondary structure yellow|||{\"factor\":\"1.000\",\"mouseChange\":{\"x\":\"0.000\",\"y\":\"0.000\"},\"quaternion\":{\"_x\":\"0.000\",\"_y\":\"0.000\",\"_z\":\"0.000\",\"_w\":\"1.000\"}}', };\nviewer1682025799426235 = new icn3d.iCn3DUI(cfg);\nviewer1682025799426235.show3DStructure(cfg.pdb);\n});\n</script>",
      "text/html": [
       "<div id=\"icn3dviewer1682025799426235\" style=\"position: relative; width: 640px; min-height: 530px; height: auto\">\n",
       "        <p id=\"icn3dwarning1682025799426235\" style=\"background-color:#ffcccc;color:black\">You appear to be running in JupyterLab (or JavaScript failed to load for some other reason).  You need to install the extension: <br>\n",
       "        <tt>jupyter labextension install jupyterlab_3dmol</tt></p>\n",
       "        </div>\n",
       "<script>\n",
       "\n",
       "var loadScriptAsync = function(uri){\n",
       "  return new Promise((resolve, reject) => {\n",
       "    var tag = document.createElement('script');\n",
       "    tag.src = uri;\n",
       "    //tag.async = true;\n",
       "    tag.onload = () => {\n",
       "      resolve();\n",
       "    };\n",
       "  var firstScriptTag = document.getElementsByTagName('link')[0];\n",
       "  firstScriptTag.parentNode.insertBefore(tag, firstScriptTag);\n",
       "  });\n",
       "};\n",
       "\n",
       "var loadCssAsync = function(uri){\n",
       "  return new Promise((resolve, reject) => {\n",
       "var tag = document.createElement('link');\n",
       "tag.rel = 'stylesheet';\n",
       "tag.href = uri;\n",
       "//tag.async = true;\n",
       "tag.onload = () => {\n",
       "  resolve();\n",
       "};\n",
       "var firstScriptTag = document.getElementsByTagName('script')[0];\n",
       "firstScriptTag.parentNode.insertBefore(tag, firstScriptTag);\n",
       "  });\n",
       "};\n",
       "\n",
       "if(typeof js === 'undefined') {\n",
       "  js = loadScriptAsync(\"https://www.ncbi.nlm.nih.gov/Structure/icn3d/es5/icn3d_all_full.min.js\");\n",
       "  \n",
       "  css1 = loadCssAsync(\"https://www.ncbi.nlm.nih.gov/Structure/icn3d/lib/jquery-ui-1.13.2.min.css\");\n",
       "  css2 = loadCssAsync(\"https://www.ncbi.nlm.nih.gov/Structure/icn3d/icn3d.css\");\n",
       "}\n",
       "\n",
       "var viewer1682025799426235 = null;\n",
       "var warn = document.getElementById(\"icn3dwarning1682025799426235\");\n",
       "if(warn) {\n",
       "    warn.parentNode.removeChild(warn);\n",
       "}\n",
       "\n",
       "css1\n",
       ".then(function() { return css2; })\n",
       ".then(function() { return js; })\n",
       ".then(function() {\n",
       "cfg = {divid: \"icn3dviewer1682025799426235\", mmdbafid: \"1ETS\", width: \"640px\", height: \"480px\", mobilemenu: 1, notebook: 1, command: 'load mmdb1ETS| parameters &mmdbid=1ETS&bu=1; defined sets; select sets chemicals; set background white; style chemicals ball and stick; set surface wireframe on; set surface wireframe on; style proteins cylinder and plate; style proteins cylinder and plate; defined sets; select sets 1ETS; style proteins cylinder and plate; color secondary structure yellow|||{\"factor\":\"1.000\",\"mouseChange\":{\"x\":\"0.000\",\"y\":\"0.000\"},\"quaternion\":{\"_x\":\"0.000\",\"_y\":\"0.000\",\"_z\":\"0.000\",\"_w\":\"1.000\"}}', };\n",
       "viewer1682025799426235 = new icn3d.iCn3DUI(cfg);\n",
       "viewer1682025799426235.show3DStructure(cfg.pdb);\n",
       "});\n",
       "</script>"
      ]
     },
     "metadata": {},
     "output_type": "display_data"
    },
    {
     "data": {
      "text/plain": [
       "<icn3dpy.view at 0x107ffacd0>"
      ]
     },
     "execution_count": 13,
     "metadata": {},
     "output_type": "execute_result"
    }
   ],
   "source": [
    "PDB_ID = '1ETS' # Also try 1d66\n",
    "myview1(PDB_ID)"
   ]
  },
  {
   "attachments": {},
   "cell_type": "markdown",
   "id": "29ec716a",
   "metadata": {},
   "source": [
    "``````{admonition} Exercise\n",
    ":class: exercise\n",
    "\n",
    "Create an iCN3D visualization on an [iCN3D web page](https://www.ncbi.nlm.nih.gov/Structure/icn3d/full.html), using PDB entry 1ETS. Here is a suggestion, but you can try anything you like, especially if you are familiar with iCN3D. Once you have the view you like, capture the commands and transfer them to a new cell in this Jupyter notebook.\n",
    "\n",
    "- Style > Proteins > Strand\n",
    "- Color > Secondary > Sheet in Yellow\n",
    "- Style > Background > Gray\n",
    "\n",
    "```{admonition} Solution\n",
    ":class: solution dropdown\n",
    "\n",
    "```python\n",
    "view = icn3dpy.view(q='mmdbafid=1ETS',command='color secondary structure yellow; style proteins strand; style proteins strand; set background white; set background grey; set background transparent; set background grey|||{\"factor\":\"1.000\",\"mouseChange\":{\"x\":\"0.000\",\"y\":\"0.000\"},\"quaternion\":{\"_x\":\"0.000\",\"_y\":\"0.000\",\"_z\":\"0.000\",\"_w\":\"1.000\"}}')\n",
    "view    \n",
    "```\n",
    "\n",
    "``````"
   ]
  },
  {
   "cell_type": "markdown",
   "id": "f0019c3c-7460-400e-b7a3-156ff8f88b28",
   "metadata": {},
   "source": [
    "### Take Home Exercise\n",
    "\n",
    "Create two or more views on an [iCN3D web page](https://www.ncbi.nlm.nih.gov/Structure/icn3d/full.html) that you would like to use frequently in your research or teaching. For example, you might have one preferred view for an enzyme, another for a transcription factor bound to DNA, and a third to illustrate an antibody/antigen interaction. Once you have completed one of the views, transfer those commands into a Jupyter notebook you could use for any structure. Try them on multiple different structures. *Advanced*: Create and name variables (or even a `function`) that represents each of your preferred views and change the structure simply by entering the PDB ID in the cell."
   ]
  }
 ],
 "metadata": {
  "kernelspec": {
   "display_name": "Python 3 (ipykernel)",
   "language": "python",
   "name": "python3"
  },
  "language_info": {
   "codemirror_mode": {
    "name": "ipython",
    "version": 3
   },
   "file_extension": ".py",
   "mimetype": "text/x-python",
   "name": "python",
   "nbconvert_exporter": "python",
   "pygments_lexer": "ipython3",
   "version": "3.9.16"
  }
 },
 "nbformat": 4,
 "nbformat_minor": 5
}
