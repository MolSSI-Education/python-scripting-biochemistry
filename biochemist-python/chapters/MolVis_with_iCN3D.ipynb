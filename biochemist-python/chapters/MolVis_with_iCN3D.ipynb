{
 "cells": [
  {
   "cell_type": "markdown",
   "id": "cd365f70",
   "metadata": {},
   "source": [
    "## Molecular Visualization with iCN3D\n",
    "### Overview\n",
    "#### Questions\n",
    "1. How do you incorporate iCN3D into a Jupyter Notebook?\n",
    "1. How do you view structures from PDB files in iCN3D?  \n",
    "1. How do you superimpose structures in iCN3D in a Jupyter Notebook?\n",
    "1. How can you control the renderings of features of a protein in iCN3D?\n",
    "\n",
    "#### Objectives\n",
    "\n",
    "- Learn to load the iCN3D app\n",
    "- Identify controls that are available within the iCN3D window in a Jupyter Notebook\n",
    "- Implement commands captured from an iCN3D web page in a Jupyter notebook."
   ]
  },
  {
   "cell_type": "markdown",
   "id": "4ce00132",
   "metadata": {},
   "source": [
    "## iCN3D and Molecular Visualization\n",
    "iCN3D is a molecular viewer that is provided by the National Center for Biotechnology Information and integrated into many of their web pages. Here is a [link](https://www.ncbi.nlm.nih.gov/Structure/icn3d/full.html) that enables you to open an iCN3D web page and load a PDB structure of interest. In fact, Henry Jakubowski has created an extensive collection of [iCN3D web pages](https://bio.libretexts.org/Learning_Objects/Visualizations_and_Simulations/Biochemistry-iCn3D_Molecular_Models) to support his [Biochemistry textbook offered through Libretext](https://bio.libretexts.org/Bookshelves/Biochemistry). \n",
    "\n",
    "### Loading the iCN3D library\n",
    "As we have seen previously, the `import` command is used to load iCN3D into your Jupyter notebook. Be careful to use the exact name of the library, all in lower case letters."
   ]
  },
  {
   "cell_type": "code",
   "execution_count": 2,
   "id": "63c4e8a9",
   "metadata": {},
   "outputs": [],
   "source": [
    "import icn3dpy\n",
    "import py3Dmol"
   ]
  },
  {
   "cell_type": "markdown",
   "id": "a872fd11",
   "metadata": {},
   "source": [
    "### Viewing a PDB structure\n",
    "As a first step, we will simply load a PDB structure in the default representation provided when you use the icn3dpy.view command for Jupyter notebooks. Please note that you can substitute in any structure id of interest using the format 'pdbid = xxxx'. If you have a favorite structure, use that instead of 1a0j."
   ]
  },
  {
   "cell_type": "code",
   "execution_count": 3,
   "id": "58446c96",
   "metadata": {},
   "outputs": [
    {
     "data": {
      "application/3dmoljs_load.v0": "<div id=\"icn3dviewer1707233485366264\" style=\"position: relative; width: 640px; min-height: 530px; height: auto\">\n        <p id=\"icn3dwarning1707233485366264\" style=\"background-color:#ffcccc;color:black\">You appear to be running in JupyterLab (or JavaScript failed to load for some other reason).  You need to install the extension: <br>\n        <tt>jupyter labextension install jupyterlab_3dmol</tt></p>\n        </div>\n<script>\n\nvar loadScriptAsync = function(uri){\n  return new Promise((resolve, reject) => {\n    var tag = document.createElement('script');\n    tag.src = uri;\n    //tag.async = true;\n    tag.onload = () => {\n      resolve();\n    };\n  var firstScriptTag = document.getElementsByTagName('link')[0];\n  firstScriptTag.parentNode.insertBefore(tag, firstScriptTag);\n  });\n};\n\nvar loadCssAsync = function(uri){\n  return new Promise((resolve, reject) => {\nvar tag = document.createElement('link');\ntag.rel = 'stylesheet';\ntag.href = uri;\n//tag.async = true;\ntag.onload = () => {\n  resolve();\n};\nvar firstScriptTag = document.getElementsByTagName('script')[0];\nfirstScriptTag.parentNode.insertBefore(tag, firstScriptTag);\n  });\n};\n\nif(typeof js === 'undefined') {\n  js = loadScriptAsync(\"https://www.ncbi.nlm.nih.gov/Structure/icn3d/es5/icn3d_all_full.min.js\");\n  \n  css1 = loadCssAsync(\"https://www.ncbi.nlm.nih.gov/Structure/icn3d/lib/jquery-ui-1.13.2.min.css\");\n  css2 = loadCssAsync(\"https://www.ncbi.nlm.nih.gov/Structure/icn3d/icn3d.css\");\n}\n\nvar viewer1707233485366264 = null;\nvar warn = document.getElementById(\"icn3dwarning1707233485366264\");\nif(warn) {\n    warn.parentNode.removeChild(warn);\n}\n\ncss1\n.then(function() { return css2; })\n.then(function() { return js; })\n.then(function() {\ncfg = {divid: \"icn3dviewer1707233485366264\", idname: \"pdbid\", idvalue: \"1a0j\", pdbid: \"1a0j\", width: \"640px\", height: \"480px\", mobilemenu: 1, notebook: 1, command: '', };\nviewer1707233485366264 = new icn3d.iCn3DUI(cfg);\nviewer1707233485366264.show3DStructure(cfg.pdb);\n});\n</script>",
      "text/html": [
       "<div id=\"icn3dviewer1707233485366264\" style=\"position: relative; width: 640px; min-height: 530px; height: auto\">\n",
       "        <p id=\"icn3dwarning1707233485366264\" style=\"background-color:#ffcccc;color:black\">You appear to be running in JupyterLab (or JavaScript failed to load for some other reason).  You need to install the extension: <br>\n",
       "        <tt>jupyter labextension install jupyterlab_3dmol</tt></p>\n",
       "        </div>\n",
       "<script>\n",
       "\n",
       "var loadScriptAsync = function(uri){\n",
       "  return new Promise((resolve, reject) => {\n",
       "    var tag = document.createElement('script');\n",
       "    tag.src = uri;\n",
       "    //tag.async = true;\n",
       "    tag.onload = () => {\n",
       "      resolve();\n",
       "    };\n",
       "  var firstScriptTag = document.getElementsByTagName('link')[0];\n",
       "  firstScriptTag.parentNode.insertBefore(tag, firstScriptTag);\n",
       "  });\n",
       "};\n",
       "\n",
       "var loadCssAsync = function(uri){\n",
       "  return new Promise((resolve, reject) => {\n",
       "var tag = document.createElement('link');\n",
       "tag.rel = 'stylesheet';\n",
       "tag.href = uri;\n",
       "//tag.async = true;\n",
       "tag.onload = () => {\n",
       "  resolve();\n",
       "};\n",
       "var firstScriptTag = document.getElementsByTagName('script')[0];\n",
       "firstScriptTag.parentNode.insertBefore(tag, firstScriptTag);\n",
       "  });\n",
       "};\n",
       "\n",
       "if(typeof js === 'undefined') {\n",
       "  js = loadScriptAsync(\"https://www.ncbi.nlm.nih.gov/Structure/icn3d/es5/icn3d_all_full.min.js\");\n",
       "  \n",
       "  css1 = loadCssAsync(\"https://www.ncbi.nlm.nih.gov/Structure/icn3d/lib/jquery-ui-1.13.2.min.css\");\n",
       "  css2 = loadCssAsync(\"https://www.ncbi.nlm.nih.gov/Structure/icn3d/icn3d.css\");\n",
       "}\n",
       "\n",
       "var viewer1707233485366264 = null;\n",
       "var warn = document.getElementById(\"icn3dwarning1707233485366264\");\n",
       "if(warn) {\n",
       "    warn.parentNode.removeChild(warn);\n",
       "}\n",
       "\n",
       "css1\n",
       ".then(function() { return css2; })\n",
       ".then(function() { return js; })\n",
       ".then(function() {\n",
       "cfg = {divid: \"icn3dviewer1707233485366264\", idname: \"pdbid\", idvalue: \"1a0j\", pdbid: \"1a0j\", width: \"640px\", height: \"480px\", mobilemenu: 1, notebook: 1, command: '', };\n",
       "viewer1707233485366264 = new icn3d.iCn3DUI(cfg);\n",
       "viewer1707233485366264.show3DStructure(cfg.pdb);\n",
       "});\n",
       "</script>"
      ]
     },
     "metadata": {},
     "output_type": "display_data"
    },
    {
     "data": {
      "text/plain": [
       "<icn3dpy.view at 0x7f8f605ec610>"
      ]
     },
     "execution_count": 3,
     "metadata": {},
     "output_type": "execute_result"
    }
   ],
   "source": [
    "scene = icn3dpy.view(q='pdbid=1a0j')\n",
    "scene"
   ]
  },
  {
   "cell_type": "markdown",
   "id": "4f041dd5",
   "metadata": {},
   "source": [
    "### Applying the power of python\n",
    "The above approach offers no real advantages over simply using an [iCN3D web page](https://www.ncbi.nlm.nih.gov/Structure/icn3d/full.html) to view your structure, so we are going to create some variables and functions that will enable you to quickly generate your desired views of many different PDB entries using simple commands. Let's start with variables. The icn3dpy.view() command requires the definition of a variable `q` in the statement. In this example, the string `pdbid=1a0j` is assigned to the variable q.\n",
    "\n",
    "```python\n",
    "view = icn3dpy.view(q='pdbid=1a0j')\n",
    "view\n",
    "```\n",
    "\n",
    "This can be replaced with another variable that contains the string. Let's try that."
   ]
  },
  {
   "cell_type": "code",
   "execution_count": 4,
   "id": "6e5ec0d2",
   "metadata": {},
   "outputs": [
    {
     "data": {
      "application/3dmoljs_load.v0": "<div id=\"icn3dviewer1707233495872262\" style=\"position: relative; width: 640px; min-height: 530px; height: auto\">\n        <p id=\"icn3dwarning1707233495872262\" style=\"background-color:#ffcccc;color:black\">You appear to be running in JupyterLab (or JavaScript failed to load for some other reason).  You need to install the extension: <br>\n        <tt>jupyter labextension install jupyterlab_3dmol</tt></p>\n        </div>\n<script>\n\nvar loadScriptAsync = function(uri){\n  return new Promise((resolve, reject) => {\n    var tag = document.createElement('script');\n    tag.src = uri;\n    //tag.async = true;\n    tag.onload = () => {\n      resolve();\n    };\n  var firstScriptTag = document.getElementsByTagName('link')[0];\n  firstScriptTag.parentNode.insertBefore(tag, firstScriptTag);\n  });\n};\n\nvar loadCssAsync = function(uri){\n  return new Promise((resolve, reject) => {\nvar tag = document.createElement('link');\ntag.rel = 'stylesheet';\ntag.href = uri;\n//tag.async = true;\ntag.onload = () => {\n  resolve();\n};\nvar firstScriptTag = document.getElementsByTagName('script')[0];\nfirstScriptTag.parentNode.insertBefore(tag, firstScriptTag);\n  });\n};\n\nif(typeof js === 'undefined') {\n  js = loadScriptAsync(\"https://www.ncbi.nlm.nih.gov/Structure/icn3d/es5/icn3d_all_full.min.js\");\n  \n  css1 = loadCssAsync(\"https://www.ncbi.nlm.nih.gov/Structure/icn3d/lib/jquery-ui-1.13.2.min.css\");\n  css2 = loadCssAsync(\"https://www.ncbi.nlm.nih.gov/Structure/icn3d/icn3d.css\");\n}\n\nvar viewer1707233495872262 = null;\nvar warn = document.getElementById(\"icn3dwarning1707233495872262\");\nif(warn) {\n    warn.parentNode.removeChild(warn);\n}\n\ncss1\n.then(function() { return css2; })\n.then(function() { return js; })\n.then(function() {\ncfg = {divid: \"icn3dviewer1707233495872262\", idname: \"pdbid\", idvalue: \"8gch\", pdbid: \"8gch\", width: \"640px\", height: \"480px\", mobilemenu: 1, notebook: 1, command: '', };\nviewer1707233495872262 = new icn3d.iCn3DUI(cfg);\nviewer1707233495872262.show3DStructure(cfg.pdb);\n});\n</script>",
      "text/html": [
       "<div id=\"icn3dviewer1707233495872262\" style=\"position: relative; width: 640px; min-height: 530px; height: auto\">\n",
       "        <p id=\"icn3dwarning1707233495872262\" style=\"background-color:#ffcccc;color:black\">You appear to be running in JupyterLab (or JavaScript failed to load for some other reason).  You need to install the extension: <br>\n",
       "        <tt>jupyter labextension install jupyterlab_3dmol</tt></p>\n",
       "        </div>\n",
       "<script>\n",
       "\n",
       "var loadScriptAsync = function(uri){\n",
       "  return new Promise((resolve, reject) => {\n",
       "    var tag = document.createElement('script');\n",
       "    tag.src = uri;\n",
       "    //tag.async = true;\n",
       "    tag.onload = () => {\n",
       "      resolve();\n",
       "    };\n",
       "  var firstScriptTag = document.getElementsByTagName('link')[0];\n",
       "  firstScriptTag.parentNode.insertBefore(tag, firstScriptTag);\n",
       "  });\n",
       "};\n",
       "\n",
       "var loadCssAsync = function(uri){\n",
       "  return new Promise((resolve, reject) => {\n",
       "var tag = document.createElement('link');\n",
       "tag.rel = 'stylesheet';\n",
       "tag.href = uri;\n",
       "//tag.async = true;\n",
       "tag.onload = () => {\n",
       "  resolve();\n",
       "};\n",
       "var firstScriptTag = document.getElementsByTagName('script')[0];\n",
       "firstScriptTag.parentNode.insertBefore(tag, firstScriptTag);\n",
       "  });\n",
       "};\n",
       "\n",
       "if(typeof js === 'undefined') {\n",
       "  js = loadScriptAsync(\"https://www.ncbi.nlm.nih.gov/Structure/icn3d/es5/icn3d_all_full.min.js\");\n",
       "  \n",
       "  css1 = loadCssAsync(\"https://www.ncbi.nlm.nih.gov/Structure/icn3d/lib/jquery-ui-1.13.2.min.css\");\n",
       "  css2 = loadCssAsync(\"https://www.ncbi.nlm.nih.gov/Structure/icn3d/icn3d.css\");\n",
       "}\n",
       "\n",
       "var viewer1707233495872262 = null;\n",
       "var warn = document.getElementById(\"icn3dwarning1707233495872262\");\n",
       "if(warn) {\n",
       "    warn.parentNode.removeChild(warn);\n",
       "}\n",
       "\n",
       "css1\n",
       ".then(function() { return css2; })\n",
       ".then(function() { return js; })\n",
       ".then(function() {\n",
       "cfg = {divid: \"icn3dviewer1707233495872262\", idname: \"pdbid\", idvalue: \"8gch\", pdbid: \"8gch\", width: \"640px\", height: \"480px\", mobilemenu: 1, notebook: 1, command: '', };\n",
       "viewer1707233495872262 = new icn3d.iCn3DUI(cfg);\n",
       "viewer1707233495872262.show3DStructure(cfg.pdb);\n",
       "});\n",
       "</script>"
      ]
     },
     "metadata": {},
     "output_type": "display_data"
    },
    {
     "data": {
      "text/plain": [
       "<icn3dpy.view at 0x7f8f605ecc10>"
      ]
     },
     "execution_count": 4,
     "metadata": {},
     "output_type": "execute_result"
    }
   ],
   "source": [
    "# Replacing the 'pdbid=1a0j' string with a variable\n",
    "ID = 'pdbid=8gch'\n",
    "scene = icn3dpy.view(q=ID)\n",
    "scene"
   ]
  },
  {
   "cell_type": "markdown",
   "id": "b3864cbf",
   "metadata": {},
   "source": [
    "### Adding commands to the icn3dpy.view function\n",
    "It is possible to add commands to the icn3dpy.view function to create a different view. You can find a list of commands on the [iCN3D menuicon page](https://www.ncbi.nlm.nih.gov/Structure/icn3d/icn3d.html#commands). Let's consider a few examples and then explore additional ways to control them."
   ]
  },
  {
   "cell_type": "code",
   "execution_count": null,
   "id": "7443b6c5",
   "metadata": {},
   "outputs": [],
   "source": [
    "# Adding this command string with the syntax shown to change the appearance\n",
    "# of the protein from strands to cylinder and plate"
   ]
  },
  {
   "cell_type": "code",
   "execution_count": 4,
   "id": "c78d5429",
   "metadata": {},
   "outputs": [
    {
     "data": {
      "application/3dmoljs_load.v0": "<div id=\"icn3dviewer17072329733314319\" style=\"position: relative; width: 640px; min-height: 530px; height: auto\">\n        <p id=\"icn3dwarning17072329733314319\" style=\"background-color:#ffcccc;color:black\">You appear to be running in JupyterLab (or JavaScript failed to load for some other reason).  You need to install the extension: <br>\n        <tt>jupyter labextension install jupyterlab_3dmol</tt></p>\n        </div>\n<script>\n\nvar loadScriptAsync = function(uri){\n  return new Promise((resolve, reject) => {\n    var tag = document.createElement('script');\n    tag.src = uri;\n    //tag.async = true;\n    tag.onload = () => {\n      resolve();\n    };\n  var firstScriptTag = document.getElementsByTagName('link')[0];\n  firstScriptTag.parentNode.insertBefore(tag, firstScriptTag);\n  });\n};\n\nvar loadCssAsync = function(uri){\n  return new Promise((resolve, reject) => {\nvar tag = document.createElement('link');\ntag.rel = 'stylesheet';\ntag.href = uri;\n//tag.async = true;\ntag.onload = () => {\n  resolve();\n};\nvar firstScriptTag = document.getElementsByTagName('script')[0];\nfirstScriptTag.parentNode.insertBefore(tag, firstScriptTag);\n  });\n};\n\nif(typeof js === 'undefined') {\n  js = loadScriptAsync(\"https://www.ncbi.nlm.nih.gov/Structure/icn3d/es5/icn3d_all_full.min.js\");\n  \n  css1 = loadCssAsync(\"https://www.ncbi.nlm.nih.gov/Structure/icn3d/lib/jquery-ui-1.13.2.min.css\");\n  css2 = loadCssAsync(\"https://www.ncbi.nlm.nih.gov/Structure/icn3d/icn3d.css\");\n}\n\nvar viewer17072329733314319 = null;\nvar warn = document.getElementById(\"icn3dwarning17072329733314319\");\nif(warn) {\n    warn.parentNode.removeChild(warn);\n}\n\ncss1\n.then(function() { return css2; })\n.then(function() { return js; })\n.then(function() {\ncfg = {divid: \"icn3dviewer17072329733314319\", idname: \"pdbid\", idvalue: \"1mbo\", pdbid: \"1mbo\", width: \"640px\", height: \"480px\", mobilemenu: 1, notebook: 1, command: 'style proteins cylinder and plate', };\nviewer17072329733314319 = new icn3d.iCn3DUI(cfg);\nviewer17072329733314319.show3DStructure(cfg.pdb);\n});\n</script>",
      "text/html": [
       "<div id=\"icn3dviewer17072329733314319\" style=\"position: relative; width: 640px; min-height: 530px; height: auto\">\n",
       "        <p id=\"icn3dwarning17072329733314319\" style=\"background-color:#ffcccc;color:black\">You appear to be running in JupyterLab (or JavaScript failed to load for some other reason).  You need to install the extension: <br>\n",
       "        <tt>jupyter labextension install jupyterlab_3dmol</tt></p>\n",
       "        </div>\n",
       "<script>\n",
       "\n",
       "var loadScriptAsync = function(uri){\n",
       "  return new Promise((resolve, reject) => {\n",
       "    var tag = document.createElement('script');\n",
       "    tag.src = uri;\n",
       "    //tag.async = true;\n",
       "    tag.onload = () => {\n",
       "      resolve();\n",
       "    };\n",
       "  var firstScriptTag = document.getElementsByTagName('link')[0];\n",
       "  firstScriptTag.parentNode.insertBefore(tag, firstScriptTag);\n",
       "  });\n",
       "};\n",
       "\n",
       "var loadCssAsync = function(uri){\n",
       "  return new Promise((resolve, reject) => {\n",
       "var tag = document.createElement('link');\n",
       "tag.rel = 'stylesheet';\n",
       "tag.href = uri;\n",
       "//tag.async = true;\n",
       "tag.onload = () => {\n",
       "  resolve();\n",
       "};\n",
       "var firstScriptTag = document.getElementsByTagName('script')[0];\n",
       "firstScriptTag.parentNode.insertBefore(tag, firstScriptTag);\n",
       "  });\n",
       "};\n",
       "\n",
       "if(typeof js === 'undefined') {\n",
       "  js = loadScriptAsync(\"https://www.ncbi.nlm.nih.gov/Structure/icn3d/es5/icn3d_all_full.min.js\");\n",
       "  \n",
       "  css1 = loadCssAsync(\"https://www.ncbi.nlm.nih.gov/Structure/icn3d/lib/jquery-ui-1.13.2.min.css\");\n",
       "  css2 = loadCssAsync(\"https://www.ncbi.nlm.nih.gov/Structure/icn3d/icn3d.css\");\n",
       "}\n",
       "\n",
       "var viewer17072329733314319 = null;\n",
       "var warn = document.getElementById(\"icn3dwarning17072329733314319\");\n",
       "if(warn) {\n",
       "    warn.parentNode.removeChild(warn);\n",
       "}\n",
       "\n",
       "css1\n",
       ".then(function() { return css2; })\n",
       ".then(function() { return js; })\n",
       ".then(function() {\n",
       "cfg = {divid: \"icn3dviewer17072329733314319\", idname: \"pdbid\", idvalue: \"1mbo\", pdbid: \"1mbo\", width: \"640px\", height: \"480px\", mobilemenu: 1, notebook: 1, command: 'style proteins cylinder and plate', };\n",
       "viewer17072329733314319 = new icn3d.iCn3DUI(cfg);\n",
       "viewer17072329733314319.show3DStructure(cfg.pdb);\n",
       "});\n",
       "</script>"
      ]
     },
     "metadata": {},
     "output_type": "display_data"
    },
    {
     "data": {
      "text/plain": [
       "<icn3dpy.view at 0x7f8d70531b70>"
      ]
     },
     "execution_count": 4,
     "metadata": {},
     "output_type": "execute_result"
    }
   ],
   "source": [
    "scene = icn3dpy.view(q='pdbid=1mbo', command = 'style proteins cylinder and plate')\n",
    "scene"
   ]
  },
  {
   "cell_type": "code",
   "execution_count": 5,
   "id": "53949451",
   "metadata": {},
   "outputs": [
    {
     "data": {
      "application/3dmoljs_load.v0": "<div id=\"icn3dviewer1707232977119107\" style=\"position: relative; width: 640px; min-height: 530px; height: auto\">\n        <p id=\"icn3dwarning1707232977119107\" style=\"background-color:#ffcccc;color:black\">You appear to be running in JupyterLab (or JavaScript failed to load for some other reason).  You need to install the extension: <br>\n        <tt>jupyter labextension install jupyterlab_3dmol</tt></p>\n        </div>\n<script>\n\nvar loadScriptAsync = function(uri){\n  return new Promise((resolve, reject) => {\n    var tag = document.createElement('script');\n    tag.src = uri;\n    //tag.async = true;\n    tag.onload = () => {\n      resolve();\n    };\n  var firstScriptTag = document.getElementsByTagName('link')[0];\n  firstScriptTag.parentNode.insertBefore(tag, firstScriptTag);\n  });\n};\n\nvar loadCssAsync = function(uri){\n  return new Promise((resolve, reject) => {\nvar tag = document.createElement('link');\ntag.rel = 'stylesheet';\ntag.href = uri;\n//tag.async = true;\ntag.onload = () => {\n  resolve();\n};\nvar firstScriptTag = document.getElementsByTagName('script')[0];\nfirstScriptTag.parentNode.insertBefore(tag, firstScriptTag);\n  });\n};\n\nif(typeof js === 'undefined') {\n  js = loadScriptAsync(\"https://www.ncbi.nlm.nih.gov/Structure/icn3d/es5/icn3d_all_full.min.js\");\n  \n  css1 = loadCssAsync(\"https://www.ncbi.nlm.nih.gov/Structure/icn3d/lib/jquery-ui-1.13.2.min.css\");\n  css2 = loadCssAsync(\"https://www.ncbi.nlm.nih.gov/Structure/icn3d/icn3d.css\");\n}\n\nvar viewer1707232977119107 = null;\nvar warn = document.getElementById(\"icn3dwarning1707232977119107\");\nif(warn) {\n    warn.parentNode.removeChild(warn);\n}\n\ncss1\n.then(function() { return css2; })\n.then(function() { return js; })\n.then(function() {\ncfg = {divid: \"icn3dviewer1707232977119107\", idname: \"pdbid\", idvalue: \"1mbo\", pdbid: \"1mbo\", width: \"640px\", height: \"480px\", mobilemenu: 1, notebook: 1, command: 'style proteins cylinder and plate; style chemicals ball and stick', };\nviewer1707232977119107 = new icn3d.iCn3DUI(cfg);\nviewer1707232977119107.show3DStructure(cfg.pdb);\n});\n</script>",
      "text/html": [
       "<div id=\"icn3dviewer1707232977119107\" style=\"position: relative; width: 640px; min-height: 530px; height: auto\">\n",
       "        <p id=\"icn3dwarning1707232977119107\" style=\"background-color:#ffcccc;color:black\">You appear to be running in JupyterLab (or JavaScript failed to load for some other reason).  You need to install the extension: <br>\n",
       "        <tt>jupyter labextension install jupyterlab_3dmol</tt></p>\n",
       "        </div>\n",
       "<script>\n",
       "\n",
       "var loadScriptAsync = function(uri){\n",
       "  return new Promise((resolve, reject) => {\n",
       "    var tag = document.createElement('script');\n",
       "    tag.src = uri;\n",
       "    //tag.async = true;\n",
       "    tag.onload = () => {\n",
       "      resolve();\n",
       "    };\n",
       "  var firstScriptTag = document.getElementsByTagName('link')[0];\n",
       "  firstScriptTag.parentNode.insertBefore(tag, firstScriptTag);\n",
       "  });\n",
       "};\n",
       "\n",
       "var loadCssAsync = function(uri){\n",
       "  return new Promise((resolve, reject) => {\n",
       "var tag = document.createElement('link');\n",
       "tag.rel = 'stylesheet';\n",
       "tag.href = uri;\n",
       "//tag.async = true;\n",
       "tag.onload = () => {\n",
       "  resolve();\n",
       "};\n",
       "var firstScriptTag = document.getElementsByTagName('script')[0];\n",
       "firstScriptTag.parentNode.insertBefore(tag, firstScriptTag);\n",
       "  });\n",
       "};\n",
       "\n",
       "if(typeof js === 'undefined') {\n",
       "  js = loadScriptAsync(\"https://www.ncbi.nlm.nih.gov/Structure/icn3d/es5/icn3d_all_full.min.js\");\n",
       "  \n",
       "  css1 = loadCssAsync(\"https://www.ncbi.nlm.nih.gov/Structure/icn3d/lib/jquery-ui-1.13.2.min.css\");\n",
       "  css2 = loadCssAsync(\"https://www.ncbi.nlm.nih.gov/Structure/icn3d/icn3d.css\");\n",
       "}\n",
       "\n",
       "var viewer1707232977119107 = null;\n",
       "var warn = document.getElementById(\"icn3dwarning1707232977119107\");\n",
       "if(warn) {\n",
       "    warn.parentNode.removeChild(warn);\n",
       "}\n",
       "\n",
       "css1\n",
       ".then(function() { return css2; })\n",
       ".then(function() { return js; })\n",
       ".then(function() {\n",
       "cfg = {divid: \"icn3dviewer1707232977119107\", idname: \"pdbid\", idvalue: \"1mbo\", pdbid: \"1mbo\", width: \"640px\", height: \"480px\", mobilemenu: 1, notebook: 1, command: 'style proteins cylinder and plate; style chemicals ball and stick', };\n",
       "viewer1707232977119107 = new icn3d.iCn3DUI(cfg);\n",
       "viewer1707232977119107.show3DStructure(cfg.pdb);\n",
       "});\n",
       "</script>"
      ]
     },
     "metadata": {},
     "output_type": "display_data"
    },
    {
     "data": {
      "text/plain": [
       "<icn3dpy.view at 0x7f8d70531cc0>"
      ]
     },
     "execution_count": 5,
     "metadata": {},
     "output_type": "execute_result"
    }
   ],
   "source": [
    "# Change the heme group to ball and stick\n",
    "scene = icn3dpy.view(q='pdbid=1mbo', command = 'style proteins cylinder and plate; style chemicals ball and stick')\n",
    "scene"
   ]
  },
  {
   "cell_type": "code",
   "execution_count": 6,
   "id": "bf280b7b",
   "metadata": {},
   "outputs": [
    {
     "data": {
      "application/3dmoljs_load.v0": "<div id=\"icn3dviewer1707232984842288\" style=\"position: relative; width: 640px; min-height: 530px; height: auto\">\n        <p id=\"icn3dwarning1707232984842288\" style=\"background-color:#ffcccc;color:black\">You appear to be running in JupyterLab (or JavaScript failed to load for some other reason).  You need to install the extension: <br>\n        <tt>jupyter labextension install jupyterlab_3dmol</tt></p>\n        </div>\n<script>\n\nvar loadScriptAsync = function(uri){\n  return new Promise((resolve, reject) => {\n    var tag = document.createElement('script');\n    tag.src = uri;\n    //tag.async = true;\n    tag.onload = () => {\n      resolve();\n    };\n  var firstScriptTag = document.getElementsByTagName('link')[0];\n  firstScriptTag.parentNode.insertBefore(tag, firstScriptTag);\n  });\n};\n\nvar loadCssAsync = function(uri){\n  return new Promise((resolve, reject) => {\nvar tag = document.createElement('link');\ntag.rel = 'stylesheet';\ntag.href = uri;\n//tag.async = true;\ntag.onload = () => {\n  resolve();\n};\nvar firstScriptTag = document.getElementsByTagName('script')[0];\nfirstScriptTag.parentNode.insertBefore(tag, firstScriptTag);\n  });\n};\n\nif(typeof js === 'undefined') {\n  js = loadScriptAsync(\"https://www.ncbi.nlm.nih.gov/Structure/icn3d/es5/icn3d_all_full.min.js\");\n  \n  css1 = loadCssAsync(\"https://www.ncbi.nlm.nih.gov/Structure/icn3d/lib/jquery-ui-1.13.2.min.css\");\n  css2 = loadCssAsync(\"https://www.ncbi.nlm.nih.gov/Structure/icn3d/icn3d.css\");\n}\n\nvar viewer1707232984842288 = null;\nvar warn = document.getElementById(\"icn3dwarning1707232984842288\");\nif(warn) {\n    warn.parentNode.removeChild(warn);\n}\n\ncss1\n.then(function() { return css2; })\n.then(function() { return js; })\n.then(function() {\ncfg = {divid: \"icn3dviewer1707232984842288\", idname: \"pdbid\", idvalue: \"1mbo\", pdbid: \"1mbo\", width: \"640px\", height: \"480px\", mobilemenu: 1, notebook: 1, command: '; style proteins cylinder and plate; style chemicals ball and stick', };\nviewer1707232984842288 = new icn3d.iCn3DUI(cfg);\nviewer1707232984842288.show3DStructure(cfg.pdb);\n});\n</script>",
      "text/html": [
       "<div id=\"icn3dviewer1707232984842288\" style=\"position: relative; width: 640px; min-height: 530px; height: auto\">\n",
       "        <p id=\"icn3dwarning1707232984842288\" style=\"background-color:#ffcccc;color:black\">You appear to be running in JupyterLab (or JavaScript failed to load for some other reason).  You need to install the extension: <br>\n",
       "        <tt>jupyter labextension install jupyterlab_3dmol</tt></p>\n",
       "        </div>\n",
       "<script>\n",
       "\n",
       "var loadScriptAsync = function(uri){\n",
       "  return new Promise((resolve, reject) => {\n",
       "    var tag = document.createElement('script');\n",
       "    tag.src = uri;\n",
       "    //tag.async = true;\n",
       "    tag.onload = () => {\n",
       "      resolve();\n",
       "    };\n",
       "  var firstScriptTag = document.getElementsByTagName('link')[0];\n",
       "  firstScriptTag.parentNode.insertBefore(tag, firstScriptTag);\n",
       "  });\n",
       "};\n",
       "\n",
       "var loadCssAsync = function(uri){\n",
       "  return new Promise((resolve, reject) => {\n",
       "var tag = document.createElement('link');\n",
       "tag.rel = 'stylesheet';\n",
       "tag.href = uri;\n",
       "//tag.async = true;\n",
       "tag.onload = () => {\n",
       "  resolve();\n",
       "};\n",
       "var firstScriptTag = document.getElementsByTagName('script')[0];\n",
       "firstScriptTag.parentNode.insertBefore(tag, firstScriptTag);\n",
       "  });\n",
       "};\n",
       "\n",
       "if(typeof js === 'undefined') {\n",
       "  js = loadScriptAsync(\"https://www.ncbi.nlm.nih.gov/Structure/icn3d/es5/icn3d_all_full.min.js\");\n",
       "  \n",
       "  css1 = loadCssAsync(\"https://www.ncbi.nlm.nih.gov/Structure/icn3d/lib/jquery-ui-1.13.2.min.css\");\n",
       "  css2 = loadCssAsync(\"https://www.ncbi.nlm.nih.gov/Structure/icn3d/icn3d.css\");\n",
       "}\n",
       "\n",
       "var viewer1707232984842288 = null;\n",
       "var warn = document.getElementById(\"icn3dwarning1707232984842288\");\n",
       "if(warn) {\n",
       "    warn.parentNode.removeChild(warn);\n",
       "}\n",
       "\n",
       "css1\n",
       ".then(function() { return css2; })\n",
       ".then(function() { return js; })\n",
       ".then(function() {\n",
       "cfg = {divid: \"icn3dviewer1707232984842288\", idname: \"pdbid\", idvalue: \"1mbo\", pdbid: \"1mbo\", width: \"640px\", height: \"480px\", mobilemenu: 1, notebook: 1, command: '; style proteins cylinder and plate; style chemicals ball and stick', };\n",
       "viewer1707232984842288 = new icn3d.iCn3DUI(cfg);\n",
       "viewer1707232984842288.show3DStructure(cfg.pdb);\n",
       "});\n",
       "</script>"
      ]
     },
     "metadata": {},
     "output_type": "display_data"
    },
    {
     "data": {
      "text/plain": [
       "<icn3dpy.view at 0x7f8d70530640>"
      ]
     },
     "execution_count": 6,
     "metadata": {},
     "output_type": "execute_result"
    }
   ],
   "source": [
    "# Assigning command strings to variables\n",
    "ID = 'pdbid=1mbo'\n",
    "cpl = '; style proteins cylinder and plate'\n",
    "bns = '; style chemicals ball and stick'\n",
    "scene = icn3dpy.view(q=ID, command = cpl + bns)\n",
    "scene"
   ]
  },
  {
   "cell_type": "code",
   "execution_count": 6,
   "id": "fe491990",
   "metadata": {},
   "outputs": [],
   "source": [
    "# Do the same thing with a different protein\n",
    "# Assigning command strings to variables\n",
    "ID = 'pdbid=4hhb'\n",
    "cpl = '; style proteins cylinder and plate'\n",
    "bns = '; style chemicals ball and stick'\n",
    "#scene = icn3dpy.view(q=ID, command = cpl + bns)\n",
    "#scene"
   ]
  },
  {
   "cell_type": "markdown",
   "id": "1eccec0b",
   "metadata": {},
   "source": [
    "# Pulling collections of commands from an iCN3D web page\n",
    "You can imagine that it might be quite time consuming to make 8 or 10 modifications to a visualization using commands like those seen above. One of the features of iCN3D web pages is that you can create a view there and import the commands into a Jupyter notebook. In this [iCN3D page for PDB ID 1ETS](https://structure.ncbi.nlm.nih.gov/icn3d/share.html?TmUEcZr72jbmKirq9), the following steps were taken: \n",
    "\n",
    "- the ligand was changed to ball and stick; \n",
    "- the protein was changed from ribbon to cylinder and plate; \n",
    "- the color was changed to represent secondary structures; \n",
    "- the background was changed to white. \n",
    "\n",
    "The resulting page looks like this:\n",
    "![modified image of 1ETS](images/1ets.png \"modified image of 1ETS\")\n",
    "\n",
    "There is a feature on an iCN3D web page that enables you to modify the structure on the page and reproduce the structure in a Jupyter notebook. Why would you want to do that? We'll get to that in a bit.\n",
    "\n",
    "On the [iCN3D page for PDB ID 1ETS](https://structure.ncbi.nlm.nih.gov/icn3d/share.html?TmUEcZr72jbmKirq9), select `File` from the dropdown menu, then choose `Share Link` and it will bring up a dialog box. \n",
    "\n",
    "![dialog box from modified 1ETS](images/dialog_box.png \"modified image of 1ETS\")\n",
    "\n",
    "Simply go to 2. `Commands Used in Jupyter Notebooks` and click on `Copy Commands`. Then paste those commands into a code cell on your Jupyter notebook."
   ]
  },
  {
   "cell_type": "code",
   "execution_count": 1,
   "id": "0ed3403a",
   "metadata": {},
   "outputs": [],
   "source": [
    "#scene = icn3dpy.view(q='mmdbafid=1ETS',command='load mmdb 1ets | parameters &mmdbid=1ets&bu=1; defined sets; select sets chemicals; set background white; style chemicals ball and stick; set surface wireframe on; set surface wireframe on; style proteins cylinder and plate; style proteins cylinder and plate; defined sets; select sets 1ETS; style proteins cylinder and plate; color secondary structure yellow|||{\"factor\":\"1.000\",\"mouseChange\":{\"x\":\"0.000\",\"y\":\"0.000\"},\"quaternion\":{\"_x\":\"0.000\",\"_y\":\"0.000\",\"_z\":\"0.000\",\"_w\":\"1.000\"}}')\n",
    "#scene"
   ]
  },
  {
   "cell_type": "markdown",
   "id": "e670f0b9",
   "metadata": {},
   "source": [
    "### Teasing apart the command set from the [iCN3D page for PDB ID 1ETS](https://structure.ncbi.nlm.nih.gov/icn3d/share.html?TmUEcZr72jbmKirq9)\n",
    "\n",
    "If you explore the collected list of commands we extracted from the iCN3D page, you can see that the PDB ID was used three times:\n",
    "\n",
    "1. in the form of mmdbafid=1ETS early in the line of code *icn3dpy.view(q = 'mmdbafid=1ETS')*\n",
    "2. in the form of 1ets in the phrase *load mmdb 1ets*\n",
    "3. in the form of 1ets in the phrase *&mmdbid=1ets&bu=1*\n",
    "\n",
    "We are going to substitute variables in this command set so that you could generate the same view for almost any PDB entry. Remember that this set of commands is a string, so we have to be careful with the syntax. "
   ]
  },
  {
   "cell_type": "code",
   "execution_count": 2,
   "id": "258fff07",
   "metadata": {},
   "outputs": [],
   "source": [
    "import icn3dpy\n",
    "\n",
    "# ID = '8gch' # to be used each time you call a structure\n",
    "# scene = icn3dpy.view(q='mmdbafid=' + ID ,command='load mmdb' + ID + '| parameters &mmdbid=' + ID + '&bu=1; defined sets; select sets chemicals; set background white; style chemicals ball and stick; set surface wireframe on; set surface wireframe on; style proteins cylinder and plate; style proteins cylinder and plate; defined sets; select sets 1ETS; style proteins cylinder and plate; color secondary structure yellow|||{\"factor\":\"1.000\",\"mouseChange\":{\"x\":\"0.000\",\"y\":\"0.000\"},\"quaternion\":{\"_x\":\"0.000\",\"_y\":\"0.000\",\"_z\":\"0.000\",\"_w\":\"1.000\"}}')\n",
    "# scene"
   ]
  },
  {
   "cell_type": "markdown",
   "id": "d2902f67",
   "metadata": {},
   "source": [
    "# Creating functions based on preferred command sets generated from iCN3D web pages\n",
    "\n",
    "The use of variables to control the appearance of any PDB entry is pretty cool. Wouldn't it be great if you could enter a simple command with a PDB ID and have it do this? We can if we define and use a `function`. Here is some text from nonlinear regression part 2 to remind us how to work with functions. \n",
    "\n",
    "In Python, the following syntax is used to declare a function:\n",
    "\n",
    "```python\n",
    "def function_name(independent_variable, parameter1, parameter2):\n",
    "    ** function body code **\n",
    "    return value_to_return\n",
    "```\n",
    "\n",
    "Functions are defined using the `def` keyword, followed by the name of the function. The function may have independent variable(s) and parameters which are passed to it; these are in parenthesis following the function name. You then add a colon after the parentheses. This causes the function body code to indent in a Jupyter notebook coding cell. In certain cases, a function may have no parameters as well. Most (though not all) functions return some type of information. It is important to note here that defining a function does not execute it.\n",
    "\n",
    "Now we will create a function for a predesigned view in an iCN3D cell in a Jupyter notebook, using the code from the [iCN3D page for PDB ID 1ETS](https://structure.ncbi.nlm.nih.gov/icn3d/share.html?TmUEcZr72jbmKirq9)."
   ]
  },
  {
   "cell_type": "code",
   "execution_count": 10,
   "id": "4cfcfff7",
   "metadata": {},
   "outputs": [],
   "source": [
    "def myview1(PDB_ID):\n",
    "    PDB_ID = str(PDB_ID)\n",
    "    scene = icn3dpy.view(q='mmdbafid=' + PDB_ID,command='load mmdb' + PDB_ID + '| parameters &mmdbid=' + PDB_ID + '&bu=1; defined sets; select sets chemicals; set background white; style chemicals ball and stick; set surface wireframe on; set surface wireframe on; style proteins cylinder and plate; style proteins cylinder and plate; defined sets; select sets 1ETS; style proteins cylinder and plate; color secondary structure yellow|||{\"factor\":\"1.000\",\"mouseChange\":{\"x\":\"0.000\",\"y\":\"0.000\"},\"quaternion\":{\"_x\":\"0.000\",\"_y\":\"0.000\",\"_z\":\"0.000\",\"_w\":\"1.000\"}}')\n",
    "    return scene"
   ]
  },
  {
   "cell_type": "code",
   "execution_count": 26,
   "id": "1700a747",
   "metadata": {},
   "outputs": [
    {
     "name": "stdout",
     "output_type": "stream",
     "text": [
      "1a0j\n",
      "8gch\n",
      "8tim\n",
      "4hhb\n",
      "1mbn\n",
      "1d66\n"
     ]
    }
   ],
   "source": [
    "IDs = ['1a0j', '8gch', '8tim', '4hhb', '1mbn', '1d66']\n",
    "\n",
    "# scene = icn3dpy.view(q='mmdbafid=' + IDs[0],command='load mmdb' + IDs[0] + '| parameters &mmdbid=' + IDs[0] + '&bu=1; defined sets; select sets chemicals; set background white; style chemicals ball and stick; set surface wireframe on; set surface wireframe on; style proteins cylinder and plate; style proteins cylinder and plate; defined sets; select sets 1ETS; style proteins cylinder and plate; color secondary structure yellow|||{\"factor\":\"1.000\",\"mouseChange\":{\"x\":\"0.000\",\"y\":\"0.000\"},\"quaternion\":{\"_x\":\"0.000\",\"_y\":\"0.000\",\"_z\":\"0.000\",\"_w\":\"1.000\"}}')\n",
    "# scene\n",
    "\n",
    "# PDB_ID = '1ETS' # Also try 1d66\n",
    "# myview1(PDB_ID)\n",
    "\n",
    "#for item in IDs:\n",
    "#    scene = icn3dpy.view(q='mmdbafid=' + ID,command='load mmdb' + ID + '| parameters &mmdbid=' + ID + '&bu=1; defined sets; select sets chemicals; set background white; style chemicals ball and stick; set surface wireframe on; set surface wireframe on; style proteins cylinder and plate; style proteins cylinder and plate; defined sets; select sets 1ETS; style proteins cylinder and plate; color secondary structure yellow|||{\"factor\":\"1.000\",\"mouseChange\":{\"x\":\"0.000\",\"y\":\"0.000\"},\"quaternion\":{\"_x\":\"0.000\",\"_y\":\"0.000\",\"_z\":\"0.000\",\"_w\":\"1.000\"}}')\n",
    "#    print(item)\n",
    "#    scene\n",
    "    \n",
    "for item in IDs:\n",
    "    scene = icn3dpy.view(q='mmdbid=' + item,command='style proteins cylinder and plate; color secondary structure yellow; color secondary structure green; rotate left; set background grey; export canvas 1|||{\"factor\":\"1.000\",\"mouseChange\":{\"x\":\"0.000\",\"y\":\"0.000\"},\"quaternion\":{\"_x\":\"0.000\",\"_y\":\"-0.9744\",\"_z\":\"0.000\",\"_w\":\"-0.2250\"}}')\n",
    "    scene\n",
    "    print(item)"
   ]
  },
  {
   "cell_type": "markdown",
   "id": "429063c9",
   "metadata": {},
   "source": [
    "<div class=\"exercise-this-is-a-title exercise\">\n",
    "<p class=\"exercise-title\"><b>Exercise</b></p>\n",
    "    <p>Create an iCN3D visualization on an <a href=\"https://www.ncbi.nlm.nih.gov/Structure/icn3d/full.html\">iCN3D web page</a>, using PDB entry 1ETS. Here is a suggestion, but you can try anything you like, especially if you are familiar with iCN3D. Once you have the view you like, capture the commands and transfer them to a new cell in this Jupyter notebook. </p>\n",
    "    \n",
    "    <ul>\n",
    "        <li>Style > Proteins > Strand</li>\n",
    "        <li>Color > Secondary > Sheet in Yellow</li>\n",
    "        <li>Style > Background > Gray</li>\n",
    "    \n",
    "```{admonition} Solution\n",
    ":class: dropdown\n",
    "\n",
    "```python\n",
    "# On the iCN3D page: File > Share Link > click the Copy Commands button under 2. Commands Used in Jupyter Noteboook\n",
    "view = icn3dpy.view(q='mmdbafid=1ETS',command='color secondary structure yellow; style proteins strand; style proteins strand|||{\"factor\":\"1.000\",\"mouseChange\":{\"x\":\"0.000\",\"y\":\"0.000\"},\"quaternion\":{\"_x\":\"0.000\",\"_y\":\"0.000\",\"_z\":\"0.000\",\"_w\":\"1.000\"}}')\n",
    "view      \n",
    "```\n",
    "    \n",
    "</div>"
   ]
  },
  {
   "cell_type": "code",
   "execution_count": 3,
   "id": "8b188c3f",
   "metadata": {},
   "outputs": [],
   "source": [
    "view = icn3dpy.view(q='mmdbid=1a0j',command='style proteins cylinder and plate; color secondary structure yellow; color secondary structure green; rotate left; set background grey; export canvas 1|||{\"factor\":\"1.000\",\"mouseChange\":{\"x\":\"0.000\",\"y\":\"0.000\"},\"quaternion\":{\"_x\":\"0.000\",\"_y\":\"-0.9744\",\"_z\":\"0.000\",\"_w\":\"-0.2250\"}}')\n",
    "# view"
   ]
  },
  {
   "cell_type": "code",
   "execution_count": 16,
   "id": "80beaddd",
   "metadata": {},
   "outputs": [],
   "source": [
    "# view = icn3dpy.view(q='mmdbafid=1ETS',command='color secondary structure yellow; style proteins strand; style proteins strand; set background white; set background grey; set background transparent; set background grey|||{\"factor\":\"1.000\",\"mouseChange\":{\"x\":\"0.000\",\"y\":\"0.000\"},\"quaternion\":{\"_x\":\"0.000\",\"_y\":\"0.000\",\"_z\":\"0.000\",\"_w\":\"1.000\"}}')\n",
    "# view"
   ]
  },
  {
   "cell_type": "markdown",
   "id": "1a64ad59",
   "metadata": {},
   "source": [
    "### Take Home Exercise\n",
    "\n",
    "Create two or more views on an [iCN3D web page](https://www.ncbi.nlm.nih.gov/Structure/icn3d/full.html) that you would like to use frequently in your research or teaching. For example, you might have one preferred view for an enzyme, another for a transcription factor bound to DNA, and a third to illustrate an antibody/antigen interaction. Once you have completed one of the views, transfer those commands into a Jupyter notebook you could use for any structure. Try them on multiple different structures. *Advanced*: Create and name variables (or even a `function`) that represents each of your preferred views and change the structure simply by entering the PDB ID in the cell."
   ]
  },
  {
   "cell_type": "code",
   "execution_count": 7,
   "id": "edfe5bbb",
   "metadata": {},
   "outputs": [
    {
     "data": {
      "application/3dmoljs_load.v0": "<div id=\"icn3dviewer1707233000461344\" style=\"position: relative; width: 640px; min-height: 530px; height: auto\">\n        <p id=\"icn3dwarning1707233000461344\" style=\"background-color:#ffcccc;color:black\">You appear to be running in JupyterLab (or JavaScript failed to load for some other reason).  You need to install the extension: <br>\n        <tt>jupyter labextension install jupyterlab_3dmol</tt></p>\n        </div>\n<script>\n\nvar loadScriptAsync = function(uri){\n  return new Promise((resolve, reject) => {\n    var tag = document.createElement('script');\n    tag.src = uri;\n    //tag.async = true;\n    tag.onload = () => {\n      resolve();\n    };\n  var firstScriptTag = document.getElementsByTagName('link')[0];\n  firstScriptTag.parentNode.insertBefore(tag, firstScriptTag);\n  });\n};\n\nvar loadCssAsync = function(uri){\n  return new Promise((resolve, reject) => {\nvar tag = document.createElement('link');\ntag.rel = 'stylesheet';\ntag.href = uri;\n//tag.async = true;\ntag.onload = () => {\n  resolve();\n};\nvar firstScriptTag = document.getElementsByTagName('script')[0];\nfirstScriptTag.parentNode.insertBefore(tag, firstScriptTag);\n  });\n};\n\nif(typeof js === 'undefined') {\n  js = loadScriptAsync(\"https://www.ncbi.nlm.nih.gov/Structure/icn3d/es5/icn3d_all_full.min.js\");\n  \n  css1 = loadCssAsync(\"https://www.ncbi.nlm.nih.gov/Structure/icn3d/lib/jquery-ui-1.13.2.min.css\");\n  css2 = loadCssAsync(\"https://www.ncbi.nlm.nih.gov/Structure/icn3d/icn3d.css\");\n}\n\nvar viewer1707233000461344 = null;\nvar warn = document.getElementById(\"icn3dwarning1707233000461344\");\nif(warn) {\n    warn.parentNode.removeChild(warn);\n}\n\ncss1\n.then(function() { return css2; })\n.then(function() { return js; })\n.then(function() {\ncfg = {divid: \"icn3dviewer1707233000461344\", idname: \"pdbid\", idvalue: \"1pq5\", pdbid: \"1pq5\", width: \"640px\", height: \"480px\", mobilemenu: 1, notebook: 1, command: 'color secondary structure yellow; set annotation cdd; view annotations; set view detailed view; select .A:56 or .A:99 or .A:195 | name seq_1; defined sets; select sets seq_1; style sidec ball and stick2|||{\"factor\":\"0.8623\",\"mouseChange\":{\"x\":\"0.000\",\"y\":\"0.000\"},\"quaternion\":{\"_x\":\"-0.04644\",\"_y\":\"0.7588\",\"_z\":\"0.1233\",\"_w\":\"0.6378\"}}', };\nviewer1707233000461344 = new icn3d.iCn3DUI(cfg);\nviewer1707233000461344.show3DStructure(cfg.pdb);\n});\n</script>",
      "text/html": [
       "<div id=\"icn3dviewer1707233000461344\" style=\"position: relative; width: 640px; min-height: 530px; height: auto\">\n",
       "        <p id=\"icn3dwarning1707233000461344\" style=\"background-color:#ffcccc;color:black\">You appear to be running in JupyterLab (or JavaScript failed to load for some other reason).  You need to install the extension: <br>\n",
       "        <tt>jupyter labextension install jupyterlab_3dmol</tt></p>\n",
       "        </div>\n",
       "<script>\n",
       "\n",
       "var loadScriptAsync = function(uri){\n",
       "  return new Promise((resolve, reject) => {\n",
       "    var tag = document.createElement('script');\n",
       "    tag.src = uri;\n",
       "    //tag.async = true;\n",
       "    tag.onload = () => {\n",
       "      resolve();\n",
       "    };\n",
       "  var firstScriptTag = document.getElementsByTagName('link')[0];\n",
       "  firstScriptTag.parentNode.insertBefore(tag, firstScriptTag);\n",
       "  });\n",
       "};\n",
       "\n",
       "var loadCssAsync = function(uri){\n",
       "  return new Promise((resolve, reject) => {\n",
       "var tag = document.createElement('link');\n",
       "tag.rel = 'stylesheet';\n",
       "tag.href = uri;\n",
       "//tag.async = true;\n",
       "tag.onload = () => {\n",
       "  resolve();\n",
       "};\n",
       "var firstScriptTag = document.getElementsByTagName('script')[0];\n",
       "firstScriptTag.parentNode.insertBefore(tag, firstScriptTag);\n",
       "  });\n",
       "};\n",
       "\n",
       "if(typeof js === 'undefined') {\n",
       "  js = loadScriptAsync(\"https://www.ncbi.nlm.nih.gov/Structure/icn3d/es5/icn3d_all_full.min.js\");\n",
       "  \n",
       "  css1 = loadCssAsync(\"https://www.ncbi.nlm.nih.gov/Structure/icn3d/lib/jquery-ui-1.13.2.min.css\");\n",
       "  css2 = loadCssAsync(\"https://www.ncbi.nlm.nih.gov/Structure/icn3d/icn3d.css\");\n",
       "}\n",
       "\n",
       "var viewer1707233000461344 = null;\n",
       "var warn = document.getElementById(\"icn3dwarning1707233000461344\");\n",
       "if(warn) {\n",
       "    warn.parentNode.removeChild(warn);\n",
       "}\n",
       "\n",
       "css1\n",
       ".then(function() { return css2; })\n",
       ".then(function() { return js; })\n",
       ".then(function() {\n",
       "cfg = {divid: \"icn3dviewer1707233000461344\", idname: \"pdbid\", idvalue: \"1pq5\", pdbid: \"1pq5\", width: \"640px\", height: \"480px\", mobilemenu: 1, notebook: 1, command: 'color secondary structure yellow; set annotation cdd; view annotations; set view detailed view; select .A:56 or .A:99 or .A:195 | name seq_1; defined sets; select sets seq_1; style sidec ball and stick2|||{\"factor\":\"0.8623\",\"mouseChange\":{\"x\":\"0.000\",\"y\":\"0.000\"},\"quaternion\":{\"_x\":\"-0.04644\",\"_y\":\"0.7588\",\"_z\":\"0.1233\",\"_w\":\"0.6378\"}}', };\n",
       "viewer1707233000461344 = new icn3d.iCn3DUI(cfg);\n",
       "viewer1707233000461344.show3DStructure(cfg.pdb);\n",
       "});\n",
       "</script>"
      ]
     },
     "metadata": {},
     "output_type": "display_data"
    },
    {
     "data": {
      "text/plain": [
       "<icn3dpy.view at 0x7f8d70533310>"
      ]
     },
     "execution_count": 7,
     "metadata": {},
     "output_type": "execute_result"
    }
   ],
   "source": [
    "seq_1 = '.A:56 or .A:99 or .A:195'\n",
    "\n",
    "view = icn3dpy.view(q='pdbid=1pq5',command='color secondary structure yellow; set annotation cdd; view annotations; set view detailed view; select '+seq_1+' | name seq_1; defined sets; select sets seq_1; style sidec ball and stick2|||{\"factor\":\"0.8623\",\"mouseChange\":{\"x\":\"0.000\",\"y\":\"0.000\"},\"quaternion\":{\"_x\":\"-0.04644\",\"_y\":\"0.7588\",\"_z\":\"0.1233\",\"_w\":\"0.6378\"}}')\n",
    "view"
   ]
  },
  {
   "cell_type": "code",
   "execution_count": null,
   "id": "7ac77f06",
   "metadata": {},
   "outputs": [],
   "source": []
  }
 ],
 "metadata": {
  "kernelspec": {
   "display_name": "Python 3 (ipykernel)",
   "language": "python",
   "name": "python3"
  },
  "language_info": {
   "codemirror_mode": {
    "name": "ipython",
    "version": 3
   },
   "file_extension": ".py",
   "mimetype": "text/x-python",
   "name": "python",
   "nbconvert_exporter": "python",
   "pygments_lexer": "ipython3",
   "version": "3.10.9"
  }
 },
 "nbformat": 4,
 "nbformat_minor": 5
}
