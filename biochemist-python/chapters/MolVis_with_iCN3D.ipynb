{
 "cells": [
  {
   "cell_type": "markdown",
   "id": "667a2266-cb12-4121-a78a-1fb24721dea5",
   "metadata": {},
   "source": [
    "## Molecular Visualization with iCN3D\n",
    "### Overview\n",
    "#### Questions\n",
    "1. How do you incorporate iCN3D into a Jupyter Notebook?\n",
    "1. How do you view structures from PDB files in iCN3D?  \n",
    "1. How do you superimpose structures in iCN3D in a Jupyter Notebook?\n",
    "1. How can you control the renderings of features of a protein in iCN3D?\n",
    "\n",
    "#### Objectives\n",
    "\n",
    "- Learn to load the iCN3D app\n",
    "- Identify controls that are available within the iCN3D window in a Jupyter Notebook\n",
    "- Implement commands captured from an iCN3D web page in a Jupyter notebook."
   ]
  },
  {
   "cell_type": "markdown",
   "id": "5f44082a-4b81-4554-8178-113fecd73685",
   "metadata": {},
   "source": [
    "## iCN3D and Molecular Visualization\n",
    "iCN3D is a molecular viewer that is provided by the National Center for Biotechnology Information and integrated into many of their web pages. Here is a [link](https://www.ncbi.nlm.nih.gov/Structure/icn3d/full.html) that enables you to open an iCN3D web page and load a PDB structure of interest. In fact, Henry Jakubowski has created an extensive collection of [iCN3D web pages](https://bio.libretexts.org/Learning_Objects/Visualizations_and_Simulations/Biochemistry-iCn3D_Molecular_Models) to support his [Biochemistry textbook offered through Libretext](https://bio.libretexts.org/Bookshelves/Biochemistry). \n",
    "\n",
    "### Loading the iCN3D library\n",
    "As we have seen previously, the `import` command is used to load iCN3D into your Jupyter notebook. Be careful to use the exact name of the library, all in lower case letters."
   ]
  },
  {
   "cell_type": "code",
   "execution_count": 1,
   "id": "ecfadfa2-ed31-4876-bf60-750bcb95619d",
   "metadata": {},
   "outputs": [],
   "source": [
    "import icn3dpy"
   ]
  },
  {
   "cell_type": "markdown",
   "id": "856c9139-96dd-4c9f-ae57-db81d5578e50",
   "metadata": {},
   "source": [
    "### Viewing a PDB structure\n",
    "As a first step, we will simply load a PDB structure in the default representation provided when you use the icn3dpy.view command for Jupyter notebooks. Please note that you can substitute in any structure id of interest using the format 'pdbid = xxxx'. If you have a favorite structure, use that instead of 1a0j."
   ]
  },
  {
   "cell_type": "code",
   "execution_count": 5,
   "id": "ba4a7cad-be45-4200-b696-b129cee16335",
   "metadata": {},
   "outputs": [
    {
     "data": {
      "application/3dmoljs_load.v0": "<div id=\"icn3dviewer1681313618935416\" style=\"position: relative; width: 640px; min-height: 580px; height: auto\">\n        <p id=\"icn3dwarning1681313618935416\" style=\"background-color:#ffcccc;color:black\">You appear to be running in JupyterLab (or JavaScript failed to load for some other reason).  You need to install the extension: <br>\n        <tt>jupyter labextension install jupyterlab_3dmol</tt></p>\n        </div>\n<script>\n\nvar loadScriptAsync = function(uri){\n  return new Promise((resolve, reject) => {\n    var tag = document.createElement('script');\n    tag.src = uri;\n    //tag.async = true;\n    tag.onload = () => {\n      resolve();\n    };\n  var firstScriptTag = document.getElementsByTagName('link')[0];\n  firstScriptTag.parentNode.insertBefore(tag, firstScriptTag);\n  });\n};\n\nvar loadCssAsync = function(uri){\n  return new Promise((resolve, reject) => {\nvar tag = document.createElement('link');\ntag.rel = 'stylesheet';\ntag.href = uri;\n//tag.async = true;\ntag.onload = () => {\n  resolve();\n};\nvar firstScriptTag = document.getElementsByTagName('script')[0];\nfirstScriptTag.parentNode.insertBefore(tag, firstScriptTag);\n  });\n};\n\nif(typeof js === 'undefined') {\n  js = loadScriptAsync(\"https://www.ncbi.nlm.nih.gov/Structure/icn3d/es5/icn3d_all_full.min.js\");\n  \n  css1 = loadCssAsync(\"https://www.ncbi.nlm.nih.gov/Structure/icn3d/lib/jquery-ui-1.12.1.min.css\");\n  css2 = loadCssAsync(\"https://www.ncbi.nlm.nih.gov/Structure/icn3d/icn3d.css\");\n}\n\nvar viewer1681313618935416 = null;\nvar warn = document.getElementById(\"icn3dwarning1681313618935416\");\nif(warn) {\n    warn.parentNode.removeChild(warn);\n}\n\ncss1\n.then(function() { return css2; })\n.then(function() { return js; })\n.then(function() {\ncfg = {divid: \"icn3dviewer1681313618935416\", pdbid: \"1a0j\", width: \"640px\", height: \"480px\", mobilemenu: 1, notebook: 1, command: '', };\nviewer1681313618935416 = new icn3d.iCn3DUI(cfg);\nviewer1681313618935416.show3DStructure();\n});\n</script>",
      "text/html": [
       "<div id=\"icn3dviewer1681313618935416\" style=\"position: relative; width: 640px; min-height: 580px; height: auto\">\n",
       "        <p id=\"icn3dwarning1681313618935416\" style=\"background-color:#ffcccc;color:black\">You appear to be running in JupyterLab (or JavaScript failed to load for some other reason).  You need to install the extension: <br>\n",
       "        <tt>jupyter labextension install jupyterlab_3dmol</tt></p>\n",
       "        </div>\n",
       "<script>\n",
       "\n",
       "var loadScriptAsync = function(uri){\n",
       "  return new Promise((resolve, reject) => {\n",
       "    var tag = document.createElement('script');\n",
       "    tag.src = uri;\n",
       "    //tag.async = true;\n",
       "    tag.onload = () => {\n",
       "      resolve();\n",
       "    };\n",
       "  var firstScriptTag = document.getElementsByTagName('link')[0];\n",
       "  firstScriptTag.parentNode.insertBefore(tag, firstScriptTag);\n",
       "  });\n",
       "};\n",
       "\n",
       "var loadCssAsync = function(uri){\n",
       "  return new Promise((resolve, reject) => {\n",
       "var tag = document.createElement('link');\n",
       "tag.rel = 'stylesheet';\n",
       "tag.href = uri;\n",
       "//tag.async = true;\n",
       "tag.onload = () => {\n",
       "  resolve();\n",
       "};\n",
       "var firstScriptTag = document.getElementsByTagName('script')[0];\n",
       "firstScriptTag.parentNode.insertBefore(tag, firstScriptTag);\n",
       "  });\n",
       "};\n",
       "\n",
       "if(typeof js === 'undefined') {\n",
       "  js = loadScriptAsync(\"https://www.ncbi.nlm.nih.gov/Structure/icn3d/es5/icn3d_all_full.min.js\");\n",
       "  \n",
       "  css1 = loadCssAsync(\"https://www.ncbi.nlm.nih.gov/Structure/icn3d/lib/jquery-ui-1.12.1.min.css\");\n",
       "  css2 = loadCssAsync(\"https://www.ncbi.nlm.nih.gov/Structure/icn3d/icn3d.css\");\n",
       "}\n",
       "\n",
       "var viewer1681313618935416 = null;\n",
       "var warn = document.getElementById(\"icn3dwarning1681313618935416\");\n",
       "if(warn) {\n",
       "    warn.parentNode.removeChild(warn);\n",
       "}\n",
       "\n",
       "css1\n",
       ".then(function() { return css2; })\n",
       ".then(function() { return js; })\n",
       ".then(function() {\n",
       "cfg = {divid: \"icn3dviewer1681313618935416\", pdbid: \"1a0j\", width: \"640px\", height: \"480px\", mobilemenu: 1, notebook: 1, command: '', };\n",
       "viewer1681313618935416 = new icn3d.iCn3DUI(cfg);\n",
       "viewer1681313618935416.show3DStructure();\n",
       "});\n",
       "</script>"
      ]
     },
     "metadata": {},
     "output_type": "display_data"
    },
    {
     "data": {
      "text/plain": [
       "<icn3dpy.view at 0x7ff070525070>"
      ]
     },
     "execution_count": 5,
     "metadata": {},
     "output_type": "execute_result"
    }
   ],
   "source": [
    "scene = icn3dpy.view(q='pdbid=1a0j')\n",
    "scene"
   ]
  },
  {
   "cell_type": "markdown",
   "id": "968f3b42-de02-4d6e-81f1-4df474d8fc16",
   "metadata": {},
   "source": [
    "### Applying the power of python\n",
    "The above approach offers no real advantages over simply using an [iCN3D web page](https://www.ncbi.nlm.nih.gov/Structure/icn3d/full.html) to view your structure, so we are going to create some variables and functions that will enable you to quickly generate your desired views of many different PDB entries using simple commands. Let's start with variables. The icn3dpy.view() command requires the definition of a variable `q` in the statement. In this example, the string `pdbid=1a0j` is assigned to the variable q.\n",
    "\n",
    "```python\n",
    "view = icn3dpy.view(q='pdbid=1a0j')\n",
    "view\n",
    "```\n",
    "\n",
    "This can be replaced with another variable that contains the string. Let's try that."
   ]
  },
  {
   "cell_type": "code",
   "execution_count": 6,
   "id": "426a29f6-d21b-4369-ac89-c61fc15c4232",
   "metadata": {},
   "outputs": [
    {
     "data": {
      "application/3dmoljs_load.v0": "<div id=\"icn3dviewer168131377964705\" style=\"position: relative; width: 640px; min-height: 580px; height: auto\">\n        <p id=\"icn3dwarning168131377964705\" style=\"background-color:#ffcccc;color:black\">You appear to be running in JupyterLab (or JavaScript failed to load for some other reason).  You need to install the extension: <br>\n        <tt>jupyter labextension install jupyterlab_3dmol</tt></p>\n        </div>\n<script>\n\nvar loadScriptAsync = function(uri){\n  return new Promise((resolve, reject) => {\n    var tag = document.createElement('script');\n    tag.src = uri;\n    //tag.async = true;\n    tag.onload = () => {\n      resolve();\n    };\n  var firstScriptTag = document.getElementsByTagName('link')[0];\n  firstScriptTag.parentNode.insertBefore(tag, firstScriptTag);\n  });\n};\n\nvar loadCssAsync = function(uri){\n  return new Promise((resolve, reject) => {\nvar tag = document.createElement('link');\ntag.rel = 'stylesheet';\ntag.href = uri;\n//tag.async = true;\ntag.onload = () => {\n  resolve();\n};\nvar firstScriptTag = document.getElementsByTagName('script')[0];\nfirstScriptTag.parentNode.insertBefore(tag, firstScriptTag);\n  });\n};\n\nif(typeof js === 'undefined') {\n  js = loadScriptAsync(\"https://www.ncbi.nlm.nih.gov/Structure/icn3d/es5/icn3d_all_full.min.js\");\n  \n  css1 = loadCssAsync(\"https://www.ncbi.nlm.nih.gov/Structure/icn3d/lib/jquery-ui-1.12.1.min.css\");\n  css2 = loadCssAsync(\"https://www.ncbi.nlm.nih.gov/Structure/icn3d/icn3d.css\");\n}\n\nvar viewer168131377964705 = null;\nvar warn = document.getElementById(\"icn3dwarning168131377964705\");\nif(warn) {\n    warn.parentNode.removeChild(warn);\n}\n\ncss1\n.then(function() { return css2; })\n.then(function() { return js; })\n.then(function() {\ncfg = {divid: \"icn3dviewer168131377964705\", pdbid: \"8gch\", width: \"640px\", height: \"480px\", mobilemenu: 1, notebook: 1, command: '', };\nviewer168131377964705 = new icn3d.iCn3DUI(cfg);\nviewer168131377964705.show3DStructure();\n});\n</script>",
      "text/html": [
       "<div id=\"icn3dviewer168131377964705\" style=\"position: relative; width: 640px; min-height: 580px; height: auto\">\n",
       "        <p id=\"icn3dwarning168131377964705\" style=\"background-color:#ffcccc;color:black\">You appear to be running in JupyterLab (or JavaScript failed to load for some other reason).  You need to install the extension: <br>\n",
       "        <tt>jupyter labextension install jupyterlab_3dmol</tt></p>\n",
       "        </div>\n",
       "<script>\n",
       "\n",
       "var loadScriptAsync = function(uri){\n",
       "  return new Promise((resolve, reject) => {\n",
       "    var tag = document.createElement('script');\n",
       "    tag.src = uri;\n",
       "    //tag.async = true;\n",
       "    tag.onload = () => {\n",
       "      resolve();\n",
       "    };\n",
       "  var firstScriptTag = document.getElementsByTagName('link')[0];\n",
       "  firstScriptTag.parentNode.insertBefore(tag, firstScriptTag);\n",
       "  });\n",
       "};\n",
       "\n",
       "var loadCssAsync = function(uri){\n",
       "  return new Promise((resolve, reject) => {\n",
       "var tag = document.createElement('link');\n",
       "tag.rel = 'stylesheet';\n",
       "tag.href = uri;\n",
       "//tag.async = true;\n",
       "tag.onload = () => {\n",
       "  resolve();\n",
       "};\n",
       "var firstScriptTag = document.getElementsByTagName('script')[0];\n",
       "firstScriptTag.parentNode.insertBefore(tag, firstScriptTag);\n",
       "  });\n",
       "};\n",
       "\n",
       "if(typeof js === 'undefined') {\n",
       "  js = loadScriptAsync(\"https://www.ncbi.nlm.nih.gov/Structure/icn3d/es5/icn3d_all_full.min.js\");\n",
       "  \n",
       "  css1 = loadCssAsync(\"https://www.ncbi.nlm.nih.gov/Structure/icn3d/lib/jquery-ui-1.12.1.min.css\");\n",
       "  css2 = loadCssAsync(\"https://www.ncbi.nlm.nih.gov/Structure/icn3d/icn3d.css\");\n",
       "}\n",
       "\n",
       "var viewer168131377964705 = null;\n",
       "var warn = document.getElementById(\"icn3dwarning168131377964705\");\n",
       "if(warn) {\n",
       "    warn.parentNode.removeChild(warn);\n",
       "}\n",
       "\n",
       "css1\n",
       ".then(function() { return css2; })\n",
       ".then(function() { return js; })\n",
       ".then(function() {\n",
       "cfg = {divid: \"icn3dviewer168131377964705\", pdbid: \"8gch\", width: \"640px\", height: \"480px\", mobilemenu: 1, notebook: 1, command: '', };\n",
       "viewer168131377964705 = new icn3d.iCn3DUI(cfg);\n",
       "viewer168131377964705.show3DStructure();\n",
       "});\n",
       "</script>"
      ]
     },
     "metadata": {},
     "output_type": "display_data"
    },
    {
     "data": {
      "text/plain": [
       "<icn3dpy.view at 0x7ff070525c40>"
      ]
     },
     "execution_count": 6,
     "metadata": {},
     "output_type": "execute_result"
    }
   ],
   "source": [
    "# Replacing the 'pdbid=1a0j' string with a variable\n",
    "ID = 'pdbid=8gch'\n",
    "scene = icn3dpy.view(q=ID)\n",
    "scene"
   ]
  },
  {
   "cell_type": "markdown",
   "id": "e6637c10-2136-4bfd-977f-335e5c395cb4",
   "metadata": {},
   "source": [
    "### Adding commands to the icn3dpy.view function\n",
    "It is possible to add commands to the icn3dpy.view function to create a different view. You can find a list of commands on the [iCN3D menuicon page](https://www.ncbi.nlm.nih.gov/Structure/icn3d/icn3d.html#commands). Let's consider a few examples and then explore additional ways to control them."
   ]
  },
  {
   "cell_type": "code",
   "execution_count": null,
   "id": "c582fb0b-2554-47af-b1ce-97f2188f04fa",
   "metadata": {},
   "outputs": [],
   "source": [
    "# Adding this command string with the syntax shown to change the appearance\n",
    "# of the protein from strands to cylinder and plate"
   ]
  },
  {
   "cell_type": "code",
   "execution_count": 12,
   "id": "41c454bb-1484-43b7-be88-c6b645721ff7",
   "metadata": {},
   "outputs": [
    {
     "data": {
      "application/3dmoljs_load.v0": "<div id=\"icn3dviewer16813185929293041\" style=\"position: relative; width: 640px; min-height: 580px; height: auto\">\n        <p id=\"icn3dwarning16813185929293041\" style=\"background-color:#ffcccc;color:black\">You appear to be running in JupyterLab (or JavaScript failed to load for some other reason).  You need to install the extension: <br>\n        <tt>jupyter labextension install jupyterlab_3dmol</tt></p>\n        </div>\n<script>\n\nvar loadScriptAsync = function(uri){\n  return new Promise((resolve, reject) => {\n    var tag = document.createElement('script');\n    tag.src = uri;\n    //tag.async = true;\n    tag.onload = () => {\n      resolve();\n    };\n  var firstScriptTag = document.getElementsByTagName('link')[0];\n  firstScriptTag.parentNode.insertBefore(tag, firstScriptTag);\n  });\n};\n\nvar loadCssAsync = function(uri){\n  return new Promise((resolve, reject) => {\nvar tag = document.createElement('link');\ntag.rel = 'stylesheet';\ntag.href = uri;\n//tag.async = true;\ntag.onload = () => {\n  resolve();\n};\nvar firstScriptTag = document.getElementsByTagName('script')[0];\nfirstScriptTag.parentNode.insertBefore(tag, firstScriptTag);\n  });\n};\n\nif(typeof js === 'undefined') {\n  js = loadScriptAsync(\"https://www.ncbi.nlm.nih.gov/Structure/icn3d/es5/icn3d_all_full.min.js\");\n  \n  css1 = loadCssAsync(\"https://www.ncbi.nlm.nih.gov/Structure/icn3d/lib/jquery-ui-1.12.1.min.css\");\n  css2 = loadCssAsync(\"https://www.ncbi.nlm.nih.gov/Structure/icn3d/icn3d.css\");\n}\n\nvar viewer16813185929293041 = null;\nvar warn = document.getElementById(\"icn3dwarning16813185929293041\");\nif(warn) {\n    warn.parentNode.removeChild(warn);\n}\n\ncss1\n.then(function() { return css2; })\n.then(function() { return js; })\n.then(function() {\ncfg = {divid: \"icn3dviewer16813185929293041\", pdbid: \"1mbo\", width: \"640px\", height: \"480px\", mobilemenu: 1, notebook: 1, command: 'style proteins cylinder and plate', };\nviewer16813185929293041 = new icn3d.iCn3DUI(cfg);\nviewer16813185929293041.show3DStructure();\n});\n</script>",
      "text/html": [
       "<div id=\"icn3dviewer16813185929293041\" style=\"position: relative; width: 640px; min-height: 580px; height: auto\">\n",
       "        <p id=\"icn3dwarning16813185929293041\" style=\"background-color:#ffcccc;color:black\">You appear to be running in JupyterLab (or JavaScript failed to load for some other reason).  You need to install the extension: <br>\n",
       "        <tt>jupyter labextension install jupyterlab_3dmol</tt></p>\n",
       "        </div>\n",
       "<script>\n",
       "\n",
       "var loadScriptAsync = function(uri){\n",
       "  return new Promise((resolve, reject) => {\n",
       "    var tag = document.createElement('script');\n",
       "    tag.src = uri;\n",
       "    //tag.async = true;\n",
       "    tag.onload = () => {\n",
       "      resolve();\n",
       "    };\n",
       "  var firstScriptTag = document.getElementsByTagName('link')[0];\n",
       "  firstScriptTag.parentNode.insertBefore(tag, firstScriptTag);\n",
       "  });\n",
       "};\n",
       "\n",
       "var loadCssAsync = function(uri){\n",
       "  return new Promise((resolve, reject) => {\n",
       "var tag = document.createElement('link');\n",
       "tag.rel = 'stylesheet';\n",
       "tag.href = uri;\n",
       "//tag.async = true;\n",
       "tag.onload = () => {\n",
       "  resolve();\n",
       "};\n",
       "var firstScriptTag = document.getElementsByTagName('script')[0];\n",
       "firstScriptTag.parentNode.insertBefore(tag, firstScriptTag);\n",
       "  });\n",
       "};\n",
       "\n",
       "if(typeof js === 'undefined') {\n",
       "  js = loadScriptAsync(\"https://www.ncbi.nlm.nih.gov/Structure/icn3d/es5/icn3d_all_full.min.js\");\n",
       "  \n",
       "  css1 = loadCssAsync(\"https://www.ncbi.nlm.nih.gov/Structure/icn3d/lib/jquery-ui-1.12.1.min.css\");\n",
       "  css2 = loadCssAsync(\"https://www.ncbi.nlm.nih.gov/Structure/icn3d/icn3d.css\");\n",
       "}\n",
       "\n",
       "var viewer16813185929293041 = null;\n",
       "var warn = document.getElementById(\"icn3dwarning16813185929293041\");\n",
       "if(warn) {\n",
       "    warn.parentNode.removeChild(warn);\n",
       "}\n",
       "\n",
       "css1\n",
       ".then(function() { return css2; })\n",
       ".then(function() { return js; })\n",
       ".then(function() {\n",
       "cfg = {divid: \"icn3dviewer16813185929293041\", pdbid: \"1mbo\", width: \"640px\", height: \"480px\", mobilemenu: 1, notebook: 1, command: 'style proteins cylinder and plate', };\n",
       "viewer16813185929293041 = new icn3d.iCn3DUI(cfg);\n",
       "viewer16813185929293041.show3DStructure();\n",
       "});\n",
       "</script>"
      ]
     },
     "metadata": {},
     "output_type": "display_data"
    },
    {
     "data": {
      "text/plain": [
       "<icn3dpy.view at 0x7ff070525190>"
      ]
     },
     "execution_count": 12,
     "metadata": {},
     "output_type": "execute_result"
    }
   ],
   "source": [
    "scene = icn3dpy.view(q='pdbid=1mbo', command = 'style proteins cylinder and plate')\n",
    "scene\n",
    "\n"
   ]
  },
  {
   "cell_type": "code",
   "execution_count": 15,
   "id": "25a24105-092c-4693-a33b-fbfa699486e2",
   "metadata": {},
   "outputs": [
    {
     "data": {
      "application/3dmoljs_load.v0": "<div id=\"icn3dviewer16813187240130382\" style=\"position: relative; width: 640px; min-height: 580px; height: auto\">\n        <p id=\"icn3dwarning16813187240130382\" style=\"background-color:#ffcccc;color:black\">You appear to be running in JupyterLab (or JavaScript failed to load for some other reason).  You need to install the extension: <br>\n        <tt>jupyter labextension install jupyterlab_3dmol</tt></p>\n        </div>\n<script>\n\nvar loadScriptAsync = function(uri){\n  return new Promise((resolve, reject) => {\n    var tag = document.createElement('script');\n    tag.src = uri;\n    //tag.async = true;\n    tag.onload = () => {\n      resolve();\n    };\n  var firstScriptTag = document.getElementsByTagName('link')[0];\n  firstScriptTag.parentNode.insertBefore(tag, firstScriptTag);\n  });\n};\n\nvar loadCssAsync = function(uri){\n  return new Promise((resolve, reject) => {\nvar tag = document.createElement('link');\ntag.rel = 'stylesheet';\ntag.href = uri;\n//tag.async = true;\ntag.onload = () => {\n  resolve();\n};\nvar firstScriptTag = document.getElementsByTagName('script')[0];\nfirstScriptTag.parentNode.insertBefore(tag, firstScriptTag);\n  });\n};\n\nif(typeof js === 'undefined') {\n  js = loadScriptAsync(\"https://www.ncbi.nlm.nih.gov/Structure/icn3d/es5/icn3d_all_full.min.js\");\n  \n  css1 = loadCssAsync(\"https://www.ncbi.nlm.nih.gov/Structure/icn3d/lib/jquery-ui-1.12.1.min.css\");\n  css2 = loadCssAsync(\"https://www.ncbi.nlm.nih.gov/Structure/icn3d/icn3d.css\");\n}\n\nvar viewer16813187240130382 = null;\nvar warn = document.getElementById(\"icn3dwarning16813187240130382\");\nif(warn) {\n    warn.parentNode.removeChild(warn);\n}\n\ncss1\n.then(function() { return css2; })\n.then(function() { return js; })\n.then(function() {\ncfg = {divid: \"icn3dviewer16813187240130382\", pdbid: \"1mbo\", width: \"640px\", height: \"480px\", mobilemenu: 1, notebook: 1, command: 'style proteins cylinder and plate; style chemicals ball and stick', };\nviewer16813187240130382 = new icn3d.iCn3DUI(cfg);\nviewer16813187240130382.show3DStructure();\n});\n</script>",
      "text/html": [
       "<div id=\"icn3dviewer16813187240130382\" style=\"position: relative; width: 640px; min-height: 580px; height: auto\">\n",
       "        <p id=\"icn3dwarning16813187240130382\" style=\"background-color:#ffcccc;color:black\">You appear to be running in JupyterLab (or JavaScript failed to load for some other reason).  You need to install the extension: <br>\n",
       "        <tt>jupyter labextension install jupyterlab_3dmol</tt></p>\n",
       "        </div>\n",
       "<script>\n",
       "\n",
       "var loadScriptAsync = function(uri){\n",
       "  return new Promise((resolve, reject) => {\n",
       "    var tag = document.createElement('script');\n",
       "    tag.src = uri;\n",
       "    //tag.async = true;\n",
       "    tag.onload = () => {\n",
       "      resolve();\n",
       "    };\n",
       "  var firstScriptTag = document.getElementsByTagName('link')[0];\n",
       "  firstScriptTag.parentNode.insertBefore(tag, firstScriptTag);\n",
       "  });\n",
       "};\n",
       "\n",
       "var loadCssAsync = function(uri){\n",
       "  return new Promise((resolve, reject) => {\n",
       "var tag = document.createElement('link');\n",
       "tag.rel = 'stylesheet';\n",
       "tag.href = uri;\n",
       "//tag.async = true;\n",
       "tag.onload = () => {\n",
       "  resolve();\n",
       "};\n",
       "var firstScriptTag = document.getElementsByTagName('script')[0];\n",
       "firstScriptTag.parentNode.insertBefore(tag, firstScriptTag);\n",
       "  });\n",
       "};\n",
       "\n",
       "if(typeof js === 'undefined') {\n",
       "  js = loadScriptAsync(\"https://www.ncbi.nlm.nih.gov/Structure/icn3d/es5/icn3d_all_full.min.js\");\n",
       "  \n",
       "  css1 = loadCssAsync(\"https://www.ncbi.nlm.nih.gov/Structure/icn3d/lib/jquery-ui-1.12.1.min.css\");\n",
       "  css2 = loadCssAsync(\"https://www.ncbi.nlm.nih.gov/Structure/icn3d/icn3d.css\");\n",
       "}\n",
       "\n",
       "var viewer16813187240130382 = null;\n",
       "var warn = document.getElementById(\"icn3dwarning16813187240130382\");\n",
       "if(warn) {\n",
       "    warn.parentNode.removeChild(warn);\n",
       "}\n",
       "\n",
       "css1\n",
       ".then(function() { return css2; })\n",
       ".then(function() { return js; })\n",
       ".then(function() {\n",
       "cfg = {divid: \"icn3dviewer16813187240130382\", pdbid: \"1mbo\", width: \"640px\", height: \"480px\", mobilemenu: 1, notebook: 1, command: 'style proteins cylinder and plate; style chemicals ball and stick', };\n",
       "viewer16813187240130382 = new icn3d.iCn3DUI(cfg);\n",
       "viewer16813187240130382.show3DStructure();\n",
       "});\n",
       "</script>"
      ]
     },
     "metadata": {},
     "output_type": "display_data"
    },
    {
     "data": {
      "text/plain": [
       "<icn3dpy.view at 0x7ff070525430>"
      ]
     },
     "execution_count": 15,
     "metadata": {},
     "output_type": "execute_result"
    }
   ],
   "source": [
    "# Change the heme group to ball and stick\n",
    "scene = icn3dpy.view(q='pdbid=1mbo', command = 'style proteins cylinder and plate; style chemicals ball and stick')\n",
    "scene"
   ]
  },
  {
   "cell_type": "code",
   "execution_count": 40,
   "id": "9078d815-0f5b-48c7-857e-66306729bfbe",
   "metadata": {},
   "outputs": [
    {
     "data": {
      "application/3dmoljs_load.v0": "<div id=\"icn3dviewer1681399030163029\" style=\"position: relative; width: 640px; min-height: 580px; height: auto\">\n        <p id=\"icn3dwarning1681399030163029\" style=\"background-color:#ffcccc;color:black\">You appear to be running in JupyterLab (or JavaScript failed to load for some other reason).  You need to install the extension: <br>\n        <tt>jupyter labextension install jupyterlab_3dmol</tt></p>\n        </div>\n<script>\n\nvar loadScriptAsync = function(uri){\n  return new Promise((resolve, reject) => {\n    var tag = document.createElement('script');\n    tag.src = uri;\n    //tag.async = true;\n    tag.onload = () => {\n      resolve();\n    };\n  var firstScriptTag = document.getElementsByTagName('link')[0];\n  firstScriptTag.parentNode.insertBefore(tag, firstScriptTag);\n  });\n};\n\nvar loadCssAsync = function(uri){\n  return new Promise((resolve, reject) => {\nvar tag = document.createElement('link');\ntag.rel = 'stylesheet';\ntag.href = uri;\n//tag.async = true;\ntag.onload = () => {\n  resolve();\n};\nvar firstScriptTag = document.getElementsByTagName('script')[0];\nfirstScriptTag.parentNode.insertBefore(tag, firstScriptTag);\n  });\n};\n\nif(typeof js === 'undefined') {\n  js = loadScriptAsync(\"https://www.ncbi.nlm.nih.gov/Structure/icn3d/es5/icn3d_all_full.min.js\");\n  \n  css1 = loadCssAsync(\"https://www.ncbi.nlm.nih.gov/Structure/icn3d/lib/jquery-ui-1.12.1.min.css\");\n  css2 = loadCssAsync(\"https://www.ncbi.nlm.nih.gov/Structure/icn3d/icn3d.css\");\n}\n\nvar viewer1681399030163029 = null;\nvar warn = document.getElementById(\"icn3dwarning1681399030163029\");\nif(warn) {\n    warn.parentNode.removeChild(warn);\n}\n\ncss1\n.then(function() { return css2; })\n.then(function() { return js; })\n.then(function() {\ncfg = {divid: \"icn3dviewer1681399030163029\", pdbid: \"1mbo\", width: \"640px\", height: \"480px\", mobilemenu: 1, notebook: 1, command: '; style proteins cylinder and plate; style chemicals ball and stick', };\nviewer1681399030163029 = new icn3d.iCn3DUI(cfg);\nviewer1681399030163029.show3DStructure();\n});\n</script>",
      "text/html": [
       "<div id=\"icn3dviewer1681399030163029\" style=\"position: relative; width: 640px; min-height: 580px; height: auto\">\n",
       "        <p id=\"icn3dwarning1681399030163029\" style=\"background-color:#ffcccc;color:black\">You appear to be running in JupyterLab (or JavaScript failed to load for some other reason).  You need to install the extension: <br>\n",
       "        <tt>jupyter labextension install jupyterlab_3dmol</tt></p>\n",
       "        </div>\n",
       "<script>\n",
       "\n",
       "var loadScriptAsync = function(uri){\n",
       "  return new Promise((resolve, reject) => {\n",
       "    var tag = document.createElement('script');\n",
       "    tag.src = uri;\n",
       "    //tag.async = true;\n",
       "    tag.onload = () => {\n",
       "      resolve();\n",
       "    };\n",
       "  var firstScriptTag = document.getElementsByTagName('link')[0];\n",
       "  firstScriptTag.parentNode.insertBefore(tag, firstScriptTag);\n",
       "  });\n",
       "};\n",
       "\n",
       "var loadCssAsync = function(uri){\n",
       "  return new Promise((resolve, reject) => {\n",
       "var tag = document.createElement('link');\n",
       "tag.rel = 'stylesheet';\n",
       "tag.href = uri;\n",
       "//tag.async = true;\n",
       "tag.onload = () => {\n",
       "  resolve();\n",
       "};\n",
       "var firstScriptTag = document.getElementsByTagName('script')[0];\n",
       "firstScriptTag.parentNode.insertBefore(tag, firstScriptTag);\n",
       "  });\n",
       "};\n",
       "\n",
       "if(typeof js === 'undefined') {\n",
       "  js = loadScriptAsync(\"https://www.ncbi.nlm.nih.gov/Structure/icn3d/es5/icn3d_all_full.min.js\");\n",
       "  \n",
       "  css1 = loadCssAsync(\"https://www.ncbi.nlm.nih.gov/Structure/icn3d/lib/jquery-ui-1.12.1.min.css\");\n",
       "  css2 = loadCssAsync(\"https://www.ncbi.nlm.nih.gov/Structure/icn3d/icn3d.css\");\n",
       "}\n",
       "\n",
       "var viewer1681399030163029 = null;\n",
       "var warn = document.getElementById(\"icn3dwarning1681399030163029\");\n",
       "if(warn) {\n",
       "    warn.parentNode.removeChild(warn);\n",
       "}\n",
       "\n",
       "css1\n",
       ".then(function() { return css2; })\n",
       ".then(function() { return js; })\n",
       ".then(function() {\n",
       "cfg = {divid: \"icn3dviewer1681399030163029\", pdbid: \"1mbo\", width: \"640px\", height: \"480px\", mobilemenu: 1, notebook: 1, command: '; style proteins cylinder and plate; style chemicals ball and stick', };\n",
       "viewer1681399030163029 = new icn3d.iCn3DUI(cfg);\n",
       "viewer1681399030163029.show3DStructure();\n",
       "});\n",
       "</script>"
      ]
     },
     "metadata": {},
     "output_type": "display_data"
    },
    {
     "data": {
      "text/plain": [
       "<icn3dpy.view at 0x7ff070525a90>"
      ]
     },
     "execution_count": 40,
     "metadata": {},
     "output_type": "execute_result"
    }
   ],
   "source": [
    "# Assigning command strings to variables\n",
    "ID = 'pdbid=1mbo'\n",
    "cpl = '; style proteins cylinder and plate'\n",
    "bns = '; style chemicals ball and stick'\n",
    "scene = icn3dpy.view(q=ID, command = cpl + bns)\n",
    "scene"
   ]
  },
  {
   "cell_type": "code",
   "execution_count": 41,
   "id": "fd64325e-c028-4668-8876-765ce3091d1e",
   "metadata": {},
   "outputs": [
    {
     "data": {
      "application/3dmoljs_load.v0": "<div id=\"icn3dviewer16813990478650749\" style=\"position: relative; width: 640px; min-height: 580px; height: auto\">\n        <p id=\"icn3dwarning16813990478650749\" style=\"background-color:#ffcccc;color:black\">You appear to be running in JupyterLab (or JavaScript failed to load for some other reason).  You need to install the extension: <br>\n        <tt>jupyter labextension install jupyterlab_3dmol</tt></p>\n        </div>\n<script>\n\nvar loadScriptAsync = function(uri){\n  return new Promise((resolve, reject) => {\n    var tag = document.createElement('script');\n    tag.src = uri;\n    //tag.async = true;\n    tag.onload = () => {\n      resolve();\n    };\n  var firstScriptTag = document.getElementsByTagName('link')[0];\n  firstScriptTag.parentNode.insertBefore(tag, firstScriptTag);\n  });\n};\n\nvar loadCssAsync = function(uri){\n  return new Promise((resolve, reject) => {\nvar tag = document.createElement('link');\ntag.rel = 'stylesheet';\ntag.href = uri;\n//tag.async = true;\ntag.onload = () => {\n  resolve();\n};\nvar firstScriptTag = document.getElementsByTagName('script')[0];\nfirstScriptTag.parentNode.insertBefore(tag, firstScriptTag);\n  });\n};\n\nif(typeof js === 'undefined') {\n  js = loadScriptAsync(\"https://www.ncbi.nlm.nih.gov/Structure/icn3d/es5/icn3d_all_full.min.js\");\n  \n  css1 = loadCssAsync(\"https://www.ncbi.nlm.nih.gov/Structure/icn3d/lib/jquery-ui-1.12.1.min.css\");\n  css2 = loadCssAsync(\"https://www.ncbi.nlm.nih.gov/Structure/icn3d/icn3d.css\");\n}\n\nvar viewer16813990478650749 = null;\nvar warn = document.getElementById(\"icn3dwarning16813990478650749\");\nif(warn) {\n    warn.parentNode.removeChild(warn);\n}\n\ncss1\n.then(function() { return css2; })\n.then(function() { return js; })\n.then(function() {\ncfg = {divid: \"icn3dviewer16813990478650749\", pdbid: \"4hhb\", width: \"640px\", height: \"480px\", mobilemenu: 1, notebook: 1, command: '; style proteins cylinder and plate; style chemicals ball and stick', };\nviewer16813990478650749 = new icn3d.iCn3DUI(cfg);\nviewer16813990478650749.show3DStructure();\n});\n</script>",
      "text/html": [
       "<div id=\"icn3dviewer16813990478650749\" style=\"position: relative; width: 640px; min-height: 580px; height: auto\">\n",
       "        <p id=\"icn3dwarning16813990478650749\" style=\"background-color:#ffcccc;color:black\">You appear to be running in JupyterLab (or JavaScript failed to load for some other reason).  You need to install the extension: <br>\n",
       "        <tt>jupyter labextension install jupyterlab_3dmol</tt></p>\n",
       "        </div>\n",
       "<script>\n",
       "\n",
       "var loadScriptAsync = function(uri){\n",
       "  return new Promise((resolve, reject) => {\n",
       "    var tag = document.createElement('script');\n",
       "    tag.src = uri;\n",
       "    //tag.async = true;\n",
       "    tag.onload = () => {\n",
       "      resolve();\n",
       "    };\n",
       "  var firstScriptTag = document.getElementsByTagName('link')[0];\n",
       "  firstScriptTag.parentNode.insertBefore(tag, firstScriptTag);\n",
       "  });\n",
       "};\n",
       "\n",
       "var loadCssAsync = function(uri){\n",
       "  return new Promise((resolve, reject) => {\n",
       "var tag = document.createElement('link');\n",
       "tag.rel = 'stylesheet';\n",
       "tag.href = uri;\n",
       "//tag.async = true;\n",
       "tag.onload = () => {\n",
       "  resolve();\n",
       "};\n",
       "var firstScriptTag = document.getElementsByTagName('script')[0];\n",
       "firstScriptTag.parentNode.insertBefore(tag, firstScriptTag);\n",
       "  });\n",
       "};\n",
       "\n",
       "if(typeof js === 'undefined') {\n",
       "  js = loadScriptAsync(\"https://www.ncbi.nlm.nih.gov/Structure/icn3d/es5/icn3d_all_full.min.js\");\n",
       "  \n",
       "  css1 = loadCssAsync(\"https://www.ncbi.nlm.nih.gov/Structure/icn3d/lib/jquery-ui-1.12.1.min.css\");\n",
       "  css2 = loadCssAsync(\"https://www.ncbi.nlm.nih.gov/Structure/icn3d/icn3d.css\");\n",
       "}\n",
       "\n",
       "var viewer16813990478650749 = null;\n",
       "var warn = document.getElementById(\"icn3dwarning16813990478650749\");\n",
       "if(warn) {\n",
       "    warn.parentNode.removeChild(warn);\n",
       "}\n",
       "\n",
       "css1\n",
       ".then(function() { return css2; })\n",
       ".then(function() { return js; })\n",
       ".then(function() {\n",
       "cfg = {divid: \"icn3dviewer16813990478650749\", pdbid: \"4hhb\", width: \"640px\", height: \"480px\", mobilemenu: 1, notebook: 1, command: '; style proteins cylinder and plate; style chemicals ball and stick', };\n",
       "viewer16813990478650749 = new icn3d.iCn3DUI(cfg);\n",
       "viewer16813990478650749.show3DStructure();\n",
       "});\n",
       "</script>"
      ]
     },
     "metadata": {},
     "output_type": "display_data"
    },
    {
     "data": {
      "text/plain": [
       "<icn3dpy.view at 0x7ff010585430>"
      ]
     },
     "execution_count": 41,
     "metadata": {},
     "output_type": "execute_result"
    }
   ],
   "source": [
    "# Do the same thing with a different protein\n",
    "# Assigning command strings to variables\n",
    "ID = 'pdbid=4hhb'\n",
    "cpl = '; style proteins cylinder and plate'\n",
    "bns = '; style chemicals ball and stick'\n",
    "scene = icn3dpy.view(q=ID, command = cpl + bns)\n",
    "scene"
   ]
  },
  {
   "cell_type": "markdown",
   "id": "f1048b69-7c41-4d25-bdcd-29ad2f9550f4",
   "metadata": {},
   "source": [
    "# Pulling collections of commands from an iCN3D web page\n",
    "You can imagine that it might be quite time consuming to make 8 or 10 modifications to a visualization using commands like those seen above. One of the features of iCN3D web pages is that you can create a view there and import the commands into a Jupyter notebook. In this [iCN3D page for PDB ID 1ETS](https://structure.ncbi.nlm.nih.gov/icn3d/share.html?TmUEcZr72jbmKirq9), the following steps were taken: \n",
    "\n",
    "- the ligand was changed to ball and stick; \n",
    "- the protein was changed from ribbon to cylinder and plate; \n",
    "- the color was changed to represent secondary structures; \n",
    "- the background was changed to white. \n",
    "\n",
    "The resulting page looks like this:\n",
    "![modified image of 1ETS](images/1ets.png \"modified image of 1ETS\")\n",
    "\n",
    "There is a feature on an iCN3D web page that enables you to modify the structure on the page and reproduce the structure in a Jupyter notebook. Why would you want to do that? We'll get to that in a bit.\n",
    "\n",
    "On the [iCN3D page for PDB ID 1ETS](https://structure.ncbi.nlm.nih.gov/icn3d/share.html?TmUEcZr72jbmKirq9), select `File` from the dropdown menu, then choose `Share Link` and it will bring up a dialog box. \n",
    "\n",
    "![dialog box from modified 1ETS](images/dialog_box.png \"modified image of 1ETS\")\n",
    "\n",
    "Simply go to 2. `Commands Used in Jupyter Notebooks` and click on `Copy Commands`. Then paste those commands into a code cell on your Jupyter notebook."
   ]
  },
  {
   "cell_type": "code",
   "execution_count": 42,
   "id": "1e820e77-80a7-455f-aea3-14d978600f64",
   "metadata": {},
   "outputs": [
    {
     "data": {
      "application/3dmoljs_load.v0": "<div id=\"icn3dviewer1681399189201754\" style=\"position: relative; width: 640px; min-height: 580px; height: auto\">\n        <p id=\"icn3dwarning1681399189201754\" style=\"background-color:#ffcccc;color:black\">You appear to be running in JupyterLab (or JavaScript failed to load for some other reason).  You need to install the extension: <br>\n        <tt>jupyter labextension install jupyterlab_3dmol</tt></p>\n        </div>\n<script>\n\nvar loadScriptAsync = function(uri){\n  return new Promise((resolve, reject) => {\n    var tag = document.createElement('script');\n    tag.src = uri;\n    //tag.async = true;\n    tag.onload = () => {\n      resolve();\n    };\n  var firstScriptTag = document.getElementsByTagName('link')[0];\n  firstScriptTag.parentNode.insertBefore(tag, firstScriptTag);\n  });\n};\n\nvar loadCssAsync = function(uri){\n  return new Promise((resolve, reject) => {\nvar tag = document.createElement('link');\ntag.rel = 'stylesheet';\ntag.href = uri;\n//tag.async = true;\ntag.onload = () => {\n  resolve();\n};\nvar firstScriptTag = document.getElementsByTagName('script')[0];\nfirstScriptTag.parentNode.insertBefore(tag, firstScriptTag);\n  });\n};\n\nif(typeof js === 'undefined') {\n  js = loadScriptAsync(\"https://www.ncbi.nlm.nih.gov/Structure/icn3d/es5/icn3d_all_full.min.js\");\n  \n  css1 = loadCssAsync(\"https://www.ncbi.nlm.nih.gov/Structure/icn3d/lib/jquery-ui-1.12.1.min.css\");\n  css2 = loadCssAsync(\"https://www.ncbi.nlm.nih.gov/Structure/icn3d/icn3d.css\");\n}\n\nvar viewer1681399189201754 = null;\nvar warn = document.getElementById(\"icn3dwarning1681399189201754\");\nif(warn) {\n    warn.parentNode.removeChild(warn);\n}\n\ncss1\n.then(function() { return css2; })\n.then(function() { return js; })\n.then(function() {\ncfg = {divid: \"icn3dviewer1681399189201754\", mmdbafid: \"1ETS\", width: \"640px\", height: \"480px\", mobilemenu: 1, notebook: 1, command: 'load mmdb 1ets | parameters &mmdbid=1ets&bu=1; defined sets; select sets chemicals; set background white; style chemicals ball and stick; set surface wireframe on; set surface wireframe on; style proteins cylinder and plate; style proteins cylinder and plate; defined sets; select sets 1ETS; style proteins cylinder and plate; color secondary structure yellow|||{\"factor\":\"1.000\",\"mouseChange\":{\"x\":\"0.000\",\"y\":\"0.000\"},\"quaternion\":{\"_x\":\"0.000\",\"_y\":\"0.000\",\"_z\":\"0.000\",\"_w\":\"1.000\"}}', };\nviewer1681399189201754 = new icn3d.iCn3DUI(cfg);\nviewer1681399189201754.show3DStructure();\n});\n</script>",
      "text/html": [
       "<div id=\"icn3dviewer1681399189201754\" style=\"position: relative; width: 640px; min-height: 580px; height: auto\">\n",
       "        <p id=\"icn3dwarning1681399189201754\" style=\"background-color:#ffcccc;color:black\">You appear to be running in JupyterLab (or JavaScript failed to load for some other reason).  You need to install the extension: <br>\n",
       "        <tt>jupyter labextension install jupyterlab_3dmol</tt></p>\n",
       "        </div>\n",
       "<script>\n",
       "\n",
       "var loadScriptAsync = function(uri){\n",
       "  return new Promise((resolve, reject) => {\n",
       "    var tag = document.createElement('script');\n",
       "    tag.src = uri;\n",
       "    //tag.async = true;\n",
       "    tag.onload = () => {\n",
       "      resolve();\n",
       "    };\n",
       "  var firstScriptTag = document.getElementsByTagName('link')[0];\n",
       "  firstScriptTag.parentNode.insertBefore(tag, firstScriptTag);\n",
       "  });\n",
       "};\n",
       "\n",
       "var loadCssAsync = function(uri){\n",
       "  return new Promise((resolve, reject) => {\n",
       "var tag = document.createElement('link');\n",
       "tag.rel = 'stylesheet';\n",
       "tag.href = uri;\n",
       "//tag.async = true;\n",
       "tag.onload = () => {\n",
       "  resolve();\n",
       "};\n",
       "var firstScriptTag = document.getElementsByTagName('script')[0];\n",
       "firstScriptTag.parentNode.insertBefore(tag, firstScriptTag);\n",
       "  });\n",
       "};\n",
       "\n",
       "if(typeof js === 'undefined') {\n",
       "  js = loadScriptAsync(\"https://www.ncbi.nlm.nih.gov/Structure/icn3d/es5/icn3d_all_full.min.js\");\n",
       "  \n",
       "  css1 = loadCssAsync(\"https://www.ncbi.nlm.nih.gov/Structure/icn3d/lib/jquery-ui-1.12.1.min.css\");\n",
       "  css2 = loadCssAsync(\"https://www.ncbi.nlm.nih.gov/Structure/icn3d/icn3d.css\");\n",
       "}\n",
       "\n",
       "var viewer1681399189201754 = null;\n",
       "var warn = document.getElementById(\"icn3dwarning1681399189201754\");\n",
       "if(warn) {\n",
       "    warn.parentNode.removeChild(warn);\n",
       "}\n",
       "\n",
       "css1\n",
       ".then(function() { return css2; })\n",
       ".then(function() { return js; })\n",
       ".then(function() {\n",
       "cfg = {divid: \"icn3dviewer1681399189201754\", mmdbafid: \"1ETS\", width: \"640px\", height: \"480px\", mobilemenu: 1, notebook: 1, command: 'load mmdb 1ets | parameters &mmdbid=1ets&bu=1; defined sets; select sets chemicals; set background white; style chemicals ball and stick; set surface wireframe on; set surface wireframe on; style proteins cylinder and plate; style proteins cylinder and plate; defined sets; select sets 1ETS; style proteins cylinder and plate; color secondary structure yellow|||{\"factor\":\"1.000\",\"mouseChange\":{\"x\":\"0.000\",\"y\":\"0.000\"},\"quaternion\":{\"_x\":\"0.000\",\"_y\":\"0.000\",\"_z\":\"0.000\",\"_w\":\"1.000\"}}', };\n",
       "viewer1681399189201754 = new icn3d.iCn3DUI(cfg);\n",
       "viewer1681399189201754.show3DStructure();\n",
       "});\n",
       "</script>"
      ]
     },
     "metadata": {},
     "output_type": "display_data"
    },
    {
     "data": {
      "text/plain": [
       "<icn3dpy.view at 0x7ff010585820>"
      ]
     },
     "execution_count": 42,
     "metadata": {},
     "output_type": "execute_result"
    }
   ],
   "source": [
    "scene = icn3dpy.view(q='mmdbafid=1ETS',command='load mmdb 1ets | parameters &mmdbid=1ets&bu=1; defined sets; select sets chemicals; set background white; style chemicals ball and stick; set surface wireframe on; set surface wireframe on; style proteins cylinder and plate; style proteins cylinder and plate; defined sets; select sets 1ETS; style proteins cylinder and plate; color secondary structure yellow|||{\"factor\":\"1.000\",\"mouseChange\":{\"x\":\"0.000\",\"y\":\"0.000\"},\"quaternion\":{\"_x\":\"0.000\",\"_y\":\"0.000\",\"_z\":\"0.000\",\"_w\":\"1.000\"}}')\n",
    "scene"
   ]
  },
  {
   "cell_type": "markdown",
   "id": "5531d9c6-77ca-46c6-88f4-de4f76bd98bc",
   "metadata": {},
   "source": [
    "### Teasing apart the command set from the [iCN3D page for PDB ID 1ETS](https://structure.ncbi.nlm.nih.gov/icn3d/share.html?TmUEcZr72jbmKirq9)\n",
    "\n",
    "If you explore the collected list of commands we extracted from the iCN3D page, you can see that the PDB ID was used three times:\n",
    "\n",
    "1. in the form of mmdbafid=1ETS early in the line of code *icn3dpy.view(q = 'mmdbafid=1ETS')*\n",
    "2. in the form of 1ets in the phrase *load mmdb 1ets*\n",
    "3. in the form of 1ets in the phrase *&mmdbid=1ets&bu=1*\n",
    "\n",
    "We are going to substitute variables in this command set so that you could generate the same view for almost any PDB entry. Remember that this set of commands is a string, so we have to be careful with the syntax. "
   ]
  },
  {
   "cell_type": "code",
   "execution_count": 4,
   "id": "68f9d3a5-3774-42db-a43e-c16c77157253",
   "metadata": {},
   "outputs": [
    {
     "data": {
      "application/3dmoljs_load.v0": "<div id=\"icn3dviewer168174503719714\" style=\"position: relative; width: 640px; min-height: 580px; height: auto\">\n        <p id=\"icn3dwarning168174503719714\" style=\"background-color:#ffcccc;color:black\">You appear to be running in JupyterLab (or JavaScript failed to load for some other reason).  You need to install the extension: <br>\n        <tt>jupyter labextension install jupyterlab_3dmol</tt></p>\n        </div>\n<script>\n\nvar loadScriptAsync = function(uri){\n  return new Promise((resolve, reject) => {\n    var tag = document.createElement('script');\n    tag.src = uri;\n    //tag.async = true;\n    tag.onload = () => {\n      resolve();\n    };\n  var firstScriptTag = document.getElementsByTagName('link')[0];\n  firstScriptTag.parentNode.insertBefore(tag, firstScriptTag);\n  });\n};\n\nvar loadCssAsync = function(uri){\n  return new Promise((resolve, reject) => {\nvar tag = document.createElement('link');\ntag.rel = 'stylesheet';\ntag.href = uri;\n//tag.async = true;\ntag.onload = () => {\n  resolve();\n};\nvar firstScriptTag = document.getElementsByTagName('script')[0];\nfirstScriptTag.parentNode.insertBefore(tag, firstScriptTag);\n  });\n};\n\nif(typeof js === 'undefined') {\n  js = loadScriptAsync(\"https://www.ncbi.nlm.nih.gov/Structure/icn3d/es5/icn3d_all_full.min.js\");\n  \n  css1 = loadCssAsync(\"https://www.ncbi.nlm.nih.gov/Structure/icn3d/lib/jquery-ui-1.12.1.min.css\");\n  css2 = loadCssAsync(\"https://www.ncbi.nlm.nih.gov/Structure/icn3d/icn3d.css\");\n}\n\nvar viewer168174503719714 = null;\nvar warn = document.getElementById(\"icn3dwarning168174503719714\");\nif(warn) {\n    warn.parentNode.removeChild(warn);\n}\n\ncss1\n.then(function() { return css2; })\n.then(function() { return js; })\n.then(function() {\ncfg = {divid: \"icn3dviewer168174503719714\", mmdbafid: \"8gch\", width: \"640px\", height: \"480px\", mobilemenu: 1, notebook: 1, command: 'load mmdb8gch| parameters &mmdbid=8gch&bu=1; defined sets; select sets chemicals; set background white; style chemicals ball and stick; set surface wireframe on; set surface wireframe on; style proteins cylinder and plate; style proteins cylinder and plate; defined sets; select sets 1ETS; style proteins cylinder and plate; color secondary structure yellow|||{\"factor\":\"1.000\",\"mouseChange\":{\"x\":\"0.000\",\"y\":\"0.000\"},\"quaternion\":{\"_x\":\"0.000\",\"_y\":\"0.000\",\"_z\":\"0.000\",\"_w\":\"1.000\"}}', };\nviewer168174503719714 = new icn3d.iCn3DUI(cfg);\nviewer168174503719714.show3DStructure();\n});\n</script>",
      "text/html": [
       "<div id=\"icn3dviewer168174503719714\" style=\"position: relative; width: 640px; min-height: 580px; height: auto\">\n",
       "        <p id=\"icn3dwarning168174503719714\" style=\"background-color:#ffcccc;color:black\">You appear to be running in JupyterLab (or JavaScript failed to load for some other reason).  You need to install the extension: <br>\n",
       "        <tt>jupyter labextension install jupyterlab_3dmol</tt></p>\n",
       "        </div>\n",
       "<script>\n",
       "\n",
       "var loadScriptAsync = function(uri){\n",
       "  return new Promise((resolve, reject) => {\n",
       "    var tag = document.createElement('script');\n",
       "    tag.src = uri;\n",
       "    //tag.async = true;\n",
       "    tag.onload = () => {\n",
       "      resolve();\n",
       "    };\n",
       "  var firstScriptTag = document.getElementsByTagName('link')[0];\n",
       "  firstScriptTag.parentNode.insertBefore(tag, firstScriptTag);\n",
       "  });\n",
       "};\n",
       "\n",
       "var loadCssAsync = function(uri){\n",
       "  return new Promise((resolve, reject) => {\n",
       "var tag = document.createElement('link');\n",
       "tag.rel = 'stylesheet';\n",
       "tag.href = uri;\n",
       "//tag.async = true;\n",
       "tag.onload = () => {\n",
       "  resolve();\n",
       "};\n",
       "var firstScriptTag = document.getElementsByTagName('script')[0];\n",
       "firstScriptTag.parentNode.insertBefore(tag, firstScriptTag);\n",
       "  });\n",
       "};\n",
       "\n",
       "if(typeof js === 'undefined') {\n",
       "  js = loadScriptAsync(\"https://www.ncbi.nlm.nih.gov/Structure/icn3d/es5/icn3d_all_full.min.js\");\n",
       "  \n",
       "  css1 = loadCssAsync(\"https://www.ncbi.nlm.nih.gov/Structure/icn3d/lib/jquery-ui-1.12.1.min.css\");\n",
       "  css2 = loadCssAsync(\"https://www.ncbi.nlm.nih.gov/Structure/icn3d/icn3d.css\");\n",
       "}\n",
       "\n",
       "var viewer168174503719714 = null;\n",
       "var warn = document.getElementById(\"icn3dwarning168174503719714\");\n",
       "if(warn) {\n",
       "    warn.parentNode.removeChild(warn);\n",
       "}\n",
       "\n",
       "css1\n",
       ".then(function() { return css2; })\n",
       ".then(function() { return js; })\n",
       ".then(function() {\n",
       "cfg = {divid: \"icn3dviewer168174503719714\", mmdbafid: \"8gch\", width: \"640px\", height: \"480px\", mobilemenu: 1, notebook: 1, command: 'load mmdb8gch| parameters &mmdbid=8gch&bu=1; defined sets; select sets chemicals; set background white; style chemicals ball and stick; set surface wireframe on; set surface wireframe on; style proteins cylinder and plate; style proteins cylinder and plate; defined sets; select sets 1ETS; style proteins cylinder and plate; color secondary structure yellow|||{\"factor\":\"1.000\",\"mouseChange\":{\"x\":\"0.000\",\"y\":\"0.000\"},\"quaternion\":{\"_x\":\"0.000\",\"_y\":\"0.000\",\"_z\":\"0.000\",\"_w\":\"1.000\"}}', };\n",
       "viewer168174503719714 = new icn3d.iCn3DUI(cfg);\n",
       "viewer168174503719714.show3DStructure();\n",
       "});\n",
       "</script>"
      ]
     },
     "metadata": {},
     "output_type": "display_data"
    },
    {
     "data": {
      "text/plain": [
       "<icn3dpy.view at 0x7feb483a6c40>"
      ]
     },
     "execution_count": 4,
     "metadata": {},
     "output_type": "execute_result"
    }
   ],
   "source": [
    "import icn3dpy\n",
    "\n",
    "ID = '8gch' # to be used each time you call a structure\n",
    "scene = icn3dpy.view(q='mmdbafid=' + ID ,command='load mmdb' + ID + '| parameters &mmdbid=' + ID + '&bu=1; defined sets; select sets chemicals; set background white; style chemicals ball and stick; set surface wireframe on; set surface wireframe on; style proteins cylinder and plate; style proteins cylinder and plate; defined sets; select sets 1ETS; style proteins cylinder and plate; color secondary structure yellow|||{\"factor\":\"1.000\",\"mouseChange\":{\"x\":\"0.000\",\"y\":\"0.000\"},\"quaternion\":{\"_x\":\"0.000\",\"_y\":\"0.000\",\"_z\":\"0.000\",\"_w\":\"1.000\"}}')\n",
    "scene"
   ]
  },
  {
   "cell_type": "markdown",
   "id": "f1c4b4ca-1fa1-46fc-9da9-407471047179",
   "metadata": {},
   "source": [
    "# Creating functions based on preferred command sets generated from iCN3D web pages\n",
    "\n",
    "The use of variables to control the appearance of any PDB entry is pretty cool. Wouldn't it be great if you could enter a simple command with a PDB ID and have it do this? We can if we define and use a function. Here is some text from nonlinear regression part 2 to remind us how to work with functions. \n",
    "\n",
    "In Python, the following syntax is used to declare a function:\n",
    "\n",
    "```python\n",
    "def function_name(independent_variable, parameter1, parameter2):\n",
    "    ** function body code **\n",
    "    return value_to_return\n",
    "```\n",
    "\n",
    "Functions are defined using the `def` keyword, followed by the name of the function. The function may have independent variable(s) and parameters which are passed to it; these are in parenthesis following the function name. You then add a colon after the parentheses. This causes the function body code to indent in a Jupyter notebook coding cell. In certain cases, a function may have no parameters as well. Most (though not all) functions return some type of information. It is important to note here that defining a function does not execute it.\n",
    "\n",
    "Now we will create a function for a predesigned view in an iCN3D cell in a Jupyter notebook, using the code from the [iCN3D page for PDB ID 1ETS](https://structure.ncbi.nlm.nih.gov/icn3d/share.html?TmUEcZr72jbmKirq9)."
   ]
  },
  {
   "cell_type": "code",
   "execution_count": 46,
   "id": "d004438f-3fc4-443f-b1da-3162d6780078",
   "metadata": {},
   "outputs": [],
   "source": [
    "def myview1(PDB_ID):\n",
    "    PDB_ID = str(PDB_ID)\n",
    "    ID1 = 'mmdbafid=' + PDB_ID # to be used in the first call for the structure\n",
    "    ID2 = 'PDB_ID' # to be used in the second and third calls for the structure\n",
    "    scene = icn3dpy.view(q=ID1,command='load mmdb' + ID2 + '| parameters &mmdbid=' + ID2 + '&bu=1; defined sets; select sets chemicals; set background white; style chemicals ball and stick; set surface wireframe on; set surface wireframe on; style proteins cylinder and plate; style proteins cylinder and plate; defined sets; select sets 1ETS; style proteins cylinder and plate; color secondary structure yellow|||{\"factor\":\"1.000\",\"mouseChange\":{\"x\":\"0.000\",\"y\":\"0.000\"},\"quaternion\":{\"_x\":\"0.000\",\"_y\":\"0.000\",\"_z\":\"0.000\",\"_w\":\"1.000\"}}')\n",
    "    return scene"
   ]
  },
  {
   "cell_type": "code",
   "execution_count": 47,
   "id": "f05eba53-7dc4-428a-8908-8b94b10205a6",
   "metadata": {},
   "outputs": [
    {
     "data": {
      "application/3dmoljs_load.v0": "<div id=\"icn3dviewer1681399450849664\" style=\"position: relative; width: 640px; min-height: 580px; height: auto\">\n        <p id=\"icn3dwarning1681399450849664\" style=\"background-color:#ffcccc;color:black\">You appear to be running in JupyterLab (or JavaScript failed to load for some other reason).  You need to install the extension: <br>\n        <tt>jupyter labextension install jupyterlab_3dmol</tt></p>\n        </div>\n<script>\n\nvar loadScriptAsync = function(uri){\n  return new Promise((resolve, reject) => {\n    var tag = document.createElement('script');\n    tag.src = uri;\n    //tag.async = true;\n    tag.onload = () => {\n      resolve();\n    };\n  var firstScriptTag = document.getElementsByTagName('link')[0];\n  firstScriptTag.parentNode.insertBefore(tag, firstScriptTag);\n  });\n};\n\nvar loadCssAsync = function(uri){\n  return new Promise((resolve, reject) => {\nvar tag = document.createElement('link');\ntag.rel = 'stylesheet';\ntag.href = uri;\n//tag.async = true;\ntag.onload = () => {\n  resolve();\n};\nvar firstScriptTag = document.getElementsByTagName('script')[0];\nfirstScriptTag.parentNode.insertBefore(tag, firstScriptTag);\n  });\n};\n\nif(typeof js === 'undefined') {\n  js = loadScriptAsync(\"https://www.ncbi.nlm.nih.gov/Structure/icn3d/es5/icn3d_all_full.min.js\");\n  \n  css1 = loadCssAsync(\"https://www.ncbi.nlm.nih.gov/Structure/icn3d/lib/jquery-ui-1.12.1.min.css\");\n  css2 = loadCssAsync(\"https://www.ncbi.nlm.nih.gov/Structure/icn3d/icn3d.css\");\n}\n\nvar viewer1681399450849664 = null;\nvar warn = document.getElementById(\"icn3dwarning1681399450849664\");\nif(warn) {\n    warn.parentNode.removeChild(warn);\n}\n\ncss1\n.then(function() { return css2; })\n.then(function() { return js; })\n.then(function() {\ncfg = {divid: \"icn3dviewer1681399450849664\", mmdbafid: \"1ETS\", width: \"640px\", height: \"480px\", mobilemenu: 1, notebook: 1, command: 'load mmdbPDB_ID| parameters &mmdbid=PDB_ID&bu=1; defined sets; select sets chemicals; set background white; style chemicals ball and stick; set surface wireframe on; set surface wireframe on; style proteins cylinder and plate; style proteins cylinder and plate; defined sets; select sets 1ETS; style proteins cylinder and plate; color secondary structure yellow|||{\"factor\":\"1.000\",\"mouseChange\":{\"x\":\"0.000\",\"y\":\"0.000\"},\"quaternion\":{\"_x\":\"0.000\",\"_y\":\"0.000\",\"_z\":\"0.000\",\"_w\":\"1.000\"}}', };\nviewer1681399450849664 = new icn3d.iCn3DUI(cfg);\nviewer1681399450849664.show3DStructure();\n});\n</script>",
      "text/html": [
       "<div id=\"icn3dviewer1681399450849664\" style=\"position: relative; width: 640px; min-height: 580px; height: auto\">\n",
       "        <p id=\"icn3dwarning1681399450849664\" style=\"background-color:#ffcccc;color:black\">You appear to be running in JupyterLab (or JavaScript failed to load for some other reason).  You need to install the extension: <br>\n",
       "        <tt>jupyter labextension install jupyterlab_3dmol</tt></p>\n",
       "        </div>\n",
       "<script>\n",
       "\n",
       "var loadScriptAsync = function(uri){\n",
       "  return new Promise((resolve, reject) => {\n",
       "    var tag = document.createElement('script');\n",
       "    tag.src = uri;\n",
       "    //tag.async = true;\n",
       "    tag.onload = () => {\n",
       "      resolve();\n",
       "    };\n",
       "  var firstScriptTag = document.getElementsByTagName('link')[0];\n",
       "  firstScriptTag.parentNode.insertBefore(tag, firstScriptTag);\n",
       "  });\n",
       "};\n",
       "\n",
       "var loadCssAsync = function(uri){\n",
       "  return new Promise((resolve, reject) => {\n",
       "var tag = document.createElement('link');\n",
       "tag.rel = 'stylesheet';\n",
       "tag.href = uri;\n",
       "//tag.async = true;\n",
       "tag.onload = () => {\n",
       "  resolve();\n",
       "};\n",
       "var firstScriptTag = document.getElementsByTagName('script')[0];\n",
       "firstScriptTag.parentNode.insertBefore(tag, firstScriptTag);\n",
       "  });\n",
       "};\n",
       "\n",
       "if(typeof js === 'undefined') {\n",
       "  js = loadScriptAsync(\"https://www.ncbi.nlm.nih.gov/Structure/icn3d/es5/icn3d_all_full.min.js\");\n",
       "  \n",
       "  css1 = loadCssAsync(\"https://www.ncbi.nlm.nih.gov/Structure/icn3d/lib/jquery-ui-1.12.1.min.css\");\n",
       "  css2 = loadCssAsync(\"https://www.ncbi.nlm.nih.gov/Structure/icn3d/icn3d.css\");\n",
       "}\n",
       "\n",
       "var viewer1681399450849664 = null;\n",
       "var warn = document.getElementById(\"icn3dwarning1681399450849664\");\n",
       "if(warn) {\n",
       "    warn.parentNode.removeChild(warn);\n",
       "}\n",
       "\n",
       "css1\n",
       ".then(function() { return css2; })\n",
       ".then(function() { return js; })\n",
       ".then(function() {\n",
       "cfg = {divid: \"icn3dviewer1681399450849664\", mmdbafid: \"1ETS\", width: \"640px\", height: \"480px\", mobilemenu: 1, notebook: 1, command: 'load mmdbPDB_ID| parameters &mmdbid=PDB_ID&bu=1; defined sets; select sets chemicals; set background white; style chemicals ball and stick; set surface wireframe on; set surface wireframe on; style proteins cylinder and plate; style proteins cylinder and plate; defined sets; select sets 1ETS; style proteins cylinder and plate; color secondary structure yellow|||{\"factor\":\"1.000\",\"mouseChange\":{\"x\":\"0.000\",\"y\":\"0.000\"},\"quaternion\":{\"_x\":\"0.000\",\"_y\":\"0.000\",\"_z\":\"0.000\",\"_w\":\"1.000\"}}', };\n",
       "viewer1681399450849664 = new icn3d.iCn3DUI(cfg);\n",
       "viewer1681399450849664.show3DStructure();\n",
       "});\n",
       "</script>"
      ]
     },
     "metadata": {},
     "output_type": "display_data"
    },
    {
     "data": {
      "text/plain": [
       "<icn3dpy.view at 0x7ff070525ee0>"
      ]
     },
     "execution_count": 47,
     "metadata": {},
     "output_type": "execute_result"
    }
   ],
   "source": [
    "PDB_ID = '1ETS'\n",
    "myview1(PDB_ID)"
   ]
  },
  {
   "cell_type": "code",
   "execution_count": null,
   "id": "6f2de4e1-3043-4208-92b4-67958079ee5c",
   "metadata": {},
   "outputs": [],
   "source": []
  }
 ],
 "metadata": {
  "kernelspec": {
   "display_name": "Python 3",
   "language": "python",
   "name": "python3"
  },
  "language_info": {
   "codemirror_mode": {
    "name": "ipython",
    "version": 3
   },
   "file_extension": ".py",
   "mimetype": "text/x-python",
   "name": "python",
   "nbconvert_exporter": "python",
   "pygments_lexer": "ipython3",
   "version": "3.8.8"
  }
 },
 "nbformat": 4,
 "nbformat_minor": 5
}
