{
 "cells": [
  {
   "cell_type": "markdown",
   "metadata": {},
   "source": [
    "Working with Pandas\n",
    "================="
   ]
  },
  {
   "cell_type": "markdown",
   "metadata": {},
   "source": [
    "<div class=\"overview-this-is-a-title overview\">\n",
    "<p class=\"overview-title\">Overview</p>\n",
    "<p>Questions</p>\n",
    "    <ul>\n",
    "        <li>How can I use import data for analysis in my notebook?\n",
    "    </ul>\n",
    "<p>Objectives:</p>\n",
    "    <ul>\n",
    "        <li>Import the pandas library.\n",
    "        <li>Use pandas library funtions to import data from a csv file.\n",
    "        <li>Import data from a .csv formatted file.\n",
    "    </ul>\n",
    "<p>Keypoints:</p>\n",
    "    <ul>\n",
    "        <li>Use the pandas library to create dataframes from csv formatted data.</li>\n",
    "    </ul>\n",
    "</div>"
   ]
  },
  {
   "cell_type": "markdown",
   "metadata": {},
   "source": [
    "## What is pandas and why do we use it?\n",
    "\n",
    "Pandas is a python library that is designed to work with two dimensional data arrays. It is built on numpy, another python library that specializes in numerical analysis. Numpy also has the ability to create and analyze data arrays. If you are not familiar with arrays, here are some simple examples.\n",
    "\n",
    "### 1D arrays\n",
    "A one dimensional array is simply a list of items, for example, a list of the elements: H, He, Li, Be, B, etc.\n",
    "\n",
    "### 2D arrays\n",
    "A two dimensional array is an array which has rows and columns. It can have any number of columns and rows. A spreadsheet with rows and columns is analogous to a 2D array.\n",
    "\n",
    "### 3D arrays\n",
    "A three-dimensional array would be a collection of two dimensional arrays. For example, this might be a collection of x, y, and z coordinates for a structure as a function of time. \n",
    "\n",
    "The numpy library has functions that will manage n-dimensional arrays, while pandas only works on 2D arrays. You may need numpy for nD arrays at some point, but for this workshop, we will learn to use pandas as we learn how to perform linear and nonlinear regression of laboratory data based on data in 2D arrays.\n",
    "\n",
    "The pandas library contains powerful tools for working with 2D data arrays, including the ability to identify the rows and columns of data by unique identifiers: things like \"Protein Concentration (mg/mL)\" and \"initial velocity\" rather than \"row 1\" or \"column C\"). Pandas also has many more functions that we will not explore in this workshop, but here are three excellent free online resources for learning more about pandas:\n",
    "\n",
    "+ [Using pandas for data analysis](https://education.molssi.org/python-data-analysis/02-pandas/index.html) from MolSSI\n",
    "+ Charlie Weiss's excellent online textbook, *Scientific Computing for Chemists*, which you can find on his GitHub site, [SciCompforChemists](https://github.com/weisscharlesj/SciCompforChemists)\n",
    "+ Corey Schafer's [Pandas Tutorials on YouTube](https://www.youtube.com/watch?v=ZyhVh-qRZPA&list=PL-osiE80TeTsWmV9i9c58mdDCSskIFdDS)"
   ]
  },
  {
   "cell_type": "markdown",
   "metadata": {},
   "source": [
    "## Importing python libraries\n",
    "\n",
    "As we move toward data analysis, we will need to import a series python **libraries**. A **library** is a set of modules which contain related functions that can be used to complete specific tasks. Using libraries in Python reduces the amount of code you have to write. Usually a function has some type of input and gives a particular output.  To use a function that is in a library, you often use the dot notation introduced previously.\n",
    "\n",
    "In the last lesson, we imported the `os` library, which can be used to assign the location of a file to a variable (e.g. datafile), so our script can be transferred between computers with different operating systems (e.g., Mac vs Windows). In this lesson, we will be using the `numpy` and `pandas`, and we will add a few more libraries in the future. As we proceed, we'll build this table. \n",
    "\n",
    "| Library | Uses | Abbreviation |\n",
    "| :------- | :----: | :------------: |\n",
    "| os | file management in operating systems | os |\n",
    "| numpy | calculations | np  | \n",
    "| pandas | data management | pd |\n",
    "\n",
    "To start we will import the two libraries we need to complete the work in this notebook, os and pandas."
   ]
  },
  {
   "cell_type": "code",
   "execution_count": 1,
   "metadata": {},
   "outputs": [],
   "source": [
    "import os\n",
    "import pandas as pd"
   ]
  },
  {
   "cell_type": "markdown",
   "metadata": {},
   "source": [
    "### Locating the data"
   ]
  },
  {
   "cell_type": "markdown",
   "metadata": {},
   "source": [
    "To work with data in Jupyter notebooks, you must first find the data. In the file parsing lesson, we used the `pwd` (print working directory) command to find out where we were located on our computers. In this lesson, we will learn another command, `ls`, which gives us a listing of the files and folders in the working directory. When you enter the `ls` command in a code cell, you might see a file listing like this:\n",
    "\n",
    "```python\n",
    "Bradford_plot.png  \n",
    "Creating_Plots_in_Jupyter_Notebooks.ipynb  \n",
    "File_Parsing.ipynb  \n",
    "Linear_Regression.ipynb  \n",
    "Processing_Multiple_Files_and_Writing_Files.ipynb  \n",
    "Working_with_Pandas.ipynb  \n",
    "data/  \n",
    "images/  \n",
    "introduction.ipynb  \n",
    "nonlinear_regression_part_1.ipynb  \n",
    "nonlinear_regression_part_2.ipynb  \n",
    "setup.ipynb  \n",
    "workshop_schedule.ipynb  \n",
    "```"
   ]
  },
  {
   "cell_type": "markdown",
   "metadata": {},
   "source": [
    "Notice that `data/` is followed by a forward slash. That is because `data` is a folder or directory. In fact, the data folder contains the file we want to use. To get a listing of the files in the `data` folder, you can just type `ls data`. The `ls` command is unix/linux is similar to the `dir` command when you are working at the command prompt in Windows. Please note that when you use the `ls data` command, the list of files and folders that appears may be different from the list shown here. It just depends on which files are located on your computer."
   ]
  },
  {
   "cell_type": "code",
   "execution_count": 2,
   "metadata": {},
   "outputs": [
    {
     "name": "stdout",
     "output_type": "stream",
     "text": [
      "AP_kin.csv                  chymotrypsin_kinetics.csv\r\n",
      "AP_kinetics.csv             chymotrypsin_kinetics.xlsx\r\n",
      "Ground_water.csv            enzyme_kinetics.csv\r\n",
      "MM_data.csv                 enzyme_kinetics.xlsx\r\n",
      "MM_data1.csv                protein_assay.csv\r\n",
      "MM_data_for_NLRpt2.csv      protein_assay2.csv\r\n",
      "PDB678.csv                  protein_samples.csv\r\n",
      "\u001b[1m\u001b[36mPDB_files\u001b[m\u001b[m/                  thrombin_with_ligands.csv\r\n",
      "chymo_MM_data.csv\r\n"
     ]
    }
   ],
   "source": [
    "ls data"
   ]
  },
  {
   "cell_type": "markdown",
   "metadata": {},
   "source": [
    "You will notice a number of files and folders in the data folder. We will be working with the file, `thrombin_with_ligands.csv`. As a first step, we will assign the location of that file to a variable, using the path.join function from the `os` library. "
   ]
  },
  {
   "cell_type": "code",
   "execution_count": 3,
   "metadata": {},
   "outputs": [
    {
     "name": "stdout",
     "output_type": "stream",
     "text": [
      "data/thrombin_with_ligands.csv\n"
     ]
    }
   ],
   "source": [
    "thrombin_file = os.path.join('data', 'thrombin_with_ligands.csv')\n",
    "print(thrombin_file)"
   ]
  },
  {
   "cell_type": "markdown",
   "metadata": {},
   "source": [
    "### Importing the data with pandas\n",
    "As mentioned above, the pandas library has a number of excellent tools for importing data. We will be using the `read_csv` function from the pandas library to import our data. You may have encountered csv files before; csv stands for comma separated values. This is a format that spreadsheet programs like Excel and Google Sheets can both read and write. If you open a csv file in a text editor, it simply contains rows of information, where the information is separated by commas. The information can be integers, real numbers or strings. Here are the first four rows of the csv file that we will be exploring using pandas.\n",
    "\n",
    "```\n",
    "PDB ID,Method,Resolution,Structure,Ligand ID,Ligand name\n",
    "\n",
    "3SHC,X-RAY DIFFRACTION,1.9,Human Thrombin,B01,D-phenylalanyl-N-[(4-chloropyridin-2-yl)methyl]-L-prolinamide\n",
    "\n",
    "3P17,X-RAY DIFFRACTION,1.43,Thrombin,99P,D-phenylalanyl-N-(pyridin-3-ylmethyl)-L-prolinamide\n",
    "\n",
    "2ZNK,X-RAY DIFFRACTION,1.8,Thrombin,31U,D-leucyl-N-(4-carbamimidoylbenzyl)-L-prolinamide\n",
    "```\n",
    "\n",
    "If you look at these data carefully, you can see how they could easily be arranged in a table, with the labels in the first row as the column headers. Before we can explore how pandas can do that for us, let's look at the help command for the `read_csv` function in pandas.\n",
    "\n",
    "```python\n",
    "help(pd.read_csv)\n",
    "```\n",
    "\n",
    "Notice the syntax for the command:  help is followed by parentheses, which contain the function name that we want to explore. Also note that `pandas` is abbreviated as `pd`. That may seem strange at first, but you will get used to library abbreviations in short order if you work much with Jupyter notebooks, or with python in general.\n",
    "\n",
    "If you enter this command in a cell, the output will be over 200 lines long. You can learn about all of the arguments that can be attached to the read_csv function and how they affect the dataframe. Just to give you a taste, here are the first few lines you would see.\n",
    "\n",
    "Help on function read_csv in module pandas.io.parsers:\n",
    "\n",
    "```python\n",
    "read_csv(filepath_or_buffer: Union[str, pathlib.Path, IO[~AnyStr]], sep=',', delimiter=None,\n",
    "header='infer', names=None, index_col=None, usecols=None, squeeze=False, prefix=None, mangle_dupe_cols=True, dtype=None, engine=None, converters=None, true_values=None, false_values=None, skipinitialspace=False, skiprows=None, skipfooter=0, nrows=None, na_values=None, keep_default_na=True, na_filter=True, verbose=False, skip_blank_lines=True, parse_dates=False, infer_datetime_format=False, keep_date_col=False, date_parser=None, dayfirst=False, cache_dates=True, iterator=False, chunksize=None, compression='infer', thousands=None, decimal: str = '.', lineterminator=None, quotechar='\"', quoting=0, doublequote=True, escapechar=None, comment=None, encoding=None, dialect=None, error_bad_lines=True, warn_bad_lines=True, delim_whitespace=False, low_memory=True, memory_map=False, float_precision=None)\n",
    "```"
   ]
  },
  {
   "cell_type": "markdown",
   "metadata": {},
   "source": [
    "The panda library contains many more options than we have time to explore right now, but one thing to pay special attention to is called a `dataframe`. The [pandas dataframe](https://pandas.pydata.org/pandas-docs/stable/reference/api/pandas.DataFrame.html) is the primary data structure that is produced and manipulated by pandas functions. We can take an existing 2D data array and tell pandas to convert it to a DataFrame, or we can use the read_csv command to convert a csv file to a pandas dataframe. As our example, we will be exploring a csv file containing information about different thrombin structures found in the [Protein Data Bank](https://www.rcsb.org/). So let's create our DataFrame and explore what it contains."
   ]
  },
  {
   "cell_type": "code",
   "execution_count": 4,
   "metadata": {},
   "outputs": [
    {
     "data": {
      "text/html": [
       "<div>\n",
       "<style scoped>\n",
       "    .dataframe tbody tr th:only-of-type {\n",
       "        vertical-align: middle;\n",
       "    }\n",
       "\n",
       "    .dataframe tbody tr th {\n",
       "        vertical-align: top;\n",
       "    }\n",
       "\n",
       "    .dataframe thead th {\n",
       "        text-align: right;\n",
       "    }\n",
       "</style>\n",
       "<table border=\"1\" class=\"dataframe\">\n",
       "  <thead>\n",
       "    <tr style=\"text-align: right;\">\n",
       "      <th></th>\n",
       "      <th>PDB ID</th>\n",
       "      <th>Method</th>\n",
       "      <th>Resolution</th>\n",
       "      <th>Structure</th>\n",
       "      <th>Ligand ID</th>\n",
       "      <th>Ligand name</th>\n",
       "    </tr>\n",
       "  </thead>\n",
       "  <tbody>\n",
       "    <tr>\n",
       "      <th>0</th>\n",
       "      <td>3SHC</td>\n",
       "      <td>X-RAY DIFFRACTION</td>\n",
       "      <td>1.90</td>\n",
       "      <td>Human Thrombin</td>\n",
       "      <td>B01</td>\n",
       "      <td>D-phenylalanyl-N-[(4-chloropyridin-2-yl)methyl...</td>\n",
       "    </tr>\n",
       "    <tr>\n",
       "      <th>1</th>\n",
       "      <td>3P17</td>\n",
       "      <td>X-RAY DIFFRACTION</td>\n",
       "      <td>1.43</td>\n",
       "      <td>Thrombin</td>\n",
       "      <td>99P</td>\n",
       "      <td>D-phenylalanyl-N-(pyridin-3-ylmethyl)-L-prolin...</td>\n",
       "    </tr>\n",
       "    <tr>\n",
       "      <th>2</th>\n",
       "      <td>2ZNK</td>\n",
       "      <td>X-RAY DIFFRACTION</td>\n",
       "      <td>1.80</td>\n",
       "      <td>Thrombin</td>\n",
       "      <td>31U</td>\n",
       "      <td>D-leucyl-N-(4-carbamimidoylbenzyl)-L-prolinamide</td>\n",
       "    </tr>\n",
       "    <tr>\n",
       "      <th>3</th>\n",
       "      <td>3SI3</td>\n",
       "      <td>X-RAY DIFFRACTION</td>\n",
       "      <td>1.55</td>\n",
       "      <td>Human Thrombin</td>\n",
       "      <td>B03</td>\n",
       "      <td>D-phenylalanyl-N-(pyridin-2-ylmethyl)-L-prolin...</td>\n",
       "    </tr>\n",
       "    <tr>\n",
       "      <th>4</th>\n",
       "      <td>3SI4</td>\n",
       "      <td>X-RAY DIFFRACTION</td>\n",
       "      <td>1.27</td>\n",
       "      <td>Human Thrombin</td>\n",
       "      <td>B04</td>\n",
       "      <td>D-phenylalanyl-N-[(1-methylpyridinium-2-yl)met...</td>\n",
       "    </tr>\n",
       "    <tr>\n",
       "      <th>5</th>\n",
       "      <td>3SV2</td>\n",
       "      <td>X-RAY DIFFRACTION</td>\n",
       "      <td>1.30</td>\n",
       "      <td>Human Thrombin</td>\n",
       "      <td>P05</td>\n",
       "      <td>D-phenylalanyl-N-(pyridin-4-ylmethyl)-L-prolin...</td>\n",
       "    </tr>\n",
       "    <tr>\n",
       "      <th>6</th>\n",
       "      <td>1UVU</td>\n",
       "      <td>X-RAY DIFFRACTION</td>\n",
       "      <td>2.80</td>\n",
       "      <td>Bovine Thrombin</td>\n",
       "      <td>DCH</td>\n",
       "      <td>3-(7-DIAMINOMETHYL-NAPHTHALEN-2-YL)-PROPIONIC ...</td>\n",
       "    </tr>\n",
       "    <tr>\n",
       "      <th>7</th>\n",
       "      <td>1UVT</td>\n",
       "      <td>X-RAY DIFFRACTION</td>\n",
       "      <td>2.50</td>\n",
       "      <td>Bovine Thrombin</td>\n",
       "      <td>I48</td>\n",
       "      <td>N-{3-METHYL-5-[2-(PYRIDIN-4-YLAMINO)-ETHOXY]-P...</td>\n",
       "    </tr>\n",
       "    <tr>\n",
       "      <th>8</th>\n",
       "      <td>2C8Z</td>\n",
       "      <td>X-RAY DIFFRACTION</td>\n",
       "      <td>2.14</td>\n",
       "      <td>Thrombin</td>\n",
       "      <td>C2A</td>\n",
       "      <td>1-(3-CHLOROPHENYL)METHANAMINE</td>\n",
       "    </tr>\n",
       "    <tr>\n",
       "      <th>9</th>\n",
       "      <td>2C8Y</td>\n",
       "      <td>X-RAY DIFFRACTION</td>\n",
       "      <td>2.20</td>\n",
       "      <td>Thrombin</td>\n",
       "      <td>C3M</td>\n",
       "      <td>N-[(2R,3S)-3-AMINO-2-HYDROXY-4-PHENYLBUTYL]NAP...</td>\n",
       "    </tr>\n",
       "    <tr>\n",
       "      <th>10</th>\n",
       "      <td>2C90</td>\n",
       "      <td>X-RAY DIFFRACTION</td>\n",
       "      <td>2.25</td>\n",
       "      <td>Thrombin</td>\n",
       "      <td>C1M</td>\n",
       "      <td>1-(4-CHLOROPHENYL)-1H-TETRAZOLE</td>\n",
       "    </tr>\n",
       "  </tbody>\n",
       "</table>\n",
       "</div>"
      ],
      "text/plain": [
       "   PDB ID             Method  Resolution        Structure Ligand ID  \\\n",
       "0    3SHC  X-RAY DIFFRACTION        1.90   Human Thrombin       B01   \n",
       "1    3P17  X-RAY DIFFRACTION        1.43         Thrombin       99P   \n",
       "2    2ZNK  X-RAY DIFFRACTION        1.80         Thrombin       31U   \n",
       "3    3SI3  X-RAY DIFFRACTION        1.55   Human Thrombin       B03   \n",
       "4    3SI4  X-RAY DIFFRACTION        1.27   Human Thrombin       B04   \n",
       "5    3SV2  X-RAY DIFFRACTION        1.30   Human Thrombin       P05   \n",
       "6    1UVU  X-RAY DIFFRACTION        2.80  Bovine Thrombin       DCH   \n",
       "7    1UVT  X-RAY DIFFRACTION        2.50  Bovine Thrombin       I48   \n",
       "8    2C8Z  X-RAY DIFFRACTION        2.14         Thrombin       C2A   \n",
       "9    2C8Y  X-RAY DIFFRACTION        2.20         Thrombin       C3M   \n",
       "10   2C90  X-RAY DIFFRACTION        2.25         Thrombin       C1M   \n",
       "\n",
       "                                          Ligand name  \n",
       "0   D-phenylalanyl-N-[(4-chloropyridin-2-yl)methyl...  \n",
       "1   D-phenylalanyl-N-(pyridin-3-ylmethyl)-L-prolin...  \n",
       "2    D-leucyl-N-(4-carbamimidoylbenzyl)-L-prolinamide  \n",
       "3   D-phenylalanyl-N-(pyridin-2-ylmethyl)-L-prolin...  \n",
       "4   D-phenylalanyl-N-[(1-methylpyridinium-2-yl)met...  \n",
       "5   D-phenylalanyl-N-(pyridin-4-ylmethyl)-L-prolin...  \n",
       "6   3-(7-DIAMINOMETHYL-NAPHTHALEN-2-YL)-PROPIONIC ...  \n",
       "7   N-{3-METHYL-5-[2-(PYRIDIN-4-YLAMINO)-ETHOXY]-P...  \n",
       "8                       1-(3-CHLOROPHENYL)METHANAMINE  \n",
       "9   N-[(2R,3S)-3-AMINO-2-HYDROXY-4-PHENYLBUTYL]NAP...  \n",
       "10                    1-(4-CHLOROPHENYL)-1H-TETRAZOLE  "
      ]
     },
     "execution_count": 4,
     "metadata": {},
     "output_type": "execute_result"
    }
   ],
   "source": [
    "thrombin_df = pd.read_csv(thrombin_file) #thrombin_df is a convenient name for our dataframe.\n",
    "thrombin_df"
   ]
  },
  {
   "cell_type": "markdown",
   "metadata": {},
   "source": [
    "### Finding information in a dataframe\n",
    "\n",
    "The dataframe appears as a table. The data are in rows (\"indexes\") and columns (\"series\"). If you want to look at the data in a single column (one series), you can use this command."
   ]
  },
  {
   "cell_type": "code",
   "execution_count": 5,
   "metadata": {},
   "outputs": [
    {
     "data": {
      "text/plain": [
       "0     1.90\n",
       "1     1.43\n",
       "2     1.80\n",
       "3     1.55\n",
       "4     1.27\n",
       "5     1.30\n",
       "6     2.80\n",
       "7     2.50\n",
       "8     2.14\n",
       "9     2.20\n",
       "10    2.25\n",
       "Name: Resolution, dtype: float64"
      ]
     },
     "execution_count": 5,
     "metadata": {},
     "output_type": "execute_result"
    }
   ],
   "source": [
    "thrombin_df['Resolution']"
   ]
  },
  {
   "cell_type": "markdown",
   "metadata": {},
   "source": [
    "<div class=\"exercise-this-is-a-title exercise\">\n",
    "<p class=\"exercise-title\">Check your understanding</p>\n",
    "    <p>How can you print out the ligand names for each of the structures? </p>\n",
    "    \n",
    "```{admonition} Solution\n",
    ":class: dropdown\n",
    "\n",
    "```python\n",
    "thrombin_df['Ligand name']\n",
    "```\n",
    "    \n",
    "</div>"
   ]
  },
  {
   "cell_type": "markdown",
   "metadata": {},
   "source": [
    "You can use the loc function from the pandas library to get all the information from a single index or row."
   ]
  },
  {
   "cell_type": "code",
   "execution_count": 6,
   "metadata": {},
   "outputs": [
    {
     "data": {
      "text/plain": [
       "PDB ID                                                     2ZNK\n",
       "Method                                        X-RAY DIFFRACTION\n",
       "Resolution                                                  1.8\n",
       "Structure                                              Thrombin\n",
       "Ligand ID                                                   31U\n",
       "Ligand name    D-leucyl-N-(4-carbamimidoylbenzyl)-L-prolinamide\n",
       "Name: 2, dtype: object"
      ]
     },
     "execution_count": 6,
     "metadata": {},
     "output_type": "execute_result"
    }
   ],
   "source": [
    "thrombin_df.loc[2]"
   ]
  },
  {
   "cell_type": "markdown",
   "metadata": {},
   "source": [
    "You can also use the loc command to locate the information from a specific cell. If you enter the index (row) of 2 and the column 'Resolution', the resolution for the structure in the third row is returned. You may be thinking, \"Resolution is the third column. Why does python think it is column 2?\" Remember that python starts counting at 0. So the number for the first column is 0 and the number for the third column is 2."
   ]
  },
  {
   "cell_type": "code",
   "execution_count": 7,
   "metadata": {},
   "outputs": [
    {
     "data": {
      "text/plain": [
       "1.8"
      ]
     },
     "execution_count": 7,
     "metadata": {},
     "output_type": "execute_result"
    }
   ],
   "source": [
    "thrombin_df.loc[2, 'Resolution']"
   ]
  },
  {
   "cell_type": "markdown",
   "metadata": {},
   "source": [
    "There are times when you may want to use the index number and column number to locate the information in that cell in the dataframe. In this case, you can use the iloc (for integer locate) command, which accepts integers in the form of \\[row, column]. "
   ]
  },
  {
   "cell_type": "code",
   "execution_count": 8,
   "metadata": {},
   "outputs": [
    {
     "data": {
      "text/plain": [
       "1.8"
      ]
     },
     "execution_count": 8,
     "metadata": {},
     "output_type": "execute_result"
    }
   ],
   "source": [
    "thrombin_df.iloc[2,2]"
   ]
  },
  {
   "cell_type": "markdown",
   "metadata": {},
   "source": [
    "If you only want to look at the first five rows of a dataframe, you can use the `head` function; you can use the `tail` function to look at the last five rows. We always include () after the name of the function. This is how we can pass arguments into the function. Try using the argument 3 in the head command."
   ]
  },
  {
   "cell_type": "code",
   "execution_count": 9,
   "metadata": {},
   "outputs": [
    {
     "data": {
      "text/html": [
       "<div>\n",
       "<style scoped>\n",
       "    .dataframe tbody tr th:only-of-type {\n",
       "        vertical-align: middle;\n",
       "    }\n",
       "\n",
       "    .dataframe tbody tr th {\n",
       "        vertical-align: top;\n",
       "    }\n",
       "\n",
       "    .dataframe thead th {\n",
       "        text-align: right;\n",
       "    }\n",
       "</style>\n",
       "<table border=\"1\" class=\"dataframe\">\n",
       "  <thead>\n",
       "    <tr style=\"text-align: right;\">\n",
       "      <th></th>\n",
       "      <th>PDB ID</th>\n",
       "      <th>Method</th>\n",
       "      <th>Resolution</th>\n",
       "      <th>Structure</th>\n",
       "      <th>Ligand ID</th>\n",
       "      <th>Ligand name</th>\n",
       "    </tr>\n",
       "  </thead>\n",
       "  <tbody>\n",
       "    <tr>\n",
       "      <th>0</th>\n",
       "      <td>3SHC</td>\n",
       "      <td>X-RAY DIFFRACTION</td>\n",
       "      <td>1.90</td>\n",
       "      <td>Human Thrombin</td>\n",
       "      <td>B01</td>\n",
       "      <td>D-phenylalanyl-N-[(4-chloropyridin-2-yl)methyl...</td>\n",
       "    </tr>\n",
       "    <tr>\n",
       "      <th>1</th>\n",
       "      <td>3P17</td>\n",
       "      <td>X-RAY DIFFRACTION</td>\n",
       "      <td>1.43</td>\n",
       "      <td>Thrombin</td>\n",
       "      <td>99P</td>\n",
       "      <td>D-phenylalanyl-N-(pyridin-3-ylmethyl)-L-prolin...</td>\n",
       "    </tr>\n",
       "    <tr>\n",
       "      <th>2</th>\n",
       "      <td>2ZNK</td>\n",
       "      <td>X-RAY DIFFRACTION</td>\n",
       "      <td>1.80</td>\n",
       "      <td>Thrombin</td>\n",
       "      <td>31U</td>\n",
       "      <td>D-leucyl-N-(4-carbamimidoylbenzyl)-L-prolinamide</td>\n",
       "    </tr>\n",
       "    <tr>\n",
       "      <th>3</th>\n",
       "      <td>3SI3</td>\n",
       "      <td>X-RAY DIFFRACTION</td>\n",
       "      <td>1.55</td>\n",
       "      <td>Human Thrombin</td>\n",
       "      <td>B03</td>\n",
       "      <td>D-phenylalanyl-N-(pyridin-2-ylmethyl)-L-prolin...</td>\n",
       "    </tr>\n",
       "    <tr>\n",
       "      <th>4</th>\n",
       "      <td>3SI4</td>\n",
       "      <td>X-RAY DIFFRACTION</td>\n",
       "      <td>1.27</td>\n",
       "      <td>Human Thrombin</td>\n",
       "      <td>B04</td>\n",
       "      <td>D-phenylalanyl-N-[(1-methylpyridinium-2-yl)met...</td>\n",
       "    </tr>\n",
       "  </tbody>\n",
       "</table>\n",
       "</div>"
      ],
      "text/plain": [
       "  PDB ID             Method  Resolution       Structure Ligand ID  \\\n",
       "0   3SHC  X-RAY DIFFRACTION        1.90  Human Thrombin       B01   \n",
       "1   3P17  X-RAY DIFFRACTION        1.43        Thrombin       99P   \n",
       "2   2ZNK  X-RAY DIFFRACTION        1.80        Thrombin       31U   \n",
       "3   3SI3  X-RAY DIFFRACTION        1.55  Human Thrombin       B03   \n",
       "4   3SI4  X-RAY DIFFRACTION        1.27  Human Thrombin       B04   \n",
       "\n",
       "                                         Ligand name  \n",
       "0  D-phenylalanyl-N-[(4-chloropyridin-2-yl)methyl...  \n",
       "1  D-phenylalanyl-N-(pyridin-3-ylmethyl)-L-prolin...  \n",
       "2   D-leucyl-N-(4-carbamimidoylbenzyl)-L-prolinamide  \n",
       "3  D-phenylalanyl-N-(pyridin-2-ylmethyl)-L-prolin...  \n",
       "4  D-phenylalanyl-N-[(1-methylpyridinium-2-yl)met...  "
      ]
     },
     "execution_count": 9,
     "metadata": {},
     "output_type": "execute_result"
    }
   ],
   "source": [
    "thrombin_df.head()"
   ]
  },
  {
   "cell_type": "code",
   "execution_count": 10,
   "metadata": {},
   "outputs": [
    {
     "data": {
      "text/html": [
       "<div>\n",
       "<style scoped>\n",
       "    .dataframe tbody tr th:only-of-type {\n",
       "        vertical-align: middle;\n",
       "    }\n",
       "\n",
       "    .dataframe tbody tr th {\n",
       "        vertical-align: top;\n",
       "    }\n",
       "\n",
       "    .dataframe thead th {\n",
       "        text-align: right;\n",
       "    }\n",
       "</style>\n",
       "<table border=\"1\" class=\"dataframe\">\n",
       "  <thead>\n",
       "    <tr style=\"text-align: right;\">\n",
       "      <th></th>\n",
       "      <th>PDB ID</th>\n",
       "      <th>Method</th>\n",
       "      <th>Resolution</th>\n",
       "      <th>Structure</th>\n",
       "      <th>Ligand ID</th>\n",
       "      <th>Ligand name</th>\n",
       "    </tr>\n",
       "  </thead>\n",
       "  <tbody>\n",
       "    <tr>\n",
       "      <th>0</th>\n",
       "      <td>3SHC</td>\n",
       "      <td>X-RAY DIFFRACTION</td>\n",
       "      <td>1.90</td>\n",
       "      <td>Human Thrombin</td>\n",
       "      <td>B01</td>\n",
       "      <td>D-phenylalanyl-N-[(4-chloropyridin-2-yl)methyl...</td>\n",
       "    </tr>\n",
       "    <tr>\n",
       "      <th>1</th>\n",
       "      <td>3P17</td>\n",
       "      <td>X-RAY DIFFRACTION</td>\n",
       "      <td>1.43</td>\n",
       "      <td>Thrombin</td>\n",
       "      <td>99P</td>\n",
       "      <td>D-phenylalanyl-N-(pyridin-3-ylmethyl)-L-prolin...</td>\n",
       "    </tr>\n",
       "    <tr>\n",
       "      <th>2</th>\n",
       "      <td>2ZNK</td>\n",
       "      <td>X-RAY DIFFRACTION</td>\n",
       "      <td>1.80</td>\n",
       "      <td>Thrombin</td>\n",
       "      <td>31U</td>\n",
       "      <td>D-leucyl-N-(4-carbamimidoylbenzyl)-L-prolinamide</td>\n",
       "    </tr>\n",
       "  </tbody>\n",
       "</table>\n",
       "</div>"
      ],
      "text/plain": [
       "  PDB ID             Method  Resolution       Structure Ligand ID  \\\n",
       "0   3SHC  X-RAY DIFFRACTION        1.90  Human Thrombin       B01   \n",
       "1   3P17  X-RAY DIFFRACTION        1.43        Thrombin       99P   \n",
       "2   2ZNK  X-RAY DIFFRACTION        1.80        Thrombin       31U   \n",
       "\n",
       "                                         Ligand name  \n",
       "0  D-phenylalanyl-N-[(4-chloropyridin-2-yl)methyl...  \n",
       "1  D-phenylalanyl-N-(pyridin-3-ylmethyl)-L-prolin...  \n",
       "2   D-leucyl-N-(4-carbamimidoylbenzyl)-L-prolinamide  "
      ]
     },
     "execution_count": 10,
     "metadata": {},
     "output_type": "execute_result"
    }
   ],
   "source": [
    "thrombin_df.head(3)"
   ]
  },
  {
   "cell_type": "code",
   "execution_count": 11,
   "metadata": {
    "scrolled": true
   },
   "outputs": [
    {
     "data": {
      "text/html": [
       "<div>\n",
       "<style scoped>\n",
       "    .dataframe tbody tr th:only-of-type {\n",
       "        vertical-align: middle;\n",
       "    }\n",
       "\n",
       "    .dataframe tbody tr th {\n",
       "        vertical-align: top;\n",
       "    }\n",
       "\n",
       "    .dataframe thead th {\n",
       "        text-align: right;\n",
       "    }\n",
       "</style>\n",
       "<table border=\"1\" class=\"dataframe\">\n",
       "  <thead>\n",
       "    <tr style=\"text-align: right;\">\n",
       "      <th></th>\n",
       "      <th>PDB ID</th>\n",
       "      <th>Method</th>\n",
       "      <th>Resolution</th>\n",
       "      <th>Structure</th>\n",
       "      <th>Ligand ID</th>\n",
       "      <th>Ligand name</th>\n",
       "    </tr>\n",
       "  </thead>\n",
       "  <tbody>\n",
       "    <tr>\n",
       "      <th>6</th>\n",
       "      <td>1UVU</td>\n",
       "      <td>X-RAY DIFFRACTION</td>\n",
       "      <td>2.80</td>\n",
       "      <td>Bovine Thrombin</td>\n",
       "      <td>DCH</td>\n",
       "      <td>3-(7-DIAMINOMETHYL-NAPHTHALEN-2-YL)-PROPIONIC ...</td>\n",
       "    </tr>\n",
       "    <tr>\n",
       "      <th>7</th>\n",
       "      <td>1UVT</td>\n",
       "      <td>X-RAY DIFFRACTION</td>\n",
       "      <td>2.50</td>\n",
       "      <td>Bovine Thrombin</td>\n",
       "      <td>I48</td>\n",
       "      <td>N-{3-METHYL-5-[2-(PYRIDIN-4-YLAMINO)-ETHOXY]-P...</td>\n",
       "    </tr>\n",
       "    <tr>\n",
       "      <th>8</th>\n",
       "      <td>2C8Z</td>\n",
       "      <td>X-RAY DIFFRACTION</td>\n",
       "      <td>2.14</td>\n",
       "      <td>Thrombin</td>\n",
       "      <td>C2A</td>\n",
       "      <td>1-(3-CHLOROPHENYL)METHANAMINE</td>\n",
       "    </tr>\n",
       "    <tr>\n",
       "      <th>9</th>\n",
       "      <td>2C8Y</td>\n",
       "      <td>X-RAY DIFFRACTION</td>\n",
       "      <td>2.20</td>\n",
       "      <td>Thrombin</td>\n",
       "      <td>C3M</td>\n",
       "      <td>N-[(2R,3S)-3-AMINO-2-HYDROXY-4-PHENYLBUTYL]NAP...</td>\n",
       "    </tr>\n",
       "    <tr>\n",
       "      <th>10</th>\n",
       "      <td>2C90</td>\n",
       "      <td>X-RAY DIFFRACTION</td>\n",
       "      <td>2.25</td>\n",
       "      <td>Thrombin</td>\n",
       "      <td>C1M</td>\n",
       "      <td>1-(4-CHLOROPHENYL)-1H-TETRAZOLE</td>\n",
       "    </tr>\n",
       "  </tbody>\n",
       "</table>\n",
       "</div>"
      ],
      "text/plain": [
       "   PDB ID             Method  Resolution        Structure Ligand ID  \\\n",
       "6    1UVU  X-RAY DIFFRACTION        2.80  Bovine Thrombin       DCH   \n",
       "7    1UVT  X-RAY DIFFRACTION        2.50  Bovine Thrombin       I48   \n",
       "8    2C8Z  X-RAY DIFFRACTION        2.14         Thrombin       C2A   \n",
       "9    2C8Y  X-RAY DIFFRACTION        2.20         Thrombin       C3M   \n",
       "10   2C90  X-RAY DIFFRACTION        2.25         Thrombin       C1M   \n",
       "\n",
       "                                          Ligand name  \n",
       "6   3-(7-DIAMINOMETHYL-NAPHTHALEN-2-YL)-PROPIONIC ...  \n",
       "7   N-{3-METHYL-5-[2-(PYRIDIN-4-YLAMINO)-ETHOXY]-P...  \n",
       "8                       1-(3-CHLOROPHENYL)METHANAMINE  \n",
       "9   N-[(2R,3S)-3-AMINO-2-HYDROXY-4-PHENYLBUTYL]NAP...  \n",
       "10                    1-(4-CHLOROPHENYL)-1H-TETRAZOLE  "
      ]
     },
     "execution_count": 11,
     "metadata": {},
     "output_type": "execute_result"
    }
   ],
   "source": [
    "thrombin_df.tail()"
   ]
  },
  {
   "cell_type": "markdown",
   "metadata": {},
   "source": [
    "### Sorting data with pandas\n",
    "You can also sort the data using the pandas sort_values function. To sort the thrombin_df dataframe into ascending Resolution values, use the following command."
   ]
  },
  {
   "cell_type": "code",
   "execution_count": 12,
   "metadata": {
    "scrolled": true
   },
   "outputs": [
    {
     "data": {
      "text/html": [
       "<div>\n",
       "<style scoped>\n",
       "    .dataframe tbody tr th:only-of-type {\n",
       "        vertical-align: middle;\n",
       "    }\n",
       "\n",
       "    .dataframe tbody tr th {\n",
       "        vertical-align: top;\n",
       "    }\n",
       "\n",
       "    .dataframe thead th {\n",
       "        text-align: right;\n",
       "    }\n",
       "</style>\n",
       "<table border=\"1\" class=\"dataframe\">\n",
       "  <thead>\n",
       "    <tr style=\"text-align: right;\">\n",
       "      <th></th>\n",
       "      <th>PDB ID</th>\n",
       "      <th>Method</th>\n",
       "      <th>Resolution</th>\n",
       "      <th>Structure</th>\n",
       "      <th>Ligand ID</th>\n",
       "      <th>Ligand name</th>\n",
       "    </tr>\n",
       "  </thead>\n",
       "  <tbody>\n",
       "    <tr>\n",
       "      <th>4</th>\n",
       "      <td>3SI4</td>\n",
       "      <td>X-RAY DIFFRACTION</td>\n",
       "      <td>1.27</td>\n",
       "      <td>Human Thrombin</td>\n",
       "      <td>B04</td>\n",
       "      <td>D-phenylalanyl-N-[(1-methylpyridinium-2-yl)met...</td>\n",
       "    </tr>\n",
       "    <tr>\n",
       "      <th>5</th>\n",
       "      <td>3SV2</td>\n",
       "      <td>X-RAY DIFFRACTION</td>\n",
       "      <td>1.30</td>\n",
       "      <td>Human Thrombin</td>\n",
       "      <td>P05</td>\n",
       "      <td>D-phenylalanyl-N-(pyridin-4-ylmethyl)-L-prolin...</td>\n",
       "    </tr>\n",
       "    <tr>\n",
       "      <th>1</th>\n",
       "      <td>3P17</td>\n",
       "      <td>X-RAY DIFFRACTION</td>\n",
       "      <td>1.43</td>\n",
       "      <td>Thrombin</td>\n",
       "      <td>99P</td>\n",
       "      <td>D-phenylalanyl-N-(pyridin-3-ylmethyl)-L-prolin...</td>\n",
       "    </tr>\n",
       "    <tr>\n",
       "      <th>3</th>\n",
       "      <td>3SI3</td>\n",
       "      <td>X-RAY DIFFRACTION</td>\n",
       "      <td>1.55</td>\n",
       "      <td>Human Thrombin</td>\n",
       "      <td>B03</td>\n",
       "      <td>D-phenylalanyl-N-(pyridin-2-ylmethyl)-L-prolin...</td>\n",
       "    </tr>\n",
       "    <tr>\n",
       "      <th>2</th>\n",
       "      <td>2ZNK</td>\n",
       "      <td>X-RAY DIFFRACTION</td>\n",
       "      <td>1.80</td>\n",
       "      <td>Thrombin</td>\n",
       "      <td>31U</td>\n",
       "      <td>D-leucyl-N-(4-carbamimidoylbenzyl)-L-prolinamide</td>\n",
       "    </tr>\n",
       "    <tr>\n",
       "      <th>0</th>\n",
       "      <td>3SHC</td>\n",
       "      <td>X-RAY DIFFRACTION</td>\n",
       "      <td>1.90</td>\n",
       "      <td>Human Thrombin</td>\n",
       "      <td>B01</td>\n",
       "      <td>D-phenylalanyl-N-[(4-chloropyridin-2-yl)methyl...</td>\n",
       "    </tr>\n",
       "    <tr>\n",
       "      <th>8</th>\n",
       "      <td>2C8Z</td>\n",
       "      <td>X-RAY DIFFRACTION</td>\n",
       "      <td>2.14</td>\n",
       "      <td>Thrombin</td>\n",
       "      <td>C2A</td>\n",
       "      <td>1-(3-CHLOROPHENYL)METHANAMINE</td>\n",
       "    </tr>\n",
       "    <tr>\n",
       "      <th>9</th>\n",
       "      <td>2C8Y</td>\n",
       "      <td>X-RAY DIFFRACTION</td>\n",
       "      <td>2.20</td>\n",
       "      <td>Thrombin</td>\n",
       "      <td>C3M</td>\n",
       "      <td>N-[(2R,3S)-3-AMINO-2-HYDROXY-4-PHENYLBUTYL]NAP...</td>\n",
       "    </tr>\n",
       "    <tr>\n",
       "      <th>10</th>\n",
       "      <td>2C90</td>\n",
       "      <td>X-RAY DIFFRACTION</td>\n",
       "      <td>2.25</td>\n",
       "      <td>Thrombin</td>\n",
       "      <td>C1M</td>\n",
       "      <td>1-(4-CHLOROPHENYL)-1H-TETRAZOLE</td>\n",
       "    </tr>\n",
       "    <tr>\n",
       "      <th>7</th>\n",
       "      <td>1UVT</td>\n",
       "      <td>X-RAY DIFFRACTION</td>\n",
       "      <td>2.50</td>\n",
       "      <td>Bovine Thrombin</td>\n",
       "      <td>I48</td>\n",
       "      <td>N-{3-METHYL-5-[2-(PYRIDIN-4-YLAMINO)-ETHOXY]-P...</td>\n",
       "    </tr>\n",
       "    <tr>\n",
       "      <th>6</th>\n",
       "      <td>1UVU</td>\n",
       "      <td>X-RAY DIFFRACTION</td>\n",
       "      <td>2.80</td>\n",
       "      <td>Bovine Thrombin</td>\n",
       "      <td>DCH</td>\n",
       "      <td>3-(7-DIAMINOMETHYL-NAPHTHALEN-2-YL)-PROPIONIC ...</td>\n",
       "    </tr>\n",
       "  </tbody>\n",
       "</table>\n",
       "</div>"
      ],
      "text/plain": [
       "   PDB ID             Method  Resolution        Structure Ligand ID  \\\n",
       "4    3SI4  X-RAY DIFFRACTION        1.27   Human Thrombin       B04   \n",
       "5    3SV2  X-RAY DIFFRACTION        1.30   Human Thrombin       P05   \n",
       "1    3P17  X-RAY DIFFRACTION        1.43         Thrombin       99P   \n",
       "3    3SI3  X-RAY DIFFRACTION        1.55   Human Thrombin       B03   \n",
       "2    2ZNK  X-RAY DIFFRACTION        1.80         Thrombin       31U   \n",
       "0    3SHC  X-RAY DIFFRACTION        1.90   Human Thrombin       B01   \n",
       "8    2C8Z  X-RAY DIFFRACTION        2.14         Thrombin       C2A   \n",
       "9    2C8Y  X-RAY DIFFRACTION        2.20         Thrombin       C3M   \n",
       "10   2C90  X-RAY DIFFRACTION        2.25         Thrombin       C1M   \n",
       "7    1UVT  X-RAY DIFFRACTION        2.50  Bovine Thrombin       I48   \n",
       "6    1UVU  X-RAY DIFFRACTION        2.80  Bovine Thrombin       DCH   \n",
       "\n",
       "                                          Ligand name  \n",
       "4   D-phenylalanyl-N-[(1-methylpyridinium-2-yl)met...  \n",
       "5   D-phenylalanyl-N-(pyridin-4-ylmethyl)-L-prolin...  \n",
       "1   D-phenylalanyl-N-(pyridin-3-ylmethyl)-L-prolin...  \n",
       "3   D-phenylalanyl-N-(pyridin-2-ylmethyl)-L-prolin...  \n",
       "2    D-leucyl-N-(4-carbamimidoylbenzyl)-L-prolinamide  \n",
       "0   D-phenylalanyl-N-[(4-chloropyridin-2-yl)methyl...  \n",
       "8                       1-(3-CHLOROPHENYL)METHANAMINE  \n",
       "9   N-[(2R,3S)-3-AMINO-2-HYDROXY-4-PHENYLBUTYL]NAP...  \n",
       "10                    1-(4-CHLOROPHENYL)-1H-TETRAZOLE  \n",
       "7   N-{3-METHYL-5-[2-(PYRIDIN-4-YLAMINO)-ETHOXY]-P...  \n",
       "6   3-(7-DIAMINOMETHYL-NAPHTHALEN-2-YL)-PROPIONIC ...  "
      ]
     },
     "execution_count": 12,
     "metadata": {},
     "output_type": "execute_result"
    }
   ],
   "source": [
    "thrombin_df.sort_values('Resolution')"
   ]
  },
  {
   "cell_type": "markdown",
   "metadata": {},
   "source": [
    "Notice that the numbers in the first column (the index values) are not in order. If you type “thrombin_df” now, you will get back the unsorted dataframe. "
   ]
  },
  {
   "cell_type": "code",
   "execution_count": 13,
   "metadata": {},
   "outputs": [
    {
     "data": {
      "text/html": [
       "<div>\n",
       "<style scoped>\n",
       "    .dataframe tbody tr th:only-of-type {\n",
       "        vertical-align: middle;\n",
       "    }\n",
       "\n",
       "    .dataframe tbody tr th {\n",
       "        vertical-align: top;\n",
       "    }\n",
       "\n",
       "    .dataframe thead th {\n",
       "        text-align: right;\n",
       "    }\n",
       "</style>\n",
       "<table border=\"1\" class=\"dataframe\">\n",
       "  <thead>\n",
       "    <tr style=\"text-align: right;\">\n",
       "      <th></th>\n",
       "      <th>PDB ID</th>\n",
       "      <th>Method</th>\n",
       "      <th>Resolution</th>\n",
       "      <th>Structure</th>\n",
       "      <th>Ligand ID</th>\n",
       "      <th>Ligand name</th>\n",
       "    </tr>\n",
       "  </thead>\n",
       "  <tbody>\n",
       "    <tr>\n",
       "      <th>0</th>\n",
       "      <td>3SHC</td>\n",
       "      <td>X-RAY DIFFRACTION</td>\n",
       "      <td>1.90</td>\n",
       "      <td>Human Thrombin</td>\n",
       "      <td>B01</td>\n",
       "      <td>D-phenylalanyl-N-[(4-chloropyridin-2-yl)methyl...</td>\n",
       "    </tr>\n",
       "    <tr>\n",
       "      <th>1</th>\n",
       "      <td>3P17</td>\n",
       "      <td>X-RAY DIFFRACTION</td>\n",
       "      <td>1.43</td>\n",
       "      <td>Thrombin</td>\n",
       "      <td>99P</td>\n",
       "      <td>D-phenylalanyl-N-(pyridin-3-ylmethyl)-L-prolin...</td>\n",
       "    </tr>\n",
       "    <tr>\n",
       "      <th>2</th>\n",
       "      <td>2ZNK</td>\n",
       "      <td>X-RAY DIFFRACTION</td>\n",
       "      <td>1.80</td>\n",
       "      <td>Thrombin</td>\n",
       "      <td>31U</td>\n",
       "      <td>D-leucyl-N-(4-carbamimidoylbenzyl)-L-prolinamide</td>\n",
       "    </tr>\n",
       "    <tr>\n",
       "      <th>3</th>\n",
       "      <td>3SI3</td>\n",
       "      <td>X-RAY DIFFRACTION</td>\n",
       "      <td>1.55</td>\n",
       "      <td>Human Thrombin</td>\n",
       "      <td>B03</td>\n",
       "      <td>D-phenylalanyl-N-(pyridin-2-ylmethyl)-L-prolin...</td>\n",
       "    </tr>\n",
       "    <tr>\n",
       "      <th>4</th>\n",
       "      <td>3SI4</td>\n",
       "      <td>X-RAY DIFFRACTION</td>\n",
       "      <td>1.27</td>\n",
       "      <td>Human Thrombin</td>\n",
       "      <td>B04</td>\n",
       "      <td>D-phenylalanyl-N-[(1-methylpyridinium-2-yl)met...</td>\n",
       "    </tr>\n",
       "    <tr>\n",
       "      <th>5</th>\n",
       "      <td>3SV2</td>\n",
       "      <td>X-RAY DIFFRACTION</td>\n",
       "      <td>1.30</td>\n",
       "      <td>Human Thrombin</td>\n",
       "      <td>P05</td>\n",
       "      <td>D-phenylalanyl-N-(pyridin-4-ylmethyl)-L-prolin...</td>\n",
       "    </tr>\n",
       "    <tr>\n",
       "      <th>6</th>\n",
       "      <td>1UVU</td>\n",
       "      <td>X-RAY DIFFRACTION</td>\n",
       "      <td>2.80</td>\n",
       "      <td>Bovine Thrombin</td>\n",
       "      <td>DCH</td>\n",
       "      <td>3-(7-DIAMINOMETHYL-NAPHTHALEN-2-YL)-PROPIONIC ...</td>\n",
       "    </tr>\n",
       "    <tr>\n",
       "      <th>7</th>\n",
       "      <td>1UVT</td>\n",
       "      <td>X-RAY DIFFRACTION</td>\n",
       "      <td>2.50</td>\n",
       "      <td>Bovine Thrombin</td>\n",
       "      <td>I48</td>\n",
       "      <td>N-{3-METHYL-5-[2-(PYRIDIN-4-YLAMINO)-ETHOXY]-P...</td>\n",
       "    </tr>\n",
       "    <tr>\n",
       "      <th>8</th>\n",
       "      <td>2C8Z</td>\n",
       "      <td>X-RAY DIFFRACTION</td>\n",
       "      <td>2.14</td>\n",
       "      <td>Thrombin</td>\n",
       "      <td>C2A</td>\n",
       "      <td>1-(3-CHLOROPHENYL)METHANAMINE</td>\n",
       "    </tr>\n",
       "    <tr>\n",
       "      <th>9</th>\n",
       "      <td>2C8Y</td>\n",
       "      <td>X-RAY DIFFRACTION</td>\n",
       "      <td>2.20</td>\n",
       "      <td>Thrombin</td>\n",
       "      <td>C3M</td>\n",
       "      <td>N-[(2R,3S)-3-AMINO-2-HYDROXY-4-PHENYLBUTYL]NAP...</td>\n",
       "    </tr>\n",
       "    <tr>\n",
       "      <th>10</th>\n",
       "      <td>2C90</td>\n",
       "      <td>X-RAY DIFFRACTION</td>\n",
       "      <td>2.25</td>\n",
       "      <td>Thrombin</td>\n",
       "      <td>C1M</td>\n",
       "      <td>1-(4-CHLOROPHENYL)-1H-TETRAZOLE</td>\n",
       "    </tr>\n",
       "  </tbody>\n",
       "</table>\n",
       "</div>"
      ],
      "text/plain": [
       "   PDB ID             Method  Resolution        Structure Ligand ID  \\\n",
       "0    3SHC  X-RAY DIFFRACTION        1.90   Human Thrombin       B01   \n",
       "1    3P17  X-RAY DIFFRACTION        1.43         Thrombin       99P   \n",
       "2    2ZNK  X-RAY DIFFRACTION        1.80         Thrombin       31U   \n",
       "3    3SI3  X-RAY DIFFRACTION        1.55   Human Thrombin       B03   \n",
       "4    3SI4  X-RAY DIFFRACTION        1.27   Human Thrombin       B04   \n",
       "5    3SV2  X-RAY DIFFRACTION        1.30   Human Thrombin       P05   \n",
       "6    1UVU  X-RAY DIFFRACTION        2.80  Bovine Thrombin       DCH   \n",
       "7    1UVT  X-RAY DIFFRACTION        2.50  Bovine Thrombin       I48   \n",
       "8    2C8Z  X-RAY DIFFRACTION        2.14         Thrombin       C2A   \n",
       "9    2C8Y  X-RAY DIFFRACTION        2.20         Thrombin       C3M   \n",
       "10   2C90  X-RAY DIFFRACTION        2.25         Thrombin       C1M   \n",
       "\n",
       "                                          Ligand name  \n",
       "0   D-phenylalanyl-N-[(4-chloropyridin-2-yl)methyl...  \n",
       "1   D-phenylalanyl-N-(pyridin-3-ylmethyl)-L-prolin...  \n",
       "2    D-leucyl-N-(4-carbamimidoylbenzyl)-L-prolinamide  \n",
       "3   D-phenylalanyl-N-(pyridin-2-ylmethyl)-L-prolin...  \n",
       "4   D-phenylalanyl-N-[(1-methylpyridinium-2-yl)met...  \n",
       "5   D-phenylalanyl-N-(pyridin-4-ylmethyl)-L-prolin...  \n",
       "6   3-(7-DIAMINOMETHYL-NAPHTHALEN-2-YL)-PROPIONIC ...  \n",
       "7   N-{3-METHYL-5-[2-(PYRIDIN-4-YLAMINO)-ETHOXY]-P...  \n",
       "8                       1-(3-CHLOROPHENYL)METHANAMINE  \n",
       "9   N-[(2R,3S)-3-AMINO-2-HYDROXY-4-PHENYLBUTYL]NAP...  \n",
       "10                    1-(4-CHLOROPHENYL)-1H-TETRAZOLE  "
      ]
     },
     "execution_count": 13,
     "metadata": {},
     "output_type": "execute_result"
    }
   ],
   "source": [
    "thrombin_df"
   ]
  },
  {
   "cell_type": "markdown",
   "metadata": {},
   "source": [
    "However, if you want to keep retain the sorting, you can add `inplace = True` to the command."
   ]
  },
  {
   "cell_type": "code",
   "execution_count": 14,
   "metadata": {},
   "outputs": [
    {
     "data": {
      "text/html": [
       "<div>\n",
       "<style scoped>\n",
       "    .dataframe tbody tr th:only-of-type {\n",
       "        vertical-align: middle;\n",
       "    }\n",
       "\n",
       "    .dataframe tbody tr th {\n",
       "        vertical-align: top;\n",
       "    }\n",
       "\n",
       "    .dataframe thead th {\n",
       "        text-align: right;\n",
       "    }\n",
       "</style>\n",
       "<table border=\"1\" class=\"dataframe\">\n",
       "  <thead>\n",
       "    <tr style=\"text-align: right;\">\n",
       "      <th></th>\n",
       "      <th>PDB ID</th>\n",
       "      <th>Method</th>\n",
       "      <th>Resolution</th>\n",
       "      <th>Structure</th>\n",
       "      <th>Ligand ID</th>\n",
       "      <th>Ligand name</th>\n",
       "    </tr>\n",
       "  </thead>\n",
       "  <tbody>\n",
       "    <tr>\n",
       "      <th>4</th>\n",
       "      <td>3SI4</td>\n",
       "      <td>X-RAY DIFFRACTION</td>\n",
       "      <td>1.27</td>\n",
       "      <td>Human Thrombin</td>\n",
       "      <td>B04</td>\n",
       "      <td>D-phenylalanyl-N-[(1-methylpyridinium-2-yl)met...</td>\n",
       "    </tr>\n",
       "    <tr>\n",
       "      <th>5</th>\n",
       "      <td>3SV2</td>\n",
       "      <td>X-RAY DIFFRACTION</td>\n",
       "      <td>1.30</td>\n",
       "      <td>Human Thrombin</td>\n",
       "      <td>P05</td>\n",
       "      <td>D-phenylalanyl-N-(pyridin-4-ylmethyl)-L-prolin...</td>\n",
       "    </tr>\n",
       "    <tr>\n",
       "      <th>1</th>\n",
       "      <td>3P17</td>\n",
       "      <td>X-RAY DIFFRACTION</td>\n",
       "      <td>1.43</td>\n",
       "      <td>Thrombin</td>\n",
       "      <td>99P</td>\n",
       "      <td>D-phenylalanyl-N-(pyridin-3-ylmethyl)-L-prolin...</td>\n",
       "    </tr>\n",
       "    <tr>\n",
       "      <th>3</th>\n",
       "      <td>3SI3</td>\n",
       "      <td>X-RAY DIFFRACTION</td>\n",
       "      <td>1.55</td>\n",
       "      <td>Human Thrombin</td>\n",
       "      <td>B03</td>\n",
       "      <td>D-phenylalanyl-N-(pyridin-2-ylmethyl)-L-prolin...</td>\n",
       "    </tr>\n",
       "    <tr>\n",
       "      <th>2</th>\n",
       "      <td>2ZNK</td>\n",
       "      <td>X-RAY DIFFRACTION</td>\n",
       "      <td>1.80</td>\n",
       "      <td>Thrombin</td>\n",
       "      <td>31U</td>\n",
       "      <td>D-leucyl-N-(4-carbamimidoylbenzyl)-L-prolinamide</td>\n",
       "    </tr>\n",
       "    <tr>\n",
       "      <th>0</th>\n",
       "      <td>3SHC</td>\n",
       "      <td>X-RAY DIFFRACTION</td>\n",
       "      <td>1.90</td>\n",
       "      <td>Human Thrombin</td>\n",
       "      <td>B01</td>\n",
       "      <td>D-phenylalanyl-N-[(4-chloropyridin-2-yl)methyl...</td>\n",
       "    </tr>\n",
       "    <tr>\n",
       "      <th>8</th>\n",
       "      <td>2C8Z</td>\n",
       "      <td>X-RAY DIFFRACTION</td>\n",
       "      <td>2.14</td>\n",
       "      <td>Thrombin</td>\n",
       "      <td>C2A</td>\n",
       "      <td>1-(3-CHLOROPHENYL)METHANAMINE</td>\n",
       "    </tr>\n",
       "    <tr>\n",
       "      <th>9</th>\n",
       "      <td>2C8Y</td>\n",
       "      <td>X-RAY DIFFRACTION</td>\n",
       "      <td>2.20</td>\n",
       "      <td>Thrombin</td>\n",
       "      <td>C3M</td>\n",
       "      <td>N-[(2R,3S)-3-AMINO-2-HYDROXY-4-PHENYLBUTYL]NAP...</td>\n",
       "    </tr>\n",
       "    <tr>\n",
       "      <th>10</th>\n",
       "      <td>2C90</td>\n",
       "      <td>X-RAY DIFFRACTION</td>\n",
       "      <td>2.25</td>\n",
       "      <td>Thrombin</td>\n",
       "      <td>C1M</td>\n",
       "      <td>1-(4-CHLOROPHENYL)-1H-TETRAZOLE</td>\n",
       "    </tr>\n",
       "    <tr>\n",
       "      <th>7</th>\n",
       "      <td>1UVT</td>\n",
       "      <td>X-RAY DIFFRACTION</td>\n",
       "      <td>2.50</td>\n",
       "      <td>Bovine Thrombin</td>\n",
       "      <td>I48</td>\n",
       "      <td>N-{3-METHYL-5-[2-(PYRIDIN-4-YLAMINO)-ETHOXY]-P...</td>\n",
       "    </tr>\n",
       "    <tr>\n",
       "      <th>6</th>\n",
       "      <td>1UVU</td>\n",
       "      <td>X-RAY DIFFRACTION</td>\n",
       "      <td>2.80</td>\n",
       "      <td>Bovine Thrombin</td>\n",
       "      <td>DCH</td>\n",
       "      <td>3-(7-DIAMINOMETHYL-NAPHTHALEN-2-YL)-PROPIONIC ...</td>\n",
       "    </tr>\n",
       "  </tbody>\n",
       "</table>\n",
       "</div>"
      ],
      "text/plain": [
       "   PDB ID             Method  Resolution        Structure Ligand ID  \\\n",
       "4    3SI4  X-RAY DIFFRACTION        1.27   Human Thrombin       B04   \n",
       "5    3SV2  X-RAY DIFFRACTION        1.30   Human Thrombin       P05   \n",
       "1    3P17  X-RAY DIFFRACTION        1.43         Thrombin       99P   \n",
       "3    3SI3  X-RAY DIFFRACTION        1.55   Human Thrombin       B03   \n",
       "2    2ZNK  X-RAY DIFFRACTION        1.80         Thrombin       31U   \n",
       "0    3SHC  X-RAY DIFFRACTION        1.90   Human Thrombin       B01   \n",
       "8    2C8Z  X-RAY DIFFRACTION        2.14         Thrombin       C2A   \n",
       "9    2C8Y  X-RAY DIFFRACTION        2.20         Thrombin       C3M   \n",
       "10   2C90  X-RAY DIFFRACTION        2.25         Thrombin       C1M   \n",
       "7    1UVT  X-RAY DIFFRACTION        2.50  Bovine Thrombin       I48   \n",
       "6    1UVU  X-RAY DIFFRACTION        2.80  Bovine Thrombin       DCH   \n",
       "\n",
       "                                          Ligand name  \n",
       "4   D-phenylalanyl-N-[(1-methylpyridinium-2-yl)met...  \n",
       "5   D-phenylalanyl-N-(pyridin-4-ylmethyl)-L-prolin...  \n",
       "1   D-phenylalanyl-N-(pyridin-3-ylmethyl)-L-prolin...  \n",
       "3   D-phenylalanyl-N-(pyridin-2-ylmethyl)-L-prolin...  \n",
       "2    D-leucyl-N-(4-carbamimidoylbenzyl)-L-prolinamide  \n",
       "0   D-phenylalanyl-N-[(4-chloropyridin-2-yl)methyl...  \n",
       "8                       1-(3-CHLOROPHENYL)METHANAMINE  \n",
       "9   N-[(2R,3S)-3-AMINO-2-HYDROXY-4-PHENYLBUTYL]NAP...  \n",
       "10                    1-(4-CHLOROPHENYL)-1H-TETRAZOLE  \n",
       "7   N-{3-METHYL-5-[2-(PYRIDIN-4-YLAMINO)-ETHOXY]-P...  \n",
       "6   3-(7-DIAMINOMETHYL-NAPHTHALEN-2-YL)-PROPIONIC ...  "
      ]
     },
     "execution_count": 14,
     "metadata": {},
     "output_type": "execute_result"
    }
   ],
   "source": [
    "thrombin_df.sort_values('Resolution', inplace = True)\n",
    "thrombin_df"
   ]
  },
  {
   "cell_type": "markdown",
   "metadata": {},
   "source": [
    "## Exploring data with pandas\n",
    "\n",
    "Now we are going to look at a larger data set (678 serine protease structures from the PDB) to learn about some additional tools for exploring data with pandas. Here are the steps we will follow:\n",
    "* Import the data for the 678 serine proteases into a new dataframe\n",
    "* Check to make sure that the numbers (temperature and resolution) are floats, not strings\n",
    "* Convert the numbers to floats if need be\n",
    "* Find the mean and median values for resolution\n",
    "* Find the most common value for temperature\n",
    "* Find all structures with a resolution between 1.4 and 1.8 that were determined a temperatures at or below 125K"
   ]
  },
  {
   "cell_type": "code",
   "execution_count": 15,
   "metadata": {},
   "outputs": [
    {
     "data": {
      "text/html": [
       "<div>\n",
       "<style scoped>\n",
       "    .dataframe tbody tr th:only-of-type {\n",
       "        vertical-align: middle;\n",
       "    }\n",
       "\n",
       "    .dataframe tbody tr th {\n",
       "        vertical-align: top;\n",
       "    }\n",
       "\n",
       "    .dataframe thead th {\n",
       "        text-align: right;\n",
       "    }\n",
       "</style>\n",
       "<table border=\"1\" class=\"dataframe\">\n",
       "  <thead>\n",
       "    <tr style=\"text-align: right;\">\n",
       "      <th></th>\n",
       "      <th>Entry ID</th>\n",
       "      <th>Collection Temperature</th>\n",
       "      <th>Release Date</th>\n",
       "      <th>Resolution</th>\n",
       "      <th>Title</th>\n",
       "    </tr>\n",
       "  </thead>\n",
       "  <tbody>\n",
       "    <tr>\n",
       "      <th>0</th>\n",
       "      <td>2R69</td>\n",
       "      <td>100.0</td>\n",
       "      <td>12/25/07</td>\n",
       "      <td>3.8</td>\n",
       "      <td>Crystal structure of Fab 1A1D-2 complexed with...</td>\n",
       "    </tr>\n",
       "    <tr>\n",
       "      <th>1</th>\n",
       "      <td>2QTW</td>\n",
       "      <td>100.0</td>\n",
       "      <td>9/18/07</td>\n",
       "      <td>1.9</td>\n",
       "      <td>The Crystal Structure of PCSK9 at 1.9 Angstrom...</td>\n",
       "    </tr>\n",
       "    <tr>\n",
       "      <th>2</th>\n",
       "      <td>2R9P</td>\n",
       "      <td>100.0</td>\n",
       "      <td>12/11/07</td>\n",
       "      <td>1.4</td>\n",
       "      <td>Human mesotrypsin complexed with bovine pancre...</td>\n",
       "    </tr>\n",
       "    <tr>\n",
       "      <th>3</th>\n",
       "      <td>2QY0</td>\n",
       "      <td>100.0</td>\n",
       "      <td>2/5/08</td>\n",
       "      <td>2.6</td>\n",
       "      <td>Active dimeric structure of the catalytic doma...</td>\n",
       "    </tr>\n",
       "    <tr>\n",
       "      <th>4</th>\n",
       "      <td>2QXJ</td>\n",
       "      <td>100.0</td>\n",
       "      <td>1/8/08</td>\n",
       "      <td>2.1</td>\n",
       "      <td>Crystal Structure of Human Kallikrein 7 in Com...</td>\n",
       "    </tr>\n",
       "  </tbody>\n",
       "</table>\n",
       "</div>"
      ],
      "text/plain": [
       "  Entry ID  Collection Temperature Release Date  Resolution  \\\n",
       "0     2R69                   100.0     12/25/07         3.8   \n",
       "1     2QTW                   100.0      9/18/07         1.9   \n",
       "2     2R9P                   100.0     12/11/07         1.4   \n",
       "3     2QY0                   100.0       2/5/08         2.6   \n",
       "4     2QXJ                   100.0       1/8/08         2.1   \n",
       "\n",
       "                                               Title  \n",
       "0  Crystal structure of Fab 1A1D-2 complexed with...  \n",
       "1  The Crystal Structure of PCSK9 at 1.9 Angstrom...  \n",
       "2  Human mesotrypsin complexed with bovine pancre...  \n",
       "3  Active dimeric structure of the catalytic doma...  \n",
       "4  Crystal Structure of Human Kallikrein 7 in Com...  "
      ]
     },
     "execution_count": 15,
     "metadata": {},
     "output_type": "execute_result"
    }
   ],
   "source": [
    "# Import the data using the os library\n",
    "\n",
    "protease_file = os.path.join('data', 'PDB678.csv')\n",
    "protease_df = pd.read_csv(protease_file)\n",
    "protease_df.head()"
   ]
  },
  {
   "cell_type": "markdown",
   "metadata": {},
   "source": [
    "### Checking the data type\n",
    "\n",
    "Previously when we checked for a data type for a value that is assigned to a variable, we used this type of command:\n",
    "\n",
    "```python\n",
    "type(variable)\n",
    "```\n",
    "\n",
    "Let's try this with one of the series from our new dataframe."
   ]
  },
  {
   "cell_type": "code",
   "execution_count": 16,
   "metadata": {},
   "outputs": [
    {
     "data": {
      "text/plain": [
       "pandas.core.series.Series"
      ]
     },
     "execution_count": 16,
     "metadata": {},
     "output_type": "execute_result"
    }
   ],
   "source": [
    "type(protease_df['Collection Temperature'])"
   ]
  },
  {
   "cell_type": "markdown",
   "metadata": {},
   "source": [
    "This tells us that the Collection Temperature is a series in the protease_df dataframe, but we need to know the data type for the values in that series. To do this, we have a new command for working with series in dataframes:\n",
    "\n",
    "```python\n",
    "df['Series Header'].dtype\n",
    "```"
   ]
  },
  {
   "cell_type": "code",
   "execution_count": 17,
   "metadata": {},
   "outputs": [
    {
     "data": {
      "text/plain": [
       "dtype('float64')"
      ]
     },
     "execution_count": 17,
     "metadata": {},
     "output_type": "execute_result"
    }
   ],
   "source": [
    "# Check to make sure that the temperature values are floats, not strings\n",
    "\n",
    "protease_df['Collection Temperature'].dtype"
   ]
  },
  {
   "cell_type": "code",
   "execution_count": 18,
   "metadata": {},
   "outputs": [
    {
     "data": {
      "text/plain": [
       "dtype('float64')"
      ]
     },
     "execution_count": 18,
     "metadata": {},
     "output_type": "execute_result"
    }
   ],
   "source": [
    "# Check to make sure that the resolution values are floats, not strings\n",
    "\n",
    "protease_df['Resolution'].dtype"
   ]
  },
  {
   "cell_type": "markdown",
   "metadata": {},
   "source": [
    "So the numbers in those series in the dataframe are all floats, so we there is no need to convert them. \n",
    "\n",
    "A couple more points on data type in pandas dataframes. \n",
    "\n",
    "* We can actually check the data types for all of the series in the dataframe with a single command:   \n",
    "\n",
    "```python\n",
    "df.dtypes\n",
    "```\n",
    "\n",
    "Notice that we use the plural `dtypes` to get the types for all of series in the dataframe.\n",
    "\n",
    "* You can use this command when it is necessary to convert the data type for values in a dataframe series from string to float:  \n",
    "\n",
    "```python\n",
    "df['string_col'] = df['string_col'].astype('float')\n",
    "```"
   ]
  },
  {
   "cell_type": "code",
   "execution_count": 19,
   "metadata": {},
   "outputs": [
    {
     "data": {
      "text/plain": [
       "Entry ID                   object\n",
       "Collection Temperature    float64\n",
       "Release Date               object\n",
       "Resolution                float64\n",
       "Title                      object\n",
       "dtype: object"
      ]
     },
     "execution_count": 19,
     "metadata": {},
     "output_type": "execute_result"
    }
   ],
   "source": [
    "protease_df.dtypes"
   ]
  },
  {
   "cell_type": "markdown",
   "metadata": {},
   "source": [
    "Now we will use a few built-in pandas functions to explore the data for resolution and  temperature. Notice that the function is followed by open and closed parentheses. In these examples, no arguments are passed to the function, but they could be passed inside the parentheses."
   ]
  },
  {
   "cell_type": "code",
   "execution_count": 20,
   "metadata": {},
   "outputs": [
    {
     "data": {
      "text/plain": [
       "1.93"
      ]
     },
     "execution_count": 20,
     "metadata": {},
     "output_type": "execute_result"
    }
   ],
   "source": [
    "# Determine the median value for resolution\n",
    "\n",
    "protease_df['Resolution'].median()"
   ]
  },
  {
   "cell_type": "code",
   "execution_count": 21,
   "metadata": {},
   "outputs": [
    {
     "data": {
      "text/plain": [
       "2.0005582554697194"
      ]
     },
     "execution_count": 21,
     "metadata": {},
     "output_type": "execute_result"
    }
   ],
   "source": [
    "# Determine the mean (mathematical average) for resolution\n",
    "\n",
    "protease_df['Resolution'].mean()"
   ]
  },
  {
   "cell_type": "code",
   "execution_count": 22,
   "metadata": {},
   "outputs": [
    {
     "data": {
      "text/plain": [
       "0.607453279532895"
      ]
     },
     "execution_count": 22,
     "metadata": {},
     "output_type": "execute_result"
    }
   ],
   "source": [
    "# Determine the standard deviation for resolution\n",
    "\n",
    "protease_df['Resolution'].std()"
   ]
  },
  {
   "cell_type": "code",
   "execution_count": 23,
   "metadata": {},
   "outputs": [
    {
     "data": {
      "text/plain": [
       "0    100.0\n",
       "dtype: float64"
      ]
     },
     "execution_count": 23,
     "metadata": {},
     "output_type": "execute_result"
    }
   ],
   "source": [
    "protease_df['Collection Temperature'].mode()"
   ]
  },
  {
   "cell_type": "markdown",
   "metadata": {},
   "source": [
    "Next we are going to query the dataframe looking for specific items. We can use comparison operators (>, <, ==, !=) to select the rows that we want from the dataframe."
   ]
  },
  {
   "cell_type": "code",
   "execution_count": 24,
   "metadata": {},
   "outputs": [
    {
     "data": {
      "text/html": [
       "<div>\n",
       "<style scoped>\n",
       "    .dataframe tbody tr th:only-of-type {\n",
       "        vertical-align: middle;\n",
       "    }\n",
       "\n",
       "    .dataframe tbody tr th {\n",
       "        vertical-align: top;\n",
       "    }\n",
       "\n",
       "    .dataframe thead th {\n",
       "        text-align: right;\n",
       "    }\n",
       "</style>\n",
       "<table border=\"1\" class=\"dataframe\">\n",
       "  <thead>\n",
       "    <tr style=\"text-align: right;\">\n",
       "      <th></th>\n",
       "      <th>Entry ID</th>\n",
       "      <th>Collection Temperature</th>\n",
       "      <th>Release Date</th>\n",
       "      <th>Resolution</th>\n",
       "      <th>Title</th>\n",
       "    </tr>\n",
       "  </thead>\n",
       "  <tbody>\n",
       "    <tr>\n",
       "      <th>0</th>\n",
       "      <td>2R69</td>\n",
       "      <td>100.0</td>\n",
       "      <td>12/25/07</td>\n",
       "      <td>3.80</td>\n",
       "      <td>Crystal structure of Fab 1A1D-2 complexed with...</td>\n",
       "    </tr>\n",
       "    <tr>\n",
       "      <th>1</th>\n",
       "      <td>2QTW</td>\n",
       "      <td>100.0</td>\n",
       "      <td>9/18/07</td>\n",
       "      <td>1.90</td>\n",
       "      <td>The Crystal Structure of PCSK9 at 1.9 Angstrom...</td>\n",
       "    </tr>\n",
       "    <tr>\n",
       "      <th>3</th>\n",
       "      <td>2QY0</td>\n",
       "      <td>100.0</td>\n",
       "      <td>2/5/08</td>\n",
       "      <td>2.60</td>\n",
       "      <td>Active dimeric structure of the catalytic doma...</td>\n",
       "    </tr>\n",
       "    <tr>\n",
       "      <th>4</th>\n",
       "      <td>2QXJ</td>\n",
       "      <td>100.0</td>\n",
       "      <td>1/8/08</td>\n",
       "      <td>2.10</td>\n",
       "      <td>Crystal Structure of Human Kallikrein 7 in Com...</td>\n",
       "    </tr>\n",
       "    <tr>\n",
       "      <th>5</th>\n",
       "      <td>2R9J</td>\n",
       "      <td>300.0</td>\n",
       "      <td>10/9/07</td>\n",
       "      <td>2.55</td>\n",
       "      <td>Ligand recognition in C-lobe: The crystal stru...</td>\n",
       "    </tr>\n",
       "    <tr>\n",
       "      <th>...</th>\n",
       "      <td>...</td>\n",
       "      <td>...</td>\n",
       "      <td>...</td>\n",
       "      <td>...</td>\n",
       "      <td>...</td>\n",
       "    </tr>\n",
       "    <tr>\n",
       "      <th>671</th>\n",
       "      <td>7JQO</td>\n",
       "      <td>100.0</td>\n",
       "      <td>7/21/21</td>\n",
       "      <td>1.60</td>\n",
       "      <td>Crystal structure of the R64D mutant of Bauhin...</td>\n",
       "    </tr>\n",
       "    <tr>\n",
       "      <th>673</th>\n",
       "      <td>7JRX</td>\n",
       "      <td>100.0</td>\n",
       "      <td>7/21/21</td>\n",
       "      <td>1.77</td>\n",
       "      <td>Crystal structure of the R64F mutant of Bauhin...</td>\n",
       "    </tr>\n",
       "    <tr>\n",
       "      <th>674</th>\n",
       "      <td>7JTQ</td>\n",
       "      <td>100.0</td>\n",
       "      <td>12/9/20</td>\n",
       "      <td>3.50</td>\n",
       "      <td>Human Complement Factor B Inhibited by a Slow ...</td>\n",
       "    </tr>\n",
       "    <tr>\n",
       "      <th>675</th>\n",
       "      <td>7E6J</td>\n",
       "      <td>100.0</td>\n",
       "      <td>6/30/21</td>\n",
       "      <td>1.90</td>\n",
       "      <td>Aspartyl/Asparaginyl beta-hydroxylase (AspH) H...</td>\n",
       "    </tr>\n",
       "    <tr>\n",
       "      <th>676</th>\n",
       "      <td>7DZD</td>\n",
       "      <td>100.0</td>\n",
       "      <td>7/14/21</td>\n",
       "      <td>2.00</td>\n",
       "      <td>Crystal structure of uPA in complex with cleav...</td>\n",
       "    </tr>\n",
       "  </tbody>\n",
       "</table>\n",
       "<p>582 rows × 5 columns</p>\n",
       "</div>"
      ],
      "text/plain": [
       "    Entry ID  Collection Temperature Release Date  Resolution  \\\n",
       "0       2R69                   100.0     12/25/07        3.80   \n",
       "1       2QTW                   100.0      9/18/07        1.90   \n",
       "3       2QY0                   100.0       2/5/08        2.60   \n",
       "4       2QXJ                   100.0       1/8/08        2.10   \n",
       "5       2R9J                   300.0      10/9/07        2.55   \n",
       "..       ...                     ...          ...         ...   \n",
       "671     7JQO                   100.0      7/21/21        1.60   \n",
       "673     7JRX                   100.0      7/21/21        1.77   \n",
       "674     7JTQ                   100.0      12/9/20        3.50   \n",
       "675     7E6J                   100.0      6/30/21        1.90   \n",
       "676     7DZD                   100.0      7/14/21        2.00   \n",
       "\n",
       "                                                 Title  \n",
       "0    Crystal structure of Fab 1A1D-2 complexed with...  \n",
       "1    The Crystal Structure of PCSK9 at 1.9 Angstrom...  \n",
       "3    Active dimeric structure of the catalytic doma...  \n",
       "4    Crystal Structure of Human Kallikrein 7 in Com...  \n",
       "5    Ligand recognition in C-lobe: The crystal stru...  \n",
       "..                                                 ...  \n",
       "671  Crystal structure of the R64D mutant of Bauhin...  \n",
       "673  Crystal structure of the R64F mutant of Bauhin...  \n",
       "674  Human Complement Factor B Inhibited by a Slow ...  \n",
       "675  Aspartyl/Asparaginyl beta-hydroxylase (AspH) H...  \n",
       "676  Crystal structure of uPA in complex with cleav...  \n",
       "\n",
       "[582 rows x 5 columns]"
      ]
     },
     "execution_count": 24,
     "metadata": {},
     "output_type": "execute_result"
    }
   ],
   "source": [
    "# Query for structure with resolution > 1.4 Angstroms\n",
    "\n",
    "protease_df.query('Resolution > 1.4')"
   ]
  },
  {
   "cell_type": "markdown",
   "metadata": {},
   "source": [
    "That query gave lots of results: 582 of the 678 structures have resolution values greater than 1.4 Angstroms. Let's make the query more selective - for structures with resolutions in a specific range. In the following cell, we'll try to find structures that were determined at a temperature of 100K."
   ]
  },
  {
   "cell_type": "code",
   "execution_count": 25,
   "metadata": {},
   "outputs": [
    {
     "data": {
      "text/html": [
       "<div>\n",
       "<style scoped>\n",
       "    .dataframe tbody tr th:only-of-type {\n",
       "        vertical-align: middle;\n",
       "    }\n",
       "\n",
       "    .dataframe tbody tr th {\n",
       "        vertical-align: top;\n",
       "    }\n",
       "\n",
       "    .dataframe thead th {\n",
       "        text-align: right;\n",
       "    }\n",
       "</style>\n",
       "<table border=\"1\" class=\"dataframe\">\n",
       "  <thead>\n",
       "    <tr style=\"text-align: right;\">\n",
       "      <th></th>\n",
       "      <th>Entry ID</th>\n",
       "      <th>Collection Temperature</th>\n",
       "      <th>Release Date</th>\n",
       "      <th>Resolution</th>\n",
       "      <th>Title</th>\n",
       "    </tr>\n",
       "  </thead>\n",
       "  <tbody>\n",
       "    <tr>\n",
       "      <th>2</th>\n",
       "      <td>2R9P</td>\n",
       "      <td>100.0</td>\n",
       "      <td>12/11/07</td>\n",
       "      <td>1.400</td>\n",
       "      <td>Human mesotrypsin complexed with bovine pancre...</td>\n",
       "    </tr>\n",
       "    <tr>\n",
       "      <th>6</th>\n",
       "      <td>2QXI</td>\n",
       "      <td>100.0</td>\n",
       "      <td>1/8/08</td>\n",
       "      <td>1.000</td>\n",
       "      <td>High resolution structure of Human Kallikrein ...</td>\n",
       "    </tr>\n",
       "    <tr>\n",
       "      <th>10</th>\n",
       "      <td>2RA3</td>\n",
       "      <td>100.0</td>\n",
       "      <td>12/11/07</td>\n",
       "      <td>1.460</td>\n",
       "      <td>Human cationic trypsin complexed with bovine p...</td>\n",
       "    </tr>\n",
       "    <tr>\n",
       "      <th>14</th>\n",
       "      <td>2SGF</td>\n",
       "      <td>287.0</td>\n",
       "      <td>8/26/03</td>\n",
       "      <td>1.750</td>\n",
       "      <td>PHE 18 VARIANT OF TURKEY OVOMUCOID INHIBITOR T...</td>\n",
       "    </tr>\n",
       "    <tr>\n",
       "      <th>25</th>\n",
       "      <td>6DCM</td>\n",
       "      <td>100.0</td>\n",
       "      <td>5/15/19</td>\n",
       "      <td>1.031</td>\n",
       "      <td>The atomic resolution crystal structure of Kri...</td>\n",
       "    </tr>\n",
       "    <tr>\n",
       "      <th>...</th>\n",
       "      <td>...</td>\n",
       "      <td>...</td>\n",
       "      <td>...</td>\n",
       "      <td>...</td>\n",
       "      <td>...</td>\n",
       "    </tr>\n",
       "    <tr>\n",
       "      <th>664</th>\n",
       "      <td>7CRA</td>\n",
       "      <td>80.0</td>\n",
       "      <td>5/26/21</td>\n",
       "      <td>1.700</td>\n",
       "      <td>Crystal structure of the N-terminal fragment (...</td>\n",
       "    </tr>\n",
       "    <tr>\n",
       "      <th>670</th>\n",
       "      <td>7JQN</td>\n",
       "      <td>100.0</td>\n",
       "      <td>7/21/21</td>\n",
       "      <td>1.500</td>\n",
       "      <td>Crystal structure of the R64M mutant of Bauhin...</td>\n",
       "    </tr>\n",
       "    <tr>\n",
       "      <th>671</th>\n",
       "      <td>7JQO</td>\n",
       "      <td>100.0</td>\n",
       "      <td>7/21/21</td>\n",
       "      <td>1.600</td>\n",
       "      <td>Crystal structure of the R64D mutant of Bauhin...</td>\n",
       "    </tr>\n",
       "    <tr>\n",
       "      <th>672</th>\n",
       "      <td>7JQK</td>\n",
       "      <td>100.0</td>\n",
       "      <td>7/21/21</td>\n",
       "      <td>1.330</td>\n",
       "      <td>Crystal structure of the R64A mutant of Bauhin...</td>\n",
       "    </tr>\n",
       "    <tr>\n",
       "      <th>673</th>\n",
       "      <td>7JRX</td>\n",
       "      <td>100.0</td>\n",
       "      <td>7/21/21</td>\n",
       "      <td>1.770</td>\n",
       "      <td>Crystal structure of the R64F mutant of Bauhin...</td>\n",
       "    </tr>\n",
       "  </tbody>\n",
       "</table>\n",
       "<p>253 rows × 5 columns</p>\n",
       "</div>"
      ],
      "text/plain": [
       "    Entry ID  Collection Temperature Release Date  Resolution  \\\n",
       "2       2R9P                   100.0     12/11/07       1.400   \n",
       "6       2QXI                   100.0       1/8/08       1.000   \n",
       "10      2RA3                   100.0     12/11/07       1.460   \n",
       "14      2SGF                   287.0      8/26/03       1.750   \n",
       "25      6DCM                   100.0      5/15/19       1.031   \n",
       "..       ...                     ...          ...         ...   \n",
       "664     7CRA                    80.0      5/26/21       1.700   \n",
       "670     7JQN                   100.0      7/21/21       1.500   \n",
       "671     7JQO                   100.0      7/21/21       1.600   \n",
       "672     7JQK                   100.0      7/21/21       1.330   \n",
       "673     7JRX                   100.0      7/21/21       1.770   \n",
       "\n",
       "                                                 Title  \n",
       "2    Human mesotrypsin complexed with bovine pancre...  \n",
       "6    High resolution structure of Human Kallikrein ...  \n",
       "10   Human cationic trypsin complexed with bovine p...  \n",
       "14   PHE 18 VARIANT OF TURKEY OVOMUCOID INHIBITOR T...  \n",
       "25   The atomic resolution crystal structure of Kri...  \n",
       "..                                                 ...  \n",
       "664  Crystal structure of the N-terminal fragment (...  \n",
       "670  Crystal structure of the R64M mutant of Bauhin...  \n",
       "671  Crystal structure of the R64D mutant of Bauhin...  \n",
       "672  Crystal structure of the R64A mutant of Bauhin...  \n",
       "673  Crystal structure of the R64F mutant of Bauhin...  \n",
       "\n",
       "[253 rows x 5 columns]"
      ]
     },
     "execution_count": 25,
     "metadata": {},
     "output_type": "execute_result"
    }
   ],
   "source": [
    "# Query for structure with resolution between 1.4 and 1.8 Angstroms\n",
    "\n",
    "protease_df.query('Resolution > 1.4' and 'Resolution < 1.8')"
   ]
  },
  {
   "cell_type": "code",
   "execution_count": 26,
   "metadata": {},
   "outputs": [
    {
     "ename": "SyntaxError",
     "evalue": "invalid syntax (<unknown>, line 1)",
     "output_type": "error",
     "traceback": [
      "Traceback \u001b[0;36m(most recent call last)\u001b[0m:\n",
      "  File \u001b[1;32m\"/Users/pac8612/opt/anaconda3/lib/python3.8/site-packages/IPython/core/interactiveshell.py\"\u001b[0m, line \u001b[1;32m3437\u001b[0m, in \u001b[1;35mrun_code\u001b[0m\n    exec(code_obj, self.user_global_ns, self.user_ns)\n",
      "  File \u001b[1;32m\"<ipython-input-26-5aa29acd4ea5>\"\u001b[0m, line \u001b[1;32m3\u001b[0m, in \u001b[1;35m<module>\u001b[0m\n    protease_df.query('Collection Temperature == 100')\n",
      "  File \u001b[1;32m\"/Users/pac8612/opt/anaconda3/lib/python3.8/site-packages/pandas/core/frame.py\"\u001b[0m, line \u001b[1;32m3469\u001b[0m, in \u001b[1;35mquery\u001b[0m\n    res = self.eval(expr, **kwargs)\n",
      "  File \u001b[1;32m\"/Users/pac8612/opt/anaconda3/lib/python3.8/site-packages/pandas/core/frame.py\"\u001b[0m, line \u001b[1;32m3599\u001b[0m, in \u001b[1;35meval\u001b[0m\n    return _eval(expr, inplace=inplace, **kwargs)\n",
      "  File \u001b[1;32m\"/Users/pac8612/opt/anaconda3/lib/python3.8/site-packages/pandas/core/computation/eval.py\"\u001b[0m, line \u001b[1;32m342\u001b[0m, in \u001b[1;35meval\u001b[0m\n    parsed_expr = Expr(expr, engine=engine, parser=parser, env=env)\n",
      "  File \u001b[1;32m\"/Users/pac8612/opt/anaconda3/lib/python3.8/site-packages/pandas/core/computation/expr.py\"\u001b[0m, line \u001b[1;32m798\u001b[0m, in \u001b[1;35m__init__\u001b[0m\n    self.terms = self.parse()\n",
      "  File \u001b[1;32m\"/Users/pac8612/opt/anaconda3/lib/python3.8/site-packages/pandas/core/computation/expr.py\"\u001b[0m, line \u001b[1;32m817\u001b[0m, in \u001b[1;35mparse\u001b[0m\n    return self._visitor.visit(self.expr)\n",
      "  File \u001b[1;32m\"/Users/pac8612/opt/anaconda3/lib/python3.8/site-packages/pandas/core/computation/expr.py\"\u001b[0m, line \u001b[1;32m397\u001b[0m, in \u001b[1;35mvisit\u001b[0m\n    raise e\n",
      "  File \u001b[1;32m\"/Users/pac8612/opt/anaconda3/lib/python3.8/site-packages/pandas/core/computation/expr.py\"\u001b[0m, line \u001b[1;32m393\u001b[0m, in \u001b[1;35mvisit\u001b[0m\n    node = ast.fix_missing_locations(ast.parse(clean))\n",
      "\u001b[0;36m  File \u001b[0;32m\"/Users/pac8612/opt/anaconda3/lib/python3.8/ast.py\"\u001b[0;36m, line \u001b[0;32m47\u001b[0;36m, in \u001b[0;35mparse\u001b[0;36m\u001b[0m\n\u001b[0;31m    return compile(source, filename, mode, flags,\u001b[0m\n",
      "\u001b[0;36m  File \u001b[0;32m\"<unknown>\"\u001b[0;36m, line \u001b[0;32m1\u001b[0m\n\u001b[0;31m    Collection Temperature ==100\u001b[0m\n\u001b[0m               ^\u001b[0m\n\u001b[0;31mSyntaxError\u001b[0m\u001b[0;31m:\u001b[0m invalid syntax\n"
     ]
    }
   ],
   "source": [
    "# Query for structures where the data were collected at 100K\n",
    "\n",
    "protease_df.query('Collection Temperature == 100')"
   ]
  },
  {
   "cell_type": "markdown",
   "metadata": {},
   "source": [
    "So now we have an error. If you read the last few lines of the error report, you see that the query structure does not accept a series label (Collection Temperature) because it contains a space. When I encountered this, I just did an Internet search with the terms \"query pandas database columns with labels containing spaces\" and one of the top hits from [Stack Overflow](\n",
    "https://stackoverflow.com/questions/50697536/pandas-query-function-not-working-with-spaces-in-column-names) explained that you can put back-ticks around the series label. Back-ticks can be found on the upper left hand most key on some keyboards. They look like a backwards leaning apostrophe - \\`\\. When we surrond the series label, Collection Temperature with back-ticks, we get the desired results. Please note that the entire expression within the parentheses is also enclosed in single quotes."
   ]
  },
  {
   "cell_type": "code",
   "execution_count": null,
   "metadata": {},
   "outputs": [],
   "source": [
    "# Second attempt to query for structures where the data were collected at 100K\n",
    "\n",
    "protease_df.query('`Collection Temperature` == 100')"
   ]
  },
  {
   "cell_type": "markdown",
   "metadata": {},
   "source": [
    "Suppose you wanted to save this subset of the protease_df dataframe to a new dataframe. Here is the syntax to do that.\n",
    "\n",
    "```python\n",
    "new_df = df.query('series label')\n",
    "```\n",
    "\n",
    "We'll execute this command in the next cell to create a new dataframe that contains only structures whose data were collected at 100K."
   ]
  },
  {
   "cell_type": "code",
   "execution_count": null,
   "metadata": {},
   "outputs": [],
   "source": [
    "protease_100Kdf = protease_df.query('`Collection Temperature` == 100')\n",
    "protease_100Kdf"
   ]
  },
  {
   "cell_type": "markdown",
   "metadata": {},
   "source": [
    "Let's check this new dataframe to make sure it does not contain any entries with data that were collected at temperatures other than 100K."
   ]
  },
  {
   "cell_type": "code",
   "execution_count": null,
   "metadata": {},
   "outputs": [],
   "source": [
    "protease_100Kdf.query('`Collection Temperature` != 100')"
   ]
  },
  {
   "cell_type": "markdown",
   "metadata": {},
   "source": [
    "It looks like it worked - there are no entries in protease_100Kdf with a Collection Temperature that is not 100K.\n",
    "\n",
    "**Challenge**\n",
    "\n",
    "Create a new dataframe from protease_df that contains structures with resolutions less than 2.0 that had data collected at 298K\n"
   ]
  },
  {
   "cell_type": "markdown",
   "metadata": {},
   "source": [
    "Now we have explored our dataframe with some analysis and queries based on numbers in of type float. How about strings? Can we find out how many of the structures in our dataframe contain the word \"trypsin \". To see if a row in a dataframe contains as string, you can use the format\n",
    "\n",
    "```python\n",
    "df.series_label.str.contains('word')\n",
    "```"
   ]
  },
  {
   "cell_type": "code",
   "execution_count": null,
   "metadata": {},
   "outputs": [],
   "source": [
    "# Query for whether lines in protease_df contain the word 'trypsin'\n",
    "\n",
    "protease_df.Title.str.contains('trypsin')"
   ]
  },
  {
   "cell_type": "markdown",
   "metadata": {},
   "source": [
    "All the lines that say `True` contain the word 'trypsin'. If we want to display the lines that contain the word 'trypsin' we can use the command below. The syntax here looks a bit complex, but it is simply telling the Jupyter notebook to display lines where this query is `True`.\n",
    "\n",
    "```python\n",
    "protease_df.Title.str.contains('trypsin')\n",
    "```\n",
    "\n",
    "In the subsequent cell, we can create a new dataframe that contains only structures that contain the word 'trypsin' in their titles."
   ]
  },
  {
   "cell_type": "code",
   "execution_count": null,
   "metadata": {},
   "outputs": [],
   "source": [
    "# Query for all lines in protease_df that contain the word 'trypsin'\n",
    "\n",
    "protease_df[protease_df.Title.str.contains('trypsin' or 'Trypsin')]"
   ]
  },
  {
   "cell_type": "code",
   "execution_count": null,
   "metadata": {},
   "outputs": [],
   "source": [
    "# Creating a new dataframe that includes all rows from protease_df\n",
    "# containing the word 'trypsin'\n",
    "\n",
    "trypsin_df = protease_df[protease_df.Title.str.contains('trypsin' or 'Trypsin')]\n",
    "trypsin_df"
   ]
  },
  {
   "cell_type": "markdown",
   "metadata": {},
   "source": [
    "<div class=\"exercise-this-is-a-title exercise\">\n",
    "<p class=\"exercise-title\">Exercise</p>\n",
    "    <p> The enzyme kinetics data from the introduction can be found in the file `enzyme_kinetics.csv` in the data directory. The only problem is that the substrate concentrations are out of order. This is how it looks in Excel:</p>\n",
    "    \n",
    "![Enzyme Kinetics](images/enzyme_kinetics.png)\n",
    "        \n",
    "Create a dataframe from that file and use pandas functions to place the data in ascending substrate concentrations, then print the velocity at a substrate concentration of 20 micromolar. As a biochemist, you probably want to plot and analyze these data to find the Km and Vmax. We'll get to that in a bit. The goal right now is to just have a little fun with pandas.\n",
    "    \n",
    "```{admonition} Solution\n",
    ":class: dropdown\n",
    "    import os\n",
    "    import pandas as pd\n",
    "    kinetics_file = os.path.join('data', 'enzyme_kinetics.csv')\n",
    "    kinetics_df = pd.read_csv(kinetics_file) # kinetics_file is a variable, not a string\n",
    "    kinetics_df.head(0)  # to find out the column labels. You can also use kinetics_df.columns to get the same output.\n",
    "    kinetics_df.sort_values('Substrate_conc', inplace = True)  # once you know the column labels\n",
    "    kinetics_df # to see that the substrate concentrations are in ascending order in the new dataframe\n",
    "    kinetics_df.query('`Substrate_conc` == 20') # to display the velocity when the substrate concentration is 20 mM\n",
    "```\n",
    "    \n",
    "</div>"
   ]
  },
  {
   "cell_type": "code",
   "execution_count": null,
   "metadata": {},
   "outputs": [],
   "source": []
  }
 ],
 "metadata": {
  "kernelspec": {
   "display_name": "Python 3",
   "language": "python",
   "name": "python3"
  },
  "language_info": {
   "codemirror_mode": {
    "name": "ipython",
    "version": 3
   },
   "file_extension": ".py",
   "mimetype": "text/x-python",
   "name": "python",
   "nbconvert_exporter": "python",
   "pygments_lexer": "ipython3",
   "version": "3.8.8"
  }
 },
 "nbformat": 4,
 "nbformat_minor": 4
}
