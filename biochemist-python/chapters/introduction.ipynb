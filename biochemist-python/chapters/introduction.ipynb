{
 "cells": [
  {
   "cell_type": "markdown",
   "id": "0d8cfdcc",
   "metadata": {},
   "source": [
    "Introduction\n",
    "=========="
   ]
  },
  {
   "attachments": {},
   "cell_type": "markdown",
   "id": "f25f2530",
   "metadata": {},
   "source": [
    "\n",
    "`````{admonition} Overview\n",
    ":class: overview\n",
    "\n",
    "Questions\n",
    "\n",
    "* What is the basic syntax of the Python programming language?\n",
    "\n",
    "Objectives\n",
    "\n",
    "* Assign values to variables\n",
    "* Use the print function to check how the code is working.\n",
    "* Use multiple assignment to assign several variables at once.\n",
    "* Use a for loop to perform the same action on the items in a list.\n",
    "\n",
    "`````"
   ]
  },
  {
   "cell_type": "markdown",
   "id": "a392eb17",
   "metadata": {},
   "source": [
    "## Getting Started\n",
    "Python is a computer programming language that has become ubiquitous in scientific programming.  Our lessons will run python *interactively* through a python interpreter inside a Jupyter notebook.  The [setup](setup.ipynb) page should have provided information on how to install and start a Jupyter notebook.  Everything included in a code block is something you could type into your python interpreter and evaluate.\n",
    "\n",
    "### Setting up your Jupyter notebooks\n",
    "In the [setup](setup.ipynb), you learned how to start a Jupyter notebook. Now, we will use the notebook to execute Python code. Jupyter notebooks are divided into cells. You run a Jupyter notebook one cell at a time. To execute a cell, click inside the cell and press `shift+enter`.\n",
    "\n",
    "In the upper left corner, click where it says \"Untitled\" and change the name to \"MolSSI Workshop\". We have now changed the name of the Jupyter Notebook.\n",
    "\n",
    "Jupyter notebooks allow us to also use something called **markdown** in some cells. We can use markdown to write descriptions about our notebooks for others to read. It's a good practice to have your first cell be markdown to explain the purpose of the notebook. Let's do that in our first cell. Click inside the first cell, then on the top of the screen select `Cell->Cell Type->Markdown` (shown below).\n",
    "\n",
    "<img src=\"https://github.com/MolSSI-Education/python_scripting_cms/blob/gh-pages/fig/lesson01_fig1.png?raw=true\">\n",
    "\n",
    "Now, return to the cell and type the following:\n",
    "\n",
    "```{eval-rst}\n",
    ".. code-block::\n",
    "\n",
    "    # MolSSI Workshop\n",
    "    ## Introduction\n",
    "\n",
    "    This lesson covers Python basics like variable creation \n",
    "    and assignment and using the Jupyter notebook\n",
    "```\n",
    "\n"
   ]
  },
  {
   "cell_type": "markdown",
   "id": "d2b390fa",
   "metadata": {},
   "source": [
    "In Markdown, we create headers using a single `#` sign. Using two (`##`) creates a subheader. After typing this into a cell, press `shift+enter` to evaluate. Now your notebook should look like the following.\n",
    "\n",
    "<img src=\"https://github.com/MolSSI-Education/python_scripting_cms/blob/gh-pages/fig/lesson01_fig2.png?raw=true\">\n",
    "\n",
    "Now that our notebook is set-up, we're ready to start learning some Python!"
   ]
  },
  {
   "cell_type": "markdown",
   "id": "762d986c",
   "metadata": {},
   "source": [
    "## Assigning variables and data types\n",
    "\n",
    "Any python interpreter can work just like a calculator.  This is not very useful. Type the following into the next cell of your Jupyter notebook."
   ]
  },
  {
   "cell_type": "code",
   "execution_count": null,
   "id": "675fc3ac",
   "metadata": {},
   "outputs": [],
   "source": [
    "3+7"
   ]
  },
  {
   "cell_type": "markdown",
   "id": "eb40c496",
   "metadata": {},
   "source": [
    "Here, Python has performed a calculation for us. To save this value, or other values, we assign them to a variable for later use. The syntax for assigning variables is the following:\n",
    "\n",
    "```python\n",
    "variable_name = variable_value\n",
    "```\n",
    "\n",
    "Let's see this in action with a calculation. Type the following into the next cell of your Jupyter notebook."
   ]
  },
  {
   "cell_type": "code",
   "execution_count": null,
   "id": "f4311744",
   "metadata": {},
   "outputs": [],
   "source": [
    "# Calculations using the Michaelis-Menten Equation\n",
    "Km = 15.0                # Km = 15 micromolar\n",
    "Vmax = 100.0             # Vmax = 100.0 nanomoles/sec\n",
    "substrate_concentration = 8.0                  # Substrate concentration is 8.0 micromolar\n",
    "velocity = Vmax * substrate_concentration/(Km + substrate_concentration)    # Michaelis-Menten equation"
   ]
  },
  {
   "cell_type": "markdown",
   "id": "b3a9fe22",
   "metadata": {},
   "source": [
    "Notice several things about this code.  You can use `#` to add comments to your code, both at the start of a line and in the middle of the line (then the rest of the line is a comment).  The computer does not do anything with these comments.  They have been used here to remind the user what units are used for each of their values. Comments are also often used to explain what the code is doing or leave information for future people who might use the code.  \n",
    "\n",
    "When choosing variable names, you should choose informative names so that someone reading your code can tell what they represent.  Naming a variable temp or temperature is much more informative than naming that variable t.\n",
    "\n",
    "We can now access any of the variables from other cells. Let's print the value that we calculated. In the next cell,"
   ]
  },
  {
   "cell_type": "code",
   "execution_count": null,
   "id": "965b5239",
   "metadata": {},
   "outputs": [],
   "source": [
    "print(velocity)"
   ]
  },
  {
   "cell_type": "markdown",
   "id": "7a6443ff",
   "metadata": {},
   "source": [
    "In the previous code block, we introduced the `print()` function.  Often, we will use the print function just to make sure our code is working correctly.\n",
    "\n",
    "Note that if you do not specify a new name for a variable, then it doesn't automatically change the value of the variable; this is called being *immutable*.  For example if we typed"
   ]
  },
  {
   "cell_type": "code",
   "execution_count": null,
   "id": "3137391b",
   "metadata": {},
   "outputs": [],
   "source": [
    "print(velocity)\n",
    "velocity*1000\n",
    "print(velocity)"
   ]
  },
  {
   "cell_type": "markdown",
   "id": "8bbd91b0",
   "metadata": {},
   "source": [
    "Nothing happened to the value of `velocity`.  If we wanted to change the value of `velocity` we would have to re-save the variable using the same name to overwrite the existing value."
   ]
  },
  {
   "cell_type": "code",
   "execution_count": null,
   "id": "c09fe07e",
   "metadata": {},
   "outputs": [],
   "source": [
    "print(velocity)\n",
    "velocity = velocity * 60\n",
    "print(velocity)"
   ]
  },
  {
   "cell_type": "markdown",
   "id": "69075e11",
   "metadata": {},
   "source": [
    "There are situations where it is reasonable to overwrite a variable with a new value, but you should always think carefully about this.  Usually it is a better practice to give the variable a new name and leave the existing variable as is.  "
   ]
  },
  {
   "cell_type": "code",
   "execution_count": null,
   "id": "ff88e8b0",
   "metadata": {},
   "outputs": [],
   "source": [
    "# change velocity back\n",
    "velocity = velocity / 60\n",
    "v_nmols_per_min = velocity * 60\n",
    "print(velocity)\n",
    "print(v_nmols_per_min)"
   ]
  },
  {
   "cell_type": "markdown",
   "id": "4b271ce6",
   "metadata": {},
   "source": [
    "## Assigning multiple variables at once\n",
    "\n",
    "Python can do what is called multiple assignment where you assign several variables their values on one line of code.  The following code block does the exact same thing as the previous code block."
   ]
  },
  {
   "cell_type": "code",
   "execution_count": null,
   "id": "45854faa",
   "metadata": {},
   "outputs": [],
   "source": [
    "# I can assign all these variables at once\n",
    "Km, vmax, substrate_concentration = 15.0, 100.0, 8.0\n",
    "velocity = vmax * substrate_concentration/(Km + substrate_concentration)\n",
    "print(velocity)"
   ]
  },
  {
   "cell_type": "markdown",
   "id": "f75ebf3d",
   "metadata": {},
   "source": [
    "## Data types\n",
    "\n",
    "Each variable is some particular type of data.  The most common types of data are strings (`str`), integers (`int`), and floating point numbers (`float`).  You can identify the data type of any variable with the function `type(variable_name)`."
   ]
  },
  {
   "cell_type": "code",
   "execution_count": null,
   "id": "ea222f8d",
   "metadata": {},
   "outputs": [],
   "source": [
    "type(velocity)"
   ]
  },
  {
   "cell_type": "markdown",
   "id": "eb83131c",
   "metadata": {},
   "source": [
    "You can change the data type of a variable like this.  This is called casting."
   ]
  },
  {
   "cell_type": "code",
   "execution_count": null,
   "id": "673d1807",
   "metadata": {},
   "outputs": [],
   "source": [
    "velocity_string = str(velocity)\n",
    "type(velocity_string)"
   ]
  },
  {
   "cell_type": "markdown",
   "id": "da159665",
   "metadata": {},
   "source": [
    "## Lists\n",
    "\n",
    "Another common data structure in python is the list.  Lists can be used to group several values or variables together, and are declared using square brackets \\[_\\]. **Python assigns special meanings to square brackets \\[\\], parentheses () and curly brackets {}, so you must be very careful with these characters.** List values are separated by commas. Python has several built in functions which can be used on lists. The built-in function `len` can be used to determine the length of a list. This code block also demonstrates how to print multiple variables."
   ]
  },
  {
   "cell_type": "code",
   "execution_count": null,
   "id": "483c82dd",
   "metadata": {},
   "outputs": [],
   "source": [
    "# This is a list\n",
    "substrate_concs = [1.0, 2.0, 3.0, 4.0, 6.0, 8.0, 10.0, 15.0, 20.0, 30.0, 50.0, 75.0, 100.0] #micromolar\n",
    "# I can determine its length\n",
    "s_length = len(substrate_concs)\n",
    "# Print the length of the list\n",
    "print('This list contains', s_length, 'substrate concentrations')"
   ]
  },
  {
   "cell_type": "markdown",
   "id": "7334b30a",
   "metadata": {},
   "source": [
    "If you want to operate on a particular element of the list, you use the list name and then put in brackets which element of the list you want.  **In python counting starts at zero.  So the first element of the list is `list[0]`**"
   ]
  },
  {
   "cell_type": "code",
   "execution_count": null,
   "id": "79babd57",
   "metadata": {},
   "outputs": [],
   "source": [
    "# Print the first element of the list\n",
    "print(substrate_concs[0])"
   ]
  },
  {
   "cell_type": "markdown",
   "id": "a534e2db",
   "metadata": {},
   "source": [
    "You can use an element of a list as a variable in a calculation."
   ]
  },
  {
   "cell_type": "code",
   "execution_count": null,
   "id": "9ec10a3d",
   "metadata": {},
   "outputs": [],
   "source": [
    "# Convert the last substrate concentration to nM\n",
    "concentration_nM = substrate_concs[12] * 1000\n",
    "print(concentration_nM)"
   ]
  },
  {
   "cell_type": "markdown",
   "id": "f85e5f96",
   "metadata": {},
   "source": [
    "## Slices\n",
    "Sometimes you will want to make a new list that is a subset of an existing list.  For example, we might want to make a new list that is just the first few elements of our previous list.  This is called a `slice`.  The general syntax is\n",
    "\n",
    "```python\n",
    "new_list = list_name[start:end]\n",
    "```\n",
    "\n",
    "When taking a slice, it is very important to remember how counting works in python.  Remember that counting starts at zero so the first element of a list is `list_name[0]`.  When you specify the last element for the slice, it goes *up to but not including* that element of the list.  So a slice like"
   ]
  },
  {
   "cell_type": "code",
   "execution_count": null,
   "id": "09de3964",
   "metadata": {},
   "outputs": [],
   "source": [
    "short_list = substrate_concs[0:3]"
   ]
  },
  {
   "cell_type": "markdown",
   "id": "d22ca4cb",
   "metadata": {},
   "source": [
    "includes `substrate_concs[0]`, `substrate_concs[1]` and `substrate_concs[2]` but *not* `substrate_concs[3]`."
   ]
  },
  {
   "cell_type": "code",
   "execution_count": null,
   "id": "1332215e",
   "metadata": {},
   "outputs": [],
   "source": [
    "print(short_list)"
   ]
  },
  {
   "attachments": {},
   "cell_type": "markdown",
   "id": "1cb27746",
   "metadata": {},
   "source": [
    "If you do not include a start index, the slice automatically starts at `list_name[0]`.  If you do not include an end index, the slice automatically goes to the end of the list.  \n",
    "\n",
    "\n",
    "``````{admonition} Check your understanding\n",
    ":class: exercise\n",
    "\n",
    "What does the following code print?\n",
    "\n",
    "```python\n",
    "slice1 = substrate_concs[8:]\n",
    "slice2 = substrate_concs[:3]\n",
    "print('slice1 is', slice1)\n",
    "print('slice2 is', slice2)\n",
    "```\n",
    "    \n",
    "```{admonition} Solution\n",
    ":class: solution dropdown\n",
    "\n",
    "    slice1 is [20.0, 30.0, 50.0, 75.0, 100.0]\n",
    "    slice2 is [1.0, 2.0, 3.0]\n",
    "    \n",
    "```\n",
    "    \n",
    "``````\n"
   ]
  },
  {
   "cell_type": "markdown",
   "id": "4837802f",
   "metadata": {},
   "source": [
    "If you don't specify a new variable name nothing happens. Looking at our example above if we only slice the list, nothing happens to `substrate_concs`."
   ]
  },
  {
   "cell_type": "code",
   "execution_count": null,
   "id": "ef636091",
   "metadata": {},
   "outputs": [],
   "source": [
    "print(substrate_concs)\n",
    "substrate_concs[0:3]\n",
    "print(substrate_concs)"
   ]
  },
  {
   "cell_type": "markdown",
   "id": "ce23bc5a",
   "metadata": {},
   "source": [
    "## Repeating an operation many times: for loops\n",
    "Often, you will want to do something to every element of a list.  The structure\n",
    "to do this is called a `for` loop.  The general structure of a `for` loop is\n",
    "```python\n",
    "for variable in list:\n",
    "    do things using variable\n",
    "```\n",
    "\n",
    "Indentation is very important in python.  There is nothing like an `end` or `exit` statement that tells you that you are finished with the loop.  The indentation shows you what statements are in the loop.  Let's use a loop to calculate initial velocities for all the substrate concentration in our S list. "
   ]
  },
  {
   "cell_type": "code",
   "execution_count": null,
   "id": "6307f515",
   "metadata": {},
   "outputs": [],
   "source": [
    "substrate_concs = [1.0, 2.0, 3.0, 4.0, 6.0, 8.0, 10.0, 15.0, 20.0, 30.0, 50.0, 75.0, 100.0]\n",
    "for number in substrate_concs:\n",
    "    velocity = Vmax * number / (Km + number)\n",
    "    print(velocity)"
   ]
  },
  {
   "cell_type": "markdown",
   "id": "3487b5d1",
   "metadata": {},
   "source": [
    "Now it seems like we are really getting somewhere with our program!  But it would be even better if instead of just printing the values, it saved them in a new list.  To do this, we are going to use the `append` function.  The `append` function adds a new item to the end of an existing list.  The general form of the append function is\n",
    "\n",
    "```python\n",
    "list_name.append(new_thing)\n",
    "```"
   ]
  },
  {
   "cell_type": "markdown",
   "id": "b5c90722",
   "metadata": {},
   "source": [
    "Try running this block of code.  See if you can figure out why it doesn't work."
   ]
  },
  {
   "cell_type": "code",
   "execution_count": null,
   "id": "89df3aa8",
   "metadata": {},
   "outputs": [],
   "source": [
    "substrate_concs = [1.0, 2.0, 3.0, 4.0, 6.0, 8.0, 10.0, 15.0, 20.0, 30.0, 50.0, 75.0, 100.0]\n",
    "for number in substrate_concs:\n",
    "    V = Vmax * number / (Km + number)\n",
    "    velocities.append(V)\n",
    "    \n",
    "print(velocities)"
   ]
  },
  {
   "cell_type": "markdown",
   "id": "6379de37",
   "metadata": {},
   "source": [
    "This code doesn't work because on the first iteration of our loop, the list `velocities` doesn't exist.  To make it work, we have to start the list outside of the loop.  The list can be blank when we start it, but we have to start it."
   ]
  },
  {
   "cell_type": "code",
   "execution_count": null,
   "id": "52c79858",
   "metadata": {},
   "outputs": [],
   "source": [
    "velocities = []\n",
    "substate_concs = [1.0, 2.0, 3.0, 4.0, 6.0, 8.0, 10.0, 15.0, 20.0, 30.0, 50.0, 75.0, 100.0]\n",
    "for number in substrate_concs:\n",
    "    V = Vmax * number / (Km + number)\n",
    "    velocities.append(V)\n",
    "    \n",
    "print(velocities)"
   ]
  },
  {
   "cell_type": "markdown",
   "id": "3f553d46",
   "metadata": {},
   "source": [
    "## Making choices: Logic Statements\n",
    "Within your code, you may need to evaluate a variable and then do something if the variable has a particular value.  This type of logic is handled by an `if` statement.  In the following example, we are only going to use the lower substrate concentrations, as we might do when we are looking for the initial linear portion of a Michaelis-Menten curve. **As a biochemist, you may want to plot the data to see what you find. We will address plotting later in the workshop**"
   ]
  },
  {
   "cell_type": "code",
   "execution_count": null,
   "id": "cf968b6c",
   "metadata": {},
   "outputs": [],
   "source": [
    "Km, Vmax = 15.0, 100.0\n",
    "linear_MM = []\n",
    "\n",
    "subtrate_concs = [1.0, 2.0, 3.0, 4.0, 6.0, 8.0, 10.0, 15.0, 20.0, 30.0, 50.0, 75.0, 100.0]\n",
    "for number in substrate_concs:\n",
    "    if number < Km/4:\n",
    "        V_linear = Vmax * number / (Km + number)\n",
    "        linear_MM.append(V_linear)\n",
    "\n",
    "print(linear_MM)"
   ]
  },
  {
   "cell_type": "markdown",
   "id": "24d974b8",
   "metadata": {},
   "source": [
    "Other logic operations include\n",
    "- equal to `==`\n",
    "- not equal to `!=`\n",
    "- greater than `>`\n",
    "- less than `<`\n",
    "- greater than or equal to `>=`\n",
    "- less than or equal to `<=`\n",
    "\n",
    "You can also use `and`, `or`, and `not` to check more than one condition."
   ]
  },
  {
   "cell_type": "code",
   "execution_count": null,
   "id": "aaafe66b",
   "metadata": {},
   "outputs": [],
   "source": [
    "substrate_concs = [1.0, 2.0, 3.0, 4.0, 6.0, 8.0, 10.0, 15.0, 20.0, 30.0, 50.0, 75.0, 100.0]\n",
    "v_at_or_below_km = []\n",
    "for number in substrate_concs:\n",
    "    if number <= Km or number == Km:\n",
    "        velocity = Vmax * number / (Km + number)\n",
    "        v_at_or_below_km.append(velocity)\n",
    "\n",
    "print(v_at_or_below_km)"
   ]
  },
  {
   "attachments": {},
   "cell_type": "markdown",
   "id": "e9abd7c5",
   "metadata": {},
   "source": [
    "If you are comparing strings, not numbers, you use different logic operators like `is`, `in`, or `is not`.  \n",
    "\n",
    "``````{admonition} Exercise\n",
    ":class: exercise\n",
    "\n",
    "The following list contains some floating point numbers and some \n",
    "nmbers which have been saved as strings. Copy this list exactly into your code.\n",
    "\n",
    "```python\n",
    "conc_list = ['1.0', 2.0, 5.0, '14.0', 20.0]\n",
    "```\n",
    "\n",
    "Set up a `for` loop to go over each element of `S_list`.  If the element is a string (`str`), recast it as a float.  Save *all* of the numbers to a new list called `number_list`.  Pay close attention to your indentation!\n",
    "\n",
    "``````{admonition} Solution\n",
    ":class: solution dropdown\n",
    "\n",
    "```python\n",
    "conc_list = ['1.0', 2.0, 5.0, '14.0', 20.0]\n",
    "number_list = []\n",
    "for item in conc_list:\n",
    "    if type(item) is str:\n",
    "        item = float(item)\n",
    "    number_list.append(item)\n",
    "\n",
    "print(number_list)\n",
    "```\n",
    "\n",
    "``````\n",
    "\n",
    "``````"
   ]
  },
  {
   "cell_type": "markdown",
   "id": "10abb958",
   "metadata": {},
   "source": [
    "## A note about jupyter notebooks\n",
    "If you use the jupyter notebook for your python interpreter, the notebook only executes the current code block.  This can have several unintended consequences. If you change a value and then go back and run an earlier code block, it will use the new value, not the first defined value, which may give you incorrect analysis.  Similarly, if you open your jupyter notebook later, and try to run a code block in the middle, it may tell you that your variables are undefined, even though you can clearly see them defined in earlier code blocks.  But if you didn't re-run those code blocks, then python doesn't know they exist.  "
   ]
  },
  {
   "cell_type": "code",
   "execution_count": null,
   "id": "98cc8d9c",
   "metadata": {},
   "outputs": [],
   "source": []
  }
 ],
 "metadata": {
  "kernelspec": {
   "display_name": "Python 3",
   "language": "python",
   "name": "python3"
  },
  "language_info": {
   "codemirror_mode": {
    "name": "ipython",
    "version": 3
   },
   "file_extension": ".py",
   "mimetype": "text/x-python",
   "name": "python",
   "nbconvert_exporter": "python",
   "pygments_lexer": "ipython3",
   "version": "3.8.10 (default, Nov 14 2022, 12:59:47) \n[GCC 9.4.0]"
  },
  "vscode": {
   "interpreter": {
    "hash": "916dbcbb3f70747c44a77c7bcd40155683ae19c65e1c03b4aa3499c5328201f1"
   }
  }
 },
 "nbformat": 4,
 "nbformat_minor": 5
}
