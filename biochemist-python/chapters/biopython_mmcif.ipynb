{
 "cells": [
  {
   "cell_type": "markdown",
   "id": "13a70a60-a308-4fb8-b28e-8b0f0970adc1",
   "metadata": {},
   "source": [
    "# Analyzing MMCIF Files using Biopython\n",
    "\n",
    "``````{admonition} Overview\n",
    ":class: overview\n",
    "\n",
    "Questions:\n",
    "\n",
    "* What is the Biopython library and what is it used for?\n",
    "\n",
    "* How can I use Biopython to analyze a protein structure (MMCIF) file?  \n",
    "\n",
    "\n",
    "Objectives:\n",
    "\n",
    "* Use Biopython to read information from an MMCIF\n",
    "\n",
    "* Use Biopython to measure atom neighbors and analyze protein-ligand interactions.\n",
    "\n",
    "``````\n",
    "\n",
    "\n",
    "The Biopython library is a powerful and versatile collection of tools specifically designed to assist biochemists and biologists with computational work. \n",
    "Biopython simplifies tasks such as working with DNA and protein sequences, interacting with online databases like GenBank and UniProt, and reading molecular format files like mmCIF and PDB. \n",
    "\n",
    "In this notebook, we will use Biopython to parse information from an MMCIF file.\n",
    "\n",
    "## Reading MMCIF Files\n",
    "The mmCIF (also called PDBx/mmCIF) file format defines the three dimensional structure of a protein and provides information\n",
    "about the molecule, any ligands, host organism, and experimental method and conditions under which the data was obtained.\n",
    "The mmCIF file has a [specific format](https://pdb101.rcsb.org/learn/guide-to-understanding-pdb-data/beginner%E2%80%99s-guide-to-pdb-structures-and-the-pdbx-mmcif-format)\n",
    "that consists of data entries with certain keywords beginning with `_` followed by their values.\n",
    "\n",
    "The following is a text excerpt from the PDB 101 page about the mmCIF file format:\n",
    "\n",
    "---\n",
    "All data items are identified by name, begin with the underscore character and are composed of a category name and an attribute name. \n",
    "The category name is separated from the attribute name by a period:\n",
    "\n",
    "```\n",
    "_citation.year\n",
    "\n",
    "```\n",
    "\n",
    "This combination of category and attribute may be termed an mmCIF token.\n",
    "\n",
    "Data categories are presented in two styles: key-value and tabular.\n",
    "\n",
    "In the key-value style, the mmCIF token is followed directly by a corresponding value.  The following example shows the unit cell parameters from entry 4hhb:\n",
    "\n",
    "```\n",
    "_cell.entry_id           4HHB\n",
    "_cell.length_a           63.150\n",
    "_cell.length_b           83.590\n",
    "_cell.length_c           53.800\n",
    "_cell.angle_alpha        90.00\n",
    "_cell.angle_beta         99.34\n",
    "_cell.angle_gamma        90.00\n",
    "_cell.Z_PDB              4\n",
    "```\n",
    "----\n",
    "\n",
    "BioPython has a function called `MMCIF2Dict` that can read this information into a Python Dictionary.\n",
    "We can then query the dictionary to pull out data we are interested in.\n",
    "\n"
   ]
  },
  {
   "cell_type": "code",
   "execution_count": null,
   "id": "749ce576-63d8-4f5e-aa25-e325a5033eb8",
   "metadata": {
    "tags": []
   },
   "outputs": [],
   "source": [
    "# First import MMCIF2Dict function\n",
    "from Bio.PDB.MMCIF2Dict import MMCIF2Dict\n",
    "\n",
    "# read in the CIF file.\n",
    "pdb_info = MMCIF2Dict(\"data/PDB_files/1mbn.cif\")"
   ]
  },
  {
   "cell_type": "markdown",
   "id": "2fd581df-fcf7-47a1-b77a-99f3d5481b5c",
   "metadata": {},
   "source": [
    "The variable `pdb_info` is now a Python dictionary containing data from the CIF file.\n",
    "\n",
    "We can pull out the cell information using dictionary syntax:"
   ]
  },
  {
   "cell_type": "code",
   "execution_count": null,
   "id": "2f3e6699-2d16-420d-9a2a-d63389bccf02",
   "metadata": {
    "tags": []
   },
   "outputs": [],
   "source": [
    "pdb_info[\"_cell.length_a\"]"
   ]
  },
  {
   "cell_type": "markdown",
   "id": "dc812eb0-7a87-445e-b34d-6906095828f7",
   "metadata": {},
   "source": [
    "The mmCIF file contains a lot of data. \n",
    "You can see all of the possible dictionary keys by doing \n",
    "\n",
    "```python\n",
    "pdb_info.keys()\n",
    "```\n",
    "\n",
    "Note that there are a large number of possible keys for an MMCIF file.\n",
    "Each MMCIF file contains a varying number of these keywords."
   ]
  },
  {
   "cell_type": "markdown",
   "id": "ba3e4c7b-ff86-4ac0-9f7d-b2cb56dd0405",
   "metadata": {},
   "source": [
    "We can use some looping in Python to print some of the data of interest. \n",
    "In the following cell, we use a `for` loop to go over all of the keys and print the value if the key contains the word `_cell.`"
   ]
  },
  {
   "cell_type": "code",
   "execution_count": null,
   "id": "b714915f-0f02-4615-902f-d4a7b44cd8c5",
   "metadata": {
    "tags": []
   },
   "outputs": [],
   "source": [
    "for key, value in pdb_info.items():\n",
    "    if \"_cell.\" in key:\n",
    "        print(key, value)"
   ]
  },
  {
   "cell_type": "markdown",
   "id": "a8093afd-cbd5-4a37-871f-943ebcaf936e",
   "metadata": {},
   "source": [
    "There are a lot of keywords. \n",
    "You can browse then on [this webpage](https://mmcif.wwpdb.org/dictionaries/mmcif_pdbx_v50.dic/Groups/index.html) from the World Wide PDB.\n",
    "\n",
    "In particular, the `_entity` category contains interesting information:\n",
    "\n",
    "        \"Data items in the ENTITY category record details (such as\n",
    "       chemical composition, name and source) about the molecular\n",
    "       entities that are present in the crystallographic structure.\n",
    "\n",
    "       Items in the various ENTITY subcategories provide a full\n",
    "       chemical description of these molecular entities.\n",
    "\n",
    "       Entities are of three types:  polymer, non-polymer and water.\n",
    "       Note that the water category includes only water;  ordered\n",
    "       solvent such as sulfate ion or acetone would be described as\n",
    "       individual non-polymer entities.\"\n",
    "\n",
    "We can add printing information about the entity to the for loop."
   ]
  },
  {
   "cell_type": "code",
   "execution_count": null,
   "id": "2a5360bd-edb9-483d-9ad7-04a4d8887c6d",
   "metadata": {
    "tags": []
   },
   "outputs": [],
   "source": [
    "for key, value in pdb_info.items():\n",
    "    if \"_entity.\" in key:\n",
    "        print(key, value)\n",
    "    if \"_cell.\" in key:\n",
    "        print(key, value)"
   ]
  },
  {
   "cell_type": "markdown",
   "id": "8b6e7817-db52-450c-8185-2c226fec5900",
   "metadata": {},
   "source": [
    "We see a few interesting entries in the `_entity` section.\n",
    "The output tells us that there are three entities in the PDB.\n",
    "These are myoglobin, a hydroxide ion, and a heme group (protoporphyrin IX containing Fe).\n",
    "\n",
    "We will filter our for loop to not print values where `?` is an entry to make this more clear by adding a conditonal statement before looking for keywords."
   ]
  },
  {
   "cell_type": "code",
   "execution_count": null,
   "id": "53b84719-43b7-45b7-981f-de4848832144",
   "metadata": {
    "tags": []
   },
   "outputs": [],
   "source": [
    "for key, value in pdb_info.items():\n",
    "    if \"?\" not in value:\n",
    "        if \"_entity.\" in key:\n",
    "            print(key, value)\n",
    "        if \"_cell.\" in key:\n",
    "            print(key, value)"
   ]
  },
  {
   "cell_type": "markdown",
   "id": "f5c49d70-335b-4979-99a3-5476a6ad8e79",
   "metadata": {},
   "source": [
    "Some things we might be interested in are the name of the organism the sample originated from and the sequence of the protein.\n",
    "The relevant keywords for this will be `_entity_src_gen.gene_src_common_name` to get the common name of the organism,\n",
    "`_entity_src_gen.pdbx_gene_src_scientific_name` for the scientific name of the organism,\n",
    "and `_entity_poly.pdbx_seq_one_letter_code` for the sequence.\n",
    "\n"
   ]
  },
  {
   "cell_type": "code",
   "execution_count": null,
   "id": "1b070e24-24c6-4358-89b8-9785dc4a9186",
   "metadata": {
    "tags": []
   },
   "outputs": [],
   "source": [
    "common_name_1mbn = pdb_info[\"_entity_src_gen.gene_src_common_name\"]\n",
    "print(common_name_1mbn)"
   ]
  },
  {
   "cell_type": "code",
   "execution_count": null,
   "id": "a660c4d6-0c00-4d9e-bcc0-348d1203d54b",
   "metadata": {
    "tags": []
   },
   "outputs": [],
   "source": [
    "scientific_name_1mbn = pdb_info[\"_entity_src_gen.pdbx_gene_src_scientific_name\"]\n",
    "print(scientific_name_1mbn)"
   ]
  },
  {
   "cell_type": "code",
   "execution_count": null,
   "id": "c6114f56-2510-44f8-9373-fe7e530e1e0c",
   "metadata": {
    "tags": []
   },
   "outputs": [],
   "source": [
    "sequence_1mbn = pdb_info[\"_entity_poly.pdbx_seq_one_letter_code\"]\n",
    "print(sequence_1mbn)"
   ]
  },
  {
   "cell_type": "markdown",
   "id": "009a8b9a-7f09-4eed-baf6-a06a536dd1ba",
   "metadata": {},
   "source": [
    "## Measuring 3D Properties - Ligand Neighbors\n",
    "\n",
    "In our analysis above, we see that the myoglobin structure contains an entity called \"PROTOPORPHYRIN IX CONTAINING FE\". \n",
    "\n",
    "One useful thing about having the crystal structure of the protein is that we can analyze the coordinates to see how different parts of the molecule interact.\n",
    "In myoglobin, the iron atom (Fe) in the protoporphyrin reversibly binds the oxygen $O_2$ molecule to carry oxygen to muscles. \n",
    "We can use BioPython to analyze the binding of this heme group to the protein.\n",
    "\n",
    "```{image} images/Heme.svg\n",
    ":align: center\n",
    "```\n",
    "\n",
    "Later in the workshop, we will learn how we can use a Python library to visualize the protein structure.\n",
    "For now, you can see this image showing myoglobin and the heme group (circled).\n",
    "\n",
    "```{image} images/myoglobin_heme_small.png\n",
    ":align: center\n",
    ":height: 350px\n",
    "```\n",
    "\n",
    "We will want to use Biopython to measure the neighbors of the iron atom in order to measure which residues the\n",
    "heme group is bound to.\n",
    "To perform this analysis, we will have to load the protein into a different data type called a Biopython structure.\n",
    "This time, we will import `MMCIFParser` instead of `MMCIF2Dict`.\n",
    "This will allow us to do measurements with the coordinates.\n"
   ]
  },
  {
   "cell_type": "code",
   "execution_count": null,
   "id": "661c1874-de1e-450f-863f-ca7d97f55b18",
   "metadata": {
    "tags": []
   },
   "outputs": [],
   "source": [
    "from Bio.PDB.MMCIFParser import MMCIFParser\n",
    "\n",
    "# Create an MMCIFParser object\n",
    "parser = MMCIFParser(QUIET=True)\n",
    "\n",
    "# Parse the mmCIF file\n",
    "structure = parser.get_structure(\"myoglobin\", \"data/PDB_files/1mbn.cif\")"
   ]
  },
  {
   "cell_type": "markdown",
   "id": "7be6b1f2-ac9e-4754-b4ec-04904d3e3774",
   "metadata": {},
   "source": [
    "\n",
    "\n"
   ]
  },
  {
   "cell_type": "markdown",
   "id": "231815e4-9a96-46ae-8e7f-b582b60caeda",
   "metadata": {},
   "source": [
    "The `structure` variable is a Biopython structure.\n",
    "\n",
    "The Structure object represents the molecules in the MMCIF file and is hierarchical.\n",
    "It follows the so-called SMCRA (Structure/Model/Chain/Residue/Atom) architecture :\n",
    "\n",
    "* A structure consists of models\n",
    "* A model consists of chains\n",
    "* A chain consists of residues\n",
    "* A residue consists of atoms\n",
    "\n",
    "This is the way many structural biologists/bioinformaticians think about structure, and provides a simple but efficient way to deal with structure. \n",
    "\n",
    "For our analysis, we want to find the neighbors of the iron atom.\n",
    "To do this analysis, we will first need to find our iron atom.\n",
    "We use the `structure.get_atoms()` function to get all of the atoms in the MMCIF.\n",
    "The variable `atoms` after this step is a special data type called a **generator**.\n",
    "A generator will load elements of a collection one a time using a loop.\n",
    "This means only one atom would be loaded into memory if we looped through the atoms.\n",
    "Biopython uses a generator when returning atoms because sometimes proteins can be so large that you don't want to load them all into your computer memory at once.\n",
    "There is one drawback to generators, however, and that is that you can only use them once (if you wanted to work with atoms again, you would have to do structure.get_atoms() again.\n",
    "Because our protein is small and we expect to need the list of atoms more than one time, we will convert the atoms generator to a list using `list(atoms)`.\n",
    "However, if you are ever working with a larger structure, it might be better to use a generator."
   ]
  },
  {
   "cell_type": "code",
   "execution_count": null,
   "id": "304196f1-4de0-4847-9b86-682e70ec3c60",
   "metadata": {
    "tags": []
   },
   "outputs": [],
   "source": [
    "atoms = structure.get_atoms()\n",
    "type(atoms)"
   ]
  },
  {
   "cell_type": "code",
   "execution_count": null,
   "id": "1b86c963-7675-4884-a956-545973c9cd36",
   "metadata": {
    "tags": []
   },
   "outputs": [],
   "source": [
    "atom_list = list(atoms)\n",
    "\n",
    "# Loop through the atoms.\n",
    "for atom in atom_list:\n",
    "    \n",
    "    # Save information about the iron atom.\n",
    "    if atom.element == \"FE\":\n",
    "        iron_atom = atom\n",
    "        iron_coord = atom.get_coord()\n",
    "\n",
    "print(iron_atom, iron_coord)"
   ]
  },
  {
   "cell_type": "markdown",
   "id": "dc25dfdd-4103-4604-9b8c-4bf9358b84b0",
   "metadata": {},
   "source": [
    "We will now use Biopython to do a neighbor search.\n",
    "A neighbor search is done in two steps.\n",
    "First, we create a neighbor search variable using `NeighborSearch(atoms)`.\n",
    "Then, we do the neighbor search by inputting the coordinates we are looking for neighbors to,\n",
    "and a cut-off distance for the neighbors.\n",
    "Any atom that is within the specified cut-off distance is considered to be a neighbor."
   ]
  },
  {
   "cell_type": "code",
   "execution_count": null,
   "id": "d03c0b2f-5fac-4802-9f89-05b2ecba62d7",
   "metadata": {
    "tags": []
   },
   "outputs": [],
   "source": [
    "from Bio.PDB import NeighborSearch\n",
    "\n",
    "# Get a list of atoms\n",
    "atoms = structure.get_atoms()\n",
    "\n",
    "# Define the maximum distance for a neighbor.\n",
    "cutoff_distance = 4\n",
    "\n",
    "# Create a neighbor search.\n",
    "neighbor_search = NeighborSearch(atom_list)\n",
    "\n",
    "neighbors = neighbor_search.search(iron_atom.get_coord(), cutoff_distance)\n",
    "\n",
    "print(\"The iron atom has\", len(neighbors), \"neighbor atoms.\")"
   ]
  },
  {
   "cell_type": "markdown",
   "id": "c76ca736-2a9f-4ee7-9143-5ca8537ebf6c",
   "metadata": {},
   "source": [
    "We can use a for loop to loop through the neighbor atoms that the `search` function found.\n",
    "We can get the residue of the atom by using `atom.get_parent()`."
   ]
  },
  {
   "cell_type": "code",
   "execution_count": null,
   "id": "201d57e7-3b7b-4f96-9c68-77623c54642f",
   "metadata": {
    "tags": []
   },
   "outputs": [],
   "source": [
    "for neighbor in neighbors:\n",
    "    residue = neighbor.get_parent()\n",
    "    print(residue.get_resname(), residue.get_id())"
   ]
  },
  {
   "cell_type": "markdown",
   "id": "a99f5a8c-9bfb-47f6-8738-1b76d2344d28",
   "metadata": {},
   "source": [
    "THe lines that say \"HEM\" are for atoms that belong to the heme ligand.\n",
    "We are interested in how the ligand binds to the protein, so we'll modify the for loop to only print neighbors if they are not part of the same residue as the iron."
   ]
  },
  {
   "cell_type": "code",
   "execution_count": null,
   "id": "26bb9bea-1a59-4486-ac9d-df978f96eb68",
   "metadata": {
    "tags": []
   },
   "outputs": [],
   "source": [
    "iron_residue = iron_atom.get_parent()\n",
    "\n",
    "for neighbor in neighbors:\n",
    "    residue = neighbor.get_parent()\n",
    "    \n",
    "    if residue != iron_residue:\n",
    "        print(neighbor.element, residue.get_resname(), residue.get_id()[1])"
   ]
  },
  {
   "cell_type": "markdown",
   "id": "3a9b1567-6d0b-472b-a1ac-72d04ff13fea",
   "metadata": {},
   "source": [
    "Our analysis shows us that HIS 93 is a neighbor to the iron in the heme group. \n",
    "This histidine is called the \"distal histidine\" and is known to bind to the iron in the heme group.\n",
    "You can read more about myoglobin's structure [here](https://sites.chem.utoronto.ca/chemistry/coursenotes/GTM/JM/myoglobin/start.htm).\n",
    "\n",
    "Try increasing the distance to 5. What do you find?"
   ]
  },
  {
   "cell_type": "markdown",
   "id": "5d7f3876-98aa-430f-9446-50ee537d1eb8",
   "metadata": {},
   "source": [
    "## Challenge - Repeat analysis for a Zinc Finger\n",
    "\n",
    "Zinc fingers are small protein motifs that are characterized by the coordination of one or more zinc ions to stabilize their structure, enabling them to interact with other molecules such as DNA, RNA, or proteins.\n",
    "These motifs are commonly found in transcription factors, where they play a crucial role in the recognition and binding of specific DNA sequences, thereby regulating gene expression.\n",
    "\n",
    "For this challenge, you will analyze the structure `1a1t`.\n",
    "This structure is the HIV-1 nucleocapsid protein, which contains two zinc fingers that grip the viral RNA during budding of the virus. \n",
    "\n",
    "```{image} images/1a1t.png\n",
    ":height: 350px\n",
    ":align: center\n",
    "```\n",
    "\n",
    "**Hint 1** - The structure `1a1t` is determined by NMR and contains 25 structure models. When you load the structure using the MMCIF parser, you will get a list of 25 structures. You can analyze only one of them by using list indexing:\n",
    "\n",
    "```python\n",
    "# Create an MMCIFParser object\n",
    "parser = MMCIFParser(QUIET=True)\n",
    "\n",
    "# Parse the mmCIF file\n",
    "structures = parser.get_structure(\"1a1t\", \"data/PDB_files/1a1t.cif\")  # This will be a list with 25 elements!\n",
    "\n",
    "# Get the first structure\n",
    "structure = structures[0]\n",
    "```\n",
    "\n",
    "**Hint 2** - The structure also contains more than one Zinc atom, so if you would like to analyze both that are present in the structure, you will have to use your Python knowledge to slightly modify your code."
   ]
  },
  {
   "cell_type": "code",
   "execution_count": null,
   "id": "71c0bacb-6795-4b83-9a3a-3a001e87579a",
   "metadata": {},
   "outputs": [],
   "source": []
  }
 ],
 "metadata": {
  "kernelspec": {
   "display_name": "Python 3 (ipykernel)",
   "language": "python",
   "name": "python3"
  },
  "language_info": {
   "codemirror_mode": {
    "name": "ipython",
    "version": 3
   },
   "file_extension": ".py",
   "mimetype": "text/x-python",
   "name": "python",
   "nbconvert_exporter": "python",
   "pygments_lexer": "ipython3",
   "version": "3.9.16"
  }
 },
 "nbformat": 4,
 "nbformat_minor": 5
}
