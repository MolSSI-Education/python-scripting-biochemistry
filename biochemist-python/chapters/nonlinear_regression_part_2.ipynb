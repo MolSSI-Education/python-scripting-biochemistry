{
 "cells": [
  {
   "cell_type": "markdown",
   "id": "vocal-lemon",
   "metadata": {},
   "source": [
    "Nonlinear Regression Part 2\n",
    "========================="
   ]
  },
  {
   "attachments": {},
   "cell_type": "markdown",
   "id": "japanese-vaccine",
   "metadata": {},
   "source": [
    "``````{admonition} Overview\n",
    ":class: overview\n",
    "\n",
    "Questions:\n",
    "\n",
    "* How can I perform statistically robust non-linear regression in a Jupyter notebook?\n",
    "\n",
    "* How can I prepare accurate and attractive plots of my regression results that include the best-fit line?\n",
    "\n",
    "Objectives:\n",
    "\n",
    "* Import data from a csv file.\n",
    "\n",
    "* Create a function based on the equation to be fitted.\n",
    "\n",
    "* Generate the best-fit curve with parameters and statistical descriptors.\n",
    "\n",
    "* Create plots of the data.\n",
    "``````"
   ]
  },
  {
   "cell_type": "markdown",
   "id": "loaded-tomato",
   "metadata": {},
   "source": [
    "## Data Fitting\n",
    "In an earlier module, we used the `linregress` function from the scipy.stats library to perform linear regression. This is sufficient for a least squares linear fit to the data. Python contains tools that also enable us to fit data to an equation that we have defined, with two or more paramaters. So it is ideal for nonlinear curve fitting to the Michaelis-Menten equation.\n",
    "\n",
    "In this module, we will use some familiar tools: importing csv data into a pandas dataframe and plotting results using the matplotlib.pyplot library. We will also create a function based on the Michaelis-Menten equation. The exciting part is learning how to fit the data to the function using `curve_fit` from scipy.optimize.\n",
    "\n",
    "Here are the steps in our process:\n",
    "\n",
    "1. Import the libraries and functions that you need, including `curve_fit` from scipy.optimize.\n",
    "1. Set up a pandas dataframe from the MM_data.csv file you saved from the previous module.\n",
    "1. Create your independent and dependent variables for curve fitting.\n",
    "1. Create a function for the equation you want to fit. The function should accept as inputs the independent variable(s) and all the parameters to be fit.\n",
    "1. Use the function `curve_fit` from the scipy.optimize library to fit your data.\n",
    "1. Extract the fit parameters from the output of `curve_fit`.\n",
    "1. Use your function to calculate y values using your fit model to see how well your model fits the data.\n",
    "1. Graph your original data and the best-fit equation."
   ]
  },
  {
   "cell_type": "code",
   "execution_count": 6,
   "id": "opposite-marathon",
   "metadata": {},
   "outputs": [],
   "source": [
    "# Import the libraries and functions that you need, including curve_fit from scipy.optimize.\n",
    "import os\n",
    "import pandas as pd\n",
    "import numpy as np\n",
    "import matplotlib.pyplot as plt\n",
    "from scipy.optimize import curve_fit"
   ]
  },
  {
   "cell_type": "markdown",
   "id": "moderate-russell",
   "metadata": {},
   "source": [
    "## The Michaelis-Menten equation\n",
    "\n",
    "The Michaelis-Menten equation (which is probably very familiar to you) describes kinetics for enzyme-catalyzed reactions. We will use the simplest version of the equation, based on initial reaction velocities with a single substrate.\n",
    "\n",
    "In our equation,  there are two parameters, V$_{max}$ (maximum velocity) and K$_m$ (the Michaelis constant, which equals the substrate concentration at half maximal velocity), an independent variable, \\[S\\] = substrate concentration, and a dependent variable, V$_i$, the initial velocity.\n",
    "\n",
    "$$\n",
    "V_i = \\frac{V_{max} * [S]}{K_m + [S]}\n",
    "$$\n",
    "\n",
    "We will define the two parameters and two variables for our equation:\n",
    "\n",
    "- Vmax = the maximum velocity (the first parameter)\n",
    "- Km = the Michaelis constant (the second parameter)\n",
    "- SubConc = substrate concentration (the independent variable)\n",
    "- Vi = initial velocity (the dependent variable)"
   ]
  },
  {
   "cell_type": "code",
   "execution_count": 7,
   "id": "traditional-sitting",
   "metadata": {},
   "outputs": [
    {
     "data": {
      "text/html": [
       "<div>\n",
       "<style scoped>\n",
       "    .dataframe tbody tr th:only-of-type {\n",
       "        vertical-align: middle;\n",
       "    }\n",
       "\n",
       "    .dataframe tbody tr th {\n",
       "        vertical-align: top;\n",
       "    }\n",
       "\n",
       "    .dataframe thead th {\n",
       "        text-align: right;\n",
       "    }\n",
       "</style>\n",
       "<table border=\"1\" class=\"dataframe\">\n",
       "  <thead>\n",
       "    <tr style=\"text-align: right;\">\n",
       "      <th></th>\n",
       "      <th>pNPP (mM)</th>\n",
       "      <th>slopes</th>\n",
       "      <th>initial velocities</th>\n",
       "    </tr>\n",
       "  </thead>\n",
       "  <tbody>\n",
       "    <tr>\n",
       "      <th>0</th>\n",
       "      <td>20.00</td>\n",
       "      <td>0.514091</td>\n",
       "      <td>34.272718</td>\n",
       "    </tr>\n",
       "    <tr>\n",
       "      <th>1</th>\n",
       "      <td>10.00</td>\n",
       "      <td>0.503140</td>\n",
       "      <td>33.542678</td>\n",
       "    </tr>\n",
       "    <tr>\n",
       "      <th>2</th>\n",
       "      <td>7.00</td>\n",
       "      <td>0.470435</td>\n",
       "      <td>31.362310</td>\n",
       "    </tr>\n",
       "    <tr>\n",
       "      <th>3</th>\n",
       "      <td>4.00</td>\n",
       "      <td>0.417021</td>\n",
       "      <td>27.801416</td>\n",
       "    </tr>\n",
       "    <tr>\n",
       "      <th>4</th>\n",
       "      <td>2.00</td>\n",
       "      <td>0.342445</td>\n",
       "      <td>22.829652</td>\n",
       "    </tr>\n",
       "    <tr>\n",
       "      <th>5</th>\n",
       "      <td>1.00</td>\n",
       "      <td>0.246260</td>\n",
       "      <td>16.417302</td>\n",
       "    </tr>\n",
       "    <tr>\n",
       "      <th>6</th>\n",
       "      <td>0.70</td>\n",
       "      <td>0.202843</td>\n",
       "      <td>13.522863</td>\n",
       "    </tr>\n",
       "    <tr>\n",
       "      <th>7</th>\n",
       "      <td>0.40</td>\n",
       "      <td>0.136443</td>\n",
       "      <td>9.096204</td>\n",
       "    </tr>\n",
       "    <tr>\n",
       "      <th>8</th>\n",
       "      <td>0.20</td>\n",
       "      <td>0.076442</td>\n",
       "      <td>5.096143</td>\n",
       "    </tr>\n",
       "    <tr>\n",
       "      <th>9</th>\n",
       "      <td>0.10</td>\n",
       "      <td>0.078070</td>\n",
       "      <td>5.204653</td>\n",
       "    </tr>\n",
       "    <tr>\n",
       "      <th>10</th>\n",
       "      <td>0.05</td>\n",
       "      <td>0.022319</td>\n",
       "      <td>1.487957</td>\n",
       "    </tr>\n",
       "  </tbody>\n",
       "</table>\n",
       "</div>"
      ],
      "text/plain": [
       "    pNPP (mM)    slopes  initial velocities\n",
       "0       20.00  0.514091           34.272718\n",
       "1       10.00  0.503140           33.542678\n",
       "2        7.00  0.470435           31.362310\n",
       "3        4.00  0.417021           27.801416\n",
       "4        2.00  0.342445           22.829652\n",
       "5        1.00  0.246260           16.417302\n",
       "6        0.70  0.202843           13.522863\n",
       "7        0.40  0.136443            9.096204\n",
       "8        0.20  0.076442            5.096143\n",
       "9        0.10  0.078070            5.204653\n",
       "10       0.05  0.022319            1.487957"
      ]
     },
     "execution_count": 7,
     "metadata": {},
     "output_type": "execute_result"
    }
   ],
   "source": [
    "# Set up a pandas dataframe from the MM_data.csv file you saved from the previous module.\n",
    "# If you skipped nonlinear_regression_part_1, you can simply use the MM_data.csv\n",
    "# file that is provided.\n",
    "# create the filehandle\n",
    "datafile = os.path.join('data', 'MM_data.csv')\n",
    "\n",
    "# import the data\n",
    "rates_df = pd.read_csv(datafile)\n",
    "\n",
    "# inspect the data to make sure you have substrate concentrations and initial velocities\n",
    "rates_df"
   ]
  },
  {
   "cell_type": "code",
   "execution_count": 8,
   "id": "medium-heating",
   "metadata": {},
   "outputs": [
    {
     "data": {
      "text/plain": [
       "[<matplotlib.lines.Line2D at 0x7fb360862d30>]"
      ]
     },
     "execution_count": 8,
     "metadata": {},
     "output_type": "execute_result"
    },
    {
     "data": {
      "image/png": "[encoded data removed]",
      "text/plain": [
       "<Figure size 432x288 with 1 Axes>"
      ]
     },
     "metadata": {
      "needs_background": "light"
     },
     "output_type": "display_data"
    }
   ],
   "source": [
    "# Create your independent and dependent variables for curve fitting.\n",
    "ydata = rates_df['initial velocities']\n",
    "xdata = rates_df['pNPP (mM)']\n",
    "\n",
    "# Inspect your data to make sure it looks like a Michaelis-Menten plot\n",
    "plt.plot(xdata, ydata, 'o', label='data')"
   ]
  },
  {
   "cell_type": "markdown",
   "id": "disturbed-lottery",
   "metadata": {},
   "source": [
    "## Creating Functions\n",
    "\n",
    "To this point we have called a number of functions that are included with python libraries such as pandas, numpy and matplotlib. Most code is organized into blocks of code which perform a particular task. These code blocks are called functions. A commercial software package likely has hundreds, thousands or millions of functions. Functions break up our code into smaller, more easily understandable statements, and also allow our code to be more modular, meaning we can take pieces and reuse them. In general, each function should perform only one computational task. \n",
    "\n",
    "In Python, the following syntax is used to declare a function:\n",
    "\n",
    "```python\n",
    "def function_name(independent_variable, parameter1, parameter2):\n",
    "    ** function body code **\n",
    "    return value_to_return\n",
    "```\n",
    "\n",
    "Functions are defined using the `def` keyword, followed by the name of the function. The function may have independent variable(s) and parameters which are passed to it; these are in parenthesis following the function name. You then add a colon after the parentheses. This causes the function body code to indent in a Jupyter notebook coding cell. In certain cases, a function may have no parameters as well. Most (though not all) functions return some type of information. It is important to note here that defining a function does not execute it.\n",
    "\n",
    "Now we will create a function for the Michaelis-Menten equation."
   ]
  },
  {
   "cell_type": "code",
   "execution_count": 9,
   "id": "surprising-length",
   "metadata": {},
   "outputs": [
    {
     "data": {
      "text/plain": [
       "0     95.238095\n",
       "1     90.909091\n",
       "2     87.500000\n",
       "3     80.000000\n",
       "4     66.666667\n",
       "5     50.000000\n",
       "6     41.176471\n",
       "7     28.571429\n",
       "8     16.666667\n",
       "9      9.090909\n",
       "10     4.761905\n",
       "Name: pNPP (mM), dtype: float64"
      ]
     },
     "execution_count": 9,
     "metadata": {},
     "output_type": "execute_result"
    }
   ],
   "source": [
    "# Create a function for the equation you want to fit. The function should accept \n",
    "# as inputs the independent variable(s) and all the parameters to be fit.\n",
    "\n",
    "def MM(SubConc, Vmax, Km):\n",
    "    Vi = Vmax * SubConc/(Km + SubConc)\n",
    "    return Vi\n",
    "\n",
    "# Test the function to see if it produces the expected output\n",
    "\n",
    "MM(rates_df['pNPP (mM)'], 100, 1)"
   ]
  },
  {
   "cell_type": "code",
   "execution_count": 10,
   "id": "insured-advocate",
   "metadata": {},
   "outputs": [
    {
     "ename": "TypeError",
     "evalue": "'DataFrame' object is not callable",
     "output_type": "error",
     "traceback": [
      "\u001b[0;31m---------------------------------------------------------------------------\u001b[0m",
      "\u001b[0;31mTypeError\u001b[0m                                 Traceback (most recent call last)",
      "\u001b[0;32m<ipython-input-10-694e0dd4e545>\u001b[0m in \u001b[0;36m<module>\u001b[0;34m\u001b[0m\n\u001b[0;32m----> 1\u001b[0;31m \u001b[0mydata\u001b[0m \u001b[0;34m=\u001b[0m \u001b[0mrates_df\u001b[0m\u001b[0;34m(\u001b[0m\u001b[0;34m'initial velocities'\u001b[0m\u001b[0;34m)\u001b[0m \u001b[0;31m# Common errors and how to read them\u001b[0m\u001b[0;34m\u001b[0m\u001b[0;34m\u001b[0m\u001b[0m\n\u001b[0m",
      "\u001b[0;31mTypeError\u001b[0m: 'DataFrame' object is not callable"
     ]
    }
   ],
   "source": [
    "ydata = rates_df('initial velocities') # Common errors and how to read them"
   ]
  },
  {
   "cell_type": "markdown",
   "id": "premium-sydney",
   "metadata": {},
   "source": [
    "In the previous cell, we received an error message that resulted when we used parentheses by mistake rather than square brackets in our attempt to assign a series from a dataframe to a variable. The error message is\n",
    "\n",
    "```python\n",
    "TypeError: 'DataFrame' object is not callable\n",
    "```\n",
    "\n",
    "The term `callable` here refers to something that happens with a function.\n",
    "\n",
    "Here are two very useful sources when you encounter errors: [Stack Overflow](https://stackoverflow.com) and [GeeksforGeeks](https://www.geeksforgeeks.org). In fact, if you just paste your error in quotes (e.g., \"TypeError: 'DataFrame' object is not callable\") into a search engine, you are likely to find hits from both sources."
   ]
  },
  {
   "cell_type": "code",
   "execution_count": 11,
   "id": "7988cc69-96f7-482f-b39b-5ac32ba3c27c",
   "metadata": {},
   "outputs": [
    {
     "data": {
      "text/plain": [
       "0     34.272718\n",
       "1     33.542678\n",
       "2     31.362310\n",
       "3     27.801416\n",
       "4     22.829652\n",
       "5     16.417302\n",
       "6     13.522863\n",
       "7      9.096204\n",
       "8      5.096143\n",
       "9      5.204653\n",
       "10     1.487957\n",
       "Name: initial velocities, dtype: float64"
      ]
     },
     "execution_count": 11,
     "metadata": {},
     "output_type": "execute_result"
    }
   ],
   "source": [
    "# Correcting the error\n",
    "ydata = rates_df['initial velocities']\n",
    "ydata"
   ]
  },
  {
   "cell_type": "markdown",
   "id": "powerful-cigarette",
   "metadata": {},
   "source": [
    "## Using curve_fit\n",
    "The syntax for the curve_fit function from scipy.optimize is\n",
    "```python\n",
    "popt, pcov = curve_fit(function, xdata, ydata)\n",
    "```\n",
    "| Term | Signficance |\n",
    "| :----: | :---- |\n",
    "| popt | optimized parameters |\n",
    "| pcov | a 2D matrix of the covariance for the curve fit |\n",
    "| curve_fit | the function from scipy.optimize |\n",
    "| function | the function you choose that curve_fit will use for fitting the data |\n",
    "| xdata | a data array for the independent variable |\n",
    "| ydata | a data array for the dependent variable |\n",
    "\n",
    "You can learn much more about `curve_fit` in the online documentation for [scipy.optimize.curve_fit](https://docs.scipy.org/doc/scipy/reference/generated/scipy.optimize.curve_fit.html). \n",
    "\n",
    "Let's review the function, `MM`, that we defined above, to clearly distinguish the data, variables and parameters associated with `curve_fit` from those associated with `MM`.\n",
    "\n",
    "```python\n",
    "def MM(SubConc, Vmax, Km):\n",
    "    Vi = (Vmax * SubConc)/(Km + SubConc)\n",
    "    return Vi\n",
    "```\n",
    "\n",
    "You need to pass three pieces of data to `MM` to predict the initial velocity for an enzyme-catalyzed reaction: the substrate concentration, and values for V$_{max}$ and K$_m$.\n",
    "\n",
    "scipy.optimize.curve_fit() can then fit the data to the `MM` function you have defined. In an earlier module, there was a discussion of different ways to linearize data so that linear regression could be used, for example, taking logs of the molecular weights of protein standards to plot versus relative migration for an SDS-PAGE gel. With curve_fit, you can do a least squares regression fit for data that demonstrate nonlinear relationships."
   ]
  },
  {
   "cell_type": "code",
   "execution_count": 12,
   "id": "asian-indonesia",
   "metadata": {},
   "outputs": [],
   "source": [
    "# Use the function curve_fit to fit your data.\n",
    "popt, pcov = curve_fit(MM, xdata, ydata)"
   ]
  },
  {
   "cell_type": "markdown",
   "id": "automotive-fiction",
   "metadata": {},
   "source": [
    "## Extracting the output from curve_fit\n",
    "There are two outputs from curve_fit - popt and pcov. These are typical names that help to point to the contents of the variable, but you can choose any variable name you like.\n",
    "1. popt = a list of the optimized parameters. In our case, the two parameters are $V_{max}$ and $K_m$. Remember that python starts counting at 0, so popt[0] = $V_{max}$ and popt[1] = $K_m$. \n",
    "1. pcov = an n-dimensional array of the covariance for the parameters, where n is the number of parameters. In our case, n = 2. \n",
    "\n",
    "So we can extract the fitted values for $V_{max}$ and $K_m$ just by setting variables equal to them. The covariance matrix can be used to extract standard errors or standard deviations for each of the parameters. In our case, we will calculate one standard deviation for each parameter. Note that we use two numpy functions (sqrt and diag) to calculate the standard deviation values from the 2D matrix for pcov."
   ]
  },
  {
   "cell_type": "code",
   "execution_count": 8,
   "id": "oriental-primary",
   "metadata": {},
   "outputs": [
    {
     "name": "stdout",
     "output_type": "stream",
     "text": [
      "Vmax for this reaction: 36.65734834390893 +/- 0.6749595215280199\n",
      "Km for this reaction: 1.1926322406324839 +/- 0.08042268476177239\n"
     ]
    }
   ],
   "source": [
    "# Extract the fit parameters from the output of curve_fit.\n",
    "Vmax = popt[0]\n",
    "Km = popt[1]\n",
    "\n",
    "# Extract one standard deviation for each parameter\n",
    "stdev = np.sqrt(np.diag(pcov)) # returns one standard deviation for each parameter\n",
    "print('Vmax for this reaction:', Vmax, '+/-', stdev[0])\n",
    "print('Km for this reaction:', Km, '+/-', stdev[1])"
   ]
  },
  {
   "cell_type": "markdown",
   "id": "expanded-illinois",
   "metadata": {},
   "source": [
    "## Review of f string printing\n",
    "\n",
    "It is unlikely that you will want to have your values printed out to more than 10 decimal places, which is the default when python prints floats. There are a number of ways to get around this that include truncation or rounding, but we are going to look at a very useful tool - [f string printing](https://realpython.com/python-f-strings/). Here is the syntax for an f string print statement:\n",
    "\n",
    "```python\n",
    "print(f'a string you want to print that may contain {variables in curly brackets}')\n",
    "```\n",
    "Variables of type float can also be assigned precision using this syntax:\n",
    "\n",
    "```python\n",
    "print(f'Vmax for this reaction: {Vmax:.2f}')\n",
    "```\n",
    "\n",
    "Since Vmax is in curly brackets, the print statement will insert the value for the variable, Vmax, at that point in the print statement. Vmax is followed by `:.2f` which directs the print statement to print the value of Vmax to 2 decimal places. We will now use f string printing to control the precision on the values for our parameters."
   ]
  },
  {
   "cell_type": "code",
   "execution_count": 9,
   "id": "military-camera",
   "metadata": {},
   "outputs": [
    {
     "name": "stdout",
     "output_type": "stream",
     "text": [
      "Vmax for this reaction: 36.66 +/- 0.67\n"
     ]
    }
   ],
   "source": [
    "print(f'Vmax for this reaction: {Vmax:.2f} +/- {stdev[0]:.2f}')"
   ]
  },
  {
   "attachments": {},
   "cell_type": "markdown",
   "id": "fatty-bouquet",
   "metadata": {},
   "source": [
    "``````{admonition} Exercise\n",
    ":class: exercise\n",
    "\n",
    "Print the value for K<sub>m</sub> +/- one standard deviation to three decimal places.\n",
    "\n",
    "````{admonition} Solution \n",
    ":class: solution dropdown\n",
    "\n",
    "```python\n",
    "print(f'Km for this reaction: {Km:.3f} +/- {stdev[1]:.3f}')\n",
    "```\n",
    "````\n",
    "``````"
   ]
  },
  {
   "cell_type": "markdown",
   "id": "further-point",
   "metadata": {},
   "source": [
    "## Plotting the data\n",
    "At this point, you want to compare your plotted data with the curve based on the parameters from curve_fit. We'll do this in two stages. First, we'll use the `MM` function to calculate y values using your fit model to see how well your model fits the data. \n",
    "\n",
    "We will use matplotlib.pyplot (please note the import statement at the top of this notebook) to create and annotate this plot. Our first plot will contain two sets of data: \n",
    "\n",
    "1. the actual data for initial velocity vs. substrate concentration from our pandas dataframe\n",
    "2. the fitted data using the parameters generated by curve_fit. "
   ]
  },
  {
   "cell_type": "code",
   "execution_count": 10,
   "id": "together-cycle",
   "metadata": {},
   "outputs": [
    {
     "data": {
      "text/plain": [
       "[<matplotlib.lines.Line2D at 0x7faff0484370>]"
      ]
     },
     "execution_count": 10,
     "metadata": {},
     "output_type": "execute_result"
    },
    {
     "data": {
      "image/png": "[encoded data removed]",
      "text/plain": [
       "<Figure size 432x288 with 1 Axes>"
      ]
     },
     "metadata": {
      "needs_background": "light"
     },
     "output_type": "display_data"
    }
   ],
   "source": [
    "fit_y = MM(xdata, Vmax, Km) # calculates y values based on the curve_fit parameters\n",
    "# using your fit model to see how well your model fits the data.\n",
    "\n",
    "# Graph your original data and the fit equation\n",
    "plt.plot(xdata, ydata, 'o', label='data') # the experimental data\n",
    "plt.plot(xdata, fit_y, '-', label='fit') # the fit equation"
   ]
  },
  {
   "cell_type": "markdown",
   "id": "recreational-melissa",
   "metadata": {},
   "source": [
    "## Smoothing the plot\n",
    "You probably noticed that the curve appears a bit disjointed, because it provides values only at the selected concentrations of the substrate. A fit curve based on 1000 x-values will be much smoother. To do this, we first use the numpy linspace function to create a new list of 1000 x-values ranging from the minimum xdata value (using the numpy min function) to the maximum xdata value (using the numpy max function). Then we generate a fit curve using the MM function. We then add the experimental data and the smoothed fit data to the plot. Note that the experimental data is plotted using `'bo'`. This tells matplotlib.pyplot to use blue (`b`) circles (`o`)."
   ]
  },
  {
   "cell_type": "code",
   "execution_count": 11,
   "id": "retired-costume",
   "metadata": {},
   "outputs": [
    {
     "data": {
      "text/plain": [
       "<matplotlib.legend.Legend at 0x7fb0005728e0>"
      ]
     },
     "execution_count": 11,
     "metadata": {},
     "output_type": "execute_result"
    },
    {
     "data": {
      "image/png": "[encoded data removed]",
      "text/plain": [
       "<Figure size 432x288 with 1 Axes>"
      ]
     },
     "metadata": {
      "needs_background": "light"
     },
     "output_type": "display_data"
    }
   ],
   "source": [
    "# To generate a smoother fitted curve\n",
    "smooth_x = np.linspace(np.min(xdata), np.max(xdata), 1000) # x value range with 1000 points\n",
    "smooth_y = MM(smooth_x, Vmax, Km) # y values for the 1000 points in smooth_x\n",
    "\n",
    "plt.plot(xdata, ydata, 'bo', label='data') # plot of the experimental data\n",
    "plt.plot(smooth_x, smooth_y, 'r', label = 'fit') # plot of the fit data\n",
    "plt.legend() # legend added"
   ]
  },
  {
   "attachments": {},
   "cell_type": "markdown",
   "id": "agreed-cancellation",
   "metadata": {},
   "source": [
    "``````{admonition} Exercise\n",
    ":class: exercise\n",
    "\n",
    "Use what you learned in previous modules to label the x-axis and y-axis and to insert the values for $V_{max}$ and $K_m$ with their standard deviations in the white space on the graph. Change the symbol for the substrate concentrations to a red triangle.\n",
    "    \n",
    "````{admonition} Solution\n",
    ":class: solution dropdown\n",
    "\n",
    "```python\n",
    "smooth_x = np.linspace(np.min(xdata), np.max(xdata), 1000) # x value range with 1000 points\n",
    "smooth_y = MM(smooth_x, Vmax, Km) # y values for the 1000 points in smooth_x\n",
    "\n",
    "plt.plot(xdata, ydata, 'bo', label='data') # plot of the experimental data\n",
    "plt.plot(smooth_x, smooth_y, 'r', label = 'fit') # plot of the fit data\n",
    "plt.legend() # legend added\n",
    "\n",
    "plt.xlabel('[pNPP] (mM)')  # x-axis label\n",
    "plt.ylabel('V$_i$ ($\\mu$M/min)')  # y-axis label in LaTeX _{595} makes 595 the subscripts\n",
    "plt.annotate(F'Vmax = {Vmax:.2f} +/- {stdev[0]:.2f}', xy = (7.5, 20))\n",
    "plt.annotate(F'Km = {Km:.2f} +/- {stdev[1]:.2f}', xy = (7.5, 16))\n",
    "```\n",
    "````\n",
    "``````"
   ]
  },
  {
   "attachments": {},
   "cell_type": "markdown",
   "id": "valid-example",
   "metadata": {},
   "source": [
    "``````{admonition} Take Home Exercise\n",
    ":class: exercise\n",
    "\n",
    "If you want to dig deeper, you can complete the curve fitting analysis of the chymotrypsin data from the previous module. You may need to adjust some of the details to generate high quality output.\n",
    "    \n",
    "\n",
    "````{admonition} Solution\n",
    ":class: solution dropdown\n",
    "\n",
    "```python\n",
    "# create the filehandle\n",
    "datafile = os.path.join('data', 'chymo_MM_data.csv')\n",
    "\n",
    "# import the data\n",
    "c_rates_df = pd.read_csv(datafile)\n",
    "c_rates_df.head()\n",
    "    \n",
    "# Inspect the data\n",
    "c_ydata = c_rates_df['initial velocities']\n",
    "c_xdata = c_rates_df['pNPA (mM)']\n",
    "plt.plot(c_xdata, c_ydata, 'o', label='data')\n",
    "    \n",
    "# Non-linear regression with scipy.optimize.curve_fit    \n",
    "popt, pcov = curve_fit(MM, c_xdata, c_ydata)\n",
    "Vmax = popt[0]\n",
    "Km = popt[1]\n",
    "perr = np.sqrt(np.diag(pcov)) # returns one standard deviation for each parameter\n",
    "print(f'Vmax for this reaction: {Vmax:.4f} +/- {perr[0]:.4f}')\n",
    "print(f'Km for this reaction: {Km:.4f} +/- {perr[1]:.4f}')\n",
    "\n",
    "# Plot the data\n",
    "smooth_x = np.linspace(np.min(c_xdata), np.max(c_xdata), 1000)\n",
    "smooth_y = MM(smooth_x, Vmax, Km)\n",
    "plt.plot(c_xdata, c_ydata, 'r^', label='data')\n",
    "plt.plot(smooth_x, smooth_y, 'b', label = 'fit')\n",
    "plt.legend()\n",
    "```\n",
    "````\n",
    "``````"
   ]
  },
  {
   "attachments": {},
   "cell_type": "markdown",
   "id": "controversial-pointer",
   "metadata": {},
   "source": [
    "## Common errors \n",
    "\n",
    "Python is very particular about the use of parentheses (), square brackets [], and braces or curly brackets {}. \n",
    "\n",
    "Parentheses are used to pass arguments to functions. For example, \n",
    "```python\n",
    "Vi = MM(xdata, Vmax, Km)\n",
    "```\n",
    "\n",
    "Square brackets are used to create lists. In this example, the square brackets are used to call a series from the rates_df dataframe.\n",
    "```python\n",
    "xdata = rates_df['pNPP (mM)']\n",
    "```\n",
    "\n",
    "Curly brackets or braces are used to create dictionaries or sets. \n",
    "```python\n",
    "a_dict = {'Brady': 12, 'Evans': 13}\n",
    "```\n",
    "You can learn more about [dictionaries in the python online manual](https://docs.python.org/3/library/stdtypes.html#mapping-types-dict). \n",
    "\n",
    "Here are two very useful sources when you encounter errors: [Stack Overflow](https://stackoverflow.com) and [GeeksforGeeks](https://www.geeksforgeeks.org). In fact, if you just paste your error in quotes (e.g., \"TypeError: 'DataFrame' object is not callable\") into a search engine, you are likely to find hits from both sources."
   ]
  },
  {
   "cell_type": "code",
   "execution_count": null,
   "id": "625a5891",
   "metadata": {},
   "outputs": [],
   "source": []
  }
 ],
 "metadata": {
  "kernelspec": {
   "display_name": "Python 3",
   "language": "python",
   "name": "python3"
  },
  "language_info": {
   "codemirror_mode": {
    "name": "ipython",
    "version": 3
   },
   "file_extension": ".py",
   "mimetype": "text/x-python",
   "name": "python",
   "nbconvert_exporter": "python",
   "pygments_lexer": "ipython3",
   "version": "3.8.8"
  }
 },
 "nbformat": 4,
 "nbformat_minor": 5
}
