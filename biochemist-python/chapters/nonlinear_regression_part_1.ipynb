{
 "cells": [
  {
   "cell_type": "markdown",
   "metadata": {},
   "source": [
    "Nonlinear Regression, Part 1\n",
    "========================="
   ]
  },
  {
   "cell_type": "markdown",
   "metadata": {},
   "source": [
    "<div class=\"overview-this-is-a-title overview\">\n",
    "<p class=\"overview-title\">Overview</p>\n",
    "<p>Questions</p>\n",
    "    <ul>\n",
    "        <li>How can I analyze enzyme kinetics data in Python?</li>\n",
    "        <li>What is the process for non-linear least squares curve fitting in Python?</li>\n",
    "    </ul>\n",
    "<p>Objectives:</p>\n",
    "    <ul>\n",
    "        <li> Create a pandas dataframe with enzyme kinetics data from a .csv file</li>\n",
    "        <li> Add velocity calculations to the dataframe</li>\n",
    "        <li> Perform the non-linear regression calculations</li>\n",
    "    </ul>\n",
    "    \n",
    "<p>In this module, we will calculate initial rates from the raw data (&Delta;A<sub>405</sub>) in an enzyme kinetics experiment with alkaline phosphatase. In the process, we will import the raw data into a pandas dataframe, use some pandas tools to reorganize the data, produce a second pandas dataframe that contains the substrate concentrations and initial rates at each concentration. Finally, we will export this information to a csv file to use in the next module, where you will explore nonlinear curve fitting in python.\n",
    "    </p>\n",
    "</div>"
   ]
  },
  {
   "cell_type": "markdown",
   "metadata": {},
   "source": [
    "## Importing the Data\n",
    "We start by importing data from a csv file as we did earlier with the data for linear regression. These data represent the rate of p-nitrophenol appearance for a series of p-nitrophenol phosphate concentrations in the presence of alkaline phosphatase. We will import the libraries we need, import the data and set up a pandas dataframe."
   ]
  },
  {
   "cell_type": "code",
   "execution_count": 1,
   "metadata": {},
   "outputs": [],
   "source": [
    "# import the libraries we need\n",
    "import os # to create a filehandle for the .csv file\n",
    "import pandas as pd # for importing the .csv file and creating a dataframe\n",
    "from scipy import stats # for performing non-linear regression"
   ]
  },
  {
   "cell_type": "code",
   "execution_count": 2,
   "metadata": {},
   "outputs": [
    {
     "name": "stdout",
     "output_type": "stream",
     "text": [
      "data/AP_kin.csv\n"
     ]
    }
   ],
   "source": [
    "# Create the filehandle for the csv file that contains your data\n",
    "datafile = os.path.join('data', 'AP_kin.csv') # filehandle created\n",
    "print(datafile)  # filehandle confirmed"
   ]
  },
  {
   "cell_type": "markdown",
   "metadata": {},
   "source": [
    "## Creating the pandas dataframe\n",
    "The filehandle, `datafile`, points to a csv file that contains the raw kinetics data. As we saw in the `Working with Pandas` module, the pandas library has a tool for creating a dataframe from an existing csv file. Notice that the variable for the dataframe is called AP_kin_df. The `_df` at the end of the variable name is a reminder that this is a pandas dataframe."
   ]
  },
  {
   "cell_type": "code",
   "execution_count": 3,
   "metadata": {
    "scrolled": true
   },
   "outputs": [
    {
     "data": {
      "text/html": [
       "<div>\n",
       "<style scoped>\n",
       "    .dataframe tbody tr th:only-of-type {\n",
       "        vertical-align: middle;\n",
       "    }\n",
       "\n",
       "    .dataframe tbody tr th {\n",
       "        vertical-align: top;\n",
       "    }\n",
       "\n",
       "    .dataframe thead th {\n",
       "        text-align: right;\n",
       "    }\n",
       "</style>\n",
       "<table border=\"1\" class=\"dataframe\">\n",
       "  <thead>\n",
       "    <tr style=\"text-align: right;\">\n",
       "      <th></th>\n",
       "      <th>Time (min)</th>\n",
       "      <th>20.0</th>\n",
       "      <th>10.0</th>\n",
       "      <th>7.0</th>\n",
       "      <th>4.0</th>\n",
       "      <th>2.0</th>\n",
       "      <th>1.0</th>\n",
       "      <th>0.7</th>\n",
       "      <th>0.4</th>\n",
       "      <th>0.2</th>\n",
       "      <th>0.1</th>\n",
       "      <th>0.05</th>\n",
       "    </tr>\n",
       "  </thead>\n",
       "  <tbody>\n",
       "    <tr>\n",
       "      <th>0</th>\n",
       "      <td>0.25</td>\n",
       "      <td>0.127118</td>\n",
       "      <td>0.121434</td>\n",
       "      <td>0.123059</td>\n",
       "      <td>0.103351</td>\n",
       "      <td>0.088046</td>\n",
       "      <td>0.062613</td>\n",
       "      <td>0.051681</td>\n",
       "      <td>0.034661</td>\n",
       "      <td>0.019578</td>\n",
       "      <td>0.020353</td>\n",
       "      <td>0.005635</td>\n",
       "    </tr>\n",
       "    <tr>\n",
       "      <th>1</th>\n",
       "      <td>0.50</td>\n",
       "      <td>0.269802</td>\n",
       "      <td>0.257587</td>\n",
       "      <td>0.239086</td>\n",
       "      <td>0.210920</td>\n",
       "      <td>0.177801</td>\n",
       "      <td>0.122747</td>\n",
       "      <td>0.104366</td>\n",
       "      <td>0.068643</td>\n",
       "      <td>0.040318</td>\n",
       "      <td>0.040318</td>\n",
       "      <td>0.011162</td>\n",
       "    </tr>\n",
       "    <tr>\n",
       "      <th>2</th>\n",
       "      <td>0.75</td>\n",
       "      <td>0.373572</td>\n",
       "      <td>0.364301</td>\n",
       "      <td>0.369177</td>\n",
       "      <td>0.313216</td>\n",
       "      <td>0.246186</td>\n",
       "      <td>0.193419</td>\n",
       "      <td>0.147517</td>\n",
       "      <td>0.099906</td>\n",
       "      <td>0.059896</td>\n",
       "      <td>0.056988</td>\n",
       "      <td>0.016580</td>\n",
       "    </tr>\n",
       "    <tr>\n",
       "      <th>3</th>\n",
       "      <td>1.00</td>\n",
       "      <td>0.518850</td>\n",
       "      <td>0.500455</td>\n",
       "      <td>0.468796</td>\n",
       "      <td>0.400747</td>\n",
       "      <td>0.352183</td>\n",
       "      <td>0.257892</td>\n",
       "      <td>0.194682</td>\n",
       "      <td>0.134567</td>\n",
       "      <td>0.073658</td>\n",
       "      <td>0.075985</td>\n",
       "      <td>0.022757</td>\n",
       "    </tr>\n",
       "    <tr>\n",
       "      <th>4</th>\n",
       "      <td>1.25</td>\n",
       "      <td>0.616135</td>\n",
       "      <td>0.613302</td>\n",
       "      <td>0.556695</td>\n",
       "      <td>0.500934</td>\n",
       "      <td>0.444503</td>\n",
       "      <td>0.309966</td>\n",
       "      <td>0.258405</td>\n",
       "      <td>0.173306</td>\n",
       "      <td>0.099827</td>\n",
       "      <td>0.100796</td>\n",
       "      <td>0.027092</td>\n",
       "    </tr>\n",
       "  </tbody>\n",
       "</table>\n",
       "</div>"
      ],
      "text/plain": [
       "   Time (min)      20.0      10.0       7.0       4.0       2.0       1.0  \\\n",
       "0        0.25  0.127118  0.121434  0.123059  0.103351  0.088046  0.062613   \n",
       "1        0.50  0.269802  0.257587  0.239086  0.210920  0.177801  0.122747   \n",
       "2        0.75  0.373572  0.364301  0.369177  0.313216  0.246186  0.193419   \n",
       "3        1.00  0.518850  0.500455  0.468796  0.400747  0.352183  0.257892   \n",
       "4        1.25  0.616135  0.613302  0.556695  0.500934  0.444503  0.309966   \n",
       "\n",
       "        0.7       0.4       0.2       0.1      0.05  \n",
       "0  0.051681  0.034661  0.019578  0.020353  0.005635  \n",
       "1  0.104366  0.068643  0.040318  0.040318  0.011162  \n",
       "2  0.147517  0.099906  0.059896  0.056988  0.016580  \n",
       "3  0.194682  0.134567  0.073658  0.075985  0.022757  \n",
       "4  0.258405  0.173306  0.099827  0.100796  0.027092  "
      ]
     },
     "execution_count": 3,
     "metadata": {},
     "output_type": "execute_result"
    }
   ],
   "source": [
    "# Creating the pandas dataframe using read_csv\n",
    "AP_kin_df = pd.read_csv(datafile)\n",
    "AP_kin_df.head()  # looking at the first five rows of the dataframe "
   ]
  },
  {
   "cell_type": "markdown",
   "metadata": {},
   "source": [
    "When you look at this dataframe, notice that the index (the item at the far left of each row) is an integer. In this case, we want to use the 'Time (min)' values that are found in the first series as the index. There is a simple fix - the set_index function. \n",
    "\n",
    "```python\n",
    "AP_kin_df.set_index('Time (min)', inplace=True)\n",
    "```\n",
    "\n",
    "By making the time values the index for each row, we can easily omit them from our initial rate calculations. We use the `inplace=True` option to make the change to the dataframe permanent."
   ]
  },
  {
   "cell_type": "code",
   "execution_count": 4,
   "metadata": {},
   "outputs": [
    {
     "data": {
      "text/html": [
       "<div>\n",
       "<style scoped>\n",
       "    .dataframe tbody tr th:only-of-type {\n",
       "        vertical-align: middle;\n",
       "    }\n",
       "\n",
       "    .dataframe tbody tr th {\n",
       "        vertical-align: top;\n",
       "    }\n",
       "\n",
       "    .dataframe thead th {\n",
       "        text-align: right;\n",
       "    }\n",
       "</style>\n",
       "<table border=\"1\" class=\"dataframe\">\n",
       "  <thead>\n",
       "    <tr style=\"text-align: right;\">\n",
       "      <th></th>\n",
       "      <th>20.0</th>\n",
       "      <th>10.0</th>\n",
       "      <th>7.0</th>\n",
       "      <th>4.0</th>\n",
       "      <th>2.0</th>\n",
       "      <th>1.0</th>\n",
       "      <th>0.7</th>\n",
       "      <th>0.4</th>\n",
       "      <th>0.2</th>\n",
       "      <th>0.1</th>\n",
       "      <th>0.05</th>\n",
       "    </tr>\n",
       "    <tr>\n",
       "      <th>Time (min)</th>\n",
       "      <th></th>\n",
       "      <th></th>\n",
       "      <th></th>\n",
       "      <th></th>\n",
       "      <th></th>\n",
       "      <th></th>\n",
       "      <th></th>\n",
       "      <th></th>\n",
       "      <th></th>\n",
       "      <th></th>\n",
       "      <th></th>\n",
       "    </tr>\n",
       "  </thead>\n",
       "  <tbody>\n",
       "    <tr>\n",
       "      <th>0.25</th>\n",
       "      <td>0.127118</td>\n",
       "      <td>0.121434</td>\n",
       "      <td>0.123059</td>\n",
       "      <td>0.103351</td>\n",
       "      <td>0.088046</td>\n",
       "      <td>0.062613</td>\n",
       "      <td>0.051681</td>\n",
       "      <td>0.034661</td>\n",
       "      <td>0.019578</td>\n",
       "      <td>0.020353</td>\n",
       "      <td>0.005635</td>\n",
       "    </tr>\n",
       "    <tr>\n",
       "      <th>0.50</th>\n",
       "      <td>0.269802</td>\n",
       "      <td>0.257587</td>\n",
       "      <td>0.239086</td>\n",
       "      <td>0.210920</td>\n",
       "      <td>0.177801</td>\n",
       "      <td>0.122747</td>\n",
       "      <td>0.104366</td>\n",
       "      <td>0.068643</td>\n",
       "      <td>0.040318</td>\n",
       "      <td>0.040318</td>\n",
       "      <td>0.011162</td>\n",
       "    </tr>\n",
       "    <tr>\n",
       "      <th>0.75</th>\n",
       "      <td>0.373572</td>\n",
       "      <td>0.364301</td>\n",
       "      <td>0.369177</td>\n",
       "      <td>0.313216</td>\n",
       "      <td>0.246186</td>\n",
       "      <td>0.193419</td>\n",
       "      <td>0.147517</td>\n",
       "      <td>0.099906</td>\n",
       "      <td>0.059896</td>\n",
       "      <td>0.056988</td>\n",
       "      <td>0.016580</td>\n",
       "    </tr>\n",
       "    <tr>\n",
       "      <th>1.00</th>\n",
       "      <td>0.518850</td>\n",
       "      <td>0.500455</td>\n",
       "      <td>0.468796</td>\n",
       "      <td>0.400747</td>\n",
       "      <td>0.352183</td>\n",
       "      <td>0.257892</td>\n",
       "      <td>0.194682</td>\n",
       "      <td>0.134567</td>\n",
       "      <td>0.073658</td>\n",
       "      <td>0.075985</td>\n",
       "      <td>0.022757</td>\n",
       "    </tr>\n",
       "    <tr>\n",
       "      <th>1.25</th>\n",
       "      <td>0.616135</td>\n",
       "      <td>0.613302</td>\n",
       "      <td>0.556695</td>\n",
       "      <td>0.500934</td>\n",
       "      <td>0.444503</td>\n",
       "      <td>0.309966</td>\n",
       "      <td>0.258405</td>\n",
       "      <td>0.173306</td>\n",
       "      <td>0.099827</td>\n",
       "      <td>0.100796</td>\n",
       "      <td>0.027092</td>\n",
       "    </tr>\n",
       "  </tbody>\n",
       "</table>\n",
       "</div>"
      ],
      "text/plain": [
       "                20.0      10.0       7.0       4.0       2.0       1.0  \\\n",
       "Time (min)                                                               \n",
       "0.25        0.127118  0.121434  0.123059  0.103351  0.088046  0.062613   \n",
       "0.50        0.269802  0.257587  0.239086  0.210920  0.177801  0.122747   \n",
       "0.75        0.373572  0.364301  0.369177  0.313216  0.246186  0.193419   \n",
       "1.00        0.518850  0.500455  0.468796  0.400747  0.352183  0.257892   \n",
       "1.25        0.616135  0.613302  0.556695  0.500934  0.444503  0.309966   \n",
       "\n",
       "                 0.7       0.4       0.2       0.1      0.05  \n",
       "Time (min)                                                    \n",
       "0.25        0.051681  0.034661  0.019578  0.020353  0.005635  \n",
       "0.50        0.104366  0.068643  0.040318  0.040318  0.011162  \n",
       "0.75        0.147517  0.099906  0.059896  0.056988  0.016580  \n",
       "1.00        0.194682  0.134567  0.073658  0.075985  0.022757  \n",
       "1.25        0.258405  0.173306  0.099827  0.100796  0.027092  "
      ]
     },
     "execution_count": 4,
     "metadata": {},
     "output_type": "execute_result"
    }
   ],
   "source": [
    "AP_kin_df.set_index('Time (min)', inplace=True)\n",
    "AP_kin_df.head()"
   ]
  },
  {
   "cell_type": "markdown",
   "metadata": {},
   "source": [
    "## Datatype\n",
    "Before we calculate the slopes to get initial velocities, we need to check for the datatypes on the numbers. We must ensure that the numbers are floats, rather than strings, so we can do calculations on them."
   ]
  },
  {
   "cell_type": "code",
   "execution_count": 5,
   "metadata": {},
   "outputs": [
    {
     "data": {
      "text/plain": [
       "dtype('float64')"
      ]
     },
     "execution_count": 5,
     "metadata": {},
     "output_type": "execute_result"
    }
   ],
   "source": [
    "AP_kin_df.index.dtype # checking to see if the numbers are strings or floats"
   ]
  },
  {
   "cell_type": "markdown",
   "metadata": {},
   "source": [
    "## Calculating the initial velocity\n",
    "The index for each row is the time, which will be the x values to get the slope of each line. The values in each column are the absorbance values at each time point, so those will be our y values. Now we need to follow these steps to calculate the initial velocity at each substrate concentration. \n",
    "1. Inspect the data.\n",
    "1. Create a second dataframe with the substrate concentration as the first series.\n",
    "1. Calculate the slopes from the first dataframe and add those as a column to the second dataframe.\n",
    "1. Calculate the initial velocity by dividing the slope by the extinction coefficient for p-nitrophenol under these buffer conditions, 15.0 mM<sup>-1</sup>cm<sup>-1</sup>.\n",
    "1. Export the second dataframe to a csv file that we will use in the next module."
   ]
  },
  {
   "cell_type": "markdown",
   "metadata": {},
   "source": [
    "### Inspect the data\n",
    "In an earlier module, we used pyplot from matplotlib to create a well-annotated plot of our linear regression data. We could do that here, but we only want to inspect the data to make sure we are on the right track. To do that we can use the [plot command from pandas](https://pandas.pydata.org/pandas-docs/stable/reference/api/pandas.DataFrame.plot.html), which builds the plot using tools from matplotlib. The syntax is\n",
    "\n",
    "```python\n",
    "dataframe.plot()\n",
    "```\n",
    "In our case, the only argument we will pass is \"marker = 'o' so that the individual data points will appear."
   ]
  },
  {
   "cell_type": "code",
   "execution_count": 6,
   "metadata": {},
   "outputs": [
    {
     "data": {
      "text/plain": [
       "<AxesSubplot:xlabel='Time (min)'>"
      ]
     },
     "execution_count": 6,
     "metadata": {},
     "output_type": "execute_result"
    },
    {
     "data": {
      "image/png": "[encoded data removed]",
      "text/plain": [
       "<Figure size 432x288 with 1 Axes>"
      ]
     },
     "metadata": {
      "needs_background": "light"
     },
     "output_type": "display_data"
    }
   ],
   "source": [
    "# Inspect the data using the plot command that is available with the dataframe\n",
    "# We use the plot function that is built into pandas for this simple data display\n",
    "AP_kin_df.plot(marker = 'o')"
   ]
  },
  {
   "cell_type": "code",
   "execution_count": 7,
   "metadata": {},
   "outputs": [],
   "source": [
    "# Create a second dataframe with the substrate concentration as the first series.\n",
    "# Note the syntax for this pandas function - the D and F are capitalized.\n",
    "MM_df = pd.DataFrame()\n",
    "MM_df['pNPP (mM)'] = AP_kin_df.columns"
   ]
  },
  {
   "cell_type": "markdown",
   "metadata": {},
   "source": [
    "## Calculate the Slopes\n",
    "\n",
    "There is some scatter in the data, but generally, the slopes of the curves increase with increasing substrate concentration. Now we need to calculate the slopes for each of the lines in the plot above. To do so, we can use the linregress function from scipy.stats that we used for the least squares linear regression analysis of the protein assay data from an earlier module. We will use the index from our data frame, `Time (min)`, AP_kin_df. The y values will be taken from each of the series from the same dataframe. \n",
    "\n",
    "Remember that linregress provides five outputs: slope, intercept, r-value, p-value and standard error. We need only the slope, so we will use this format\n",
    "\n",
    "```python\n",
    "slope, _, _, _, _ = stats.linregress(xdata, ydata)\n",
    "```\n",
    "\n",
    "where _ is just a placeholder that we will ignore.\n",
    "\n",
    "To get the slopes for each series we will use a for loop. First, we'll create an empty list to contain the slopes that are generated as the for loop cycles through the series in the AP_kin_df dataframe."
   ]
  },
  {
   "cell_type": "code",
   "execution_count": 8,
   "metadata": {},
   "outputs": [
    {
     "data": {
      "text/plain": [
       "[0.5140907641142858,\n",
       " 0.5031401632390977,\n",
       " 0.4704346427639096,\n",
       " 0.4170212341052633,\n",
       " 0.34244478125714295,\n",
       " 0.24625953559097755,\n",
       " 0.20284295232781954,\n",
       " 0.1364430576421053,\n",
       " 0.07644213958496243,\n",
       " 0.07806979615939849,\n",
       " 0.022319351245112782]"
      ]
     },
     "execution_count": 8,
     "metadata": {},
     "output_type": "execute_result"
    }
   ],
   "source": [
    "# Create an empty list to hold the slopes \n",
    "slopes = []\n",
    "# Calculate the slopes from each column in the AP_kin_df dataframe \n",
    "\n",
    "for column in AP_kin_df.columns:\n",
    "    slope, _, _, _, _, = stats.linregress(AP_kin_df.index, AP_kin_df[column])\n",
    "    slopes.append(slope)\n",
    "    \n",
    "# Did we get a list of 11 slopes for each of the 11 series?\n",
    "slopes"
   ]
  },
  {
   "cell_type": "code",
   "execution_count": 9,
   "metadata": {},
   "outputs": [
    {
     "data": {
      "text/html": [
       "<div>\n",
       "<style scoped>\n",
       "    .dataframe tbody tr th:only-of-type {\n",
       "        vertical-align: middle;\n",
       "    }\n",
       "\n",
       "    .dataframe tbody tr th {\n",
       "        vertical-align: top;\n",
       "    }\n",
       "\n",
       "    .dataframe thead th {\n",
       "        text-align: right;\n",
       "    }\n",
       "</style>\n",
       "<table border=\"1\" class=\"dataframe\">\n",
       "  <thead>\n",
       "    <tr style=\"text-align: right;\">\n",
       "      <th></th>\n",
       "      <th>pNPP (mM)</th>\n",
       "      <th>slopes</th>\n",
       "    </tr>\n",
       "  </thead>\n",
       "  <tbody>\n",
       "    <tr>\n",
       "      <th>0</th>\n",
       "      <td>20.0</td>\n",
       "      <td>0.514091</td>\n",
       "    </tr>\n",
       "    <tr>\n",
       "      <th>1</th>\n",
       "      <td>10.0</td>\n",
       "      <td>0.503140</td>\n",
       "    </tr>\n",
       "    <tr>\n",
       "      <th>2</th>\n",
       "      <td>7.0</td>\n",
       "      <td>0.470435</td>\n",
       "    </tr>\n",
       "    <tr>\n",
       "      <th>3</th>\n",
       "      <td>4.0</td>\n",
       "      <td>0.417021</td>\n",
       "    </tr>\n",
       "    <tr>\n",
       "      <th>4</th>\n",
       "      <td>2.0</td>\n",
       "      <td>0.342445</td>\n",
       "    </tr>\n",
       "    <tr>\n",
       "      <th>5</th>\n",
       "      <td>1.0</td>\n",
       "      <td>0.246260</td>\n",
       "    </tr>\n",
       "    <tr>\n",
       "      <th>6</th>\n",
       "      <td>0.7</td>\n",
       "      <td>0.202843</td>\n",
       "    </tr>\n",
       "    <tr>\n",
       "      <th>7</th>\n",
       "      <td>0.4</td>\n",
       "      <td>0.136443</td>\n",
       "    </tr>\n",
       "    <tr>\n",
       "      <th>8</th>\n",
       "      <td>0.2</td>\n",
       "      <td>0.076442</td>\n",
       "    </tr>\n",
       "    <tr>\n",
       "      <th>9</th>\n",
       "      <td>0.1</td>\n",
       "      <td>0.078070</td>\n",
       "    </tr>\n",
       "    <tr>\n",
       "      <th>10</th>\n",
       "      <td>0.05</td>\n",
       "      <td>0.022319</td>\n",
       "    </tr>\n",
       "  </tbody>\n",
       "</table>\n",
       "</div>"
      ],
      "text/plain": [
       "   pNPP (mM)    slopes\n",
       "0       20.0  0.514091\n",
       "1       10.0  0.503140\n",
       "2        7.0  0.470435\n",
       "3        4.0  0.417021\n",
       "4        2.0  0.342445\n",
       "5        1.0  0.246260\n",
       "6        0.7  0.202843\n",
       "7        0.4  0.136443\n",
       "8        0.2  0.076442\n",
       "9        0.1  0.078070\n",
       "10      0.05  0.022319"
      ]
     },
     "execution_count": 9,
     "metadata": {},
     "output_type": "execute_result"
    }
   ],
   "source": [
    "# Populate the new dataframe with the slopes\n",
    "\n",
    "MM_df['slopes'] = slopes\n",
    "\n",
    "# Check the dataframe\n",
    "MM_df"
   ]
  },
  {
   "cell_type": "markdown",
   "metadata": {},
   "source": [
    "## Calculate the initial velocity\n",
    "The initial velocity can be calculated by dividing the slope by the extinction micromlar coefficient under the experimental conditions, 0.015 $\\mu$M$^{-1}$cm$^{-1}$. It is possible to complete the calculation and add it to the dataframe with a single line of code."
   ]
  },
  {
   "cell_type": "code",
   "execution_count": 10,
   "metadata": {},
   "outputs": [
    {
     "data": {
      "text/html": [
       "<div>\n",
       "<style scoped>\n",
       "    .dataframe tbody tr th:only-of-type {\n",
       "        vertical-align: middle;\n",
       "    }\n",
       "\n",
       "    .dataframe tbody tr th {\n",
       "        vertical-align: top;\n",
       "    }\n",
       "\n",
       "    .dataframe thead th {\n",
       "        text-align: right;\n",
       "    }\n",
       "</style>\n",
       "<table border=\"1\" class=\"dataframe\">\n",
       "  <thead>\n",
       "    <tr style=\"text-align: right;\">\n",
       "      <th></th>\n",
       "      <th>pNPP (mM)</th>\n",
       "      <th>slopes</th>\n",
       "      <th>initial velocities</th>\n",
       "    </tr>\n",
       "  </thead>\n",
       "  <tbody>\n",
       "    <tr>\n",
       "      <th>0</th>\n",
       "      <td>20.0</td>\n",
       "      <td>0.514091</td>\n",
       "      <td>34.272718</td>\n",
       "    </tr>\n",
       "    <tr>\n",
       "      <th>1</th>\n",
       "      <td>10.0</td>\n",
       "      <td>0.503140</td>\n",
       "      <td>33.542678</td>\n",
       "    </tr>\n",
       "    <tr>\n",
       "      <th>2</th>\n",
       "      <td>7.0</td>\n",
       "      <td>0.470435</td>\n",
       "      <td>31.362310</td>\n",
       "    </tr>\n",
       "    <tr>\n",
       "      <th>3</th>\n",
       "      <td>4.0</td>\n",
       "      <td>0.417021</td>\n",
       "      <td>27.801416</td>\n",
       "    </tr>\n",
       "    <tr>\n",
       "      <th>4</th>\n",
       "      <td>2.0</td>\n",
       "      <td>0.342445</td>\n",
       "      <td>22.829652</td>\n",
       "    </tr>\n",
       "    <tr>\n",
       "      <th>5</th>\n",
       "      <td>1.0</td>\n",
       "      <td>0.246260</td>\n",
       "      <td>16.417302</td>\n",
       "    </tr>\n",
       "    <tr>\n",
       "      <th>6</th>\n",
       "      <td>0.7</td>\n",
       "      <td>0.202843</td>\n",
       "      <td>13.522863</td>\n",
       "    </tr>\n",
       "    <tr>\n",
       "      <th>7</th>\n",
       "      <td>0.4</td>\n",
       "      <td>0.136443</td>\n",
       "      <td>9.096204</td>\n",
       "    </tr>\n",
       "    <tr>\n",
       "      <th>8</th>\n",
       "      <td>0.2</td>\n",
       "      <td>0.076442</td>\n",
       "      <td>5.096143</td>\n",
       "    </tr>\n",
       "    <tr>\n",
       "      <th>9</th>\n",
       "      <td>0.1</td>\n",
       "      <td>0.078070</td>\n",
       "      <td>5.204653</td>\n",
       "    </tr>\n",
       "    <tr>\n",
       "      <th>10</th>\n",
       "      <td>0.05</td>\n",
       "      <td>0.022319</td>\n",
       "      <td>1.487957</td>\n",
       "    </tr>\n",
       "  </tbody>\n",
       "</table>\n",
       "</div>"
      ],
      "text/plain": [
       "   pNPP (mM)    slopes  initial velocities\n",
       "0       20.0  0.514091           34.272718\n",
       "1       10.0  0.503140           33.542678\n",
       "2        7.0  0.470435           31.362310\n",
       "3        4.0  0.417021           27.801416\n",
       "4        2.0  0.342445           22.829652\n",
       "5        1.0  0.246260           16.417302\n",
       "6        0.7  0.202843           13.522863\n",
       "7        0.4  0.136443            9.096204\n",
       "8        0.2  0.076442            5.096143\n",
       "9        0.1  0.078070            5.204653\n",
       "10      0.05  0.022319            1.487957"
      ]
     },
     "execution_count": 10,
     "metadata": {},
     "output_type": "execute_result"
    }
   ],
   "source": [
    "# Calculate initial velocities and place those in a new column in the dataframe\n",
    "MM_df['initial velocities'] = MM_df['slopes'] / 0.015\n",
    "MM_df"
   ]
  },
  {
   "cell_type": "markdown",
   "metadata": {},
   "source": [
    "We will use this dataframe now to perform the nonlinear regression fit using the SciPy library in part 2 of this lesson. To save this data for part 2, so we need to write it to a csv file in our data directory."
   ]
  },
  {
   "cell_type": "code",
   "execution_count": 11,
   "metadata": {},
   "outputs": [],
   "source": [
    "outputfile = os.path.join('data', 'MM_data.csv')\n",
    "MM_df.to_csv(outputfile)"
   ]
  },
  {
   "cell_type": "markdown",
   "metadata": {},
   "source": [
    "<div class=\"exercise-this-is-a-title exercise\">\n",
    "<p class=\"exercise-title\">Check your understanding</p>\n",
    "    <p>You will find an Excel file in your data folder, chymotrypsin_kinetics.xlsx, with some kinetic data from a chymotrypsin experiment. Apply the principles above to create dataframes and a .csv file for creating a Michaelis-Menten plot with these data. Under these assay conditions the extinction coefficient for p-nitrophenol is 18,320 M<sup>-1</sup>cm<sup>-1</sup>.</p>\n",
    "\n",
    "```{admonition} Hint\n",
    ":class: dropdown\n",
    "You will need to get the data into a layout and file format that is easily read by pandas. \n",
    "Delete the first seven lines of the Excel file.\n",
    "Delete the first column of the Excel file.\n",
    "Save the file as chymotrypsin_kinetics.csv.\n",
    "Your data will should look something like this: \n",
    "![csv image](images/csv_image.png \"csv image\")\n",
    "```\n",
    "    \n",
    "```{admonition} Solution\n",
    ":class: dropdown\n",
    "    \n",
    "```python\n",
    "import os \n",
    "import pandas as pd \n",
    "import numpy as np \n",
    "from scipy import stats \n",
    "datafile = os.path.join('data', 'chymotrypsin_kinetics.csv') # filehandle created\n",
    "chymo_rates_df = pd.read_csv(datafile)\n",
    "chymo_rates_df = chymo_rates_df.set_index('Time (sec)')\n",
    "\n",
    "def linregress_slope(df_series):\n",
    "    slope, _, _, _, _, = stats.linregress(df_series.index, df_series.values)\n",
    "    return slope\n",
    "\n",
    "chymo_MM_df = pd.DataFrame()\n",
    "chymo_MM_df['slopes'] = chymo_rates_df.apply(linregress_slope)\n",
    "chymo_MM_df['Initial Velocities'] = chymo_MM_df['slopes'] / 0.01832\n",
    "chymo_MM_df.to_csv('biochemist-python/chapters/data/chymo_MM_data.csv')\n",
    "print(chymo_MM_df)\n",
    "    \n",
    "```\n",
    "The solution is in the next cell. We will remove that cell before we publish the final Jupyter book.\n",
    "        \n",
    "</div>\n"
   ]
  },
  {
   "cell_type": "code",
   "execution_count": 12,
   "metadata": {},
   "outputs": [
    {
     "name": "stdout",
     "output_type": "stream",
     "text": [
      "              slopes  Initial Velocities\n",
      "1           0.000557            0.030412\n",
      "0.5         0.000539            0.029437\n",
      "0.25        0.000500            0.027293\n",
      "0.125       0.000450            0.024563\n",
      "0.0625      0.000511            0.027877\n",
      "0.03125     0.000493            0.026903\n",
      "0.015625    0.000357            0.019495\n",
      "0.0078125   0.000229            0.012477\n",
      "0.00390625  0.000111            0.006043\n",
      "0.00195313  0.000071            0.003899\n"
     ]
    }
   ],
   "source": [
    "import os \n",
    "import pandas as pd \n",
    "import numpy as np \n",
    "from scipy import stats \n",
    "datafile = os.path.join('data', 'chymotrypsin_kinetics.csv') # filehandle created\n",
    "chymo_rates_df = pd.read_csv(datafile)\n",
    "chymo_rates_df = chymo_rates_df.set_index('Time (sec)')\n",
    "\n",
    "def linregress_slope(df_series):\n",
    "  slope, _, _, _, _, = stats.linregress(df_series.index, df_series.values)\n",
    "  return slope\n",
    "\n",
    "chymo_MM_df = pd.DataFrame()\n",
    "chymo_MM_df['slopes'] = chymo_rates_df.apply(linregress_slope)\n",
    "chymo_MM_df['Initial Velocities'] = chymo_MM_df['slopes'] / 0.01832 \n",
    "outputfile = os.path.join('data', 'chymo_MM_data.csv')\n",
    "chymo_MM_df.to_csv(outputfile)\n",
    "print(chymo_MM_df)"
   ]
  },
  {
   "cell_type": "code",
   "execution_count": null,
   "metadata": {},
   "outputs": [],
   "source": []
  }
 ],
 "metadata": {
  "kernelspec": {
   "display_name": "Python 3",
   "language": "python",
   "name": "python3"
  },
  "language_info": {
   "codemirror_mode": {
    "name": "ipython",
    "version": 3
   },
   "file_extension": ".py",
   "mimetype": "text/x-python",
   "name": "python",
   "nbconvert_exporter": "python",
   "pygments_lexer": "ipython3",
   "version": "3.8.6"
  }
 },
 "nbformat": 4,
 "nbformat_minor": 4
}
