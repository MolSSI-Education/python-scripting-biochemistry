{
 "cells": [
  {
   "cell_type": "markdown",
   "metadata": {},
   "source": [
    "Nonlinear Regression Part 1\n",
    "========================="
   ]
  },
  {
   "attachments": {},
   "cell_type": "markdown",
   "metadata": {},
   "source": [
    "``````{admonition} Overview\n",
    ":class: overview\n",
    "\n",
    "Questions:\n",
    "\n",
    "* How can I analyze enzyme kinetics data in Python?\n",
    "\n",
    "* What is the process for non-linear least squares curve fitting in Python?\n",
    "\n",
    "Objectives:\n",
    "\n",
    "* Create a pandas dataframe with enzyme kinetics data from a `.csv` file.\n",
    "\n",
    "* Add velocity calculations to the dataframe.\n",
    "\n",
    "* Perform the non-linear regression calculations.\n",
    "\n",
    "In this module, we will calculate initial rates from the raw data (&Delta;A<sub>405</sub>) in an enzyme kinetics experiment with alkaline phosphatase. In the process, we will import the raw data into a pandas dataframe, use some pandas tools to reorganize the data, produce a second pandas dataframe that contains the substrate concentrations and initial rates at each concentration. Finally, we will export this information to a csv file to use in the next module, where we will explore nonlinear curve fitting in Python.\n",
    "\n",
    "``````"
   ]
  },
  {
   "cell_type": "markdown",
   "metadata": {},
   "source": [
    "## Importing the Data\n",
    "We start by importing data from a csv file as we did earlier with the data for linear regression. These data represent the rate of p-nitrophenol appearance for a series of p-nitrophenol phosphate concentrations in the presence of alkaline phosphatase. We will import the libraries we need, import the data and set up a pandas dataframe."
   ]
  },
  {
   "cell_type": "code",
   "execution_count": null,
   "metadata": {},
   "outputs": [],
   "source": [
    "# import the libraries we need\n",
    "import os # to create a filehandle for the .csv file\n",
    "import pandas as pd # for importing the .csv file and creating a dataframe\n",
    "from scipy import stats # for performing non-linear regression"
   ]
  },
  {
   "cell_type": "code",
   "execution_count": null,
   "metadata": {},
   "outputs": [],
   "source": [
    "# Create the filehandle for the csv file that contains your data\n",
    "datafile = os.path.join('data', 'AP_kin.csv') # filehandle created\n",
    "print(datafile)  # filehandle confirmed"
   ]
  },
  {
   "cell_type": "markdown",
   "metadata": {},
   "source": [
    "## Creating the pandas dataframe\n",
    "The filehandle, `datafile`, points to a csv file that contains the raw kinetics data. As we saw in the `Working with Pandas` module, the pandas library has a tool for creating a dataframe from an existing csv file. Notice that the variable for the dataframe is called AP_kin_df. The `_df` at the end of the variable name is a reminder that this is a pandas dataframe."
   ]
  },
  {
   "cell_type": "code",
   "execution_count": null,
   "metadata": {
    "scrolled": true
   },
   "outputs": [],
   "source": [
    "# Creating the pandas dataframe using read_csv\n",
    "AP_kin_df = pd.read_csv(datafile)\n",
    "AP_kin_df.head()  # looking at the first five rows of the dataframe "
   ]
  },
  {
   "cell_type": "markdown",
   "metadata": {},
   "source": [
    "When you look at this dataframe, notice that the index (the item at the far left of each row) is an integer. In this case, we want to use the 'Time (min)' values that are found in the first series as the index. There is a simple fix - the set_index function. \n",
    "\n",
    "```python\n",
    "AP_kin_df.set_index('Time (min)', inplace=True)\n",
    "```\n",
    "\n",
    "By making the time values the index for each row, we can easily omit them from our initial rate calculations. We use the `inplace=True` option to make the change to the dataframe permanent."
   ]
  },
  {
   "cell_type": "code",
   "execution_count": null,
   "metadata": {},
   "outputs": [],
   "source": [
    "AP_kin_df.set_index('Time (min)', inplace=True)\n",
    "AP_kin_df.head()"
   ]
  },
  {
   "cell_type": "markdown",
   "metadata": {},
   "source": [
    "## Datatype\n",
    "Before we calculate the slopes to get initial velocities, we need to check for the datatypes on the numbers. We must ensure that the numbers are floats, rather than strings, so we can do calculations on them."
   ]
  },
  {
   "cell_type": "code",
   "execution_count": null,
   "metadata": {},
   "outputs": [],
   "source": [
    "AP_kin_df.index.dtype # checking to see if the numbers are strings or floats"
   ]
  },
  {
   "cell_type": "markdown",
   "metadata": {},
   "source": [
    "## Calculating the initial velocity\n",
    "The index for each row is the time, which will be the x values to get the slope of each line. The values in each column are the absorbance values at each time point, so those will be our y values. Now we need to follow these steps to calculate the initial velocity at each substrate concentration. \n",
    "1. Inspect the data.\n",
    "1. Create a second dataframe with the substrate concentration as the first series.\n",
    "1. Calculate the slopes from the first dataframe and add those as a column to the second dataframe.\n",
    "1. Calculate the initial velocity by dividing the slope by the extinction coefficient for p-nitrophenol under these buffer conditions, 15.0 mM<sup>-1</sup>cm<sup>-1</sup>.\n",
    "1. Export the second dataframe to a csv file that we will use in the next module."
   ]
  },
  {
   "cell_type": "markdown",
   "metadata": {},
   "source": [
    "### Inspect the data\n",
    "In an earlier module, we used pyplot from matplotlib to create a well-annotated plot of our linear regression data. We could do that here, but we only want to inspect the data to make sure we are on the right track. To do that we can use the [plot command from pandas](https://pandas.pydata.org/pandas-docs/stable/reference/api/pandas.DataFrame.plot.html), which builds the plot using tools from matplotlib. The syntax is\n",
    "\n",
    "```python\n",
    "dataframe.plot()\n",
    "```\n",
    "In our case, the only argument we will pass is \"marker = 'o' so that the individual data points will appear."
   ]
  },
  {
   "cell_type": "code",
   "execution_count": null,
   "metadata": {},
   "outputs": [],
   "source": [
    "# Inspect the data using the plot command that is available with the dataframe\n",
    "# We use the plot function that is built into pandas for this simple data display\n",
    "AP_kin_df.plot(marker = 'o')"
   ]
  },
  {
   "cell_type": "code",
   "execution_count": null,
   "metadata": {},
   "outputs": [],
   "source": [
    "# Create a second dataframe with the substrate concentration as the first series.\n",
    "# Note the syntax for this pandas function - the D and F are capitalized.\n",
    "MM_df = pd.DataFrame()\n",
    "MM_df['pNPP (mM)'] = AP_kin_df.columns"
   ]
  },
  {
   "cell_type": "markdown",
   "metadata": {},
   "source": [
    "## Calculate the Slopes\n",
    "\n",
    "There is some scatter in the data, but generally, the slopes of the curves increase with increasing substrate concentration. Now we need to calculate the slopes for each of the lines in the plot above. To do so, we can use the linregress function from scipy.stats that we used for the least squares linear regression analysis of the protein assay data from an earlier module. We will use the index from our data frame, `Time (min)`, AP_kin_df. The y values will be taken from each of the series from the same dataframe. \n",
    "\n",
    "Remember that linregress provides five outputs: slope, intercept, r-value, p-value and standard error. We need only the slope, so we will use this format\n",
    "\n",
    "```python\n",
    "slope, _, _, _, _ = stats.linregress(xdata, ydata)\n",
    "```\n",
    "\n",
    "where _ is just a placeholder that we will ignore.\n",
    "\n",
    "To get the slopes for each series we will use a for loop. First, we'll create an empty list to contain the slopes that are generated as the for loop cycles through the series in the AP_kin_df dataframe."
   ]
  },
  {
   "cell_type": "code",
   "execution_count": null,
   "metadata": {},
   "outputs": [],
   "source": [
    "# Create an empty list to hold the slopes \n",
    "slopes = []\n",
    "\n",
    "# Calculate the slopes from each column in the AP_kin_df dataframe \n",
    "\n",
    "for column in AP_kin_df.columns:\n",
    "    slope, _, _, _, _, = stats.linregress(AP_kin_df.index, AP_kin_df[column])\n",
    "    slopes.append(slope)\n",
    "    \n",
    "# Did we get a list of 11 slopes for each of the 11 series?\n",
    "slopes"
   ]
  },
  {
   "cell_type": "code",
   "execution_count": null,
   "metadata": {},
   "outputs": [],
   "source": [
    "# Populate the new dataframe with the slopes\n",
    "\n",
    "MM_df['slopes'] = slopes\n",
    "\n",
    "# Check the dataframe\n",
    "MM_df\n",
    "\n",
    "# Make 'pNPP (mM) the index'\n",
    "MM_df.set_index('pNPP (mM)', inplace=True)\n",
    "MM_df.head()"
   ]
  },
  {
   "cell_type": "markdown",
   "metadata": {},
   "source": [
    "## Calculate the initial velocity\n",
    "The initial velocity can be calculated by dividing the slope by the micromlar extinction coefficient under the experimental conditions, 0.015 $\\mu$M$^{-1}$cm$^{-1}$. It is possible to complete the calculation and add it to the dataframe with a single line of code."
   ]
  },
  {
   "cell_type": "code",
   "execution_count": null,
   "metadata": {},
   "outputs": [],
   "source": [
    "# Calculate initial velocities and place those in a new column in the dataframe\n",
    "MM_df['initial velocities'] = MM_df['slopes'] / 0.015\n",
    "MM_df"
   ]
  },
  {
   "cell_type": "markdown",
   "metadata": {},
   "source": [
    "We will use this dataframe now to perform the nonlinear regression fit using the SciPy library in part 2 of this lesson. To save this data for part 2, we need to write it to a csv file in our data directory."
   ]
  },
  {
   "cell_type": "code",
   "execution_count": null,
   "metadata": {},
   "outputs": [],
   "source": [
    "outputfile = os.path.join('data', 'MM_data.csv')\n",
    "MM_df.to_csv(outputfile)"
   ]
  },
  {
   "attachments": {},
   "cell_type": "markdown",
   "metadata": {},
   "source": [
    "``````{admonition} Check your understanding\n",
    ":class: exercise\n",
    "\n",
    "You will find an Excel file in your data folder, chymotrypsin_kinetics.xlsx, with some kinetic data from a chymotrypsin experiment. Apply the principles above to create dataframes and a .csv file for creating a Michaelis-Menten plot with these data. Under these conditions the extinction coefficient for p-nitrophenol is 18,320 M<sup>-1</sup>cm<sup>-1</sup>.</p>\n",
    "\n",
    "```{admonition} Hint\n",
    ":class: solution dropdown\n",
    "You will need to get the data into a layout and file format that is easily read by pandas. \n",
    "Delete the first seven lines of the Excel file.\n",
    "Delete the first column of the Excel file.\n",
    "Save the file as chymotrypsin_kinetics.csv.\n",
    "Your data will should look something like this: \n",
    "\n",
    "![csv image](images/csv_image.png \"csv image\")\n",
    "\n",
    "```\n",
    "\n",
    "    \n",
    "```{admonition} Solution\n",
    ":class: solution dropdown\n",
    "    \n",
    "```python\n",
    "# import the libraries we need\n",
    "import os \n",
    "import pandas as pd \n",
    "import numpy as np \n",
    "from scipy import stats\n",
    "\n",
    "# create the filehandle for the csv file\n",
    "datafile = os.path.join('data', 'chymotrypsin_kinetics.csv') # filehandle created\n",
    "print(datafile) # checking on this step\n",
    "\n",
    "# create the pandas dataframe using read_csv\n",
    "chymo_rates_df = pd.read_csv(datafile)\n",
    "chymo_rates_df.head() # looking at the first five rows of the dataframe\n",
    "\n",
    "# set the time as the index\n",
    "chymo_rates_df.set_index('Time (sec)', inplace = True)\n",
    "chymo_rates_df.head()\n",
    "\n",
    "# check the datatype for the numbers\n",
    "chymo_rates_df.index.dtype\n",
    "\n",
    "# inspect the data\n",
    "chymo_rates_df.plot(marker = 'o') # looking at the data\n",
    "\n",
    "# create a second dataframe with substrate concentration as the first series\n",
    "chymo_MM_df = pd.DataFrame()\n",
    "chymo_MM_df['pNPA (mM)'] = chymo_rates_df.columns\n",
    "chymo_MM_df\n",
    "\n",
    "# calculate slopes at each substrate concentration\n",
    "slopes = [] # create an empty list\n",
    "for column in chymo_rates_df.columns:\n",
    "    slope, _, _, _, _, = stats.linregress(chymo_rates_df.index, chymo_rates_df[column])\n",
    "    slopes.append(slope)\n",
    "\n",
    "# Add the new slopes to the dataframe\n",
    "chymo_MM_df['slopes'] = slopes\n",
    "\n",
    "# check the dataframe\n",
    "chymo_MM_df\n",
    "\n",
    "# Make 'pNPA(mM)' the index\n",
    "chymo_MM_df.set_index('pNPA (mM)', inplace = True)\n",
    "\n",
    "# check the dataframe\n",
    "chymo_MM_df.head()\n",
    "\n",
    "# Calculate the initial velocities\n",
    "chymo_MM_df['initial velocities'] = chymo_MM_df['slopes'] / 0.01832\n",
    "chymo_MM_df\n",
    "\n",
    "# Export the datafile to a csv file\n",
    "outputfile = os.path.join('data', 'chymo_MM_data.csv')\n",
    "chymo_MM_df.to_csv(outputfile)\n",
    "    \n",
    "```        \n",
    "``````\n"
   ]
  },
  {
   "cell_type": "code",
   "execution_count": null,
   "metadata": {},
   "outputs": [],
   "source": []
  }
 ],
 "metadata": {
  "kernelspec": {
   "display_name": "Python 3",
   "language": "python",
   "name": "python3"
  },
  "language_info": {
   "codemirror_mode": {
    "name": "ipython",
    "version": 3
   },
   "file_extension": ".py",
   "mimetype": "text/x-python",
   "name": "python",
   "nbconvert_exporter": "python",
   "pygments_lexer": "ipython3",
   "version": "3.8.8"
  }
 },
 "nbformat": 4,
 "nbformat_minor": 4
}
