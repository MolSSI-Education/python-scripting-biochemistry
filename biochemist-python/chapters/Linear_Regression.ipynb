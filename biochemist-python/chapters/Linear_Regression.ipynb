{
 "cells": [
  {
   "cell_type": "markdown",
   "metadata": {},
   "source": [
    "Linear Regression\n",
    "==============="
   ]
  },
  {
   "cell_type": "markdown",
   "metadata": {},
   "source": [
    "<div class=\"overview-this-is-a-title overview\">\n",
    "<h2 class=\"overview-title\">Overview</h2>\n",
    "    \n",
    "<p>Questions</p>\n",
    "    <ul>\n",
    "        <li>How can I complete linear regression with statistics in Python?\n",
    "    </ul>\n",
    "<p>Objectives:</p>\n",
    "    <ul>\n",
    "        <li>Use a pandas dataframe for data analysis\n",
    "        <li>Perform linear regression on the data and obtain best fit statistics\n",
    "    </ul>\n",
    "<p>Keypoints:</p>\n",
    "    <ul>\n",
    "        <li>Use pandas to create dataframes from csv formatted data.</li>\n",
    "        <li>Use SciPy functions to perform linear regression with statistical output.</li>\n",
    "    </ul>\n",
    "</div>"
   ]
  },
  {
   "cell_type": "markdown",
   "metadata": {},
   "source": [
    "## Why Linear Regression?\n",
    "When I was a biochemistry grad student, we almost always manipulated our data into a linear format so that we could do linear regression on our handheld calculators. The most prominent example was the manipulation of enzyme kinetic data for Lineweaver-Burke or Eadie-Hofstee plots, so that we could determine the kinetic parameters (**Note**: we'll actually do non-linear curve fitting for enzyme kinetics in a future lesson).  I also remember doing semi-log plots of enzyme inactivation because they were linear. Now we have many more options by using python in Jupyter notebooks.\n",
    "\n",
    "However, some data can still be analyzed by simple linear regression. Perhaps the most common case is the protein assay. Whether you use Lowry, Bradford or BCA methods, it is still most common to use a linear regression fit to the results.\n",
    "\n",
    "In this module, we will explore linear regression in Jupyter notebooks using Python. Please keep in mind - this is just a beginning. If you take a course in data science, you are likely to encounter a much deeper look at linear regression where you explore the relationships among many variables in a dataset.\n",
    "\n",
    "We're going to build on the previous lesson, using the pandas library to import the data for this lesson. Then, we will perform the linear regression using the scipy library. "
   ]
  },
  {
   "cell_type": "markdown",
   "metadata": {},
   "source": [
    "## Libraries you will need\n",
    "\n",
    "In previous lessons, we have used `os`, `numpy`, and `pandas`. In this lesson, we will add the SciPy library. We will use the dot notation we introduced earlier to access the functions in these libraries. I have expanded our table of libraries to help you keep track of your tools. Please note that the abbreviations listed are just the most common. You can actually define any abbreviation you like, but it is best to use the conventional abbreviations. This will help future coders (including yourself six months from now) as they work with the code. \n",
    "\n",
    "| Library | Uses | Abbreviation |\n",
    "| :------- | :----: | :------------: |\n",
    "| os | file management in operating systems | os |\n",
    "| numpy | calculations | np  | \n",
    "| pandas | data management | pd |\n",
    "| scipy | calculations and statistics | sc or sp | \n"
   ]
  },
  {
   "cell_type": "markdown",
   "metadata": {},
   "source": [
    "### Stages of this module\n",
    "1. Importing the correct libraries\n",
    "1. Importing data with pandas\n",
    "1. Running simple linear regression to print out the desired statistics\n",
    "\n",
    "The first part of the module is modeled after an exercise in Charlie Weiss's excellent online textbook, *Scientific Computing for Chemists*, which you can find on his GitHub site, [SciCompforChemists](https://github.com/weisscharlesj/SciCompforChemists)."
   ]
  },
  {
   "cell_type": "code",
   "execution_count": null,
   "metadata": {},
   "outputs": [],
   "source": [
    "# Import the libraries you need\n",
    "import os\n",
    "import pandas as pd\n",
    "import scipy as sp"
   ]
  },
  {
   "cell_type": "markdown",
   "metadata": {},
   "source": [
    "## Importing data with pandas\n",
    "In this lesson you will use `os` and `pandas` to import your data. This is a very straightforward case, but if you look at the code, you can see that it could be applied to much more complex situations. When using pandas, people often append \\_df to the end of a variable name as a reminder that this is a dataframe, so the dataframe that contains our results might be called results_df. The code in the next cell will enable you to create the dataframe for this lesson. It should be mentioned that DataFrame is a reserved word when working with pandas dataframes, so you should not use that word as a variable name."
   ]
  },
  {
   "cell_type": "code",
   "execution_count": null,
   "metadata": {},
   "outputs": [],
   "source": [
    "protein_file = os.path.join('data', 'protein_assay.csv') # gives a path to your csv file\n",
    "results_df = pd.read_csv(protein_file) # use pandas to read the csv file into a dataframe\n",
    "results_df  # display your dataframe"
   ]
  },
  {
   "cell_type": "markdown",
   "metadata": {},
   "source": [
    "In a dataframe, you can refer to the data in a column just by the column header. These are strings, so you need to put single quotes around them when you use them. In pandas, the terms \"series\" is often used to refer to the data in a single column in a dataframe. So we are going to use the two column headers to define the data for our linear regression. "
   ]
  },
  {
   "cell_type": "code",
   "execution_count": null,
   "metadata": {},
   "outputs": [],
   "source": [
    "xdata = results_df['mass (ug)']  # Setting the x values\n",
    "ydata = results_df['A-595']  # setting the y values\n",
    "print(xdata,ydata) # checking to make sure everything is in place"
   ]
  },
  {
   "cell_type": "markdown",
   "metadata": {},
   "source": [
    "## Linear Regression with SciPy\n",
    "Now that the data are in place, we simply need to import the stats module from SciPy to perform the linear regression. \n",
    "\n",
    "Notice the the `linregress` function in scipy.stats accepts the two data series and actually generates five values: slope, intercept, r-value, p-value, and standard error. In the next cell all of those variables are assigned in a single command. Then the results are presented with a series of print statements."
   ]
  },
  {
   "cell_type": "code",
   "execution_count": null,
   "metadata": {
    "scrolled": true
   },
   "outputs": [],
   "source": [
    "from scipy import stats\n",
    "slope, intercept, r_value, p_value, std_err = stats.linregress(xdata, ydata)\n",
    "print(\"Slope = \", slope, \"/microgram/mL\", sep = \"\")\n",
    "print(\"Intercept = \", intercept)\n",
    "print(\"R-squared = \", r_value**2)\n",
    "print(\"P value = \", p_value)\n",
    "print(\"Standard error = \", std_err)"
   ]
  },
  {
   "cell_type": "markdown",
   "metadata": {},
   "source": [
    "<div class=\"exercise-this-is-a-title exercise\">\n",
    "<p class=\"exercise-title\">Exercise</p>\n",
    "    <p> Now that you have completed a simple linear regression exercise with protein assay data, here is a problem with a slightly larger dataset, taken from a ground water survey of wells in Texas, kindly provided by [Houghton-Mifflin](https://college.cengage.com/mathematics/brase/understandable_statistics/7e/students/datasets/slr/frames/frame.html). Using the skills you have learned with pandas and SciPy, get the linear regression statistics for the relationship between pH (dependent variable) and bicarbonate levels (ppm in well water in Texas; independent variable). The data are available in the file, Ground_water.csv in the data folder. Once complete, your output should look like this:</p>\n",
    "        \n",
    "<p>Slope =  -0.0030521595419827677 <br>\n",
    "Intercept =  8.097595134597833 <br>\n",
    "R-squared =  0.1152673937227531 <br>\n",
    "P value =  0.04948248037131796 <br>\n",
    "Standard error =  0.0014948066523110296\n",
    "</p>\n",
    "\n",
    "```{admonition} Hint\n",
    ":class: dropdown\n",
    "\n",
    "You will need to use a multi-step process to complete this exercise.\n",
    "1. Use os to set the file path.\n",
    "1. Use pandas to create a dataframe from the csv file. \n",
    "1. Explore the file to find the column headers for your data. \n",
    "1. Assign your independent and dependent variables.\n",
    "1. Use SciPy.stats to perform linear regression. \n",
    "```\n",
    "    \n",
    "```{admonition} Solution\n",
    ":class: dropdown\n",
    "    import os\n",
    "    import pandas as pd\n",
    "    import scipy as sp\n",
    "    water_file = os.path.join('data', 'Ground_water.csv')\n",
    "    water_df = pd.read_csv(water_file)\n",
    "    water_df.head() # to see the headers for each series (column)\n",
    "    xdata = water_df['Bicarb']\n",
    "    ydata = water_df['pH']\n",
    "    from scipy import stats\n",
    "    slope, intercept, r_value, p_value, std_err = stats.linregress(xdata, ydata)\n",
    "    print(\"Slope = \", slope)\n",
    "    print(\"Intercept = \", intercept)\n",
    "    print(\"R-squared = \", r_value**2)\n",
    "    print(\"P value = \", p_value)\n",
    "    print(\"Standard error = \", std_err)\n",
    "```\n",
    "    \n",
    "</div>"
   ]
  },
  {
   "cell_type": "code",
   "execution_count": null,
   "metadata": {},
   "outputs": [],
   "source": []
  }
 ],
 "metadata": {
  "kernelspec": {
   "display_name": "Python 3",
   "language": "python",
   "name": "python3"
  },
  "language_info": {
   "codemirror_mode": {
    "name": "ipython",
    "version": 3
   },
   "file_extension": ".py",
   "mimetype": "text/x-python",
   "name": "python",
   "nbconvert_exporter": "python",
   "pygments_lexer": "ipython3",
   "version": "3.7.6"
  }
 },
 "nbformat": 4,
 "nbformat_minor": 4
}
