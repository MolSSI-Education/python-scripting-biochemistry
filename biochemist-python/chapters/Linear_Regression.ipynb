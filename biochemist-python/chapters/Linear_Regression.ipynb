{
 "cells": [
  {
   "cell_type": "markdown",
   "metadata": {},
   "source": [
    "---\n",
    "title: \"Simple Linear Regression\"\n",
    "teaching: 25\n",
    "exercises: 10\n",
    "questions:\n",
    "- \"How can I complete linear regression with statistics and a plot?\"\n",
    "objectives:\n",
    "- \"Import a python library.\"\n",
    "- \"Use python library funtions.\"\n",
    "- \"Import data from a .csv formatted file.\"\n",
    "- \"Perform linear regression on the data and obtain best fit statistics.\"\n",
    "- \"Create a plot of your data that includes uncertainty.\"\n",
    "keypoints:\n",
    "- \"Use the numpy library to create arrays.\"\n",
    "- \"Use numpy functions to perform linear regression with statistical output.\"\n",
    "- \"Use matplotlib to prepare a plot with data and a best fit line.\"\n",
    "---\n"
   ]
  },
  {
   "cell_type": "markdown",
   "metadata": {},
   "source": [
    "## Libraries you will need\n",
    "\n",
    "To complete this exercise, you will need to employ a number of import a number of libraries: os, numpy, matplotlib, pandas, and scipy. \n"
   ]
  },
  {
   "cell_type": "code",
   "execution_count": 2,
   "metadata": {},
   "outputs": [],
   "source": [
    "import numpy as np\n",
    "from matplotlib import pyplot"
   ]
  },
  {
   "cell_type": "markdown",
   "metadata": {},
   "source": [
    "\n",
    "To perform linear regression, we will need to import a python **library**.  A **library** is a set of modules which contain functions. The functions within a library or module are usually related to one another. Using libraries in Python reduces the amount of code you have to write. In the last lesson, we imported `os.path`, which was a module that handled filepaths for us.\n",
    "\n",
    "In this lesson, we will be using the `numpy` library, which will help us read in multiple files from our computer.  Within a library there are modules and functions which do a specific computational task.  Usually a function has some type of input and gives a particular output.  To use a function that is in a library, you often use the dot notation introduced in the previous lesson."
   ]
  },
  {
   "cell_type": "markdown",
   "metadata": {},
   "source": [
    "### Stages of this module\n",
    "1. Import the correct libraries.\n",
    "1. Setting up numpy arrays with input data\n",
    "1. Running simple linear regression\n",
    "1. Plotting the data\n",
    "1. Repeat the process with data loaded from a CSV file."
   ]
  },
  {
   "cell_type": "code",
   "execution_count": 3,
   "metadata": {},
   "outputs": [],
   "source": [
    "import numpy as np\n",
    "import pandas as pd\n",
    "import matplotlib.pyplot as plt\n",
    "from scipy.optimize import curve_fit\n",
    "from scipy import stats"
   ]
  },
  {
   "cell_type": "code",
   "execution_count": 4,
   "metadata": {},
   "outputs": [],
   "source": [
    "# Create numpy arrays\n",
    "# Data source:  https://toptipbio.com/linear-standard-curve-excel/\n",
    "xdata = np.array([0, 25, 125, 250, 500, 750, 1000, 1500, 2000])\n",
    "ydata = np.array([0.0945, 0.1275, 0.225, 0.3195, 0.559, 0.7905, 0.9925, 1.501, 1.9515])"
   ]
  },
  {
   "cell_type": "code",
   "execution_count": 5,
   "metadata": {},
   "outputs": [
    {
     "name": "stdout",
     "output_type": "stream",
     "text": [
      "Slope = 0.0009259822278641702/microgram/mL\n",
      "Intercept =  0.09624547762615032\n",
      "R-squared =  0.9995709763357605\n",
      "P value =  4.760898256897782e-13\n",
      "Standard error =  7.250825220044061e-06\n"
     ]
    }
   ],
   "source": [
    "slope, intercept, r_value, p_value, std_err = stats.linregress(xdata, ydata)\n",
    "print(\"Slope = \", slope, \"/microgram/mL\", sep = \"\")\n",
    "print(\"Intercept = \", intercept)\n",
    "print(\"R-squared = \", r_value**2)\n",
    "print(\"P value = \", p_value)\n",
    "print(\"Standard error = \", std_err)"
   ]
  },
  {
   "cell_type": "code",
   "execution_count": null,
   "metadata": {},
   "outputs": [],
   "source": []
  }
 ],
 "metadata": {
  "kernelspec": {
   "display_name": "Python 3",
   "language": "python",
   "name": "python3"
  },
  "language_info": {
   "codemirror_mode": {
    "name": "ipython",
    "version": 3
   },
   "file_extension": ".py",
   "mimetype": "text/x-python",
   "name": "python",
   "nbconvert_exporter": "python",
   "pygments_lexer": "ipython3",
   "version": "3.7.6"
  }
 },
 "nbformat": 4,
 "nbformat_minor": 4
}
