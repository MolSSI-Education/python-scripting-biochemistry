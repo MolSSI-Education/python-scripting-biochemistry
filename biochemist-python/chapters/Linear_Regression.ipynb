{
 "cells": [
  {
   "cell_type": "markdown",
   "metadata": {},
   "source": [
    "<div class=\"overview-this-is-a-title overview\">\n",
    "<h2 class=\"overview-title\">Simple Linear Regression</h2>\n",
    "    \n",
    "<p>Questions</p>\n",
    "    <ul>\n",
    "        <li>How can I complete linear regression with statistics and a plot?\n",
    "    </ul>\n",
    "<p>Objectives:</p>\n",
    "    <ul>\n",
    "        <li>Import a python library.\n",
    "        <li>Use python library funtions.\n",
    "        <li>Import data from a .csv formatted file.\n",
    "        <li>Perform linear regression on the data and obtain best fit statistics.\n",
    "        <li>Create a plot of your data that includes uncertainty.\n",
    "    </ul>\n",
    "<p>Keypoints:</p>\n",
    "    <ul>\n",
    "        <li>Use the pandas library to create dataframes from csv formatted data.</li>\n",
    "        <li>Use SciPy functions to perform linear regression with statistical output.</li>\n",
    "        <li>Use matplotlib and seaborn to prepare a plot with data and a best fit line.</li>\n",
    "    </ul>\n",
    "</div>"
   ]
  },
  {
   "cell_type": "markdown",
   "metadata": {},
   "source": [
    "## Why Linear Regression?\n",
    "When I was a biochemistry grad student, we almost always manipulated our data into a linear format so that we could do linear regression on our handheld calculators. The most prominent example was the manipulation of enzyme kinetic data for Lineweaver-Burke or Eadie-Hofstee plots, so that we could determine the kinetic parameters (**Note**: we'll actually do non-linear curve fitting for enzyme kinetics in the next module).  I also remember doing semi-log plots of enzyme inactivation because they were linear. Now we have many more options, especially with Jupyter notebooks.\n",
    "\n",
    "However, some data can still be analyzed by simple linear regression. Perhaps the most common case is the protein assay. Whether you use Lowry, Bradford or BCA methods, it is still most common to use a linear regression fit to the results.\n",
    "\n",
    "In this module, we will explore linear regression in Jupyter notebooks using Python. Please keep in mind - this is just a beginning. If you take a course in data science, you are likely to encounter a much deeper look at linear regression and trend forecasting.\n",
    "\n",
    "We'll begin by looking at the libraries we will need to use, including a few new ones. Then we will use one of these libraries (pandas) to import the data for this module. Next, we will perform the linear regression with two different approaches, using scipy and seaborn. Finally, we will learn to plot the data using matplotlib.pyplot, with an assist from seaborn."
   ]
  },
  {
   "cell_type": "markdown",
   "metadata": {},
   "source": [
    "## Libraries you will need\n",
    "\n",
    "To perform linear regression, we will need to import a python **library**.  A **library** is a set of modules which contain functions. The functions within a library or module are usually related to one another. Using libraries in Python reduces the amount of code you have to write. In the last lesson, we imported `os.path`, which was a module that handled filepaths for us.\n",
    "\n",
    "In this lesson, we will be using the `numpy` library, which will help us read in multiple files from our computer.  Within a library there are modules and functions which do a specific computational task.  Usually a function has some type of input and gives a particular output.  To use a function that is in a library, you often use the dot notation introduced in the previous lesson.\n",
    "\n",
    "| Library | Uses | Abbreviation |\n",
    "| :------- | :----: | :------------: |\n",
    "| numpy | calculations | np  | |\n",
    "| SciPy | calculations and statistics | sp or sc |\n",
    "| pandas | data management | pd |\n",
    "| matplotlib.pyplot | creating plots | plt |\n",
    "| seaborn | higher level plotting | sns |\n"
   ]
  },
  {
   "cell_type": "markdown",
   "metadata": {},
   "source": [
    "### Stages of this module\n",
    "1. Import the correct libraries.\n",
    "1. Setting up numpy arrays with input data\n",
    "1. Running simple linear regression\n",
    "1. Plotting the data\n",
    "1. Repeat the process with data loaded from a CSV file.\n",
    "\n",
    "### Practice with pandas\n",
    "\n",
    "The first part of the module is taken from Charlie Weiss's excellent online textbook, *Scientific Computing for Chemists*, which you can find on his GitHub site, [SciCompforChemists](https://github.com/weisscharlesj/SciCompforChemists)."
   ]
  },
  {
   "cell_type": "code",
   "execution_count": 1,
   "metadata": {},
   "outputs": [],
   "source": [
    "import numpy as np\n",
    "import pandas as pd"
   ]
  },
  {
   "cell_type": "code",
   "execution_count": 2,
   "metadata": {},
   "outputs": [],
   "source": [
    "name = ['hydrogen', 'helium', 'lithium', 'beryllium', 'boron']\n",
    "AN = [1, 2, 3, 4, 5]\n",
    "mass = [1.01, 4.00, 6.94, 9.01, 10.81]\n",
    "IE = [13.6, 24.6, 5.4, 9.3, 8.3]"
   ]
  },
  {
   "cell_type": "code",
   "execution_count": 3,
   "metadata": {},
   "outputs": [
    {
     "data": {
      "text/html": [
       "<div>\n",
       "<style scoped>\n",
       "    .dataframe tbody tr th:only-of-type {\n",
       "        vertical-align: middle;\n",
       "    }\n",
       "\n",
       "    .dataframe tbody tr th {\n",
       "        vertical-align: top;\n",
       "    }\n",
       "\n",
       "    .dataframe thead th {\n",
       "        text-align: right;\n",
       "    }\n",
       "</style>\n",
       "<table border=\"1\" class=\"dataframe\">\n",
       "  <thead>\n",
       "    <tr style=\"text-align: right;\">\n",
       "      <th></th>\n",
       "      <th>H</th>\n",
       "      <th>He</th>\n",
       "      <th>Li</th>\n",
       "      <th>Be</th>\n",
       "      <th>B</th>\n",
       "    </tr>\n",
       "  </thead>\n",
       "  <tbody>\n",
       "    <tr>\n",
       "      <th>name</th>\n",
       "      <td>hydrogen</td>\n",
       "      <td>helium</td>\n",
       "      <td>lithium</td>\n",
       "      <td>beryllium</td>\n",
       "      <td>boron</td>\n",
       "    </tr>\n",
       "    <tr>\n",
       "      <th>AN</th>\n",
       "      <td>1</td>\n",
       "      <td>2</td>\n",
       "      <td>3</td>\n",
       "      <td>4</td>\n",
       "      <td>5</td>\n",
       "    </tr>\n",
       "    <tr>\n",
       "      <th>mass</th>\n",
       "      <td>1.01</td>\n",
       "      <td>4</td>\n",
       "      <td>6.94</td>\n",
       "      <td>9.01</td>\n",
       "      <td>10.81</td>\n",
       "    </tr>\n",
       "    <tr>\n",
       "      <th>IE</th>\n",
       "      <td>13.6</td>\n",
       "      <td>24.6</td>\n",
       "      <td>5.4</td>\n",
       "      <td>9.3</td>\n",
       "      <td>8.3</td>\n",
       "    </tr>\n",
       "  </tbody>\n",
       "</table>\n",
       "</div>"
      ],
      "text/plain": [
       "             H      He       Li         Be      B\n",
       "name  hydrogen  helium  lithium  beryllium  boron\n",
       "AN           1       2        3          4      5\n",
       "mass      1.01       4     6.94       9.01  10.81\n",
       "IE        13.6    24.6      5.4        9.3    8.3"
      ]
     },
     "execution_count": 3,
     "metadata": {},
     "output_type": "execute_result"
    }
   ],
   "source": [
    "elements = pd.DataFrame([name, AN, mass, IE], columns = ['H', 'He', 'Li', 'Be', 'B'], index = ['name', 'AN', 'mass', 'IE'])\n",
    "elements"
   ]
  },
  {
   "cell_type": "code",
   "execution_count": 4,
   "metadata": {},
   "outputs": [
    {
     "data": {
      "text/plain": [
       "name    lithium\n",
       "AN            3\n",
       "mass       6.94\n",
       "IE          5.4\n",
       "Name: Li, dtype: object"
      ]
     },
     "execution_count": 4,
     "metadata": {},
     "output_type": "execute_result"
    }
   ],
   "source": [
    "elements['Li']"
   ]
  },
  {
   "cell_type": "code",
   "execution_count": 5,
   "metadata": {},
   "outputs": [
    {
     "data": {
      "text/plain": [
       "H     13.6\n",
       "He    24.6\n",
       "Li     5.4\n",
       "Be     9.3\n",
       "B      8.3\n",
       "Name: IE, dtype: object"
      ]
     },
     "execution_count": 5,
     "metadata": {},
     "output_type": "execute_result"
    }
   ],
   "source": [
    "elements.loc['IE']"
   ]
  },
  {
   "cell_type": "code",
   "execution_count": 6,
   "metadata": {},
   "outputs": [
    {
     "data": {
      "text/plain": [
       "5.4"
      ]
     },
     "execution_count": 6,
     "metadata": {},
     "output_type": "execute_result"
    }
   ],
   "source": [
    "elements.loc['IE', 'Li']"
   ]
  },
  {
   "cell_type": "code",
   "execution_count": 7,
   "metadata": {},
   "outputs": [
    {
     "data": {
      "text/html": [
       "<div>\n",
       "<style scoped>\n",
       "    .dataframe tbody tr th:only-of-type {\n",
       "        vertical-align: middle;\n",
       "    }\n",
       "\n",
       "    .dataframe tbody tr th {\n",
       "        vertical-align: top;\n",
       "    }\n",
       "\n",
       "    .dataframe thead th {\n",
       "        text-align: right;\n",
       "    }\n",
       "</style>\n",
       "<table border=\"1\" class=\"dataframe\">\n",
       "  <thead>\n",
       "    <tr style=\"text-align: right;\">\n",
       "      <th></th>\n",
       "      <th>He</th>\n",
       "      <th>Li</th>\n",
       "      <th>Be</th>\n",
       "      <th>B</th>\n",
       "    </tr>\n",
       "  </thead>\n",
       "  <tbody>\n",
       "    <tr>\n",
       "      <th>AN</th>\n",
       "      <td>2</td>\n",
       "      <td>3</td>\n",
       "      <td>4</td>\n",
       "      <td>5</td>\n",
       "    </tr>\n",
       "    <tr>\n",
       "      <th>mass</th>\n",
       "      <td>4</td>\n",
       "      <td>6.94</td>\n",
       "      <td>9.01</td>\n",
       "      <td>10.81</td>\n",
       "    </tr>\n",
       "    <tr>\n",
       "      <th>IE</th>\n",
       "      <td>24.6</td>\n",
       "      <td>5.4</td>\n",
       "      <td>9.3</td>\n",
       "      <td>8.3</td>\n",
       "    </tr>\n",
       "  </tbody>\n",
       "</table>\n",
       "</div>"
      ],
      "text/plain": [
       "        He    Li    Be      B\n",
       "AN       2     3     4      5\n",
       "mass     4  6.94  9.01  10.81\n",
       "IE    24.6   5.4   9.3    8.3"
      ]
     },
     "execution_count": 7,
     "metadata": {},
     "output_type": "execute_result"
    }
   ],
   "source": [
    "elements.iloc[1:, 1:]"
   ]
  },
  {
   "cell_type": "code",
   "execution_count": 8,
   "metadata": {},
   "outputs": [],
   "source": [
    "import os"
   ]
  },
  {
   "cell_type": "code",
   "execution_count": 9,
   "metadata": {},
   "outputs": [
    {
     "name": "stdout",
     "output_type": "stream",
     "text": [
      "data/remdesivir.pdb\n"
     ]
    }
   ],
   "source": [
    "ligand_file = os.path.join('data', 'remdesivir.pdb')\n",
    "print(ligand_file)"
   ]
  },
  {
   "cell_type": "code",
   "execution_count": 10,
   "metadata": {},
   "outputs": [
    {
     "data": {
      "text/html": [
       "<div>\n",
       "<style scoped>\n",
       "    .dataframe tbody tr th:only-of-type {\n",
       "        vertical-align: middle;\n",
       "    }\n",
       "\n",
       "    .dataframe tbody tr th {\n",
       "        vertical-align: top;\n",
       "    }\n",
       "\n",
       "    .dataframe thead th {\n",
       "        text-align: right;\n",
       "    }\n",
       "</style>\n",
       "<table border=\"1\" class=\"dataframe\">\n",
       "  <thead>\n",
       "    <tr style=\"text-align: right;\">\n",
       "      <th></th>\n",
       "      <th>0</th>\n",
       "      <th>1</th>\n",
       "      <th>2</th>\n",
       "      <th>3</th>\n",
       "      <th>4</th>\n",
       "      <th>5</th>\n",
       "      <th>6</th>\n",
       "      <th>7</th>\n",
       "      <th>8</th>\n",
       "      <th>9</th>\n",
       "      <th>10</th>\n",
       "    </tr>\n",
       "  </thead>\n",
       "  <tbody>\n",
       "    <tr>\n",
       "      <th>0</th>\n",
       "      <td>HETATM</td>\n",
       "      <td>1</td>\n",
       "      <td>P</td>\n",
       "      <td>UNK</td>\n",
       "      <td>0</td>\n",
       "      <td>-4.891</td>\n",
       "      <td>-2.281</td>\n",
       "      <td>2.556</td>\n",
       "      <td>0.0</td>\n",
       "      <td>0.0</td>\n",
       "      <td>P+0</td>\n",
       "    </tr>\n",
       "    <tr>\n",
       "      <th>1</th>\n",
       "      <td>HETATM</td>\n",
       "      <td>2</td>\n",
       "      <td>O</td>\n",
       "      <td>UNK</td>\n",
       "      <td>0</td>\n",
       "      <td>-1.682</td>\n",
       "      <td>-0.433</td>\n",
       "      <td>0.666</td>\n",
       "      <td>0.0</td>\n",
       "      <td>0.0</td>\n",
       "      <td>O+0</td>\n",
       "    </tr>\n",
       "    <tr>\n",
       "      <th>2</th>\n",
       "      <td>HETATM</td>\n",
       "      <td>3</td>\n",
       "      <td>O</td>\n",
       "      <td>UNK</td>\n",
       "      <td>0</td>\n",
       "      <td>-0.106</td>\n",
       "      <td>2.415</td>\n",
       "      <td>0.382</td>\n",
       "      <td>0.0</td>\n",
       "      <td>0.0</td>\n",
       "      <td>O+0</td>\n",
       "    </tr>\n",
       "    <tr>\n",
       "      <th>3</th>\n",
       "      <td>HETATM</td>\n",
       "      <td>4</td>\n",
       "      <td>O</td>\n",
       "      <td>UNK</td>\n",
       "      <td>0</td>\n",
       "      <td>-2.544</td>\n",
       "      <td>3.011</td>\n",
       "      <td>1.361</td>\n",
       "      <td>0.0</td>\n",
       "      <td>0.0</td>\n",
       "      <td>O+0</td>\n",
       "    </tr>\n",
       "    <tr>\n",
       "      <th>4</th>\n",
       "      <td>HETATM</td>\n",
       "      <td>5</td>\n",
       "      <td>O</td>\n",
       "      <td>UNK</td>\n",
       "      <td>0</td>\n",
       "      <td>-3.656</td>\n",
       "      <td>-1.259</td>\n",
       "      <td>2.516</td>\n",
       "      <td>0.0</td>\n",
       "      <td>0.0</td>\n",
       "      <td>O+0</td>\n",
       "    </tr>\n",
       "    <tr>\n",
       "      <th>...</th>\n",
       "      <td>...</td>\n",
       "      <td>...</td>\n",
       "      <td>...</td>\n",
       "      <td>...</td>\n",
       "      <td>...</td>\n",
       "      <td>...</td>\n",
       "      <td>...</td>\n",
       "      <td>...</td>\n",
       "      <td>...</td>\n",
       "      <td>...</td>\n",
       "      <td>...</td>\n",
       "    </tr>\n",
       "    <tr>\n",
       "      <th>72</th>\n",
       "      <td>HETATM</td>\n",
       "      <td>73</td>\n",
       "      <td>H</td>\n",
       "      <td>UNK</td>\n",
       "      <td>0</td>\n",
       "      <td>-5.546</td>\n",
       "      <td>-5.468</td>\n",
       "      <td>1.551</td>\n",
       "      <td>0.0</td>\n",
       "      <td>0.0</td>\n",
       "      <td>H+0</td>\n",
       "    </tr>\n",
       "    <tr>\n",
       "      <th>73</th>\n",
       "      <td>HETATM</td>\n",
       "      <td>74</td>\n",
       "      <td>H</td>\n",
       "      <td>UNK</td>\n",
       "      <td>0</td>\n",
       "      <td>-2.711</td>\n",
       "      <td>-2.788</td>\n",
       "      <td>-0.035</td>\n",
       "      <td>0.0</td>\n",
       "      <td>0.0</td>\n",
       "      <td>H+0</td>\n",
       "    </tr>\n",
       "    <tr>\n",
       "      <th>74</th>\n",
       "      <td>HETATM</td>\n",
       "      <td>75</td>\n",
       "      <td>H</td>\n",
       "      <td>UNK</td>\n",
       "      <td>0</td>\n",
       "      <td>-4.019</td>\n",
       "      <td>-7.310</td>\n",
       "      <td>1.166</td>\n",
       "      <td>0.0</td>\n",
       "      <td>0.0</td>\n",
       "      <td>H+0</td>\n",
       "    </tr>\n",
       "    <tr>\n",
       "      <th>75</th>\n",
       "      <td>HETATM</td>\n",
       "      <td>76</td>\n",
       "      <td>H</td>\n",
       "      <td>UNK</td>\n",
       "      <td>0</td>\n",
       "      <td>-1.190</td>\n",
       "      <td>-4.635</td>\n",
       "      <td>-0.431</td>\n",
       "      <td>0.0</td>\n",
       "      <td>0.0</td>\n",
       "      <td>H+0</td>\n",
       "    </tr>\n",
       "    <tr>\n",
       "      <th>76</th>\n",
       "      <td>HETATM</td>\n",
       "      <td>77</td>\n",
       "      <td>H</td>\n",
       "      <td>UNK</td>\n",
       "      <td>0</td>\n",
       "      <td>-1.830</td>\n",
       "      <td>-6.895</td>\n",
       "      <td>0.195</td>\n",
       "      <td>0.0</td>\n",
       "      <td>0.0</td>\n",
       "      <td>H+0</td>\n",
       "    </tr>\n",
       "  </tbody>\n",
       "</table>\n",
       "<p>77 rows × 11 columns</p>\n",
       "</div>"
      ],
      "text/plain": [
       "        0   1  2    3   4      5      6      7    8    9    10\n",
       "0   HETATM   1  P  UNK   0 -4.891 -2.281  2.556  0.0  0.0  P+0\n",
       "1   HETATM   2  O  UNK   0 -1.682 -0.433  0.666  0.0  0.0  O+0\n",
       "2   HETATM   3  O  UNK   0 -0.106  2.415  0.382  0.0  0.0  O+0\n",
       "3   HETATM   4  O  UNK   0 -2.544  3.011  1.361  0.0  0.0  O+0\n",
       "4   HETATM   5  O  UNK   0 -3.656 -1.259  2.516  0.0  0.0  O+0\n",
       "..     ...  .. ..  ...  ..    ...    ...    ...  ...  ...  ...\n",
       "72  HETATM  73  H  UNK   0 -5.546 -5.468  1.551  0.0  0.0  H+0\n",
       "73  HETATM  74  H  UNK   0 -2.711 -2.788 -0.035  0.0  0.0  H+0\n",
       "74  HETATM  75  H  UNK   0 -4.019 -7.310  1.166  0.0  0.0  H+0\n",
       "75  HETATM  76  H  UNK   0 -1.190 -4.635 -0.431  0.0  0.0  H+0\n",
       "76  HETATM  77  H  UNK   0 -1.830 -6.895  0.195  0.0  0.0  H+0\n",
       "\n",
       "[77 rows x 11 columns]"
      ]
     },
     "execution_count": 10,
     "metadata": {},
     "output_type": "execute_result"
    }
   ],
   "source": [
    "rem = pd.read_table(ligand_file, delim_whitespace = True, skiprows = 8, skipfooter = 2, header = None, engine = 'python')\n",
    "rem"
   ]
  },
  {
   "cell_type": "markdown",
   "metadata": {},
   "source": [
    "## Exercise\n",
    "Modify the above code to create a pandas dataframe for remdesivir.sdf and remdesivir.xyz"
   ]
  },
  {
   "cell_type": "code",
   "execution_count": 11,
   "metadata": {},
   "outputs": [
    {
     "name": "stdout",
     "output_type": "stream",
     "text": [
      "data/remdesivir.sdf\n"
     ]
    },
    {
     "data": {
      "text/html": [
       "<div>\n",
       "<style scoped>\n",
       "    .dataframe tbody tr th:only-of-type {\n",
       "        vertical-align: middle;\n",
       "    }\n",
       "\n",
       "    .dataframe tbody tr th {\n",
       "        vertical-align: top;\n",
       "    }\n",
       "\n",
       "    .dataframe thead th {\n",
       "        text-align: right;\n",
       "    }\n",
       "</style>\n",
       "<table border=\"1\" class=\"dataframe\">\n",
       "  <thead>\n",
       "    <tr style=\"text-align: right;\">\n",
       "      <th></th>\n",
       "      <th>0</th>\n",
       "      <th>1</th>\n",
       "      <th>2</th>\n",
       "      <th>3</th>\n",
       "      <th>4</th>\n",
       "      <th>5</th>\n",
       "      <th>6</th>\n",
       "      <th>7</th>\n",
       "      <th>8</th>\n",
       "      <th>9</th>\n",
       "      <th>10</th>\n",
       "      <th>11</th>\n",
       "      <th>12</th>\n",
       "      <th>13</th>\n",
       "      <th>14</th>\n",
       "      <th>15</th>\n",
       "    </tr>\n",
       "  </thead>\n",
       "  <tbody>\n",
       "    <tr>\n",
       "      <th>0</th>\n",
       "      <td>-4.8913</td>\n",
       "      <td>-2.2809</td>\n",
       "      <td>2.5560</td>\n",
       "      <td>P</td>\n",
       "      <td>0</td>\n",
       "      <td>0</td>\n",
       "      <td>1</td>\n",
       "      <td>0</td>\n",
       "      <td>0</td>\n",
       "      <td>0</td>\n",
       "      <td>0</td>\n",
       "      <td>0</td>\n",
       "      <td>0</td>\n",
       "      <td>0</td>\n",
       "      <td>0</td>\n",
       "      <td>0</td>\n",
       "    </tr>\n",
       "    <tr>\n",
       "      <th>1</th>\n",
       "      <td>-1.6817</td>\n",
       "      <td>-0.4327</td>\n",
       "      <td>0.6665</td>\n",
       "      <td>O</td>\n",
       "      <td>0</td>\n",
       "      <td>0</td>\n",
       "      <td>0</td>\n",
       "      <td>0</td>\n",
       "      <td>0</td>\n",
       "      <td>0</td>\n",
       "      <td>0</td>\n",
       "      <td>0</td>\n",
       "      <td>0</td>\n",
       "      <td>0</td>\n",
       "      <td>0</td>\n",
       "      <td>0</td>\n",
       "    </tr>\n",
       "    <tr>\n",
       "      <th>2</th>\n",
       "      <td>-0.1060</td>\n",
       "      <td>2.4153</td>\n",
       "      <td>0.3824</td>\n",
       "      <td>O</td>\n",
       "      <td>0</td>\n",
       "      <td>0</td>\n",
       "      <td>0</td>\n",
       "      <td>0</td>\n",
       "      <td>0</td>\n",
       "      <td>0</td>\n",
       "      <td>0</td>\n",
       "      <td>0</td>\n",
       "      <td>0</td>\n",
       "      <td>0</td>\n",
       "      <td>0</td>\n",
       "      <td>0</td>\n",
       "    </tr>\n",
       "    <tr>\n",
       "      <th>3</th>\n",
       "      <td>-2.5440</td>\n",
       "      <td>3.0112</td>\n",
       "      <td>1.3615</td>\n",
       "      <td>O</td>\n",
       "      <td>0</td>\n",
       "      <td>0</td>\n",
       "      <td>0</td>\n",
       "      <td>0</td>\n",
       "      <td>0</td>\n",
       "      <td>0</td>\n",
       "      <td>0</td>\n",
       "      <td>0</td>\n",
       "      <td>0</td>\n",
       "      <td>0</td>\n",
       "      <td>0</td>\n",
       "      <td>0</td>\n",
       "    </tr>\n",
       "    <tr>\n",
       "      <th>4</th>\n",
       "      <td>-3.6559</td>\n",
       "      <td>-1.2588</td>\n",
       "      <td>2.5159</td>\n",
       "      <td>O</td>\n",
       "      <td>0</td>\n",
       "      <td>0</td>\n",
       "      <td>0</td>\n",
       "      <td>0</td>\n",
       "      <td>0</td>\n",
       "      <td>0</td>\n",
       "      <td>0</td>\n",
       "      <td>0</td>\n",
       "      <td>0</td>\n",
       "      <td>0</td>\n",
       "      <td>0</td>\n",
       "      <td>0</td>\n",
       "    </tr>\n",
       "    <tr>\n",
       "      <th>...</th>\n",
       "      <td>...</td>\n",
       "      <td>...</td>\n",
       "      <td>...</td>\n",
       "      <td>...</td>\n",
       "      <td>...</td>\n",
       "      <td>...</td>\n",
       "      <td>...</td>\n",
       "      <td>...</td>\n",
       "      <td>...</td>\n",
       "      <td>...</td>\n",
       "      <td>...</td>\n",
       "      <td>...</td>\n",
       "      <td>...</td>\n",
       "      <td>...</td>\n",
       "      <td>...</td>\n",
       "      <td>...</td>\n",
       "    </tr>\n",
       "    <tr>\n",
       "      <th>72</th>\n",
       "      <td>-5.5462</td>\n",
       "      <td>-5.4676</td>\n",
       "      <td>1.5506</td>\n",
       "      <td>H</td>\n",
       "      <td>0</td>\n",
       "      <td>0</td>\n",
       "      <td>0</td>\n",
       "      <td>0</td>\n",
       "      <td>0</td>\n",
       "      <td>0</td>\n",
       "      <td>0</td>\n",
       "      <td>0</td>\n",
       "      <td>0</td>\n",
       "      <td>0</td>\n",
       "      <td>0</td>\n",
       "      <td>0</td>\n",
       "    </tr>\n",
       "    <tr>\n",
       "      <th>73</th>\n",
       "      <td>-2.7105</td>\n",
       "      <td>-2.7885</td>\n",
       "      <td>-0.0350</td>\n",
       "      <td>H</td>\n",
       "      <td>0</td>\n",
       "      <td>0</td>\n",
       "      <td>0</td>\n",
       "      <td>0</td>\n",
       "      <td>0</td>\n",
       "      <td>0</td>\n",
       "      <td>0</td>\n",
       "      <td>0</td>\n",
       "      <td>0</td>\n",
       "      <td>0</td>\n",
       "      <td>0</td>\n",
       "      <td>0</td>\n",
       "    </tr>\n",
       "    <tr>\n",
       "      <th>74</th>\n",
       "      <td>-4.0191</td>\n",
       "      <td>-7.3100</td>\n",
       "      <td>1.1664</td>\n",
       "      <td>H</td>\n",
       "      <td>0</td>\n",
       "      <td>0</td>\n",
       "      <td>0</td>\n",
       "      <td>0</td>\n",
       "      <td>0</td>\n",
       "      <td>0</td>\n",
       "      <td>0</td>\n",
       "      <td>0</td>\n",
       "      <td>0</td>\n",
       "      <td>0</td>\n",
       "      <td>0</td>\n",
       "      <td>0</td>\n",
       "    </tr>\n",
       "    <tr>\n",
       "      <th>75</th>\n",
       "      <td>-1.1904</td>\n",
       "      <td>-4.6345</td>\n",
       "      <td>-0.4307</td>\n",
       "      <td>H</td>\n",
       "      <td>0</td>\n",
       "      <td>0</td>\n",
       "      <td>0</td>\n",
       "      <td>0</td>\n",
       "      <td>0</td>\n",
       "      <td>0</td>\n",
       "      <td>0</td>\n",
       "      <td>0</td>\n",
       "      <td>0</td>\n",
       "      <td>0</td>\n",
       "      <td>0</td>\n",
       "      <td>0</td>\n",
       "    </tr>\n",
       "    <tr>\n",
       "      <th>76</th>\n",
       "      <td>-1.8302</td>\n",
       "      <td>-6.8945</td>\n",
       "      <td>0.1952</td>\n",
       "      <td>H</td>\n",
       "      <td>0</td>\n",
       "      <td>0</td>\n",
       "      <td>0</td>\n",
       "      <td>0</td>\n",
       "      <td>0</td>\n",
       "      <td>0</td>\n",
       "      <td>0</td>\n",
       "      <td>0</td>\n",
       "      <td>0</td>\n",
       "      <td>0</td>\n",
       "      <td>0</td>\n",
       "      <td>0</td>\n",
       "    </tr>\n",
       "  </tbody>\n",
       "</table>\n",
       "<p>77 rows × 16 columns</p>\n",
       "</div>"
      ],
      "text/plain": [
       "        0       1       2  3   4   5   6   7   8   9   10  11  12  13  14  15\n",
       "0  -4.8913 -2.2809  2.5560  P   0   0   1   0   0   0   0   0   0   0   0   0\n",
       "1  -1.6817 -0.4327  0.6665  O   0   0   0   0   0   0   0   0   0   0   0   0\n",
       "2  -0.1060  2.4153  0.3824  O   0   0   0   0   0   0   0   0   0   0   0   0\n",
       "3  -2.5440  3.0112  1.3615  O   0   0   0   0   0   0   0   0   0   0   0   0\n",
       "4  -3.6559 -1.2588  2.5159  O   0   0   0   0   0   0   0   0   0   0   0   0\n",
       "..     ...     ...     ... ..  ..  ..  ..  ..  ..  ..  ..  ..  ..  ..  ..  ..\n",
       "72 -5.5462 -5.4676  1.5506  H   0   0   0   0   0   0   0   0   0   0   0   0\n",
       "73 -2.7105 -2.7885 -0.0350  H   0   0   0   0   0   0   0   0   0   0   0   0\n",
       "74 -4.0191 -7.3100  1.1664  H   0   0   0   0   0   0   0   0   0   0   0   0\n",
       "75 -1.1904 -4.6345 -0.4307  H   0   0   0   0   0   0   0   0   0   0   0   0\n",
       "76 -1.8302 -6.8945  0.1952  H   0   0   0   0   0   0   0   0   0   0   0   0\n",
       "\n",
       "[77 rows x 16 columns]"
      ]
     },
     "execution_count": 11,
     "metadata": {},
     "output_type": "execute_result"
    }
   ],
   "source": [
    "ligand_sdf_file = os.path.join('data', 'remdesivir.sdf')\n",
    "print(ligand_sdf_file)\n",
    "rem_sdf = pd.read_table(ligand_sdf_file, delim_whitespace = True, skiprows = 4, skipfooter = 412, header = None, engine = 'python')\n",
    "rem_sdf"
   ]
  },
  {
   "cell_type": "code",
   "execution_count": 12,
   "metadata": {},
   "outputs": [
    {
     "name": "stdout",
     "output_type": "stream",
     "text": [
      "data/remdesivir.xyz\n"
     ]
    },
    {
     "data": {
      "text/html": [
       "<div>\n",
       "<style scoped>\n",
       "    .dataframe tbody tr th:only-of-type {\n",
       "        vertical-align: middle;\n",
       "    }\n",
       "\n",
       "    .dataframe tbody tr th {\n",
       "        vertical-align: top;\n",
       "    }\n",
       "\n",
       "    .dataframe thead th {\n",
       "        text-align: right;\n",
       "    }\n",
       "</style>\n",
       "<table border=\"1\" class=\"dataframe\">\n",
       "  <thead>\n",
       "    <tr style=\"text-align: right;\">\n",
       "      <th></th>\n",
       "      <th>0</th>\n",
       "      <th>1</th>\n",
       "      <th>2</th>\n",
       "      <th>3</th>\n",
       "    </tr>\n",
       "  </thead>\n",
       "  <tbody>\n",
       "    <tr>\n",
       "      <th>0</th>\n",
       "      <td>P</td>\n",
       "      <td>-4.33779</td>\n",
       "      <td>-0.77077</td>\n",
       "      <td>0.10955</td>\n",
       "    </tr>\n",
       "    <tr>\n",
       "      <th>1</th>\n",
       "      <td>O</td>\n",
       "      <td>-4.61834</td>\n",
       "      <td>-4.91707</td>\n",
       "      <td>-0.02053</td>\n",
       "    </tr>\n",
       "    <tr>\n",
       "      <th>2</th>\n",
       "      <td>O</td>\n",
       "      <td>-6.50701</td>\n",
       "      <td>-7.37553</td>\n",
       "      <td>-1.05186</td>\n",
       "    </tr>\n",
       "    <tr>\n",
       "      <th>3</th>\n",
       "      <td>O</td>\n",
       "      <td>-8.09753</td>\n",
       "      <td>-5.20275</td>\n",
       "      <td>-0.96990</td>\n",
       "    </tr>\n",
       "    <tr>\n",
       "      <th>4</th>\n",
       "      <td>O</td>\n",
       "      <td>-4.72641</td>\n",
       "      <td>-2.15215</td>\n",
       "      <td>-0.60687</td>\n",
       "    </tr>\n",
       "    <tr>\n",
       "      <th>...</th>\n",
       "      <td>...</td>\n",
       "      <td>...</td>\n",
       "      <td>...</td>\n",
       "      <td>...</td>\n",
       "    </tr>\n",
       "    <tr>\n",
       "      <th>72</th>\n",
       "      <td>H</td>\n",
       "      <td>-1.74541</td>\n",
       "      <td>0.46565</td>\n",
       "      <td>1.93877</td>\n",
       "    </tr>\n",
       "    <tr>\n",
       "      <th>73</th>\n",
       "      <td>H</td>\n",
       "      <td>-2.93712</td>\n",
       "      <td>-3.55285</td>\n",
       "      <td>1.53265</td>\n",
       "    </tr>\n",
       "    <tr>\n",
       "      <th>74</th>\n",
       "      <td>H</td>\n",
       "      <td>0.57589</td>\n",
       "      <td>-0.22914</td>\n",
       "      <td>1.99264</td>\n",
       "    </tr>\n",
       "    <tr>\n",
       "      <th>75</th>\n",
       "      <td>H</td>\n",
       "      <td>-0.61550</td>\n",
       "      <td>-4.24623</td>\n",
       "      <td>1.60047</td>\n",
       "    </tr>\n",
       "    <tr>\n",
       "      <th>76</th>\n",
       "      <td>H</td>\n",
       "      <td>1.14653</td>\n",
       "      <td>-2.58391</td>\n",
       "      <td>1.80187</td>\n",
       "    </tr>\n",
       "  </tbody>\n",
       "</table>\n",
       "<p>77 rows × 4 columns</p>\n",
       "</div>"
      ],
      "text/plain": [
       "    0        1        2        3\n",
       "0   P -4.33779 -0.77077  0.10955\n",
       "1   O -4.61834 -4.91707 -0.02053\n",
       "2   O -6.50701 -7.37553 -1.05186\n",
       "3   O -8.09753 -5.20275 -0.96990\n",
       "4   O -4.72641 -2.15215 -0.60687\n",
       ".. ..      ...      ...      ...\n",
       "72  H -1.74541  0.46565  1.93877\n",
       "73  H -2.93712 -3.55285  1.53265\n",
       "74  H  0.57589 -0.22914  1.99264\n",
       "75  H -0.61550 -4.24623  1.60047\n",
       "76  H  1.14653 -2.58391  1.80187\n",
       "\n",
       "[77 rows x 4 columns]"
      ]
     },
     "execution_count": 12,
     "metadata": {},
     "output_type": "execute_result"
    }
   ],
   "source": [
    "ligand_xyz_file = os.path.join('data', 'remdesivir.xyz')\n",
    "print(ligand_xyz_file)\n",
    "rem_xyz = pd.read_table(ligand_xyz_file, delim_whitespace = True, skiprows = 2, skipfooter = 0, header = None, engine = 'python')\n",
    "rem_xyz"
   ]
  },
  {
   "cell_type": "code",
   "execution_count": 13,
   "metadata": {},
   "outputs": [],
   "source": [
    "elements.to_csv('elements.csv')"
   ]
  },
  {
   "cell_type": "code",
   "execution_count": 14,
   "metadata": {},
   "outputs": [
    {
     "data": {
      "text/html": [
       "<div>\n",
       "<style scoped>\n",
       "    .dataframe tbody tr th:only-of-type {\n",
       "        vertical-align: middle;\n",
       "    }\n",
       "\n",
       "    .dataframe tbody tr th {\n",
       "        vertical-align: top;\n",
       "    }\n",
       "\n",
       "    .dataframe thead th {\n",
       "        text-align: right;\n",
       "    }\n",
       "</style>\n",
       "<table border=\"1\" class=\"dataframe\">\n",
       "  <thead>\n",
       "    <tr style=\"text-align: right;\">\n",
       "      <th></th>\n",
       "      <th>Unnamed: 0</th>\n",
       "      <th>H</th>\n",
       "      <th>He</th>\n",
       "      <th>Li</th>\n",
       "      <th>Be</th>\n",
       "      <th>B</th>\n",
       "    </tr>\n",
       "  </thead>\n",
       "  <tbody>\n",
       "    <tr>\n",
       "      <th>0</th>\n",
       "      <td>name</td>\n",
       "      <td>hydrogen</td>\n",
       "      <td>helium</td>\n",
       "      <td>lithium</td>\n",
       "      <td>beryllium</td>\n",
       "      <td>boron</td>\n",
       "    </tr>\n",
       "    <tr>\n",
       "      <th>1</th>\n",
       "      <td>AN</td>\n",
       "      <td>1</td>\n",
       "      <td>2</td>\n",
       "      <td>3</td>\n",
       "      <td>4</td>\n",
       "      <td>5</td>\n",
       "    </tr>\n",
       "    <tr>\n",
       "      <th>2</th>\n",
       "      <td>mass</td>\n",
       "      <td>1.01</td>\n",
       "      <td>4.0</td>\n",
       "      <td>6.94</td>\n",
       "      <td>9.01</td>\n",
       "      <td>10.81</td>\n",
       "    </tr>\n",
       "    <tr>\n",
       "      <th>3</th>\n",
       "      <td>IE</td>\n",
       "      <td>13.6</td>\n",
       "      <td>24.6</td>\n",
       "      <td>5.4</td>\n",
       "      <td>9.3</td>\n",
       "      <td>8.3</td>\n",
       "    </tr>\n",
       "  </tbody>\n",
       "</table>\n",
       "</div>"
      ],
      "text/plain": [
       "  Unnamed: 0         H      He       Li         Be      B\n",
       "0       name  hydrogen  helium  lithium  beryllium  boron\n",
       "1         AN         1       2        3          4      5\n",
       "2       mass      1.01     4.0     6.94       9.01  10.81\n",
       "3         IE      13.6    24.6      5.4        9.3    8.3"
      ]
     },
     "execution_count": 14,
     "metadata": {},
     "output_type": "execute_result"
    }
   ],
   "source": [
    "pd.read_csv('elements.csv')"
   ]
  },
  {
   "cell_type": "code",
   "execution_count": 15,
   "metadata": {},
   "outputs": [
    {
     "data": {
      "text/html": [
       "<div>\n",
       "<style scoped>\n",
       "    .dataframe tbody tr th:only-of-type {\n",
       "        vertical-align: middle;\n",
       "    }\n",
       "\n",
       "    .dataframe tbody tr th {\n",
       "        vertical-align: top;\n",
       "    }\n",
       "\n",
       "    .dataframe thead th {\n",
       "        text-align: right;\n",
       "    }\n",
       "</style>\n",
       "<table border=\"1\" class=\"dataframe\">\n",
       "  <thead>\n",
       "    <tr style=\"text-align: right;\">\n",
       "      <th></th>\n",
       "      <th>mass (ug)</th>\n",
       "      <th>A-595</th>\n",
       "    </tr>\n",
       "  </thead>\n",
       "  <tbody>\n",
       "    <tr>\n",
       "      <th>0</th>\n",
       "      <td>10</td>\n",
       "      <td>0.094425</td>\n",
       "    </tr>\n",
       "    <tr>\n",
       "      <th>1</th>\n",
       "      <td>20</td>\n",
       "      <td>0.121328</td>\n",
       "    </tr>\n",
       "    <tr>\n",
       "      <th>2</th>\n",
       "      <td>30</td>\n",
       "      <td>0.130231</td>\n",
       "    </tr>\n",
       "    <tr>\n",
       "      <th>3</th>\n",
       "      <td>40</td>\n",
       "      <td>0.131134</td>\n",
       "    </tr>\n",
       "    <tr>\n",
       "      <th>4</th>\n",
       "      <td>60</td>\n",
       "      <td>0.156940</td>\n",
       "    </tr>\n",
       "    <tr>\n",
       "      <th>5</th>\n",
       "      <td>80</td>\n",
       "      <td>0.186746</td>\n",
       "    </tr>\n",
       "    <tr>\n",
       "      <th>6</th>\n",
       "      <td>100</td>\n",
       "      <td>0.198552</td>\n",
       "    </tr>\n",
       "  </tbody>\n",
       "</table>\n",
       "</div>"
      ],
      "text/plain": [
       "   mass (ug)     A-595\n",
       "0         10  0.094425\n",
       "1         20  0.121328\n",
       "2         30  0.130231\n",
       "3         40  0.131134\n",
       "4         60  0.156940\n",
       "5         80  0.186746\n",
       "6        100  0.198552"
      ]
     },
     "execution_count": 15,
     "metadata": {},
     "output_type": "execute_result"
    }
   ],
   "source": [
    "protein_file = os.path.join('data', 'protein_assay.csv')\n",
    "results = pd.read_csv(protein_file)\n",
    "results"
   ]
  },
  {
   "cell_type": "code",
   "execution_count": 16,
   "metadata": {},
   "outputs": [
    {
     "name": "stdout",
     "output_type": "stream",
     "text": [
      "0     10\n",
      "1     20\n",
      "2     30\n",
      "3     40\n",
      "4     60\n",
      "5     80\n",
      "6    100\n",
      "Name: mass (ug), dtype: int64 0    0.094425\n",
      "1    0.121328\n",
      "2    0.130231\n",
      "3    0.131134\n",
      "4    0.156940\n",
      "5    0.186746\n",
      "6    0.198552\n",
      "Name: A-595, dtype: float64\n"
     ]
    }
   ],
   "source": [
    "xdata = results['mass (ug)']\n",
    "ydata = results['A-595']\n",
    "print(xdata,ydata)"
   ]
  },
  {
   "cell_type": "code",
   "execution_count": 17,
   "metadata": {},
   "outputs": [
    {
     "name": "stdout",
     "output_type": "stream",
     "text": [
      "Slope = 0.0011136480176211455/microgram/mL\n",
      "Intercept =  0.09153081057268722\n",
      "R-squared =  0.9715760228371997\n",
      "P value =  4.67252070582932e-05\n",
      "Standard error =  8.518575456701815e-05\n"
     ]
    }
   ],
   "source": [
    "from scipy import stats\n",
    "slope, intercept, r_value, p_value, std_err = stats.linregress(xdata, ydata)\n",
    "print(\"Slope = \", slope, \"/microgram/mL\", sep = \"\")\n",
    "print(\"Intercept = \", intercept)\n",
    "print(\"R-squared = \", r_value**2)\n",
    "print(\"P value = \", p_value)\n",
    "print(\"Standard error = \", std_err)"
   ]
  },
  {
   "cell_type": "code",
   "execution_count": 18,
   "metadata": {},
   "outputs": [
    {
     "data": {
      "text/plain": [
       "[<matplotlib.lines.Line2D at 0x7fac006ca210>]"
      ]
     },
     "execution_count": 18,
     "metadata": {},
     "output_type": "execute_result"
    },
    {
     "data": {
      "image/png": "[encoded data removed]",
      "text/plain": [
       "<Figure size 720x432 with 1 Axes>"
      ]
     },
     "metadata": {
      "needs_background": "light"
     },
     "output_type": "display_data"
    }
   ],
   "source": [
    "import matplotlib.pyplot as plt\n",
    "plt.figure(figsize = (10,6))\n",
    "plt.scatter(xdata, ydata, label = 'Experimental data')\n",
    "plt.plot(xdata, slope * xdata + intercept)"
   ]
  },
  {
   "cell_type": "markdown",
   "metadata": {},
   "source": [
    "## Scatter plots with confidence intervals\n",
    "\n",
    "To create a scatter plot with a confidence interval, you can use the *seaborn* library. Please note that seaborn has dependencies on other libraries (numpy, scipy, pandas, and matplotlib), so these must be imported before you can use seaborn. \n",
    "\n",
    "The following plot is based on resources at [Statology](https://www.statology.org/scatterplot-with-regression-line-python/). I prefer this plot to the simple linear regression above because it make the reliable regions of the calibration curve more obvious by displaying the 95% confidence interval. It also emphasizes the valid range for calculations based on the plot - that we can't use this curve to analyze absorbance values below 0.10 or above 0.20."
   ]
  },
  {
   "cell_type": "code",
   "execution_count": 19,
   "metadata": {
    "scrolled": true
   },
   "outputs": [
    {
     "data": {
      "text/plain": [
       "<matplotlib.axes._subplots.AxesSubplot at 0x7fac086d8c10>"
      ]
     },
     "execution_count": 19,
     "metadata": {},
     "output_type": "execute_result"
    },
    {
     "data": {
      "image/png": "[encoded data removed]",
      "text/plain": [
       "<Figure size 432x288 with 1 Axes>"
      ]
     },
     "metadata": {
      "needs_background": "light"
     },
     "output_type": "display_data"
    }
   ],
   "source": [
    "import seaborn as sns\n",
    "\n",
    "sns.regplot(xdata, ydata)"
   ]
  },
  {
   "cell_type": "markdown",
   "metadata": {},
   "source": [
    "Now let's try this same plot with more scattered data to see the clearly "
   ]
  },
  {
   "cell_type": "code",
   "execution_count": 30,
   "metadata": {},
   "outputs": [
    {
     "name": "stdout",
     "output_type": "stream",
     "text": [
      "0     10\n",
      "1     20\n",
      "2     30\n",
      "3     40\n",
      "4     60\n",
      "5     80\n",
      "6    100\n",
      "Name: mass (ug), dtype: int64 0    0.091425\n",
      "1    0.126328\n",
      "2    0.133031\n",
      "3    0.145134\n",
      "4    0.145140\n",
      "5    0.198546\n",
      "6    0.187152\n",
      "Name: A-595, dtype: float64\n"
     ]
    }
   ],
   "source": [
    "protein_file2 = os.path.join('data', 'protein_assay2.csv')\n",
    "results = pd.read_csv(protein_file2)\n",
    "results\n",
    "xdata = results['mass (ug)']\n",
    "ydata = results['A-595']\n",
    "print(xdata,ydata)"
   ]
  },
  {
   "cell_type": "code",
   "execution_count": 31,
   "metadata": {},
   "outputs": [
    {
     "name": "stdout",
     "output_type": "stream",
     "text": [
      "Slope = 0.0010289343612334802/microgram/mL\n",
      "Intercept =  0.09670261674008811\n",
      "R-squared =  0.8597652528643677\n",
      "P value =  0.0026370189219552267\n",
      "Standard error =  0.0001858405755403407\n"
     ]
    }
   ],
   "source": [
    "slope, intercept, r_value, p_value, std_err = stats.linregress(xdata, ydata)\n",
    "print(\"Slope = \", slope, \"/microgram/mL\", sep = \"\")\n",
    "print(\"Intercept = \", intercept)\n",
    "print(\"R-squared = \", r_value**2)\n",
    "print(\"P value = \", p_value)\n",
    "print(\"Standard error = \", std_err)"
   ]
  },
  {
   "cell_type": "code",
   "execution_count": 38,
   "metadata": {},
   "outputs": [
    {
     "data": {
      "text/plain": [
       "<matplotlib.axes._subplots.AxesSubplot at 0x7fab98066cd0>"
      ]
     },
     "execution_count": 38,
     "metadata": {},
     "output_type": "execute_result"
    },
    {
     "data": {
      "image/png": "[encoded data removed]",
      "text/plain": [
       "<Figure size 432x288 with 1 Axes>"
      ]
     },
     "metadata": {
      "needs_background": "light"
     },
     "output_type": "display_data"
    }
   ],
   "source": [
    "import seaborn as sns\n",
    "\n",
    "sns.regplot(xdata, ydata)"
   ]
  },
  {
   "cell_type": "markdown",
   "metadata": {},
   "source": [
    "### Labeling your graph\n",
    "Now we're going to add some additional information to the graph using tools from matplotlib.pyplot."
   ]
  },
  {
   "cell_type": "code",
   "execution_count": 45,
   "metadata": {},
   "outputs": [
    {
     "data": {
      "text/plain": [
       "<matplotlib.axes._subplots.AxesSubplot at 0x7fabe8aeff10>"
      ]
     },
     "execution_count": 45,
     "metadata": {},
     "output_type": "execute_result"
    },
    {
     "data": {
      "image/png": "[encoded data removed]",
      "text/plain": [
       "<Figure size 432x288 with 1 Axes>"
      ]
     },
     "metadata": {
      "needs_background": "light"
     },
     "output_type": "display_data"
    }
   ],
   "source": [
    "import seaborn as sns\n",
    "\n",
    "fig, ax = plt.subplots()   # using functions from matplotlib.pyplot\n",
    "ax.set(title='Bradford Protein Assay')\n",
    "ax.annotate('y = 0.00103x + 0.097', xy=(40, 0.1))\n",
    "sns.regplot(xdata, ydata)"
   ]
  },
  {
   "cell_type": "code",
   "execution_count": null,
   "metadata": {},
   "outputs": [],
   "source": []
  }
 ],
 "metadata": {
  "kernelspec": {
   "display_name": "Python 3",
   "language": "python",
   "name": "python3"
  },
  "language_info": {
   "codemirror_mode": {
    "name": "ipython",
    "version": 3
   },
   "file_extension": ".py",
   "mimetype": "text/x-python",
   "name": "python",
   "nbconvert_exporter": "python",
   "pygments_lexer": "ipython3",
   "version": "3.7.6"
  }
 },
 "nbformat": 4,
 "nbformat_minor": 4
}
