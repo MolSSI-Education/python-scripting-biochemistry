{
 "cells": [
  {
   "cell_type": "markdown",
   "metadata": {},
   "source": [
    "Non-Linear Regression Part 2\n",
    "========================"
   ]
  },
  {
   "cell_type": "markdown",
   "metadata": {},
   "source": [
    "<div class=\"overview-this-is-a-title overview\">\n",
    "<p class=\"overview-title\">Overview</p>\n",
    "<p>Questions</p>\n",
    "    <ul>\n",
    "        <li> How can I perform statistically robust non-linear regression in a Jupyter notebook?</li>\n",
    "    </ul>\n",
    "<p>Objectives:</p>\n",
    "    <ul>\n",
    "        <li> Import data from a csv file\n",
    "        <li> Create a function based on the equation to be fitted\n",
    "        <li> Generate the best-fit curve with parameters and statistical descriptors\n",
    "        <li> Create plots of the data\n",
    "    </ul>\n",
    "</div>"
   ]
  },
  {
   "cell_type": "markdown",
   "metadata": {},
   "source": [
    "### Data Fitting\n",
    "In an earlier module, you used the `linregress` function from the scipy.stats library to perform linear regression. This is sufficient if your looking at linear fit. Python contains tools that also enable you to fit data to an equation that you have defined, including two or more paramaters. So it is ideal for nonlinear curve fitting to the Michaelis-Menten equation.\n",
    "\n",
    "In this module, we will use some familiar tools: importing csv data into a pandas dataframe and plotting results using the matplotlib.pyplot library. We will also create a function based on the Michaelis-Menten equation. The exciting part is to learn to fit the data to the function using the curve_fit function from scipy.optimize.\n",
    "\n",
    "Here are the steps in our process:\n",
    "\n",
    "1. Import the libraries and functions that you need, including curve_fit from scipy.optimize.\n",
    "1. Set up a pandas dataframe from the MM_data.csv file you saved from the previous module.\n",
    "1. Create variables to contain the data your independent variable and dependent variables.\n",
    "1. Create a function for the equation you want to fit. The function should accept as inputs the independent variable(s) and all the parameters to be fit.\n",
    "1. Use the function curve_fit to fit your data.\n",
    "1. Extract the fit parameters from the output of curve_fit.\n",
    "1. Use your function to calculate y values using your fit model to see how well your model fits the data.\n",
    "1. Graph your original data and the fit equation."
   ]
  },
  {
   "cell_type": "code",
   "execution_count": 1,
   "metadata": {},
   "outputs": [],
   "source": [
    "# Import the libraries\n",
    "import os\n",
    "import pandas as pd\n",
    "import numpy as np\n",
    "import matplotlib.pyplot as plt\n",
    "from scipy.optimize import curve_fit\n",
    "from scipy import stats"
   ]
  },
  {
   "cell_type": "markdown",
   "metadata": {},
   "source": [
    "Make sure that you are in the correct directory to do this work. The commands are slightly different depending on your operating system.\n",
    "\n",
    "Mac or Linux:  cd ~/Desktop/python-scripting-biochemistry  \n",
    "Windows 10: cd c:\\Users\\username\\Desktop\\python-scripting-biochemistry"
   ]
  },
  {
   "cell_type": "code",
   "execution_count": 2,
   "metadata": {},
   "outputs": [
    {
     "name": "stdout",
     "output_type": "stream",
     "text": [
      "/Users/pac8612/Desktop/python-scripting-biochemistry\n"
     ]
    }
   ],
   "source": [
    "cd ~/Desktop/python-scripting-biochemistry/"
   ]
  },
  {
   "cell_type": "markdown",
   "metadata": {},
   "source": [
    "### Review the Michaelis-Menten equation\n",
    "\n",
    "The Michaelis-Menten equation describes kinetics for enzyme-catalyzed reactions. We will use the simplest version of the equation, based on initial reaction velocities with a single substrate.\n",
    "\n",
    "In our equation,  there are two parameters, V$_{max}$ (maximum velocity) and K$_m$ (the Michaelis constant, which equals the substrate concentration at half maximal velocity), an independent variable, \\[S\\] = substrate concentration, and a dependent variable, V$_i$, the initial velocity.\n",
    "\n",
    "$$\n",
    "V_i = \\frac{V_{max} * [S]}{K_m + [S]}\n",
    "$$\n",
    "\n",
    "We will use the following variables for our equation:\n",
    "\n",
    "- Vmax = the maximum velocity\n",
    "- Km = the Michaelis constant\n",
    "- SubConc = substrate concentration\n",
    "- Vi = initial velocity"
   ]
  },
  {
   "cell_type": "code",
   "execution_count": 3,
   "metadata": {},
   "outputs": [
    {
     "data": {
      "text/html": [
       "<div>\n",
       "<style scoped>\n",
       "    .dataframe tbody tr th:only-of-type {\n",
       "        vertical-align: middle;\n",
       "    }\n",
       "\n",
       "    .dataframe tbody tr th {\n",
       "        vertical-align: top;\n",
       "    }\n",
       "\n",
       "    .dataframe thead th {\n",
       "        text-align: right;\n",
       "    }\n",
       "</style>\n",
       "<table border=\"1\" class=\"dataframe\">\n",
       "  <thead>\n",
       "    <tr style=\"text-align: right;\">\n",
       "      <th></th>\n",
       "      <th>pNPP (mM)</th>\n",
       "      <th>slopes</th>\n",
       "      <th>initial velocities</th>\n",
       "    </tr>\n",
       "  </thead>\n",
       "  <tbody>\n",
       "    <tr>\n",
       "      <th>0</th>\n",
       "      <td>20.0</td>\n",
       "      <td>0.514091</td>\n",
       "      <td>34.272718</td>\n",
       "    </tr>\n",
       "    <tr>\n",
       "      <th>1</th>\n",
       "      <td>10.0</td>\n",
       "      <td>0.503140</td>\n",
       "      <td>33.542678</td>\n",
       "    </tr>\n",
       "    <tr>\n",
       "      <th>2</th>\n",
       "      <td>7.0</td>\n",
       "      <td>0.470435</td>\n",
       "      <td>31.362310</td>\n",
       "    </tr>\n",
       "    <tr>\n",
       "      <th>3</th>\n",
       "      <td>4.0</td>\n",
       "      <td>0.417021</td>\n",
       "      <td>27.801416</td>\n",
       "    </tr>\n",
       "    <tr>\n",
       "      <th>4</th>\n",
       "      <td>2.0</td>\n",
       "      <td>0.342445</td>\n",
       "      <td>22.829652</td>\n",
       "    </tr>\n",
       "  </tbody>\n",
       "</table>\n",
       "</div>"
      ],
      "text/plain": [
       "   pNPP (mM)    slopes  initial velocities\n",
       "0       20.0  0.514091           34.272718\n",
       "1       10.0  0.503140           33.542678\n",
       "2        7.0  0.470435           31.362310\n",
       "3        4.0  0.417021           27.801416\n",
       "4        2.0  0.342445           22.829652"
      ]
     },
     "execution_count": 3,
     "metadata": {},
     "output_type": "execute_result"
    }
   ],
   "source": [
    "# Set up a pandas dataframe from the MM_data.csv file you saved from the previous module.\n",
    "# create the filehandle\n",
    "datafile = os.path.join('biochemist-python', 'chapters', 'data', 'MM_data.csv')\n",
    "\n",
    "# import the data\n",
    "rates_df = pd.read_csv(datafile)\n",
    "\n",
    "# inspect the data to make sure you have substrate concentrations and initial velocities\n",
    "rates_df.head()"
   ]
  },
  {
   "cell_type": "code",
   "execution_count": 4,
   "metadata": {},
   "outputs": [
    {
     "data": {
      "text/plain": [
       "[<matplotlib.lines.Line2D at 0x7f9ce8619c10>]"
      ]
     },
     "execution_count": 4,
     "metadata": {},
     "output_type": "execute_result"
    },
    {
     "data": {
      "image/png": "[encoded data removed]",
      "text/plain": [
       "<Figure size 432x288 with 1 Axes>"
      ]
     },
     "metadata": {
      "needs_background": "light"
     },
     "output_type": "display_data"
    }
   ],
   "source": [
    "# Create variables to contain the data your independent variable and dependent variables.\n",
    "ydata = rates_df['initial velocities']\n",
    "xdata = rates_df['pNPP (mM)']\n",
    "\n",
    "# Inspect your data to make sure it looks like a Michaelis-Menten plot\n",
    "plt.plot(xdata, ydata, 'o', label='data')"
   ]
  },
  {
   "cell_type": "code",
   "execution_count": 5,
   "metadata": {},
   "outputs": [],
   "source": [
    "# Create a function for the equation you want to fit. The function should accept \n",
    "# as inputs the independent variable(s) and all the parameters to be fit.\n",
    "def MM(SubConc, Vmax, Km):\n",
    "    Vi = (Vmax * SubConc)/(Km + SubConc)\n",
    "    return Vi"
   ]
  },
  {
   "cell_type": "markdown",
   "metadata": {},
   "source": [
    "### Common errors \n",
    "Python is very particular about the use of parentheses - (), square brackets - [], and braces or curly brackets {}. \n",
    "\n",
    "Parentheses are used to pass arguments to functions. For example, \n",
    "```python\n",
    "Vi = MM(xdata, Vmax, Km)\n",
    "```\n",
    "\n",
    "Square brackets are used to create lists. In this example, the square brackets are used to call a series from the rates_df dataframe.\n",
    "```python\n",
    "xdata = rates_df['pNPP (mM)']\n",
    "```\n",
    "\n",
    "Curly brackets or braces are used dictionaries or sets. \n",
    "```python\n",
    "a_dict = {'Brady': 12, 'Evans': 13}\n",
    "```\n",
    "You can learn more about [dictionaries in the python online manual](https://docs.python.org/3/library/stdtypes.html#mapping-types-dict). \n",
    "\n",
    "In the next cell, we will see the error that results when we use parentheses by mistake rather than square brackets in our attempt to assign a series from a dataframe to a variable. The error message is\n",
    "\n",
    "```python\n",
    "TypeError: 'DataFrame' object is not callable\n",
    "```\n",
    "\n",
    "The term `callable` here refers to something that happens with a function.\n",
    "\n",
    "Here are two very useful sources when you encounter errors: [Stack Overflow](https://stackoverflow.com) and [GeeksforGeeks](https://www.geeksforgeeks.org). In fact, if you just paste your error in quotes (e.g., \"TypeError: 'DataFrame' object is not callable\") into a search engine, you are likely to find hits from both sources."
   ]
  },
  {
   "cell_type": "code",
   "execution_count": 6,
   "metadata": {},
   "outputs": [
    {
     "ename": "TypeError",
     "evalue": "'DataFrame' object is not callable",
     "output_type": "error",
     "traceback": [
      "\u001b[0;31m---------------------------------------------------------------------------\u001b[0m",
      "\u001b[0;31mTypeError\u001b[0m                                 Traceback (most recent call last)",
      "\u001b[0;32m<ipython-input-6-694e0dd4e545>\u001b[0m in \u001b[0;36m<module>\u001b[0;34m\u001b[0m\n\u001b[0;32m----> 1\u001b[0;31m \u001b[0mydata\u001b[0m \u001b[0;34m=\u001b[0m \u001b[0mrates_df\u001b[0m\u001b[0;34m(\u001b[0m\u001b[0;34m'initial velocities'\u001b[0m\u001b[0;34m)\u001b[0m \u001b[0;31m# Common errors and how to read them\u001b[0m\u001b[0;34m\u001b[0m\u001b[0;34m\u001b[0m\u001b[0m\n\u001b[0m",
      "\u001b[0;31mTypeError\u001b[0m: 'DataFrame' object is not callable"
     ]
    }
   ],
   "source": [
    "ydata = rates_df('initial velocities') # Common errors and how to read them"
   ]
  },
  {
   "cell_type": "code",
   "execution_count": 7,
   "metadata": {},
   "outputs": [
    {
     "data": {
      "text/plain": [
       "0     95.238095\n",
       "1     90.909091\n",
       "2     87.500000\n",
       "3     80.000000\n",
       "4     66.666667\n",
       "5     50.000000\n",
       "6     41.176471\n",
       "7     28.571429\n",
       "8     16.666667\n",
       "9      9.090909\n",
       "10     4.761905\n",
       "Name: pNPP (mM), dtype: float64"
      ]
     },
     "execution_count": 7,
     "metadata": {},
     "output_type": "execute_result"
    }
   ],
   "source": [
    "MM(rates_df['pNPP (mM)'], 100, 1)"
   ]
  },
  {
   "cell_type": "markdown",
   "metadata": {},
   "source": [
    "### Using curve_fit\n",
    "The syntax for the curve_fit function from scipy.optimize is\n",
    "```python\n",
    "popt, pcov = curve_fit(function, xdata, ydata)\n",
    "```\n",
    "| Term | Signficance |\n",
    "| :----: | :---- |\n",
    "| popt | optimized parameters |\n",
    "| pcov | a 2D matrix of the covariance for the curve fit |\n",
    "| curve_fit | the function from scipy.optimize |\n",
    "| function | the function that we are asking curve_fit to fit the data to |\n",
    "| x | a data array for the independent variable |\n",
    "| y | a data array for the dependent variable |\n",
    "\n",
    "Let's review the function, `MM`, that we defined above, to clearly distinguish the data that are fed into `curve_fit` and `MM`.\n",
    "\n",
    "```python\n",
    "def MM(SubConc, Vmax, Km):\n",
    "    Vi = (Vmax * SubConc)/(Km + SubConc)\n",
    "    return Vi\n",
    "```\n",
    "\n",
    "You need to pass three pieces of data to `MM` to predict the initial velocity for an enzyme-catalyzed reaction: the substrate concentration, and values for $V_{max}$ and $K_m$.\n",
    "\n",
    "scipy.optimize.curve_fit() can then fit the data to the function you have defined. In an earlier module, there was a discussion of different ways to linearize data so that linear regression could be used, for example, taking logs of the molecular weights of protein standards to plot versus relative migration for an SDS-PAGE gel. You can now fit the data directly using curve_fit."
   ]
  },
  {
   "cell_type": "code",
   "execution_count": 8,
   "metadata": {},
   "outputs": [],
   "source": [
    "# Use the function curve_fit to fit your data.\n",
    "popt, pcov = curve_fit(MM, xdata, ydata)"
   ]
  },
  {
   "cell_type": "markdown",
   "metadata": {},
   "source": [
    "### Extracting the output from curve_fit\n",
    "There are two outputs from curve_fit - popt and pcov. These are typical names that help to point to the contents of the variable, but you can choose any variable name you like.\n",
    "1. popt = the optimized parameters. In our case, the two parameters are $V_{max}$ and $K_m$. Remember that python starts counting at 0, so popt[0] = $V_{max}$ and popt[1] = $K_m$. \n",
    "1. pcov = an nD array of the covariance for the parameters, where n is the number of parameters. In our case, n = 2. \n",
    "\n",
    "So we can extract the parameters just by setting variables equal to them. The covariance matrix can be used to extract standard errors or standard deviations for each of the parameters. In our case, we will calculate one standard deviation for each parameter. Note that we use two numpy functions (sqrt and diag) to calculate the standard deviation values from the 2D matrix for pcov."
   ]
  },
  {
   "cell_type": "code",
   "execution_count": 10,
   "metadata": {},
   "outputs": [
    {
     "name": "stdout",
     "output_type": "stream",
     "text": [
      "Vmax for this reaction: 36.66 +/- 0.67\n",
      "Km for this reaction: 1.19 +/- 0.08\n"
     ]
    }
   ],
   "source": [
    "# Extract the fit parameters from the output of curve_fit.\n",
    "Vmax = popt[0]\n",
    "Km = popt[1]\n",
    "\n",
    "# Extract one standard deviation for each parameter\n",
    "stdev = np.sqrt(np.diag(pcov)) # returns one standard deviation for each parameter\n",
    "print(f'Vmax for this reaction: {Vmax:.2f} +/- {stdev[0]:.2f}')\n",
    "print(f'Km for this reaction: {Km:.2f} +/- {stdev[1]:.2f}')"
   ]
  },
  {
   "cell_type": "markdown",
   "metadata": {},
   "source": [
    "### Plotting the data\n",
    "At this point, you want to compare your plotted data with the curve based on the parameters from curve_fit. We'll do this in two stages. First, we'll use the MM function to calculate y values using your fit model to see how well your model fits the data. "
   ]
  },
  {
   "cell_type": "code",
   "execution_count": 12,
   "metadata": {},
   "outputs": [
    {
     "data": {
      "text/plain": [
       "<matplotlib.legend.Legend at 0x7f9ce0846250>"
      ]
     },
     "execution_count": 12,
     "metadata": {},
     "output_type": "execute_result"
    },
    {
     "data": {
      "image/png": "[encoded data removed]",
      "text/plain": [
       "<Figure size 432x288 with 1 Axes>"
      ]
     },
     "metadata": {
      "needs_background": "light"
     },
     "output_type": "display_data"
    }
   ],
   "source": [
    "fit_y = MM(xdata, Vmax, Km) # calculates y values based on the curve_fit parameters\n",
    "# using your fit model to see how well your model fits the data.\n",
    "\n",
    "# Graph your original data and the fit equation\n",
    "plt.plot(xdata, ydata, 'o', label='data') # the experimental data\n",
    "plt.plot(xdata, fit_y, '-', label='fit') # the fit equation\n",
    "plt.legend()"
   ]
  },
  {
   "cell_type": "markdown",
   "metadata": {},
   "source": [
    "### Smoothing the plot\n",
    "You probably noticed that the curve appears a bit disjointed, because it provides values only at the selected concentrations of the substrate. A fit curve based on 1000 x values will be much smoother. To do this, we first use the numpy linspace function to create a new list of 1000 x values ranging from the minimum xdata value (using the numpy min function) to the maximum xdata value (using the numpy max function). Then we generate a fit curve using the MM function. Finally we add the experimental data to the plot."
   ]
  },
  {
   "cell_type": "code",
   "execution_count": 19,
   "metadata": {},
   "outputs": [
    {
     "data": {
      "text/plain": [
       "Text(7.5, 16, 'Km = 1.19 +/- 0.08')"
      ]
     },
     "execution_count": 19,
     "metadata": {},
     "output_type": "execute_result"
    },
    {
     "data": {
      "image/png": "[encoded data removed]",
      "text/plain": [
       "<Figure size 432x288 with 1 Axes>"
      ]
     },
     "metadata": {
      "needs_background": "light"
     },
     "output_type": "display_data"
    }
   ],
   "source": [
    "# To generate a smoother fitted curve\n",
    "smooth_x = np.linspace(np.min(xdata), np.max(xdata), 1000) # new x value range\n",
    "fit_y = MM(xdata, Vmax, Km) # y values for all 1000 x values\n",
    "plt.plot(xdata, ydata, 'o', label='data') # plot of the experimental data\n",
    "plt.plot(smooth_x, MM(smooth_x, Vmax, Km), 'b', label = 'fit') # plot of the fit data\n",
    "plt.legend() # legend added\n",
    "\n",
    "# solution to the first exercise\n",
    "\n",
    "plt.xlabel('[pNPP] (mM)')  # x-axis label\n",
    "plt.ylabel('V$_i$ ($\\mu$M/min)')  # y-axis label in LaTeX _{595} makes 595 the subscripts\n",
    "plt.annotate(F'Vmax = {Vmax:.2f} +/- {stdev[0]:.2f}', xy = (7.5, 20))\n",
    "plt.annotate(F'Km = {Km:.2f} +/- {stdev[1]:.2f}', xy = (7.5, 16))"
   ]
  },
  {
   "cell_type": "markdown",
   "metadata": {},
   "source": [
    "<div class=\"exercise-this-is-a-title exercise\">\n",
    "<p class=\"exercise-title\">Exercise</p>\n",
    "    <p> Use what you learned in previous modules to label the x-axis and y-axis and to insert the values for $V_{max}$ and $K_m$ with their standard deviations in the white space on the graph. Change the symbol for the substrate concentrations to a red triangle </p>\n",
    "    \n",
    "```{admonition} Solution\n",
    ":class: dropdown\n",
    "\n",
    "```python\n",
    "plt.xlabel('[pNPP] (mM)')  # x-axis label\n",
    "plt.ylabel('V$_i$ ($\\mu$M/min)')  # y-axis label in LaTeX _{595} makes 595 the subscripts\n",
    "plt.annotate(F'Vmax = {Vmax:.2f} +/- {stdev[0]:.2f}', xy = (7.5, 20))\n",
    "plt.annotate(F'Km = {Km:.2f} +/- {stdev[1]:.2f}', xy = (7.5, 16))\n",
    "```\n",
    "    \n",
    "</div>"
   ]
  },
  {
   "cell_type": "markdown",
   "metadata": {},
   "source": [
    "<div class=\"exercise-this-is-a-title exercise\">\n",
    "<p class=\"exercise-title\">Take Home Exercise</p>\n",
    "    <p> If you want to dig deeper, you can complete the curve fitting analysis of the chymotrypsin data from the previous module. You may need to adjust some of the details to generate high quality output.</p>\n",
    "    \n",
    "<b>I'm not sure if we need this as well. If this is at the end of the workshop, I'm inclined to give them something easy to do.</b>\n",
    "    \n",
    "```{admonition} Solution\n",
    ":class: dropdown\n",
    "\n",
    "```python\n",
    "# create the filehandle\n",
    "datafile = os.path.join('biochemist-python', 'chapters', 'data', 'chymo_MM_data.csv')\n",
    "# import the data\n",
    "c_rates_df = pd.read_csv(datafile)\n",
    "c_rates_df.head()\n",
    "    \n",
    "# A look at the data\n",
    "c_ydata = c_rates_df['Initial Velocities']\n",
    "c_xdata = c_rates_df['pNPA (mM)']\n",
    "plt.plot(c_xdata, c_ydata, 'o', label='data')   \n",
    "    \n",
    "popt, pcov = curve_fit(MM, c_xdata, c_ydata)\n",
    "Vmax = popt[0]\n",
    "Km = popt[1]\n",
    "perr = np.sqrt(np.diag(pcov)) # returns one standard deviation for each parameter\n",
    "print(f'Vmax for this reaction: {Vmax:.4f} +/- {perr[0]:.4f}')\n",
    "print(f'Km for this reaction: {Km:.4f} +/- {perr[1]:.4f}')\n",
    "    \n",
    "smooth_x = np.linspace(np.min(c_xdata), np.max(c_xdata), 1000)\n",
    "fit_y = MM(c_xdata, Vmax, Km)\n",
    "plt.plot(c_xdata, c_ydata, 'o', label='data')\n",
    "plt.plot(smooth_x, MM(smooth_x, Vmax, Km), 'b', label = 'fit')\n",
    "plt.legend()\n",
    "```\n",
    "    \n",
    "</div>"
   ]
  },
  {
   "cell_type": "code",
   "execution_count": 21,
   "metadata": {},
   "outputs": [
    {
     "data": {
      "text/html": [
       "<div>\n",
       "<style scoped>\n",
       "    .dataframe tbody tr th:only-of-type {\n",
       "        vertical-align: middle;\n",
       "    }\n",
       "\n",
       "    .dataframe tbody tr th {\n",
       "        vertical-align: top;\n",
       "    }\n",
       "\n",
       "    .dataframe thead th {\n",
       "        text-align: right;\n",
       "    }\n",
       "</style>\n",
       "<table border=\"1\" class=\"dataframe\">\n",
       "  <thead>\n",
       "    <tr style=\"text-align: right;\">\n",
       "      <th></th>\n",
       "      <th>pNPA (mM)</th>\n",
       "      <th>slopes</th>\n",
       "      <th>Initial Velocities</th>\n",
       "    </tr>\n",
       "  </thead>\n",
       "  <tbody>\n",
       "    <tr>\n",
       "      <th>0</th>\n",
       "      <td>1.0000</td>\n",
       "      <td>0.000557</td>\n",
       "      <td>0.030412</td>\n",
       "    </tr>\n",
       "    <tr>\n",
       "      <th>1</th>\n",
       "      <td>0.5000</td>\n",
       "      <td>0.000539</td>\n",
       "      <td>0.029437</td>\n",
       "    </tr>\n",
       "    <tr>\n",
       "      <th>2</th>\n",
       "      <td>0.2500</td>\n",
       "      <td>0.000500</td>\n",
       "      <td>0.027293</td>\n",
       "    </tr>\n",
       "    <tr>\n",
       "      <th>3</th>\n",
       "      <td>0.1250</td>\n",
       "      <td>0.000450</td>\n",
       "      <td>0.024563</td>\n",
       "    </tr>\n",
       "    <tr>\n",
       "      <th>4</th>\n",
       "      <td>0.0625</td>\n",
       "      <td>0.000511</td>\n",
       "      <td>0.027877</td>\n",
       "    </tr>\n",
       "  </tbody>\n",
       "</table>\n",
       "</div>"
      ],
      "text/plain": [
       "   pNPA (mM)    slopes  Initial Velocities\n",
       "0     1.0000  0.000557            0.030412\n",
       "1     0.5000  0.000539            0.029437\n",
       "2     0.2500  0.000500            0.027293\n",
       "3     0.1250  0.000450            0.024563\n",
       "4     0.0625  0.000511            0.027877"
      ]
     },
     "execution_count": 21,
     "metadata": {},
     "output_type": "execute_result"
    }
   ],
   "source": [
    "# create the filehandle\n",
    "datafile = os.path.join('biochemist-python', 'chapters', 'data', 'chymo_MM_data.csv')\n",
    "# import the data\n",
    "c_rates_df = pd.read_csv(datafile)\n",
    "c_rates_df.head()"
   ]
  },
  {
   "cell_type": "code",
   "execution_count": 22,
   "metadata": {},
   "outputs": [
    {
     "data": {
      "text/plain": [
       "[<matplotlib.lines.Line2D at 0x7f9cf882ca50>]"
      ]
     },
     "execution_count": 22,
     "metadata": {},
     "output_type": "execute_result"
    },
    {
     "data": {
      "image/png": "[encoded data removed]",
      "text/plain": [
       "<Figure size 432x288 with 1 Axes>"
      ]
     },
     "metadata": {
      "needs_background": "light"
     },
     "output_type": "display_data"
    }
   ],
   "source": [
    "# A look at our data\n",
    "c_ydata = c_rates_df['Initial Velocities']\n",
    "c_xdata = c_rates_df['pNPA (mM)']\n",
    "plt.plot(c_xdata, c_ydata, 'o', label='data')"
   ]
  },
  {
   "cell_type": "code",
   "execution_count": 23,
   "metadata": {},
   "outputs": [
    {
     "name": "stdout",
     "output_type": "stream",
     "text": [
      "Vmax for this reaction: 0.0300 +/- 0.0012\n",
      "Km for this reaction: 0.0097 +/- 0.0020\n"
     ]
    }
   ],
   "source": [
    "popt, pcov = curve_fit(MM, c_xdata, c_ydata)\n",
    "Vmax = popt[0]\n",
    "Km = popt[1]\n",
    "perr = np.sqrt(np.diag(pcov)) # returns one standard deviation for each parameter\n",
    "print(f'Vmax for this reaction: {Vmax:.4f} +/- {perr[0]:.4f}')\n",
    "print(f'Km for this reaction: {Km:.4f} +/- {perr[1]:.4f}')"
   ]
  },
  {
   "cell_type": "code",
   "execution_count": 24,
   "metadata": {},
   "outputs": [
    {
     "data": {
      "text/plain": [
       "<matplotlib.legend.Legend at 0x7f9cf87e59d0>"
      ]
     },
     "execution_count": 24,
     "metadata": {},
     "output_type": "execute_result"
    },
    {
     "data": {
      "image/png": "[encoded data removed]",
      "text/plain": [
       "<Figure size 432x288 with 1 Axes>"
      ]
     },
     "metadata": {
      "needs_background": "light"
     },
     "output_type": "display_data"
    }
   ],
   "source": [
    "smooth_x = np.linspace(np.min(c_xdata), np.max(c_xdata), 1000)\n",
    "fit_y = MM(c_xdata, Vmax, Km)\n",
    "plt.plot(c_xdata, c_ydata, 'o', label='data')\n",
    "plt.plot(smooth_x, MM(smooth_x, Vmax, Km), 'b', label = 'fit')\n",
    "plt.legend()"
   ]
  },
  {
   "cell_type": "code",
   "execution_count": null,
   "metadata": {},
   "outputs": [],
   "source": []
  }
 ],
 "metadata": {
  "kernelspec": {
   "display_name": "Python 3",
   "language": "python",
   "name": "python3"
  },
  "language_info": {
   "codemirror_mode": {
    "name": "ipython",
    "version": 3
   },
   "file_extension": ".py",
   "mimetype": "text/x-python",
   "name": "python",
   "nbconvert_exporter": "python",
   "pygments_lexer": "ipython3",
   "version": "3.7.6"
  }
 },
 "nbformat": 4,
 "nbformat_minor": 5
}
