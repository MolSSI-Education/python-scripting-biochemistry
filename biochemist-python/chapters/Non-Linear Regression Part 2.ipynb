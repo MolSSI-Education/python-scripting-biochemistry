{
 "cells": [
  {
   "cell_type": "markdown",
   "metadata": {},
   "source": [
    "Non-Linear Regression Part 2\n",
    "========================"
   ]
  },
  {
   "cell_type": "markdown",
   "metadata": {},
   "source": [
    "<div class=\"overview-this-is-a-title overview\">\n",
    "<p class=\"overview-title\">Overview</p>\n",
    "<p>Questions</p>\n",
    "    <ul>\n",
    "        <li> How can I perform statistically robust non-linear regression in a Jupyter notebook?</li>\n",
    "    </ul>\n",
    "<p>Objectives:</p>\n",
    "    <ul>\n",
    "        <li> Import data from a csv file\n",
    "        <li> Create a function based on the equation to be fitted\n",
    "        <li> Generate the best-fit curve with parameters and statistical descriptors\n",
    "        <li> Create plots of the data\n",
    "    </ul>\n",
    "</div>"
   ]
  },
  {
   "cell_type": "markdown",
   "metadata": {},
   "source": [
    "## Something old, something new\n",
    "Old: import csv data to a pandas dataframe\n",
    "New: create a function based on an equation\n",
    "New: use tools in SciPy to fit the data to the function\n",
    "Old: plot the data to display your results"
   ]
  },
  {
   "cell_type": "code",
   "execution_count": 1,
   "metadata": {},
   "outputs": [],
   "source": [
    "# Import the libraries\n",
    "import os\n",
    "import pandas as pd\n",
    "import numpy as np\n",
    "import matplotlib.pyplot as plt\n",
    "from scipy.optimize import curve_fit\n",
    "from scipy import stats"
   ]
  },
  {
   "cell_type": "code",
   "execution_count": 2,
   "metadata": {},
   "outputs": [
    {
     "name": "stdout",
     "output_type": "stream",
     "text": [
      "/Users/pac8612/Desktop/python-scripting-biochemistry\n"
     ]
    }
   ],
   "source": [
    "cd ~/Desktop/python-scripting-biochemistry/"
   ]
  },
  {
   "cell_type": "markdown",
   "metadata": {},
   "source": [
    "### Review the Michaelis-Menten equation\n",
    "\n",
    "The Michaelis-Menten equation describes kinetics for enzyme-catalyzed reactions. We will use the simplest version of the equation, based on initial reaction velocities with a single substrate.\n",
    "\n",
    "In our equation,  there are two parameters, V$_{max}$ (maximum velocity) and K$_m$ (the Michaelis constant, which equals the substrate concentration at half maximal velocity), an independent variable, \\[S\\] = substrate concentration, and a dependent variable, V$_i$, the initial velocity.\n",
    "\n",
    "$$\n",
    "V_i = \\frac{V_{max} * [S]}{K_m + [S]}\n",
    "$$\n",
    "\n",
    "We will use the following variables for our equation:\n",
    "\n",
    "- Vmax = the maximum velocity\n",
    "- Km = the Michaelis constant\n",
    "- SubConc = substrate concentration\n",
    "- Vi = initial velocity"
   ]
  },
  {
   "cell_type": "code",
   "execution_count": 3,
   "metadata": {},
   "outputs": [
    {
     "data": {
      "text/html": [
       "<div>\n",
       "<style scoped>\n",
       "    .dataframe tbody tr th:only-of-type {\n",
       "        vertical-align: middle;\n",
       "    }\n",
       "\n",
       "    .dataframe tbody tr th {\n",
       "        vertical-align: top;\n",
       "    }\n",
       "\n",
       "    .dataframe thead th {\n",
       "        text-align: right;\n",
       "    }\n",
       "</style>\n",
       "<table border=\"1\" class=\"dataframe\">\n",
       "  <thead>\n",
       "    <tr style=\"text-align: right;\">\n",
       "      <th></th>\n",
       "      <th>pNPP (mM)</th>\n",
       "      <th>slopes</th>\n",
       "      <th>initial velocities</th>\n",
       "    </tr>\n",
       "  </thead>\n",
       "  <tbody>\n",
       "    <tr>\n",
       "      <th>0</th>\n",
       "      <td>20.00</td>\n",
       "      <td>0.514091</td>\n",
       "      <td>34.272718</td>\n",
       "    </tr>\n",
       "    <tr>\n",
       "      <th>1</th>\n",
       "      <td>10.00</td>\n",
       "      <td>0.503140</td>\n",
       "      <td>33.542678</td>\n",
       "    </tr>\n",
       "    <tr>\n",
       "      <th>2</th>\n",
       "      <td>7.00</td>\n",
       "      <td>0.470435</td>\n",
       "      <td>31.362310</td>\n",
       "    </tr>\n",
       "    <tr>\n",
       "      <th>3</th>\n",
       "      <td>4.00</td>\n",
       "      <td>0.417021</td>\n",
       "      <td>27.801416</td>\n",
       "    </tr>\n",
       "    <tr>\n",
       "      <th>4</th>\n",
       "      <td>2.00</td>\n",
       "      <td>0.342445</td>\n",
       "      <td>22.829652</td>\n",
       "    </tr>\n",
       "    <tr>\n",
       "      <th>5</th>\n",
       "      <td>1.00</td>\n",
       "      <td>0.246260</td>\n",
       "      <td>16.417302</td>\n",
       "    </tr>\n",
       "    <tr>\n",
       "      <th>6</th>\n",
       "      <td>0.70</td>\n",
       "      <td>0.202843</td>\n",
       "      <td>13.522863</td>\n",
       "    </tr>\n",
       "    <tr>\n",
       "      <th>7</th>\n",
       "      <td>0.40</td>\n",
       "      <td>0.136443</td>\n",
       "      <td>9.096204</td>\n",
       "    </tr>\n",
       "    <tr>\n",
       "      <th>8</th>\n",
       "      <td>0.20</td>\n",
       "      <td>0.076442</td>\n",
       "      <td>5.096143</td>\n",
       "    </tr>\n",
       "    <tr>\n",
       "      <th>9</th>\n",
       "      <td>0.10</td>\n",
       "      <td>0.078070</td>\n",
       "      <td>5.204653</td>\n",
       "    </tr>\n",
       "    <tr>\n",
       "      <th>10</th>\n",
       "      <td>0.05</td>\n",
       "      <td>0.022319</td>\n",
       "      <td>1.487957</td>\n",
       "    </tr>\n",
       "  </tbody>\n",
       "</table>\n",
       "</div>"
      ],
      "text/plain": [
       "    pNPP (mM)    slopes  initial velocities\n",
       "0       20.00  0.514091           34.272718\n",
       "1       10.00  0.503140           33.542678\n",
       "2        7.00  0.470435           31.362310\n",
       "3        4.00  0.417021           27.801416\n",
       "4        2.00  0.342445           22.829652\n",
       "5        1.00  0.246260           16.417302\n",
       "6        0.70  0.202843           13.522863\n",
       "7        0.40  0.136443            9.096204\n",
       "8        0.20  0.076442            5.096143\n",
       "9        0.10  0.078070            5.204653\n",
       "10       0.05  0.022319            1.487957"
      ]
     },
     "execution_count": 3,
     "metadata": {},
     "output_type": "execute_result"
    }
   ],
   "source": [
    "# create the filehandle\n",
    "datafile = os.path.join('biochemist-python', 'chapters', 'data', 'MM_data.csv')\n",
    "# import the data\n",
    "rates_df = pd.read_csv(datafile)\n",
    "rates_df # inspect the data to make sure you have substrate concentrations and initial velocities"
   ]
  },
  {
   "cell_type": "code",
   "execution_count": 11,
   "metadata": {},
   "outputs": [
    {
     "data": {
      "text/plain": [
       "[<matplotlib.lines.Line2D at 0x7fbd99c0ccd0>]"
      ]
     },
     "execution_count": 11,
     "metadata": {},
     "output_type": "execute_result"
    },
    {
     "data": {
      "image/png": "[encoded data removed]",
      "text/plain": [
       "<Figure size 432x288 with 1 Axes>"
      ]
     },
     "metadata": {
      "needs_background": "light"
     },
     "output_type": "display_data"
    }
   ],
   "source": [
    "# A look at our data\n",
    "ydata = rates_df['initial velocities']\n",
    "xdata = rates_df['pNPP (mM)']\n",
    "plt.plot(xdata, ydata, 'o', label='data')"
   ]
  },
  {
   "cell_type": "code",
   "execution_count": 4,
   "metadata": {},
   "outputs": [
    {
     "data": {
      "text/html": [
       "<div>\n",
       "<style scoped>\n",
       "    .dataframe tbody tr th:only-of-type {\n",
       "        vertical-align: middle;\n",
       "    }\n",
       "\n",
       "    .dataframe tbody tr th {\n",
       "        vertical-align: top;\n",
       "    }\n",
       "\n",
       "    .dataframe thead th {\n",
       "        text-align: right;\n",
       "    }\n",
       "</style>\n",
       "<table border=\"1\" class=\"dataframe\">\n",
       "  <thead>\n",
       "    <tr style=\"text-align: right;\">\n",
       "      <th></th>\n",
       "      <th>pNPP (mM)</th>\n",
       "      <th>slopes</th>\n",
       "      <th>initial velocities</th>\n",
       "    </tr>\n",
       "  </thead>\n",
       "  <tbody>\n",
       "    <tr>\n",
       "      <th>0</th>\n",
       "      <td>20.00</td>\n",
       "      <td>0.514091</td>\n",
       "      <td>34.272718</td>\n",
       "    </tr>\n",
       "    <tr>\n",
       "      <th>1</th>\n",
       "      <td>10.00</td>\n",
       "      <td>0.503140</td>\n",
       "      <td>33.542678</td>\n",
       "    </tr>\n",
       "    <tr>\n",
       "      <th>2</th>\n",
       "      <td>7.00</td>\n",
       "      <td>0.470435</td>\n",
       "      <td>31.362310</td>\n",
       "    </tr>\n",
       "    <tr>\n",
       "      <th>3</th>\n",
       "      <td>4.00</td>\n",
       "      <td>0.417021</td>\n",
       "      <td>27.801416</td>\n",
       "    </tr>\n",
       "    <tr>\n",
       "      <th>4</th>\n",
       "      <td>2.00</td>\n",
       "      <td>0.342445</td>\n",
       "      <td>22.829652</td>\n",
       "    </tr>\n",
       "    <tr>\n",
       "      <th>5</th>\n",
       "      <td>1.00</td>\n",
       "      <td>0.246260</td>\n",
       "      <td>16.417302</td>\n",
       "    </tr>\n",
       "    <tr>\n",
       "      <th>6</th>\n",
       "      <td>0.70</td>\n",
       "      <td>0.202843</td>\n",
       "      <td>13.522863</td>\n",
       "    </tr>\n",
       "    <tr>\n",
       "      <th>7</th>\n",
       "      <td>0.40</td>\n",
       "      <td>0.136443</td>\n",
       "      <td>9.096204</td>\n",
       "    </tr>\n",
       "    <tr>\n",
       "      <th>8</th>\n",
       "      <td>0.20</td>\n",
       "      <td>0.076442</td>\n",
       "      <td>5.096143</td>\n",
       "    </tr>\n",
       "    <tr>\n",
       "      <th>9</th>\n",
       "      <td>0.10</td>\n",
       "      <td>0.078070</td>\n",
       "      <td>5.204653</td>\n",
       "    </tr>\n",
       "    <tr>\n",
       "      <th>10</th>\n",
       "      <td>0.05</td>\n",
       "      <td>0.022319</td>\n",
       "      <td>1.487957</td>\n",
       "    </tr>\n",
       "  </tbody>\n",
       "</table>\n",
       "</div>"
      ],
      "text/plain": [
       "    pNPP (mM)    slopes  initial velocities\n",
       "0       20.00  0.514091           34.272718\n",
       "1       10.00  0.503140           33.542678\n",
       "2        7.00  0.470435           31.362310\n",
       "3        4.00  0.417021           27.801416\n",
       "4        2.00  0.342445           22.829652\n",
       "5        1.00  0.246260           16.417302\n",
       "6        0.70  0.202843           13.522863\n",
       "7        0.40  0.136443            9.096204\n",
       "8        0.20  0.076442            5.096143\n",
       "9        0.10  0.078070            5.204653\n",
       "10       0.05  0.022319            1.487957"
      ]
     },
     "execution_count": 4,
     "metadata": {},
     "output_type": "execute_result"
    }
   ],
   "source": [
    "# define the function\n",
    "def MM(SubConc, Vmax, Km):\n",
    "    Vi = (Vmax * SubConc)/(Km + SubConc)\n",
    "    return Vi\n",
    "# set the data\n",
    "ydata = rates_df['initial velocities']\n",
    "xdata = rates_df['pNPP (mM)']\n",
    "rates_df"
   ]
  },
  {
   "cell_type": "code",
   "execution_count": 5,
   "metadata": {},
   "outputs": [
    {
     "ename": "TypeError",
     "evalue": "'DataFrame' object is not callable",
     "output_type": "error",
     "traceback": [
      "\u001b[0;31m---------------------------------------------------------------------------\u001b[0m",
      "\u001b[0;31mTypeError\u001b[0m                                 Traceback (most recent call last)",
      "\u001b[0;32m<ipython-input-5-cda92acf6d3c>\u001b[0m in \u001b[0;36m<module>\u001b[0;34m\u001b[0m\n\u001b[0;32m----> 1\u001b[0;31m \u001b[0mydata\u001b[0m \u001b[0;34m=\u001b[0m \u001b[0mrates_df\u001b[0m\u001b[0;34m(\u001b[0m\u001b[0;34m'initial velocities'\u001b[0m\u001b[0;34m)\u001b[0m \u001b[0;31m# Common errors and how to read them\u001b[0m\u001b[0;34m\u001b[0m\u001b[0;34m\u001b[0m\u001b[0m\n\u001b[0m\u001b[1;32m      2\u001b[0m \u001b[0;31m# If the errors says \"is not callable\", you are using parentheses (which call a function) when you should not\u001b[0m\u001b[0;34m\u001b[0m\u001b[0;34m\u001b[0m\u001b[0;34m\u001b[0m\u001b[0m\n",
      "\u001b[0;31mTypeError\u001b[0m: 'DataFrame' object is not callable"
     ]
    }
   ],
   "source": [
    "ydata = rates_df('initial velocities') # Common errors and how to read them\n",
    "# If the errors says \"is not callable\", you are using parentheses (which call a function) when you should not"
   ]
  },
  {
   "cell_type": "code",
   "execution_count": 6,
   "metadata": {},
   "outputs": [
    {
     "data": {
      "text/plain": [
       "0     95.238095\n",
       "1     90.909091\n",
       "2     87.500000\n",
       "3     80.000000\n",
       "4     66.666667\n",
       "5     50.000000\n",
       "6     41.176471\n",
       "7     28.571429\n",
       "8     16.666667\n",
       "9      9.090909\n",
       "10     4.761905\n",
       "Name: pNPP (mM), dtype: float64"
      ]
     },
     "execution_count": 6,
     "metadata": {},
     "output_type": "execute_result"
    }
   ],
   "source": [
    "MM(rates_df['pNPP (mM)'], 100, 1)"
   ]
  },
  {
   "cell_type": "code",
   "execution_count": 7,
   "metadata": {},
   "outputs": [
    {
     "data": {
      "text/plain": [
       "0     66.666667\n",
       "1     50.000000\n",
       "2     41.176471\n",
       "3     28.571429\n",
       "4     16.666667\n",
       "5      9.090909\n",
       "6      6.542056\n",
       "7      3.846154\n",
       "8      1.960784\n",
       "9      0.990099\n",
       "10     0.497512\n",
       "Name: pNPP (mM), dtype: float64"
      ]
     },
     "execution_count": 7,
     "metadata": {},
     "output_type": "execute_result"
    }
   ],
   "source": [
    "MM(rates_df['pNPP (mM)'], 100, 10)"
   ]
  },
  {
   "cell_type": "code",
   "execution_count": null,
   "metadata": {},
   "outputs": [],
   "source": [
    "# Common Errors - color coding and common features of Jupyter notebooks\n",
    "# str\n",
    "# def\n",
    "# import\n",
    "# 1s\n",
    "# In [20]"
   ]
  },
  {
   "cell_type": "markdown",
   "metadata": {},
   "source": [
    "### Using curve_fit\n",
    "The syntax for the curve_fit function from scipy.optimize is\n",
    "```python\n",
    "popt, pcov = curve_fit(function, xdata, ydata)\n",
    "```\n",
    "popt: optimized parameters\n",
    "pcov: a 2D matrix of the covariance for the curve fit\n",
    "curve_fit: the function from scipy.optimize\n",
    "function: the function that we are asking curve_fit to fit the data to\n",
    "x: a data array for the independent variable \n",
    "y: a data array for the dependent variable\n",
    "\n",
    "Let's review the function, `MM`, that we defined above, to clearly distinguish the data that are fed into `curve_fit` and `MM`.\n",
    "\n",
    "```python\n",
    "def MM(SubConc, Vmax, Km):\n",
    "    Vi = (Vmax * SubConc)/(Km + SubConc)\n",
    "    return Vi\n",
    "```\n",
    "\n",
    "You need to pass three pieces of data to `MM` to predict the initial velocity for an enzyme-catalyzed reaction: the substrate concentration, and values for $V_{max}$ and $K_m$."
   ]
  },
  {
   "cell_type": "code",
   "execution_count": 28,
   "metadata": {},
   "outputs": [],
   "source": [
    "popt, pcov = curve_fit(MM, xdata, ydata)"
   ]
  },
  {
   "cell_type": "code",
   "execution_count": 34,
   "metadata": {},
   "outputs": [
    {
     "name": "stdout",
     "output_type": "stream",
     "text": [
      "Vmax for this reaction: 36.66 +/- 0.67\n",
      "Km for this reaction: 1.19 +/- 0.08\n"
     ]
    }
   ],
   "source": [
    "Vmax = parameters[0]\n",
    "Km = parameters[1]\n",
    "perr = np.sqrt(np.diag(pcov)) # returns one standard deviation for each parameter\n",
    "print(f'Vmax for this reaction: {Vmax:.2f} +/- {perr[0]:.2f}')\n",
    "print(f'Km for this reaction: {Km:.2f} +/- {perr[1]:.2f}')"
   ]
  },
  {
   "cell_type": "code",
   "execution_count": 36,
   "metadata": {},
   "outputs": [
    {
     "data": {
      "text/plain": [
       "<matplotlib.legend.Legend at 0x7fbd4880efd0>"
      ]
     },
     "execution_count": 36,
     "metadata": {},
     "output_type": "execute_result"
    },
    {
     "data": {
      "image/png": "[encoded data removed]",
      "text/plain": [
       "<Figure size 432x288 with 1 Axes>"
      ]
     },
     "metadata": {
      "needs_background": "light"
     },
     "output_type": "display_data"
    }
   ],
   "source": [
    "fit_y = MM(xdata, fit_A, fit_B)\n",
    "plt.plot(xdata, ydata, 'o', label='data')\n",
    "plt.plot(xdata, fit_y, '-', label='fit')\n",
    "plt.legend()"
   ]
  },
  {
   "cell_type": "code",
   "execution_count": 41,
   "metadata": {},
   "outputs": [
    {
     "data": {
      "text/plain": [
       "<matplotlib.legend.Legend at 0x7fbd58a87b90>"
      ]
     },
     "execution_count": 41,
     "metadata": {},
     "output_type": "execute_result"
    },
    {
     "data": {
      "image/png": "[encoded data removed]",
      "text/plain": [
       "<Figure size 432x288 with 1 Axes>"
      ]
     },
     "metadata": {
      "needs_background": "light"
     },
     "output_type": "display_data"
    }
   ],
   "source": [
    "# To generate a smoother fitted curve\n",
    "smooth_x = np.linspace(np.min(xdata), np.max(xdata), 1000)\n",
    "fit_y = MM(xdata, fit_A, fit_B)\n",
    "plt.plot(xdata, ydata, 'o', label='data')\n",
    "plt.plot(smooth_x, MM(fit_x, fit_A, fit_B), 'b', label = 'fit')\n",
    "plt.legend()"
   ]
  },
  {
   "cell_type": "code",
   "execution_count": null,
   "metadata": {},
   "outputs": [],
   "source": [
    "# Now improve the plot with seaborn"
   ]
  },
  {
   "cell_type": "code",
   "execution_count": 38,
   "metadata": {},
   "outputs": [
    {
     "name": "stdout",
     "output_type": "stream",
     "text": [
      "[ 0.05        0.06996997  0.08993994  0.10990991  0.12987988  0.14984985\n",
      "  0.16981982  0.18978979  0.20975976  0.22972973  0.2496997   0.26966967\n",
      "  0.28963964  0.30960961  0.32957958  0.34954955  0.36951952  0.38948949\n",
      "  0.40945946  0.42942943  0.4493994   0.46936937  0.48933934  0.50930931\n",
      "  0.52927928  0.54924925  0.56921922  0.58918919  0.60915916  0.62912913\n",
      "  0.6490991   0.66906907  0.68903904  0.70900901  0.72897898  0.74894895\n",
      "  0.76891892  0.78888889  0.80885886  0.82882883  0.8487988   0.86876877\n",
      "  0.88873874  0.90870871  0.92867868  0.94864865  0.96861862  0.98858859\n",
      "  1.00855856  1.02852853  1.0484985   1.06846847  1.08843844  1.10840841\n",
      "  1.12837838  1.14834835  1.16831832  1.18828829  1.20825826  1.22822823\n",
      "  1.2481982   1.26816817  1.28813814  1.30810811  1.32807808  1.34804805\n",
      "  1.36801802  1.38798799  1.40795796  1.42792793  1.4478979   1.46786787\n",
      "  1.48783784  1.50780781  1.52777778  1.54774775  1.56771772  1.58768769\n",
      "  1.60765766  1.62762763  1.6475976   1.66756757  1.68753754  1.70750751\n",
      "  1.72747748  1.74744745  1.76741742  1.78738739  1.80735736  1.82732733\n",
      "  1.8472973   1.86726727  1.88723724  1.90720721  1.92717718  1.94714715\n",
      "  1.96711712  1.98708709  2.00705706  2.02702703  2.046997    2.06696697\n",
      "  2.08693694  2.10690691  2.12687688  2.14684685  2.16681682  2.18678679\n",
      "  2.20675676  2.22672673  2.2466967   2.26666667  2.28663664  2.30660661\n",
      "  2.32657658  2.34654655  2.36651652  2.38648649  2.40645646  2.42642643\n",
      "  2.4463964   2.46636637  2.48633634  2.50630631  2.52627628  2.54624625\n",
      "  2.56621622  2.58618619  2.60615616  2.62612613  2.6460961   2.66606607\n",
      "  2.68603604  2.70600601  2.72597598  2.74594595  2.76591592  2.78588589\n",
      "  2.80585586  2.82582583  2.8457958   2.86576577  2.88573574  2.90570571\n",
      "  2.92567568  2.94564565  2.96561562  2.98558559  3.00555556  3.02552553\n",
      "  3.0454955   3.06546547  3.08543544  3.10540541  3.12537538  3.14534535\n",
      "  3.16531532  3.18528529  3.20525526  3.22522523  3.2451952   3.26516517\n",
      "  3.28513514  3.30510511  3.32507508  3.34504505  3.36501502  3.38498498\n",
      "  3.40495495  3.42492492  3.44489489  3.46486486  3.48483483  3.5048048\n",
      "  3.52477477  3.54474474  3.56471471  3.58468468  3.60465465  3.62462462\n",
      "  3.64459459  3.66456456  3.68453453  3.7045045   3.72447447  3.74444444\n",
      "  3.76441441  3.78438438  3.80435435  3.82432432  3.84429429  3.86426426\n",
      "  3.88423423  3.9042042   3.92417417  3.94414414  3.96411411  3.98408408\n",
      "  4.00405405  4.02402402  4.04399399  4.06396396  4.08393393  4.1039039\n",
      "  4.12387387  4.14384384  4.16381381  4.18378378  4.20375375  4.22372372\n",
      "  4.24369369  4.26366366  4.28363363  4.3036036   4.32357357  4.34354354\n",
      "  4.36351351  4.38348348  4.40345345  4.42342342  4.44339339  4.46336336\n",
      "  4.48333333  4.5033033   4.52327327  4.54324324  4.56321321  4.58318318\n",
      "  4.60315315  4.62312312  4.64309309  4.66306306  4.68303303  4.703003\n",
      "  4.72297297  4.74294294  4.76291291  4.78288288  4.80285285  4.82282282\n",
      "  4.84279279  4.86276276  4.88273273  4.9027027   4.92267267  4.94264264\n",
      "  4.96261261  4.98258258  5.00255255  5.02252252  5.04249249  5.06246246\n",
      "  5.08243243  5.1024024   5.12237237  5.14234234  5.16231231  5.18228228\n",
      "  5.20225225  5.22222222  5.24219219  5.26216216  5.28213213  5.3021021\n",
      "  5.32207207  5.34204204  5.36201201  5.38198198  5.40195195  5.42192192\n",
      "  5.44189189  5.46186186  5.48183183  5.5018018   5.52177177  5.54174174\n",
      "  5.56171171  5.58168168  5.60165165  5.62162162  5.64159159  5.66156156\n",
      "  5.68153153  5.7015015   5.72147147  5.74144144  5.76141141  5.78138138\n",
      "  5.80135135  5.82132132  5.84129129  5.86126126  5.88123123  5.9012012\n",
      "  5.92117117  5.94114114  5.96111111  5.98108108  6.00105105  6.02102102\n",
      "  6.04099099  6.06096096  6.08093093  6.1009009   6.12087087  6.14084084\n",
      "  6.16081081  6.18078078  6.20075075  6.22072072  6.24069069  6.26066066\n",
      "  6.28063063  6.3006006   6.32057057  6.34054054  6.36051051  6.38048048\n",
      "  6.40045045  6.42042042  6.44039039  6.46036036  6.48033033  6.5003003\n",
      "  6.52027027  6.54024024  6.56021021  6.58018018  6.60015015  6.62012012\n",
      "  6.64009009  6.66006006  6.68003003  6.7         6.71996997  6.73993994\n",
      "  6.75990991  6.77987988  6.79984985  6.81981982  6.83978979  6.85975976\n",
      "  6.87972973  6.8996997   6.91966967  6.93963964  6.95960961  6.97957958\n",
      "  6.99954955  7.01951952  7.03948949  7.05945946  7.07942943  7.0993994\n",
      "  7.11936937  7.13933934  7.15930931  7.17927928  7.19924925  7.21921922\n",
      "  7.23918919  7.25915916  7.27912913  7.2990991   7.31906907  7.33903904\n",
      "  7.35900901  7.37897898  7.39894895  7.41891892  7.43888889  7.45885886\n",
      "  7.47882883  7.4987988   7.51876877  7.53873874  7.55870871  7.57867868\n",
      "  7.59864865  7.61861862  7.63858859  7.65855856  7.67852853  7.6984985\n",
      "  7.71846847  7.73843844  7.75840841  7.77837838  7.79834835  7.81831832\n",
      "  7.83828829  7.85825826  7.87822823  7.8981982   7.91816817  7.93813814\n",
      "  7.95810811  7.97807808  7.99804805  8.01801802  8.03798799  8.05795796\n",
      "  8.07792793  8.0978979   8.11786787  8.13783784  8.15780781  8.17777778\n",
      "  8.19774775  8.21771772  8.23768769  8.25765766  8.27762763  8.2975976\n",
      "  8.31756757  8.33753754  8.35750751  8.37747748  8.39744745  8.41741742\n",
      "  8.43738739  8.45735736  8.47732733  8.4972973   8.51726727  8.53723724\n",
      "  8.55720721  8.57717718  8.59714715  8.61711712  8.63708709  8.65705706\n",
      "  8.67702703  8.696997    8.71696697  8.73693694  8.75690691  8.77687688\n",
      "  8.79684685  8.81681682  8.83678679  8.85675676  8.87672673  8.8966967\n",
      "  8.91666667  8.93663664  8.95660661  8.97657658  8.99654655  9.01651652\n",
      "  9.03648649  9.05645646  9.07642643  9.0963964   9.11636637  9.13633634\n",
      "  9.15630631  9.17627628  9.19624625  9.21621622  9.23618619  9.25615616\n",
      "  9.27612613  9.2960961   9.31606607  9.33603604  9.35600601  9.37597598\n",
      "  9.39594595  9.41591592  9.43588589  9.45585586  9.47582583  9.4957958\n",
      "  9.51576577  9.53573574  9.55570571  9.57567568  9.59564565  9.61561562\n",
      "  9.63558559  9.65555556  9.67552553  9.6954955   9.71546547  9.73543544\n",
      "  9.75540541  9.77537538  9.79534535  9.81531532  9.83528529  9.85525526\n",
      "  9.87522523  9.8951952   9.91516517  9.93513514  9.95510511  9.97507508\n",
      "  9.99504505 10.01501502 10.03498498 10.05495495 10.07492492 10.09489489\n",
      " 10.11486486 10.13483483 10.1548048  10.17477477 10.19474474 10.21471471\n",
      " 10.23468468 10.25465465 10.27462462 10.29459459 10.31456456 10.33453453\n",
      " 10.3545045  10.37447447 10.39444444 10.41441441 10.43438438 10.45435435\n",
      " 10.47432432 10.49429429 10.51426426 10.53423423 10.5542042  10.57417417\n",
      " 10.59414414 10.61411411 10.63408408 10.65405405 10.67402402 10.69399399\n",
      " 10.71396396 10.73393393 10.7539039  10.77387387 10.79384384 10.81381381\n",
      " 10.83378378 10.85375375 10.87372372 10.89369369 10.91366366 10.93363363\n",
      " 10.9536036  10.97357357 10.99354354 11.01351351 11.03348348 11.05345345\n",
      " 11.07342342 11.09339339 11.11336336 11.13333333 11.1533033  11.17327327\n",
      " 11.19324324 11.21321321 11.23318318 11.25315315 11.27312312 11.29309309\n",
      " 11.31306306 11.33303303 11.353003   11.37297297 11.39294294 11.41291291\n",
      " 11.43288288 11.45285285 11.47282282 11.49279279 11.51276276 11.53273273\n",
      " 11.5527027  11.57267267 11.59264264 11.61261261 11.63258258 11.65255255\n",
      " 11.67252252 11.69249249 11.71246246 11.73243243 11.7524024  11.77237237\n",
      " 11.79234234 11.81231231 11.83228228 11.85225225 11.87222222 11.89219219\n",
      " 11.91216216 11.93213213 11.9521021  11.97207207 11.99204204 12.01201201\n",
      " 12.03198198 12.05195195 12.07192192 12.09189189 12.11186186 12.13183183\n",
      " 12.1518018  12.17177177 12.19174174 12.21171171 12.23168168 12.25165165\n",
      " 12.27162162 12.29159159 12.31156156 12.33153153 12.3515015  12.37147147\n",
      " 12.39144144 12.41141141 12.43138138 12.45135135 12.47132132 12.49129129\n",
      " 12.51126126 12.53123123 12.5512012  12.57117117 12.59114114 12.61111111\n",
      " 12.63108108 12.65105105 12.67102102 12.69099099 12.71096096 12.73093093\n",
      " 12.7509009  12.77087087 12.79084084 12.81081081 12.83078078 12.85075075\n",
      " 12.87072072 12.89069069 12.91066066 12.93063063 12.9506006  12.97057057\n",
      " 12.99054054 13.01051051 13.03048048 13.05045045 13.07042042 13.09039039\n",
      " 13.11036036 13.13033033 13.1503003  13.17027027 13.19024024 13.21021021\n",
      " 13.23018018 13.25015015 13.27012012 13.29009009 13.31006006 13.33003003\n",
      " 13.35       13.36996997 13.38993994 13.40990991 13.42987988 13.44984985\n",
      " 13.46981982 13.48978979 13.50975976 13.52972973 13.5496997  13.56966967\n",
      " 13.58963964 13.60960961 13.62957958 13.64954955 13.66951952 13.68948949\n",
      " 13.70945946 13.72942943 13.7493994  13.76936937 13.78933934 13.80930931\n",
      " 13.82927928 13.84924925 13.86921922 13.88918919 13.90915916 13.92912913\n",
      " 13.9490991  13.96906907 13.98903904 14.00900901 14.02897898 14.04894895\n",
      " 14.06891892 14.08888889 14.10885886 14.12882883 14.1487988  14.16876877\n",
      " 14.18873874 14.20870871 14.22867868 14.24864865 14.26861862 14.28858859\n",
      " 14.30855856 14.32852853 14.3484985  14.36846847 14.38843844 14.40840841\n",
      " 14.42837838 14.44834835 14.46831832 14.48828829 14.50825826 14.52822823\n",
      " 14.5481982  14.56816817 14.58813814 14.60810811 14.62807808 14.64804805\n",
      " 14.66801802 14.68798799 14.70795796 14.72792793 14.7478979  14.76786787\n",
      " 14.78783784 14.80780781 14.82777778 14.84774775 14.86771772 14.88768769\n",
      " 14.90765766 14.92762763 14.9475976  14.96756757 14.98753754 15.00750751\n",
      " 15.02747748 15.04744745 15.06741742 15.08738739 15.10735736 15.12732733\n",
      " 15.1472973  15.16726727 15.18723724 15.20720721 15.22717718 15.24714715\n",
      " 15.26711712 15.28708709 15.30705706 15.32702703 15.346997   15.36696697\n",
      " 15.38693694 15.40690691 15.42687688 15.44684685 15.46681682 15.48678679\n",
      " 15.50675676 15.52672673 15.5466967  15.56666667 15.58663664 15.60660661\n",
      " 15.62657658 15.64654655 15.66651652 15.68648649 15.70645646 15.72642643\n",
      " 15.7463964  15.76636637 15.78633634 15.80630631 15.82627628 15.84624625\n",
      " 15.86621622 15.88618619 15.90615616 15.92612613 15.9460961  15.96606607\n",
      " 15.98603604 16.00600601 16.02597598 16.04594595 16.06591592 16.08588589\n",
      " 16.10585586 16.12582583 16.1457958  16.16576577 16.18573574 16.20570571\n",
      " 16.22567568 16.24564565 16.26561562 16.28558559 16.30555556 16.32552553\n",
      " 16.3454955  16.36546547 16.38543544 16.40540541 16.42537538 16.44534535\n",
      " 16.46531532 16.48528529 16.50525526 16.52522523 16.5451952  16.56516517\n",
      " 16.58513514 16.60510511 16.62507508 16.64504505 16.66501502 16.68498498\n",
      " 16.70495495 16.72492492 16.74489489 16.76486486 16.78483483 16.8048048\n",
      " 16.82477477 16.84474474 16.86471471 16.88468468 16.90465465 16.92462462\n",
      " 16.94459459 16.96456456 16.98453453 17.0045045  17.02447447 17.04444444\n",
      " 17.06441441 17.08438438 17.10435435 17.12432432 17.14429429 17.16426426\n",
      " 17.18423423 17.2042042  17.22417417 17.24414414 17.26411411 17.28408408\n",
      " 17.30405405 17.32402402 17.34399399 17.36396396 17.38393393 17.4039039\n",
      " 17.42387387 17.44384384 17.46381381 17.48378378 17.50375375 17.52372372\n",
      " 17.54369369 17.56366366 17.58363363 17.6036036  17.62357357 17.64354354\n",
      " 17.66351351 17.68348348 17.70345345 17.72342342 17.74339339 17.76336336\n",
      " 17.78333333 17.8033033  17.82327327 17.84324324 17.86321321 17.88318318\n",
      " 17.90315315 17.92312312 17.94309309 17.96306306 17.98303303 18.003003\n",
      " 18.02297297 18.04294294 18.06291291 18.08288288 18.10285285 18.12282282\n",
      " 18.14279279 18.16276276 18.18273273 18.2027027  18.22267267 18.24264264\n",
      " 18.26261261 18.28258258 18.30255255 18.32252252 18.34249249 18.36246246\n",
      " 18.38243243 18.4024024  18.42237237 18.44234234 18.46231231 18.48228228\n",
      " 18.50225225 18.52222222 18.54219219 18.56216216 18.58213213 18.6021021\n",
      " 18.62207207 18.64204204 18.66201201 18.68198198 18.70195195 18.72192192\n",
      " 18.74189189 18.76186186 18.78183183 18.8018018  18.82177177 18.84174174\n",
      " 18.86171171 18.88168168 18.90165165 18.92162162 18.94159159 18.96156156\n",
      " 18.98153153 19.0015015  19.02147147 19.04144144 19.06141141 19.08138138\n",
      " 19.10135135 19.12132132 19.14129129 19.16126126 19.18123123 19.2012012\n",
      " 19.22117117 19.24114114 19.26111111 19.28108108 19.30105105 19.32102102\n",
      " 19.34099099 19.36096096 19.38093093 19.4009009  19.42087087 19.44084084\n",
      " 19.46081081 19.48078078 19.50075075 19.52072072 19.54069069 19.56066066\n",
      " 19.58063063 19.6006006  19.62057057 19.64054054 19.66051051 19.68048048\n",
      " 19.70045045 19.72042042 19.74039039 19.76036036 19.78033033 19.8003003\n",
      " 19.82027027 19.84024024 19.86021021 19.88018018 19.90015015 19.92012012\n",
      " 19.94009009 19.96006006 19.98003003 20.        ]\n"
     ]
    }
   ],
   "source": [
    "fit_x = np.linspace(np.min(xdata), np.max(xdata), 1000)\n",
    "print(fit_x)"
   ]
  },
  {
   "cell_type": "code",
   "execution_count": null,
   "metadata": {},
   "outputs": [],
   "source": []
  }
 ],
 "metadata": {
  "kernelspec": {
   "display_name": "Python 3",
   "language": "python",
   "name": "python3"
  },
  "language_info": {
   "codemirror_mode": {
    "name": "ipython",
    "version": 3
   },
   "file_extension": ".py",
   "mimetype": "text/x-python",
   "name": "python",
   "nbconvert_exporter": "python",
   "pygments_lexer": "ipython3",
   "version": "3.7.6"
  }
 },
 "nbformat": 4,
 "nbformat_minor": 5
}
