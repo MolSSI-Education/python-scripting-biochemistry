{
 "cells": [
  {
   "cell_type": "markdown",
   "id": "366dc262-7b8c-4ffa-bf9b-d356a91a3694",
   "metadata": {},
   "source": [
    "# Enzyme Commission Class with Ligands\n",
    "This notebook is intended to help users find ligands for use with docking studies. Here are the steps in the process, all of which will employ the `rcsbsearchapi` package. \n",
    "1. Find PDB structures of a given Enzyme Commission class.\n",
    "2. Select those structures that contain bound small molecules with molecular weights between 300 and 600.\n",
    "3. Output a list of those ligands\n",
    "4. Save the ligand structures to the \"ligands_for_EC_class_#\" folder.\n",
    "\n",
    "Text (actually markdown) cells will be inserted to explain each step."
   ]
  },
  {
   "cell_type": "code",
   "execution_count": 110,
   "id": "7f7f7135",
   "metadata": {},
   "outputs": [],
   "source": [
    "# Import the components of rcsbsearchapi needed for this search\n",
    "from rcsbsearchapi import rcsb_attributes as attrs"
   ]
  },
  {
   "cell_type": "markdown",
   "id": "e82f729a",
   "metadata": {},
   "source": [
    "## Making queries\n",
    "To make a query with `rcsbsearchapi` you first must know what you are looking for. I find it helpful to actually write this out by hand sometimes. Here are the characteristics I am looking for in ligands that bind to a specific Enzyme Commission Class of a protein.\n",
    "- EC Class. I will focus on the EC class for trypsin, 3.4.21.4, but any class should work.\n",
    "- Ligands. I am looking for ligands that are larger than a single atom (e.g., potassium ion) or a buffer molecule (phosphate), but of a size that consists of 10-30 heavy atoms, so I will aim for a molecular weight between 300 and 800."
   ]
  },
  {
   "cell_type": "code",
   "execution_count": 123,
   "id": "e331ecd9",
   "metadata": {},
   "outputs": [
    {
     "name": "stdout",
     "output_type": "stream",
     "text": [
      "['1AQ7', '1AUJ', '1AZ8', '1BJV', '1BTW', '1BTX', '1BTZ', '1C1S', '1C1T', '1C2D']\n"
     ]
    },
    {
     "data": {
      "text/plain": [
       "180"
      ]
     },
     "execution_count": 123,
     "metadata": {},
     "output_type": "execute_result"
    }
   ],
   "source": [
    "# There will be three components to the query, which will be labeled q1, q2 and q3.\n",
    "\n",
    "ECnumber = \"3.4.21.4\"     # We will use this variable again later\n",
    "\n",
    "q1 = attrs.rcsb_polymer_entity.rcsb_ec_lineage.id == ECnumber  # looking for trypsins\n",
    "q2 = attrs.chem_comp.formula_weight >= 300                       # setting the lower limit for molecular weight\n",
    "q3 = attrs.chem_comp.formula_weight <= 800                       # setting the upper limit for molecular weight\n",
    "\n",
    "query = q1 & q2 & q3              # combining the three queries into one\n",
    "\n",
    "resultL = list(query())           # assign the results of the query to a list variable\n",
    "\n",
    "print(resultL[0:10])              # list the first 10 results\n",
    "\n",
    "len(resultL)"
   ]
  },
  {
   "cell_type": "markdown",
   "id": "0ed18350",
   "metadata": {},
   "source": [
    "### Finding the ligands\n",
    "\n",
    "This query provided the list of the first 10 PDB entries for trypsins (EC # 3.4.21.4) that contain ligands between 300 and 800 molecular weight. The last statement\n",
    "\n",
    "`len(resultL)`\n",
    "\n",
    "tells us how many PDB entries have ligands of that size. However, a different command must be entered to get the list of the ligands themselves. Instead of the PDB entries, which represent the entire structure of protein and ligand(s), the ligands are identified by `mol_definition` so we'll use that."
   ]
  },
  {
   "cell_type": "code",
   "execution_count": 127,
   "id": "b4d77b9e",
   "metadata": {},
   "outputs": [
    {
     "name": "stdout",
     "output_type": "stream",
     "text": [
      "There are 112 ligands for EC Number 3.4.21.4 in this list.\n"
     ]
    },
    {
     "data": {
      "text/plain": [
       "['0CA', '0CB', '0KV', '0ZG', '0ZW', '0ZX', '0ZY', '10U', '11U', '12U']"
      ]
     },
     "execution_count": 127,
     "metadata": {},
     "output_type": "execute_result"
    }
   ],
   "source": [
    "molResultL = list(query(\"mol_definition\"))\n",
    "print(\"There are\",len(molResultL), \"ligands for EC Number\", ECnumber, \"in this list.\")\n",
    "molResultL[0:10]"
   ]
  },
  {
   "cell_type": "markdown",
   "id": "574485df",
   "metadata": {},
   "source": [
    "### Where can we go to download the ligand files?\n",
    "\n",
    "To download the files for ligands bound to trypsin in the RCSB PDB, execute the two cells above for finding the trypsin ligands. This will reset the results to the ones we want.\n",
    "\n",
    "Once this is done, the next step is to determine exactly what we want to download. These ligand files in the PDB are avaiable for download in several formats. A full list and description can be found in the [Small Molecule File table](https://www.rcsb.org/docs/programmatic-access/file-download-services#small-molecule-files) on the [RCSB PDB File Download Services page](https://www.rcsb.org/docs/programmatic-access/file-download-services), which is pasted in here.\n",
    "\n",
    "![Small molecule file formats that can be downloaded from the RCSB PDB](images/SmallMoleculeFilesTable.png \"a title\")\n",
    "\n",
    "From this table, we want the ligand files in mol2 format, which we will later convert to another format called `pdbqt` for docking."
   ]
  },
  {
   "cell_type": "markdown",
   "id": "2bbcbf11",
   "metadata": {},
   "source": [
    "### How do we download the ligand files?\n",
    "\n",
    "There are several options for downloading files - we will use a Python libary called requests. In the following cells, we will import the library, `requests`, download a single file from the RCSB PDB using the `requests.get` function, and check to make sure the file downloaded properly to the ligands folder. If that is successful, we'll use a `for` loop to download all of the files from our `molResultL` list to the ligands folder."
   ]
  },
  {
   "cell_type": "code",
   "execution_count": 128,
   "id": "ffb3d082",
   "metadata": {},
   "outputs": [],
   "source": [
    "import requests"
   ]
  },
  {
   "cell_type": "code",
   "execution_count": 129,
   "id": "9cbf3513",
   "metadata": {},
   "outputs": [],
   "source": [
    "# Download one of the files from our list: 11U.mol2\n",
    "\n",
    "res11U_mol2 = requests.get('https://files.rcsb.org/ligands/download/11U_ideal.mol2')"
   ]
  },
  {
   "cell_type": "code",
   "execution_count": 130,
   "id": "b7043e37",
   "metadata": {},
   "outputs": [
    {
     "data": {
      "text/plain": [
       "200"
      ]
     },
     "execution_count": 130,
     "metadata": {},
     "output_type": "execute_result"
    }
   ],
   "source": [
    "# check to see that the file downloaded properly. A status code of 200 means everything is okay.\n",
    "\n",
    "res11U_mol2.status_code"
   ]
  },
  {
   "cell_type": "code",
   "execution_count": 131,
   "id": "096a56da",
   "metadata": {},
   "outputs": [],
   "source": [
    "# To really be sure, let's look at the file one line at a time. First we write the downloaded content to a file.\n",
    "\n",
    "with open(\"ligands/res11u.mol2\", \"wb\") as file:\n",
    "    file.write(res11U_mol2.content)"
   ]
  },
  {
   "cell_type": "code",
   "execution_count": 132,
   "id": "c9d9c2e4",
   "metadata": {},
   "outputs": [
    {
     "name": "stdout",
     "output_type": "stream",
     "text": [
      "Line1: @<TRIPOS>MOLECULE\n",
      "Line2: 11U\n",
      "Line3: 59    61     0     0     0\n",
      "Line4: SMALL\n",
      "Line5: NO_CHARGES\n",
      "Line6: \n",
      "Line7: @<TRIPOS>ATOM\n",
      "Line8: 1 C1          2.4220    0.4070    0.3360 C.2       1 11U_ideal         0.0000\n",
      "Line9: 2 O1          2.0060   -0.6420    0.7800 O.2       1 11U_ideal         0.0000\n",
      "Line10: 3 C2          3.8690    0.5350   -0.0630 C.3       1 11U_ideal         0.0000\n",
      "Line11: 4 N1          4.5590   -0.7380    0.1810 N.3       1 11U_ideal         0.0000\n",
      "Line12: 5 C3          5.9760   -0.6510   -0.1970 C.3       1 11U_ideal         0.0000\n",
      "Line13: 6 C4          6.7790   -0.0680    0.9670 C.3       1 11U_ideal         0.0000\n",
      "Line14: 7 C5          8.2550    0.0240    0.5730 C.3       1 11U_ideal         0.0000\n",
      "Line15: 8 C6          8.7810   -1.3740    0.2400 C.3       1 11U_ideal         0.0000\n",
      "Line16: 9 C7          7.9780   -1.9570   -0.9250 C.3       1 11U_ideal         0.0000\n",
      "Line17: 10 C8          6.5020   -2.0480   -0.5310 C.3       1 11U_ideal         0.0000\n",
      "Line18: 11 N2          1.5890    1.4580    0.1990 N.am      1 11U_ideal         0.0000\n",
      "Line19: 12 C9          0.1600    1.4690    0.5420 C.3       1 11U_ideal         0.0000\n",
      "Line20: 13 C10        -0.5770    0.4580   -0.2980 C.2       1 11U_ideal         0.0000\n",
      "Line21: 14 O2          0.0270   -0.2120   -1.1080 O.2       1 11U_ideal         0.0000\n",
      "Line22: 15 C11        -0.3710    2.8880    0.2460 C.3       1 11U_ideal         0.0000\n",
      "Line23: 16 C12         0.9140    3.7560    0.2780 C.3       1 11U_ideal         0.0000\n",
      "Line24: 17 C13         1.9600    2.7850   -0.3250 C.3       1 11U_ideal         0.0000\n",
      "Line25: 18 N3         -1.9070    0.2990   -0.1490 N.am      1 11U_ideal         0.0000\n",
      "Line26: 19 C14        -2.6230   -0.6850   -0.9660 C.3       1 11U_ideal         0.0000\n",
      "Line27: 20 C15        -4.0860   -0.6660   -0.6070 C.ar      1 11U_ideal         0.0000\n",
      "Line28: 21 C16        -4.5620   -1.4980    0.3910 C.ar      1 11U_ideal         0.0000\n",
      "Line29: 22 C17        -5.9000   -1.4810    0.7270 C.ar      1 11U_ideal         0.0000\n",
      "Line30: 23 C18        -6.7750   -0.6300    0.0520 C.ar      1 11U_ideal         0.0000\n",
      "Line31: 24 C19        -8.2130   -0.6110    0.4050 C.2       1 11U_ideal         0.0000\n",
      "Line32: 25 N4         -9.0280    0.1840   -0.2270 N.2       1 11U_ideal         0.0000\n",
      "Line33: 26 N5         -8.6890   -1.4350    1.4020 N.pl3     1 11U_ideal         0.0000\n",
      "Line34: 27 C20        -6.2910    0.2030   -0.9560 C.ar      1 11U_ideal         0.0000\n",
      "Line35: 28 C21        -4.9490    0.1800   -1.2800 C.ar      1 11U_ideal         0.0000\n",
      "Line36: 29 H1          3.9330    0.7860   -1.1220 H         1 11U_ideal         0.0000\n",
      "Line37: 30 H2          4.3400    1.3220    0.5260 H         1 11U_ideal         0.0000\n",
      "Line38: 31 H3          4.4590   -1.0250    1.1430 H         1 11U_ideal         0.0000\n",
      "Line39: 32 H4          6.0800   -0.0050   -1.0690 H         1 11U_ideal         0.0000\n",
      "Line40: 33 H5          6.4040    0.9280    1.2050 H         1 11U_ideal         0.0000\n",
      "Line41: 34 H6          6.6750   -0.7130    1.8390 H         1 11U_ideal         0.0000\n",
      "Line42: 35 H7          8.8270    0.4390    1.4030 H         1 11U_ideal         0.0000\n",
      "Line43: 36 H8          8.3590    0.6690   -0.2990 H         1 11U_ideal         0.0000\n",
      "Line44: 37 H9          8.6770   -2.0190    1.1120 H         1 11U_ideal         0.0000\n",
      "Line45: 38 H10         9.8320   -1.3090   -0.0410 H         1 11U_ideal         0.0000\n",
      "Line46: 39 H11         8.3530   -2.9520   -1.1620 H         1 11U_ideal         0.0000\n",
      "Line47: 40 H12         8.0820   -1.3110   -1.7970 H         1 11U_ideal         0.0000\n",
      "Line48: 41 H13         6.3980   -2.6930    0.3420 H         1 11U_ideal         0.0000\n",
      "Line49: 42 H14         5.9300   -2.4630   -1.3600 H         1 11U_ideal         0.0000\n",
      "Line50: 43 H15         0.0300    1.2400    1.6000 H         1 11U_ideal         0.0000\n",
      "Line51: 44 H16        -1.0720    3.2080    1.0170 H         1 11U_ideal         0.0000\n",
      "Line52: 45 H17        -0.8360    2.9240   -0.7390 H         1 11U_ideal         0.0000\n",
      "Line53: 46 H18         1.1770    4.0280    1.3010 H         1 11U_ideal         0.0000\n",
      "Line54: 47 H19         0.8020    4.6440   -0.3440 H         1 11U_ideal         0.0000\n",
      "Line55: 48 H20         2.9630    3.0560    0.0040 H         1 11U_ideal         0.0000\n",
      "Line56: 49 H21         1.9020    2.7930   -1.4130 H         1 11U_ideal         0.0000\n",
      "Line57: 50 H22        -2.3900    0.8350    0.4990 H         1 11U_ideal         0.0000\n",
      "Line58: 51 H23        -2.5040   -0.4370   -2.0200 H         1 11U_ideal         0.0000\n",
      "Line59: 52 H24        -2.2160   -1.6780   -0.7780 H         1 11U_ideal         0.0000\n",
      "Line60: 53 H25        -3.8840   -2.1590    0.9100 H         1 11U_ideal         0.0000\n",
      "Line61: 54 H26        -6.2690   -2.1270    1.5090 H         1 11U_ideal         0.0000\n",
      "Line62: 55 H27        -9.9700    0.1960    0.0040 H         1 11U_ideal         0.0000\n",
      "Line63: 56 H28        -8.0820   -2.0270    1.8720 H         1 11U_ideal         0.0000\n",
      "Line64: 57 H29        -9.6310   -1.4220    1.6330 H         1 11U_ideal         0.0000\n",
      "Line65: 58 H30        -6.9630    0.8640   -1.4820 H         1 11U_ideal         0.0000\n",
      "Line66: 59 H31        -4.5730    0.8240   -2.0610 H         1 11U_ideal         0.0000\n",
      "Line67: @<TRIPOS>BOND\n",
      "Line68: 1    1   11 am\n",
      "Line69: 2   11   17 1\n",
      "Line70: 3   11   12 1\n",
      "Line71: 4    1    2 2\n",
      "Line72: 5    1    3 1\n",
      "Line73: 6   16   17 1\n",
      "Line74: 7   15   16 1\n",
      "Line75: 8   12   15 1\n",
      "Line76: 9   12   13 1\n",
      "Line77: 10   13   18 am\n",
      "Line78: 11   13   14 2\n",
      "Line79: 12   18   19 1\n",
      "Line80: 13   19   20 1\n",
      "Line81: 14   20   28 ar\n",
      "Line82: 15   20   21 ar\n",
      "Line83: 16   27   28 ar\n",
      "Line84: 17   23   27 ar\n",
      "Line85: 18   23   24 1\n",
      "Line86: 19   22   23 ar\n",
      "Line87: 20   24   25 2\n",
      "Line88: 21   24   26 1\n",
      "Line89: 22   21   22 ar\n",
      "Line90: 23    3    4 1\n",
      "Line91: 24    4    5 1\n",
      "Line92: 25    5   10 1\n",
      "Line93: 26    5    6 1\n",
      "Line94: 27    9   10 1\n",
      "Line95: 28    8    9 1\n",
      "Line96: 29    7    8 1\n",
      "Line97: 30    6    7 1\n",
      "Line98: 31    3   29 1\n",
      "Line99: 32    3   30 1\n",
      "Line100: 33   17   48 1\n",
      "Line101: 34   17   49 1\n",
      "Line102: 35   16   46 1\n",
      "Line103: 36   16   47 1\n",
      "Line104: 37   15   44 1\n",
      "Line105: 38   15   45 1\n",
      "Line106: 39   12   43 1\n",
      "Line107: 40   18   50 1\n",
      "Line108: 41   19   51 1\n",
      "Line109: 42   19   52 1\n",
      "Line110: 43   28   59 1\n",
      "Line111: 44   27   58 1\n",
      "Line112: 45   25   55 1\n",
      "Line113: 46   26   56 1\n",
      "Line114: 47   26   57 1\n",
      "Line115: 48   22   54 1\n",
      "Line116: 49   21   53 1\n",
      "Line117: 50    4   31 1\n",
      "Line118: 51    5   32 1\n",
      "Line119: 52   10   41 1\n",
      "Line120: 53   10   42 1\n",
      "Line121: 54    9   39 1\n",
      "Line122: 55    9   40 1\n",
      "Line123: 56    8   37 1\n",
      "Line124: 57    8   38 1\n",
      "Line125: 58    7   35 1\n",
      "Line126: 59    7   36 1\n",
      "Line127: 60    6   33 1\n",
      "Line128: 61    6   34 1\n"
     ]
    }
   ],
   "source": [
    "# Now we use these commands to read the file and make sure it downloaded properly. As an alternative, we\n",
    "# could go to the ligands folder in our Jupyter desktop and click on res11u.mol2 to make sure it looks correct.\n",
    "\n",
    "file1 = open('ligands/res11U.mol2', 'r')\n",
    "Lines = file1.readlines()\n",
    " \n",
    "count = 0\n",
    "# Strips the newline character\n",
    "for line in Lines:\n",
    "    count += 1\n",
    "    print(\"Line{}: {}\".format(count, line.strip()))"
   ]
  },
  {
   "cell_type": "markdown",
   "id": "35352b4b",
   "metadata": {},
   "source": [
    "### Downloading all of the ligands using a for loop\n",
    "\n",
    "Now that we know that our process functions, we will use a `for` loop to download the entire list of ligands (all 112) in a single cell. Here are the steps we will take:\n",
    "\n",
    "1. Define a variable, baseUrl, for the URL where the ligand files are located. The URL only lacks the specific name of the ligand file.\n",
    "2. Set up a `for` loop to go through each of the items (as ChemID) in the molResultL list that was generated above.\n",
    "3. Assign the filename based on a variable (the 3-letter name of the ligand as ChemID followed by \\_ideal.mol2) to the variable cFile.\n",
    "4. Assign the full URL (as cFileUrl) that we want to use to download the data from the RCSB PDB API. Notice that the URL will consist of the baseUrl (defined in the first line of the cell) followed by the name of the file we just defined, which is now assigned to the variable, cFile. \n",
    "5. Tell the notebook that we want the file (CFileLocal) to be written to the ligands folder, using the os.path command.\n",
    "6. Use the API call via `requests.get` to download the data from the RCSB PDB.\n",
    "7. Write the file using the `with open` function.\n",
    "\n",
    "If all goes according to plan, this should download all of the ligands on our list to the ligands folder.\n"
   ]
  },
  {
   "cell_type": "code",
   "execution_count": 133,
   "id": "b85d927b",
   "metadata": {},
   "outputs": [],
   "source": [
    "baseUrl = \"https://files.rcsb.org/ligands/download/\"\n",
    "\n",
    "for ChemID in molResultL:\n",
    "    cFile = f\"{ChemID}_ideal.mol2\"\n",
    "    cFileUrl = os.path.join(baseUrl, cFile)\n",
    "    cFileLocal = os.path.join(\"ligands\", cFile)\n",
    "    response = requests.get(cFileUrl)\n",
    "    with open(cFileLocal, \"wb\") as file:\n",
    "        file.write(response.content)"
   ]
  },
  {
   "cell_type": "markdown",
   "id": "4cd52fb0",
   "metadata": {},
   "source": [
    "### Selected ligands\n",
    "\n",
    "For our next notebook, we are going to select and modify one of the ligands from the list. Any of them could be used, but we will be using [BRV 5-amino-2,4,6-tribromobenzene-1,3-dicarboxylic acid](https://www.rcsb.org/ligand/BRV)."
   ]
  },
  {
   "cell_type": "code",
   "execution_count": null,
   "id": "21ce6be6",
   "metadata": {},
   "outputs": [],
   "source": []
  }
 ],
 "metadata": {
  "kernelspec": {
   "display_name": "Python 3 (ipykernel)",
   "language": "python",
   "name": "python3"
  },
  "language_info": {
   "codemirror_mode": {
    "name": "ipython",
    "version": 3
   },
   "file_extension": ".py",
   "mimetype": "text/x-python",
   "name": "python",
   "nbconvert_exporter": "python",
   "pygments_lexer": "ipython3",
   "version": "3.10.9"
  }
 },
 "nbformat": 4,
 "nbformat_minor": 5
}
